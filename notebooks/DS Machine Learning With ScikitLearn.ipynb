{
 "cells": [
  {
   "cell_type": "code",
   "execution_count": 24,
   "id": "a0a70300-9cd6-495a-a09e-eae7d116bc3a",
   "metadata": {},
   "outputs": [
    {
     "name": "stdout",
     "output_type": "stream",
     "text": [
      "Requirement already satisfied: numpy in /home/nickdg/miniconda3/lib/python3.9/site-packages (1.23.5)\n",
      "Requirement already satisfied: pandas in /home/nickdg/miniconda3/lib/python3.9/site-packages (1.4.4)\n",
      "Requirement already satisfied: seaborn in /home/nickdg/miniconda3/lib/python3.9/site-packages (0.12.1)\n",
      "Requirement already satisfied: scikit-learn in /home/nickdg/miniconda3/lib/python3.9/site-packages (1.0.2)\n",
      "Requirement already satisfied: matplotlib in /home/nickdg/miniconda3/lib/python3.9/site-packages (3.6.2)\n",
      "Requirement already satisfied: pytz>=2020.1 in /home/nickdg/miniconda3/lib/python3.9/site-packages (from pandas) (2022.2.1)\n",
      "Requirement already satisfied: python-dateutil>=2.8.1 in /home/nickdg/miniconda3/lib/python3.9/site-packages (from pandas) (2.8.2)\n",
      "Requirement already satisfied: scipy>=1.1.0 in /home/nickdg/miniconda3/lib/python3.9/site-packages (from scikit-learn) (1.9.3)\n",
      "Requirement already satisfied: threadpoolctl>=2.0.0 in /home/nickdg/miniconda3/lib/python3.9/site-packages (from scikit-learn) (3.1.0)\n",
      "Requirement already satisfied: joblib>=0.11 in /home/nickdg/miniconda3/lib/python3.9/site-packages (from scikit-learn) (1.2.0)\n",
      "Requirement already satisfied: cycler>=0.10 in /home/nickdg/miniconda3/lib/python3.9/site-packages (from matplotlib) (0.11.0)\n",
      "Requirement already satisfied: packaging>=20.0 in /home/nickdg/miniconda3/lib/python3.9/site-packages (from matplotlib) (21.3)\n",
      "Requirement already satisfied: pillow>=6.2.0 in /home/nickdg/miniconda3/lib/python3.9/site-packages (from matplotlib) (9.2.0)\n",
      "Requirement already satisfied: fonttools>=4.22.0 in /home/nickdg/miniconda3/lib/python3.9/site-packages (from matplotlib) (4.37.2)\n",
      "Requirement already satisfied: kiwisolver>=1.0.1 in /home/nickdg/miniconda3/lib/python3.9/site-packages (from matplotlib) (1.4.4)\n",
      "Requirement already satisfied: pyparsing>=2.2.1 in /home/nickdg/miniconda3/lib/python3.9/site-packages (from matplotlib) (3.0.9)\n",
      "Requirement already satisfied: contourpy>=1.0.1 in /home/nickdg/miniconda3/lib/python3.9/site-packages (from matplotlib) (1.0.5)\n",
      "Requirement already satisfied: six>=1.5 in /home/nickdg/miniconda3/lib/python3.9/site-packages (from python-dateutil>=2.8.1->pandas) (1.16.0)\n",
      "Note: you may need to restart the kernel to use updated packages.\n"
     ]
    }
   ],
   "source": [
    "%pip install numpy pandas seaborn scikit-learn matplotlib"
   ]
  },
  {
   "cell_type": "code",
   "execution_count": 25,
   "id": "3996c77d-b97a-47c2-af88-46859051773e",
   "metadata": {},
   "outputs": [],
   "source": [
    "import numpy as np\n",
    "import pandas as pd\n",
    "import matplotlib.pyplot as plt\n",
    "import seaborn as sns"
   ]
  },
  {
   "cell_type": "markdown",
   "id": "a9693932-67f3-413d-969e-a81d9733691b",
   "metadata": {},
   "source": [
    "### Intro to [Scikit-Learn](https://scikit-learn.org/stable/): Linear Regression\n",
    "\n",
    "Scikit-Learn is a massive library of machine learning models, data preprocessing helpers, and model measurement tools; most of its functions follow the same pattern we've used in other libraries:\n",
    "\n",
    "```python\n",
    "model = MyModel(params)\n",
    "model.fit(X, y)\n",
    "```\n",
    "\n",
    "The main addition: Prediction!\n",
    "\n",
    "```python\n",
    "y_prediction = model.predict(X)\n",
    "```\n",
    "\n",
    "Scikit-learn is organized into various subpackages that contain different types of models or functions.  Models are always title-cased.  Here, let's do some linear regression using the `linear_model` subpackage.  "
   ]
  },
  {
   "cell_type": "markdown",
   "id": "5220c71d-277b-41cd-87d0-f3b669d6ae46",
   "metadata": {},
   "source": [
    "**Exercises**"
   ]
  },
  {
   "cell_type": "markdown",
   "id": "0a1d1d43-6281-441e-9225-b415df25a49f",
   "metadata": {},
   "source": [
    "**Toy Data**: Let's start by using the pre-created data below:"
   ]
  },
  {
   "cell_type": "code",
   "execution_count": 10,
   "id": "d33f7eac-e8e9-4435-9d80-8d0d90630aed",
   "metadata": {},
   "outputs": [
    {
     "name": "stderr",
     "output_type": "stream",
     "text": [
      "/home/nickdg/miniconda3/lib/python3.9/site-packages/pandas/plotting/_matplotlib/core.py:1114: UserWarning: No data for colormapping provided via 'c'. Parameters 'cmap' will be ignored\n",
      "  scatter = ax.scatter(\n"
     ]
    },
    {
     "data": {
      "text/html": [
       "<div>\n",
       "<style scoped>\n",
       "    .dataframe tbody tr th:only-of-type {\n",
       "        vertical-align: middle;\n",
       "    }\n",
       "\n",
       "    .dataframe tbody tr th {\n",
       "        vertical-align: top;\n",
       "    }\n",
       "\n",
       "    .dataframe thead th {\n",
       "        text-align: right;\n",
       "    }\n",
       "</style>\n",
       "<table border=\"1\" class=\"dataframe\">\n",
       "  <thead>\n",
       "    <tr style=\"text-align: right;\">\n",
       "      <th></th>\n",
       "      <th>a</th>\n",
       "      <th>b</th>\n",
       "    </tr>\n",
       "  </thead>\n",
       "  <tbody>\n",
       "    <tr>\n",
       "      <th>0</th>\n",
       "      <td>1.116916</td>\n",
       "      <td>5.591011</td>\n",
       "    </tr>\n",
       "    <tr>\n",
       "      <th>1</th>\n",
       "      <td>3.283996</td>\n",
       "      <td>12.517545</td>\n",
       "    </tr>\n",
       "    <tr>\n",
       "      <th>2</th>\n",
       "      <td>3.240715</td>\n",
       "      <td>9.235468</td>\n",
       "    </tr>\n",
       "    <tr>\n",
       "      <th>3</th>\n",
       "      <td>2.710862</td>\n",
       "      <td>7.872526</td>\n",
       "    </tr>\n",
       "    <tr>\n",
       "      <th>4</th>\n",
       "      <td>-2.748773</td>\n",
       "      <td>-8.464353</td>\n",
       "    </tr>\n",
       "  </tbody>\n",
       "</table>\n",
       "</div>"
      ],
      "text/plain": [
       "          a          b\n",
       "0  1.116916   5.591011\n",
       "1  3.283996  12.517545\n",
       "2  3.240715   9.235468\n",
       "3  2.710862   7.872526\n",
       "4 -2.748773  -8.464353"
      ]
     },
     "execution_count": 10,
     "metadata": {},
     "output_type": "execute_result"
    },
    {
     "data": {
      "image/png": "[encoded data removed]",
      "text/plain": [
       "<Figure size 432x288 with 1 Axes>"
      ]
     },
     "metadata": {
      "needs_background": "light"
     },
     "output_type": "display_data"
    }
   ],
   "source": [
    "np.random.seed(20)\n",
    "data = pd.DataFrame()\n",
    "data['a'] = np.random.uniform(-3, 4, 30)\n",
    "data['b'] = data['a'] * 3 + np.random.normal(0, 2, 30)\n",
    "data.plot.scatter(x='a', y='b');\n",
    "data.head()"
   ]
  },
  {
   "cell_type": "markdown",
   "id": "a81cab2a-f7ee-4452-ad47-3f52e00f9de7",
   "metadata": {},
   "source": [
    "Pick a model from the `linear_model` submodule and fit it to the data with the `fit()` method. (A simple starter: `linear_model.LinearRegression`)"
   ]
  },
  {
   "cell_type": "code",
   "execution_count": 8,
   "id": "f8fb6bfd-3147-4652-b9e1-2f8e3dd1f092",
   "metadata": {},
   "outputs": [],
   "source": [
    "from sklearn import linear_model, metrics"
   ]
  },
  {
   "cell_type": "code",
   "execution_count": null,
   "id": "af6156ba-0e58-4fbc-9d49-71fae99bf381",
   "metadata": {},
   "outputs": [],
   "source": []
  },
  {
   "cell_type": "markdown",
   "id": "57982c72-e94c-4efa-93e4-04c600a62285",
   "metadata": {},
   "source": [
    "Plot the regression line through the data.  Use your fitted model to predict values between -3 and 3, and plot that prediction as a line.  Done!"
   ]
  },
  {
   "cell_type": "code",
   "execution_count": null,
   "id": "4668f1ae-7e6e-49e2-8608-526e7030521e",
   "metadata": {},
   "outputs": [],
   "source": []
  },
  {
   "cell_type": "markdown",
   "id": "7a86c50e-20b2-4e27-bee7-5ebb054d9905",
   "metadata": {},
   "source": [
    "How accurate was this prediction?  The `sklearn.metrics` submodule has a lot of different functions for measuring the accuracy of various predictions. \n",
    "\n",
    "Three useful accuracy/error metrics here are:\n",
    "\n",
    "| Function | Explanation |\n",
    "| :------- | :---------  |\n",
    "| `mean_absolute_error()` | How off the prediction is on average (just subtracts distance between true and predicted values), lower is better | \n",
    "| `mean_squared_error()` | How off the prediction is on average, weighting large errors higher, lower is better |\n",
    "| `r2_score`  | How much of the variance is explained by the regression, higher is better |"
   ]
  },
  {
   "cell_type": "code",
   "execution_count": 58,
   "id": "4187c5f8-ed86-40ce-b1b4-e9a11616b604",
   "metadata": {},
   "outputs": [],
   "source": [
    "from sklearn import metrics"
   ]
  },
  {
   "cell_type": "markdown",
   "id": "d1179af0-8783-4d4d-b9c3-766f7183d505",
   "metadata": {},
   "source": [
    "What is the mean squared error of this model's predictions against the true 'b' value?"
   ]
  },
  {
   "cell_type": "code",
   "execution_count": 59,
   "id": "69a99ba5-71bc-40a1-826a-bf70b116f506",
   "metadata": {
    "tags": [
     "exercise"
    ]
   },
   "outputs": [
    {
     "data": {
      "text/plain": [
       "1.9482426907337538"
      ]
     },
     "execution_count": 59,
     "metadata": {},
     "output_type": "execute_result"
    }
   ],
   "source": [
    "metrics.mean_absolute_error(data.b, predicted_b)"
   ]
  },
  {
   "cell_type": "markdown",
   "id": "39b5e689-4cde-4b90-bf93-77c033aa58ec",
   "metadata": {},
   "source": [
    "What is the mean absolute error of this model's predictions against the true 'b' value?"
   ]
  },
  {
   "cell_type": "code",
   "execution_count": 60,
   "id": "1fb5e7c2-9fec-431f-a8fc-266d6853cd91",
   "metadata": {
    "tags": [
     "exercise"
    ]
   },
   "outputs": [
    {
     "data": {
      "text/plain": [
       "5.275307832573942"
      ]
     },
     "execution_count": 60,
     "metadata": {},
     "output_type": "execute_result"
    }
   ],
   "source": [
    "metrics.mean_squared_error(data.b, predicted_b)"
   ]
  },
  {
   "cell_type": "markdown",
   "id": "729e81ac-46b5-445f-8687-91ea450ba7af",
   "metadata": {},
   "source": [
    "What is the r-squared value of this model's predictions against the true 'b' value?"
   ]
  },
  {
   "cell_type": "code",
   "execution_count": 61,
   "id": "bc3c9113-7ead-4369-8f14-3460d59f2534",
   "metadata": {
    "tags": [
     "exercise"
    ]
   },
   "outputs": [
    {
     "data": {
      "text/plain": [
       "0.8798884045090329"
      ]
     },
     "execution_count": 61,
     "metadata": {},
     "output_type": "execute_result"
    }
   ],
   "source": [
    "metrics.r2_score(data.b, predicted_b)"
   ]
  },
  {
   "cell_type": "markdown",
   "id": "1a452d59-7989-40ad-a428-240bbdce91b2",
   "metadata": {},
   "source": [
    "**Toy Dataset 2**"
   ]
  },
  {
   "cell_type": "code",
   "execution_count": 12,
   "id": "63404c29-1ab1-4442-bab3-89ad348fb0c3",
   "metadata": {},
   "outputs": [
    {
     "name": "stderr",
     "output_type": "stream",
     "text": [
      "/home/nickdg/miniconda3/lib/python3.9/site-packages/pandas/plotting/_matplotlib/core.py:1114: UserWarning: No data for colormapping provided via 'c'. Parameters 'cmap' will be ignored\n",
      "  scatter = ax.scatter(\n"
     ]
    },
    {
     "data": {
      "image/png": "[encoded data removed]",
      "text/plain": [
       "<Figure size 432x288 with 1 Axes>"
      ]
     },
     "metadata": {
      "needs_background": "light"
     },
     "output_type": "display_data"
    }
   ],
   "source": [
    "np.random.seed(20)\n",
    "data = pd.DataFrame()\n",
    "data['a'] = np.random.uniform(-3, 4, 30)\n",
    "data['b'] = np.random.uniform(-3, 4, 30)\n",
    "data['c'] = data['a'] * 3 + data['b'] * -7 + np.random.normal(0, 1, 30)\n",
    "\n",
    "data.plot.scatter(x='a', y='c');"
   ]
  },
  {
   "cell_type": "markdown",
   "id": "d44c75eb-d9df-4297-9f79-1d8acc630a43",
   "metadata": {},
   "source": [
    "Fit three linear regression models: \n",
    "\n",
    "  1. One that predicts the `c` column using information from just the `a` column\n",
    "  2. One that predicts the `c` column using information from just the `b` column\n",
    "  3. One that predicts the `c` column using information from both the `a` and `b` columns\n",
    "  \n",
    "Which of the three models explains the most of the data's variance?"
   ]
  },
  {
   "cell_type": "code",
   "execution_count": null,
   "id": "b93a43f3-ca21-404f-b78c-d06810f90b5c",
   "metadata": {},
   "outputs": [],
   "source": []
  },
  {
   "cell_type": "code",
   "execution_count": null,
   "id": "b44bc560-40c6-472f-a656-38ed00edb8fc",
   "metadata": {},
   "outputs": [],
   "source": []
  },
  {
   "cell_type": "code",
   "execution_count": null,
   "id": "96a9fdff-1c89-40c4-9f21-03a1020ac1f5",
   "metadata": {},
   "outputs": [],
   "source": []
  },
  {
   "cell_type": "code",
   "execution_count": null,
   "id": "39bb349c-ec9f-4ecd-96de-f7e2264be909",
   "metadata": {},
   "outputs": [],
   "source": []
  },
  {
   "cell_type": "markdown",
   "id": "d9adc24e-46d5-4d08-a448-11e9fee56f2c",
   "metadata": {},
   "source": [
    "### Classification using Supervised Learning\n",
    "\n",
    "Okay, let's try out scikit learn on another type of model: classification through clustering!"
   ]
  },
  {
   "cell_type": "markdown",
   "id": "c09a99f0-26f5-4778-9438-1b1974bc0977",
   "metadata": {},
   "source": [
    "#### Situation\n",
    "\n",
    "You've noticed that some of your data wasn't labelled with the species!  Maybe you should just throw the data away, but you think that you might be able to salvage the unlabelled data by using information about the sepal and petal to make educated guesses about the species.  If you can be confident that your guesses are more than 95% accurate, then you'll be confident combining the labelled and unlabelled data into a bigger dataset for your analysis."
   ]
  },
  {
   "cell_type": "markdown",
   "id": "c1780cd6-0726-41f1-a044-7df18383a774",
   "metadata": {},
   "source": [
    "#### Load Data\n",
    "\n",
    "To simulate this situation where some data is unlabelled, below I'm removing the labels (\"species\") from 15% of the rows.  Now we have two datasets to use: `known` and `unknown`."
   ]
  },
  {
   "cell_type": "code",
   "execution_count": 18,
   "id": "52afc419-a291-4a44-ba76-7f13e357bfd6",
   "metadata": {},
   "outputs": [
    {
     "data": {
      "text/html": [
       "<div>\n",
       "<style scoped>\n",
       "    .dataframe tbody tr th:only-of-type {\n",
       "        vertical-align: middle;\n",
       "    }\n",
       "\n",
       "    .dataframe tbody tr th {\n",
       "        vertical-align: top;\n",
       "    }\n",
       "\n",
       "    .dataframe thead th {\n",
       "        text-align: right;\n",
       "    }\n",
       "</style>\n",
       "<table border=\"1\" class=\"dataframe\">\n",
       "  <thead>\n",
       "    <tr style=\"text-align: right;\">\n",
       "      <th></th>\n",
       "      <th>sepal_length</th>\n",
       "      <th>sepal_width</th>\n",
       "      <th>petal_length</th>\n",
       "      <th>petal_width</th>\n",
       "    </tr>\n",
       "  </thead>\n",
       "  <tbody>\n",
       "    <tr>\n",
       "      <th>117</th>\n",
       "      <td>7.7</td>\n",
       "      <td>3.8</td>\n",
       "      <td>6.7</td>\n",
       "      <td>2.2</td>\n",
       "    </tr>\n",
       "    <tr>\n",
       "      <th>76</th>\n",
       "      <td>6.8</td>\n",
       "      <td>2.8</td>\n",
       "      <td>4.8</td>\n",
       "      <td>1.4</td>\n",
       "    </tr>\n",
       "    <tr>\n",
       "      <th>130</th>\n",
       "      <td>7.4</td>\n",
       "      <td>2.8</td>\n",
       "      <td>6.1</td>\n",
       "      <td>1.9</td>\n",
       "    </tr>\n",
       "    <tr>\n",
       "      <th>142</th>\n",
       "      <td>5.8</td>\n",
       "      <td>2.7</td>\n",
       "      <td>5.1</td>\n",
       "      <td>1.9</td>\n",
       "    </tr>\n",
       "    <tr>\n",
       "      <th>62</th>\n",
       "      <td>6.0</td>\n",
       "      <td>2.2</td>\n",
       "      <td>4.0</td>\n",
       "      <td>1.0</td>\n",
       "    </tr>\n",
       "  </tbody>\n",
       "</table>\n",
       "</div>"
      ],
      "text/plain": [
       "     sepal_length  sepal_width  petal_length  petal_width\n",
       "117           7.7          3.8           6.7          2.2\n",
       "76            6.8          2.8           4.8          1.4\n",
       "130           7.4          2.8           6.1          1.9\n",
       "142           5.8          2.7           5.1          1.9\n",
       "62            6.0          2.2           4.0          1.0"
      ]
     },
     "execution_count": 18,
     "metadata": {},
     "output_type": "execute_result"
    }
   ],
   "source": [
    "from bokeh.sampledata.iris import flowers\n",
    "\n",
    "np.random.seed(22)\n",
    "unknown = flowers.groupby('species').sample(frac=0.15).drop(columns='species')\n",
    "unknown.sample(5)"
   ]
  },
  {
   "cell_type": "code",
   "execution_count": 19,
   "id": "fb0a7649-e949-48ff-ac6a-cea1b7053a2e",
   "metadata": {},
   "outputs": [
    {
     "data": {
      "text/html": [
       "<div>\n",
       "<style scoped>\n",
       "    .dataframe tbody tr th:only-of-type {\n",
       "        vertical-align: middle;\n",
       "    }\n",
       "\n",
       "    .dataframe tbody tr th {\n",
       "        vertical-align: top;\n",
       "    }\n",
       "\n",
       "    .dataframe thead th {\n",
       "        text-align: right;\n",
       "    }\n",
       "</style>\n",
       "<table border=\"1\" class=\"dataframe\">\n",
       "  <thead>\n",
       "    <tr style=\"text-align: right;\">\n",
       "      <th></th>\n",
       "      <th>sepal_length</th>\n",
       "      <th>sepal_width</th>\n",
       "      <th>petal_length</th>\n",
       "      <th>petal_width</th>\n",
       "      <th>species</th>\n",
       "    </tr>\n",
       "  </thead>\n",
       "  <tbody>\n",
       "    <tr>\n",
       "      <th>1</th>\n",
       "      <td>4.9</td>\n",
       "      <td>3.0</td>\n",
       "      <td>1.4</td>\n",
       "      <td>0.2</td>\n",
       "      <td>setosa</td>\n",
       "    </tr>\n",
       "    <tr>\n",
       "      <th>5</th>\n",
       "      <td>5.4</td>\n",
       "      <td>3.9</td>\n",
       "      <td>1.7</td>\n",
       "      <td>0.4</td>\n",
       "      <td>setosa</td>\n",
       "    </tr>\n",
       "    <tr>\n",
       "      <th>121</th>\n",
       "      <td>5.6</td>\n",
       "      <td>2.8</td>\n",
       "      <td>4.9</td>\n",
       "      <td>2.0</td>\n",
       "      <td>virginica</td>\n",
       "    </tr>\n",
       "    <tr>\n",
       "      <th>82</th>\n",
       "      <td>5.8</td>\n",
       "      <td>2.7</td>\n",
       "      <td>3.9</td>\n",
       "      <td>1.2</td>\n",
       "      <td>versicolor</td>\n",
       "    </tr>\n",
       "    <tr>\n",
       "      <th>36</th>\n",
       "      <td>5.5</td>\n",
       "      <td>3.5</td>\n",
       "      <td>1.3</td>\n",
       "      <td>0.2</td>\n",
       "      <td>setosa</td>\n",
       "    </tr>\n",
       "  </tbody>\n",
       "</table>\n",
       "</div>"
      ],
      "text/plain": [
       "     sepal_length  sepal_width  petal_length  petal_width     species\n",
       "1             4.9          3.0           1.4          0.2      setosa\n",
       "5             5.4          3.9           1.7          0.4      setosa\n",
       "121           5.6          2.8           4.9          2.0   virginica\n",
       "82            5.8          2.7           3.9          1.2  versicolor\n",
       "36            5.5          3.5           1.3          0.2      setosa"
      ]
     },
     "execution_count": 19,
     "metadata": {},
     "output_type": "execute_result"
    }
   ],
   "source": [
    "known = flowers.drop(unknown.index)\n",
    "known.sample(5)"
   ]
  },
  {
   "cell_type": "markdown",
   "id": "8e3155ee-4341-44db-ac05-abe4224b1569",
   "metadata": {},
   "source": [
    "Our goal: using what we know about the species in the `known` dataset, guess the species name for each flower in the `unknown` dataset~"
   ]
  },
  {
   "cell_type": "markdown",
   "id": "f6725d7e-a46a-49ac-a1d8-5d762dfc882c",
   "metadata": {},
   "source": [
    "#### Classification using the KNeighborsClassifier Model\n",
    "\n",
    "**Exercise**: Using the model imported below, fit a model that predicts species on the known dataset with at least 95% accuracy."
   ]
  },
  {
   "cell_type": "markdown",
   "id": "5efe0c0a-b48a-4f6e-a2a2-323c3b1c3f33",
   "metadata": {},
   "source": [
    "Fit the KNeighborsClassifier model on `known` and use `accuracy_score()` to check how accurate it was."
   ]
  },
  {
   "cell_type": "code",
   "execution_count": 10,
   "id": "850ff362-bb84-45f5-8a8d-f7044de7a314",
   "metadata": {},
   "outputs": [],
   "source": [
    "from sklearn.neighbors import KNeighborsClassifier\n",
    "from sklearn.metrics import accuracy_score"
   ]
  },
  {
   "cell_type": "code",
   "execution_count": 111,
   "id": "895d35e5-811c-44b3-836f-a6a0bb36542a",
   "metadata": {
    "tags": [
     "exercise"
    ]
   },
   "outputs": [
    {
     "data": {
      "text/plain": [
       "KNeighborsClassifier()"
      ]
     },
     "execution_count": 111,
     "metadata": {},
     "output_type": "execute_result"
    }
   ],
   "source": [
    "model = KNeighborsClassifier(n_neighbors=5)\n",
    "model.fit(known[known.columns[:4]], known['species'])"
   ]
  },
  {
   "cell_type": "markdown",
   "id": "aa9af5f5-2057-43f8-a0bf-f78c6e71a487",
   "metadata": {},
   "source": [
    "Use the fitted model to predict species on the `unknown` data:"
   ]
  },
  {
   "cell_type": "code",
   "execution_count": 112,
   "id": "93806db6-cb71-4c6e-a7f7-f608c851e932",
   "metadata": {
    "tags": [
     "exercise"
    ]
   },
   "outputs": [],
   "source": [
    "prediction = model.predict(unknown[unknown.columns[:4]])"
   ]
  },
  {
   "cell_type": "markdown",
   "id": "fd62041c-577e-43ba-a2e0-a35beb3be1cd",
   "metadata": {},
   "source": [
    "Sanity check: plot the labels and see if it the labels make sense to you.  "
   ]
  },
  {
   "cell_type": "code",
   "execution_count": 113,
   "id": "bdde1fe6-6ad8-4009-8a34-39ca24ed4137",
   "metadata": {},
   "outputs": [
    {
     "data": {
      "text/plain": [
       "<matplotlib.legend.Legend at 0x15793a816d0>"
      ]
     },
     "execution_count": 113,
     "metadata": {},
     "output_type": "execute_result"
    },
    {
     "data": {
      "image/png": "[encoded data removed]",
      "text/plain": [
       "<Figure size 432x288 with 1 Axes>"
      ]
     },
     "metadata": {
      "needs_background": "light"
     },
     "output_type": "display_data"
    }
   ],
   "source": [
    "known['group'] = 'known'\n",
    "unknown['group'] = 'unknown'\n",
    "unknown['species'] = prediction\n",
    "df = pd.concat([known, unknown])\n",
    "sns.scatterplot(data=df, x='sepal_length', y='sepal_width', hue='species', style='group'); \n",
    "plt.legend(bbox_to_anchor=(1.05, 1), loc=2, borderaxespad=0.)"
   ]
  },
  {
   "cell_type": "markdown",
   "id": "00dbc4b7-fd62-44b3-98bf-c77fc2782345",
   "metadata": {},
   "source": [
    "#### Discussion Question: How Accurately did the model predict species on the unknown data?"
   ]
  },
  {
   "cell_type": "markdown",
   "id": "4795dfc7-9e8c-4830-aabb-f2c51f10e211",
   "metadata": {},
   "source": [
    "#### Quality Control: Splitting Data into Training and Test Datasets\n",
    "\n",
    "Scikit learn has a function that makes it straightforward to split your data into a training and test dataset:\n",
    "\n",
    "```python\n",
    "from sklearn import model_selection\n",
    "train, test = model_selection.train_test_split(data)\n",
    "```\n",
    "\n",
    "Using this approach, you can see how well the data makes predictions on data isn't *wasn't trained on*, which helps pick models that are likely to work on other untrained data.  This is the main idea behind \"cross-validation\", and helps prevent selecting overtrained models."
   ]
  },
  {
   "cell_type": "markdown",
   "id": "708e2599-50e6-4ed3-8edf-9d11a62ab495",
   "metadata": {},
   "source": [
    "**Exercises**\n",
    "\n",
    "Re-train a model on only a subset of the known data and measure its accuracy on the rest.  Is the accuracy on the test data higher, lower, or the same as the accuracy on the train data?"
   ]
  },
  {
   "cell_type": "code",
   "execution_count": null,
   "id": "054296df-23b9-4dcd-af21-19545912af76",
   "metadata": {},
   "outputs": [],
   "source": []
  },
  {
   "cell_type": "markdown",
   "id": "8f4ebd56-09c8-46da-a47d-b3ac87c55774",
   "metadata": {},
   "source": [
    "Make a dataset that combines the known and unknown data (with the predicted species for the unkown data), adding a new column to help show which rows comes from which dataset.  Make a plot showing the two variables you picked in this new dataset using `seaborn.scatterplot()` and check whether the labels seem correct in the plot (tip: `style` maybe a useful attribute for the labels)."
   ]
  },
  {
   "cell_type": "code",
   "execution_count": null,
   "id": "77ed1bc0-4ca2-4dec-9e21-1088f36de36f",
   "metadata": {},
   "outputs": [],
   "source": []
  },
  {
   "cell_type": "markdown",
   "id": "05a5ab0e-6d64-4a1f-aff5-61f3c903fb8b",
   "metadata": {},
   "source": [
    "You think you can build a good classification model that uses only two of the features in the dataset, but you're not sure which two to pick.  Find the best pair of columns that classify the species."
   ]
  },
  {
   "cell_type": "code",
   "execution_count": null,
   "id": "47700d0d-6460-439c-9738-aa869a4dd7b7",
   "metadata": {},
   "outputs": [],
   "source": []
  },
  {
   "cell_type": "markdown",
   "id": "58a7d25c-8476-491a-936e-35507759ec03",
   "metadata": {},
   "source": [
    "#### Saving the Model\n",
    "\n",
    "Hey, we have a really useful machine learning model now; it would be great to be able to use it in the future or in other scripts!  The model can be saved to a file as a Python object using the `joblib` package.\n",
    "\n",
    "```python\n",
    "from joblib import dump, load\n",
    "dump(model, 'MyAwesomeModel.joblib')  # save the model to a file\n",
    "loaded_model = load('MyAwesomeModel.joblib')  # load the model from a file\n",
    "```"
   ]
  },
  {
   "cell_type": "markdown",
   "id": "d7e9b4a2-9983-4363-ac6b-e1516d0ea4a0",
   "metadata": {},
   "source": [
    "**Exercise**\n",
    "\n",
    "Save your classification model to a joblib file:"
   ]
  },
  {
   "cell_type": "markdown",
   "id": "d4f2e269-fac9-4e29-8a4e-9557033c1255",
   "metadata": {},
   "source": []
  },
  {
   "cell_type": "markdown",
   "id": "f999f17b-c67c-410e-a131-8b49aad31c69",
   "metadata": {},
   "source": [
    "Save the unlabelled data to a file:"
   ]
  },
  {
   "cell_type": "code",
   "execution_count": null,
   "id": "403c3505-8966-4e15-adfd-0dcec70ef4d5",
   "metadata": {},
   "outputs": [],
   "source": []
  },
  {
   "cell_type": "markdown",
   "id": "2403468f-0ed0-4472-a7e1-2e18951184b9",
   "metadata": {},
   "source": [
    "Open up a blank notebook, load the data and the model, fit the data to the model, and plot the results."
   ]
  },
  {
   "cell_type": "code",
   "execution_count": null,
   "id": "721241b6-25ee-4bfa-95a0-f9893396a15a",
   "metadata": {},
   "outputs": [],
   "source": []
  }
 ],
 "metadata": {
  "kernelspec": {
   "display_name": "Python 3",
   "language": "python",
   "name": "python3"
  },
  "language_info": {
   "codemirror_mode": {
    "name": "ipython",
    "version": 3
   },
   "file_extension": ".py",
   "mimetype": "text/x-python",
   "name": "python",
   "nbconvert_exporter": "python",
   "pygments_lexer": "ipython3",
   "version": "3.9.12"
  }
 },
 "nbformat": 4,
 "nbformat_minor": 5
}
