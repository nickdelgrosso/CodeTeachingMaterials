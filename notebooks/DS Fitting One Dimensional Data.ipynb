{
 "cells": [
  {
   "cell_type": "code",
   "execution_count": 171,
   "id": "6a88e6f9-4980-406c-9a66-8ff74d60c5e1",
   "metadata": {},
   "outputs": [],
   "source": [
    "import matplotlib.pyplot as plt\n",
    "import numpy as np\n",
    "from scipy import stats"
   ]
  },
  {
   "cell_type": "markdown",
   "id": "72a4e48b-e502-46a5-85eb-285d8b3c4645",
   "metadata": {},
   "source": [
    "### Random Variable Generation from Statistical Distributions"
   ]
  },
  {
   "cell_type": "markdown",
   "id": "483063fd-4a20-4b34-956c-496872f65357",
   "metadata": {},
   "source": [
    "### [With numpy.random](https://numpy.org/doc/1.16/reference/routines.random.html#distributions)\n",
    "\n",
    "To generate random data, we don't have to look far; the numpy.random module has random generation functions drawn from dozens of standard statistical distributions.\n",
    "\n",
    "These distributions take two kinds of parameters:\n",
    "  - **Model Parameters**: The parameters that determine the values that are generated.\n",
    "    - Every statistical distribution has its own number and names of parameters, which should be referenced before using the function.  \n",
    "    - To make it easier to interpret the parameters, Numpy uses the parameter names used by the [**Statistical Distribution Section of the Engineering Statistics Handbook**](https://www.itl.nist.gov/div898/handbook/eda/section3/eda366.htm) (e.g. \"location\", \"scale\", and \"shape\" parameters)  \n",
    "  - **Generation Parameters**: The parameters that determine the amount of data that is generated.\n",
    "    - In Numpy, this is usually **\"size\"**.  `size=100` means \"Generate an array of 100 numbers.\"\n",
    "  \n",
    "  \n",
    "#### Some of the Distributions We'll Use Today\n",
    "\n",
    "| Function | Distribution |  Example   | Handbook Link |\n",
    "| :------- | :----------- |  :-------- | :------------ |\n",
    "| [`normal()`](https://numpy.org/doc/stable/reference/random/generated/numpy.random.normal.html) | Normal Distribution | `normal(loc=1, scale=2, size=100)` | [![](https://www.itl.nist.gov/div898/handbook/eda/section3/gif100/norpdf.jpg)](https://www.itl.nist.gov/div898/handbook/eda/section3/eda3661.htm) |\n",
    "| `lognormal()` | Log-Normal Distribution | `lognormal(loc=1, scale=2, size=100)` | [![](https://www.itl.nist.gov/div898/handbook/eda/section3/gif100/lgnpdf.gif)](https://www.itl.nist.gov/div898/handbook/eda/section3/eda3669.htm)  |\n",
    "| `uniform()` | Uniform Distribution | `uniform(low=2, high=5, size=100)` | [![](https://www.itl.nist.gov/div898/handbook/eda/section3/gif100/unipdf.jpg)](https://www.itl.nist.gov/div898/handbook/eda/section3/eda3662.htm) |\n",
    "| `chisquare()` | Chi-Square Distribution | `chisquare(df=5, size=100)` | [![](https://www.itl.nist.gov/div898/handbook/eda/section3/gif100/chspdf.jpg)](https://www.itl.nist.gov/div898/handbook/eda/section3/eda3666.htm) |\n",
    "| ``\n"
   ]
  },
  {
   "cell_type": "markdown",
   "id": "d1e4ae1a-36c8-4f50-8e22-d3b5abf7e7b3",
   "metadata": {},
   "source": [
    "**Exercises**\n",
    "\n",
    "Generate arrays of random data with the requested parameters, and plot their histograms. Please generate enough data and use enough histogram bins so that the distribution's shape can be clearly seen."
   ]
  },
  {
   "cell_type": "markdown",
   "id": "b26ce74c-6263-4d78-a3df-c63ecff6b8ec",
   "metadata": {},
   "source": [
    "Example: Plot a uniform distribution of values between two and five."
   ]
  },
  {
   "cell_type": "code",
   "execution_count": 172,
   "id": "214c7230-7300-4b5b-a30c-b6658fd0e369",
   "metadata": {},
   "outputs": [
    {
     "data": {
      "image/png": "[encoded data removed]",
      "text/plain": [
       "<Figure size 432x288 with 1 Axes>"
      ]
     },
     "metadata": {
      "needs_background": "light"
     },
     "output_type": "display_data"
    }
   ],
   "source": [
    "x = np.random.uniform(low=2, high=5, size=100000)\n",
    "plt.hist(x, bins=60, histtype='step');"
   ]
  },
  {
   "cell_type": "markdown",
   "id": "b83a87f6-d54b-4b2e-ac03-c916e6945869",
   "metadata": {},
   "source": [
    "Plot a uniform distribution of values between -4 and 4."
   ]
  },
  {
   "cell_type": "code",
   "execution_count": null,
   "id": "833956fb-9380-43a7-a155-a39d2e728cde",
   "metadata": {},
   "outputs": [],
   "source": []
  },
  {
   "cell_type": "markdown",
   "id": "499bfb81-3407-4502-8b1f-924c8248d652",
   "metadata": {},
   "source": [
    "Plot a normal distribution of values with a mean of 0 and a standard deviation of 1."
   ]
  },
  {
   "cell_type": "code",
   "execution_count": 176,
   "id": "84cfd629-07b8-486c-8908-f8e1d703f6dc",
   "metadata": {},
   "outputs": [
    {
     "data": {
      "image/png": "[encoded data removed]",
      "text/plain": [
       "<Figure size 432x288 with 1 Axes>"
      ]
     },
     "metadata": {
      "needs_background": "light"
     },
     "output_type": "display_data"
    }
   ],
   "source": [
    "x = np.random.normal(0, 1, size=10000000)\n",
    "plt.hist(x, bins=100);"
   ]
  },
  {
   "cell_type": "markdown",
   "id": "9481f0bd-4e4b-426d-9c8d-325a11c33e90",
   "metadata": {},
   "source": [
    "Plot a normal distribution of values with a mean of 100 and a standard deviation of 1.\n",
    "(Note: referencing the function docs and the engineering handbook helps translate which parameters correspond to which)"
   ]
  },
  {
   "cell_type": "code",
   "execution_count": null,
   "id": "d144c66a-feec-41fd-85d1-743a8ee76eb4",
   "metadata": {},
   "outputs": [],
   "source": []
  },
  {
   "cell_type": "markdown",
   "id": "5d5588e3-27d9-4e85-8fbf-35735b9c9dce",
   "metadata": {},
   "source": [
    "Plot a normal distribution of values with a mean of 100 and a standard deviation of 1."
   ]
  },
  {
   "cell_type": "code",
   "execution_count": null,
   "id": "63042c84-792c-4b12-98d6-5736e3dc2f83",
   "metadata": {},
   "outputs": [],
   "source": []
  },
  {
   "cell_type": "markdown",
   "id": "33d28df0-aa8f-436b-aaf9-2e71f1276085",
   "metadata": {},
   "source": [
    "Plot a normal distribution of values with a mean of 1 and a standard deviation of 100."
   ]
  },
  {
   "cell_type": "code",
   "execution_count": null,
   "id": "d03bd35e-cac1-4e81-8507-dc356347298e",
   "metadata": {},
   "outputs": [],
   "source": []
  },
  {
   "cell_type": "markdown",
   "id": "5ca92bfe-78e3-4ff1-b858-b336332148af",
   "metadata": {},
   "source": [
    "Plot four normal distributions, all with means of 0, but with standard deviations of 1, 2, 3, and 4, respectively."
   ]
  },
  {
   "cell_type": "code",
   "execution_count": null,
   "id": "74573971-e855-4752-a130-8a06a5113f78",
   "metadata": {},
   "outputs": [],
   "source": []
  },
  {
   "cell_type": "markdown",
   "id": "111b8a4e-e587-477b-b913-9917b8df4b7d",
   "metadata": {},
   "source": [
    "Plot four normal distributions, all with stds of 1, but with means of of 1, 2, 3, and 4, respectively."
   ]
  },
  {
   "cell_type": "code",
   "execution_count": null,
   "id": "a3d6a757-b619-4976-a57c-676aa69cbccb",
   "metadata": {},
   "outputs": [],
   "source": []
  },
  {
   "cell_type": "markdown",
   "id": "7002a401-1029-4e33-b439-c312444336b9",
   "metadata": {},
   "source": [
    "Plot a lognormal distribution with a location of 2 and scale of 3."
   ]
  },
  {
   "cell_type": "code",
   "execution_count": null,
   "id": "364ad615-3cd0-453d-9108-397755645593",
   "metadata": {},
   "outputs": [],
   "source": []
  },
  {
   "cell_type": "markdown",
   "id": "f0fb61fb-b6e3-489d-9c31-d9d9c1a30cd3",
   "metadata": {},
   "source": [
    "Plot 3 chi-square distributions , with degrees of freedom of 1, 3, and 7"
   ]
  },
  {
   "cell_type": "code",
   "execution_count": null,
   "id": "0e7dd46e-21c2-40f8-8477-7dbcae8e7076",
   "metadata": {},
   "outputs": [],
   "source": []
  },
  {
   "cell_type": "markdown",
   "id": "6a46015d-b288-4498-84e3-b6c08ee62306",
   "metadata": {},
   "source": [
    "The lognormal distribution is defined as having a natural log that is normally-distributed.  Let's check that!\n",
    "  - Plot the natural log of a lognormal distribution with a mean of 2 and std of 3.\n",
    "  - On the same plot, plot a normal distribution with the same parameters.  Do they look similar?\n",
    "  "
   ]
  },
  {
   "cell_type": "code",
   "execution_count": null,
   "id": "7f909df6-e3b2-4175-9e07-ba2d15c5bc78",
   "metadata": {},
   "outputs": [],
   "source": []
  },
  {
   "cell_type": "markdown",
   "id": "362ce009-ff40-451e-81e2-f63707963f4f",
   "metadata": {},
   "source": [
    "Let's pretend that numpy announced they were deleting the lognormal function (oh, no!).  How could we calculate our own lognormal distribution of data?\n",
    "\n",
    "Generate an array of normal data, then use math to transform it to a lognormal distribution.  Plot it against the `lognormal()` function with the same parameters to confirm it's the same (or at least, very similar).\n",
    "\n",
    "*Tip*: $ e ^ x $ (called the exponential) is the opposite of the natural log"
   ]
  },
  {
   "cell_type": "code",
   "execution_count": null,
   "id": "ee0b35f8-7a96-4d07-8fb4-88f10457445d",
   "metadata": {},
   "outputs": [],
   "source": []
  },
  {
   "cell_type": "markdown",
   "id": "ea9a7a1a-2276-48c2-99b8-9a55dd3c57e8",
   "metadata": {},
   "source": [
    "\n",
    "The Chi-square distribution is generated by summing up multiple normal distributions.\n",
    "\n",
    "$$ \\sum_{i=1}^{df}{X_i^2}  $$\n",
    "\n",
    "Let's check that numpy's `chisquare()` function is doing this!  Reproduce a chi-square distribution with 3 degrees of freedom (i.e. \"df\") by summing up three normal distributions.  Compare your results with against the distribution generated by `chisquare()`, and show that they are the same."
   ]
  },
  {
   "cell_type": "code",
   "execution_count": null,
   "id": "7aba1287-3441-484a-897c-7d95caae3fb1",
   "metadata": {},
   "outputs": [],
   "source": []
  },
  {
   "cell_type": "markdown",
   "id": "e8e1d129-321f-4476-8abe-3036b7d88a32",
   "metadata": {},
   "source": [
    "### Getting More Out of Your Distributions with `scipy.stats`\n",
    "\n",
    "Scipy Stats is an even bigger library and is put to a higher level of quality when comes to statistical accuaracy; as a result, it will let us get a finer level of control over the data we generate.\n",
    "\n",
    "Let's take a look a the continuous distributions that scipy stats can generate, using thier `rvs()` (i.e. \"Random Variate Sample\") function to generate random data the same way that we did with numpy.\n",
    "\n",
    "\n",
    "| Numpy Function | Scipy Stats Function |  Example   | Handbook Link |\n",
    "| :------- | :----------- |  :-------- | :------------ |\n",
    "| [`normal()`](https://numpy.org/doc/stable/reference/random/generated/numpy.random.normal.html) | `norm.rvs()` | `norm.rvs(loc=1, scale=2, size=100)` | [![](https://www.itl.nist.gov/div898/handbook/eda/section3/gif100/norpdf.jpg)](https://www.itl.nist.gov/div898/handbook/eda/section3/eda3661.htm) |\n",
    "| `lognormal()` | `lognormal.rvs()` | `lognormal(loc=1, scale=2, size=100)` | [![](https://www.itl.nist.gov/div898/handbook/eda/section3/gif100/lgnpdf.gif)](https://www.itl.nist.gov/div898/handbook/eda/section3/eda3669.htm)  |\n",
    "| `uniform()` | `uniform.rvs()` | `uniform.rvs(loc=2, scale=5, size=100)` | [![](https://www.itl.nist.gov/div898/handbook/eda/section3/gif100/unipdf.jpg)](https://www.itl.nist.gov/div898/handbook/eda/section3/eda3662.htm) |\n",
    "| `chisquare()` | `chi2.rvs()` | `chi2.rvs(df=5, size=100)` | [![](https://www.itl.nist.gov/div898/handbook/eda/section3/gif100/chspdf.jpg)](https://www.itl.nist.gov/div898/handbook/eda/section3/eda3666.htm) |\n",
    "| ``\n",
    "\n",
    "*Note*: Not all of these distributions work the same as their Numpy counterparts; often, they name the parameters a little differently or may even have more parameters.  \n",
    "\n",
    "*Tip*: To see the parameters that will be needed, check the help on the distribution name, not on the rvs function (e.g. `stats.norm?`)"
   ]
  },
  {
   "cell_type": "markdown",
   "id": "e18f9cc3-3c43-465e-bf34-b4292def5e3f",
   "metadata": {},
   "source": [
    "**Exercises**\n",
    "\n",
    "Make histograms of the following distributions using the `scipy.stats` functions."
   ]
  },
  {
   "cell_type": "markdown",
   "id": "a5eec7ea-095c-4976-96db-4e157a4e2c91",
   "metadata": {},
   "source": [
    "Example: Plot a uniform distribution that ranges between 2 and 4."
   ]
  },
  {
   "cell_type": "code",
   "execution_count": 220,
   "id": "a581d2ba-feeb-4300-9fcd-26dd0800c809",
   "metadata": {},
   "outputs": [
    {
     "data": {
      "image/png": "[encoded data removed]",
      "text/plain": [
       "<Figure size 432x288 with 1 Axes>"
      ]
     },
     "metadata": {
      "needs_background": "light"
     },
     "output_type": "display_data"
    }
   ],
   "source": [
    "model = stats.norm(1, 2)\n",
    "\n",
    "data = model.rvs(10000)\n",
    "model.mean(), model.std()\n",
    "x = np.linspace(-4, 8, 500)\n",
    "plt.plot(x, model.pdf(x))\n",
    "plt.hist(data, alpha=0.4, density=True, bins=80);"
   ]
  },
  {
   "cell_type": "code",
   "execution_count": 180,
   "id": "f2d04f4f-5b52-4d80-a359-70edc51afd4b",
   "metadata": {},
   "outputs": [
    {
     "data": {
      "image/png": "[encoded data removed]",
      "text/plain": [
       "<Figure size 432x288 with 1 Axes>"
      ]
     },
     "metadata": {
      "needs_background": "light"
     },
     "output_type": "display_data"
    }
   ],
   "source": [
    "data = stats.norm.rvs(1, 2, size=100)\n",
    "plt.hist(data);"
   ]
  },
  {
   "cell_type": "code",
   "execution_count": 94,
   "id": "6a3b2c21-7236-448a-8c9c-16bab6b90f29",
   "metadata": {},
   "outputs": [
    {
     "data": {
      "image/png": "[encoded data removed]",
      "text/plain": [
       "<Figure size 432x288 with 1 Axes>"
      ]
     },
     "metadata": {
      "needs_background": "light"
     },
     "output_type": "display_data"
    }
   ],
   "source": [
    "x = stats.uniform.rvs(loc=0, scale=5, size=100000);\n",
    "plt.hist(x, bins=20, histtype='step');"
   ]
  },
  {
   "cell_type": "markdown",
   "id": "e14a090b-07db-4408-931d-65222e4cf89a",
   "metadata": {},
   "source": [
    "Plot a uniform distribution that ranges from 1 to 5000."
   ]
  },
  {
   "cell_type": "code",
   "execution_count": null,
   "id": "69815742-bdbc-4916-8477-67cdb9232387",
   "metadata": {},
   "outputs": [],
   "source": []
  },
  {
   "cell_type": "markdown",
   "id": "998f2bcc-b4f7-49b3-b8e4-852a785deef8",
   "metadata": {},
   "source": [
    "Plot a normal distribution with a mean of 1 and a standard deviation of 5"
   ]
  },
  {
   "cell_type": "code",
   "execution_count": null,
   "id": "8fe66748-659c-4ccb-b7fb-b34e1a44afed",
   "metadata": {},
   "outputs": [],
   "source": []
  },
  {
   "cell_type": "markdown",
   "id": "2bd5bf6d-9a6e-4ba3-9941-cc07ca95061f",
   "metadata": {},
   "source": [
    "Plot 3 normal distributions, all with means of .2 and stds of 1, 1.5, and 2."
   ]
  },
  {
   "cell_type": "code",
   "execution_count": null,
   "id": "5c48e9cf-e5ca-4089-a769-dcfd8015c118",
   "metadata": {},
   "outputs": [],
   "source": []
  },
  {
   "cell_type": "markdown",
   "id": "2bacb698-d109-4a41-ae13-8a448c3587a4",
   "metadata": {},
   "source": [
    "Plot normal distributions from numpy.random and scipy.stats, each with means of 3 and stds of 2.  Show they are the same."
   ]
  },
  {
   "cell_type": "code",
   "execution_count": null,
   "id": "34697a46-d292-45cc-81b3-b0f0f44f98e0",
   "metadata": {},
   "outputs": [],
   "source": []
  },
  {
   "cell_type": "markdown",
   "id": "f24b0811-e743-4169-8378-6e1937cf997e",
   "metadata": {},
   "source": [
    "Plot chi-square distributions from numpy.random and scipy.stats, each with dfs 5.  Show they are the same."
   ]
  },
  {
   "cell_type": "code",
   "execution_count": null,
   "id": "1a49a78c-33b4-495a-8ddd-4a29f39adb07",
   "metadata": {},
   "outputs": [],
   "source": []
  },
  {
   "cell_type": "markdown",
   "id": "c4ead188-3427-47f8-ae38-711407c17635",
   "metadata": {},
   "source": [
    "### Scipy Stats Distribution Objects: Seperating Model Description from Sampling\n",
    "\n",
    "Scipy has a very useful Object-Oriented interface that matches most of the statistics and machine learning libraries out there; instead of just doing everything in one function, it breaks it up into smaller steps.\n",
    "\n",
    "  1. Construct a Model (in this case, a theoretical statistical distribution) you want to use, with the model parameters you want to apply to it.\n",
    "  \n",
    "    1. For example: `model = stats.normal(loc=1, scale=3)`\n",
    "    \n",
    "  1. Use the model for your purposes.\n",
    "  \n",
    "    1. For example: to generate random samples from it: `model.rvs(size=100)`\n",
    "    \n",
    "    1. For example: to generate a theoretical probability density: `model.pdf(np.linspace(-3, 3, 100))`\n",
    "\n",
    "  As we get closer towards machine learning, we'll break down these steps into smaller and smaller pieces.  \n",
    "\n",
    "| Method | Purpose | Example |\n",
    "| :----- | :------ | :------ |\n",
    "| `model = dist(params)` | Set the Model Parameters | `model = norm(1, 0)` |\n",
    "| `model.rvs(size=)` | Generate random samples from a model | `norm(1, 0).rvs(size=100)` |\n",
    "| `model.pdf(x=)` | Calculate the probability density at point \"x\" from a model | `norm(1, 0).pdf(0)` |\n",
    "| `model.cdf(x=)` | Calculate the cumulative probability density at point \"x\" from a model | `norm(1, 0).pdf(0)` \n",
    "\n",
    "\n",
    "Because every distribution shares common methods, it's pretty straightforward to make calculations from wildly-different distributions!  Let's try it out here."
   ]
  },
  {
   "cell_type": "markdown",
   "id": "a2e52763-8b51-423b-a5bb-293ff73ecfcf",
   "metadata": {},
   "source": [
    "**Exercises**"
   ]
  },
  {
   "cell_type": "markdown",
   "id": "b6446176-2501-4012-a4af-00520b696cc4",
   "metadata": {},
   "source": [
    "Example: What is the probability density for a normal distribution with mean of 0 and sd of 1 at x=1?"
   ]
  },
  {
   "cell_type": "code",
   "execution_count": 97,
   "id": "49fd0963-686a-4c91-966c-011efaff7ecf",
   "metadata": {},
   "outputs": [
    {
     "data": {
      "text/plain": [
       "0.24197072451914337"
      ]
     },
     "execution_count": 97,
     "metadata": {},
     "output_type": "execute_result"
    }
   ],
   "source": [
    "model = stats.norm(0, 1)\n",
    "x = 1\n",
    "model.pdf(x)"
   ]
  },
  {
   "cell_type": "markdown",
   "id": "0657ed34-edc3-4987-b91f-1034cc197ed0",
   "metadata": {},
   "source": [
    "Example: What is the probability density for a normal distribution with mean of 0 and sd of 1 at all the values of x between -4 and 4? Plot it."
   ]
  },
  {
   "cell_type": "code",
   "execution_count": 99,
   "id": "55dd58d7-0aef-40bf-a35d-8e8cc6151058",
   "metadata": {},
   "outputs": [
    {
     "data": {
      "image/png": "[encoded data removed]",
      "text/plain": [
       "<Figure size 432x288 with 1 Axes>"
      ]
     },
     "metadata": {
      "needs_background": "light"
     },
     "output_type": "display_data"
    }
   ],
   "source": [
    "model = stats.norm(0, 1)\n",
    "x = np.linspace(-4, 4, 100)\n",
    "plt.plot(x, model.pdf(x));"
   ]
  },
  {
   "cell_type": "markdown",
   "id": "392cba7e-33db-4727-8ce1-f0bf7a18a706",
   "metadata": {},
   "source": [
    "What is the probability density for a normal distribution with mean of -1 and sd of 2 at all the values of x between -4 and 4? Plot it."
   ]
  },
  {
   "cell_type": "markdown",
   "id": "bf16a5ae-bfa7-4abe-ad6e-d8cbf24bd5f0",
   "metadata": {},
   "source": []
  },
  {
   "cell_type": "markdown",
   "id": "dc58be8e-9a8f-494f-9fac-d37b9c4b765f",
   "metadata": {},
   "source": [
    "What is the probability density for a uniform distribution between -3 and 5 at all the values of x between -10 and 10? Plot it."
   ]
  },
  {
   "cell_type": "code",
   "execution_count": null,
   "id": "288630bb-6889-41b0-be3f-521018b39315",
   "metadata": {},
   "outputs": [],
   "source": []
  },
  {
   "cell_type": "markdown",
   "id": "a5d043f8-5d5d-4592-a5d7-7738b5ecf818",
   "metadata": {},
   "source": [
    "Generate 20 random points from a normal distribution with mean of 1 and and sd of 10, and plot the sample's distribution.  Also plot the theoretical probability distribution in the same plot, to compare."
   ]
  },
  {
   "cell_type": "code",
   "execution_count": null,
   "id": "2d78daf4-f9af-41fb-939f-10fa6d5db94f",
   "metadata": {},
   "outputs": [],
   "source": []
  },
  {
   "cell_type": "markdown",
   "id": "3ff7f11c-9200-447b-8eca-8f57b1e8913c",
   "metadata": {},
   "source": [
    "Generate 20 random points from a uniform distribution with mean of 1 and and sd of 10, and plot the sample's distribution.  Also plot the theoretical probability distribution in the same plot, to compare."
   ]
  },
  {
   "cell_type": "code",
   "execution_count": null,
   "id": "92ef60c6-2f96-470e-8bf5-291bf027eb2c",
   "metadata": {},
   "outputs": [],
   "source": []
  },
  {
   "cell_type": "markdown",
   "id": "d8bc5dc8-5f6a-4696-9d1b-16e016b53646",
   "metadata": {},
   "source": [
    "Plot the theoretical probability distributions for chi-square data with dfs of 1 to 6."
   ]
  },
  {
   "cell_type": "code",
   "execution_count": null,
   "id": "246e795c-d074-4297-b573-b2d1d2cdddef",
   "metadata": {},
   "outputs": [],
   "source": []
  },
  {
   "cell_type": "markdown",
   "id": "9dd1aa43-8365-4fc1-b3de-579f2ba5b29c",
   "metadata": {},
   "source": [
    "Below is random, normally-distributed data generated with mystery parameters.  Guess the values that generated them and plot the pdf of your guess over the random data.  Guess until you are satisfied you are close to the correct answer."
   ]
  },
  {
   "cell_type": "code",
   "execution_count": 241,
   "id": "52a7e21f-c072-433e-bec3-1de082e27455",
   "metadata": {},
   "outputs": [
    {
     "data": {
      "image/png": "[encoded data removed]",
      "text/plain": [
       "<Figure size 432x288 with 1 Axes>"
      ]
     },
     "metadata": {
      "needs_background": "light"
     },
     "output_type": "display_data"
    }
   ],
   "source": [
    "# Nick's code:\n",
    "np.random.seed(42)  # ensures that everyone has the same \"random\" values.\n",
    "data = np.random.normal(np.random.uniform(-10, 10), np.random.uniform(2, 6), size=3000);  # the mystery data (leave untouched)\n",
    "\n",
    "model = stats.norm(-2.5, 5)\n",
    "x = np.linspace(-20, 20, 200)\n",
    "y = model.pdf(x)\n",
    "\n",
    "# Your Code:\n",
    "plt.hist(data, bins=50, density=True);\n",
    "plt.plot(x, y);"
   ]
  },
  {
   "cell_type": "markdown",
   "id": "a6bacb35-61f0-4cf6-957a-58dc0e246023",
   "metadata": {},
   "source": [
    "Let's try again, this time with less data."
   ]
  },
  {
   "cell_type": "code",
   "execution_count": 110,
   "id": "31c024f2-c878-4b79-9221-267f5379c4b6",
   "metadata": {},
   "outputs": [
    {
     "data": {
      "text/plain": [
       "array([ -1.53476306,   0.61467064,   0.16895909,   3.67068043,\n",
       "        -4.56715906,  -5.59940732,  -3.49380982,  -5.91139402,\n",
       "         4.84397487,   0.64352278, -11.60447558,  -4.67578724,\n",
       "        -1.88129372, -11.4250296 ,   1.31367743,  -6.05841709,\n",
       "        -8.60925063,  -5.13739983,  -8.15605794,   0.14454913,\n",
       "        -2.08125162,  -5.94793225,  -7.43079603,  -3.56556869,\n",
       "        -9.10529403,  -3.44716213,  -7.21999138,  -2.66430724,\n",
       "        -0.07693356,  -4.67799644])"
      ]
     },
     "execution_count": 110,
     "metadata": {},
     "output_type": "execute_result"
    }
   ],
   "source": [
    "# Nick's code:\n",
    "np.random.seed(17)  # ensures that everyone has the same \"random\" values.\n",
    "data = np.random.normal(np.random.uniform(-10, 10), np.random.uniform(2, 6), size=30);  # the mystery data (leave untouched)\n",
    "\n",
    "# Your Code:\n",
    "data"
   ]
  },
  {
   "cell_type": "code",
   "execution_count": null,
   "id": "46d620f7-bc2a-4c2a-86cb-ccce6e9ad8fc",
   "metadata": {},
   "outputs": [],
   "source": []
  },
  {
   "cell_type": "markdown",
   "id": "bee78985-6d97-4f61-947e-1253d17dbca9",
   "metadata": {},
   "source": [
    "Let's try again, this time with a random model, and random parameters for that model!  Which distribution best-fits the data?"
   ]
  },
  {
   "cell_type": "code",
   "execution_count": 134,
   "id": "c0fd0153-8d0e-4f37-9a70-079e6d82b0f8",
   "metadata": {},
   "outputs": [
    {
     "data": {
      "text/plain": [
       "array([ 9.20569668,  7.42313741,  9.89203111,  9.2093129 , 12.31557739,\n",
       "       12.98369182,  6.2660566 ,  4.7737216 ,  4.75191621, 13.95150214,\n",
       "       13.48020925,  8.7707061 ,  5.17120583,  7.57637174, 12.46146063])"
      ]
     },
     "execution_count": 134,
     "metadata": {},
     "output_type": "execute_result"
    }
   ],
   "source": [
    "# Nick's code:\n",
    "import random\n",
    "random.seed(32)\n",
    "np.random.seed(32)  # ensures that everyone has the same \"random\" values.\n",
    "data = random.choice([\n",
    "    np.random.normal(np.random.uniform(-10, 10), np.random.uniform(2, 6), size=300),\n",
    "    np.random.uniform(np.random.uniform(-10, 10), np.random.uniform(2, 6), size=300),\n",
    "    np.random.lognormal(np.random.uniform(-10, 10), np.random.uniform(2, 6), size=300),\n",
    "]) # the mystery data (leave untouched)\n",
    "\n",
    "# Your Code:\n",
    "data[:15]"
   ]
  },
  {
   "cell_type": "markdown",
   "id": "a6bbca9c-6aa0-415d-a605-091783ca6b85",
   "metadata": {},
   "source": [
    "Let's do it one last time, this time with less data.  Which distribution best-fits the data? "
   ]
  },
  {
   "cell_type": "code",
   "execution_count": 146,
   "id": "54ae2e80-302d-4a03-8f97-c9981020dc36",
   "metadata": {},
   "outputs": [
    {
     "data": {
      "text/plain": [
       "array([ -8.81254663,  -4.33940651,  -5.40317241,  -8.93380444,\n",
       "        -0.71291746,  -7.63401755,  -7.96444238,  -6.8468883 ,\n",
       "        -4.13921974,  -8.59614782, -11.50856166,  -8.03731876,\n",
       "        -4.96716835,  -7.43624374,  -5.5676058 ,  -8.93177926,\n",
       "        -5.99919557,  -9.3676877 ,  -4.09948053,  -3.28924444,\n",
       "       -11.75049834,  -8.45789466,  -8.92584566,  -8.93454705,\n",
       "        -9.85507659,  -6.87761157,  -3.45228414,  -2.31798142,\n",
       "        -7.49956347,  -6.15594918])"
      ]
     },
     "execution_count": 146,
     "metadata": {},
     "output_type": "execute_result"
    }
   ],
   "source": [
    "# Nick's code:\n",
    "import random\n",
    "random.seed(108)\n",
    "np.random.seed(104)  # ensures that everyone has the same \"random\" values.\n",
    "data = random.choice([\n",
    "    np.random.normal(np.random.uniform(-10, 10), np.random.uniform(2, 6), size=30),\n",
    "    np.random.uniform(np.random.uniform(-10, 10), np.random.uniform(2, 6), size=30),\n",
    "    np.random.lognormal(np.random.uniform(-10, 10), np.random.uniform(2, 6), size=30),\n",
    "]) # the mystery data (leave untouched)\n",
    "\n",
    "# Your Code:\n",
    "data"
   ]
  },
  {
   "cell_type": "markdown",
   "id": "a1411617-effa-4b14-95a8-b1bac544d988",
   "metadata": {},
   "source": [
    "### Fitting Models from Data Automatically\n",
    "\n",
    "Guessing the parameters for a model can be done by the distribution objects directly!  You still have to choose the model yourself, but by calling a `.fit()` method, you'll get a pretty good guess that you can use to construct a new distribution model with.\n",
    "\n",
    "| Method | Purpose | Example |\n",
    "| :----- | :------ | :------ |\n",
    "| `params = dist.fit(x=)`  | Generate model parameters from samples of data | `normal.fit([.2, .5, 0])`\n",
    "| `model = dist(*params)`  | Supply parameters to the model constructor | `params=(1, 2);  model=normal(*params)`"
   ]
  },
  {
   "cell_type": "markdown",
   "id": "e5f7dc57-e712-49dc-b4bb-82313cad6ef5",
   "metadata": {},
   "source": [
    "**Exercises**"
   ]
  },
  {
   "cell_type": "markdown",
   "id": "3809a318-dec6-4f53-abbc-f140ad80cb7d",
   "metadata": {},
   "source": [
    "Example: Fit the data provided with a normal distribution.  What guess for model parameters does scipy stats think best-fits this data?"
   ]
  },
  {
   "cell_type": "code",
   "execution_count": 299,
   "id": "aaf330bc-1da3-45ad-90d0-c208cfd2b99d",
   "metadata": {},
   "outputs": [
    {
     "data": {
      "text/plain": [
       "array([8.75146578, 3.75120778, 3.615965  , 3.07041714, 3.99174959])"
      ]
     },
     "execution_count": 299,
     "metadata": {},
     "output_type": "execute_result"
    }
   ],
   "source": [
    "np.random.seed(11)\n",
    "data = stats.lognorm(1, 3).rvs(200)\n",
    "data[:5]"
   ]
  },
  {
   "cell_type": "code",
   "execution_count": 306,
   "id": "be543c8b-0f5d-4283-b76d-0ca49320ac2f",
   "metadata": {},
   "outputs": [
    {
     "data": {
      "image/png": "[encoded data removed]",
      "text/plain": [
       "<Figure size 432x288 with 1 Axes>"
      ]
     },
     "metadata": {
      "needs_background": "light"
     },
     "output_type": "display_data"
    }
   ],
   "source": [
    "model = stats.chi2\n",
    "params = model.fit(data)\n",
    "fitted_model = model(*params)\n",
    "fitted_model2 = model(np.mean(data), np.std(data))\n",
    "\n",
    "plt.hist(data, density=True, alpha=.5);\n",
    "x = np.linspace(data.min(), data.max(), 200)\n",
    "plt.plot(x, fitted_model.pdf(x));\n",
    "# plt.plot(x, fitted_model2.pdf(x));"
   ]
  },
  {
   "cell_type": "code",
   "execution_count": 290,
   "id": "1b9510d5-950a-4f41-a4a8-85c31b5a28a9",
   "metadata": {},
   "outputs": [
    {
     "data": {
      "text/plain": [
       "array([ True,  True,  True,  True,  True,  True,  True,  True,  True,\n",
       "        True,  True,  True,  True,  True,  True,  True,  True,  True,\n",
       "        True,  True,  True,  True,  True,  True,  True,  True,  True,\n",
       "        True,  True,  True,  True,  True,  True,  True,  True,  True,\n",
       "        True,  True,  True,  True,  True,  True,  True,  True,  True,\n",
       "        True,  True,  True,  True,  True,  True,  True,  True,  True,\n",
       "        True,  True,  True,  True,  True,  True,  True,  True,  True,\n",
       "        True,  True,  True,  True,  True,  True,  True,  True,  True,\n",
       "        True,  True,  True,  True,  True,  True,  True,  True,  True,\n",
       "        True,  True,  True,  True,  True,  True,  True,  True,  True,\n",
       "        True,  True,  True,  True,  True,  True,  True,  True,  True,\n",
       "        True,  True,  True,  True,  True,  True,  True,  True,  True,\n",
       "        True,  True,  True,  True,  True,  True,  True,  True,  True,\n",
       "        True,  True,  True,  True,  True,  True,  True,  True,  True,\n",
       "        True,  True,  True,  True,  True,  True,  True,  True,  True,\n",
       "        True,  True,  True,  True,  True,  True,  True,  True,  True,\n",
       "        True,  True,  True,  True,  True,  True,  True,  True,  True,\n",
       "        True,  True,  True,  True,  True,  True,  True,  True,  True,\n",
       "        True,  True,  True,  True,  True,  True,  True,  True,  True,\n",
       "        True,  True,  True,  True,  True,  True,  True,  True,  True,\n",
       "        True,  True,  True,  True,  True,  True,  True,  True,  True,\n",
       "        True,  True,  True,  True,  True,  True,  True,  True,  True,\n",
       "        True,  True])"
      ]
     },
     "execution_count": 290,
     "metadata": {},
     "output_type": "execute_result"
    }
   ],
   "source": [
    "fitted_model.pdf(x) == fitted_model2.pdf(x)"
   ]
  },
  {
   "cell_type": "markdown",
   "id": "cba935fb-8488-497e-9fab-f9fca9c3d3fe",
   "metadata": {},
   "source": [
    "Example: Plot the pdf of the fitted normal model against the original data.  Does it look like a good fit?"
   ]
  },
  {
   "cell_type": "code",
   "execution_count": 161,
   "id": "1217c329-a990-4cd0-8885-d75ec8eaab7d",
   "metadata": {},
   "outputs": [
    {
     "data": {
      "image/png": "[encoded data removed]",
      "text/plain": [
       "<Figure size 432x288 with 1 Axes>"
      ]
     },
     "metadata": {
      "needs_background": "light"
     },
     "output_type": "display_data"
    }
   ],
   "source": [
    "# Nick's Code:\n",
    "np.random.seed(11)\n",
    "data = stats.norm(0, 1).rvs(200)\n",
    "\n",
    "# Your Code:\n",
    "guess = stats.norm.fit(data)\n",
    "model = stats.norm(*guess) # same as stats.norm(guess[0], guess[1])\n",
    "x = np.linspace(-4, 4)\n",
    "plt.hist(data, density=True, alpha=0.5);\n",
    "plt.plot(x, model.pdf(x), c='k');"
   ]
  },
  {
   "cell_type": "markdown",
   "id": "333b8be1-a5bf-46c3-9d52-4e9fd4ef3dbc",
   "metadata": {},
   "source": [
    "Plot the pdf of the fitted normal model against the original data.  Does it look like a good fit?"
   ]
  },
  {
   "cell_type": "code",
   "execution_count": 163,
   "id": "91f00a38-ec95-46f5-8e8b-9bc5a340f1d2",
   "metadata": {},
   "outputs": [],
   "source": [
    "# Nick's Code:\n",
    "np.random.seed(12)\n",
    "data = stats.norm(2, 5).rvs(200)\n",
    "\n",
    "# Your Code:\n"
   ]
  },
  {
   "cell_type": "markdown",
   "id": "c298f560-a90c-472c-afa7-0edb980e19c3",
   "metadata": {},
   "source": [
    "Plot the pdf of the fitted uniform model against the original data.  Does it look like a good fit?"
   ]
  },
  {
   "cell_type": "code",
   "execution_count": 164,
   "id": "bf05edf0-7e54-4ff0-93f3-ff622227c78d",
   "metadata": {},
   "outputs": [],
   "source": [
    "# Nick's Code:\n",
    "np.random.seed(13)\n",
    "data = stats.uniform(0, 11).rvs(200)\n",
    "\n",
    "# Your Code:\n"
   ]
  },
  {
   "cell_type": "markdown",
   "id": "663c15b6-8933-4610-b4fe-eb1c361583d4",
   "metadata": {},
   "source": [
    "Plot the pdf of the fitted lognorm model against the original data.  Does it look like a good fit?"
   ]
  },
  {
   "cell_type": "code",
   "execution_count": 166,
   "id": "48acbac9-8d50-4588-b446-452b912f39e1",
   "metadata": {},
   "outputs": [],
   "source": [
    "# Nick's Code:\n",
    "np.random.seed(14)\n",
    "data = stats.lognorm(2, 0, 11).rvs(200)\n",
    "\n",
    "# Your Code:\n"
   ]
  },
  {
   "cell_type": "markdown",
   "id": "e71ab9ef-0e70-4217-aef6-10ad2b7b8a16",
   "metadata": {},
   "source": [
    "Plot the pdf of all three fitted models (normal, uniform, and lognorm) against the original data. Which looks like a better fit?"
   ]
  },
  {
   "cell_type": "code",
   "execution_count": 168,
   "id": "ac1b4a92-d63d-4b01-86dc-8b6de1da1f4d",
   "metadata": {},
   "outputs": [
    {
     "data": {
      "text/plain": [
       "array([ -8.81254663,  -4.33940651,  -5.40317241,  -8.93380444,\n",
       "        -0.71291746,  -7.63401755,  -7.96444238,  -6.8468883 ,\n",
       "        -4.13921974,  -8.59614782, -11.50856166,  -8.03731876,\n",
       "        -4.96716835,  -7.43624374,  -5.5676058 ])"
      ]
     },
     "execution_count": 168,
     "metadata": {},
     "output_type": "execute_result"
    }
   ],
   "source": [
    "# Nick's code:\n",
    "import random\n",
    "random.seed(108)\n",
    "np.random.seed(104)  # ensures that everyone has the same \"random\" values.\n",
    "data = random.choice([\n",
    "    np.random.normal(np.random.uniform(-10, 10), np.random.uniform(2, 6), size=300),\n",
    "    np.random.uniform(np.random.uniform(-10, 10), np.random.uniform(2, 6), size=300),\n",
    "    np.random.lognormal(np.random.uniform(-10, 10), np.random.uniform(2, 6), size=300),\n",
    "]) # the mystery data (leave untouched)\n",
    "\n",
    "# Your Code:\n",
    "data[:15]"
   ]
  },
  {
   "cell_type": "markdown",
   "id": "ac5e2566-a944-47a5-92e7-3f32047cf97e",
   "metadata": {},
   "source": [
    "Plot the pdf of all three fitted models (normal, uniform, and lognorm) against the original data. Which looks like a better fit?"
   ]
  },
  {
   "cell_type": "code",
   "execution_count": 170,
   "id": "861f2d1a-723b-4456-8d45-d7ad32fd20bd",
   "metadata": {},
   "outputs": [
    {
     "data": {
      "text/plain": [
       "array([ -8.81254663,  -4.33940651,  -5.40317241,  -8.93380444,\n",
       "        -0.71291746,  -7.63401755,  -7.96444238,  -6.8468883 ,\n",
       "        -4.13921974,  -8.59614782, -11.50856166,  -8.03731876,\n",
       "        -4.96716835,  -7.43624374,  -5.5676058 ])"
      ]
     },
     "execution_count": 170,
     "metadata": {},
     "output_type": "execute_result"
    }
   ],
   "source": [
    "# Nick's code:\n",
    "import random\n",
    "random.seed(108)\n",
    "np.random.seed(104)  # ensures that everyone has the same \"random\" values.\n",
    "data = random.choice([\n",
    "    np.random.normal(np.random.uniform(-10, 10), np.random.uniform(2, 6), size=30),\n",
    "    np.random.uniform(np.random.uniform(-10, 10), np.random.uniform(2, 6), size=30),\n",
    "    np.random.lognormal(np.random.uniform(-10, 10), np.random.uniform(2, 6), size=30),\n",
    "]) # the mystery data (leave untouched)\n",
    "\n",
    "# Your Code:\n",
    "data[:15]"
   ]
  }
 ],
 "metadata": {
  "kernelspec": {
   "display_name": "base",
   "language": "python",
   "name": "base"
  },
  "language_info": {
   "codemirror_mode": {
    "name": "ipython",
    "version": 3
   },
   "file_extension": ".py",
   "mimetype": "text/x-python",
   "name": "python",
   "nbconvert_exporter": "python",
   "pygments_lexer": "ipython3",
   "version": "3.8.13"
  }
 },
 "nbformat": 4,
 "nbformat_minor": 5
}
