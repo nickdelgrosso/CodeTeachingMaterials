{
 "cells": [
  {
   "cell_type": "code",
   "execution_count": 1,
   "id": "7438b378",
   "metadata": {
    "collapsed": true,
    "jupyter": {
     "outputs_hidden": true
    },
    "tags": []
   },
   "outputs": [
    {
     "name": "stdout",
     "output_type": "stream",
     "text": [
      "Requirement already satisfied: numpy in /home/nickdg/miniconda3/envs/py10/lib/python3.10/site-packages (1.23.3)\n",
      "Requirement already satisfied: pandas in /home/nickdg/miniconda3/envs/py10/lib/python3.10/site-packages (1.5.0)\n",
      "Requirement already satisfied: pingouin in /home/nickdg/miniconda3/envs/py10/lib/python3.10/site-packages (0.5.2)\n",
      "Requirement already satisfied: scipy in /home/nickdg/miniconda3/envs/py10/lib/python3.10/site-packages (1.9.1)\n",
      "Requirement already satisfied: statsmodels in /home/nickdg/miniconda3/envs/py10/lib/python3.10/site-packages (0.13.2)\n",
      "Requirement already satisfied: pytz>=2020.1 in /home/nickdg/miniconda3/envs/py10/lib/python3.10/site-packages (from pandas) (2022.4)\n",
      "Requirement already satisfied: python-dateutil>=2.8.1 in /home/nickdg/miniconda3/envs/py10/lib/python3.10/site-packages (from pandas) (2.8.2)\n",
      "Requirement already satisfied: scikit-learn<1.1.0 in /home/nickdg/miniconda3/envs/py10/lib/python3.10/site-packages (from pingouin) (1.0.2)\n",
      "Requirement already satisfied: matplotlib>=3.0.2 in /home/nickdg/miniconda3/envs/py10/lib/python3.10/site-packages (from pingouin) (3.6.0)\n",
      "Requirement already satisfied: outdated in /home/nickdg/miniconda3/envs/py10/lib/python3.10/site-packages (from pingouin) (0.2.1)\n",
      "Requirement already satisfied: tabulate in /home/nickdg/miniconda3/envs/py10/lib/python3.10/site-packages (from pingouin) (0.8.10)\n",
      "Requirement already satisfied: pandas-flavor>=0.2.0 in /home/nickdg/miniconda3/envs/py10/lib/python3.10/site-packages (from pingouin) (0.3.0)\n",
      "Requirement already satisfied: seaborn>=0.11 in /home/nickdg/miniconda3/envs/py10/lib/python3.10/site-packages (from pingouin) (0.12.0)\n",
      "Requirement already satisfied: packaging>=21.3 in /home/nickdg/miniconda3/envs/py10/lib/python3.10/site-packages (from statsmodels) (21.3)\n",
      "Requirement already satisfied: patsy>=0.5.2 in /home/nickdg/miniconda3/envs/py10/lib/python3.10/site-packages (from statsmodels) (0.5.2)\n",
      "Requirement already satisfied: cycler>=0.10 in /home/nickdg/miniconda3/envs/py10/lib/python3.10/site-packages (from matplotlib>=3.0.2->pingouin) (0.11.0)\n",
      "Requirement already satisfied: contourpy>=1.0.1 in /home/nickdg/miniconda3/envs/py10/lib/python3.10/site-packages (from matplotlib>=3.0.2->pingouin) (1.0.5)\n",
      "Requirement already satisfied: pillow>=6.2.0 in /home/nickdg/miniconda3/envs/py10/lib/python3.10/site-packages (from matplotlib>=3.0.2->pingouin) (9.2.0)\n",
      "Requirement already satisfied: kiwisolver>=1.0.1 in /home/nickdg/miniconda3/envs/py10/lib/python3.10/site-packages (from matplotlib>=3.0.2->pingouin) (1.4.4)\n",
      "Requirement already satisfied: fonttools>=4.22.0 in /home/nickdg/miniconda3/envs/py10/lib/python3.10/site-packages (from matplotlib>=3.0.2->pingouin) (4.37.4)\n",
      "Requirement already satisfied: pyparsing>=2.2.1 in /home/nickdg/miniconda3/envs/py10/lib/python3.10/site-packages (from matplotlib>=3.0.2->pingouin) (3.0.9)\n",
      "Requirement already satisfied: lazy-loader==0.1rc2 in /home/nickdg/miniconda3/envs/py10/lib/python3.10/site-packages (from pandas-flavor>=0.2.0->pingouin) (0.1rc2)\n",
      "Requirement already satisfied: xarray in /home/nickdg/miniconda3/envs/py10/lib/python3.10/site-packages (from pandas-flavor>=0.2.0->pingouin) (2022.9.0)\n",
      "Requirement already satisfied: six in /home/nickdg/miniconda3/envs/py10/lib/python3.10/site-packages (from patsy>=0.5.2->statsmodels) (1.16.0)\n",
      "Requirement already satisfied: joblib>=0.11 in /home/nickdg/miniconda3/envs/py10/lib/python3.10/site-packages (from scikit-learn<1.1.0->pingouin) (1.2.0)\n",
      "Requirement already satisfied: threadpoolctl>=2.0.0 in /home/nickdg/miniconda3/envs/py10/lib/python3.10/site-packages (from scikit-learn<1.1.0->pingouin) (3.1.0)\n",
      "Requirement already satisfied: requests in /home/nickdg/miniconda3/envs/py10/lib/python3.10/site-packages (from outdated->pingouin) (2.28.1)\n",
      "Requirement already satisfied: littleutils in /home/nickdg/miniconda3/envs/py10/lib/python3.10/site-packages (from outdated->pingouin) (0.2.2)\n",
      "Requirement already satisfied: certifi>=2017.4.17 in /home/nickdg/miniconda3/envs/py10/lib/python3.10/site-packages (from requests->outdated->pingouin) (2022.9.14)\n",
      "Requirement already satisfied: charset-normalizer<3,>=2 in /home/nickdg/miniconda3/envs/py10/lib/python3.10/site-packages (from requests->outdated->pingouin) (2.1.1)\n",
      "Requirement already satisfied: idna<4,>=2.5 in /home/nickdg/miniconda3/envs/py10/lib/python3.10/site-packages (from requests->outdated->pingouin) (3.4)\n",
      "Requirement already satisfied: urllib3<1.27,>=1.21.1 in /home/nickdg/miniconda3/envs/py10/lib/python3.10/site-packages (from requests->outdated->pingouin) (1.26.12)\n"
     ]
    }
   ],
   "source": [
    "!pip install numpy pandas pingouin scipy statsmodels;"
   ]
  },
  {
   "cell_type": "markdown",
   "id": "56c3d653",
   "metadata": {
    "cell_id": "00003-44f1e943-1946-4d75-ad48-00950d13809a",
    "deepnote_cell_type": "markdown",
    "id": "athletic-conditioning"
   },
   "source": [
    "# Doing T-Tests with the Scipy.Stats\n",
    "\n",
    "[**Scipy.Stats**](https://docs.scipy.org/doc/scipy/reference/stats.html) has all the stats functions you know and love from statistics class.  Like all the functions in the [scipy](https://docs.scipy.org/doc/scipy/getting_started.html) package, it is fully-compatible with Numpy.\n",
    "\n"
   ]
  },
  {
   "cell_type": "markdown",
   "id": "f011e52f",
   "metadata": {
    "cell_id": "00006-7ecfd47a-9742-49cd-ab32-67732ccc818b",
    "deepnote_cell_type": "markdown",
    "tags": []
   },
   "source": [
    "T-tests compare the means of two samples of data generated from a normally-distributed population and compute the probability that they have the same mean. Both packages have functions for t-tests! \n",
    "\n",
    "\n",
    "| Test, | `scipy.stats` Function, | \n",
    "| :---: | :---: |\n",
    "| One-Sampled T-Test | [**stats.ttest_1samp(x, 0)**](https://docs.scipy.org/doc/scipy/reference/generated/scipy.stats.ttest_1samp.html#scipy.stats.ttest_1samp) | \n",
    "| Independent T-Test | [**stats.ttest_ind(x, y)**](https://docs.scipy.org/doc/scipy/reference/generated/scipy.stats.ttest_ind.html#scipy.stats.ttest_ind)\n",
    "| Paired T-test | [**stats.ttest_rel(x, y)**](https://docs.scipy.org/doc/scipy/reference/generated/scipy.stats.ttest_rel.html#scipy.stats.ttest_rel)\n"
   ]
  },
  {
   "cell_type": "code",
   "execution_count": 6,
   "id": "050439d6",
   "metadata": {
    "cell_id": "00007-c41041df-aa03-4b5f-808e-68b79b41952b",
    "deepnote_cell_type": "code",
    "deepnote_to_be_reexecuted": false,
    "execution_millis": 4,
    "execution_start": 1636618509664,
    "source_hash": "fb7cc69d",
    "tags": []
   },
   "outputs": [],
   "source": [
    "import numpy as np\n",
    "import matplotlib.pyplot as plt\n",
    "from scipy import stats"
   ]
  },
  {
   "cell_type": "markdown",
   "id": "8769dd0f",
   "metadata": {
    "cell_id": "00007-cd4f75ec-03f0-4143-a914-e14ba3feff58",
    "deepnote_cell_type": "markdown",
    "tags": []
   },
   "source": [
    "**Exercises** let's do some analysis on some fake data to get a feel for these two statistics tools."
   ]
  },
  {
   "cell_type": "markdown",
   "id": "838e762d",
   "metadata": {
    "cell_id": "00005-d9203f16-7bbf-45ba-88e1-ad09099e7f62",
    "deepnote_cell_type": "markdown",
    "deepnote_to_be_reexecuted": false,
    "execution_millis": 42,
    "execution_start": 1636618898586,
    "source_hash": "8ddf4792",
    "tags": []
   },
   "source": [
    "Generate the Data: Run the code below to create the dataset `df`."
   ]
  },
  {
   "cell_type": "code",
   "execution_count": 46,
   "id": "94ff3c3a",
   "metadata": {
    "cell_id": "00005-3bfe7d22-ac1b-4281-8239-9840b84be665",
    "deepnote_cell_type": "code",
    "deepnote_to_be_reexecuted": false,
    "execution_millis": 157,
    "execution_start": 1636618872868,
    "source_hash": "30d6b9bd",
    "tags": []
   },
   "outputs": [],
   "source": [
    "rnd = np.random.RandomState(seed=42)  # Makes sure the pseudorandom number generators reproduce the same data for us all.\n",
    "\n",
    "data_a = rnd.normal(0, 1, size=20)\n",
    "data_b = rnd.normal(0.2, 1, size=20)\n",
    "data_c = rnd.normal(0.7, 1, size=20)\n",
    "data_d = (data_a - 0.2) + rnd.normal(0, 0.2, size=20)\n"
   ]
  },
  {
   "cell_type": "markdown",
   "id": "00e17584-0543-4ff0-8401-a9ad0eae5ac7",
   "metadata": {},
   "source": [
    "Run the code below to visualize the data (here, customizing scatter plots to view every single point in the four variables and their means):"
   ]
  },
  {
   "cell_type": "code",
   "execution_count": 49,
   "id": "d49d684e-4607-41ff-862e-3b85479d88f3",
   "metadata": {},
   "outputs": [
    {
     "data": {
      "image/png": "[encoded data removed]",
      "text/plain": [
       "<Figure size 640x480 with 1 Axes>"
      ]
     },
     "metadata": {},
     "output_type": "display_data"
    }
   ],
   "source": [
    "n = data_a.size\n",
    "plt.scatter(x = [1] * n + rnd.uniform(-.3, .3, n), y = data_a);\n",
    "plt.hlines(np.mean(data_a), 1 - .3, 1 + .3, linestyles='dotted', colors='black');\n",
    "\n",
    "plt.scatter(x = [2] * n + rnd.uniform(-.3, .3, n), y = data_b);\n",
    "plt.hlines(np.mean(data_b), 2 - .3, 2 + .3, linestyles='dotted', colors='black');\n",
    "\n",
    "plt.scatter(x = [3] * n + rnd.uniform(-.3, .3, n), y = data_c);\n",
    "plt.hlines(np.mean(data_c), 3 - .3, 3 + .3, linestyles='dotted', colors='black');\n",
    "\n",
    "plt.scatter(x = [4] * n + rnd.uniform(-.3, .3, n), y = data_d);\n",
    "plt.hlines(np.mean(data_d), 4 - .3, 4 + .3, linestyles='dotted', colors='black');\n",
    "\n",
    "plt.xticks([1, 2, 3, 4], ['a', 'b', 'c', 'd']);"
   ]
  },
  {
   "cell_type": "markdown",
   "id": "df5d8a5c-b18b-4603-aae1-9f1cf1b64a02",
   "metadata": {},
   "source": [
    "Of course, it's much easier when you can find a function that already makes a useful plot for you!  For this kind of task (comparing distributions of multiple data), **box plots** and **violin plots** are quite helpful:"
   ]
  },
  {
   "cell_type": "code",
   "execution_count": 60,
   "id": "31c1d18e-6853-46b2-b1a0-ca56388bb3cc",
   "metadata": {},
   "outputs": [
    {
     "data": {
      "image/png": "[encoded data removed]",
      "text/plain": [
       "<Figure size 640x480 with 1 Axes>"
      ]
     },
     "metadata": {},
     "output_type": "display_data"
    }
   ],
   "source": [
    "plt.boxplot([data_a, data_b, data_c, data_d], labels=['a', 'b', 'c', 'd']);"
   ]
  },
  {
   "cell_type": "code",
   "execution_count": 63,
   "id": "7f16c620-5755-4138-a89b-a75590f97ffb",
   "metadata": {},
   "outputs": [
    {
     "data": {
      "image/png": "[encoded data removed]",
      "text/plain": [
       "<Figure size 640x480 with 1 Axes>"
      ]
     },
     "metadata": {},
     "output_type": "display_data"
    }
   ],
   "source": [
    "plt.violinplot([data_a, data_b, data_c, data_d])\n",
    "plt.xticks([1, 2, 3, 4], ['a', 'b', 'c', 'd']);"
   ]
  },
  {
   "cell_type": "markdown",
   "id": "00a82745-3f7b-47a6-aa11-2dca7fcbddbf",
   "metadata": {},
   "source": [
    "**Discussion**: Which of the three plots above do you find most interesting?  What information do you get from each of them?"
   ]
  },
  {
   "cell_type": "markdown",
   "id": "2818f8db",
   "metadata": {},
   "source": [
    "**A vs 0, One-Sampled T-Test**: Is the mean of the normally-distributed population that the the dataset A is generated from unlikely to be zero?"
   ]
  },
  {
   "cell_type": "markdown",
   "id": "32ba344d",
   "metadata": {},
   "source": [
    "*Example*:"
   ]
  },
  {
   "cell_type": "code",
   "execution_count": 50,
   "id": "38d8a523",
   "metadata": {},
   "outputs": [
    {
     "data": {
      "text/plain": [
       "Ttest_1sampResult(statistic=-0.797966433655592, pvalue=0.43475058842710046)"
      ]
     },
     "execution_count": 50,
     "metadata": {},
     "output_type": "execute_result"
    }
   ],
   "source": [
    "stats.ttest_1samp(data_a, 0)"
   ]
  },
  {
   "cell_type": "markdown",
   "id": "1834ea70",
   "metadata": {},
   "source": [
    "**B vs 1, One-Sampled T-Test**: Is the mean of the normally-distributed population that the the dataset B is generated from unlikely to be one?"
   ]
  },
  {
   "cell_type": "code",
   "execution_count": 51,
   "id": "dba8de00",
   "metadata": {
    "tags": [
     "exercise"
    ]
   },
   "outputs": [
    {
     "data": {
      "text/plain": [
       "Ttest_1sampResult(statistic=-4.924581626018964, pvalue=9.410444261361524e-05)"
      ]
     },
     "execution_count": 51,
     "metadata": {},
     "output_type": "execute_result"
    }
   ],
   "source": [
    "stats.ttest_1samp(data_b, 1)"
   ]
  },
  {
   "cell_type": "markdown",
   "id": "67930529",
   "metadata": {},
   "source": [
    "**A vs B, Independent Samples T-Test**: Is the mean of the normally-distributed population that the the dataset `A` is generated from unlikely to be the same as the mean of the normally-distributed population that the the dataset `B` is generated from?"
   ]
  },
  {
   "cell_type": "code",
   "execution_count": 52,
   "id": "6eab913e",
   "metadata": {
    "cell_id": "00010-a8f4e43c-d3f9-4e70-abb6-f549c9c520f1",
    "deepnote_cell_type": "code",
    "tags": [
     "exercise"
    ]
   },
   "outputs": [
    {
     "data": {
      "text/plain": [
       "Ttest_indResult(statistic=-0.34548496872508355, pvalue=0.7316350980688235)"
      ]
     },
     "execution_count": 52,
     "metadata": {},
     "output_type": "execute_result"
    }
   ],
   "source": [
    "stats.ttest_ind(data_a, data_b)"
   ]
  },
  {
   "cell_type": "markdown",
   "id": "21e7c886",
   "metadata": {},
   "source": [
    "**A vs C, Independent Samples T-Test**: Is the mean of the normally-distributed population that the the dataset `A` is generated from unlikely to be the same as the mean of the normally-distributed population that the the dataset `C` is generated from?"
   ]
  },
  {
   "cell_type": "code",
   "execution_count": 53,
   "id": "facc6a4e",
   "metadata": {
    "cell_id": "00012-016e5e09-0b1b-4160-8a49-be6fe6944c0e",
    "deepnote_cell_type": "code",
    "tags": [
     "exercise"
    ]
   },
   "outputs": [
    {
     "data": {
      "text/plain": [
       "Ttest_indResult(statistic=-2.990400096331035, pvalue=0.004868348606416014)"
      ]
     },
     "execution_count": 53,
     "metadata": {},
     "output_type": "execute_result"
    }
   ],
   "source": [
    "stats.ttest_ind(data_a, data_c)"
   ]
  },
  {
   "cell_type": "markdown",
   "id": "c7f48a4c",
   "metadata": {
    "cell_id": "00014-1acad45d-9edc-4327-9d4a-a75100f221a6",
    "deepnote_cell_type": "markdown",
    "tags": []
   },
   "source": [
    "**A vs C, Paired Samples T-Test (a.k.a Relative Samples T-Test)**: Is the mean of the differences between each pair of samples in generated from the two normally-distributed populations `A` and `C`  unlikely to be 0?"
   ]
  },
  {
   "cell_type": "code",
   "execution_count": 54,
   "id": "e4d32f58",
   "metadata": {
    "cell_id": "00016-6a05d799-a83b-41f3-a512-49483da423bf",
    "deepnote_cell_type": "code",
    "tags": [
     "exercise"
    ]
   },
   "outputs": [
    {
     "data": {
      "text/plain": [
       "Ttest_relResult(statistic=-2.5719051374033515, pvalue=0.018669862069265977)"
      ]
     },
     "execution_count": 54,
     "metadata": {},
     "output_type": "execute_result"
    }
   ],
   "source": [
    "stats.ttest_rel(data_a, data_c)"
   ]
  },
  {
   "cell_type": "markdown",
   "id": "f4d2e3ee",
   "metadata": {
    "cell_id": "00017-72ede8ff-a028-4ad9-af67-d9ee5dd2ec58",
    "deepnote_cell_type": "markdown",
    "tags": []
   },
   "source": [
    "**A vs D, Paired Samples T-Test**: Is the mean of the differences between each pair of samples in generated from the two normally-distributed populations `A` and `D`  unlikely to be 0?"
   ]
  },
  {
   "cell_type": "code",
   "execution_count": 55,
   "id": "5ac05915",
   "metadata": {
    "cell_id": "00018-2ab8bfa9-071d-40e5-bc18-c18a90223066",
    "deepnote_cell_type": "code",
    "tags": [
     "exercise"
    ]
   },
   "outputs": [
    {
     "data": {
      "text/plain": [
       "Ttest_relResult(statistic=-2.5719051374033515, pvalue=0.018669862069265977)"
      ]
     },
     "execution_count": 55,
     "metadata": {},
     "output_type": "execute_result"
    }
   ],
   "source": [
    "stats.ttest_rel(data_a, data_c)"
   ]
  }
 ],
 "metadata": {
  "colab": {
   "name": "20_Stats_With_Pingouin.ipynb",
   "provenance": []
  },
  "deepnote": {},
  "deepnote_execution_queue": [],
  "deepnote_notebook_id": "2622f8ad-4a8a-45f5-9f7f-6e1d67bd04f0",
  "kernelspec": {
   "display_name": "Python 3 (ipykernel)",
   "language": "python",
   "name": "python3"
  },
  "language_info": {
   "codemirror_mode": {
    "name": "ipython",
    "version": 3
   },
   "file_extension": ".py",
   "mimetype": "text/x-python",
   "name": "python",
   "nbconvert_exporter": "python",
   "pygments_lexer": "ipython3",
   "version": "3.10.4"
  },
  "vscode": {
   "interpreter": {
    "hash": "d6852d01271bf8033dbdb7ec364b6f6e89fd52a18c6bf5b4c73e48c86329a8dd"
   }
  }
 },
 "nbformat": 4,
 "nbformat_minor": 5
}
