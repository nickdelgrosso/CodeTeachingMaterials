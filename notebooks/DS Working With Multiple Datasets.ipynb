{
 "cells": [
  {
   "cell_type": "code",
   "execution_count": null,
   "metadata": {
    "cell_id": "b26fe208-19ff-40a5-afa0-819060f626bf",
    "deepnote_cell_height": 65.953125,
    "deepnote_cell_type": "code"
   },
   "outputs": [],
   "source": [
    "import pandas as pd"
   ]
  },
  {
   "cell_type": "markdown",
   "metadata": {
    "cell_id": "00001-b3650f18-3cd1-4023-9d69-251da9339a81",
    "deepnote_cell_height": 45.96875,
    "deepnote_cell_type": "markdown"
   },
   "source": []
  },
  {
   "cell_type": "markdown",
   "metadata": {
    "cell_id": "00002-5cf2fb4c-416d-43d2-82cc-fd499dab5c99",
    "deepnote_cell_height": 245.921875,
    "deepnote_cell_type": "markdown",
    "owner_user_id": "c7a9f7f2-eddd-41d5-be7d-5159ad6417bb"
   },
   "source": [
    "## Finalizing Data for Analysis\n",
    "### Working with Multiple Datasets\n"
   ]
  },
  {
   "cell_type": "markdown",
   "metadata": {
    "cell_id": "00003-4e8edbd0-5ab3-4773-8ac6-1b9487250f7b",
    "deepnote_cell_height": 144.71875,
    "deepnote_cell_type": "markdown"
   },
   "source": [
    "## Load Data\n",
    "\n",
    "**Exercises**\n",
    "\n",
    "Let's take a look at the Gapminder Dataset from Bokeh!"
   ]
  },
  {
   "cell_type": "markdown",
   "metadata": {
    "cell_id": "00004-0a2d31fc-43a7-43c0-88b6-fd0dbd6fb02c",
    "deepnote_cell_height": 52.34375,
    "deepnote_cell_type": "markdown"
   },
   "source": [
    "Get the [Bokeh](https://pypi.org/project/bokeh/) package, and load the data"
   ]
  },
  {
   "cell_type": "code",
   "execution_count": null,
   "metadata": {
    "cell_id": "00005-15f1782d-1c2f-4fa5-8359-7074686f5961",
    "deepnote_cell_height": 172.125,
    "deepnote_cell_type": "code",
    "deepnote_output_heights": [
     21.1875
    ]
   },
   "outputs": [
    {
     "data": {
      "text/plain": [
       "<module 'bokeh.sampledata.gapminder' from 'C:\\\\Users\\\\nickdg\\\\anaconda3\\\\lib\\\\site-packages\\\\bokeh\\\\sampledata\\\\gapminder.py'>"
      ]
     },
     "execution_count": 10,
     "metadata": {},
     "output_type": "execute_result"
    }
   ],
   "source": [
    "import bokeh\n",
    "# bokeh.sampledata.download()\n",
    "from bokeh.sampledata import gapminder\n",
    "gapminder"
   ]
  },
  {
   "cell_type": "markdown",
   "metadata": {
    "cell_id": "00006-6ad8466f-165c-4954-a5f7-4bd226f67d56",
    "deepnote_cell_height": 74.734375,
    "deepnote_cell_type": "markdown"
   },
   "source": [
    "Explore the gapminder module, assign a variable to each dataset it contains, and print a preview of each dataset."
   ]
  },
  {
   "cell_type": "code",
   "execution_count": null,
   "metadata": {
    "cell_id": "00007-74b64569-aa93-48bd-b83d-5493b38fcfe9",
    "deepnote_cell_height": 65.953125,
    "deepnote_cell_type": "code"
   },
   "outputs": [],
   "source": []
  },
  {
   "cell_type": "markdown",
   "metadata": {
    "cell_id": "00008-e0d6221a-f607-4c5a-a683-a42a3cd8b869",
    "deepnote_cell_height": 571.640625,
    "deepnote_cell_type": "markdown"
   },
   "source": [
    "### Plotting and Indexing the Data\n",
    "\n",
    "#### Indexing Columns and Rows from DataFrames\n",
    "\n",
    "| Axis        | Ordered Index | Named Index    | Ordered Slice    | Named Slice              |  NamedOrdered Slice     |\n",
    "| :--        | :--          | :--          | :--             | :--                     | :--                    |\n",
    "| **Columns** |               |  df\\['Q1'\\] or df.Q1  |                  |  df\\[\\['Q1', 'Q4'\\]\\]        |                         |\n",
    "| **Rows**    | df.iloc\\[0\\]    | df.loc\\['John'\\] | df.iloc\\[0:2\\] or df\\[0:2\\]  | df.loc\\[\\['Jim', 'John'\\]\\]  |  df.loc\\['Jim':'Jenny'\\] or df\\['Jim':'Jenny'\\] |\n",
    "\n",
    "\n",
    ".\n",
    "\n",
    "**Note**: Notice that square brackets are used after `df.loc` and `df.iloc`.\n",
    "\n",
    "\n",
    "#### Plotting Data with Pandas\n",
    "\n",
    "Pandas uses Matplotplib by default to plot data:\n",
    "\n",
    "| Plot type | Plot Submodule Function | Plot Function |\n",
    "| :-- | :-- | :-- |\n",
    "| Line | `df.plot.line()` | `df.plot()` | \n",
    "| Scatter | `df.plot.scatter()` | `df.plot(kind='scatter')` | \n",
    "| Bar  | `df.plot.bar()` |`df.plot(kind='bar')` |"
   ]
  },
  {
   "cell_type": "markdown",
   "metadata": {
    "cell_id": "00009-682a956b-9ec0-449e-aba4-2a90a610f25f",
    "deepnote_cell_height": 97.109375,
    "deepnote_cell_type": "markdown"
   },
   "source": [
    "**Exercises**\n",
    "Without modifying the dataframes provided by gapmember and without creating new variables, do the following tasks:"
   ]
  },
  {
   "cell_type": "markdown",
   "metadata": {
    "cell_id": "00010-c739e859-42c9-4635-aeb6-0411e3c987d0",
    "deepnote_cell_height": 52.34375,
    "deepnote_cell_type": "markdown"
   },
   "source": [
    "Print the 1975 fertility data."
   ]
  },
  {
   "cell_type": "code",
   "execution_count": null,
   "metadata": {
    "cell_id": "00011-a9ef8338-bd91-4a63-b8a3-d2ff700136d3",
    "deepnote_cell_height": 65.953125,
    "deepnote_cell_type": "code"
   },
   "outputs": [],
   "source": []
  },
  {
   "cell_type": "markdown",
   "metadata": {
    "cell_id": "00012-f4c95d85-859d-4668-9f7c-7bea3a08dd55",
    "deepnote_cell_height": 52.34375,
    "deepnote_cell_type": "markdown"
   },
   "source": [
    "Print Germany's population data."
   ]
  },
  {
   "cell_type": "code",
   "execution_count": null,
   "metadata": {
    "cell_id": "00013-62b9f398-b373-4fb0-ad51-d1913e960ef2",
    "deepnote_cell_height": 65.953125,
    "deepnote_cell_type": "code"
   },
   "outputs": [],
   "source": []
  },
  {
   "cell_type": "markdown",
   "metadata": {
    "cell_id": "00014-e6bbc428-afa6-411c-b720-1b1c28a6d0cc",
    "deepnote_cell_height": 52.34375,
    "deepnote_cell_type": "markdown"
   },
   "source": [
    "Print the last 10 rows of population data"
   ]
  },
  {
   "cell_type": "code",
   "execution_count": null,
   "metadata": {
    "cell_id": "00015-89b1ab8f-b721-4654-a333-22af7b8b0830",
    "deepnote_cell_height": 65.953125,
    "deepnote_cell_type": "code"
   },
   "outputs": [],
   "source": []
  },
  {
   "cell_type": "markdown",
   "metadata": {
    "cell_id": "00016-f07da129-359b-45fe-94e7-f2f8b3a8561e",
    "deepnote_cell_height": 52.34375,
    "deepnote_cell_type": "markdown"
   },
   "source": [
    "Plot Romania's population over the years"
   ]
  },
  {
   "cell_type": "code",
   "execution_count": null,
   "metadata": {
    "cell_id": "00017-c5a98ea4-fb8d-4999-aeff-73e530c224b3",
    "deepnote_cell_height": 65.953125,
    "deepnote_cell_type": "code"
   },
   "outputs": [],
   "source": []
  },
  {
   "cell_type": "markdown",
   "metadata": {
    "cell_id": "00018-ea59c145-a9b7-48a7-8dce-9fc16190a111",
    "deepnote_cell_height": 52.34375,
    "deepnote_cell_type": "markdown"
   },
   "source": [
    "Plot Cuba's life expectancy levels from 1970 to 1995."
   ]
  },
  {
   "cell_type": "code",
   "execution_count": null,
   "metadata": {
    "cell_id": "00019-eb0400f7-b74b-42e9-a95d-17162a957dee",
    "deepnote_cell_height": 65.953125,
    "deepnote_cell_type": "code"
   },
   "outputs": [],
   "source": []
  },
  {
   "cell_type": "markdown",
   "metadata": {
    "cell_id": "00020-0908a3f9-c17e-40ed-9e6e-176a9bddb51c",
    "deepnote_cell_height": 74.734375,
    "deepnote_cell_type": "markdown"
   },
   "source": [
    "Plot the life expectancy in 2005 of the first 5 countries in the dataset."
   ]
  },
  {
   "cell_type": "code",
   "execution_count": null,
   "metadata": {
    "cell_id": "00021-afc30cee-71e2-4e78-92d6-6f36b5c59fb8",
    "deepnote_cell_height": 65.953125,
    "deepnote_cell_type": "code"
   },
   "outputs": [],
   "source": []
  },
  {
   "cell_type": "markdown",
   "metadata": {
    "cell_id": "00022-3fd2f0d0-2c85-4a95-b580-808dfc803344",
    "deepnote_cell_height": 74.734375,
    "deepnote_cell_type": "markdown"
   },
   "source": [
    "Plot Ghana's Fertility rate from 1990 to the most recent year of the dataset"
   ]
  },
  {
   "cell_type": "code",
   "execution_count": null,
   "metadata": {
    "cell_id": "00023-0eb35f5b-2d82-42fb-a97f-3f5b62c3fbd9",
    "deepnote_cell_height": 65.953125,
    "deepnote_cell_type": "code"
   },
   "outputs": [],
   "source": []
  },
  {
   "cell_type": "markdown",
   "metadata": {
    "cell_id": "00024-5da7bb2e-f9e2-428a-a671-3bf4a991f44f",
    "deepnote_cell_height": 74.734375,
    "deepnote_cell_type": "markdown"
   },
   "source": [
    "Plot the latest population levels of all the countries that begin with the letter \"G\""
   ]
  },
  {
   "cell_type": "code",
   "execution_count": null,
   "metadata": {
    "cell_id": "00025-fad9a443-7c82-40f1-a863-057db1df94df",
    "deepnote_cell_height": 65.953125,
    "deepnote_cell_type": "code"
   },
   "outputs": [],
   "source": []
  },
  {
   "cell_type": "markdown",
   "metadata": {
    "cell_id": "00026-1a0c4081-333a-4169-8d56-e52bcaa5f5ec",
    "deepnote_cell_height": 392.90625,
    "deepnote_cell_type": "markdown"
   },
   "source": [
    "### Merging Relational Datasets\n",
    "\n",
    "DataFrames try to merge indices\n",
    "| Situation | Arguments for `pd.merge()` |\n",
    "| :-----   | :----- |\n",
    "| Merge both  | `pd.merge()` |\n",
    "| Merge both with column | `pd.merge(left_on=, right_on=)` |\n",
    "| Right dataset uses index, the left uses column | `pd.merge(left_on=, right_index=)` |\n",
    "| both datasets indexed, adding a column to one of them. | `df1['NewCol'] = df2['Col']`\n",
    "\n",
    "**Note**: Rows that don't line up might be dropped, depening on the *kind* of merge: \"inner\", \"outer\", \"left\", or \"right\""
   ]
  },
  {
   "cell_type": "markdown",
   "metadata": {
    "cell_id": "00027-5633d86c-1cfa-4b87-8f04-5772ddd8df0d",
    "deepnote_cell_height": 155.875,
    "deepnote_cell_type": "markdown"
   },
   "source": [
    "**Toy Dataset Exercises**\n",
    "\n",
    "Without transforming the data, using the data below containing kids' favorite things, merge dataframes into a single dataframe to show the answers the questions below"
   ]
  },
  {
   "cell_type": "code",
   "execution_count": null,
   "metadata": {
    "cell_id": "00028-2cde8be9-53d8-4b73-9a8f-8ebca62d2ef4",
    "deepnote_cell_height": 119.953125,
    "deepnote_cell_type": "code"
   },
   "outputs": [],
   "source": [
    "colors = pd.DataFrame(columns=['KidName', 'FavColor'], data=[('Joe', 'Red'), ('Jenny', 'Blue'), ('Jim', 'Green')])\n",
    "foods = pd.DataFrame(columns=['Name', 'FavFood'], data=[('Jenny', 'Spätzle'), ('Jim', 'Spaghetti'), ('Joe', 'Ramen')], index=[1, 2, 3])\n",
    "subjects = pd.DataFrame(columns=['Name', 'Subject'], data=[('Jim', 'Math'), ('Joe', 'Reading'), ('Jess', 'Gym'), ('Jim', 'Geography')])\n",
    "toys = pd.DataFrame(columns=['Toy'], data=['Car', 'Blocks', 'Doll'], index=['Jess', 'Joe', 'Jeff'])"
   ]
  },
  {
   "cell_type": "markdown",
   "metadata": {
    "cell_id": "00029-52b877f6-b28b-4729-b79d-a5076f65007b",
    "deepnote_cell_height": 52.34375,
    "deepnote_cell_type": "markdown"
   },
   "source": [
    "What are the favorite color and foods of each kid?"
   ]
  },
  {
   "cell_type": "code",
   "execution_count": null,
   "metadata": {
    "cell_id": "00030-e5a2ac5d-8ba3-4cb4-832c-5d8911a388fe",
    "deepnote_cell_height": 65.953125,
    "deepnote_cell_type": "code"
   },
   "outputs": [],
   "source": []
  },
  {
   "cell_type": "markdown",
   "metadata": {
    "cell_id": "00031-a81c06d2-adec-45f2-b5af-dc3e2d67b3b7",
    "deepnote_cell_height": 52.34375,
    "deepnote_cell_type": "markdown"
   },
   "source": [
    "What are the favorite food and subject of each kid?"
   ]
  },
  {
   "cell_type": "markdown",
   "metadata": {
    "cell_id": "00032-c9a20d47-f6e5-4fa5-8be1-005cb0cf0a02",
    "deepnote_cell_height": 45.96875,
    "deepnote_cell_type": "markdown"
   },
   "source": []
  },
  {
   "cell_type": "markdown",
   "metadata": {
    "cell_id": "00033-d6054445-491d-4a35-b38f-f9df32f3b63d",
    "deepnote_cell_height": 52.34375,
    "deepnote_cell_type": "markdown"
   },
   "source": [
    "What are the favorite color and subject of each kid?"
   ]
  },
  {
   "cell_type": "code",
   "execution_count": null,
   "metadata": {
    "cell_id": "00034-655ac01d-0592-44bd-b888-7fcfc2051f8f",
    "deepnote_cell_height": 65.953125,
    "deepnote_cell_type": "code"
   },
   "outputs": [],
   "source": []
  },
  {
   "cell_type": "markdown",
   "metadata": {
    "cell_id": "00035-8be6799d-51a1-4e32-a3d9-a8e4ea4bbba0",
    "deepnote_cell_height": 52.34375,
    "deepnote_cell_type": "markdown"
   },
   "source": [
    "What are the favorite subject and toy of each kid?"
   ]
  },
  {
   "cell_type": "code",
   "execution_count": null,
   "metadata": {
    "cell_id": "00036-bbfd4aa8-81a8-4154-9585-803b574e090d",
    "deepnote_cell_height": 65.953125,
    "deepnote_cell_type": "code"
   },
   "outputs": [],
   "source": []
  },
  {
   "cell_type": "markdown",
   "metadata": {
    "cell_id": "00037-29ea5f7e-67bd-4bf5-9766-6ce1c5125dc8",
    "deepnote_cell_height": 52.34375,
    "deepnote_cell_type": "markdown"
   },
   "source": [
    "What are the favorite subject, toy, and food of each kid?"
   ]
  },
  {
   "cell_type": "code",
   "execution_count": null,
   "metadata": {
    "cell_id": "00038-aa078635-53db-46c7-859c-870dfff2e195",
    "deepnote_cell_height": 65.953125,
    "deepnote_cell_type": "code"
   },
   "outputs": [],
   "source": []
  },
  {
   "cell_type": "markdown",
   "metadata": {
    "cell_id": "00039-2f1fa92c-cac9-4c9e-8063-ec79a93c42d2",
    "deepnote_cell_height": 74.734375,
    "deepnote_cell_type": "markdown"
   },
   "source": [
    "Join all the data together into one table, including any missing data."
   ]
  },
  {
   "cell_type": "code",
   "execution_count": null,
   "metadata": {
    "cell_id": "00040-96dd814c-4a24-41d4-88e9-15a9f214e4ae",
    "deepnote_cell_height": 65.953125,
    "deepnote_cell_type": "code"
   },
   "outputs": [],
   "source": []
  },
  {
   "cell_type": "markdown",
   "metadata": {
    "cell_id": "00041-a484f115-9336-4a60-8ecf-32f61898556a",
    "deepnote_cell_height": 543.96875,
    "deepnote_cell_type": "markdown"
   },
   "source": [
    "**Gapminder Exercise**\n",
    "\n",
    "As you can see, the index is really useful! Some useful functions for interacting with the index and columns:\n",
    "\n",
    "| Function | Purpose |\n",
    "| :--- | :---- |\n",
    "| `df.set_index(name)` | Moves a column to the index | \n",
    "| `df.reset_index()` | Moves the indices to a column |\n",
    "| `df.rename_axis(index=name)` | Gives a name to the index column |\n",
    "| `df.rename_axis(columns=name)` | Gives a name to the set of columns |\n",
    "| `df.T` | Transposes (switches) the indices and columns |\n",
    "| `df.unstack()` | Moves the columns into the indices. |\n",
    "| `series.unstack()` | If there are multiple indices, moves the left-most one to the columns |"
   ]
  },
  {
   "cell_type": "markdown",
   "metadata": {
    "cell_id": "00042-a9f7a35f-4158-41ce-aa43-30b3349b0a95",
    "deepnote_cell_height": 74.734375,
    "deepnote_cell_type": "markdown"
   },
   "source": [
    "Goal: Join all the gapminder data a single dataframe (will likely take many staps!"
   ]
  },
  {
   "cell_type": "code",
   "execution_count": null,
   "metadata": {
    "cell_id": "00043-bfeefd2d-a889-40b9-88f4-0672331ce2a9",
    "deepnote_cell_height": 65.953125,
    "deepnote_cell_type": "code"
   },
   "outputs": [],
   "source": []
  },
  {
   "cell_type": "code",
   "execution_count": null,
   "metadata": {
    "cell_id": "00044-5267ec38-aa12-4345-b53b-87f4aef4630d",
    "deepnote_cell_height": 65.953125,
    "deepnote_cell_type": "code"
   },
   "outputs": [],
   "source": []
  },
  {
   "cell_type": "markdown",
   "metadata": {
    "cell_id": "00045-aaf95e8b-7a3e-43c4-87b2-3c4f19052b68",
    "deepnote_cell_height": 456.53125,
    "deepnote_cell_type": "markdown"
   },
   "source": [
    "## Writing Multiple DataFrames to a single File \n",
    "\n",
    "Since associating data together is so valuable, keeping it together in a single file is really helpful!\n",
    "Pandas provides a few common formats that support multiple datasets:\n",
    "\n",
    "| Format | Example File Extension | Example Code |\n",
    "| :---- | :---- | :---- |\n",
    "| Excel Spreadsheet | .xlsx | `df.to_excel('data.xlsx', 'Sheet1')` |\n",
    "| HDF5 | .h5 | `df.to_hdf('data.h5', 'data1')` |\n",
    "| Sqlite | .db, .sqlite | `df.to_sql('data1', 'sqlite:///data.db'` |\n"
   ]
  },
  {
   "cell_type": "markdown",
   "metadata": {
    "cell_id": "00046-26a2a40f-5f00-4a4d-915c-2ca1ba13eae7",
    "deepnote_cell_height": 133.5,
    "deepnote_cell_type": "markdown"
   },
   "source": [
    "**Exercises**\n",
    "\n",
    "Save each dataframe of the original gapminder dataset into a single file of each type.  You may have to install extra packages in the process."
   ]
  },
  {
   "cell_type": "markdown",
   "metadata": {
    "cell_id": "00047-4eced169-3c8a-4756-bf23-e3e8b55d859c",
    "deepnote_cell_height": 52.34375,
    "deepnote_cell_type": "markdown"
   },
   "source": [
    "Microsoft Excel Spreadsheet"
   ]
  },
  {
   "cell_type": "code",
   "execution_count": null,
   "metadata": {
    "cell_id": "00048-ff0d5846-1322-4bdd-bc90-324f8bf11050",
    "deepnote_cell_height": 65.953125,
    "deepnote_cell_type": "code"
   },
   "outputs": [],
   "source": []
  },
  {
   "cell_type": "markdown",
   "metadata": {
    "cell_id": "00049-4f9acd3d-d6ab-42ae-9518-687b92d5c03d",
    "deepnote_cell_height": 52.34375,
    "deepnote_cell_type": "markdown"
   },
   "source": [
    "HDF5"
   ]
  },
  {
   "cell_type": "code",
   "execution_count": null,
   "metadata": {
    "cell_id": "00050-10cb3ab0-afbb-494c-922a-092393010e87",
    "deepnote_cell_height": 65.953125,
    "deepnote_cell_type": "code"
   },
   "outputs": [],
   "source": []
  },
  {
   "cell_type": "markdown",
   "metadata": {
    "cell_id": "00051-33a77a75-d00f-490a-a916-e73b250e4d8b",
    "deepnote_cell_height": 52.34375,
    "deepnote_cell_type": "markdown"
   },
   "source": [
    "Sqlite"
   ]
  },
  {
   "cell_type": "code",
   "execution_count": null,
   "metadata": {
    "cell_id": "00052-676139ec-20ca-4123-a831-1de5b9c2e3d3",
    "deepnote_cell_height": 65.953125,
    "deepnote_cell_type": "code"
   },
   "outputs": [],
   "source": []
  },
  {
   "cell_type": "markdown",
   "metadata": {
    "created_in_deepnote_cell": true,
    "deepnote_cell_type": "markdown",
    "tags": []
   },
   "source": [
    "<a style='text-decoration:none;line-height:16px;display:flex;color:#5B5B62;padding:10px;justify-content:end;' href='https://deepnote.com?utm_source=created-in-deepnote-cell&projectId=e3864fec-5c74-4afd-820a-51eef00d934b' target=\"_blank\">\n",
    "<img alt='Created in deepnote.com' style='display:inline;max-height:16px;margin:0px;margin-right:7.5px;' src='data:image/svg+xml;base64,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' > </img>\n",
    "Created in <span style='font-weight:600;margin-left:4px;'>Deepnote</span></a>"
   ]
  }
 ],
 "metadata": {
  "deepnote": {},
  "deepnote_execution_queue": [],
  "deepnote_notebook_id": "391d5ff7-81de-44f0-ab0c-3fea54081a04",
  "kernelspec": {
   "display_name": "Python 3.9.12 ('base')",
   "language": "python",
   "name": "python3"
  },
  "language_info": {
   "codemirror_mode": {
    "name": "ipython",
    "version": 3
   },
   "file_extension": ".py",
   "mimetype": "text/x-python",
   "name": "python",
   "nbconvert_exporter": "python",
   "pygments_lexer": "ipython3",
   "version": "3.9.12"
  },
  "vscode": {
   "interpreter": {
    "hash": "4053583a5b94002d654b899144bd46215da5e37064ba71140a4b7387da73a050"
   }
  }
 },
 "nbformat": 4,
 "nbformat_minor": 5
}
