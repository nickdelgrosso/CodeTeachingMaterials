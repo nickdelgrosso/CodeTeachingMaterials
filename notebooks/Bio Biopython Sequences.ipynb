{
 "cells": [
  {
   "cell_type": "code",
   "execution_count": null,
   "id": "5da7283e",
   "metadata": {},
   "outputs": [],
   "source": [
    "!pip install BioPython"
   ]
  },
  {
   "cell_type": "markdown",
   "metadata": {
    "cell_id": "00000-00019238-e371-4913-8bc5-24c915aed5f3",
    "deepnote_cell_type": "markdown",
    "id": "amateur-racing"
   },
   "source": [
    "# Working with Sequence Data in BioPython"
   ]
  },
  {
   "cell_type": "markdown",
   "metadata": {
    "cell_id": "00001-00fdc70a-85cf-4321-9643-145328d997f3",
    "deepnote_cell_type": "markdown",
    "id": "erHG33elXI8N"
   },
   "source": []
  },
  {
   "cell_type": "markdown",
   "metadata": {
    "cell_id": "00002-0b88d84c-cfa5-4181-8e7a-e4d5380ca058",
    "deepnote_cell_type": "markdown",
    "id": "numerous-boost"
   },
   "source": [
    "## The Seq Type\n",
    "\n",
    "| Method | Description | Note |\n",
    "| :--:   | :---:       | :--: |\n",
    "| Seq.complement() | The complement sequence |  |\n",
    "| Seq.reverse_complement() | The complement sequence |  |\n",
    "| Seq.complement_rna() | The complement sequence | Only for RNA |\n",
    "| Seq.reverse_complement_rna() | The complement sequence | Only for RNA |\n",
    "| Seq.transcribe()  | Transcribe to RNA | Meant for DNA |\n",
    "| Seq.translate()   | Translate to Peptide |  |\n",
    "| Seq.ungap()  | Remove gap characters in a sequence |   |\n",
    "| Seq.count(\"G\")  | Count the number of \"G\" in the sequence |  |\n",
    "| Seq.index(\"G\")  | Find the first index location of a \"G\" in the sequence |  |"
   ]
  },
  {
   "cell_type": "code",
   "execution_count": null,
   "metadata": {
    "cell_id": "00003-547fa6d5-beb8-44fa-9804-127f22f8c5cb",
    "deepnote_cell_type": "code",
    "id": "republican-vermont"
   },
   "outputs": [],
   "source": [
    "from Bio.Seq import Seq"
   ]
  },
  {
   "cell_type": "markdown",
   "metadata": {
    "cell_id": "00004-68386b11-3bdd-4431-8b0e-2f8793d75609",
    "deepnote_cell_type": "markdown",
    "id": "traditional-banks"
   },
   "source": [
    "**Using the following DNA sequence:**"
   ]
  },
  {
   "cell_type": "code",
   "execution_count": null,
   "metadata": {
    "cell_id": "00005-a6fb7c6d-2ab7-4ea5-a505-3657deffc7bb",
    "deepnote_cell_type": "code",
    "id": "prescription-backing",
    "outputId": "d4d4cf6a-ef8d-4bb0-8502-ef622f7258e0"
   },
   "outputs": [
    {
     "data": {
      "text/plain": [
       "Seq('AGCTGGGCA')"
      ]
     },
     "execution_count": 31,
     "metadata": {
      "tags": []
     },
     "output_type": "execute_result"
    }
   ],
   "source": [
    "seq= Seq(\"AGCTGGGCA\")\n",
    "seq"
   ]
  },
  {
   "cell_type": "markdown",
   "metadata": {
    "cell_id": "00006-6c87c9d1-a9d9-4c8b-a111-08c2e4d592d7",
    "deepnote_cell_type": "markdown",
    "id": "presidential-behalf"
   },
   "source": [
    "Get the complement DNA sequence"
   ]
  },
  {
   "cell_type": "code",
   "execution_count": null,
   "metadata": {
    "cell_id": "00007-c0ac6dc3-894f-4c5d-8cf4-00b5c9035b5a",
    "deepnote_cell_type": "code",
    "id": "intimate-circumstances"
   },
   "outputs": [],
   "source": []
  },
  {
   "cell_type": "markdown",
   "metadata": {
    "cell_id": "00008-db2f393f-371e-41a0-97de-a0412d2cadfb",
    "deepnote_cell_type": "markdown",
    "id": "entire-dayton"
   },
   "source": [
    "Get the reverse complement DNA sequence"
   ]
  },
  {
   "cell_type": "code",
   "execution_count": null,
   "metadata": {
    "cell_id": "00009-ad1224e8-106f-40d9-9dab-4fce22af5fbd",
    "deepnote_cell_type": "code",
    "id": "restricted-helena"
   },
   "outputs": [],
   "source": []
  },
  {
   "cell_type": "markdown",
   "metadata": {
    "cell_id": "00010-752d7254-6725-453b-8cba-e0b3d60191fc",
    "deepnote_cell_type": "markdown",
    "id": "level-luxembourg"
   },
   "source": [
    "Transcribe it to RNA"
   ]
  },
  {
   "cell_type": "code",
   "execution_count": null,
   "metadata": {
    "cell_id": "00011-f40b18e1-756d-4c59-8171-225b44426db7",
    "deepnote_cell_type": "code",
    "id": "blank-separate"
   },
   "outputs": [],
   "source": []
  },
  {
   "cell_type": "markdown",
   "metadata": {
    "cell_id": "00012-ad919344-841d-4b1b-9d79-07299671e5a8",
    "deepnote_cell_type": "markdown",
    "id": "naked-terminology"
   },
   "source": [
    "Count the number of Cytosines:"
   ]
  },
  {
   "cell_type": "code",
   "execution_count": null,
   "metadata": {
    "cell_id": "00013-ef3a5ef5-4d18-4328-bf10-38a60e1de450",
    "deepnote_cell_type": "code",
    "id": "affected-receiver"
   },
   "outputs": [],
   "source": []
  },
  {
   "cell_type": "markdown",
   "metadata": {
    "cell_id": "00014-56f8b079-21d3-4f7e-8a19-d607d104de37",
    "deepnote_cell_type": "markdown",
    "id": "higher-enough"
   },
   "source": [
    "**Using the following DNA Sequence**:"
   ]
  },
  {
   "cell_type": "code",
   "execution_count": null,
   "metadata": {
    "cell_id": "00015-1c0271d0-28b5-40f1-9da7-15200a440932",
    "deepnote_cell_type": "code",
    "id": "combined-dairy",
    "outputId": "ab5eb30e-d02c-4a4e-abe8-b4e1e094167c"
   },
   "outputs": [
    {
     "data": {
      "text/plain": [
       "Seq('AGT-TCC-GGC-TCC')"
      ]
     },
     "execution_count": 34,
     "metadata": {
      "tags": []
     },
     "output_type": "execute_result"
    }
   ],
   "source": [
    "seq = Seq(\"AGT-TCC-GGC-TCC\")\n",
    "seq"
   ]
  },
  {
   "cell_type": "markdown",
   "metadata": {
    "cell_id": "00016-54c783fa-ae63-4a75-8b47-1d5a2aa181a3",
    "deepnote_cell_type": "markdown",
    "id": "caring-dealing"
   },
   "source": [
    "Get the complement DNA sequence:"
   ]
  },
  {
   "cell_type": "code",
   "execution_count": null,
   "metadata": {
    "cell_id": "00017-b2855a38-a2a1-4374-a088-fbeaba48ba1e",
    "deepnote_cell_type": "code",
    "id": "medieval-pioneer"
   },
   "outputs": [],
   "source": []
  },
  {
   "cell_type": "markdown",
   "metadata": {
    "cell_id": "00018-4de55b16-63e7-44e0-994d-7b3a5609eae7",
    "deepnote_cell_type": "markdown",
    "id": "massive-poker"
   },
   "source": [
    "Remove the gap characters:"
   ]
  },
  {
   "cell_type": "code",
   "execution_count": null,
   "metadata": {
    "cell_id": "00019-303062fd-23a7-4848-bb58-7e81905cc077",
    "deepnote_cell_type": "code",
    "id": "turkish-nelson"
   },
   "outputs": [],
   "source": []
  },
  {
   "cell_type": "markdown",
   "metadata": {
    "cell_id": "00020-e75e2c1d-d500-4a23-a12f-546c1b9a5daf",
    "deepnote_cell_type": "markdown",
    "id": "clean-knowing"
   },
   "source": [
    "Translate it to a Peptide sequence:"
   ]
  },
  {
   "cell_type": "code",
   "execution_count": null,
   "metadata": {
    "cell_id": "00021-82584495-4ece-4784-aaef-f6aa53e4ad48",
    "deepnote_cell_type": "code",
    "id": "tutorial-french"
   },
   "outputs": [],
   "source": []
  },
  {
   "cell_type": "markdown",
   "metadata": {
    "cell_id": "00022-2508d649-ba37-469f-987f-bf4d5c6ff8b2",
    "deepnote_cell_type": "markdown",
    "id": "sunset-crystal"
   },
   "source": [
    "Count the number of TCC codons:"
   ]
  },
  {
   "cell_type": "code",
   "execution_count": null,
   "metadata": {
    "cell_id": "00023-d38a526d-b88e-4777-9768-a223cd81d860",
    "deepnote_cell_type": "code",
    "id": "excess-leader"
   },
   "outputs": [],
   "source": []
  },
  {
   "cell_type": "markdown",
   "metadata": {
    "cell_id": "00024-1ac95be8-1ee1-47d9-a7bf-c93b7164fffa",
    "deepnote_cell_type": "markdown",
    "id": "upper-master"
   },
   "source": [
    "**Using the following RNA sequence:**"
   ]
  },
  {
   "cell_type": "code",
   "execution_count": null,
   "metadata": {
    "cell_id": "00025-e6fed0cd-dae1-4d71-a26d-80f3dfc52f0e",
    "deepnote_cell_type": "code",
    "id": "electric-protection",
    "outputId": "2795566f-5873-4b83-a561-3e81953e3097"
   },
   "outputs": [
    {
     "data": {
      "text/plain": [
       "Seq('AUGCUGCUUAG')"
      ]
     },
     "execution_count": 29,
     "metadata": {
      "tags": []
     },
     "output_type": "execute_result"
    }
   ],
   "source": [
    "seq= Seq(\"AUGCUGCUUAG\")\n",
    "seq"
   ]
  },
  {
   "cell_type": "markdown",
   "metadata": {
    "cell_id": "00026-c98f857b-b51b-486e-997b-061c46fd2519",
    "deepnote_cell_type": "markdown",
    "id": "greek-digit"
   },
   "source": [
    "Get the complement RNA sequence"
   ]
  },
  {
   "cell_type": "code",
   "execution_count": null,
   "metadata": {
    "cell_id": "00027-7a1e8089-ceb9-4553-9064-393af561104f",
    "deepnote_cell_type": "code",
    "id": "ceramic-taiwan"
   },
   "outputs": [],
   "source": []
  },
  {
   "cell_type": "markdown",
   "metadata": {
    "cell_id": "00028-61408f7c-dc17-458e-997a-8fca217488e2",
    "deepnote_cell_type": "markdown",
    "id": "legal-television"
   },
   "source": [
    "Get the reverse complement RNA sequence"
   ]
  },
  {
   "cell_type": "code",
   "execution_count": null,
   "metadata": {
    "cell_id": "00029-edfc40ee-426e-4210-8ca2-94a259ad3a13",
    "deepnote_cell_type": "code",
    "id": "above-resolution"
   },
   "outputs": [],
   "source": []
  },
  {
   "cell_type": "markdown",
   "metadata": {
    "cell_id": "00030-28a1f129-b872-4ffa-b4a8-33e4302072b2",
    "deepnote_cell_type": "markdown",
    "id": "forbidden-creation"
   },
   "source": [
    "Translate it to a peptide sequence"
   ]
  },
  {
   "cell_type": "code",
   "execution_count": null,
   "metadata": {
    "cell_id": "00031-9b291af2-4d10-47c7-a8fc-a09e28a3f785",
    "deepnote_cell_type": "code",
    "id": "preceding-opera"
   },
   "outputs": [],
   "source": []
  },
  {
   "cell_type": "markdown",
   "metadata": {
    "cell_id": "00032-17366263-8cf0-4dfd-9ee6-445f36ef50d9",
    "deepnote_cell_type": "markdown",
    "id": "finished-italy"
   },
   "source": [
    "## SeqIO: Reading Seqs from Files\n",
    "\n",
    "|  Function  | Description  | Example |\n",
    "| :--:       |  :----:      | :----:  |\n",
    "| SeqIO.read | Read a single sequence record from a file | `SeqIO.read(\"myfile.fasta\", \"fasta\")` |\n",
    "| SeqIO.parse | Read a sequence of sequence records from a file | `SeqIO.read(\"myfile.fasta\", \"fasta\")` |"
   ]
  },
  {
   "cell_type": "code",
   "execution_count": null,
   "metadata": {
    "cell_id": "00033-0e77134a-9fa7-41a2-97f4-c2fefaabfc96",
    "deepnote_cell_type": "code",
    "id": "challenging-burlington"
   },
   "outputs": [],
   "source": [
    "from Bio import SeqIO"
   ]
  },
  {
   "cell_type": "markdown",
   "metadata": {
    "cell_id": "00034-1d3cb6a4-6bb4-4a07-a0b1-bb1ed0767b68",
    "deepnote_cell_type": "markdown",
    "id": "chubby-scenario"
   },
   "source": [
    "### Getting COVID's DNA"
   ]
  },
  {
   "cell_type": "markdown",
   "metadata": {
    "cell_id": "00035-a8760414-a662-4711-b86f-7afdcb7bb34b",
    "deepnote_cell_type": "markdown",
    "id": "virtual-symphony"
   },
   "source": [
    "Download the fasta file from the NCBI database (visual instructions below):  https://www.ncbi.nlm.nih.gov/nuccore/NC_045512.2?report=fasta"
   ]
  },
  {
   "cell_type": "markdown",
   "metadata": {
    "cell_id": "00036-5043a132-3c33-46e6-a647-afa3a4aac554",
    "deepnote_cell_type": "markdown",
    "id": "cubic-listing"
   },
   "source": [
    "![](data:image/png;base64,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)"
   ]
  },
  {
   "cell_type": "markdown",
   "metadata": {
    "cell_id": "00037-24118000-9e3b-42d6-acf3-058c4ff0a6d4",
    "deepnote_cell_type": "markdown",
    "id": "increasing-gathering"
   },
   "source": [
    "Put this file in the same directory as this notebook"
   ]
  },
  {
   "cell_type": "markdown",
   "metadata": {
    "cell_id": "00038-38b70462-a29d-4275-a146-37c973c31299",
    "deepnote_cell_type": "markdown",
    "id": "neural-airfare"
   },
   "source": [
    "This file contains just one sequence.  Let's read it!"
   ]
  },
  {
   "cell_type": "code",
   "execution_count": null,
   "metadata": {
    "cell_id": "00039-bea2e46c-fea6-4966-a80f-613fad63e863",
    "deepnote_cell_type": "code",
    "id": "occupied-father"
   },
   "outputs": [],
   "source": []
  },
  {
   "cell_type": "markdown",
   "metadata": {
    "cell_id": "00040-388f93d3-aba3-45d3-b0d5-4f1ad7a0aabf",
    "deepnote_cell_type": "markdown",
    "id": "increasing-effect"
   },
   "source": [
    "How long is this sequence?"
   ]
  },
  {
   "cell_type": "code",
   "execution_count": null,
   "metadata": {
    "cell_id": "00041-5cbd2ef1-e704-457e-8719-92f4ad5e846e",
    "deepnote_cell_type": "code",
    "id": "infectious-snake"
   },
   "outputs": [],
   "source": []
  },
  {
   "cell_type": "markdown",
   "metadata": {
    "cell_id": "00042-aeffa670-523f-4f69-b0a8-d98bd4774a5e",
    "deepnote_cell_type": "markdown",
    "id": "fitting-converter"
   },
   "source": [
    "Transcribe it to a peptide"
   ]
  },
  {
   "cell_type": "code",
   "execution_count": null,
   "metadata": {
    "cell_id": "00043-fadecbe0-74fb-414d-9e36-8973b0c0f8c6",
    "deepnote_cell_type": "code",
    "id": "facial-synthetic"
   },
   "outputs": [],
   "source": []
  },
  {
   "cell_type": "markdown",
   "metadata": {
    "cell_id": "00044-1a4639a1-601a-4664-a36d-f13e5d9707fb",
    "deepnote_cell_type": "markdown",
    "id": "champion-hanging"
   },
   "source": [
    "What is the name of this entry?"
   ]
  },
  {
   "cell_type": "code",
   "execution_count": null,
   "metadata": {
    "cell_id": "00045-fa1c0476-85ad-4c36-83fa-6495658aeec4",
    "deepnote_cell_type": "code",
    "id": "external-litigation"
   },
   "outputs": [],
   "source": []
  },
  {
   "cell_type": "markdown",
   "metadata": {
    "cell_id": "00046-b2a85288-01d3-4066-9701-2a83a08bc2d5",
    "deepnote_cell_type": "markdown",
    "id": "juvenile-encyclopedia"
   },
   "source": [
    "What other metadata is present in this record?"
   ]
  },
  {
   "cell_type": "code",
   "execution_count": null,
   "metadata": {
    "cell_id": "00047-a56f436e-5a4a-43f9-b853-0e024f100fd1",
    "deepnote_cell_type": "code",
    "id": "sealed-mouse"
   },
   "outputs": [],
   "source": []
  },
  {
   "cell_type": "markdown",
   "metadata": {
    "cell_id": "00048-2968683a-c420-49d8-8fff-7cbe3f559f0c",
    "deepnote_cell_type": "markdown",
    "id": "theoretical-duplicate"
   },
   "source": [
    "### Orchid Sequences\n",
    "\n",
    "Let's take a shortcut to get more fasta data by getting it from the Biopython example data: https://raw.githubusercontent.com/biopython/biopython/master/Doc/examples/ls_orchid.fasta"
   ]
  },
  {
   "cell_type": "markdown",
   "metadata": {
    "cell_id": "00049-3c5b67df-74ce-4fbb-9dca-631a3b1fb551",
    "deepnote_cell_type": "markdown",
    "id": "impaired-amazon"
   },
   "source": [
    "Read in this fasta file, containing many sequences!\n",
    "\n",
    "*Note*: This will return a **generator** of SeqRecords.  To make it easier to work with, it can be helpful to transform this into a list:  `new_records = list(records)`"
   ]
  },
  {
   "cell_type": "code",
   "execution_count": null,
   "metadata": {
    "cell_id": "00050-f9077504-27ec-4732-9905-9873d1c5a3e5",
    "deepnote_cell_type": "code",
    "id": "coordinated-airfare"
   },
   "outputs": [],
   "source": []
  },
  {
   "cell_type": "markdown",
   "metadata": {
    "cell_id": "00051-68cd0486-d01e-4654-a6e6-255f36645a39",
    "deepnote_cell_type": "markdown",
    "id": "unlikely-warehouse"
   },
   "source": [
    "How many records are in this list?"
   ]
  },
  {
   "cell_type": "code",
   "execution_count": null,
   "metadata": {
    "cell_id": "00052-12d0cbb3-0cb3-4331-be56-140b8cce1432",
    "deepnote_cell_type": "code",
    "id": "shared-helen"
   },
   "outputs": [],
   "source": []
  },
  {
   "cell_type": "markdown",
   "metadata": {
    "cell_id": "00053-4af1a721-66a8-41ea-af66-fc181c780504",
    "deepnote_cell_type": "markdown",
    "id": "municipal-limit"
   },
   "source": [
    "What are the lengths of these sequences?"
   ]
  },
  {
   "cell_type": "code",
   "execution_count": null,
   "metadata": {
    "cell_id": "00054-29dd6731-8195-48ef-bc1d-5ee07144f672",
    "deepnote_cell_type": "code",
    "id": "infrared-personal"
   },
   "outputs": [],
   "source": []
  },
  {
   "cell_type": "markdown",
   "metadata": {
    "cell_id": "00055-8a020db8-ab11-481d-ae8e-51fe39b4d71c",
    "deepnote_cell_type": "markdown",
    "id": "theoretical-commercial"
   },
   "source": [
    "Calculate the complement of these sequences"
   ]
  },
  {
   "cell_type": "code",
   "execution_count": null,
   "metadata": {
    "cell_id": "00056-00c8bd36-7a89-4610-a87e-e8371a4be8f5",
    "deepnote_cell_type": "code",
    "id": "distinct-documentation"
   },
   "outputs": [],
   "source": []
  },
  {
   "cell_type": "markdown",
   "metadata": {
    "cell_id": "00057-64ece2d9-6380-4169-ad4e-1abb792664ea",
    "deepnote_cell_type": "markdown",
    "id": "stone-notion"
   },
   "source": [
    "Make a list of names of these records"
   ]
  },
  {
   "cell_type": "code",
   "execution_count": null,
   "metadata": {
    "cell_id": "00058-d58446c9-9436-4dda-b990-3fc19c578a6d",
    "deepnote_cell_type": "code",
    "id": "enhanced-promotion"
   },
   "outputs": [],
   "source": []
  },
  {
   "cell_type": "markdown",
   "metadata": {
    "cell_id": "00059-7eb773d7-061b-4c09-9ced-2c57498d56a9",
    "deepnote_cell_type": "markdown",
    "id": "close-flooring"
   },
   "source": []
  },
  {
   "cell_type": "code",
   "execution_count": null,
   "metadata": {
    "cell_id": "00060-ff8f4dcc-ec5d-439b-b64f-078656de7f1d",
    "deepnote_cell_type": "code",
    "id": "stuffed-freeware"
   },
   "outputs": [],
   "source": []
  },
  {
   "cell_type": "markdown",
   "metadata": {
    "cell_id": "00061-9a4c79bb-823d-47d8-bc6e-90e95068bfe6",
    "deepnote_cell_type": "markdown",
    "id": "superior-worse"
   },
   "source": [
    "## Further Reading\n",
    "\n",
    "The Cookbook Tutorial for BioPython is really fantastic and covers a lot of BioPython's features; if this is a package you'll rely on, it's worth reading through!  http://biopython.org/DIST/docs/tutorial/Tutorial.html"
   ]
  },
  {
   "cell_type": "code",
   "execution_count": null,
   "metadata": {
    "cell_id": "00062-b0eb0304-0ad1-4c2f-943d-3ee9d44ad4f1",
    "deepnote_cell_type": "code",
    "id": "strange-syria"
   },
   "outputs": [],
   "source": []
  },
  {
   "cell_type": "markdown",
   "metadata": {
    "created_in_deepnote_cell": true,
    "deepnote_cell_type": "markdown",
    "tags": []
   },
   "source": [
    "<a style='text-decoration:none;line-height:16px;display:flex;color:#5B5B62;padding:10px;justify-content:end;' href='https://deepnote.com?utm_source=created-in-deepnote-cell&projectId=8627a577-2f09-4034-b087-8f1dc35d45ad' target=\"_blank\">\n",
    "<img alt='Created in deepnote.com' style='display:inline;max-height:16px;margin:0px;margin-right:7.5px;' src='data:image/svg+xml;base64,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' > </img>\n",
    "Created in <span style='font-weight:600;margin-left:4px;'>Deepnote</span></a>"
   ]
  }
 ],
 "metadata": {
  "colab": {
   "name": "23_Biopython_Sequences.ipynb",
   "provenance": []
  },
  "deepnote": {},
  "deepnote_execution_queue": [],
  "deepnote_notebook_id": "a6b44817-62b7-4328-8b55-029e42a167a0",
  "kernelspec": {
   "display_name": "Python 3.10.4 ('py10')",
   "language": "python",
   "name": "python3"
  },
  "language_info": {
   "codemirror_mode": {
    "name": "ipython",
    "version": 3
   },
   "file_extension": ".py",
   "mimetype": "text/x-python",
   "name": "python",
   "nbconvert_exporter": "python",
   "pygments_lexer": "ipython3",
   "version": "3.10.4"
  },
  "vscode": {
   "interpreter": {
    "hash": "d6852d01271bf8033dbdb7ec364b6f6e89fd52a18c6bf5b4c73e48c86329a8dd"
   }
  }
 },
 "nbformat": 4,
 "nbformat_minor": 5
}
