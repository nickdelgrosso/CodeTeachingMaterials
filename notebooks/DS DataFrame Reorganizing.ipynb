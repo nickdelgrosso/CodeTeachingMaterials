{
 "cells": [
  {
   "cell_type": "code",
   "execution_count": 1,
   "id": "bc983bc7",
   "metadata": {},
   "outputs": [
    {
     "name": "stdout",
     "output_type": "stream",
     "text": [
      "Requirement already satisfied: numpy in /home/nickdg/miniconda3/envs/py10/lib/python3.10/site-packages (1.23.3)\n",
      "Requirement already satisfied: pandas in /home/nickdg/miniconda3/envs/py10/lib/python3.10/site-packages (1.5.0)\n",
      "Requirement already satisfied: sqlalchemy in /home/nickdg/miniconda3/envs/py10/lib/python3.10/site-packages (1.4.41)\n",
      "Requirement already satisfied: python-dateutil>=2.8.1 in /home/nickdg/miniconda3/envs/py10/lib/python3.10/site-packages (from pandas) (2.8.2)\n",
      "Requirement already satisfied: pytz>=2020.1 in /home/nickdg/miniconda3/envs/py10/lib/python3.10/site-packages (from pandas) (2022.4)\n",
      "Requirement already satisfied: greenlet!=0.4.17 in /home/nickdg/miniconda3/envs/py10/lib/python3.10/site-packages (from sqlalchemy) (1.1.3)\n",
      "Requirement already satisfied: six>=1.5 in /home/nickdg/miniconda3/envs/py10/lib/python3.10/site-packages (from python-dateutil>=2.8.1->pandas) (1.16.0)\n"
     ]
    }
   ],
   "source": [
    "%pip install numpy pandas sqlalchemy"
   ]
  },
  {
   "cell_type": "code",
   "execution_count": null,
   "id": "6787528b",
   "metadata": {
    "cell_id": "00000-db897cd6-3f70-429c-a98c-008563ade8ed",
    "deepnote_cell_type": "code"
   },
   "outputs": [],
   "source": [
    "import numpy as np\n",
    "import pandas as pd"
   ]
  },
  {
   "cell_type": "markdown",
   "id": "985890a5",
   "metadata": {
    "cell_id": "00001-9330c10e-8ab9-44a4-bd1c-3e3f730a85e5",
    "deepnote_cell_type": "markdown"
   },
   "source": [
    "# Reorganizing Data in DataFrames"
   ]
  },
  {
   "cell_type": "markdown",
   "id": "b5fa357e",
   "metadata": {
    "cell_id": "00002-61e3c02f-1c31-46c4-b037-871e5b50816c",
    "deepnote_cell_type": "markdown"
   },
   "source": [
    "## Concatenation / Appends\n",
    "\n",
    "The `pd.concat()` fucntion and `DataFrame.append()` method takes DataFrames with identical columns and makes a DataFrame that is **taller** than either of them by stacking them on top of each other.\n",
    "\n",
    "For example, it can turn this `df1` DataFrame:\n",
    "\n",
    "| Day | Weather |\n",
    "| :-: | :---:   |\n",
    "| Monday | Sunny   |\n",
    "| Tuesday | Rainy |\n",
    "\n",
    "and this `df2` DataFrame:\n",
    "\n",
    "| Day | Weather |\n",
    "| :-: | :---:   |\n",
    "| Wednesday | Sunny   |\n",
    "| Thursday | Rainy |\n",
    "\n",
    "into this:\n",
    "\n",
    "| Day | Weather |\n",
    "| :-: | :---:   |\n",
    "| Monday | Sunny   |\n",
    "| Tuesday | Rainy |\n",
    "| Wednesday | Sunny   |\n",
    "| Thursday | Rainy |\n",
    "\n",
    "\n",
    "with one line of code:\n",
    "\n",
    "```python\n",
    "pd.concat([df1, df2])\n",
    "```\n",
    "\n",
    "**Note:** If you'd like pandas to ignore the index of the dataframes when appending them, the following option is helpful:\n",
    "\n",
    "```python\n",
    "pd.concat([df1, df2], ignore_index=True)\n",
    "```\n",
    "\n",
    "**Note:** With the `pd.concat()` function, you can concatenate as many dataframes in one step as you want!"
   ]
  },
  {
   "cell_type": "markdown",
   "id": "19f4c3c2",
   "metadata": {
    "cell_id": "00003-e6a66cd9-651e-488a-afb1-a17274d9f424",
    "deepnote_cell_type": "markdown"
   },
   "source": [
    "#### Exercise\n",
    "\n",
    "Let's practice concatenating DataFrames with the `pd.concat` function:"
   ]
  },
  {
   "cell_type": "code",
   "execution_count": null,
   "id": "b88fe182",
   "metadata": {
    "cell_id": "00004-c6c147aa-d805-4448-abcf-ac3679177d8f",
    "deepnote_cell_type": "code"
   },
   "outputs": [
    {
     "data": {
      "text/html": [
       "<div>\n",
       "<style scoped>\n",
       "    .dataframe tbody tr th:only-of-type {\n",
       "        vertical-align: middle;\n",
       "    }\n",
       "\n",
       "    .dataframe tbody tr th {\n",
       "        vertical-align: top;\n",
       "    }\n",
       "\n",
       "    .dataframe thead th {\n",
       "        text-align: right;\n",
       "    }\n",
       "</style>\n",
       "<table border=\"1\" class=\"dataframe\">\n",
       "  <thead>\n",
       "    <tr style=\"text-align: right;\">\n",
       "      <th></th>\n",
       "      <th>Name</th>\n",
       "      <th>Age</th>\n",
       "    </tr>\n",
       "  </thead>\n",
       "  <tbody>\n",
       "    <tr>\n",
       "      <th>0</th>\n",
       "      <td>Jackson</td>\n",
       "      <td>16</td>\n",
       "    </tr>\n",
       "    <tr>\n",
       "      <th>1</th>\n",
       "      <td>Josh</td>\n",
       "      <td>19</td>\n",
       "    </tr>\n",
       "    <tr>\n",
       "      <th>2</th>\n",
       "      <td>Jenny</td>\n",
       "      <td>17</td>\n",
       "    </tr>\n",
       "  </tbody>\n",
       "</table>\n",
       "</div>"
      ],
      "text/plain": [
       "      Name  Age\n",
       "0  Jackson   16\n",
       "1     Josh   19\n",
       "2    Jenny   17"
      ]
     },
     "execution_count": 23,
     "metadata": {},
     "output_type": "execute_result"
    }
   ],
   "source": [
    "df1 = pd.DataFrame({'Name': ['Jackson', 'Josh', 'Jenny'], 'Age': [16, 19, 17]})\n",
    "df1"
   ]
  },
  {
   "cell_type": "code",
   "execution_count": null,
   "id": "1d81a746",
   "metadata": {
    "cell_id": "00005-5451c245-d99f-4bd3-aab4-6e168fe5060f",
    "deepnote_cell_type": "code",
    "tags": []
   },
   "outputs": [
    {
     "data": {
      "text/html": [
       "<div>\n",
       "<style scoped>\n",
       "    .dataframe tbody tr th:only-of-type {\n",
       "        vertical-align: middle;\n",
       "    }\n",
       "\n",
       "    .dataframe tbody tr th {\n",
       "        vertical-align: top;\n",
       "    }\n",
       "\n",
       "    .dataframe thead th {\n",
       "        text-align: right;\n",
       "    }\n",
       "</style>\n",
       "<table border=\"1\" class=\"dataframe\">\n",
       "  <thead>\n",
       "    <tr style=\"text-align: right;\">\n",
       "      <th></th>\n",
       "      <th>Name</th>\n",
       "      <th>Age</th>\n",
       "    </tr>\n",
       "  </thead>\n",
       "  <tbody>\n",
       "    <tr>\n",
       "      <th>3</th>\n",
       "      <td>Jess</td>\n",
       "      <td>21</td>\n",
       "    </tr>\n",
       "    <tr>\n",
       "      <th>4</th>\n",
       "      <td>Jon</td>\n",
       "      <td>16</td>\n",
       "    </tr>\n",
       "    <tr>\n",
       "      <th>5</th>\n",
       "      <td>Joe</td>\n",
       "      <td>23</td>\n",
       "    </tr>\n",
       "  </tbody>\n",
       "</table>\n",
       "</div>"
      ],
      "text/plain": [
       "   Name  Age\n",
       "3  Jess   21\n",
       "4   Jon   16\n",
       "5   Joe   23"
      ]
     },
     "execution_count": 28,
     "metadata": {},
     "output_type": "execute_result"
    }
   ],
   "source": [
    "df2 = pd.DataFrame({'Name': ['Jess', 'Jon', 'Joe'], 'Age': [21, 16, 23]}, index=[3, 4, 5])\n",
    "df2"
   ]
  },
  {
   "cell_type": "code",
   "execution_count": null,
   "id": "d38af149",
   "metadata": {
    "cell_id": "00006-2f8fb88a-badc-48d7-a8df-74ea70c8d767",
    "deepnote_cell_type": "code"
   },
   "outputs": [
    {
     "data": {
      "text/html": [
       "<div>\n",
       "<style scoped>\n",
       "    .dataframe tbody tr th:only-of-type {\n",
       "        vertical-align: middle;\n",
       "    }\n",
       "\n",
       "    .dataframe tbody tr th {\n",
       "        vertical-align: top;\n",
       "    }\n",
       "\n",
       "    .dataframe thead th {\n",
       "        text-align: right;\n",
       "    }\n",
       "</style>\n",
       "<table border=\"1\" class=\"dataframe\">\n",
       "  <thead>\n",
       "    <tr style=\"text-align: right;\">\n",
       "      <th></th>\n",
       "      <th>Name</th>\n",
       "      <th>Age</th>\n",
       "    </tr>\n",
       "  </thead>\n",
       "  <tbody>\n",
       "    <tr>\n",
       "      <th>0</th>\n",
       "      <td>Jill</td>\n",
       "      <td>5</td>\n",
       "    </tr>\n",
       "    <tr>\n",
       "      <th>1</th>\n",
       "      <td>Josephine</td>\n",
       "      <td>10</td>\n",
       "    </tr>\n",
       "    <tr>\n",
       "      <th>2</th>\n",
       "      <td>Jack</td>\n",
       "      <td>61</td>\n",
       "    </tr>\n",
       "  </tbody>\n",
       "</table>\n",
       "</div>"
      ],
      "text/plain": [
       "        Name  Age\n",
       "0       Jill    5\n",
       "1  Josephine   10\n",
       "2       Jack   61"
      ]
     },
     "execution_count": 36,
     "metadata": {},
     "output_type": "execute_result"
    }
   ],
   "source": [
    "df3 = pd.DataFrame({'Name': ['Jill', 'Josephine', 'Jack'], 'Age': [5, 10, 61]})\n",
    "df3"
   ]
  },
  {
   "cell_type": "markdown",
   "id": "baf50b76",
   "metadata": {
    "cell_id": "00007-0a9f0d08-af5c-4d21-b794-6c0bbfdcde99",
    "deepnote_cell_type": "markdown"
   },
   "source": [
    "Concatenate df1 and df2 together!"
   ]
  },
  {
   "cell_type": "code",
   "execution_count": null,
   "id": "b80535a7",
   "metadata": {
    "cell_id": "00008-6422f269-c90a-4983-9320-055261859499",
    "deepnote_cell_type": "code"
   },
   "outputs": [],
   "source": []
  },
  {
   "cell_type": "markdown",
   "id": "3232a0b3",
   "metadata": {
    "cell_id": "00009-91952e38-be0f-4add-a35f-e28ed232bb0b",
    "deepnote_cell_type": "markdown"
   },
   "source": [
    "Concatenate df2 and df3 together!"
   ]
  },
  {
   "cell_type": "code",
   "execution_count": null,
   "id": "b4fce638",
   "metadata": {
    "cell_id": "00010-7fec83f6-99f3-43bf-8cc5-6fb1322d6c23",
    "deepnote_cell_type": "code"
   },
   "outputs": [],
   "source": []
  },
  {
   "cell_type": "markdown",
   "id": "97f9c8a7",
   "metadata": {
    "cell_id": "00011-5c00e752-5b0c-4ed8-a643-61d537351bd5",
    "deepnote_cell_type": "markdown"
   },
   "source": [
    "Concatenate all three dataframes in a single line"
   ]
  },
  {
   "cell_type": "code",
   "execution_count": null,
   "id": "19a6dfe6",
   "metadata": {
    "cell_id": "00012-f75faf2a-d253-4219-893a-1cf89319964e",
    "deepnote_cell_type": "code"
   },
   "outputs": [],
   "source": []
  },
  {
   "cell_type": "markdown",
   "id": "1281496b",
   "metadata": {
    "cell_id": "00013-3bcc7203-5ed8-4d7b-9732-1980c4a99ec3",
    "deepnote_cell_type": "markdown"
   },
   "source": [
    "The index in these datasets is unlabelled, indicating that they potentially don't contain useful data.  Concatenate them all together so that the index of the final dataframe is simply 0-8."
   ]
  },
  {
   "cell_type": "code",
   "execution_count": null,
   "id": "8f316583",
   "metadata": {
    "cell_id": "00014-96c3b4fa-5c38-4934-b19d-3bb7f483d154",
    "deepnote_cell_type": "code"
   },
   "outputs": [],
   "source": []
  },
  {
   "cell_type": "markdown",
   "id": "60eabf2c",
   "metadata": {
    "cell_id": "00015-216c6be6-41bf-4737-a2a4-84c857b81b36",
    "deepnote_cell_type": "markdown"
   },
   "source": [
    "## Merge / Joins\n",
    "The `pd.merge()` function and `DataFrame.join()` method take two DataFrames and make them **wider** by matching rows with the same-values on a specified column.  \n",
    "\n",
    "For example, it can turn this `df1` DataFrame:\n",
    "\n",
    "| Day | Weather |\n",
    "| :-: | :---:   |\n",
    "| Monday | Sunny   |\n",
    "| Tuesday | Rainy |\n",
    "\n",
    "and this `df2` DataFrame:\n",
    "\n",
    "| Day | Temperature |\n",
    "| :-: | :---:   |\n",
    "| Tuesday | 12   |\n",
    "| Monday | 18 |\n",
    "\n",
    "into this:\n",
    "\n",
    "| Day | Weather | Temperature |\n",
    "| :-: | :---:   | :---: |\n",
    "| Monday | Sunny   | 18 |\n",
    "| Tuesday | Rainy | 12 |\n",
    "\n",
    "with one line of code:\n",
    "\n",
    "```python\n",
    "df_merged = pd.merge(left=df1, right=df2, left_on=\"Day\", right_on=\"Day\")\n",
    "```\n",
    "\n",
    "Just specify which columns should be matched up with each other, and it will search for the matching values automatically!  If you want it to use the index, you can alternatively supply the option `left_index=True` and/or `right_index=True`. "
   ]
  },
  {
   "cell_type": "markdown",
   "id": "9cfa26d6",
   "metadata": {
    "cell_id": "00016-4322c72a-1000-4fec-91b1-f51b8417100d",
    "deepnote_cell_type": "markdown"
   },
   "source": [
    "### Exercises\n",
    "\n",
    "Let's practice merging dataframes with the `pd.merge()` function."
   ]
  },
  {
   "cell_type": "markdown",
   "id": "a7f28fb8",
   "metadata": {
    "cell_id": "00017-5068a8cc-bef7-4d1e-8d9c-f5ac63896f1d",
    "deepnote_cell_type": "markdown"
   },
   "source": [
    "Dataframe 1:"
   ]
  },
  {
   "cell_type": "code",
   "execution_count": null,
   "id": "b53a736a",
   "metadata": {
    "cell_id": "00018-ac3a05b2-02dd-4d24-ba95-7a6419796777",
    "deepnote_cell_type": "code"
   },
   "outputs": [
    {
     "data": {
      "text/html": [
       "<div>\n",
       "<style scoped>\n",
       "    .dataframe tbody tr th:only-of-type {\n",
       "        vertical-align: middle;\n",
       "    }\n",
       "\n",
       "    .dataframe tbody tr th {\n",
       "        vertical-align: top;\n",
       "    }\n",
       "\n",
       "    .dataframe thead th {\n",
       "        text-align: right;\n",
       "    }\n",
       "</style>\n",
       "<table border=\"1\" class=\"dataframe\">\n",
       "  <thead>\n",
       "    <tr style=\"text-align: right;\">\n",
       "      <th></th>\n",
       "      <th>Name</th>\n",
       "      <th>Age</th>\n",
       "    </tr>\n",
       "  </thead>\n",
       "  <tbody>\n",
       "    <tr>\n",
       "      <th>0</th>\n",
       "      <td>Paul</td>\n",
       "      <td>16</td>\n",
       "    </tr>\n",
       "    <tr>\n",
       "      <th>1</th>\n",
       "      <td>Arash</td>\n",
       "      <td>19</td>\n",
       "    </tr>\n",
       "    <tr>\n",
       "      <th>2</th>\n",
       "      <td>Jenny</td>\n",
       "      <td>17</td>\n",
       "    </tr>\n",
       "  </tbody>\n",
       "</table>\n",
       "</div>"
      ],
      "text/plain": [
       "    Name  Age\n",
       "0   Paul   16\n",
       "1  Arash   19\n",
       "2  Jenny   17"
      ]
     },
     "execution_count": 12,
     "metadata": {},
     "output_type": "execute_result"
    }
   ],
   "source": [
    "df1 = pd.DataFrame({'Name': ['Paul', 'Arash', 'Jenny'], 'Age': [16, 19, 17]})\n",
    "df1"
   ]
  },
  {
   "cell_type": "markdown",
   "id": "94c0b046",
   "metadata": {
    "cell_id": "00019-e51cfe73-a5ac-4050-b8ad-66e1a0950e5e",
    "deepnote_cell_type": "markdown"
   },
   "source": [
    "Dataframe 2:"
   ]
  },
  {
   "cell_type": "code",
   "execution_count": null,
   "id": "60be25e8",
   "metadata": {
    "cell_id": "00020-f8cb1f9b-1430-401f-b5c2-1042e3bf3268",
    "deepnote_cell_type": "code"
   },
   "outputs": [
    {
     "data": {
      "text/html": [
       "<div>\n",
       "<style scoped>\n",
       "    .dataframe tbody tr th:only-of-type {\n",
       "        vertical-align: middle;\n",
       "    }\n",
       "\n",
       "    .dataframe tbody tr th {\n",
       "        vertical-align: top;\n",
       "    }\n",
       "\n",
       "    .dataframe thead th {\n",
       "        text-align: right;\n",
       "    }\n",
       "</style>\n",
       "<table border=\"1\" class=\"dataframe\">\n",
       "  <thead>\n",
       "    <tr style=\"text-align: right;\">\n",
       "      <th></th>\n",
       "      <th>Name</th>\n",
       "      <th>Weight</th>\n",
       "    </tr>\n",
       "  </thead>\n",
       "  <tbody>\n",
       "    <tr>\n",
       "      <th>0</th>\n",
       "      <td>Arash</td>\n",
       "      <td>32</td>\n",
       "    </tr>\n",
       "    <tr>\n",
       "      <th>1</th>\n",
       "      <td>Paul</td>\n",
       "      <td>15</td>\n",
       "    </tr>\n",
       "    <tr>\n",
       "      <th>2</th>\n",
       "      <td>Sara</td>\n",
       "      <td>37</td>\n",
       "    </tr>\n",
       "  </tbody>\n",
       "</table>\n",
       "</div>"
      ],
      "text/plain": [
       "    Name  Weight\n",
       "0  Arash      32\n",
       "1   Paul      15\n",
       "2   Sara      37"
      ]
     },
     "execution_count": 13,
     "metadata": {},
     "output_type": "execute_result"
    }
   ],
   "source": [
    "df2 = pd.DataFrame({'Name': ['Arash', 'Paul', 'Sara'], 'Weight': [32, 15, 37]})\n",
    "df2"
   ]
  },
  {
   "cell_type": "markdown",
   "id": "8c1c9ee7",
   "metadata": {
    "cell_id": "00021-5cfa4036-4de9-480b-a2e5-331e37236ec4",
    "deepnote_cell_type": "markdown"
   },
   "source": [
    "Dataframe 3:"
   ]
  },
  {
   "cell_type": "code",
   "execution_count": null,
   "id": "6da7bf9e",
   "metadata": {
    "cell_id": "00022-9648cef1-a02d-4afa-9f0f-851e2db748c0",
    "deepnote_cell_type": "code"
   },
   "outputs": [
    {
     "data": {
      "text/html": [
       "<div>\n",
       "<style scoped>\n",
       "    .dataframe tbody tr th:only-of-type {\n",
       "        vertical-align: middle;\n",
       "    }\n",
       "\n",
       "    .dataframe tbody tr th {\n",
       "        vertical-align: top;\n",
       "    }\n",
       "\n",
       "    .dataframe thead th {\n",
       "        text-align: right;\n",
       "    }\n",
       "</style>\n",
       "<table border=\"1\" class=\"dataframe\">\n",
       "  <thead>\n",
       "    <tr style=\"text-align: right;\">\n",
       "      <th></th>\n",
       "      <th>Name</th>\n",
       "      <th>Height</th>\n",
       "    </tr>\n",
       "  </thead>\n",
       "  <tbody>\n",
       "    <tr>\n",
       "      <th>0</th>\n",
       "      <td>Amy</td>\n",
       "      <td>170</td>\n",
       "    </tr>\n",
       "    <tr>\n",
       "      <th>1</th>\n",
       "      <td>Paul</td>\n",
       "      <td>190</td>\n",
       "    </tr>\n",
       "    <tr>\n",
       "      <th>2</th>\n",
       "      <td>Sara</td>\n",
       "      <td>143</td>\n",
       "    </tr>\n",
       "  </tbody>\n",
       "</table>\n",
       "</div>"
      ],
      "text/plain": [
       "   Name  Height\n",
       "0   Amy     170\n",
       "1  Paul     190\n",
       "2  Sara     143"
      ]
     },
     "execution_count": 19,
     "metadata": {},
     "output_type": "execute_result"
    }
   ],
   "source": [
    "df3 = pd.DataFrame({'Name': ['Amy', 'Paul', 'Sara'], 'Height': [170, 190, 143]})\n",
    "df3"
   ]
  },
  {
   "cell_type": "markdown",
   "id": "0cc2a124",
   "metadata": {
    "cell_id": "00023-b5e0ee3c-fe64-4e3f-b037-fbe2b693625a",
    "deepnote_cell_type": "markdown"
   },
   "source": [
    "Merge the first two dataframes together.  Who do we know both the age and weight of?"
   ]
  },
  {
   "cell_type": "code",
   "execution_count": null,
   "id": "e28f3399",
   "metadata": {
    "cell_id": "00024-4cc1dd6f-21ab-44d5-afd6-c6c49bd58961",
    "deepnote_cell_type": "code",
    "tags": [
     "exercise"
    ]
   },
   "outputs": [],
   "source": []
  },
  {
   "cell_type": "markdown",
   "id": "1a26ed86",
   "metadata": {
    "cell_id": "00025-bd5bcd02-3be6-4e90-87a7-81db2e6bbf4b",
    "deepnote_cell_type": "markdown"
   },
   "source": [
    "Who do we know both the weight and height of?"
   ]
  },
  {
   "cell_type": "code",
   "execution_count": null,
   "id": "6da5d5f4",
   "metadata": {
    "cell_id": "00026-6ef8ec08-7b1e-4bdc-9e18-8224a498c12c",
    "deepnote_cell_type": "code",
    "tags": [
     "exercise"
    ]
   },
   "outputs": [],
   "source": []
  },
  {
   "cell_type": "markdown",
   "id": "f058959a",
   "metadata": {
    "cell_id": "00027-b2d7e9a8-b653-4375-8474-a8defc0ba070",
    "deepnote_cell_type": "markdown"
   },
   "source": [
    "Try merging all 3 by merging twice.  Who do we know everything about?"
   ]
  },
  {
   "cell_type": "code",
   "execution_count": null,
   "id": "35f546a6",
   "metadata": {
    "cell_id": "00028-807c0ca5-d5d6-40e2-bb66-974cc204b7c0",
    "deepnote_cell_type": "code",
    "tags": [
     "exercise"
    ]
   },
   "outputs": [],
   "source": []
  },
  {
   "cell_type": "markdown",
   "id": "a121e835",
   "metadata": {
    "cell_id": "00029-7bb5c765-a430-4afc-b13a-df887c11106c",
    "deepnote_cell_type": "markdown"
   },
   "source": [
    "Note that the Names that weren't present in both dataframes dropped out of the final result.  If you'd like to keep them and have NaNs appear, you can change the `how` parameter in the `pd.merge()` function.  Let's try out a few options by merging dataframes 1 and 2:"
   ]
  },
  {
   "cell_type": "markdown",
   "id": "8e6ca04d",
   "metadata": {
    "cell_id": "00030-b1fd2539-da0c-4b6c-b792-938d761cee92",
    "deepnote_cell_type": "markdown"
   },
   "source": [
    "`how=\"outer\"`"
   ]
  },
  {
   "cell_type": "code",
   "execution_count": null,
   "id": "d5cdcec0",
   "metadata": {
    "cell_id": "00031-3e86b70f-b62f-45b8-8072-3169a0b04552",
    "deepnote_cell_type": "code",
    "tags": [
     "exercise"
    ]
   },
   "outputs": [],
   "source": []
  },
  {
   "cell_type": "markdown",
   "id": "9cc488b9",
   "metadata": {
    "cell_id": "00032-a6ea6fc5-9366-4b23-954c-c57ecc68877e",
    "deepnote_cell_type": "markdown"
   },
   "source": [
    "`how=\"left\"`"
   ]
  },
  {
   "cell_type": "code",
   "execution_count": null,
   "id": "2ae7218c",
   "metadata": {
    "cell_id": "00033-7c02c4e2-fb79-4465-81f8-779653856697",
    "deepnote_cell_type": "code",
    "tags": [
     "exercise"
    ]
   },
   "outputs": [],
   "source": []
  },
  {
   "cell_type": "markdown",
   "id": "ade7de53",
   "metadata": {
    "cell_id": "00034-10cc1ca8-20eb-47f7-abcc-bc283466262b",
    "deepnote_cell_type": "markdown"
   },
   "source": [
    "`how=\"right\"`"
   ]
  },
  {
   "cell_type": "code",
   "execution_count": null,
   "id": "492b991f",
   "metadata": {
    "cell_id": "00035-49c12ead-db86-41a5-a984-d4aeef9b460b",
    "deepnote_cell_type": "code",
    "tags": [
     "exercise"
    ]
   },
   "outputs": [],
   "source": []
  },
  {
   "cell_type": "markdown",
   "id": "b310eff0",
   "metadata": {
    "cell_id": "00036-3a2c376c-72d0-4a3a-8161-50840812d32d",
    "deepnote_cell_type": "markdown"
   },
   "source": [
    "`how=\"inner\"`"
   ]
  },
  {
   "cell_type": "code",
   "execution_count": null,
   "id": "01babf26",
   "metadata": {
    "cell_id": "00037-ee1e7b3c-08e6-4295-8aad-8ca71313d427",
    "deepnote_cell_type": "code",
    "tags": [
     "exercise"
    ]
   },
   "outputs": [],
   "source": []
  },
  {
   "cell_type": "markdown",
   "id": "58b902b0",
   "metadata": {
    "cell_id": "00038-c9828ecb-0d64-4d14-9b49-bb5e29b840eb",
    "deepnote_cell_type": "markdown"
   },
   "source": [
    "Recognizing that multiple inner joins can result in high data attrition, what policies would you put in your future data analyses to both prevent data loss and keep data easy to analyze?"
   ]
  },
  {
   "cell_type": "markdown",
   "id": "3c61018c",
   "metadata": {
    "cell_id": "00055-434487ea-e4b0-469d-ade2-85a853d99bce",
    "deepnote_cell_type": "markdown"
   },
   "source": [
    "## Melts\n",
    "\n",
    "The `pd.melt()` function and `DataFrame.melt()` method take a single dataframe and make it **taller** by taking data stored in column names and putting it into the rows along with the rest of the data, adding extra metadata in the process.\n",
    "\n",
    "For example, it can turn this `df` DataFrame:\n",
    "\n",
    "| Month | Year | Monday | Tuesday | Wednesday |\n",
    "| :--:  | :--: | :--:   | :--:    | :--:      |\n",
    "| January | 2021 | 0 | -2 | -1 |\n",
    "| February | 2021 | 2 | 4 | -2 |\n",
    "\n",
    "into this:\n",
    "\n",
    "| Month | Year | Weekday | Temperature |\n",
    "| :--:  | :--: | :--:    |  :--:       |\n",
    "| January | 2021 | Monday | 0 |\n",
    "| January | 2021 | Tuesday | -2 |\n",
    "| January | 2021 | Wednesday | -1 |\n",
    "| February | 2021 | Monday | 2 |\n",
    "| February | 2021 | Tuesday | 4 | \n",
    "| February | 2021 | Wednesday | -2 |\n",
    "\n",
    "with one line of code:\n",
    "\n",
    "```python\n",
    "pd.melt(\n",
    "    df, \n",
    "    id_vars=['Month', 'Year'],  # The columns that should stay the same\n",
    "    value_vars=['Monday', 'Tuesday', 'Wednesday'],   # The columns that should melt\n",
    "    var_name='Weekday',  # The new Column that will represent the melted column name's variable\n",
    "    value_name='Temperature'  # The new Column that the data represents\n",
    ")\n",
    "```\n",
    "\n",
    "**Note**: Melting a dataframe also called *\"tidying\"* data, making a *\"long\"* dataframe from a *\"wide\"* dataframe, or building a *design matrix*"
   ]
  },
  {
   "cell_type": "markdown",
   "id": "340ea3e9",
   "metadata": {
    "cell_id": "00056-a9d6d0a9-ce56-40e2-b3f3-e0d5272d7d2b",
    "deepnote_cell_type": "markdown"
   },
   "source": [
    "#### Exercises\n",
    "\n",
    "Let's practice tidying dataframes with the `pd.melt()` function. "
   ]
  },
  {
   "cell_type": "code",
   "execution_count": 16,
   "id": "4cb835ae-c111-44fa-b704-4e3452b22fa1",
   "metadata": {},
   "outputs": [
    {
     "data": {
      "text/html": [
       "<div>\n",
       "<style scoped>\n",
       "    .dataframe tbody tr th:only-of-type {\n",
       "        vertical-align: middle;\n",
       "    }\n",
       "\n",
       "    .dataframe tbody tr th {\n",
       "        vertical-align: top;\n",
       "    }\n",
       "\n",
       "    .dataframe thead th {\n",
       "        text-align: right;\n",
       "    }\n",
       "</style>\n",
       "<table border=\"1\" class=\"dataframe\">\n",
       "  <thead>\n",
       "    <tr style=\"text-align: right;\">\n",
       "      <th></th>\n",
       "      <th>Country Name</th>\n",
       "      <th>Country Code</th>\n",
       "      <th>1960</th>\n",
       "      <th>1970</th>\n",
       "      <th>1980</th>\n",
       "      <th>1990</th>\n",
       "      <th>2000</th>\n",
       "    </tr>\n",
       "  </thead>\n",
       "  <tbody>\n",
       "    <tr>\n",
       "      <th>0</th>\n",
       "      <td>Congo, Rep.</td>\n",
       "      <td>COG</td>\n",
       "      <td>5.880</td>\n",
       "      <td>6.259</td>\n",
       "      <td>6.178</td>\n",
       "      <td>5.347</td>\n",
       "      <td>5.134</td>\n",
       "    </tr>\n",
       "    <tr>\n",
       "      <th>1</th>\n",
       "      <td>Sint Maarten (Dutch part)</td>\n",
       "      <td>SXM</td>\n",
       "      <td>NaN</td>\n",
       "      <td>NaN</td>\n",
       "      <td>NaN</td>\n",
       "      <td>NaN</td>\n",
       "      <td>NaN</td>\n",
       "    </tr>\n",
       "    <tr>\n",
       "      <th>2</th>\n",
       "      <td>Switzerland</td>\n",
       "      <td>CHE</td>\n",
       "      <td>2.336</td>\n",
       "      <td>2.087</td>\n",
       "      <td>1.550</td>\n",
       "      <td>1.590</td>\n",
       "      <td>1.500</td>\n",
       "    </tr>\n",
       "    <tr>\n",
       "      <th>3</th>\n",
       "      <td>Belarus</td>\n",
       "      <td>BLR</td>\n",
       "      <td>2.670</td>\n",
       "      <td>2.310</td>\n",
       "      <td>2.030</td>\n",
       "      <td>1.910</td>\n",
       "      <td>1.310</td>\n",
       "    </tr>\n",
       "    <tr>\n",
       "      <th>4</th>\n",
       "      <td>Equatorial Guinea</td>\n",
       "      <td>GNQ</td>\n",
       "      <td>5.505</td>\n",
       "      <td>5.678</td>\n",
       "      <td>5.728</td>\n",
       "      <td>5.900</td>\n",
       "      <td>5.773</td>\n",
       "    </tr>\n",
       "  </tbody>\n",
       "</table>\n",
       "</div>"
      ],
      "text/plain": [
       "                Country Name Country Code   1960   1970   1980   1990   2000\n",
       "0                Congo, Rep.          COG  5.880  6.259  6.178  5.347  5.134\n",
       "1  Sint Maarten (Dutch part)          SXM    NaN    NaN    NaN    NaN    NaN\n",
       "2                Switzerland          CHE  2.336  2.087  1.550  1.590  1.500\n",
       "3                    Belarus          BLR  2.670  2.310  2.030  1.910  1.310\n",
       "4          Equatorial Guinea          GNQ  5.505  5.678  5.728  5.900  5.773"
      ]
     },
     "execution_count": 16,
     "metadata": {},
     "output_type": "execute_result"
    }
   ],
   "source": [
    "df = (\n",
    "    pd.read_csv('https://raw.githubusercontent.com/nickdelgrosso/CodeTeachingMaterials/main/datasets/worldbankdata.csv')\n",
    "    .get(['Country Name', 'Country Code', '1960', '1970', '1980', '1990', '2000'])\n",
    "    .sample(10)\n",
    "    .reset_index(drop=True)\n",
    ")\n",
    "df.head()"
   ]
  },
  {
   "cell_type": "markdown",
   "id": "04300de5-e340-4422-ae64-4b71df1ea9fc",
   "metadata": {},
   "source": [
    "Melt this dataset so it has four columns: \"Country Name\", \"Country Code\", \"Year\", and \"Fertility Rate\""
   ]
  },
  {
   "cell_type": "code",
   "execution_count": null,
   "id": "e0cf379a",
   "metadata": {},
   "outputs": [],
   "source": []
  },
  {
   "cell_type": "markdown",
   "id": "ae97e78c-8880-4804-ae03-2d5f8869f22d",
   "metadata": {
    "cell_id": "00040-432a9aa8-8828-443e-8c3d-8816137d82e7",
    "deepnote_cell_type": "markdown"
   },
   "source": [
    "## Regularizing, Splitting Text Data\n",
    "\n",
    "Oftentimes, string data contains multiple pieces of data inside it, split with a seperator character.  With it, you can turn a DataFrame from this:\n",
    "\n",
    "| line |\n",
    "| :--: |\n",
    "| hi_1 |\n",
    "| bye_2|\n",
    "\n",
    "into this:\n",
    "\n",
    "| line | msg | num |\n",
    "| :--: | :--: | :--: |\n",
    "| hi_1 | hi | 1 |\n",
    "| bye_2| bye | 2 |\n",
    "\n",
    "using a single line:\n",
    "\n",
    "```python\n",
    "df[['msg', 'num']] = df['line'].str.split('_', expand=True)\n",
    "```\n",
    "\n",
    "\n",
    "Let's try it out!"
   ]
  },
  {
   "cell_type": "code",
   "execution_count": 2,
   "id": "1fd867ab",
   "metadata": {
    "cell_id": "00041-bf694086-2c7b-4897-8448-1a92da09bfdf",
    "deepnote_cell_type": "code"
   },
   "outputs": [
    {
     "data": {
      "text/html": [
       "<div>\n",
       "<style scoped>\n",
       "    .dataframe tbody tr th:only-of-type {\n",
       "        vertical-align: middle;\n",
       "    }\n",
       "\n",
       "    .dataframe tbody tr th {\n",
       "        vertical-align: top;\n",
       "    }\n",
       "\n",
       "    .dataframe thead th {\n",
       "        text-align: right;\n",
       "    }\n",
       "</style>\n",
       "<table border=\"1\" class=\"dataframe\">\n",
       "  <thead>\n",
       "    <tr style=\"text-align: right;\">\n",
       "      <th></th>\n",
       "      <th>counts_XADD</th>\n",
       "      <th>intensities_JJAKX</th>\n",
       "    </tr>\n",
       "  </thead>\n",
       "  <tbody>\n",
       "    <tr>\n",
       "      <th>0</th>\n",
       "      <td>1;3;5</td>\n",
       "      <td>5_32_654</td>\n",
       "    </tr>\n",
       "    <tr>\n",
       "      <th>1</th>\n",
       "      <td>10;2;6</td>\n",
       "      <td>10_1_99</td>\n",
       "    </tr>\n",
       "  </tbody>\n",
       "</table>\n",
       "</div>"
      ],
      "text/plain": [
       "  counts_XADD intensities_JJAKX\n",
       "0       1;3;5          5_32_654\n",
       "1      10;2;6           10_1_99"
      ]
     },
     "execution_count": 2,
     "metadata": {},
     "output_type": "execute_result"
    }
   ],
   "source": [
    "df = pd.DataFrame({\n",
    "    'counts_XADD': [\"1;3;5\", \"10;2;6\"],\n",
    "    'intensities_JJAKX': ['5_32_654', \"10_1_99\"],\n",
    "})\n",
    "df"
   ]
  },
  {
   "cell_type": "markdown",
   "id": "a9367e43-86a8-4675-895e-828c679cb975",
   "metadata": {
    "cell_id": "00042-84a7c0a7-744f-4ccb-9cfe-778f5f721bf3",
    "deepnote_cell_type": "markdown"
   },
   "source": [
    "Rename the columns to just keep the the names before the underscore"
   ]
  },
  {
   "cell_type": "code",
   "execution_count": null,
   "id": "2d0ec78c",
   "metadata": {
    "cell_id": "00043-aa23e939-6ea6-4b0c-8cb7-f8a08eaf81a1",
    "deepnote_cell_type": "code",
    "tags": [
     "exercise"
    ]
   },
   "outputs": [],
   "source": [
    " "
   ]
  },
  {
   "cell_type": "markdown",
   "id": "dabde920-57cf-47e9-afc5-12ff9b0f8fbb",
   "metadata": {
    "cell_id": "00044-0df626f6-c52f-4360-9611-d3e27835774b",
    "deepnote_cell_type": "markdown"
   },
   "source": [
    "Split the Counts into Counts_1, Counts_2, and Counts_3"
   ]
  },
  {
   "cell_type": "code",
   "execution_count": null,
   "id": "0068adaf",
   "metadata": {
    "cell_id": "00045-c54e2a66-0189-4d82-a597-cb33043a8869",
    "deepnote_cell_type": "code",
    "tags": [
     "exercise"
    ]
   },
   "outputs": [],
   "source": []
  },
  {
   "cell_type": "markdown",
   "id": "d000cb93-205c-4d58-9125-367d6e984cc5",
   "metadata": {
    "cell_id": "00046-8dc23cd5-e362-4e03-bcec-82a98037c5d9",
    "deepnote_cell_type": "markdown"
   },
   "source": [
    "Split the Intensities into Intensities_1, Intensities_2, and Intensities_3"
   ]
  },
  {
   "cell_type": "code",
   "execution_count": null,
   "id": "0a5ee4de",
   "metadata": {
    "cell_id": "00047-5dbca929-23c4-429e-8d2d-abb7db28b3fa",
    "deepnote_cell_type": "code",
    "tags": [
     "exercise"
    ]
   },
   "outputs": [],
   "source": []
  },
  {
   "cell_type": "markdown",
   "id": "6bf6cbaf-0398-4d29-a0b0-17b2d37d9afb",
   "metadata": {
    "cell_id": "00048-615829fd-1a17-4ea4-b2f4-dbbf18ad5540",
    "deepnote_cell_type": "markdown"
   },
   "source": [
    "## Concatenating Across CSV Files Using Dask.DataFrame.read_csv()\n",
    "\n",
    "The Dask DataFrame subpackage makes it possible to work on multiple files at once.  This is especially useful for performance on large datasets, but it also makes managing multiple files in general simple. Just use it like you would Pandas commands, and when you want Dask to make the DataFrame, run the `compute()` method:\n",
    "\n",
    "To Load and Concatenate many CSV files:\n",
    "\n",
    "```python\n",
    "import dask.dataframe as dd\n",
    "df = dd.read_csv(\"data/*.csv\").compute()\n",
    "```\n",
    "\n",
    "Oftentimes, the filename contains metadata data we'd like to include in the analysis.  Dask can add the filename as its own column in the dataframe, for followup text processing:\n",
    "\n",
    "```python\n",
    "df = dd.read_csv(\"data/*.csv\", include_path_column=True).compute()\n",
    "```"
   ]
  },
  {
   "cell_type": "markdown",
   "id": "5a4f2a89-429f-457f-a0ef-5bd1a6cc95de",
   "metadata": {
    "cell_id": "00049-da46f970-86ab-49a6-a321-92d7c25d9612",
    "deepnote_cell_type": "markdown"
   },
   "source": [
    "### Exercise"
   ]
  },
  {
   "cell_type": "markdown",
   "id": "70a9c0f2-00d5-49ef-b939-b1c6c6740609",
   "metadata": {
    "cell_id": "00050-0cf4d6d9-7326-40dc-a695-f03657152798",
    "deepnote_cell_type": "markdown"
   },
   "source": [
    "Run the following code to create some data files: "
   ]
  },
  {
   "cell_type": "code",
   "execution_count": null,
   "id": "982ceb7c",
   "metadata": {
    "cell_id": "00051-85d4fb86-f713-4f58-a78b-906b96ca1c36",
    "deepnote_cell_type": "code"
   },
   "outputs": [],
   "source": [
    "from pathlib import Path\n",
    "Path(\"peopledata\").mkdir(exist_ok=True)\n",
    "pd.DataFrame({'Name': ['Jackson', 'Josh', 'Jenny'], 'Age': [16, 19, 17]}).to_csv(\"peopledata/de_1.csv\", index=False)\n",
    "pd.DataFrame({'Name': ['Jess', 'Jon', 'Joe'], 'Age': [21, 16, 23]}, index=[3, 4, 5]).to_csv(\"peopledata/fr_2.csv\", index=False)\n",
    "pd.DataFrame({'Name': ['Jill', 'Josephine', 'Jack'], 'Age': [5, 10, 61]}).to_csv(\"peopledata/de_3.csv\", index=False)"
   ]
  },
  {
   "cell_type": "markdown",
   "id": "e12c0a9d-d7d3-47a2-ae0f-0d0ee7e81f8f",
   "metadata": {
    "cell_id": "00052-5a8feaaa-eb9d-4f76-9650-1aa5dd2ed811",
    "deepnote_cell_type": "markdown"
   },
   "source": [
    "Read all of them in using Dask DataFrame, concatenate them together, and split the filenames into two columns:  \"Country\" and \"GroupID\""
   ]
  },
  {
   "cell_type": "markdown",
   "id": "73df4172-c0bf-4934-8a24-21b04239da51",
   "metadata": {
    "cell_id": "00054-abe70f57-887c-496e-99bc-1e3544efff9f",
    "deepnote_cell_type": "markdown",
    "tags": [
     "exercise"
    ]
   },
   "source": []
  },
  {
   "cell_type": "markdown",
   "id": "fdde58e6",
   "metadata": {
    "cell_id": "00067-49bb40c3-24c0-48f8-8865-ed3a70687977",
    "deepnote_cell_type": "markdown"
   },
   "source": [
    "## More out-of-core Reshaping Operations: Joins with SQL Queries\n",
    "\n",
    "Does anyone in your group know some SQL?  You can write to and read from tables in any SQL database using the package sqlalchemy, as well as send custom queries!\n",
    "\n",
    "| Function | Description |\n",
    "| :---:    | :----:      |\n",
    "| `create_engine()` | Describe how sqlalchemy should find and connect to your database |\n",
    "| `engine.connect()` | Make an open connection to the database (similar to opening a file) |\n",
    "| `DetaFrame.to_sql(\"table_name\", conn)` | Write to a table in a database you have an open connection to |\n",
    "| `pd.read_sql_table(\"table_name\", conn)`, | Read from a table in a databae you have an open connection to |\n",
    "| `pd.read_sql_query(\"SELECT * FROM table_name\", conn)`, | Read from a query in a databae you have an open connection to |"
   ]
  },
  {
   "cell_type": "code",
   "execution_count": null,
   "id": "3b137960",
   "metadata": {
    "cell_id": "00068-8e6d9131-515d-4492-902b-d5a5b6047045",
    "deepnote_cell_type": "code"
   },
   "outputs": [],
   "source": [
    "from sqlalchemy import create_engine"
   ]
  },
  {
   "cell_type": "code",
   "execution_count": null,
   "id": "be231e07",
   "metadata": {
    "cell_id": "00069-97984504-4a60-42b6-97fb-5e60d169dc78",
    "deepnote_cell_type": "code"
   },
   "outputs": [
    {
     "name": "stderr",
     "output_type": "stream",
     "text": [
      "WARNING: You are using pip version 20.2.3; however, version 21.1.2 is available.\n",
      "You should consider upgrading via the 'c:\\users\\503236363\\desktop\\at-s_pythontrainingseries\\.venv\\scripts\\python.exe -m pip install --upgrade pip' command.\n"
     ]
    },
    {
     "name": "stdout",
     "output_type": "stream",
     "text": [
      "Collecting sqlalchemy\n",
      "  Downloading SQLAlchemy-1.4.17-cp39-cp39-win_amd64.whl (1.5 MB)\n",
      "Collecting greenlet!=0.4.17; python_version >= \"3\"\n",
      "  Downloading greenlet-1.1.0-cp39-cp39-win_amd64.whl (95 kB)\n",
      "Installing collected packages: greenlet, sqlalchemy\n",
      "Successfully installed greenlet-1.1.0 sqlalchemy-1.4.17\n"
     ]
    }
   ],
   "source": [
    "# %pip install sqlalchemy"
   ]
  },
  {
   "cell_type": "markdown",
   "id": "3aab2132",
   "metadata": {
    "cell_id": "00070-a1d93280-3e54-4826-934a-aefbf7e7c818",
    "deepnote_cell_type": "markdown"
   },
   "source": [
    "### Create and Population the Database"
   ]
  },
  {
   "cell_type": "code",
   "execution_count": null,
   "id": "1ef38e11",
   "metadata": {
    "cell_id": "00071-eea799b8-a253-4c2f-a0dd-0413b8d70672",
    "deepnote_cell_type": "code"
   },
   "outputs": [],
   "source": [
    "\n",
    "with create_engine(\"sqlite:///people.db\").connect() as conn:\n",
    "    pd.DataFrame({'Name': ['Paul', 'Arash', 'Jenny'], 'Age': [16, 19, 17]}).to_sql(\"ages\", conn, index=False)\n",
    "    pd.DataFrame({'Name': ['Arash', 'Paul', 'Sara'], 'Weight': [32, 15, 37]}).to_sql(\"weights\", conn, index=False)\n",
    "    pd.DataFrame({'Name': ['Amy', 'Paul', 'Sara'], 'Height': [170, 190, 143]}).to_sql(\"heights\", conn)"
   ]
  },
  {
   "cell_type": "markdown",
   "id": "22de2579",
   "metadata": {
    "cell_id": "00072-49b3c192-c0d6-4659-8799-45a9fc0dadf7",
    "deepnote_cell_type": "markdown"
   },
   "source": [
    "### Examples: Read from the Database"
   ]
  },
  {
   "cell_type": "code",
   "execution_count": null,
   "id": "dcfd85da",
   "metadata": {
    "cell_id": "00073-ea3f9e99-5472-40f6-9205-d665c66d294a",
    "deepnote_cell_type": "code"
   },
   "outputs": [
    {
     "data": {
      "text/html": [
       "<div>\n",
       "<style scoped>\n",
       "    .dataframe tbody tr th:only-of-type {\n",
       "        vertical-align: middle;\n",
       "    }\n",
       "\n",
       "    .dataframe tbody tr th {\n",
       "        vertical-align: top;\n",
       "    }\n",
       "\n",
       "    .dataframe thead th {\n",
       "        text-align: right;\n",
       "    }\n",
       "</style>\n",
       "<table border=\"1\" class=\"dataframe\">\n",
       "  <thead>\n",
       "    <tr style=\"text-align: right;\">\n",
       "      <th></th>\n",
       "      <th>Name</th>\n",
       "      <th>Age</th>\n",
       "    </tr>\n",
       "  </thead>\n",
       "  <tbody>\n",
       "    <tr>\n",
       "      <th>0</th>\n",
       "      <td>Paul</td>\n",
       "      <td>16</td>\n",
       "    </tr>\n",
       "    <tr>\n",
       "      <th>1</th>\n",
       "      <td>Arash</td>\n",
       "      <td>19</td>\n",
       "    </tr>\n",
       "    <tr>\n",
       "      <th>2</th>\n",
       "      <td>Jenny</td>\n",
       "      <td>17</td>\n",
       "    </tr>\n",
       "  </tbody>\n",
       "</table>\n",
       "</div>"
      ],
      "text/plain": [
       "    Name  Age\n",
       "0   Paul   16\n",
       "1  Arash   19\n",
       "2  Jenny   17"
      ]
     },
     "execution_count": 16,
     "metadata": {},
     "output_type": "execute_result"
    }
   ],
   "source": [
    "with create_engine(\"sqlite:///people.db\").connect() as conn:\n",
    "    df = pd.read_sql_table(\"ages\", conn)\n",
    "df"
   ]
  },
  {
   "cell_type": "code",
   "execution_count": null,
   "id": "28bdee6a",
   "metadata": {
    "cell_id": "00074-3ee3fb5f-86bd-48f2-8ed5-989c45fa21f0",
    "deepnote_cell_type": "code"
   },
   "outputs": [
    {
     "data": {
      "text/html": [
       "<div>\n",
       "<style scoped>\n",
       "    .dataframe tbody tr th:only-of-type {\n",
       "        vertical-align: middle;\n",
       "    }\n",
       "\n",
       "    .dataframe tbody tr th {\n",
       "        vertical-align: top;\n",
       "    }\n",
       "\n",
       "    .dataframe thead th {\n",
       "        text-align: right;\n",
       "    }\n",
       "</style>\n",
       "<table border=\"1\" class=\"dataframe\">\n",
       "  <thead>\n",
       "    <tr style=\"text-align: right;\">\n",
       "      <th></th>\n",
       "      <th>Age</th>\n",
       "    </tr>\n",
       "  </thead>\n",
       "  <tbody>\n",
       "    <tr>\n",
       "      <th>0</th>\n",
       "      <td>16</td>\n",
       "    </tr>\n",
       "    <tr>\n",
       "      <th>1</th>\n",
       "      <td>19</td>\n",
       "    </tr>\n",
       "    <tr>\n",
       "      <th>2</th>\n",
       "      <td>17</td>\n",
       "    </tr>\n",
       "  </tbody>\n",
       "</table>\n",
       "</div>"
      ],
      "text/plain": [
       "   Age\n",
       "0   16\n",
       "1   19\n",
       "2   17"
      ]
     },
     "execution_count": 19,
     "metadata": {},
     "output_type": "execute_result"
    }
   ],
   "source": [
    "query = \"\"\"\n",
    "SELECT Age FROM ages\n",
    "\"\"\"\n",
    "with create_engine(\"sqlite:///people.db\").connect() as conn:\n",
    "    df = pd.read_sql_query(query, conn)\n",
    "df"
   ]
  },
  {
   "cell_type": "markdown",
   "id": "3673e9ec",
   "metadata": {
    "cell_id": "00075-372367ef-05f3-40f7-8f5c-45285b19bcbf",
    "deepnote_cell_type": "markdown"
   },
   "source": [
    "### Free Exercise\n",
    "\n",
    "What kinds of queries can we make on this data?"
   ]
  },
  {
   "cell_type": "code",
   "execution_count": null,
   "id": "facdb579",
   "metadata": {
    "cell_id": "00076-f753effa-dd96-4c7f-b09c-526adae05ac6",
    "deepnote_cell_type": "code"
   },
   "outputs": [],
   "source": []
  }
 ],
 "metadata": {
  "deepnote": {},
  "deepnote_execution_queue": [],
  "deepnote_notebook_id": "61f525a9-da51-4af9-a52a-b4bb0d84fdd9",
  "kernelspec": {
   "display_name": "Python 3 (ipykernel)",
   "language": "python",
   "name": "python3"
  },
  "language_info": {
   "codemirror_mode": {
    "name": "ipython",
    "version": 3
   },
   "file_extension": ".py",
   "mimetype": "text/x-python",
   "name": "python",
   "nbconvert_exporter": "python",
   "pygments_lexer": "ipython3",
   "version": "3.10.4"
  },
  "metadata": {
   "interpreter": {
    "hash": "96aaef06ee4620efb4426efa9d33cf4f7340991f4df94558c663a28125b37508"
   }
  },
  "vscode": {
   "interpreter": {
    "hash": "d6852d01271bf8033dbdb7ec364b6f6e89fd52a18c6bf5b4c73e48c86329a8dd"
   }
  }
 },
 "nbformat": 4,
 "nbformat_minor": 5
}
