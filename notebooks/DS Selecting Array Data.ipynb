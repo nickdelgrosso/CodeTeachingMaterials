{
 "cells": [
  {
   "cell_type": "markdown",
   "id": "0944c96c",
   "metadata": {
    "cell_id": "00001-4e438df0-8f80-4152-9e3d-7ba7f6e38e7c",
    "deepnote_cell_type": "markdown",
    "slideshow": {
     "slide_type": "slide"
    }
   },
   "source": [
    "## Extracting Data From a Collection: Indexing and Slicing\n",
    "\n",
    "Data can be indexed/queried/extracted from collections using the square brackets: [ ]\n",
    "\n",
    "In sequences, putting a number inside the the brackets extracts the nth (counting from zero) value\n",
    "```python\n",
    ">>> (1, 2, 3)[1]\n",
    "2\n",
    "\n",
    ">>> (1, 2, 3)[0]\n",
    "1\n",
    "\n",
    ">>> (1, 2, 3)[-1]\n",
    "3\n",
    "```\n",
    "\n",
    "You can \"slice\" a sequence (get all from one index to another index) using the colon [:]\n",
    "```python\n",
    ">>> (10, 20, 30, 40, 50, 60)[1:3]\n",
    "(20, 30)\n",
    "\n",
    ">>> (10, 20, 30, 40, 50, 60)[:3]\n",
    "(10, 20, 30)\n",
    "\n",
    ">>> (10, 20, 30, 40, 50, 60)[3:]\n",
    "(40, 50, 60)\n",
    "```\n"
   ]
  },
  {
   "cell_type": "markdown",
   "id": "bb81ee70",
   "metadata": {
    "cell_id": "00002-6ac27222-66d9-4b12-a0df-b8b02caf0903",
    "deepnote_cell_type": "markdown",
    "slideshow": {
     "slide_type": "subslide"
    }
   },
   "source": [
    "**Exercises**: Indexing Lists\n",
    "\n",
    "Using the example dataset *scores*, select only the described elements from each list:"
   ]
  },
  {
   "cell_type": "markdown",
   "id": "4bbfe872",
   "metadata": {
    "cell_id": "00003-70e2a9a0-4dd6-47b8-921c-5db492fd71d6",
    "deepnote_cell_type": "markdown",
    "slideshow": {
     "slide_type": "fragment"
    }
   },
   "source": [
    "Example: The first score below:"
   ]
  },
  {
   "cell_type": "code",
   "execution_count": null,
   "id": "4ab926f7",
   "metadata": {
    "cell_id": "00004-fad4c34d-022c-4404-8109-32ccec7e6470",
    "deepnote_cell_type": "code"
   },
   "outputs": [],
   "source": [
    "(0.2, 0.3, 0.9, 1.1, 2.2, 2.9, 0.0, 0.7, 1.3, 0.3, 0.5, 0.1, 0.0)"
   ]
  },
  {
   "cell_type": "code",
   "execution_count": 1,
   "id": "3273b54b",
   "metadata": {
    "tags": []
   },
   "outputs": [
    {
     "data": {
      "text/plain": [
       "0.2"
      ]
     },
     "execution_count": 1,
     "metadata": {},
     "output_type": "execute_result"
    }
   ],
   "source": [
    "(0.2, 0.3, 0.9, 1.1, 2.2, 2.9, 0.0, 0.7, 1.3, 0.3, 0.5, 0.1, 0.0)[0]"
   ]
  },
  {
   "cell_type": "markdown",
   "id": "338d835b",
   "metadata": {
    "cell_id": "00005-9d800229-ce42-481b-b477-0a0b6d3f8a1b",
    "deepnote_cell_type": "markdown",
    "slideshow": {
     "slide_type": "fragment"
    }
   },
   "source": [
    "The third score below:"
   ]
  },
  {
   "cell_type": "code",
   "execution_count": null,
   "id": "b0d76897",
   "metadata": {
    "cell_id": "00006-578fb5f4-2021-4a82-958a-79290e4d7b8f",
    "deepnote_cell_type": "code"
   },
   "outputs": [],
   "source": [
    "(0.2, 0.3, 0.9, 1.1, 2.2, 2.9, 0.0, 0.7, 1.3, 0.3, 0.5, 0.1, 0.0)"
   ]
  },
  {
   "cell_type": "code",
   "execution_count": 1,
   "id": "6d9a701d",
   "metadata": {
    "tags": [
     "exercise"
    ]
   },
   "outputs": [
    {
     "data": {
      "text/plain": [
       "0.9"
      ]
     },
     "execution_count": 1,
     "metadata": {},
     "output_type": "execute_result"
    }
   ],
   "source": [
    "(0.2, 0.3, 0.9, 1.1, 2.2, 2.9, 0.0, 0.7, 1.3, 0.3, 0.5, 0.1, 0.0)[2]"
   ]
  },
  {
   "cell_type": "markdown",
   "id": "4246d7de",
   "metadata": {
    "cell_id": "00007-562f80b3-3a4d-445a-bbb3-fc2477e43480",
    "deepnote_cell_type": "markdown",
    "slideshow": {
     "slide_type": "subslide"
    }
   },
   "source": [
    "The last score below:"
   ]
  },
  {
   "cell_type": "code",
   "execution_count": null,
   "id": "3b0e318d",
   "metadata": {
    "cell_id": "00008-cf4f14ef-8772-4734-a722-e203eb4b677a",
    "deepnote_cell_type": "code"
   },
   "outputs": [],
   "source": [
    "(0.2, 0.3, 0.9, 1.1, 2.2, 2.9, 0.0, 0.7, 1.3, 0.3, 0.5, 0.1, 0.0)"
   ]
  },
  {
   "cell_type": "code",
   "execution_count": 3,
   "id": "9a51a951",
   "metadata": {
    "tags": [
     "exercise"
    ]
   },
   "outputs": [
    {
     "data": {
      "text/plain": [
       "0.0"
      ]
     },
     "execution_count": 3,
     "metadata": {},
     "output_type": "execute_result"
    }
   ],
   "source": [
    "(0.2, 0.3, 0.9, 1.1, 2.2, 2.9, 0.0, 0.7, 1.3, 0.3, 0.5, 0.1, 0.0)[-1]"
   ]
  },
  {
   "cell_type": "markdown",
   "id": "6943d709",
   "metadata": {
    "cell_id": "00009-477e61ba-5ea8-4664-8caf-27dad5f64c95",
    "deepnote_cell_type": "markdown"
   },
   "source": [
    "The 3rd from the last score below:"
   ]
  },
  {
   "cell_type": "code",
   "execution_count": null,
   "id": "5ea86ef5",
   "metadata": {
    "cell_id": "00010-3242ff4f-6cea-44e2-9eca-9a4208d0d699",
    "deepnote_cell_type": "code"
   },
   "outputs": [],
   "source": [
    "(0.2, 0.3, 0.9, 1.1, 2.2, 2.9, 0.0, 0.7, 1.3, 0.3, 0.5, 0.1, 0.0)"
   ]
  },
  {
   "cell_type": "code",
   "execution_count": 4,
   "id": "ebf6fd7d",
   "metadata": {
    "tags": [
     "exercise"
    ]
   },
   "outputs": [
    {
     "data": {
      "text/plain": [
       "0.5"
      ]
     },
     "execution_count": 4,
     "metadata": {},
     "output_type": "execute_result"
    }
   ],
   "source": [
    "(0.2, 0.3, 0.9, 1.1, 2.2, 2.9, 0.0, 0.7, 1.3, 0.3, 0.5, 0.1, 0.0)[-3]"
   ]
  },
  {
   "cell_type": "markdown",
   "id": "cbabddb6",
   "metadata": {
    "cell_id": "00011-6df9a222-4f45-41cd-9896-75c5eb4d7040",
    "deepnote_cell_type": "markdown",
    "slideshow": {
     "slide_type": "fragment"
    }
   },
   "source": [
    "The 2nd through 5th score below:"
   ]
  },
  {
   "cell_type": "code",
   "execution_count": null,
   "id": "0479bafb",
   "metadata": {
    "cell_id": "00012-db385ae3-b58b-41ac-acf4-05e0b619a55b",
    "deepnote_cell_type": "code"
   },
   "outputs": [],
   "source": [
    "(0.2, 0.3, 0.9, 1.1, 2.2, 2.9, 0.0, 0.7, 1.3, 0.3, 0.5, 0.1, 0.0)"
   ]
  },
  {
   "cell_type": "code",
   "execution_count": 5,
   "id": "443d1c9e",
   "metadata": {
    "tags": [
     "exercise"
    ]
   },
   "outputs": [
    {
     "data": {
      "text/plain": [
       "(0.3, 0.9, 1.1, 2.2)"
      ]
     },
     "execution_count": 5,
     "metadata": {},
     "output_type": "execute_result"
    }
   ],
   "source": [
    "(0.2, 0.3, 0.9, 1.1, 2.2, 2.9, 0.0, 0.7, 1.3, 0.3, 0.5, 0.1, 0.0)[1:5]"
   ]
  },
  {
   "cell_type": "markdown",
   "id": "f4d316a0",
   "metadata": {
    "cell_id": "00013-65f88783-9b55-4292-84eb-d6662770da52",
    "deepnote_cell_type": "markdown",
    "slideshow": {
     "slide_type": "fragment"
    }
   },
   "source": [
    "Every second score (the first, third, fifth, etc) below:"
   ]
  },
  {
   "cell_type": "code",
   "execution_count": null,
   "id": "f73f3485",
   "metadata": {
    "cell_id": "00014-61786226-20db-4998-8547-f09364960c16",
    "deepnote_cell_type": "code"
   },
   "outputs": [],
   "source": [
    "(0.2, 0.3, 0.9, 1.1, 2.2, 2.9, 0.0, 0.7, 1.3, 0.3, 0.5, 0.1, 0.0)"
   ]
  },
  {
   "cell_type": "code",
   "execution_count": 6,
   "id": "91a49b58",
   "metadata": {
    "tags": [
     "exercise"
    ]
   },
   "outputs": [
    {
     "data": {
      "text/plain": [
       "(0.3, 1.1, 2.9, 0.7, 0.3, 0.1)"
      ]
     },
     "execution_count": 6,
     "metadata": {},
     "output_type": "execute_result"
    }
   ],
   "source": [
    "(0.2, 0.3, 0.9, 1.1, 2.2, 2.9, 0.0, 0.7, 1.3, 0.3, 0.5, 0.1, 0.0)[1::2]"
   ]
  },
  {
   "cell_type": "markdown",
   "id": "f27f1c63",
   "metadata": {
    "cell_id": "00015-c8db6a04-6b71-4920-b02f-9eff21064b7c",
    "deepnote_cell_type": "markdown",
    "slideshow": {
     "slide_type": "subslide"
    }
   },
   "source": [
    "Every score after the 4th score below:"
   ]
  },
  {
   "cell_type": "code",
   "execution_count": null,
   "id": "3d474aa4",
   "metadata": {
    "cell_id": "00016-777e5e85-d2b4-49bc-a46f-b4ece6507f29",
    "deepnote_cell_type": "code"
   },
   "outputs": [
    {
     "data": {
      "text/plain": [
       "(0.2, 0.3, 0.9, 1.1, 2.2, 2.9, 0.0, 0.7, 1.3, 0.3, 0.5, 0.1, 0.0)"
      ]
     },
     "execution_count": 11,
     "metadata": {},
     "output_type": "execute_result"
    }
   ],
   "source": [
    "(0.2, 0.3, 0.9, 1.1, 2.2, 2.9, 0.0, 0.7, 1.3, 0.3, 0.5, 0.1, 0.0)"
   ]
  },
  {
   "cell_type": "code",
   "execution_count": 7,
   "id": "f8d62569",
   "metadata": {
    "tags": [
     "exercise"
    ]
   },
   "outputs": [
    {
     "data": {
      "text/plain": [
       "(2.2, 2.9, 0.0, 0.7, 1.3, 0.3, 0.5, 0.1, 0.0)"
      ]
     },
     "execution_count": 7,
     "metadata": {},
     "output_type": "execute_result"
    }
   ],
   "source": [
    "(0.2, 0.3, 0.9, 1.1, 2.2, 2.9, 0.0, 0.7, 1.3, 0.3, 0.5, 0.1, 0.0)[4:]"
   ]
  },
  {
   "cell_type": "markdown",
   "id": "92211b1f",
   "metadata": {
    "cell_id": "00017-cff3e57a-b3f3-4c02-99e5-a9856d8dcf09",
    "deepnote_cell_type": "markdown",
    "slideshow": {
     "slide_type": "fragment"
    }
   },
   "source": [
    "Every second score from the 2nd to the 8th below:"
   ]
  },
  {
   "cell_type": "code",
   "execution_count": null,
   "id": "40af9ff7",
   "metadata": {
    "cell_id": "00018-d425f9bf-75e8-4ab6-b778-811ad1260e0b",
    "deepnote_cell_type": "code"
   },
   "outputs": [],
   "source": [
    "(0.2, 0.3, 0.9, 1.1, 2.2, 2.9, 0.0, 0.7, 1.3, 0.3, 0.5, 0.1, 0.0)"
   ]
  },
  {
   "cell_type": "code",
   "execution_count": 8,
   "id": "40360538",
   "metadata": {
    "tags": [
     "exercise"
    ]
   },
   "outputs": [
    {
     "data": {
      "text/plain": [
       "(0.3, 1.1, 2.9, 0.7)"
      ]
     },
     "execution_count": 8,
     "metadata": {},
     "output_type": "execute_result"
    }
   ],
   "source": [
    "(0.2, 0.3, 0.9, 1.1, 2.2, 2.9, 0.0, 0.7, 1.3, 0.3, 0.5, 0.1, 0.0)[1:8:2]"
   ]
  },
  {
   "cell_type": "markdown",
   "id": "cb663633",
   "metadata": {
    "cell_id": "00019-a92923fc-480e-49b9-b755-17717e6cebee",
    "deepnote_cell_type": "markdown"
   },
   "source": [
    "Every score except the first and last below:"
   ]
  },
  {
   "cell_type": "code",
   "execution_count": 9,
   "id": "c1c607dc",
   "metadata": {
    "cell_id": "00020-8d2e794e-a732-4550-a273-f053a4429df8",
    "deepnote_cell_type": "code"
   },
   "outputs": [
    {
     "data": {
      "text/plain": [
       "(0.2, 0.3, 0.9, 1.1, 2.2, 2.9, 0.0, 0.7, 1.3, 0.3, 0.5, 0.1, 0.0)"
      ]
     },
     "execution_count": 9,
     "metadata": {},
     "output_type": "execute_result"
    }
   ],
   "source": [
    "(0.2, 0.3, 0.9, 1.1, 2.2, 2.9, 0.0, 0.7, 1.3, 0.3, 0.5, 0.1, 0.0)"
   ]
  },
  {
   "cell_type": "code",
   "execution_count": 10,
   "id": "a19dba49",
   "metadata": {
    "cell_id": "00021-a60015e9-ce71-4d17-858b-d9b0dfb9197f",
    "deepnote_cell_type": "code",
    "tags": [
     "exercise"
    ]
   },
   "outputs": [
    {
     "data": {
      "text/plain": [
       "(0.3, 0.9, 1.1, 2.2, 2.9, 0.0, 0.7, 1.3, 0.3, 0.5, 0.1)"
      ]
     },
     "execution_count": 10,
     "metadata": {},
     "output_type": "execute_result"
    }
   ],
   "source": [
    "(0.2, 0.3, 0.9, 1.1, 2.2, 2.9, 0.0, 0.7, 1.3, 0.3, 0.5, 0.1, 0.0)[1:-1]"
   ]
  },
  {
   "cell_type": "markdown",
   "id": "563dc17b",
   "metadata": {
    "cell_id": "00053-3da764f4-d4df-41bc-a400-78deed3eb907",
    "deepnote_cell_type": "markdown"
   },
   "source": [
    "## Further Reading\n",
    "\n",
    "Here's a nice article that reviews indexing and slicing: https://towardsdatascience.com/the-basics-of-indexing-and-slicing-python-lists-2d12c90a94cf\n"
   ]
  }
 ],
 "metadata": {
  "deepnote": {},
  "deepnote_execution_queue": [],
  "deepnote_notebook_id": "a27cd820-b11d-4b36-9d98-a811f6266dfb",
  "kernelspec": {
   "display_name": "Python 3 (ipykernel)",
   "language": "python",
   "name": "python3"
  },
  "language_info": {
   "codemirror_mode": {
    "name": "ipython",
    "version": 3
   },
   "file_extension": ".py",
   "mimetype": "text/x-python",
   "name": "python",
   "nbconvert_exporter": "python",
   "pygments_lexer": "ipython3",
   "version": "3.9.12"
  },
  "vscode": {
   "interpreter": {
    "hash": "d6852d01271bf8033dbdb7ec364b6f6e89fd52a18c6bf5b4c73e48c86329a8dd"
   }
  }
 },
 "nbformat": 4,
 "nbformat_minor": 5
}
