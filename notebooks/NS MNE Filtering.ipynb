{
 "cells": [
  {
   "cell_type": "code",
   "execution_count": 1,
   "id": "cb83a3f4-2b5c-4f5d-ab6b-068967c46ddf",
   "metadata": {},
   "outputs": [],
   "source": [
    "import numpy as np\n",
    "import matplotlib.pyplot as plt\n",
    "import mne"
   ]
  },
  {
   "cell_type": "code",
   "execution_count": 3,
   "id": "80fa2155-9627-42e7-9864-cae55d56b045",
   "metadata": {},
   "outputs": [],
   "source": [
    "%matplotlib inline"
   ]
  },
  {
   "cell_type": "markdown",
   "id": "c825d2de-3bdd-4cb4-a82c-b3b2aa0d4ee7",
   "metadata": {},
   "source": [
    "# Frequency-Filtering Signals"
   ]
  },
  {
   "cell_type": "markdown",
   "id": "c542d012-25d6-4505-82c6-9f8cf137661b",
   "metadata": {},
   "source": [
    "**Exercises**"
   ]
  },
  {
   "cell_type": "markdown",
   "id": "d178af51-ed0e-4ecf-b423-420eafa301c2",
   "metadata": {},
   "source": [
    "#### Create the Data"
   ]
  },
  {
   "cell_type": "markdown",
   "id": "ad8b584f-331b-4129-be3d-a17719b73f22",
   "metadata": {},
   "source": [
    "Using Numpy and Matplotlib, plot 3 seconds-worth of three sine waves: a 3 Hz wave, an 8 Hz wave, and a 20 Hz wave.  Use the formula below ($f$ is the frequency in Hz, and $t$ is the time in seconds)\n",
    "\n",
    "$$  \\sin{f 2 \\pi t}  $$\n",
    "\n",
    "Adjust the plot so that you can see all of the waves clearly and each signal.  If using a legend, this will let you move it out of the way: `plt.legend(loc='upper left', bbox_to_anchor=(1, 1));`"
   ]
  },
  {
   "cell_type": "code",
   "execution_count": null,
   "id": "e7372374-2060-46b7-b9a0-649e7b5a2a89",
   "metadata": {},
   "outputs": [],
   "source": []
  },
  {
   "cell_type": "markdown",
   "id": "7debc7e6-93a9-42b0-9aec-04fc535c982d",
   "metadata": {},
   "source": [
    "Make and plot another signal, that's the mean of the three sine waves."
   ]
  },
  {
   "cell_type": "code",
   "execution_count": null,
   "id": "8271a79e-b20e-4c85-8bc5-37692110b3af",
   "metadata": {},
   "outputs": [],
   "source": []
  },
  {
   "cell_type": "markdown",
   "id": "d26416e4-80e9-4ba0-aab2-3e08e2085d06",
   "metadata": {},
   "source": [
    "Plot the signals with MNE: Make an mne.Raw data structure from these four signals (the individual waves and the combined wave).  Reminder: The functions `mne.io.RawArray()` and `mne.create_info()` will be helpful here.  "
   ]
  },
  {
   "cell_type": "code",
   "execution_count": null,
   "id": "6f5bc47e-ca2f-4d80-8300-9b3a258afc28",
   "metadata": {},
   "outputs": [],
   "source": []
  },
  {
   "cell_type": "markdown",
   "id": "3b698d2a-cfe4-4e82-99e4-fa9905969f82",
   "metadata": {},
   "source": [
    "### Frequency Band Filters: Lowpass, Highpass, Bandpass, and Bandstop\n",
    "\n",
    "The `Raw.filter()` function filters all the picked channels in the dataset.  It has a lot of parameters for customizing the filter, but we'll just focus on two: `l_freq` (lowest frequency allowed) and `h_freq` (highest frequency allowed):\n",
    "\n",
    "  - **Highpass Filter**: Keep everything above a certain frequency. `Raw.filter(l_freq=2, h_freq=None`)\n",
    "  - **Lowpass Filter**: Keep everything above a certain frequency.  `Raw.filter(l_freq=None, h_freq=20`)\n",
    "  - **Bandpass Filter**: Keep everything between two frequencies.  `Raw.filter(l_freq=2, h_freq=20`)\n",
    "  - **Bandstop Filter**: Reject everything between two frequencies.  `Raw.filter(l_freq=20, h_freq=2`)\n",
    "  \n",
    "In the exercises below, you'll make different filters and apply them to the data.  Besides learning how MNE works, the goal here is to get a feel for the imperfections of filters, so experiment and keep plotting the data!\n",
    "\n",
    "*Tip*: `Raw.filter()` modifies the data in-place.  To avoid re-filtering the same data twice, the following snippet can help: `raw.copy().filter()`\n",
    "\n",
    "*Tip*: If the channels are **\"Misc\"**, you can pick them to be filtered with `Raw.filter(picks='misc')`\n",
    "\n",
    "*Tip*: Filtering can re-scale the data, which can make plotting a challenge.  Set a vertical compression factor when plotting with `Raw.plot(scalings=2)`"
   ]
  },
  {
   "cell_type": "markdown",
   "id": "e568fa86-0f42-4e69-9207-c4674ab17d6f",
   "metadata": {},
   "source": [
    "**Exercises**: Plot filtered signals with the requested properties"
   ]
  },
  {
   "cell_type": "markdown",
   "id": "a01a2d0e-0278-4e98-bfdc-f9c703c540f4",
   "metadata": {},
   "source": [
    "Filter out the 3-Hz wave, keep the other signals intact"
   ]
  },
  {
   "cell_type": "code",
   "execution_count": null,
   "id": "7559642f-2292-4612-9b40-a0d057248b4a",
   "metadata": {},
   "outputs": [],
   "source": []
  },
  {
   "cell_type": "markdown",
   "id": "9cb9dce9-0915-482e-a8b0-6acca9f1db54",
   "metadata": {},
   "source": [
    "Filter out the 20-Hz wave, keep the other signals intact"
   ]
  },
  {
   "cell_type": "code",
   "execution_count": null,
   "id": "241628bb-b928-4897-ae03-f5236f9f6e14",
   "metadata": {},
   "outputs": [],
   "source": []
  },
  {
   "cell_type": "markdown",
   "id": "cc9724d3-4285-4d90-86e2-281f44e15998",
   "metadata": {},
   "source": [
    "Filter out the 3-Hz and 8-Hz wave, keep the other signals intact"
   ]
  },
  {
   "cell_type": "code",
   "execution_count": null,
   "id": "e01b11a5-c366-4833-9749-0ec4dc251b09",
   "metadata": {},
   "outputs": [],
   "source": []
  },
  {
   "cell_type": "markdown",
   "id": "7d20ce34-4136-43e7-bc64-429da242edcb",
   "metadata": {},
   "source": [
    "Filter out the 8-Hz wave, keep the other signals intact"
   ]
  },
  {
   "cell_type": "code",
   "execution_count": null,
   "id": "bd6a26c4-7d7c-43fc-8f9a-2d4b5ca3906a",
   "metadata": {},
   "outputs": [],
   "source": []
  },
  {
   "cell_type": "markdown",
   "id": "8ccf61d8-1ad7-4b57-9404-97a1120d6433",
   "metadata": {},
   "source": [
    "### Notch Filter\n",
    "\n",
    "`Raw.notch_filter([50])` It's also possible to specify exact frequencies to filter out; this is called a \"notch filter\", and is often used to filter out powerline frequencies (50 Hz in Europe, 60 Hz in U.S.). "
   ]
  },
  {
   "cell_type": "markdown",
   "id": "6e9e0448-d95a-4422-8577-146480b698ef",
   "metadata": {},
   "source": [
    "**Exercises**: Use the notch filter to filter out the requested frequencies"
   ]
  },
  {
   "cell_type": "markdown",
   "id": "31b91ac6-c0a6-4edc-af6d-1e920cdb39e2",
   "metadata": {},
   "source": [
    "Filter out the 20-Hz wave, keep the other signals intact"
   ]
  },
  {
   "cell_type": "code",
   "execution_count": null,
   "id": "61d82a6e-28d9-4704-aab0-1a3df168062d",
   "metadata": {},
   "outputs": [],
   "source": []
  },
  {
   "cell_type": "markdown",
   "id": "107c8621-a73c-46d6-9342-1f2aa7d59273",
   "metadata": {},
   "source": [
    "Filter out the 8-Hz wave, keep the other signals intact"
   ]
  },
  {
   "cell_type": "code",
   "execution_count": null,
   "id": "0d339a42-9d7e-4dfb-83b1-2e6a686c9695",
   "metadata": {},
   "outputs": [],
   "source": []
  },
  {
   "cell_type": "markdown",
   "id": "c0cabc9f-a30a-4df7-bf9e-c1739315cf3d",
   "metadata": {},
   "source": [
    "Filter out the 3-Hz and 8-Hz wave, keep the other signals intact"
   ]
  },
  {
   "cell_type": "code",
   "execution_count": null,
   "id": "3ddff5cc-6de1-4807-9471-4b39784b7c64",
   "metadata": {},
   "outputs": [],
   "source": []
  },
  {
   "cell_type": "markdown",
   "id": "99209610-8fa1-4fb2-a192-35914511a363",
   "metadata": {},
   "source": [
    "### Examining Filter Properties\n",
    "\n",
    "What does this filter actually look like, and how is it expected to impact the power of different frequencies, and timing of the signals?\n",
    "\n",
    "MNE's function `mne.filter.create_filter()` returns the Numpy array with the filter shape, customized for the properties of your data.  This can then be examined either by plotting it with `plt.plot()`, or even better, with `mne.viz.plot_filter()`\n",
    "\n",
    "*Tip*: `mne.filter.create_filter()` needs the numpy array and sfreq extracted from the Raw object.  "
   ]
  },
  {
   "cell_type": "markdown",
   "id": "60dff66c-cd86-47a5-989c-21db9daeacdb",
   "metadata": {},
   "source": [
    "**Exercises**"
   ]
  },
  {
   "cell_type": "markdown",
   "id": "a970d37b-8f3f-4710-bdea-d8f04f9547a8",
   "metadata": {},
   "source": [
    "Using Matplotlib, plot a 2-Hz Lowpass filter created for the Raw data."
   ]
  },
  {
   "cell_type": "code",
   "execution_count": null,
   "id": "175d0db8-c33a-47ca-b3c7-e4da6e01cfe2",
   "metadata": {},
   "outputs": [],
   "source": []
  },
  {
   "cell_type": "markdown",
   "id": "77efb2f6-6a5e-4b98-bda0-10c05a3757dc",
   "metadata": {},
   "source": [
    "Plot the filter properties with MNE.  Does this filter affect all frequencies the same?"
   ]
  },
  {
   "cell_type": "code",
   "execution_count": null,
   "id": "9f42453a-4080-4ce3-80a2-19627f935568",
   "metadata": {},
   "outputs": [],
   "source": []
  },
  {
   "cell_type": "markdown",
   "id": "e1d67323-2c7d-4d14-8101-b2a415d780fc",
   "metadata": {},
   "source": [
    "Examine a 5-20 Hz Bandpass filter created for the Raw data."
   ]
  },
  {
   "cell_type": "code",
   "execution_count": null,
   "id": "1e13ee10-6e63-43b3-8873-743dfa7f9bb3",
   "metadata": {},
   "outputs": [],
   "source": []
  },
  {
   "cell_type": "markdown",
   "id": "a5f917ba-54e4-4100-bf8e-c54f43ccfb60",
   "metadata": {},
   "source": [
    "Recreate the Raw data with 60-seconds of signal, and re-plot the 2-Hz lowpass filter.  How is it changed?"
   ]
  },
  {
   "cell_type": "code",
   "execution_count": null,
   "id": "1a0507b7-cf74-4d2f-bf46-bf29a7f3f261",
   "metadata": {},
   "outputs": [],
   "source": []
  },
  {
   "cell_type": "markdown",
   "id": "101cbc18-95f9-4af5-b1d8-37207fd1ec78",
   "metadata": {},
   "source": [
    "## Further Reading\n",
    "\n",
    "MNE has an excellent article on the theory of filtering.\n",
    "  - Link Here: https://mne.tools/stable/auto_tutorials/preprocessing/25_background_filtering.html\n",
    "  - [Download it as a Jupyter notebook](https://mne.tools/stable/_downloads/6d98b103d247000f4433763dd76607c0/25_background_filtering.ipynb)"
   ]
  }
 ],
 "metadata": {
  "kernelspec": {
   "display_name": "Python 3",
   "language": "python",
   "name": "python3"
  },
  "language_info": {
   "codemirror_mode": {
    "name": "ipython",
    "version": 3
   },
   "file_extension": ".py",
   "mimetype": "text/x-python",
   "name": "python",
   "nbconvert_exporter": "python",
   "pygments_lexer": "ipython3",
   "version": "3.8.8"
  }
 },
 "nbformat": 4,
 "nbformat_minor": 5
}
