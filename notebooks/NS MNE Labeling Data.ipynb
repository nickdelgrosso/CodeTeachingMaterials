{
 "cells": [
  {
   "cell_type": "code",
   "execution_count": 1,
   "id": "660dfbd9-2246-4d78-bc39-119046836750",
   "metadata": {},
   "outputs": [],
   "source": [
    "import numpy as np\n",
    "import matplotlib.pyplot as plt\n",
    "import mne\n"
   ]
  },
  {
   "cell_type": "markdown",
   "id": "ceddba53-ec16-46a3-9eed-1e2ffcd555e2",
   "metadata": {},
   "source": [
    "# Adding Experiment Time Annotations"
   ]
  },
  {
   "cell_type": "markdown",
   "id": "f13a735a-f051-498a-8547-445e19581288",
   "metadata": {},
   "source": [
    "## Using [`mne.Annotations`](https://mne.tools/stable/generated/mne.Annotations.html)"
   ]
  },
  {
   "cell_type": "markdown",
   "id": "ff2d2787-9bcd-4000-b3a2-db1d153f2f65",
   "metadata": {},
   "source": [
    "**Exercises**: "
   ]
  },
  {
   "cell_type": "markdown",
   "id": "11a27ebc-8a5c-4100-ba59-41dbb174a04a",
   "metadata": {},
   "source": [
    "Create an Annotations object from scratch using `mne.Annotations()`, describing 5 epochs in your data for two different events:\n",
    "  - *\"StimApp\"*: Happened at 3 secs, 5 secs, and 7 secs, for 0.3 seconds in duration.\n",
    "  - *\"ButtonPressed\"*: Happened at 3.5 secs and 5.2 secs, for 0.6 seconds in duration."
   ]
  },
  {
   "cell_type": "code",
   "execution_count": null,
   "id": "14f818ad-f4e8-457b-ad5e-499c9f0e3819",
   "metadata": {},
   "outputs": [],
   "source": []
  },
  {
   "cell_type": "markdown",
   "id": "4787e2fe-52c1-4f3a-bdc0-58c790248d88",
   "metadata": {},
   "source": [
    "Indexing: Get the third annotation from your annotations"
   ]
  },
  {
   "cell_type": "code",
   "execution_count": null,
   "id": "fb68b7ad-e7b8-4bdf-9511-0cb3b51efd1e",
   "metadata": {},
   "outputs": [],
   "source": []
  },
  {
   "cell_type": "markdown",
   "id": "83e6904f-7467-46af-9d62-cbcc162269b2",
   "metadata": {},
   "source": [
    "Slicing: Get the first three annotations from your annotations"
   ]
  },
  {
   "cell_type": "code",
   "execution_count": null,
   "id": "927074cd-0bd0-478f-a7fd-408c0e1e205e",
   "metadata": {},
   "outputs": [],
   "source": []
  },
  {
   "cell_type": "markdown",
   "id": "a5c2f324-22af-4cc6-9a77-b810cf212114",
   "metadata": {},
   "source": [
    "`Annotations.append()`: add another ButtonPressed event at 7.7 secs for 0.1 seconds in duration"
   ]
  },
  {
   "cell_type": "code",
   "execution_count": null,
   "id": "79859c30-72fe-4780-87ba-c2c9cb6339eb",
   "metadata": {},
   "outputs": [],
   "source": []
  },
  {
   "cell_type": "markdown",
   "id": "fb6f19c2-24af-4d67-b6f0-4e01101b6b91",
   "metadata": {},
   "source": [
    "`Annotations.rename()`: rename the 'StimApp' label to 'StimAppeared'"
   ]
  },
  {
   "cell_type": "code",
   "execution_count": null,
   "id": "cdf56a43-dd6a-4329-83f6-e63cdac23897",
   "metadata": {},
   "outputs": [],
   "source": []
  },
  {
   "cell_type": "markdown",
   "id": "45a8014c-23b6-4f51-9e18-96cb7d228f22",
   "metadata": {},
   "source": [
    "`Annotations.to_data_frame()`: export the Annotations object to a data frame"
   ]
  },
  {
   "cell_type": "code",
   "execution_count": null,
   "id": "c95910aa-96ba-41d2-a660-1fca90808bbe",
   "metadata": {},
   "outputs": [],
   "source": []
  },
  {
   "cell_type": "markdown",
   "id": "e0fa49d8-ace4-492d-b5f4-234afbefa77f",
   "metadata": {},
   "source": [
    "`Annotations.save('annots.csv')`: Save the Annotations to a CSV file"
   ]
  },
  {
   "cell_type": "code",
   "execution_count": null,
   "id": "955af966-b7c4-47a6-b139-1674cd2c3689",
   "metadata": {},
   "outputs": [],
   "source": []
  },
  {
   "cell_type": "markdown",
   "id": "8608d3c5-8d3c-4868-929f-f213a0c83820",
   "metadata": {},
   "source": [
    "`mne.read_annotations()`: Read the CSV file back in as an Annotations object"
   ]
  },
  {
   "cell_type": "code",
   "execution_count": null,
   "id": "55b4001e-6314-4d71-a2d4-da1b4831931e",
   "metadata": {},
   "outputs": [],
   "source": []
  },
  {
   "cell_type": "markdown",
   "id": "b008d793-3dc3-4b2e-9d0e-c49ef9eb73b6",
   "metadata": {},
   "source": [
    "#### Associating Experimental Annotations to an Electrophysiological Dataset"
   ]
  },
  {
   "cell_type": "markdown",
   "id": "1ff2f4cf-7dc7-4411-baec-803e7886c2ba",
   "metadata": {},
   "source": [
    "`Raw.set_annotations()`: Create a Raw dataset with a one channel of a sine wave for 10 seconds, then add the annotations to it."
   ]
  },
  {
   "cell_type": "code",
   "execution_count": null,
   "id": "719ad802-efc9-4257-8426-90ffbcd68cf1",
   "metadata": {},
   "outputs": [],
   "source": []
  },
  {
   "cell_type": "markdown",
   "id": "714458f4-6da3-4c5f-9ac1-2cea3bbf5514",
   "metadata": {},
   "source": [
    "Plot the raw traces.  Do you see the annotations?"
   ]
  },
  {
   "cell_type": "code",
   "execution_count": null,
   "id": "6d604a7f-d0aa-460f-b1f0-ddef85de7ab4",
   "metadata": {},
   "outputs": [],
   "source": []
  },
  {
   "cell_type": "markdown",
   "id": "680e0c53-71f5-4a24-a497-e9ba199cf46a",
   "metadata": {},
   "source": [
    "Plot the raw traces in interactive mode, then press the 'a' key to activate 'Annotation' mode.  Uses it to create five new \"BAD_\" annotations, anywhere you wish.  This is quite useful for interactively marking artifacts, sleep states, eppileptic seizures, etc, in the data.  Afterwards, show that the annotations have been entered into the Raw dataset with `Raw.annotations`."
   ]
  },
  {
   "cell_type": "code",
   "execution_count": null,
   "id": "a5434bf9-29b5-4d22-8567-10d34515885b",
   "metadata": {},
   "outputs": [],
   "source": []
  },
  {
   "cell_type": "markdown",
   "id": "77d7abf8-a2e4-49e9-9441-81bc12089140",
   "metadata": {},
   "source": [
    "Save the raw data to a file"
   ]
  },
  {
   "cell_type": "code",
   "execution_count": null,
   "id": "549f517e-5906-4521-a476-a95eed6e209d",
   "metadata": {},
   "outputs": [],
   "source": []
  },
  {
   "cell_type": "markdown",
   "id": "c44038b3-856b-4b8e-b707-677eb06af4f2",
   "metadata": {},
   "source": [
    "## Events\n",
    "\n",
    "\"Events\" in MNE represent single moments in time when something happened.  Unlike in the rest of MNE, there is no special class for this type of information; the data can be represented either as an array of sample times and id numbers, or as a value in a special \"Stimulus\" channel.\n",
    "\n",
    "Event Arrays are two-dimensional integer arrays, with each row being one event.\n",
    "\n",
    "Columns:\n",
    "  - Column 1: The event time (in sample number)\n",
    "  - Column 2: The offset time (usually set to 0)\n",
    "  - Column 3: The event type id (a positive integer).  \n",
    "\n",
    "Further Reading: https://mne.tools/stable/auto_tutorials/raw/20_event_arrays.html"
   ]
  },
  {
   "cell_type": "markdown",
   "id": "1b00030e-50c5-4f4b-bb31-3a231ec3defb",
   "metadata": {},
   "source": [
    "**Exercises**"
   ]
  },
  {
   "cell_type": "markdown",
   "id": "e7fd1f12-ca1a-41d2-b7fa-e585d8f001cc",
   "metadata": {},
   "source": [
    "In this experiment, 12 trials occur, 1 second between each tone. At the beginning of each trial, either a low-pitched, medium-pitched, or high-pitched tone is played, selected randomly.  During the experiment, EEG data is collected at a sampling frequency of 200 Hz.\n",
    "\n",
    "Exercise: Create the event array that represents this experiment sequence"
   ]
  },
  {
   "cell_type": "code",
   "execution_count": null,
   "id": "c7fcb4e8-e1ee-4c53-8300-f80c1254adbe",
   "metadata": {},
   "outputs": [],
   "source": []
  },
  {
   "cell_type": "markdown",
   "id": "68e741b7-cc9f-41da-adeb-402bdb7e8a58",
   "metadata": {},
   "source": [
    "**`mne.viz.plot_events()`**: Plot the event sequence"
   ]
  },
  {
   "cell_type": "code",
   "execution_count": null,
   "id": "4258fcf7-4733-4ddc-8775-4d66fa8e808f",
   "metadata": {},
   "outputs": [],
   "source": []
  },
  {
   "cell_type": "markdown",
   "id": "90338b0f-86d9-4eb8-a3c2-932e9ea06109",
   "metadata": {},
   "source": [
    "**`mne.write_events('events.eve')`**: Write the event array to a file."
   ]
  },
  {
   "cell_type": "markdown",
   "id": "0bdde914-07b9-410b-8ca6-14d575fce7ee",
   "metadata": {},
   "source": []
  },
  {
   "cell_type": "markdown",
   "id": "be9aff1f-8339-4151-a14c-238d60f8d384",
   "metadata": {},
   "source": [
    "**`mne.read_events('events.eve')`**: Read the event array from a file"
   ]
  },
  {
   "cell_type": "code",
   "execution_count": null,
   "id": "89c7cb33-1669-4944-8095-ffae3b5148cc",
   "metadata": {},
   "outputs": [],
   "source": []
  },
  {
   "cell_type": "markdown",
   "id": "b39a9a3f-74c9-4707-adb5-dccc0f6f42d5",
   "metadata": {},
   "source": [
    "### Events Encoded in TTL-Based \"Stimulus\" Channels\n",
    "\n",
    "In many (M)EEG systems, special \"STI\" channels exist that take digital input from the recording system.  These are integer-based channels sampled at the same rate as the electrophysiological systems, with the following values:\n",
    "  - **0**: No event\n",
    "  - **Any Positive Number**: An event with that ID.  (Called a \"Trigger\" or a \"Pulse\")\n",
    "  \n",
    "If multiple events happen at the same time, the stimulus channel usually just adds up the ids."
   ]
  },
  {
   "cell_type": "markdown",
   "id": "0baf0d24-9819-4c8b-8648-8e539223a8e0",
   "metadata": {},
   "source": [
    "**Exercises**"
   ]
  },
  {
   "cell_type": "markdown",
   "id": "eb2a4de3-19c0-4a20-a1e8-c5db4c61e869",
   "metadata": {},
   "source": [
    "**`Raw.add_events()`** Let's create a stimulus channel!  \n",
    "\n",
    "  1. `mne.RawArray()`Create a single-channel EEG Raw dataset with a 10Hz sine wave sampled at 200 Hz.\n",
    "  2. `mne.RawArray()`Create a single-channel STI Raw dataset with zeros sampled at 200 Hz 200 Hz.\n",
    "  3. `Raw.add_channels()`: Merge the STI and EEG Raw datasets.\n",
    "  4. `Raw.add_events()`:  Encode the previously-created events array in as a stimulus channel.\n",
    "  5. `Raw.plot()`: Visualize the Stimulus Channel\n",
    "  "
   ]
  },
  {
   "cell_type": "code",
   "execution_count": null,
   "id": "5417c755-9755-4f73-b41e-1faf29beb613",
   "metadata": {},
   "outputs": [],
   "source": []
  },
  {
   "cell_type": "markdown",
   "id": "71a303fc-1485-448b-b24a-79c36b89f4b8",
   "metadata": {},
   "source": [
    "**`mne.find_events()`**: Recover the event array from the stimulus channel"
   ]
  },
  {
   "cell_type": "code",
   "execution_count": null,
   "id": "4c51bfb7-cb83-41b1-b993-1470cf7c26d8",
   "metadata": {},
   "outputs": [],
   "source": []
  },
  {
   "cell_type": "markdown",
   "id": "cdb5f82b-97ec-49be-a210-3d82e0589e23",
   "metadata": {},
   "source": [
    "### Epochs\n",
    "\n",
    "Given a raw dataset and an event array, the dataset can be split into multiple trials."
   ]
  },
  {
   "cell_type": "markdown",
   "id": "8d12cabc-1f87-41dc-9c0e-85e08487a8e3",
   "metadata": {},
   "source": [
    "**Exercises**"
   ]
  },
  {
   "cell_type": "markdown",
   "id": "367973d9-86a3-4f74-9a8e-a2cc059da91d",
   "metadata": {},
   "source": [
    "**`mne.Epochs()`**:  Split the dataset into trials, keeping 300 msecs before each event and 0.5 seconds after each event."
   ]
  },
  {
   "cell_type": "code",
   "execution_count": null,
   "id": "6581c61f-e167-456a-8c35-48e03afd7163",
   "metadata": {},
   "outputs": [],
   "source": []
  },
  {
   "cell_type": "markdown",
   "id": "2979c351-c50d-4d05-aae7-5c944fe706d9",
   "metadata": {},
   "source": [
    "**`mne.Epochs(event_id={'name': 3, ...})`**  Add name information about each trial type, adding in the pitch type for the auditory stimuli"
   ]
  },
  {
   "cell_type": "code",
   "execution_count": null,
   "id": "a3ca6f81-fb14-4145-8116-4e173e378a9f",
   "metadata": {},
   "outputs": [],
   "source": []
  },
  {
   "cell_type": "markdown",
   "id": "ad1b93fd-fda1-43a0-b676-158ff1b190f1",
   "metadata": {},
   "source": [
    "**`Epochs['stimname']`**:  Select only the medium-pitched trials"
   ]
  },
  {
   "cell_type": "code",
   "execution_count": null,
   "id": "04bfbcf7-7974-49f2-9f8e-d194ce22ba0d",
   "metadata": {},
   "outputs": [],
   "source": []
  },
  {
   "cell_type": "markdown",
   "id": "f179b2ce-b602-49b8-87bf-497e706f26b0",
   "metadata": {},
   "source": [
    "**`Epochs[['stimname1', 'stimname2']]`**:  Select only the low and medium-pitched trials"
   ]
  },
  {
   "cell_type": "code",
   "execution_count": null,
   "id": "8a564963-ff9f-49cd-aa14-a98a2c7dad74",
   "metadata": {},
   "outputs": [],
   "source": []
  },
  {
   "cell_type": "markdown",
   "id": "6b8ceed0-2581-4ce5-b1c3-d818790e6612",
   "metadata": {},
   "source": [
    "**`Epochs[:3]`**:  Select the last 5 trials"
   ]
  },
  {
   "cell_type": "code",
   "execution_count": null,
   "id": "466f084d-12c8-4f8b-b9b1-a1088b120031",
   "metadata": {},
   "outputs": [],
   "source": []
  },
  {
   "cell_type": "markdown",
   "id": "9ea075a1-7e27-4a75-bc93-04bee7a23a28",
   "metadata": {},
   "source": [
    "**`Epochs.to_data_frame()`**: Export the epochs to Pandas"
   ]
  },
  {
   "cell_type": "code",
   "execution_count": null,
   "id": "e1ea743e-788a-4b42-94b5-0de6c0b000a4",
   "metadata": {},
   "outputs": [],
   "source": []
  },
  {
   "cell_type": "markdown",
   "id": "e534ac60-303a-4a9c-a78a-b65259effc82",
   "metadata": {},
   "source": [
    "**`Epochs.plot()`**: Plot the trials"
   ]
  },
  {
   "cell_type": "code",
   "execution_count": null,
   "id": "d2f721e5-aba0-45c5-a558-ea724e0efc50",
   "metadata": {},
   "outputs": [],
   "source": []
  },
  {
   "cell_type": "markdown",
   "id": "4495bcbd-fc37-4c40-9296-33d06c596ca6",
   "metadata": {},
   "source": [
    "Plot the trials' power spectrum densities"
   ]
  },
  {
   "cell_type": "code",
   "execution_count": null,
   "id": "3f9a0f0a-4eab-49d4-9bb4-1930f0569110",
   "metadata": {},
   "outputs": [],
   "source": []
  },
  {
   "cell_type": "markdown",
   "id": "a03807dc-a116-4e7d-805a-493e60acfe4d",
   "metadata": {
    "tags": []
   },
   "source": [
    "## Evoked"
   ]
  },
  {
   "cell_type": "markdown",
   "id": "3711f585-1942-4b98-9cb9-372bed55fedb",
   "metadata": {},
   "source": [
    "`Epochs.average()`: Create an average response"
   ]
  },
  {
   "cell_type": "code",
   "execution_count": null,
   "id": "dea0138c-d21a-4d3e-b0e7-f7207919da52",
   "metadata": {},
   "outputs": [],
   "source": []
  },
  {
   "cell_type": "markdown",
   "id": "af68feb1-2622-4564-a521-107a86282c69",
   "metadata": {},
   "source": [
    "`evoked.plot();`"
   ]
  },
  {
   "cell_type": "code",
   "execution_count": null,
   "id": "b9a5749f-053b-41be-9b28-fb98188dc47b",
   "metadata": {},
   "outputs": [],
   "source": []
  },
  {
   "cell_type": "markdown",
   "id": "784ab00b-0545-408c-8581-3e0797c55e06",
   "metadata": {},
   "source": [
    "## Further Reading\n",
    "  - Annotation Objects: https://mne.tools/stable/auto_tutorials/raw/30_annotate_raw.html\n",
    "  - Event Objects: https://mne.tools/stable/auto_tutorials/raw/20_event_arrays.html\n",
    "  - Epoch Visualization: https://mne.tools/stable/auto_tutorials/epochs/20_visualize_epochs.html#tut-visualize-epochs\n",
    "  - Evoked Objects: https://mne.tools/stable/auto_tutorials/evoked/10_evoked_overview.html"
   ]
  },
  {
   "cell_type": "code",
   "execution_count": null,
   "id": "839f021c-6167-4660-acd8-8e4ff1a469b5",
   "metadata": {},
   "outputs": [],
   "source": []
  }
 ],
 "metadata": {
  "kernelspec": {
   "display_name": "Python 3",
   "language": "python",
   "name": "python3"
  },
  "language_info": {
   "codemirror_mode": {
    "name": "ipython",
    "version": 3
   },
   "file_extension": ".py",
   "mimetype": "text/x-python",
   "name": "python",
   "nbconvert_exporter": "python",
   "pygments_lexer": "ipython3",
   "version": "3.8.8"
  }
 },
 "nbformat": 4,
 "nbformat_minor": 5
}
