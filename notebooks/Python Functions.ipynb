{
 "cells": [
  {
   "cell_type": "code",
   "execution_count": null,
   "metadata": {
    "cell_id": "7018c44c30f54171bd33387f4a967c35",
    "deepnote_cell_height": 65.953125,
    "deepnote_cell_type": "code"
   },
   "outputs": [],
   "source": []
  },
  {
   "cell_type": "markdown",
   "metadata": {
    "cell_id": "88bd3ae10140453f9f75521622b51a0f",
    "deepnote_cell_height": 445,
    "deepnote_cell_type": "markdown"
   },
   "source": [
    "## Organizing Code for Readability and Reusability: Functions\n",
    "\n",
    "Whether you're writing code in a data science notebook or in a text script file, eventually your code will get long enough\n",
    "that it becomes a challenge to keep it understandable and easy to find useful pieces to reuse in other projects. \n",
    "\n",
    "The most common way of organizing code is to break it into into smaller **functions**.  To make a function, you need to tell Python:\n",
    "  \n",
    "  1. The function's **name**,\n",
    "  2. The inputs (a.k.a \"arguments\") that the function needs to do its work, and\n",
    "  3. The output (a.k.a. \"return value\") that the function will give to whatever code that called it.\n",
    "  \n",
    "\n",
    "```python\n",
    "def add(x, y):   # Define a function name and its arguments x and y\n",
    "    z = x + y            # Make calculations in the function body\n",
    "    return z             # \"Return\" data out of the function.\n",
    "\n",
    "result = add(5, 3)  # Then the function can be called again, changing the argument values for whatever you want!\n",
    "```\n",
    "."
   ]
  },
  {
   "cell_type": "markdown",
   "metadata": {
    "cell_id": "b2e2af0852594a95b934c3a7455e4298",
    "deepnote_cell_height": 122.71875,
    "deepnote_cell_type": "markdown"
   },
   "source": [
    "### Packaging Code into Functions as Refactoring\n",
    "\n",
    "Because writing functions is often done during a refactoring (reorganizing) process in writing code, let's practice refactoring by taking code that already works and changing it into a function."
   ]
  },
  {
   "cell_type": "markdown",
   "metadata": {
    "cell_id": "06f955fb8c454be28352341b5e407073",
    "deepnote_cell_height": 88.71875,
    "deepnote_cell_type": "markdown"
   },
   "source": [
    "**Example Exercise**: Make a function out of the code below, so the following line works:\n",
    "\n",
    "`c = subtract(5, 3)`"
   ]
  },
  {
   "cell_type": "code",
   "execution_count": 1,
   "metadata": {
    "cell_id": "aaf246e3aa34437781a698e4b89c7519",
    "deepnote_cell_height": 334.125,
    "deepnote_cell_type": "code",
    "deepnote_output_heights": [
     21.1875
    ]
   },
   "outputs": [
    {
     "data": {
      "text/plain": [
       "8"
      ]
     },
     "execution_count": 1,
     "metadata": {},
     "output_type": "execute_result"
    }
   ],
   "source": [
    "a = 10\n",
    "b = 2\n",
    "result = a - b\n",
    "result"
   ]
  },
  {
   "cell_type": "code",
   "execution_count": 2,
   "metadata": {
    "cell_id": "aaf246e3aa34437781a698e4b89c7519",
    "deepnote_cell_height": 334.125,
    "deepnote_cell_type": "code",
    "deepnote_output_heights": [
     21.1875
    ]
   },
   "outputs": [
    {
     "data": {
      "text/plain": [
       "2"
      ]
     },
     "execution_count": 2,
     "metadata": {},
     "output_type": "execute_result"
    }
   ],
   "source": [
    "def subtract(a, b):\n",
    "    result = a - b\n",
    "    return result\n",
    "\n",
    "c = subtract(5, 3)\n",
    "c"
   ]
  },
  {
   "cell_type": "markdown",
   "metadata": {
    "cell_id": "30bb0e4da9f7493baca8e6da97c21872",
    "deepnote_cell_height": 88.71875,
    "deepnote_cell_type": "markdown"
   },
   "source": [
    "Make a function out of the code below, so the following line works:\n",
    "\n",
    "`c = multiply(10, 20)`"
   ]
  },
  {
   "cell_type": "code",
   "execution_count": null,
   "metadata": {
    "cell_id": "2b980533ae2c4b0aa7073311a10034d7",
    "deepnote_cell_height": 172.125,
    "deepnote_cell_type": "code",
    "deepnote_output_heights": [
     21.1875
    ],
    "deepnote_to_be_reexecuted": false,
    "execution_millis": 4,
    "execution_start": 1656062929210,
    "source_hash": "bdc8ac8"
   },
   "outputs": [
    {
     "data": {
      "text/plain": [
       "200"
      ]
     },
     "execution_count": 48,
     "metadata": {},
     "output_type": "execute_result"
    }
   ],
   "source": [
    "a = 10\n",
    "b = 20\n",
    "result = a * b\n",
    "result"
   ]
  },
  {
   "cell_type": "code",
   "execution_count": 3,
   "metadata": {
    "tags": [
     "exercise"
    ]
   },
   "outputs": [
    {
     "data": {
      "text/plain": [
       "200"
      ]
     },
     "execution_count": 3,
     "metadata": {},
     "output_type": "execute_result"
    }
   ],
   "source": [
    "def multiply(a, b):\n",
    "    result = a * b\n",
    "    return result\n",
    "\n",
    "c = multiply(10, 20)\n",
    "c"
   ]
  },
  {
   "cell_type": "markdown",
   "metadata": {
    "cell_id": "61538d6eec5c4b47ad67fd4f5868f7b2",
    "deepnote_cell_height": 88.71875,
    "deepnote_cell_type": "markdown",
    "owner_user_id": "c7a9f7f2-eddd-41d5-be7d-5159ad6417bb"
   },
   "source": [
    "Make a function out of the code below, so the following line works: \n",
    "\n",
    "`combs = make_combinations(['a', 'b', 'c'], n=2, replace=False)`"
   ]
  },
  {
   "cell_type": "code",
   "execution_count": null,
   "metadata": {
    "cell_id": "56db2a3696f54aaa879a645f1e27f133",
    "deepnote_cell_height": 244.125,
    "deepnote_cell_type": "code",
    "deepnote_output_heights": [
     21.1875
    ]
   },
   "outputs": [
    {
     "data": {
      "text/plain": [
       "[(10, 10), (10, 20), (10, 30), (20, 20), (20, 30), (30, 30)]"
      ]
     },
     "execution_count": 45,
     "metadata": {},
     "output_type": "execute_result"
    }
   ],
   "source": [
    "x = [10, 20, 30]\n",
    "n = 2\n",
    "replace = True\n",
    "from itertools import combinations, combinations_with_replacement\n",
    "combfun = combinations_with_replacement if replace else combinations\n",
    "combs = list(combfun(x, n))\n",
    "combs\n"
   ]
  },
  {
   "cell_type": "code",
   "execution_count": null,
   "metadata": {},
   "outputs": [],
   "source": []
  },
  {
   "cell_type": "markdown",
   "metadata": {
    "cell_id": "6dbdddf8ced5424994a8d4ef90b6e9ce",
    "deepnote_cell_height": 88.71875,
    "deepnote_cell_type": "markdown"
   },
   "source": [
    "Make a function out of the code below, so the following line works: \n",
    "\n",
    "`df = convert_to_dataframe(\"a,b\\n1,2\\n\\3,4\\n\")`\n"
   ]
  },
  {
   "cell_type": "code",
   "execution_count": null,
   "metadata": {
    "cell_id": "3438b9032b9441229b03835ad15ab206",
    "deepnote_cell_height": 305.8125,
    "deepnote_cell_type": "code",
    "deepnote_output_heights": [
     118.875
    ]
   },
   "outputs": [
    {
     "data": {
      "text/html": [
       "<div>\n",
       "<style scoped>\n",
       "    .dataframe tbody tr th:only-of-type {\n",
       "        vertical-align: middle;\n",
       "    }\n",
       "\n",
       "    .dataframe tbody tr th {\n",
       "        vertical-align: top;\n",
       "    }\n",
       "\n",
       "    .dataframe thead th {\n",
       "        text-align: right;\n",
       "    }\n",
       "</style>\n",
       "<table border=\"1\" class=\"dataframe\">\n",
       "  <thead>\n",
       "    <tr style=\"text-align: right;\">\n",
       "      <th></th>\n",
       "      <th>name</th>\n",
       "      <th>height</th>\n",
       "    </tr>\n",
       "  </thead>\n",
       "  <tbody>\n",
       "    <tr>\n",
       "      <th>0</th>\n",
       "      <td>Joe</td>\n",
       "      <td>175</td>\n",
       "    </tr>\n",
       "    <tr>\n",
       "      <th>1</th>\n",
       "      <td>Mary</td>\n",
       "      <td>176</td>\n",
       "    </tr>\n",
       "    <tr>\n",
       "      <th>2</th>\n",
       "      <td>Jane</td>\n",
       "      <td>156</td>\n",
       "    </tr>\n",
       "  </tbody>\n",
       "</table>\n",
       "</div>"
      ],
      "text/plain": [
       "   name  height\n",
       "0   Joe     175\n",
       "1  Mary     176\n",
       "2  Jane     156"
      ]
     },
     "execution_count": 57,
     "metadata": {},
     "output_type": "execute_result"
    }
   ],
   "source": [
    "from io import StringIO\n",
    "import pandas as pd\n",
    "text = \"name,height\\nJoe,175\\nMary,176\\nJane,156\"\n",
    "reader = StringIO(text)\n",
    "df = pd.read_csv(reader)\n",
    "df"
   ]
  },
  {
   "cell_type": "code",
   "execution_count": null,
   "metadata": {
    "tags": [
     "exercise"
    ]
   },
   "outputs": [],
   "source": []
  },
  {
   "cell_type": "markdown",
   "metadata": {
    "cell_id": "c92e5057d0b94858b4537c6267ab9cdf",
    "deepnote_cell_height": 88.71875,
    "deepnote_cell_type": "markdown"
   },
   "source": [
    "Make a function out of the code below, so the following line works: \n",
    "\n",
    "`fig = plot_normal_hist(n=50, nbins=20)` "
   ]
  },
  {
   "cell_type": "code",
   "execution_count": null,
   "metadata": {
    "cell_id": "43f3b6efc60c4e8aac0409d98dcd07cf",
    "deepnote_cell_height": 454.921875,
    "deepnote_cell_type": "code",
    "deepnote_output_heights": [
     249.984375
    ]
   },
   "outputs": [
    {
     "data": {
      "image/png": "[encoded data removed]",
      "text/plain": [
       "<Figure size 432x288 with 1 Axes>"
      ]
     },
     "metadata": {
      "image/png": {
       "height": 248,
       "width": 368
      },
      "needs_background": "light"
     },
     "output_type": "display_data"
    }
   ],
   "source": [
    "n = 200\n",
    "nbins = 20\n",
    "import numpy as np\n",
    "data = np.random.normal(0, 1, size=n)\n",
    "import matplotlib.pyplot as plt\n",
    "figure, ax = plt.subplots(ncols=1, nrows=1)\n",
    "ax.hist(data, bins=nbins);"
   ]
  },
  {
   "cell_type": "code",
   "execution_count": null,
   "metadata": {
    "tags": [
     "exercise"
    ]
   },
   "outputs": [],
   "source": []
  },
  {
   "cell_type": "markdown",
   "metadata": {
    "cell_id": "cc564c2f6abc4a5cbafbb93d4427d5e9",
    "deepnote_cell_height": 131.125,
    "deepnote_cell_type": "markdown"
   },
   "source": [
    "Make two functions out of the code below, so the following lines work:\n",
    "\n",
    "```python\n",
    "data = randnorm(n=2000, mean=5, sd=1.5)\n",
    "fig = plot_hists(data, nbins=30)\n",
    "```"
   ]
  },
  {
   "cell_type": "code",
   "execution_count": 6,
   "metadata": {
    "cell_id": "3ef7bcc728e64506bdded2776aaa0547",
    "deepnote_cell_height": 720.921875,
    "deepnote_cell_type": "code",
    "deepnote_output_heights": [
     281.984375
    ],
    "deepnote_to_be_reexecuted": false,
    "execution_millis": 1234,
    "execution_start": 1656060539232,
    "source_hash": "259f4a62"
   },
   "outputs": [
    {
     "data": {
      "image/png": "[encoded data removed]",
      "text/plain": [
       "<Figure size 640x480 with 2 Axes>"
      ]
     },
     "metadata": {},
     "output_type": "display_data"
    }
   ],
   "source": [
    "import numpy as np\n",
    "import matplotlib.pyplot as plt\n",
    "\n",
    "mean = 10\n",
    "sd = 2\n",
    "n = 20\n",
    "norm = np.random.randn(n)\n",
    "data = norm * sd\n",
    "final_data = data + mean\n",
    "\n",
    "\n",
    "fig, axes = plt.subplots(ncols=2, nrows=1, tight_layout=True)\n",
    "title1 = \"Histogram of X\"\n",
    "title2 = \"Cumulative Histogram of X\"\n",
    "axes[0].hist(data, bins=40)\n",
    "axes[0].set(title=title1, ylabel='Frequency')\n",
    "axes[1].hist(data, cumulative=True, bins=40);\n",
    "axes[1].set(title=title2, ylabel='Cumulative Frequency');\n"
   ]
  },
  {
   "cell_type": "markdown",
   "metadata": {
    "cell_id": "1b7fb083b8434110b59ea4018aa8f2a6",
    "deepnote_cell_height": 414.53125,
    "deepnote_cell_type": "markdown",
    "tags": []
   },
   "source": [
    "### Writing Functions as Correctness Testing\n",
    "\n",
    "As our code gets longer, it also gets harder to be confident that every step works the way we think it should; there are simply too many hidden steps!  Writing functions and making multiple **\"test cases\"** (a check that a given set of arguments results in an expected return value) is a method for gaining confidence that code works.  Even better, once a function has been tested, you can reuse that function in other projects and continue to be confident that it works, letting your pool of custom, high-quality code grow over time.\n",
    "\n",
    "One simple way to check code is to use the `assert` statement.:\n",
    "\n",
    "  - If the code after `assert` evaluates to True, then Python does nothing:\n",
    "    - `assert 3 + 5 == 8`\n",
    "    - `assert min([3, 4, 5]) == 3`\n",
    "  - if the code after `assert` evaluates to False, then Python raises an `AssertionError`\n",
    "    - `assert 3 + 5 == 800`\n",
    "    - `assert min([3, 4, 5]) == 5`\n"
   ]
  },
  {
   "cell_type": "markdown",
   "metadata": {
    "cell_id": "a601db58ecfa440c86cd93b3f309f8b9",
    "deepnote_cell_height": 52.34375,
    "deepnote_cell_type": "markdown",
    "tags": []
   },
   "source": [
    "**Exercises**"
   ]
  },
  {
   "cell_type": "markdown",
   "metadata": {
    "cell_id": "cf0478391b92468d8f8748a301c2b3c3",
    "deepnote_cell_height": 74.734375,
    "deepnote_cell_type": "markdown"
   },
   "source": [
    "In the exercises below, test have been written for functions that don't yet exist.   For each exercise, make a new function that passes each of the tests."
   ]
  },
  {
   "cell_type": "markdown",
   "metadata": {
    "cell_id": "22f5bc12ce2e493d920515514b74ff6e",
    "deepnote_cell_height": 52.34375,
    "deepnote_cell_type": "markdown"
   },
   "source": [
    "Example: **add()**"
   ]
  },
  {
   "cell_type": "code",
   "execution_count": null,
   "metadata": {
    "cell_id": "c47c372698b148b3a5d0db603c76981c",
    "deepnote_cell_height": 219.734375,
    "deepnote_cell_type": "code",
    "deepnote_to_be_reexecuted": false,
    "execution_millis": 18,
    "execution_start": 1656061544526,
    "source_hash": "2a559815",
    "tags": [
     "exercise"
    ]
   },
   "outputs": [
    {
     "name": "stdout",
     "output_type": "stream",
     "text": [
      "Passed!\n"
     ]
    }
   ],
   "source": [
    "def add(x, y):\n",
    "    return x + y\n",
    "\n",
    "assert add(2, 5) == 7\n",
    "assert add(6, 20) == 26\n",
    "assert add(10, -3) == 7\n",
    "print('Passed!')"
   ]
  },
  {
   "cell_type": "markdown",
   "metadata": {
    "cell_id": "c3b64204d94e45abb1454fdc6de31840",
    "deepnote_cell_height": 52.34375,
    "deepnote_cell_type": "markdown"
   },
   "source": [
    "**divide()**"
   ]
  },
  {
   "cell_type": "code",
   "execution_count": null,
   "metadata": {
    "cell_id": "41e16c19b8ec46e49a7cdc55ca42041c",
    "deepnote_cell_height": 198.140625,
    "deepnote_cell_type": "code",
    "tags": [
     "exercise"
    ]
   },
   "outputs": [
    {
     "ename": "NameError",
     "evalue": "name 'divide' is not defined",
     "output_type": "error",
     "traceback": [
      "\u001b[1;31m---------------------------------------------------------------------------\u001b[0m",
      "\u001b[1;31mNameError\u001b[0m                                 Traceback (most recent call last)",
      "Input \u001b[1;32mIn [76]\u001b[0m, in \u001b[0;36m<cell line: 1>\u001b[1;34m()\u001b[0m\n\u001b[1;32m----> 1\u001b[0m \u001b[38;5;28;01massert\u001b[39;00m \u001b[43mdivide\u001b[49m(\u001b[38;5;241m5\u001b[39m, \u001b[38;5;241m2\u001b[39m) \u001b[38;5;241m==\u001b[39m \u001b[38;5;241m2.5\u001b[39m\n\u001b[0;32m      2\u001b[0m \u001b[38;5;28;01massert\u001b[39;00m divide(\u001b[38;5;241m10\u001b[39m, \u001b[38;5;241m5\u001b[39m) \u001b[38;5;241m==\u001b[39m \u001b[38;5;241m2\u001b[39m\n\u001b[0;32m      3\u001b[0m \u001b[38;5;28;01massert\u001b[39;00m divide(\u001b[38;5;241m2\u001b[39m, \u001b[38;5;241m1\u001b[39m) \u001b[38;5;241m==\u001b[39m \u001b[38;5;241m1\u001b[39m\n",
      "\u001b[1;31mNameError\u001b[0m: name 'divide' is not defined"
     ]
    }
   ],
   "source": [
    "assert divide(5, 2) == 2.5\n",
    "assert divide(10, 5) == 2\n",
    "assert divide(2, 1) == 1\n",
    "print('Passed!')"
   ]
  },
  {
   "cell_type": "markdown",
   "metadata": {
    "cell_id": "269bf224df504a94ae4588456ffcb3d9",
    "deepnote_cell_height": 52.34375,
    "deepnote_cell_type": "markdown",
    "tags": []
   },
   "source": [
    "**standardize_seq()**"
   ]
  },
  {
   "cell_type": "code",
   "execution_count": null,
   "metadata": {
    "cell_id": "290a8a5d25234528b78d3dd3789da1b1",
    "deepnote_cell_height": 98.953125,
    "deepnote_cell_type": "code",
    "deepnote_output_heights": [
     21.1875
    ],
    "deepnote_to_be_reexecuted": false,
    "execution_millis": 1,
    "execution_start": 1656061800057,
    "source_hash": "c4bf9d7a",
    "tags": []
   },
   "outputs": [],
   "source": [
    "def standardize_seq(seq = 'gTgC'):\n",
    "    retuseq.upper()"
   ]
  },
  {
   "cell_type": "code",
   "execution_count": null,
   "metadata": {
    "cell_id": "cc771ce081264faa930628c31f2dbe6b",
    "deepnote_cell_height": 165.734375,
    "deepnote_cell_type": "code",
    "deepnote_to_be_reexecuted": false,
    "execution_millis": 10,
    "execution_start": 1656061801225,
    "source_hash": "c0791deb",
    "tags": [
     "exercise"
    ]
   },
   "outputs": [
    {
     "name": "stdout",
     "output_type": "stream",
     "text": [
      "Passed!\n"
     ]
    }
   ],
   "source": [
    "assert standardize_seq('gTgC') == 'GTGC'\n",
    "assert standardize_seq('CCAaa') == 'CCAAA'\n",
    "assert standardize_seq('aGaTt') == 'AGATT'\n",
    "print('Passed!')"
   ]
  },
  {
   "cell_type": "markdown",
   "metadata": {
    "cell_id": "093e2a071e7b4d3ba0fbf709b65b0a39",
    "deepnote_cell_height": 52.34375,
    "deepnote_cell_type": "markdown",
    "tags": []
   },
   "source": [
    "**get_first_codons()**"
   ]
  },
  {
   "cell_type": "code",
   "execution_count": null,
   "metadata": {
    "cell_id": "a0eba8b44ea24b659cf6646d592796de",
    "deepnote_cell_height": 65.953125,
    "deepnote_cell_type": "code",
    "tags": []
   },
   "outputs": [],
   "source": []
  },
  {
   "cell_type": "code",
   "execution_count": null,
   "metadata": {
    "cell_id": "fdfe852a4cf949069466297b0ccd4b10",
    "deepnote_cell_height": 101.953125,
    "deepnote_cell_type": "code",
    "tags": []
   },
   "outputs": [],
   "source": [
    "assert get_first_codons(['ATGCCA', 'AATTAGC']) == ['ATG', 'AAT']\n",
    "assert get_first_codons(['GGAAGC', 'CCCAATA']) == ['GGA', 'CCC']\n",
    "print('Passed!')"
   ]
  },
  {
   "cell_type": "markdown",
   "metadata": {
    "cell_id": "10cb0c9c84da43d086b2e8fe7d56bbd8",
    "deepnote_cell_height": 52.34375,
    "deepnote_cell_type": "markdown",
    "tags": []
   },
   "source": [
    "**is_positive()**"
   ]
  },
  {
   "cell_type": "code",
   "execution_count": null,
   "metadata": {
    "cell_id": "326efe00f7eb4fdbab660b9e7530c72d",
    "deepnote_cell_height": 65.953125,
    "deepnote_cell_type": "code",
    "tags": []
   },
   "outputs": [],
   "source": []
  },
  {
   "cell_type": "code",
   "execution_count": null,
   "metadata": {
    "cell_id": "425647c4e7524a9b91b918a3f804a8d5",
    "deepnote_cell_height": 119.953125,
    "deepnote_cell_type": "code",
    "tags": []
   },
   "outputs": [],
   "source": [
    "assert is_positive(32) == True\n",
    "assert is_positive(-4) == False\n",
    "assert is_positive(0) == False\n",
    "print('Passed!')"
   ]
  },
  {
   "cell_type": "markdown",
   "metadata": {
    "cell_id": "cd68932a0f8b4d9a87eda776af2cb658",
    "deepnote_cell_height": 52.34375,
    "deepnote_cell_type": "markdown",
    "tags": []
   },
   "source": [
    "**sum_each()**"
   ]
  },
  {
   "cell_type": "code",
   "execution_count": null,
   "metadata": {
    "cell_id": "7714628844ca4201bdf5c7945ed928b7",
    "deepnote_cell_height": 65.953125,
    "deepnote_cell_type": "code",
    "tags": []
   },
   "outputs": [],
   "source": []
  },
  {
   "cell_type": "code",
   "execution_count": null,
   "metadata": {
    "cell_id": "e1951b9e29a44f88a60d3120f4379474",
    "deepnote_cell_height": 101.953125,
    "deepnote_cell_type": "code",
    "tags": []
   },
   "outputs": [],
   "source": [
    "assert sum_each([1, 2], [3, 4]) == [4, 6]\n",
    "assert sum_each([-3, 5, 10], [10, 11, 12]) == [7, 16, 22]\n",
    "print('Passed!')"
   ]
  },
  {
   "cell_type": "markdown",
   "metadata": {
    "cell_id": "73f36045677c4dd2a567b13abac608b4",
    "deepnote_cell_height": 52.34375,
    "deepnote_cell_type": "markdown",
    "tags": []
   },
   "source": [
    "**get_range()**"
   ]
  },
  {
   "cell_type": "code",
   "execution_count": null,
   "metadata": {
    "cell_id": "7cd62e0af7c14786991b055f8d3941f5",
    "deepnote_cell_height": 65.953125,
    "deepnote_cell_type": "code",
    "tags": []
   },
   "outputs": [],
   "source": []
  },
  {
   "cell_type": "code",
   "execution_count": null,
   "metadata": {
    "cell_id": "d7c9d06f21084052a77fff635cf54ef0",
    "deepnote_cell_height": 101.953125,
    "deepnote_cell_type": "code",
    "tags": []
   },
   "outputs": [],
   "source": [
    "assert get_range(0, 5) == [0, 1, 2, 3, 4]\n",
    "assert get_range(2, 4) == [2, 3]\n",
    "print('Passed!')"
   ]
  },
  {
   "cell_type": "code",
   "execution_count": null,
   "metadata": {
    "cell_id": "9a2e7f8dbf9049c48d4b85b2445490ab",
    "deepnote_cell_height": 65.953125,
    "deepnote_cell_type": "code"
   },
   "outputs": [],
   "source": []
  }
 ],
 "metadata": {
  "deepnote": {},
  "deepnote_execution_queue": [],
  "deepnote_notebook_id": "5ad72a73e66d44efb8167f252b35bb5f",
  "kernelspec": {
   "display_name": "Python 3 (ipykernel)",
   "language": "python",
   "name": "python3"
  },
  "language_info": {
   "codemirror_mode": {
    "name": "ipython",
    "version": 3
   },
   "file_extension": ".py",
   "mimetype": "text/x-python",
   "name": "python",
   "nbconvert_exporter": "python",
   "pygments_lexer": "ipython3",
   "version": "3.10.4"
  },
  "vscode": {
   "interpreter": {
    "hash": "d6852d01271bf8033dbdb7ec364b6f6e89fd52a18c6bf5b4c73e48c86329a8dd"
   }
  }
 },
 "nbformat": 4,
 "nbformat_minor": 4
}
