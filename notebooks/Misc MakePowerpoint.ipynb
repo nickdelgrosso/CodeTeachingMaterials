{
 "cells": [
  {
   "cell_type": "markdown",
   "metadata": {
    "cell_id": "00000-f4d2bdfb-9696-4a95-966e-c9b1e32fbe51",
    "deepnote_cell_type": "markdown"
   },
   "source": [
    "# Make A Powerpoint with all your figures\n",
    "\n",
    "This notebook looks in the `figs` folder and makes a powerpoint with each figure on a slide (perhaps useful for quickly making something to get started for a lab presentation)"
   ]
  },
  {
   "cell_type": "markdown",
   "metadata": {
    "cell_id": "00001-6fcc7834-d75a-4f7f-946e-8cc9e1564c45",
    "deepnote_cell_type": "markdown"
   },
   "source": [
    "## Running this Notebook\n",
    "\n",
    "If you want to run this notebook from the terminal (like you would a script), use the following terminal command:\n",
    "\n",
    "```\n",
    "jupyter nbconvert --to notebook --execute MakePowerpoint.ipynb\n",
    "```\n",
    "\n",
    "Otherwise, run the code as normal in the notebook interace, running each cell below."
   ]
  },
  {
   "cell_type": "markdown",
   "metadata": {
    "cell_id": "00002-966e7097-00ab-45f1-8710-25573d9ca6a8",
    "deepnote_cell_type": "markdown"
   },
   "source": [
    "### Make a New Presentation\n",
    "\n",
    "Using the `python-pptx` package (to install, `pip install python-pptx`)\n",
    "(If interested in learning more, here's a link to the \"Getting Started\" tutorial in the docs: https://python-pptx.readthedocs.io/en/latest/user/quickstart.html)"
   ]
  },
  {
   "cell_type": "code",
   "execution_count": null,
   "metadata": {
    "cell_id": "00003-84be0223-9f9a-43c1-8369-2fdbd5c3bb87",
    "deepnote_cell_type": "code"
   },
   "outputs": [],
   "source": [
    "from pptx import Presentation  # pip install python-pptx"
   ]
  },
  {
   "cell_type": "code",
   "execution_count": null,
   "metadata": {
    "cell_id": "00004-061e83df-5b82-4a30-a179-68db12081420",
    "deepnote_cell_type": "code"
   },
   "outputs": [],
   "source": [
    "presentation = Presentation()"
   ]
  },
  {
   "cell_type": "markdown",
   "metadata": {
    "cell_id": "00005-90be469f-d0cc-45b6-9f3a-9c5633f1f2ff",
    "deepnote_cell_type": "markdown"
   },
   "source": [
    "List all the slide layouts available for the presentation, \n",
    "putting them in a dictionary for future reference."
   ]
  },
  {
   "cell_type": "code",
   "execution_count": null,
   "metadata": {
    "cell_id": "00006-02cff781-0e19-4484-bfe9-f7f6218dfbcc",
    "deepnote_cell_type": "code"
   },
   "outputs": [
    {
     "data": {
      "text/plain": [
       "{'Title Slide': <pptx.slide.SlideLayout at 0x1cd966ca8b0>,\n",
       " 'Title and Content': <pptx.slide.SlideLayout at 0x1cd966e6910>,\n",
       " 'Section Header': <pptx.slide.SlideLayout at 0x1cd966e6940>,\n",
       " 'Two Content': <pptx.slide.SlideLayout at 0x1cd966e69a0>,\n",
       " 'Comparison': <pptx.slide.SlideLayout at 0x1cd966e6a00>,\n",
       " 'Title Only': <pptx.slide.SlideLayout at 0x1cd966e6a90>,\n",
       " 'Blank': <pptx.slide.SlideLayout at 0x1cd966e6ac0>,\n",
       " 'Content with Caption': <pptx.slide.SlideLayout at 0x1cd966e6b20>,\n",
       " 'Picture with Caption': <pptx.slide.SlideLayout at 0x1cd966e68b0>,\n",
       " 'Title and Vertical Text': <pptx.slide.SlideLayout at 0x1cd966e6bb0>,\n",
       " 'Vertical Title and Text': <pptx.slide.SlideLayout at 0x1cd966e68e0>}"
      ]
     },
     "execution_count": 3,
     "metadata": {},
     "output_type": "execute_result"
    }
   ],
   "source": [
    "layouts = {layout.name: layout for layout in presentation.slide_layouts}\n",
    "layouts"
   ]
  },
  {
   "cell_type": "markdown",
   "metadata": {
    "cell_id": "00007-367032f8-8d45-4e81-bdd6-586fa7f82bb9",
    "deepnote_cell_type": "markdown"
   },
   "source": [
    "### Make a Title Slide with the Current Date"
   ]
  },
  {
   "cell_type": "markdown",
   "metadata": {
    "cell_id": "00008-08948655-c719-4746-beb5-db823a088010",
    "deepnote_cell_type": "markdown"
   },
   "source": [
    "#### Get the current date\n",
    "Uses the built-in [`datetime`](https://docs.python.org/3/library/datetime.html) package."
   ]
  },
  {
   "cell_type": "code",
   "execution_count": null,
   "metadata": {
    "cell_id": "00009-5b094918-e96f-49e6-905c-974ed564ef79",
    "deepnote_cell_type": "code"
   },
   "outputs": [],
   "source": [
    "from datetime import datetime"
   ]
  },
  {
   "cell_type": "code",
   "execution_count": null,
   "metadata": {
    "cell_id": "00010-6d378589-2d95-4ed9-ab9a-9febf3920e95",
    "deepnote_cell_type": "code"
   },
   "outputs": [
    {
     "data": {
      "text/plain": [
       "datetime.datetime(2021, 11, 7, 20, 44, 13, 937170)"
      ]
     },
     "execution_count": 5,
     "metadata": {},
     "output_type": "execute_result"
    }
   ],
   "source": [
    "dt = datetime.now()\n",
    "dt"
   ]
  },
  {
   "cell_type": "markdown",
   "metadata": {
    "cell_id": "00011-8bc295a6-e3cb-4d34-b9cd-52b68e7a7f13",
    "deepnote_cell_type": "markdown"
   },
   "source": [
    "Convert the datetime object to a string using the format codes from the datetime table: https://docs.python.org/3/library/datetime.html#strftime-and-strptime-format-codes"
   ]
  },
  {
   "cell_type": "code",
   "execution_count": null,
   "metadata": {
    "cell_id": "00012-c1c3e064-ce1d-4177-b0f4-1bc5e31f39b7",
    "deepnote_cell_type": "code"
   },
   "outputs": [
    {
     "data": {
      "text/plain": [
       "'November 07, 2021'"
      ]
     },
     "execution_count": 6,
     "metadata": {},
     "output_type": "execute_result"
    }
   ],
   "source": [
    "date_text = dt.strftime(\"%B %d, %Y\")\n",
    "date_text"
   ]
  },
  {
   "cell_type": "markdown",
   "metadata": {
    "cell_id": "00013-9a67a47b-3db1-435f-b739-fadc90e97ae8",
    "deepnote_cell_type": "markdown"
   },
   "source": [
    "Make a Title Slide, putting the date text as the first block in the slide."
   ]
  },
  {
   "cell_type": "code",
   "execution_count": null,
   "metadata": {
    "cell_id": "00014-4253f366-c95f-4dda-a2d1-c8af48ccc5df",
    "deepnote_cell_type": "code"
   },
   "outputs": [],
   "source": [
    "slide = presentation.slides.add_slide(layouts['Title Slide']) \n",
    "slide.placeholders[0].text = \"Figures\"   # Set Title\n",
    "slide.placeholders[1].text = date_text   # Set Subtitle"
   ]
  },
  {
   "cell_type": "markdown",
   "metadata": {
    "cell_id": "00015-16489381-f7bb-4bdb-ae11-bbb44b117288",
    "deepnote_cell_type": "markdown"
   },
   "source": [
    "### Make a slide for each figure in the `figs` directory"
   ]
  },
  {
   "cell_type": "markdown",
   "metadata": {
    "cell_id": "00016-abf52831-79e0-4515-86f4-7c2cb4066b07",
    "deepnote_cell_type": "markdown"
   },
   "source": [
    "Get a list of all the `.png` files in the `figs` directory"
   ]
  },
  {
   "cell_type": "code",
   "execution_count": null,
   "metadata": {
    "cell_id": "00017-f7e90417-fc40-4c83-99ad-182599365e15",
    "deepnote_cell_type": "code"
   },
   "outputs": [
    {
     "data": {
      "text/plain": [
       "['figs\\\\afigure.png']"
      ]
     },
     "execution_count": 8,
     "metadata": {},
     "output_type": "execute_result"
    }
   ],
   "source": [
    "from glob import glob\n",
    "figure_files = list(glob('figs/*.png'))\n",
    "figure_files"
   ]
  },
  {
   "cell_type": "markdown",
   "metadata": {
    "cell_id": "00018-322ad108-1737-432b-b9bf-5fad72873a13",
    "deepnote_cell_type": "markdown"
   },
   "source": [
    "loop through each file, making a new slide for each and inserting the figure into the slide"
   ]
  },
  {
   "cell_type": "code",
   "execution_count": null,
   "metadata": {
    "cell_id": "00019-aeed0dc6-6315-4888-8fb4-1171346137ff",
    "deepnote_cell_type": "code"
   },
   "outputs": [],
   "source": [
    "for figure_file in figure_files:\n",
    "    slide = presentation.slides.add_slide(layouts['Picture with Caption'])\n",
    "    slide.placeholders[1].insert_picture(figure_file)"
   ]
  },
  {
   "cell_type": "markdown",
   "metadata": {
    "cell_id": "00020-25f06f0c-79d2-4f89-8a56-55136ad881d7",
    "deepnote_cell_type": "markdown"
   },
   "source": [
    "### Save the File to a PPTX file\n"
   ]
  },
  {
   "cell_type": "code",
   "execution_count": null,
   "metadata": {
    "cell_id": "00021-820ee4fb-8b7b-413c-ad96-bd17360e9592",
    "deepnote_cell_type": "code"
   },
   "outputs": [
    {
     "data": {
      "text/plain": [
       "'Figs_20211107.pptx'"
      ]
     },
     "execution_count": 10,
     "metadata": {},
     "output_type": "execute_result"
    }
   ],
   "source": [
    "filename = dt.strftime('Figs_%Y%m%d.pptx')\n",
    "filename"
   ]
  },
  {
   "cell_type": "code",
   "execution_count": null,
   "metadata": {
    "cell_id": "00022-f1c6e971-2e97-46a6-95f8-198f1028881d",
    "deepnote_cell_type": "code"
   },
   "outputs": [],
   "source": [
    "presentation.save(filename)"
   ]
  },
  {
   "cell_type": "markdown",
   "metadata": {
    "cell_id": "00023-7d4430b4-6176-4c6f-a019-7e27eafdcb86",
    "deepnote_cell_type": "markdown"
   },
   "source": [
    "All done!"
   ]
  },
  {
   "cell_type": "markdown",
   "metadata": {
    "created_in_deepnote_cell": true,
    "deepnote_cell_type": "markdown",
    "tags": []
   },
   "source": [
    "<a style='text-decoration:none;line-height:16px;display:flex;color:#5B5B62;padding:10px;justify-content:end;' href='https://deepnote.com?utm_source=created-in-deepnote-cell&projectId=48227045-6b9e-4724-ab08-5501bac37c06' target=\"_blank\">\n",
    "<img alt='Created in deepnote.com' style='display:inline;max-height:16px;margin:0px;margin-right:7.5px;' src='data:image/svg+xml;base64,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' > </img>\n",
    "Created in <span style='font-weight:600;margin-left:4px;'>Deepnote</span></a>"
   ]
  }
 ],
 "metadata": {
  "deepnote": {},
  "deepnote_execution_queue": [],
  "deepnote_notebook_id": "49467815-92db-41c6-b4f6-387b4f96578c",
  "kernelspec": {
   "display_name": "Python 3.10.4 ('py10')",
   "language": "python",
   "name": "python3"
  },
  "language_info": {
   "codemirror_mode": {
    "name": "ipython",
    "version": 3
   },
   "file_extension": ".py",
   "mimetype": "text/x-python",
   "name": "python",
   "nbconvert_exporter": "python",
   "pygments_lexer": "ipython3",
   "version": "3.10.4"
  },
  "vscode": {
   "interpreter": {
    "hash": "d6852d01271bf8033dbdb7ec364b6f6e89fd52a18c6bf5b4c73e48c86329a8dd"
   }
  }
 },
 "nbformat": 4,
 "nbformat_minor": 5
}
