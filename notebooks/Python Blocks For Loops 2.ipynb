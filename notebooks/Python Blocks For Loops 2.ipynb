{
 "cells": [
  {
   "cell_type": "markdown",
   "metadata": {
    "cell_id": "bec9f153ad8e47699213fd7c562f809b",
    "deepnote_cell_type": "markdown",
    "tags": []
   },
   "source": [
    "# Loops: Describing How to Repeat Steps in a Program"
   ]
  },
  {
   "cell_type": "markdown",
   "metadata": {
    "cell_id": "0852b61b0d7145dd8bc6743adeaf17e7",
    "deepnote_cell_type": "markdown",
    "tags": []
   },
   "source": [
    "## For Loops:\n",
    "\n",
    "Like R and Matlab, Python makes it straightford repeat commands \"For-Each\" element in a data collection.  For example, to print each element in a list:\n",
    "\n",
    "```python\n",
    "names = ['Ted', 'Roy', 'Keeley']\n",
    "for name in names:\n",
    "   print(name)\n",
    "# prints \"Ted\" then \"Roy\" then \"Keeley\"\n",
    "```\n",
    ".\n",
    "\n"
   ]
  },
  {
   "cell_type": "markdown",
   "metadata": {
    "cell_id": "6101c7075eab48b6b9acc84659f964d6",
    "deepnote_cell_type": "markdown",
    "tags": []
   },
   "source": [
    "**Exercises**"
   ]
  },
  {
   "cell_type": "markdown",
   "metadata": {
    "cell_id": "f36026b498df4e9bac7a03385cf02cdc",
    "deepnote_cell_type": "markdown",
    "tags": []
   },
   "source": [
    "Example: Print 10 times each number in the list \n",
    "For example, `[2, 4]` should print `20` then `40`."
   ]
  },
  {
   "cell_type": "code",
   "execution_count": 1,
   "metadata": {
    "cell_id": "aed350ed338e4220bfdba5d196f7f151",
    "deepnote_cell_type": "code",
    "deepnote_to_be_reexecuted": false,
    "execution_millis": 11,
    "execution_start": 1634192534154,
    "source_hash": "5b10538f",
    "tags": []
   },
   "outputs": [],
   "source": [
    "nums = [4, 8, 10, 5]"
   ]
  },
  {
   "cell_type": "code",
   "execution_count": 2,
   "metadata": {
    "tags": []
   },
   "outputs": [
    {
     "name": "stdout",
     "output_type": "stream",
     "text": [
      "40\n",
      "80\n",
      "100\n",
      "50\n"
     ]
    }
   ],
   "source": [
    "for num in nums:\n",
    "    print(num * 10)"
   ]
  },
  {
   "cell_type": "markdown",
   "metadata": {
    "cell_id": "7799d90a3139445e90f8ee16ba5cdd1e",
    "deepnote_cell_type": "markdown",
    "tags": []
   },
   "source": [
    "Print the first letter of each name in the list"
   ]
  },
  {
   "cell_type": "code",
   "execution_count": 3,
   "metadata": {
    "cell_id": "d65886bb072642d6814e96be5b397824",
    "deepnote_cell_type": "code",
    "deepnote_to_be_reexecuted": false,
    "execution_millis": 3,
    "execution_start": 1634192558128,
    "source_hash": "3d0d6b91",
    "tags": []
   },
   "outputs": [],
   "source": [
    "names = [\"John\", \"Harry\", \"Moe\", \"Luke\"]"
   ]
  },
  {
   "cell_type": "code",
   "execution_count": 4,
   "metadata": {
    "tags": [
     "exercise"
    ]
   },
   "outputs": [
    {
     "name": "stdout",
     "output_type": "stream",
     "text": [
      "J\n",
      "H\n",
      "M\n",
      "L\n"
     ]
    }
   ],
   "source": [
    "for name in names:\n",
    "    print(name[0])"
   ]
  },
  {
   "cell_type": "markdown",
   "metadata": {},
   "source": [
    "Print the sum of each tuple in the list:"
   ]
  },
  {
   "cell_type": "code",
   "execution_count": 8,
   "metadata": {},
   "outputs": [],
   "source": [
    "results = [(3, 5, 2), (2, 3, 7), (8, 9, 1)]"
   ]
  },
  {
   "cell_type": "code",
   "execution_count": 9,
   "metadata": {
    "tags": [
     "exercise"
    ]
   },
   "outputs": [
    {
     "name": "stdout",
     "output_type": "stream",
     "text": [
      "10\n",
      "12\n",
      "18\n"
     ]
    }
   ],
   "source": [
    "for result in results:\n",
    "    print(sum(result))"
   ]
  },
  {
   "cell_type": "markdown",
   "metadata": {
    "cell_id": "2dd2683cba664bbf927f9d8e76b83618",
    "deepnote_cell_type": "markdown",
    "tags": []
   },
   "source": [
    "## List-Append Loop Pattern"
   ]
  },
  {
   "cell_type": "markdown",
   "metadata": {
    "cell_id": "5402c46d7dbd45a59c8c4316f91dac73",
    "deepnote_cell_type": "markdown",
    "tags": []
   },
   "source": [
    "This can also be used to create new data collections.  For example:\n",
    "\n",
    "```python\n",
    "old_names = ['ted', 'roy', 'keeley']\n",
    "new_names = []\n",
    "for name in old_names:\n",
    "   new_names.append(name.title())\n",
    "```"
   ]
  },
  {
   "cell_type": "markdown",
   "metadata": {
    "cell_id": "e6e11ff8d24d4f28b522e8d7c2dd9e7b",
    "deepnote_cell_type": "markdown",
    "tags": []
   },
   "source": [
    "**Exercises**"
   ]
  },
  {
   "cell_type": "markdown",
   "metadata": {
    "cell_id": "641c47b86b2f4b7b86491ec493b9d539",
    "deepnote_cell_type": "markdown",
    "tags": []
   },
   "source": [
    "Example: Make a list with the first codon (first three letters) of each sequence"
   ]
  },
  {
   "cell_type": "code",
   "execution_count": 10,
   "metadata": {
    "cell_id": "98b01c35fdbe4c23ae5f6fe2e13005c4",
    "deepnote_cell_type": "code",
    "deepnote_to_be_reexecuted": false,
    "execution_millis": 4,
    "execution_start": 1634192926318,
    "source_hash": "11432b8e",
    "tags": []
   },
   "outputs": [],
   "source": [
    "seqs = [\"GTAATCG\", \"GTACCAAA\", \"GGTAGTACCAC\"]"
   ]
  },
  {
   "cell_type": "code",
   "execution_count": 12,
   "metadata": {},
   "outputs": [
    {
     "data": {
      "text/plain": [
       "['GTA', 'GTA', 'GGT']"
      ]
     },
     "execution_count": 12,
     "metadata": {},
     "output_type": "execute_result"
    }
   ],
   "source": [
    "codons = []\n",
    "for seq in seqs:\n",
    "    codon = seq[:3]\n",
    "    codons.append(codon)\n",
    "codons"
   ]
  },
  {
   "cell_type": "markdown",
   "metadata": {
    "cell_id": "abac6b03966e40189583a206b5f711bd",
    "deepnote_cell_type": "markdown",
    "tags": []
   },
   "source": [
    "Clean up the data.  Make a list with that formats each sequence the same way (transform: `str.upper()`)."
   ]
  },
  {
   "cell_type": "code",
   "execution_count": 14,
   "metadata": {
    "cell_id": "d45c43b493b541ddb6aab186be6da903",
    "deepnote_cell_type": "code",
    "deepnote_to_be_reexecuted": false,
    "execution_millis": 0,
    "execution_start": 1634192983915,
    "source_hash": "2609f853",
    "tags": []
   },
   "outputs": [],
   "source": [
    "seqs = [\"GTAATCG\", \"gtaccaaa\", \"GGtAGtACCaC\"]"
   ]
  },
  {
   "cell_type": "code",
   "execution_count": 17,
   "metadata": {
    "tags": [
     "exercise"
    ]
   },
   "outputs": [
    {
     "data": {
      "text/plain": [
       "['GTAATCG', 'GTACCAAA', 'GGTAGTACCAC']"
      ]
     },
     "execution_count": 17,
     "metadata": {},
     "output_type": "execute_result"
    }
   ],
   "source": [
    "newseqs = []\n",
    "for seq in seqs:\n",
    "    newseq = seq.upper()\n",
    "    newseqs.append(newseq)\n",
    "newseqs"
   ]
  },
  {
   "cell_type": "markdown",
   "metadata": {
    "cell_id": "73e71903560546968cd5164d8e9e9faf",
    "deepnote_cell_type": "markdown",
    "tags": []
   },
   "source": [
    "Make a list of the number of A in each sequence (transform: `str.count()`)"
   ]
  },
  {
   "cell_type": "code",
   "execution_count": 18,
   "metadata": {
    "cell_id": "1cad111eb796418abba1bfa099634ca9",
    "deepnote_cell_type": "code",
    "deepnote_to_be_reexecuted": false,
    "execution_millis": 1,
    "execution_start": 1634193031511,
    "source_hash": "2609f853",
    "tags": []
   },
   "outputs": [],
   "source": [
    "seqs = [\"GTAATCG\", \"gtaccaaa\", \"GGtAGtACCaC\"]"
   ]
  },
  {
   "cell_type": "code",
   "execution_count": 20,
   "metadata": {
    "tags": [
     "exercise"
    ]
   },
   "outputs": [
    {
     "data": {
      "text/plain": [
       "[2, 4, 3]"
      ]
     },
     "execution_count": 20,
     "metadata": {},
     "output_type": "execute_result"
    }
   ],
   "source": [
    "acounts = []\n",
    "for seq in seqs:\n",
    "    acount = seq.upper().count('A')\n",
    "    acounts.append(acount)\n",
    "acounts"
   ]
  },
  {
   "cell_type": "markdown",
   "metadata": {
    "cell_id": "4e8d1c6226b6440ba5d1d67a6626c326",
    "deepnote_cell_type": "markdown",
    "tags": []
   },
   "source": [
    "Make a list of sequences from the list of sequences combinations (transform: `str.split()`)\n"
   ]
  },
  {
   "cell_type": "code",
   "execution_count": 21,
   "metadata": {
    "cell_id": "0ccd0dc5a9214de3a950c6ee8bb8fe13",
    "deepnote_cell_type": "code",
    "deepnote_to_be_reexecuted": false,
    "execution_millis": 0,
    "execution_start": 1634193208699,
    "source_hash": "2db72f6f",
    "tags": []
   },
   "outputs": [],
   "source": [
    "seqs = ['GCAGA GATATC', 'GGTAAAA ACTAGA GGTATA', 'GGTAA']"
   ]
  },
  {
   "cell_type": "code",
   "execution_count": 23,
   "metadata": {
    "tags": [
     "exercise"
    ]
   },
   "outputs": [
    {
     "data": {
      "text/plain": [
       "['GCAGA', 'GATATC', 'GGTAAAA', 'ACTAGA', 'GGTATA', 'GGTAA']"
      ]
     },
     "execution_count": 23,
     "metadata": {},
     "output_type": "execute_result"
    }
   ],
   "source": [
    "all_seqs = []\n",
    "for seq in seqs:\n",
    "    all_seq = seq.split(' ')\n",
    "    all_seqs.extend(all_seq)\n",
    "all_seqs"
   ]
  },
  {
   "cell_type": "markdown",
   "metadata": {
    "cell_id": "04be21cdf5d848598a29a1382ee67582",
    "deepnote_cell_type": "markdown",
    "tags": []
   },
   "source": [
    "## Sequence-Unpacking Loop Pattern\n",
    "\n",
    "Loops are also useful when you have a collection of collections (e.g. a list of lists).\n",
    "When it's a collection of same-length sequences, you can break apart each sequence inside the loop and work with each value ias its own variable:\n",
    "\n",
    "```python\n",
    "pairs = [[4, 5], [7, 8], [2, 9]]\n",
    "for first, second in pairs:\n",
    "    print(first + second)\n",
    "```"
   ]
  },
  {
   "cell_type": "markdown",
   "metadata": {
    "cell_id": "a2a6eb13847b4256811dffd49e73f640",
    "deepnote_cell_type": "markdown",
    "tags": []
   },
   "source": [
    "**Exercises**"
   ]
  },
  {
   "cell_type": "markdown",
   "metadata": {
    "cell_id": "4fedfdac21044323b8db9636dd4d082d",
    "deepnote_cell_type": "markdown",
    "tags": []
   },
   "source": [
    "Example: Make a list of the sum of each number pair"
   ]
  },
  {
   "cell_type": "code",
   "execution_count": 26,
   "metadata": {
    "cell_id": "b36ee1610e81496ab53d79de975e5d5f",
    "deepnote_cell_type": "code",
    "deepnote_to_be_reexecuted": false,
    "execution_millis": 0,
    "execution_start": 1634193665675,
    "source_hash": "2c8eda3e",
    "tags": []
   },
   "outputs": [],
   "source": [
    "pairs = [[4, 7], [7, 2], [10, 2], [5, 9]]"
   ]
  },
  {
   "cell_type": "code",
   "execution_count": 27,
   "metadata": {},
   "outputs": [
    {
     "data": {
      "text/plain": [
       "[11, 9, 12, 14]"
      ]
     },
     "execution_count": 27,
     "metadata": {},
     "output_type": "execute_result"
    }
   ],
   "source": [
    "sums = []\n",
    "for a, b in pairs:\n",
    "    sums.append(a + b)\n",
    "sums"
   ]
  },
  {
   "cell_type": "markdown",
   "metadata": {
    "cell_id": "6dba1cad809c45c68f1014febb98cda1",
    "deepnote_cell_type": "markdown",
    "tags": []
   },
   "source": [
    "Make a list of filenames with the corresponding base name and file extension:"
   ]
  },
  {
   "cell_type": "code",
   "execution_count": 30,
   "metadata": {
    "cell_id": "61396790689649959d34f488a587663d",
    "deepnote_cell_type": "code",
    "deepnote_to_be_reexecuted": false,
    "execution_millis": 9,
    "execution_start": 1634193800852,
    "source_hash": "1e246064",
    "tags": []
   },
   "outputs": [],
   "source": [
    "parts = [\n",
    "    ('seq1', '.txt'),\n",
    "    ('seqA', '.fasta'),\n",
    "    ('myseq', '.dat'),\n",
    "]"
   ]
  },
  {
   "cell_type": "code",
   "execution_count": 33,
   "metadata": {
    "tags": [
     "exercise"
    ]
   },
   "outputs": [
    {
     "data": {
      "text/plain": [
       "['seq1.txt', 'seqA.fasta', 'myseq.dat']"
      ]
     },
     "execution_count": 33,
     "metadata": {},
     "output_type": "execute_result"
    }
   ],
   "source": [
    "filenames = []\n",
    "for base, ext in parts:\n",
    "    filename = base + ext\n",
    "    filenames.append(filename)\n",
    "filenames"
   ]
  },
  {
   "cell_type": "markdown",
   "metadata": {},
   "source": [
    "Calculate `y` for each sets of coeffients using the formula $ y = a ^ 2 + b + c $:"
   ]
  },
  {
   "cell_type": "code",
   "execution_count": 34,
   "metadata": {},
   "outputs": [],
   "source": [
    "abcs = [(3, 2, 5), (7, 2, 1), (8, -3, 4)]"
   ]
  },
  {
   "cell_type": "code",
   "execution_count": 36,
   "metadata": {
    "tags": [
     "exercise"
    ]
   },
   "outputs": [
    {
     "data": {
      "text/plain": [
       "[16, 52, 65]"
      ]
     },
     "execution_count": 36,
     "metadata": {},
     "output_type": "execute_result"
    }
   ],
   "source": [
    "ys = []\n",
    "for a, b, c in abcs:\n",
    "    ys.append(a**2 + b + c)\n",
    "ys"
   ]
  },
  {
   "cell_type": "markdown",
   "metadata": {
    "cell_id": "043f00f787814834be1a9042637a5339",
    "deepnote_cell_type": "markdown",
    "tags": []
   },
   "source": [
    "## The Zip Loop Pattern\n",
    "\n",
    "Most of the times, you don't have a collection of pairs--sometimes, you need to make that collection yourself before you can loop over them.  The `zip()` function makes this straightforward!\n",
    "\n",
    "```python\n",
    "names = ['Zanarah', 'Joe', 'Weiwei',]\n",
    "ages = [20, 21, 22]\n",
    "for name, ages in zip(names, ages)):\n",
    "    print(name, age)\n",
    "```\n",
    ".\n",
    "\n",
    "\n"
   ]
  },
  {
   "cell_type": "markdown",
   "metadata": {
    "cell_id": "1c98a08697b84b2e940c03bfadb54053",
    "deepnote_cell_type": "markdown",
    "tags": []
   },
   "source": [
    "**Exercises**"
   ]
  },
  {
   "cell_type": "markdown",
   "metadata": {
    "cell_id": "75d18db000364cc4b03f8a9e280145e9",
    "deepnote_cell_type": "markdown",
    "tags": []
   },
   "source": [
    "Example: Add each pair of numbers"
   ]
  },
  {
   "cell_type": "code",
   "execution_count": 38,
   "metadata": {
    "cell_id": "534083a33886453bbf3833b0e07f545c",
    "deepnote_cell_type": "code",
    "deepnote_to_be_reexecuted": false,
    "execution_millis": 5,
    "execution_start": 1634194896827,
    "source_hash": "95cacf5e",
    "tags": []
   },
   "outputs": [],
   "source": [
    "firsts = [1, 2, 3, 4, 5]\n",
    "seconds = [10, 20, 30, 40, 50]"
   ]
  },
  {
   "cell_type": "code",
   "execution_count": 39,
   "metadata": {},
   "outputs": [
    {
     "data": {
      "text/plain": [
       "[11, 22, 33, 44, 55]"
      ]
     },
     "execution_count": 39,
     "metadata": {},
     "output_type": "execute_result"
    }
   ],
   "source": [
    "sums = []\n",
    "for first, second in zip(firsts, seconds):\n",
    "    sums.append(first + second)\n",
    "sums"
   ]
  },
  {
   "cell_type": "markdown",
   "metadata": {
    "cell_id": "838c85516d6340229d22899150b268a8",
    "deepnote_cell_type": "markdown",
    "tags": []
   },
   "source": [
    "Print the patient number and treatment group of each patient\n",
    "(e.g. \"Patient 32341: control\") (transform: `str.format()`)"
   ]
  },
  {
   "cell_type": "code",
   "execution_count": 41,
   "metadata": {
    "cell_id": "100cd6972f18447c8e91d759a5a28bcb",
    "deepnote_cell_type": "code",
    "deepnote_to_be_reexecuted": false,
    "execution_millis": 4,
    "execution_start": 1634195339406,
    "source_hash": "9d1b5666",
    "tags": []
   },
   "outputs": [],
   "source": [
    "patients = [32451, 435679, 4211235, 123121]\n",
    "groups = ['control', 'treatment', 'treatment', 'control']"
   ]
  },
  {
   "cell_type": "code",
   "execution_count": 43,
   "metadata": {
    "tags": [
     "exercise"
    ]
   },
   "outputs": [
    {
     "name": "stdout",
     "output_type": "stream",
     "text": [
      "Patient 32451: control\n",
      "Patient 435679: treatment\n",
      "Patient 4211235: treatment\n",
      "Patient 123121: control\n"
     ]
    }
   ],
   "source": [
    "for patient, group in zip(patients, groups):\n",
    "    print(\"Patient {}: {}\".format(patient, group))"
   ]
  },
  {
   "cell_type": "markdown",
   "metadata": {
    "cell_id": "daddd4830b0a41e6baa5dc4c5e7991c9",
    "deepnote_cell_type": "markdown",
    "tags": []
   },
   "source": [
    "Make a list of True and False values if the first sequence has more Cs than the second sequence in each pair of sequnces. (transform: `str.count()`)"
   ]
  },
  {
   "cell_type": "code",
   "execution_count": 44,
   "metadata": {
    "cell_id": "1efe7db21cf3497886f9c717561ef807",
    "deepnote_cell_type": "code",
    "deepnote_to_be_reexecuted": false,
    "execution_millis": 4,
    "execution_start": 1634195332178,
    "source_hash": "387493c9",
    "tags": []
   },
   "outputs": [],
   "source": [
    "firsts = ['GAGATTACA', 'CAGATGATA', 'GGAGGACCAAG']\n",
    "seconds = ['GGAACCAA', 'CACAGGAGA', 'GATATAACA']"
   ]
  },
  {
   "cell_type": "code",
   "execution_count": 45,
   "metadata": {
    "tags": [
     "exercise"
    ]
   },
   "outputs": [
    {
     "data": {
      "text/plain": [
       "[False, False, True]"
      ]
     },
     "execution_count": 45,
     "metadata": {},
     "output_type": "execute_result"
    }
   ],
   "source": [
    "more_cs = []\n",
    "for first, second in zip(firsts, seconds):\n",
    "    more_c = first.count('C') > second.count('C')\n",
    "    more_cs.append(more_c)\n",
    "more_cs"
   ]
  },
  {
   "cell_type": "markdown",
   "metadata": {
    "cell_id": "d18a7f22d6264e809064c8ebb77ea5fa",
    "deepnote_cell_height": 74.734375,
    "deepnote_cell_type": "markdown",
    "tags": []
   },
   "source": [
    "Make a list of filenames called `filenames`, combining the basename and extension from each matching pair in the list."
   ]
  },
  {
   "cell_type": "code",
   "execution_count": 46,
   "metadata": {
    "cell_id": "e595a555dc2f453c902a777adb8e9d53",
    "deepnote_cell_height": 98.953125,
    "deepnote_cell_type": "code",
    "deepnote_to_be_reexecuted": false,
    "execution_millis": 6,
    "execution_start": 1654164287020,
    "source_hash": "4fd9e854",
    "tags": []
   },
   "outputs": [],
   "source": [
    "basenames = ['requirements', 'README', 'main', 'docs']\n",
    "extensions = ['.txt', '.md', '.py', '.rst']"
   ]
  },
  {
   "cell_type": "code",
   "execution_count": 47,
   "metadata": {
    "tags": [
     "exercise"
    ]
   },
   "outputs": [
    {
     "data": {
      "text/plain": [
       "['requirements.txt', 'README.md', 'main.py', 'docs.rst']"
      ]
     },
     "execution_count": 47,
     "metadata": {},
     "output_type": "execute_result"
    }
   ],
   "source": [
    "filenames = []\n",
    "for base, ext in zip(basenames, extensions):\n",
    "    filenames.append(base + ext)\n",
    "filenames"
   ]
  },
  {
   "cell_type": "markdown",
   "metadata": {
    "cell_id": "7f3508b6c3824bba86c88037bd46a0f1",
    "deepnote_cell_type": "markdown",
    "tags": []
   },
   "source": [
    "## Enumerate Pattern\n",
    "\n",
    "Sometimes you want to store the **index** of items in a sequence.  You could calculate this in a loop:\n",
    "\n",
    "```python\n",
    "bundesländer = ['Baden-Württemberg', 'Bayern', 'Thuringen']\n",
    "idx = 0\n",
    "for bundesland in bundesländer:\n",
    "    print(idx, bundesland)  # prints 0 Baden-Württemberg\n",
    "    idx += 1\n",
    "```\n",
    ".\n",
    "\n",
    "Python's `enumerate()` function generates a list of (index, element) pairs:\n",
    "\n",
    "```python\n",
    "bundesländer = ['Baden-Württemberg', 'Bayern', 'Thuringen']\n",
    "indices_bundesländer = list(enumerate(bundesländer))  # [(0, 'Baden-Württemberg'), ...]\n",
    "for idx, bundesland in indices_bundesländer:\n",
    "    print(idx, bundesland)  # prints 0 Baden-Württemberg\n",
    "```\n",
    ".\n",
    "\n",
    "Like with `zip()`, this can be shortened by just putting it in the header of the for loop:\n",
    "\n",
    "```python\n",
    "bundesländer = ['Baden-Württemberg', 'Bayern', 'Thuringen']\n",
    "for idx, bundesland in enumerate(bundesländer):\n",
    "    print(idx, bundesland)  # prints 0 Baden-Württemberg\n",
    "```\n",
    ".\n",
    "\n"
   ]
  },
  {
   "cell_type": "markdown",
   "metadata": {
    "cell_id": "5d5d65dd61684300b33d233de8f0296a",
    "deepnote_cell_type": "markdown",
    "tags": []
   },
   "source": [
    "**Exercises**"
   ]
  },
  {
   "cell_type": "markdown",
   "metadata": {},
   "source": [
    "Example: Print the index and name of each City:"
   ]
  },
  {
   "cell_type": "code",
   "execution_count": 48,
   "metadata": {
    "cell_id": "6c932e952802495791756891db9689ed",
    "deepnote_cell_height": 207.140625,
    "deepnote_cell_type": "code",
    "tags": []
   },
   "outputs": [
    {
     "name": "stdout",
     "output_type": "stream",
     "text": [
      "0 Paris\n",
      "1 Nice\n",
      "2 Marseille\n",
      "3 Bordeaux\n"
     ]
    }
   ],
   "source": [
    "cities = ['Paris', 'Nice', 'Marseille', 'Bordeaux']\n",
    "for idx, city in enumerate(cities):\n",
    "    print(idx, city)"
   ]
  },
  {
   "cell_type": "markdown",
   "metadata": {
    "cell_id": "ddeb0602e8a341e38aa4780b9502018b",
    "deepnote_cell_height": 52.34375,
    "deepnote_cell_type": "markdown"
   },
   "source": [
    "Print the index and name of each U.S. president:"
   ]
  },
  {
   "cell_type": "code",
   "execution_count": 49,
   "metadata": {
    "cell_id": "d7bd4dc1655d4e0bacd60d2c5c0fc07e",
    "deepnote_cell_height": 65.953125,
    "deepnote_cell_type": "code"
   },
   "outputs": [],
   "source": [
    "presidents = ['Washington', 'Adams', 'Jefferson', 'Madison', 'Monroe']"
   ]
  },
  {
   "cell_type": "code",
   "execution_count": 50,
   "metadata": {
    "cell_id": "21801a6f337849d49a20ba9252044991",
    "deepnote_cell_height": 65.953125,
    "deepnote_cell_type": "code",
    "tags": [
     "exercise"
    ]
   },
   "outputs": [
    {
     "name": "stdout",
     "output_type": "stream",
     "text": [
      "0 Washington\n",
      "1 Adams\n",
      "2 Jefferson\n",
      "3 Madison\n",
      "4 Monroe\n"
     ]
    }
   ],
   "source": [
    "for idx, president in enumerate(presidents):\n",
    "    print(idx, president)"
   ]
  },
  {
   "cell_type": "markdown",
   "metadata": {
    "cell_id": "5a18ed2594364399986f614a0d3b0764",
    "deepnote_cell_height": 456.4375,
    "deepnote_cell_type": "markdown"
   },
   "source": [
    "## The `range` Iterator\n",
    "\n",
    "What if you don't have a collection of data, but you already know how many times you want to repeat a task? Well, to use a for-loop, we need to **generate** a sequence for the for loop to iterate through! `range()` generates a series of integers, using the same closed-open convention as Python slicing. For example:\n",
    "\n",
    "```python\n",
    ">>> range(5)  # Create the generator\n",
    "range(0, 5)\n",
    "\n",
    ">>> list(range(5))  # Iterate through the generator to make a list\n",
    "[0, 1, 2, 3, 4]\n",
    "\n",
    ">>> tuple(range(-2, 2))  # Iterate to make a tuple\n",
    "(-2, 1, 0, 1)\n",
    "```\n",
    ".\n"
   ]
  },
  {
   "cell_type": "markdown",
   "metadata": {
    "cell_id": "0f7f6a4a5fd54d30b36a1f1cf3caf8ea",
    "deepnote_cell_height": 88.71875,
    "deepnote_cell_type": "markdown"
   },
   "source": [
    "**Exercises**\n",
    "\n",
    "Using For-Loops and the range() function, do the following tasks:"
   ]
  },
  {
   "cell_type": "markdown",
   "metadata": {
    "cell_id": "d790959db1a4432d9f9a470c33f9fd9d",
    "deepnote_cell_height": 52.34375,
    "deepnote_cell_type": "markdown"
   },
   "source": [
    "Print the numbers 0 through 4:"
   ]
  },
  {
   "cell_type": "code",
   "execution_count": null,
   "metadata": {
    "cell_id": "83d84c733d80493fb353698964b44184",
    "deepnote_cell_height": 208.9375,
    "deepnote_cell_type": "code"
   },
   "outputs": [
    {
     "name": "stdout",
     "output_type": "stream",
     "text": [
      "0\n",
      "1\n",
      "2\n",
      "3\n",
      "4\n"
     ]
    }
   ],
   "source": [
    "for x in range(5):\n",
    "    print(x)"
   ]
  },
  {
   "cell_type": "markdown",
   "metadata": {
    "cell_id": "9c02655f924e4728be6296c49300c7a3",
    "deepnote_cell_height": 52.34375,
    "deepnote_cell_type": "markdown"
   },
   "source": [
    "Print the numbers 0 through 9:"
   ]
  },
  {
   "cell_type": "code",
   "execution_count": null,
   "metadata": {
    "cell_id": "1a7af9323fdb49f58587d43f814c26fd",
    "deepnote_cell_height": 65.953125,
    "deepnote_cell_type": "code"
   },
   "outputs": [],
   "source": []
  },
  {
   "cell_type": "markdown",
   "metadata": {
    "cell_id": "6436d2e6d703470ea0658634c2fab5ac",
    "deepnote_cell_height": 52.34375,
    "deepnote_cell_type": "markdown"
   },
   "source": [
    "Print \"Hello World\" five times."
   ]
  },
  {
   "cell_type": "code",
   "execution_count": null,
   "metadata": {
    "cell_id": "7cca527968b04cdd8a72e7e3cdb9fb61",
    "deepnote_cell_height": 65.953125,
    "deepnote_cell_type": "code"
   },
   "outputs": [],
   "source": []
  },
  {
   "cell_type": "markdown",
   "metadata": {
    "cell_id": "76d635ca84164799a2d50ba875cda051",
    "deepnote_cell_height": 74.734375,
    "deepnote_cell_type": "markdown"
   },
   "source": [
    "Make a list with this sequence: `['a', 'ab', 'abc', 'abcd', 'abcde', 'abcdef']`"
   ]
  },
  {
   "cell_type": "code",
   "execution_count": null,
   "metadata": {
    "cell_id": "9286a7c67756468fa28959ddf09dbb10",
    "deepnote_cell_height": 136.125,
    "deepnote_cell_type": "code",
    "deepnote_output_heights": [
     21.1875
    ]
   },
   "outputs": [
    {
     "data": {
      "text/plain": [
       "'abcdefghijklmnopqrstuvwxyz'"
      ]
     },
     "execution_count": 9,
     "metadata": {},
     "output_type": "execute_result"
    }
   ],
   "source": [
    "from string import ascii_lowercase\n",
    "ascii_lowercase"
   ]
  },
  {
   "cell_type": "markdown",
   "metadata": {
    "cell_id": "3c3a0bc8f40241b28d29efc4cf4eeff7",
    "deepnote_cell_height": 130.71875,
    "deepnote_cell_type": "markdown"
   },
   "source": [
    "## Extra: Other Iterators\n",
    "\n",
    "Any iterator, often created from a generator function, can be used in for-loops."
   ]
  },
  {
   "cell_type": "code",
   "execution_count": null,
   "metadata": {
    "cell_id": "a83471fa4f674d0db16e0420ff24c21c",
    "deepnote_cell_height": 65.953125,
    "deepnote_cell_type": "code"
   },
   "outputs": [],
   "source": [
    "from itertools import combinations, combinations_with_replacement, product, permutations, repeat"
   ]
  },
  {
   "cell_type": "markdown",
   "metadata": {
    "cell_id": "40ca5d25eafe4c77bb5deef8baf6a452",
    "deepnote_cell_height": 52.34375,
    "deepnote_cell_type": "markdown"
   },
   "source": [
    "**Exercises**"
   ]
  },
  {
   "cell_type": "markdown",
   "metadata": {
    "cell_id": "6887e1d911c844989cf6af95402bc4f7",
    "deepnote_cell_height": 52.34375,
    "deepnote_cell_type": "markdown"
   },
   "source": [
    "Example: Repeat \"Hello World\" five times using an itertools function."
   ]
  },
  {
   "cell_type": "code",
   "execution_count": null,
   "metadata": {
    "cell_id": "36555696dd304185bc3ba6c45c01cc04",
    "deepnote_cell_height": 208.9375,
    "deepnote_cell_type": "code"
   },
   "outputs": [
    {
     "name": "stdout",
     "output_type": "stream",
     "text": [
      "Hello World\n",
      "Hello World\n",
      "Hello World\n",
      "Hello World\n",
      "Hello World\n"
     ]
    }
   ],
   "source": [
    "for msg in repeat('Hello World', 5):\n",
    "    print(msg)"
   ]
  },
  {
   "cell_type": "markdown",
   "metadata": {
    "cell_id": "99bcb362b487465e9cd4e908d24660fc",
    "deepnote_cell_height": 52.34375,
    "deepnote_cell_type": "markdown"
   },
   "source": [
    "Repeat \"Iterators are neat!\" 10 times  using an itertools function."
   ]
  },
  {
   "cell_type": "code",
   "execution_count": null,
   "metadata": {
    "cell_id": "84d5e8ce684a47dc94a82757160500af",
    "deepnote_cell_height": 65.953125,
    "deepnote_cell_type": "code"
   },
   "outputs": [],
   "source": []
  },
  {
   "cell_type": "markdown",
   "metadata": {
    "cell_id": "e956761fbe794286973164679bc3f818",
    "deepnote_cell_height": 111.109375,
    "deepnote_cell_type": "markdown"
   },
   "source": [
    "Print all the two-letter sequence combinations of A, B, C, and D  using an itertools function:\n",
    "\n",
    "AB, AC, AD, BC, BC, CD"
   ]
  },
  {
   "cell_type": "code",
   "execution_count": null,
   "metadata": {
    "cell_id": "5d767e654e134d4ab4de94849464ee07",
    "deepnote_cell_height": 65.953125,
    "deepnote_cell_type": "code"
   },
   "outputs": [],
   "source": []
  },
  {
   "cell_type": "markdown",
   "metadata": {
    "cell_id": "43716939314541e19d486cdcca3b52ea",
    "deepnote_cell_height": 111.109375,
    "deepnote_cell_type": "markdown"
   },
   "source": [
    "Print all the different combinations of paired values in the two lists (i.e. the \"product\")\n",
    "\n",
    "a1, a2, a3, b1, b2, b3, c1, c2, c3"
   ]
  },
  {
   "cell_type": "code",
   "execution_count": null,
   "metadata": {
    "cell_id": "0d720447276848e5868db6ec53e9a2b3",
    "deepnote_cell_height": 101.953125,
    "deepnote_cell_type": "code"
   },
   "outputs": [],
   "source": [
    "letters = ['a', 'b', 'c']\n",
    "numbers = [1, 2, 3]"
   ]
  },
  {
   "cell_type": "code",
   "execution_count": null,
   "metadata": {},
   "outputs": [],
   "source": []
  },
  {
   "cell_type": "markdown",
   "metadata": {
    "cell_id": "de0e1e7e44e74953a2a7980845301416",
    "deepnote_cell_height": 97.109375,
    "deepnote_cell_type": "markdown"
   },
   "source": [
    "Lots of great iterators exist in the Python ecosystem: here are some ideas for more for your reference: https://docs.python.org/3/library/itertools.html#itertools-recipes"
   ]
  },
  {
   "cell_type": "code",
   "execution_count": null,
   "metadata": {},
   "outputs": [],
   "source": []
  }
 ],
 "metadata": {
  "deepnote": {
   "is_reactive": false
  },
  "deepnote_execution_queue": [],
  "deepnote_notebook_id": "df04d9ff306a4441844f34085cadbc35",
  "kernelspec": {
   "display_name": "Python 3 (ipykernel)",
   "language": "python",
   "name": "python3"
  },
  "language_info": {
   "codemirror_mode": {
    "name": "ipython",
    "version": 3
   },
   "file_extension": ".py",
   "mimetype": "text/x-python",
   "name": "python",
   "nbconvert_exporter": "python",
   "pygments_lexer": "ipython3",
   "version": "3.9.12"
  },
  "vscode": {
   "interpreter": {
    "hash": "d6852d01271bf8033dbdb7ec364b6f6e89fd52a18c6bf5b4c73e48c86329a8dd"
   }
  }
 },
 "nbformat": 4,
 "nbformat_minor": 4
}
