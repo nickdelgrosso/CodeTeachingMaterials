{
 "cells": [
  {
   "cell_type": "markdown",
   "id": "9130bad2-8449-4a13-ae20-69417b44fb6e",
   "metadata": {},
   "source": [
    "# Git Basics: Adding Git Remotes, Pushing and Pulling\n",
    "\n",
    "What good is keeping tracks of all these versions if we just lose the entire repo by accident, or if we can't put it in a place where others can access it?  In this section, we'll practice telling git where it can send updates to backup repositories *(git remotes)*, sending *(pushing)* new commits to them, and even receiving *(pulling)* new commits on those remotes!  We'll see that GitHub is a useful place to put a git remote, but that we can put a git remote pretty much anywhere, even on other folders in our local computer.\n",
    "\n",
    "![git remotes](imgs/git-remotes.png)\n"
   ]
  },
  {
   "cell_type": "markdown",
   "id": "fdd7b777-803e-47cc-ae91-c0d2e9a5fbd3",
   "metadata": {},
   "source": [
    "## Terminal Commands\n",
    "\n",
    "  - **`git remote`**: List all the names of the remotes for this git repository\n",
    "    - **`git remote -v`**: List all the names and locations of the remotes (\"verbose mode\")\n",
    "  - **`git remote add <remotename> <url>`**: Add a new remote with a name and a web address\n",
    "  - **`git remote add <remotename> <path>`**: Add a new remote with a name and a folder location\n",
    "  - **`git pull remotename branchname`**: Receive the new changes from a given branch on a remote.\n",
    "  - **`git push remotename branchname`**: Send new changes to a given branch on a remote\n",
    "  - **`git clone --bare . <path>`**: Clone the current repo to a certain path (make sure the path isn't inside the current repository)\n",
    "  "
   ]
  },
  {
   "cell_type": "markdown",
   "id": "145a4163-1d21-4801-b342-ab2699a33f14",
   "metadata": {},
   "source": [
    "## Exercise\n",
    "\n",
    "**Sequence**"
   ]
  },
  {
   "cell_type": "markdown",
   "id": "4e16f9ce-1a08-4032-babf-61d290ab73de",
   "metadata": {},
   "source": [
    "<span style=\"color:darkblue\">**Current State**: You should start this exercise with a git repo with a couple of files and some commits in the history."
   ]
  },
  {
   "cell_type": "markdown",
   "id": "0b34aad5-2f00-411e-bcd6-ae9e6198e131",
   "metadata": {},
   "source": [
    "1: Check your git remotes.  How many are there?"
   ]
  },
  {
   "cell_type": "markdown",
   "id": "efffd8de-31f5-45e0-a6a8-60bff26e55b3",
   "metadata": {},
   "source": [
    "<span style=\"color:darkblue\">**Current State**:  There should be no remotes listed."
   ]
  },
  {
   "cell_type": "markdown",
   "id": "7a02e9de-85d3-46d8-a85e-ddb8b9929554",
   "metadata": {},
   "source": [
    "2: Create an **empty** (really, no files at all, or this won't work) GitHub repo, note its URL. "
   ]
  },
  {
   "cell_type": "markdown",
   "id": "62a2dc29-4e19-4f6a-8b1b-ed060f55e13e",
   "metadata": {},
   "source": [
    "3: Add a new git remote, called \"origin\", at the URL of the new GitHub repo.  Check the remotes--was it successfully created?"
   ]
  },
  {
   "cell_type": "markdown",
   "id": "0f5fac9b-3aa9-47ea-9a94-de3c51dda07d",
   "metadata": {},
   "source": [
    "4: Push the current branch to your \"origin\" remote (you might have to sign in with username and password).  Refresh the GitHub page--your files should be there!"
   ]
  },
  {
   "cell_type": "markdown",
   "id": "15195683-5ee9-4609-9d0e-573cb8788c43",
   "metadata": {},
   "source": [
    "<span style=\"color:darkblue\">**Current State**: Your repo should have one remote, called \"origin\", that references the GitHub repo, and the GitHub repo should have all of your files!"
   ]
  },
  {
   "cell_type": "markdown",
   "id": "1dc86fe3-fd29-4f97-a9ec-24a4349187d5",
   "metadata": {},
   "source": [
    "5: Let's make a change on our local git repostory.  Add a new line to the run.py file, and have it print your name after it prints Hello World.  Then commit your changes, and check your GitHub repo by refreshing the page.  Has it automatically updated with your new changes?"
   ]
  },
  {
   "cell_type": "markdown",
   "id": "8d239ab4-4cd2-4e26-81e8-c4115425f89b",
   "metadata": {},
   "source": [
    "6: Push the current branch to your \"origin\" remote (you might have to sign in with username and password).  Refresh the GitHub page--your files should be there!"
   ]
  },
  {
   "cell_type": "markdown",
   "id": "42e953b0-269f-4495-8f2e-81e5d6c761ee",
   "metadata": {},
   "source": [
    "<span style=\"color:darkblue\">**Current State**: Your GitHub repo's run.py file should have the new line in it</span>"
   ]
  },
  {
   "cell_type": "markdown",
   "id": "6c3d96f9-1a28-4ea8-a096-b883fcfdd9e2",
   "metadata": {},
   "source": [
    "7: This time, let's make changes on our GitHub repo and **pull** them to our local repository.  In the web browser, edit the readme file adding the line \"Made by *your first name*\", and commit the change.  Verify that the change isn't there in your local repository, then pull it to your local machine."
   ]
  },
  {
   "cell_type": "markdown",
   "id": "52154676-e464-4f53-90a2-3d7b3ed97c8b",
   "metadata": {},
   "source": [
    "<span style=\"color:darkblue\">**Current State**: Your local repository should have the new line in your readme in it</span>"
   ]
  },
  {
   "cell_type": "markdown",
   "id": "c529b3c2-4ed6-479c-bffb-63fc60a0e7ad",
   "metadata": {},
   "source": [
    "### (Extra) Making a Headless Clone Remote"
   ]
  },
  {
   "cell_type": "markdown",
   "id": "02d9764d-0748-430b-950b-54cf9e404e78",
   "metadata": {},
   "source": [
    "How about we create a second backup for our repo, this time in a different place on our local machine?  This is useful, for example, if you want to be able to push backups on Dropbox, Box, or external hard drives. \n",
    "\n",
    "The command is `git clone --bare . <path-to-backup-repo>`\n",
    "\n",
    "For example: `git clone --bare . ../my-backup`\n",
    "\n",
    "\"bare\" means that the repo will have no HEAD; this makes it possible to push to it, the same as GitHub."
   ]
  },
  {
   "cell_type": "markdown",
   "id": "8ef06484-2f15-4a2a-9949-6991a37badd4",
   "metadata": {},
   "source": [
    "**Exercise**"
   ]
  },
  {
   "cell_type": "markdown",
   "id": "80029f5b-44e6-4f8a-afb7-ff3343cefdf7",
   "metadata": {},
   "source": [
    "1: Make a backup by cloning the project to the folder \"my-backup\" in the parent directory (`../my-backup`), and open up the folder in your file explorer.  Notice that this folder doesn't look the same as the original; it's only the contents of the .git folder."
   ]
  },
  {
   "cell_type": "markdown",
   "id": "6b3a7da8-a8d5-4369-8ffb-e65a81303700",
   "metadata": {},
   "source": [
    "2: Add this folder as a remote.  Let's call it \"local\""
   ]
  },
  {
   "cell_type": "markdown",
   "id": "3637cd55-f5a7-446a-8def-ba96fc92862d",
   "metadata": {},
   "source": [
    "3: Make a change, commit, then push it to both \"local\" and to \"origin\".  Now you have two backup locations!"
   ]
  },
  {
   "cell_type": "markdown",
   "id": "fc18cf8e-6e7b-4ebc-a479-7119d0d123ca",
   "metadata": {},
   "source": [
    "Done!"
   ]
  },
  {
   "cell_type": "markdown",
   "id": "8c5543ed-77c6-4949-89eb-75bf53fad820",
   "metadata": {},
   "source": [
    "![funny](imgs/funny.png)"
   ]
  },
  {
   "cell_type": "code",
   "execution_count": null,
   "id": "0a07a71a-aa12-4971-be84-e5982e9baf0d",
   "metadata": {},
   "outputs": [],
   "source": []
  }
 ],
 "metadata": {
  "kernelspec": {
   "display_name": "Python 3 (ipykernel)",
   "language": "python",
   "name": "python3"
  },
  "language_info": {
   "codemirror_mode": {
    "name": "ipython",
    "version": 3
   },
   "file_extension": ".py",
   "mimetype": "text/x-python",
   "name": "python",
   "nbconvert_exporter": "python",
   "pygments_lexer": "ipython3",
   "version": "3.8.13"
  }
 },
 "nbformat": 4,
 "nbformat_minor": 5
}
