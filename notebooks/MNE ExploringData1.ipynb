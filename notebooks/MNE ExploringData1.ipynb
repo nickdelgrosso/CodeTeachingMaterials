{
 "cells": [
  {
   "cell_type": "code",
   "execution_count": 7,
   "id": "3156d1ae-65cc-4120-9fd3-9b7de2c2f776",
   "metadata": {},
   "outputs": [],
   "source": [
    "import os\n",
    "from pathlib import Path\n",
    "import numpy as np\n",
    "import matplotlib.pyplot as plt\n",
    "import mne"
   ]
  },
  {
   "cell_type": "code",
   "execution_count": 3,
   "id": "e8e0d0a8-7e6d-4b3c-9cfa-b229b456c26e",
   "metadata": {},
   "outputs": [],
   "source": [
    "%matplotlib inline"
   ]
  },
  {
   "cell_type": "markdown",
   "id": "6f16c537-c7ad-40f5-9b06-1b7b26e1c2d2",
   "metadata": {},
   "source": [
    "## Load the Data\n",
    "\n",
    "For this exercise, we'll work with MNE's \"sample\" dataset."
   ]
  },
  {
   "cell_type": "code",
   "execution_count": 25,
   "id": "75c67ca2-c51c-407f-a0dc-0abe42e8d2a1",
   "metadata": {},
   "outputs": [
    {
     "data": {
      "text/plain": [
       "'C:\\\\Users\\\\Nick\\\\mne_data\\\\MNE-sample-data'"
      ]
     },
     "execution_count": 25,
     "metadata": {},
     "output_type": "execute_result"
    }
   ],
   "source": [
    "sample_data_folder = mne.datasets.sample.data_path()\n",
    "sample_data_folder"
   ]
  },
  {
   "cell_type": "markdown",
   "id": "a5c62b56-fcce-422e-9826-6a79bea62014",
   "metadata": {},
   "source": [
    "Open the folder in your file browser, and explore its contents"
   ]
  },
  {
   "cell_type": "code",
   "execution_count": null,
   "id": "a577bc73-4239-44c9-b5e0-33b2bf7906c5",
   "metadata": {},
   "outputs": [],
   "source": [
    "# Mac\n",
    "!open {sample_data_folder}"
   ]
  },
  {
   "cell_type": "code",
   "execution_count": 28,
   "id": "886414ab-8211-43b9-a4f4-88037eda6b51",
   "metadata": {},
   "outputs": [],
   "source": [
    "# Windows\n",
    "!explorer {sample_data_folder}"
   ]
  },
  {
   "cell_type": "markdown",
   "id": "42f52e13-0e50-4d21-b5b7-e0bcedab51a1",
   "metadata": {},
   "source": [
    "**`mne.io.read_raw_fif()`**: Read the 'sample_audvis_raw.fif' file in as an mne.Raw object"
   ]
  },
  {
   "cell_type": "code",
   "execution_count": null,
   "id": "4c0d2b67-1d87-42ce-a600-a6ecd7139ba1",
   "metadata": {},
   "outputs": [],
   "source": [
    "mne.io.read_raw_fif(os.path.join(sample_data_folder, \"/MEG\"))"
   ]
  },
  {
   "cell_type": "markdown",
   "id": "1343a97f-8d30-4758-9ed2-386801ec289e",
   "metadata": {},
   "source": [
    "## Transform the Data\n",
    "\n",
    "*Tip*: You may want to copy the data with `Raw.copy()` before transforming it.\n",
    "\n",
    "*Tip*: Variables in Python can be deleted with `del myvar`"
   ]
  },
  {
   "cell_type": "markdown",
   "id": "b8316784-c3f2-4f68-a262-a0d4309be990",
   "metadata": {},
   "source": [
    "**`Raw.crop()`** Keep only the data between t=0 secs and t=180 secs"
   ]
  },
  {
   "cell_type": "code",
   "execution_count": null,
   "id": "eb06420d-74d3-4949-8031-820d79c373ac",
   "metadata": {},
   "outputs": [],
   "source": []
  },
  {
   "cell_type": "markdown",
   "id": "6d630aa0-50e1-4114-9385-d8af31c6c105",
   "metadata": {},
   "source": [
    "**`Raw.pick_types()`**: Select only the EEG Channels"
   ]
  },
  {
   "cell_type": "code",
   "execution_count": null,
   "id": "7fd85709-e54b-42e3-a29a-96904ea37bba",
   "metadata": {},
   "outputs": [],
   "source": []
  },
  {
   "cell_type": "markdown",
   "id": "8f8ceabd-cd51-4385-9ca2-d970fb655f5b",
   "metadata": {},
   "source": [
    "**`Raw.pick_types()`**: Select only the MEG Channels"
   ]
  },
  {
   "cell_type": "code",
   "execution_count": null,
   "id": "a870ae8e-9ca3-4b67-9f8b-3a308456ed18",
   "metadata": {},
   "outputs": [],
   "source": []
  },
  {
   "cell_type": "markdown",
   "id": "2f62d0cd-219f-4580-9e04-c77deab53278",
   "metadata": {},
   "source": [
    "**`Raw.pick_types()`**: Select only the MEG and EOG Channels"
   ]
  },
  {
   "cell_type": "code",
   "execution_count": null,
   "id": "20988108-f9f2-4b5c-859f-4024ecaa139b",
   "metadata": {},
   "outputs": [],
   "source": []
  },
  {
   "cell_type": "markdown",
   "id": "6b167ee0-3a62-4825-b60c-7c08020bd10f",
   "metadata": {},
   "source": [
    "**`Raw.time_as_index()`**: Find out what sample number occurs nearest to the 1 second mark.  "
   ]
  },
  {
   "cell_type": "code",
   "execution_count": null,
   "id": "e1ef9e1f-b712-4d1e-b026-69943012e3ac",
   "metadata": {},
   "outputs": [],
   "source": []
  },
  {
   "cell_type": "markdown",
   "id": "ef2bfe1f-4419-4f74-86aa-9b488c3ec21a",
   "metadata": {},
   "source": [
    "**`Raw.time_as_index()`**: Find out what sample number occurs nearest to the 0, 1, and 2 second marks.  "
   ]
  },
  {
   "cell_type": "code",
   "execution_count": null,
   "id": "c56475ac-673b-4838-88db-dd7ae6efc077",
   "metadata": {},
   "outputs": [],
   "source": []
  },
  {
   "cell_type": "markdown",
   "id": "1c27e1c3-03a5-4639-972f-2498cbee1a9a",
   "metadata": {},
   "source": [
    "**`Raw.rename_channels()`** Rename the EOG channel \"EOG 061\" to \"blink detector\""
   ]
  },
  {
   "cell_type": "code",
   "execution_count": null,
   "id": "33cef816-8a3e-44a9-a28f-af2b08bfc0f9",
   "metadata": {},
   "outputs": [],
   "source": []
  },
  {
   "cell_type": "markdown",
   "id": "14ba38aa-f31f-4272-9bb3-03a64e8a5fa5",
   "metadata": {},
   "source": []
  },
  {
   "cell_type": "markdown",
   "id": "6e1344c6-3302-48ad-a29f-dd356bf40918",
   "metadata": {},
   "source": [
    "### Slicing Raw Data\n",
    "\n",
    "There are lots of ways to get specific data points from the `Raw` object, listed on this table on the MNE documentation here: https://mne.tools/stable/auto_tutorials/raw/10_raw_overview.html#summary-of-ways-to-extract-data-from-raw-objects\n",
    "\n",
    "Let's try some of them out!"
   ]
  },
  {
   "cell_type": "markdown",
   "id": "475a18e1-1911-4a76-8b2a-1f542361b0df",
   "metadata": {},
   "source": [
    "**Exercises**"
   ]
  },
  {
   "cell_type": "markdown",
   "id": "666ecd1c-32af-4a15-b06e-cf4057937889",
   "metadata": {},
   "source": [
    "Get the first 100 samples from channel 'MEG 0113'"
   ]
  },
  {
   "cell_type": "code",
   "execution_count": null,
   "id": "cf159b7f-d070-4c95-8aa3-90bb38714fc1",
   "metadata": {},
   "outputs": [],
   "source": []
  },
  {
   "cell_type": "markdown",
   "id": "c2e9c64a-71ab-4ebe-bc97-9dcd32aa8867",
   "metadata": {},
   "source": [
    "Get all the data from the first 5 channels"
   ]
  },
  {
   "cell_type": "code",
   "execution_count": null,
   "id": "a91faad4-a603-44fb-a88e-e40ddc35ac5b",
   "metadata": {},
   "outputs": [],
   "source": []
  },
  {
   "cell_type": "markdown",
   "id": "fe714538-97e9-47e8-9498-11b47c9ab56c",
   "metadata": {},
   "source": [
    "Get all the data from channels 'EEG 030' and 'EOG 061'"
   ]
  },
  {
   "cell_type": "code",
   "execution_count": null,
   "id": "eeedd757-ccff-4c8d-8a3d-909160cb3afc",
   "metadata": {},
   "outputs": [],
   "source": []
  },
  {
   "cell_type": "markdown",
   "id": "6a9e0d29-acb4-4bcc-a885-b3d4745bd2dc",
   "metadata": {},
   "source": [
    "Get all the data in a Numpy array, as well as the time series for the time values."
   ]
  },
  {
   "cell_type": "code",
   "execution_count": null,
   "id": "55d8066b-5500-42c3-a9f1-259a9e6f9dc2",
   "metadata": {},
   "outputs": [],
   "source": []
  },
  {
   "cell_type": "markdown",
   "id": "d4d53023-04f2-4561-af0c-82a3a15dfb52",
   "metadata": {},
   "source": [
    "### Plotting\n",
    "\n",
    "Using interactive mode `%matplotlib qt`, explore the following plots:"
   ]
  },
  {
   "cell_type": "markdown",
   "id": "83eaf2c2-7f39-4654-bf2b-780d8d735de8",
   "metadata": {},
   "source": [
    "**`Raw.plot()`**"
   ]
  },
  {
   "cell_type": "code",
   "execution_count": null,
   "id": "619b4c30-14eb-42b6-a103-90219f6f3ea1",
   "metadata": {},
   "outputs": [],
   "source": []
  },
  {
   "cell_type": "markdown",
   "id": "e67ca696-cdd4-4093-9744-91e9334f4a2a",
   "metadata": {},
   "source": [
    "**`Raw.plot_psd()`**"
   ]
  },
  {
   "cell_type": "code",
   "execution_count": null,
   "id": "99cb8d40-ddc5-4b27-bbdc-f91c27acd639",
   "metadata": {},
   "outputs": [],
   "source": []
  },
  {
   "cell_type": "markdown",
   "id": "58540548-5fd8-427a-897d-0a1fc1fe0e76",
   "metadata": {},
   "source": [
    "**`Raw.plot_projs_topomap()`**"
   ]
  },
  {
   "cell_type": "code",
   "execution_count": null,
   "id": "73354aad-b057-49cf-94fb-242ca67def4c",
   "metadata": {},
   "outputs": [],
   "source": []
  },
  {
   "cell_type": "markdown",
   "id": "4eeba0ea-1160-4f9a-a1a8-90c1a78a7430",
   "metadata": {},
   "source": [
    "**`Raw.plot_sensors()`**"
   ]
  },
  {
   "cell_type": "code",
   "execution_count": null,
   "id": "afadd023-1254-494f-bfa8-82aeb57386b9",
   "metadata": {},
   "outputs": [],
   "source": []
  },
  {
   "cell_type": "markdown",
   "id": "6044b554-8f57-471b-957c-9256184d3055",
   "metadata": {},
   "source": [
    "**`Raw.plot_psd_topo()`**"
   ]
  },
  {
   "cell_type": "markdown",
   "id": "efb84961-6a8c-4715-9bc4-7c79c049dc3c",
   "metadata": {},
   "source": []
  },
  {
   "cell_type": "markdown",
   "id": "0e5ba25e-4a9b-4f46-8cfe-346eddf3c57c",
   "metadata": {},
   "source": [
    "### Filtering\n",
    "\n"
   ]
  },
  {
   "cell_type": "markdown",
   "id": "195c81a5-79a9-4cd2-b008-9ff6876f012c",
   "metadata": {},
   "source": [
    "**Exercises**"
   ]
  },
  {
   "cell_type": "markdown",
   "id": "1ebbee0e-3c84-485e-b50b-5111447b6bdd",
   "metadata": {},
   "source": [
    "Find the slow drifts in the data (an artifact called \"DC Shift\") by plotting without dc correction and zooming out: `Raw.plot(remove_dc=False, duration=60)`. "
   ]
  },
  {
   "cell_type": "code",
   "execution_count": null,
   "id": "f961e0cc-ae68-4857-959f-0f0810624fb0",
   "metadata": {},
   "outputs": [],
   "source": []
  },
  {
   "cell_type": "markdown",
   "id": "606658f4-373e-4e31-b441-2f7478eec8f4",
   "metadata": {},
   "source": [
    "Correct the drift: find the lowest highpass-filter value that removes that signal."
   ]
  },
  {
   "cell_type": "code",
   "execution_count": null,
   "id": "0db2bd40-d1b9-4b8b-9a23-23e521d8d46e",
   "metadata": {},
   "outputs": [],
   "source": []
  },
  {
   "cell_type": "markdown",
   "id": "c54459b0-95e3-4b12-91e9-4a9faae569cb",
   "metadata": {},
   "source": [
    "Plot the average power spectrum in the MEG signals (`Raw.plot_psd(average=True)`).  Is there any powerline noise in the data?"
   ]
  },
  {
   "cell_type": "code",
   "execution_count": null,
   "id": "c95e9688-bcb1-4cf4-894d-27cc9dc3d18d",
   "metadata": {},
   "outputs": [],
   "source": []
  },
  {
   "cell_type": "markdown",
   "id": "d81ff9fd-6cac-4a43-b1d5-9ebe7a4d4c5b",
   "metadata": {},
   "source": [
    "Notch filter out the powerline noise."
   ]
  },
  {
   "cell_type": "code",
   "execution_count": null,
   "id": "5ae6dde2-9479-4a1a-9dbf-5671677324ac",
   "metadata": {},
   "outputs": [],
   "source": []
  },
  {
   "cell_type": "markdown",
   "id": "0cb72f80-4843-4509-8df8-9584d3fe7d08",
   "metadata": {},
   "source": [
    "**`Raw.resample()`**: Downsample the data to one-fourth the current sampling frequency."
   ]
  },
  {
   "cell_type": "code",
   "execution_count": null,
   "id": "8dd1ce76-5cfa-487f-b08c-a3dfa92f6627",
   "metadata": {},
   "outputs": [],
   "source": []
  },
  {
   "cell_type": "markdown",
   "id": "409846c6-6681-4482-8d53-b6795a6bae50",
   "metadata": {},
   "source": [
    "**`Raw.save()`** Save the file for later analysis!"
   ]
  },
  {
   "cell_type": "code",
   "execution_count": null,
   "id": "e82ed462-ecc0-4238-8f9a-170f382b6adc",
   "metadata": {},
   "outputs": [],
   "source": []
  },
  {
   "cell_type": "markdown",
   "id": "efb7dfec-adac-4ea5-b58c-11705f56df05",
   "metadata": {},
   "source": [
    "## Further Reading\n",
    "\n",
    "  - MNE Tutorial on the Raw object: https://mne.tools/stable/auto_tutorials/raw/10_raw_overview.html\n",
    "  - MNE Tutorial on Filtering:https://mne.tools/stable/auto_tutorials/preprocessing/30_filtering_resampling.html"
   ]
  },
  {
   "cell_type": "code",
   "execution_count": null,
   "id": "aa465050-019f-4d35-8d7a-d3c0bac3caaf",
   "metadata": {},
   "outputs": [],
   "source": []
  }
 ],
 "metadata": {
  "kernelspec": {
   "display_name": "Python 3.10.4 ('py10')",
   "language": "python",
   "name": "python3"
  },
  "language_info": {
   "codemirror_mode": {
    "name": "ipython",
    "version": 3
   },
   "file_extension": ".py",
   "mimetype": "text/x-python",
   "name": "python",
   "nbconvert_exporter": "python",
   "pygments_lexer": "ipython3",
   "version": "3.10.4"
  },
  "vscode": {
   "interpreter": {
    "hash": "d6852d01271bf8033dbdb7ec364b6f6e89fd52a18c6bf5b4c73e48c86329a8dd"
   }
  }
 },
 "nbformat": 4,
 "nbformat_minor": 5
}
