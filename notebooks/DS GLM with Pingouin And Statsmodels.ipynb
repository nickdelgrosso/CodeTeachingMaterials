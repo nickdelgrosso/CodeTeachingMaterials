{
 "cells": [
  {
   "cell_type": "code",
   "execution_count": 1,
   "id": "83c65cc5-44d2-49d6-90a1-c63faf1b91d1",
   "metadata": {},
   "outputs": [],
   "source": [
    "import numpy as np\n",
    "from scipy import stats\n",
    "import statsmodels.api as sm\n",
    "import pingouin as pg\n",
    "import matplotlib.pyplot as plt"
   ]
  },
  {
   "cell_type": "markdown",
   "id": "67d366da-0691-49e5-ada3-504602b4fce3",
   "metadata": {},
   "source": [
    "## The Generalized Linear Model (GLM)\n",
    "\n",
    "### The Univariate Linear Model: y = aX + b + e\n",
    "\n",
    "  - **0D Point Formula** $ y = b $\n",
    "  - **0D Linear Model:** $ y = b + e$\n",
    "  - **1D Line Formula:** $ y = a x + b $\n",
    "  - **Univariate Linear Model:** $  y = a x + b + e $\n",
    "  - **Bivariate Linear Model:** $ y = ax_1 + bx_2 + c + e $\n",
    "  - **Multivariate Linear Model:** $ y = (\\sum_{i=1}^{n}{a_iX_i}) + b + e $\n",
    "  - **Generalized Multivariate Linear Model:** $ y = (\\sum_{i=1}^{n}{a_iX_i}) + e $, where $e$ is any distribution\n",
    "\n",
    "  \n",
    "  "
   ]
  },
  {
   "cell_type": "markdown",
   "id": "556bd829-d973-42bc-83a7-935c0624f5c1",
   "metadata": {},
   "source": [
    "**Exercises: Generating Linear Data**\n",
    "\n",
    "In each of these exercises, we'll build up a function that generates data, starting from the simplest model to the more complex."
   ]
  },
  {
   "cell_type": "markdown",
   "id": "6a812c74-0bfd-4f8a-8cfd-591acf7105de",
   "metadata": {},
   "source": [
    "Let's start with the simplest:  $ y = b $\n"
   ]
  },
  {
   "cell_type": "markdown",
   "id": "ec0f2d55-1013-4e4f-b745-cc731a7a5881",
   "metadata": {},
   "source": [
    "Example: Modify the function so that it takes a $b$ argument (a single value) and outputs it.  "
   ]
  },
  {
   "cell_type": "code",
   "execution_count": 2,
   "id": "3402ac0e-c02c-432a-97b4-9716052a3650",
   "metadata": {},
   "outputs": [
    {
     "data": {
      "image/png": "[encoded data removed]",
      "text/plain": [
       "<Figure size 432x288 with 1 Axes>"
      ]
     },
     "metadata": {
      "needs_background": "light"
     },
     "output_type": "display_data"
    }
   ],
   "source": [
    "def generate_data(x, b):\n",
    "    y = 0 * x + b\n",
    "    return y\n",
    "\n",
    "x = np.random.uniform(-2, 4, 50)\n",
    "y = generate_data(x, 3)\n",
    "plt.plot(x, y, '.');"
   ]
  },
  {
   "cell_type": "markdown",
   "id": "6d3b1356-5d6f-42c8-9353-215b187e0faf",
   "metadata": {},
   "source": [
    "Copy the code in the exercise above and past it below.\n",
    "\n",
    "**0D Linear Model:** $ y = b + e$\n",
    "\n",
    "Goal: Add an error term to the function, so that it generates a random, normally-distributed value added to $b$. \n",
    "\n",
    "*Note*: This error should have a mean of 0 and a standard deviation of $e$"
   ]
  },
  {
   "cell_type": "code",
   "execution_count": null,
   "id": "5b30ec02-8f3b-4c73-8eb3-141e904c18a2",
   "metadata": {},
   "outputs": [],
   "source": [
    "\n"
   ]
  },
  {
   "cell_type": "markdown",
   "id": "c775574d-4371-45c6-ba62-044f64221024",
   "metadata": {},
   "source": [
    "Use it to generate a distribution with:\n",
    "  - an offset of -6\n",
    "  - an error with a standard deviation of 2"
   ]
  },
  {
   "cell_type": "code",
   "execution_count": null,
   "id": "b0c8e93e-b06f-49e3-b4b8-3d31077dfd34",
   "metadata": {},
   "outputs": [],
   "source": []
  },
  {
   "cell_type": "markdown",
   "id": "3cbe7443-21d8-4e47-bea8-7137a113af94",
   "metadata": {},
   "source": [
    "Copy the code in the exercise above and past it below.\n",
    "\n",
    "**1D Linear Formula:** $ y = a x + b + e$\n",
    "\n",
    "Goal: Add a coeffecient $a$ to the function, so that it generates a line with a slope of $a$"
   ]
  },
  {
   "cell_type": "code",
   "execution_count": null,
   "id": "8746351a-0a10-4e33-a451-1a6238cf78a0",
   "metadata": {},
   "outputs": [],
   "source": [
    "  "
   ]
  },
  {
   "cell_type": "markdown",
   "id": "bc7f91cd-4d0c-4c47-b63f-1ed7e2f2abf3",
   "metadata": {},
   "source": [
    "Use it to generate a line with:\n",
    "  - a slope of 1.5\n",
    "  - an intercept of 5\n",
    "  - an error with a standard deviation of 0.5"
   ]
  },
  {
   "cell_type": "code",
   "execution_count": null,
   "id": "1f630175-1971-497e-bc6a-b20eec364595",
   "metadata": {},
   "outputs": [],
   "source": []
  },
  {
   "cell_type": "markdown",
   "id": "24830cd4-3b43-49e7-9a75-f44d62341daf",
   "metadata": {},
   "source": [
    "Copy the code in the exercise above and past it below.\n",
    "\n",
    "**Bivariate Linear Model:** $ y = ax_1 + bx_2 + c + e $\n",
    "\n",
    "Goal: Add another coeffecient to the function and a second x input, according to the equation above."
   ]
  },
  {
   "cell_type": "code",
   "execution_count": null,
   "id": "4bcd4f96-c949-4487-a92e-2d8810e58d87",
   "metadata": {},
   "outputs": [],
   "source": []
  },
  {
   "cell_type": "markdown",
   "id": "3105497f-b707-4546-bdb0-0d7b4bb905de",
   "metadata": {},
   "source": [
    "Use it to generate a line that:\n",
    "  - has a slope of 2.5 for the first x\n",
    "  - has a slope of -1 for the second x\n",
    "  - has an intercept of -10\n",
    "  - has an error of 3"
   ]
  },
  {
   "cell_type": "code",
   "execution_count": null,
   "id": "98c0e766-194f-4e45-bbfa-e0874a22d102",
   "metadata": {},
   "outputs": [],
   "source": []
  },
  {
   "cell_type": "markdown",
   "id": "42090d43-c9b6-4f1f-94cd-ad83361bfb1a",
   "metadata": {},
   "source": [
    "Copy the code in the exercise above and past it below.\n",
    "\n",
    "**Multivariate Linear Model:** $ y = (\\sum_{i=1}^{n}{a_iX_i}) + b + e $\n",
    "\n",
    "Okay, now we have a lot of inputs.  Modify the function so that it takes a single two-dimensional $X$ matrix, and adds each coefficient to each column of $X$."
   ]
  },
  {
   "cell_type": "code",
   "execution_count": null,
   "id": "1cfb11fb-21b6-466d-95e2-0217f5e753a7",
   "metadata": {},
   "outputs": [],
   "source": []
  },
  {
   "cell_type": "markdown",
   "id": "8075a3ba-a726-4797-8406-e61938e311e1",
   "metadata": {},
   "source": [
    "Use it to generate a line that:\n",
    "  - has slopes of 2.5, 4, 7, and -2 respectively for each column of X\n",
    "  - has an intercept of -80\n",
    "  - has an error of 2"
   ]
  },
  {
   "cell_type": "code",
   "execution_count": null,
   "id": "fa9bd974-8f2b-43b0-9183-2a8db2efdabf",
   "metadata": {},
   "outputs": [],
   "source": []
  },
  {
   "cell_type": "markdown",
   "id": "018d34b7-bcfa-4b0d-ae0f-f2936585637a",
   "metadata": {},
   "source": [
    "**Generalized Multivariate Linear Model:** $ y = (\\sum_{i=1}^{n}{a_iX_i}) + e $, where $e$ is any distribution\n",
    "\n",
    "Almost there!  All that's left is to make $e$ allowed to be any distribution.  Change the function so that $e$ is a `scipy.stats` distribution, \n",
    "and have it call `.rvs()` inside the function.  That will look something like the following:\n",
    "\n",
    "```python\n",
    "def call_rvs(e):\n",
    "    return e.rvs(10)\n",
    "\n",
    "call_rvs(e=stats.normal(0, 1))\n",
    "```"
   ]
  },
  {
   "cell_type": "code",
   "execution_count": null,
   "id": "67098ec2-df2a-4036-908e-82ebea70fdfa",
   "metadata": {},
   "outputs": [],
   "source": []
  },
  {
   "cell_type": "markdown",
   "id": "6f0cb140-9a36-46c5-9ec5-6f47f97c818e",
   "metadata": {},
   "source": [
    "Use it to generate a line that:\n",
    "  - has slopes of 5, 1, and 6 respectively for each column of X\n",
    "  - has an intercept of -80\n",
    "  - has a lognormal-distributed error with a mean of 0 and sd of 2"
   ]
  },
  {
   "cell_type": "code",
   "execution_count": null,
   "id": "0b5d29bb-f683-4c3d-a067-5ffd5b3ae52f",
   "metadata": {},
   "outputs": [],
   "source": []
  },
  {
   "cell_type": "markdown",
   "id": "7cb70078-8be0-40e6-abf1-47257ad466ef",
   "metadata": {},
   "source": [
    "## Linear Regression with Pingouin\n",
    "\n",
    "Pingouin has a `linear_regression()` function that accepts a 2D $X$ and a 1D $y$, fitting the coeffecients for a linear model. \n",
    "It also provides statistics on its confidence in each fit, making it very useful for scientific research!  Let's try it out\n",
    "and see if pingouin can guess the coefficients we chose to create our $y$ from $X$."
   ]
  },
  {
   "cell_type": "code",
   "execution_count": 55,
   "id": "fcbc976f-f629-40f4-add2-1c7159e8f1cc",
   "metadata": {},
   "outputs": [],
   "source": [
    "import pingouin as pg"
   ]
  },
  {
   "cell_type": "markdown",
   "id": "ea6aa831-a10f-4788-99d4-66fac8516552",
   "metadata": {},
   "source": [
    "**Exercise**\n",
    "\n",
    "Use pingouin to fit data and get a feel for the tool!"
   ]
  },
  {
   "cell_type": "markdown",
   "id": "b0a62089-7047-4346-81d0-cc8de9bec072",
   "metadata": {},
   "source": [
    "Use your data generator to make a line with a slope of 5 and an intercept of -10 on 30 points of data. Plot the line, and have pingouin fit it. Was it a good fit?"
   ]
  },
  {
   "cell_type": "code",
   "execution_count": null,
   "id": "3c0de6ff-586f-4cbf-90e0-f11e88e53dd7",
   "metadata": {},
   "outputs": [],
   "source": []
  },
  {
   "cell_type": "markdown",
   "id": "0d51b3d0-b39d-485a-8b15-341d89f9909c",
   "metadata": {},
   "source": [
    "Do the same, but this time with only 10 points of data.  How did the fit change?"
   ]
  },
  {
   "cell_type": "code",
   "execution_count": null,
   "id": "09224f6d-bf59-41fd-84d5-a3a9196a7790",
   "metadata": {},
   "outputs": [],
   "source": []
  },
  {
   "cell_type": "markdown",
   "id": "27976c61-0ca5-4f8d-adb1-8a6aff6a3b6d",
   "metadata": {},
   "source": [
    "Do the same, but this time with only 10 points of data and an error sd of 3.  How did the fit change?"
   ]
  },
  {
   "cell_type": "code",
   "execution_count": null,
   "id": "552cdaf0-ae43-4217-86fe-1b7cb1c4c789",
   "metadata": {},
   "outputs": [],
   "source": []
  },
  {
   "cell_type": "markdown",
   "id": "b57fe77a-9575-4cc7-a89f-67ad56ef983f",
   "metadata": {},
   "source": [
    "This time, let's make a 2D model!  Make a 2D 30x2 matrix and pick slopes for each column and an intercept. Have pingouin fit it. Was it a good fit?"
   ]
  },
  {
   "cell_type": "code",
   "execution_count": null,
   "id": "b16d3f5f-a733-4ae0-b230-3b37dc53e25b",
   "metadata": {},
   "outputs": [],
   "source": []
  },
  {
   "cell_type": "markdown",
   "id": "59d1960f-dbdb-47dc-85e7-06626ed37552",
   "metadata": {},
   "source": [
    "Use it to fit a polynomial model!  Modify X by making only one column, then append another column that is the first column squared.  \n",
    "Plot the line (it should look curvy).  How did Pingouin do?"
   ]
  },
  {
   "cell_type": "code",
   "execution_count": null,
   "id": "92c4ca91-c56f-480c-bf78-c8088b66f967",
   "metadata": {},
   "outputs": [],
   "source": []
  },
  {
   "cell_type": "markdown",
   "id": "755428b1-472b-438e-8a7b-3c3b5f4fea62",
   "metadata": {},
   "source": [
    "**Linear Regression on Real data**\n",
    "\n",
    "Let's fit some outside data!  Here's a dataset containing records of tips and customers from one waiter in a restaurant"
   ]
  },
  {
   "cell_type": "code",
   "execution_count": 67,
   "id": "020abce8-dffc-43b0-bc07-930b081bb751",
   "metadata": {},
   "outputs": [
    {
     "data": {
      "text/html": [
       "<div>\n",
       "<style scoped>\n",
       "    .dataframe tbody tr th:only-of-type {\n",
       "        vertical-align: middle;\n",
       "    }\n",
       "\n",
       "    .dataframe tbody tr th {\n",
       "        vertical-align: top;\n",
       "    }\n",
       "\n",
       "    .dataframe thead th {\n",
       "        text-align: right;\n",
       "    }\n",
       "</style>\n",
       "<table border=\"1\" class=\"dataframe\">\n",
       "  <thead>\n",
       "    <tr style=\"text-align: right;\">\n",
       "      <th></th>\n",
       "      <th>total_bill</th>\n",
       "      <th>tip</th>\n",
       "      <th>sex</th>\n",
       "      <th>smoker</th>\n",
       "      <th>day</th>\n",
       "      <th>time</th>\n",
       "      <th>size</th>\n",
       "    </tr>\n",
       "  </thead>\n",
       "  <tbody>\n",
       "    <tr>\n",
       "      <th>0</th>\n",
       "      <td>16.99</td>\n",
       "      <td>1.01</td>\n",
       "      <td>Female</td>\n",
       "      <td>No</td>\n",
       "      <td>Sun</td>\n",
       "      <td>Dinner</td>\n",
       "      <td>2</td>\n",
       "    </tr>\n",
       "    <tr>\n",
       "      <th>1</th>\n",
       "      <td>10.34</td>\n",
       "      <td>1.66</td>\n",
       "      <td>Male</td>\n",
       "      <td>No</td>\n",
       "      <td>Sun</td>\n",
       "      <td>Dinner</td>\n",
       "      <td>3</td>\n",
       "    </tr>\n",
       "    <tr>\n",
       "      <th>2</th>\n",
       "      <td>21.01</td>\n",
       "      <td>3.50</td>\n",
       "      <td>Male</td>\n",
       "      <td>No</td>\n",
       "      <td>Sun</td>\n",
       "      <td>Dinner</td>\n",
       "      <td>3</td>\n",
       "    </tr>\n",
       "    <tr>\n",
       "      <th>3</th>\n",
       "      <td>23.68</td>\n",
       "      <td>3.31</td>\n",
       "      <td>Male</td>\n",
       "      <td>No</td>\n",
       "      <td>Sun</td>\n",
       "      <td>Dinner</td>\n",
       "      <td>2</td>\n",
       "    </tr>\n",
       "    <tr>\n",
       "      <th>4</th>\n",
       "      <td>24.59</td>\n",
       "      <td>3.61</td>\n",
       "      <td>Female</td>\n",
       "      <td>No</td>\n",
       "      <td>Sun</td>\n",
       "      <td>Dinner</td>\n",
       "      <td>4</td>\n",
       "    </tr>\n",
       "  </tbody>\n",
       "</table>\n",
       "</div>"
      ],
      "text/plain": [
       "   total_bill   tip     sex smoker  day    time  size\n",
       "0       16.99  1.01  Female     No  Sun  Dinner     2\n",
       "1       10.34  1.66    Male     No  Sun  Dinner     3\n",
       "2       21.01  3.50    Male     No  Sun  Dinner     3\n",
       "3       23.68  3.31    Male     No  Sun  Dinner     2\n",
       "4       24.59  3.61  Female     No  Sun  Dinner     4"
      ]
     },
     "execution_count": 67,
     "metadata": {},
     "output_type": "execute_result"
    }
   ],
   "source": [
    "from pingouin.datasets import read_dataset\n",
    "tips = read_dataset('tips')\n",
    "tips.head()"
   ]
  },
  {
   "cell_type": "markdown",
   "id": "4bbd8720-f15a-4392-8d1c-8d40bdd4e279",
   "metadata": {},
   "source": [
    "How did the total_bill correlate with the tip?"
   ]
  },
  {
   "cell_type": "code",
   "execution_count": null,
   "id": "a8b5b867-457f-4e6f-b6a9-aaf243545b6b",
   "metadata": {},
   "outputs": [],
   "source": []
  },
  {
   "cell_type": "markdown",
   "id": "ccbf3912-c727-4188-bd04-5ed0ca2fe5a9",
   "metadata": {},
   "source": [
    "How did the size of the table correlate with the total bill?"
   ]
  },
  {
   "cell_type": "code",
   "execution_count": null,
   "id": "642b6758-0ec6-4949-9cfd-b82ca1e327a5",
   "metadata": {},
   "outputs": [],
   "source": []
  },
  {
   "cell_type": "markdown",
   "id": "e1508e01-cd79-4219-b589-8985f84ce675",
   "metadata": {},
   "source": [
    "Is there a polynomial relationship between total_bill and tip?  \n",
    "Add in a total_bill_squared column and regress both the total_bill and the squared with the tip."
   ]
  },
  {
   "cell_type": "code",
   "execution_count": null,
   "id": "f84a438f-34fb-4c39-ac1f-12eb2b0f7564",
   "metadata": {},
   "outputs": [],
   "source": []
  },
  {
   "cell_type": "markdown",
   "id": "07ae0366-af8a-481a-b40b-13aa392947cc",
   "metadata": {},
   "source": [
    "Now let's add in the size of the table and compare all three variables!  "
   ]
  },
  {
   "cell_type": "code",
   "execution_count": null,
   "id": "8cd7d696-025a-4bdd-9976-38c99bc43def",
   "metadata": {},
   "outputs": [],
   "source": []
  },
  {
   "cell_type": "markdown",
   "id": "abe21f4c-d827-4669-91d9-490b01babe0c",
   "metadata": {},
   "source": [
    "How about adding in qualitative data?  Let's try doing it with total_bill and smoker.\n",
    "How is it getting results, what's happening here?"
   ]
  },
  {
   "cell_type": "code",
   "execution_count": null,
   "id": "8a6e3373-1377-4249-abcc-05c63a4543f0",
   "metadata": {},
   "outputs": [],
   "source": []
  },
  {
   "cell_type": "markdown",
   "id": "62c11a15-196c-4d4c-9306-473319505e3c",
   "metadata": {
    "tags": []
   },
   "source": [
    "## Fitting Data with Statsmodels\n",
    "\n",
    "Some terminology from Statsmodels:\n",
    "\n",
    "  - [**exog**](https://www.statsmodels.org/stable/endog_exog.html#endog-exog--page-root): (`y`) The output data collected from a model: Always one-dimensional\n",
    "  - [**endog**](https://www.statsmodels.org/stable/endog_exog.html#endog-exog--page-root): (`X`) The input data a model: Always two-dimensional, with each column representing a different variable\n",
    "  - [**constant**]: A value of 1\n",
    "  - [**family**]: The family of stastical distributions that determine the error of the model.\n",
    "  \n",
    "  \n",
    "In this section, we'll practice fitting data to the GLM using the Statsmodels package!  \n",
    "\n",
    "Take a look at this example from the statsmodels docs, and use it as the template code to do the exercises below: \n",
    "\n",
    "**https://www.statsmodels.org/stable/glm.html#examples**"
   ]
  },
  {
   "cell_type": "markdown",
   "id": "613979c9-5e95-46cf-857f-36a22e9966c1",
   "metadata": {},
   "source": [
    "**Exercises** Let's do the same thing we did with Pinguoin, but this time with Statsmodels."
   ]
  },
  {
   "cell_type": "code",
   "execution_count": 147,
   "id": "62f44ce5-b5c8-439e-aa85-d26ffb41ebbf",
   "metadata": {},
   "outputs": [],
   "source": [
    "def generate_glm(X, *coeffs, e=stats.norm(0, 1)):\n",
    "    \"\"\"Generates GLM data (backup function)\"\"\"\n",
    "    return np.sum(X * coeffs, axis=1) + e.rvs(len(X))\n",
    "\n",
    "\n",
    "X = np.random.uniform(-5, 5, size=(50, 2))\n",
    "generate_data2(X, 3, 4, e=stats.norm(0, 1));"
   ]
  },
  {
   "cell_type": "markdown",
   "id": "a21acccd-36ec-4ab3-95c5-2ad0387e2935",
   "metadata": {},
   "source": [
    "Use your data generator to make a line with a slope of 5 and an intercept of -10 on 30 points of data. Plot the line, and have statsmodels fit it. Was it a good fit?"
   ]
  },
  {
   "cell_type": "code",
   "execution_count": 139,
   "id": "3d88d20e-8d87-4f05-b48f-24c17779836e",
   "metadata": {},
   "outputs": [
    {
     "data": {
      "text/plain": [
       "(50, 2)"
      ]
     },
     "execution_count": 139,
     "metadata": {},
     "output_type": "execute_result"
    }
   ],
   "source": []
  },
  {
   "cell_type": "markdown",
   "id": "d3bf73f8-0e78-4dc0-a49d-3980f4fa09c3",
   "metadata": {},
   "source": [
    "Do the same, but this time with only 10 points of data.  How did the fit change?"
   ]
  },
  {
   "cell_type": "code",
   "execution_count": null,
   "id": "d45e113a-4c2e-454c-8016-0e413e372a37",
   "metadata": {},
   "outputs": [],
   "source": []
  },
  {
   "cell_type": "markdown",
   "id": "5e137102-aa16-4ee3-bb6e-21f0e3843f14",
   "metadata": {},
   "source": [
    "Do the same, but this time with only 10 points of data and an error sd of 3.  How did the fit change?"
   ]
  },
  {
   "cell_type": "code",
   "execution_count": null,
   "id": "f7b72fb5-6bab-4ccb-871c-4e677cd5f5f3",
   "metadata": {},
   "outputs": [],
   "source": []
  },
  {
   "cell_type": "markdown",
   "id": "464da961-47a3-4fec-b18f-3853e25cd0d7",
   "metadata": {},
   "source": [
    "This time, let's make a 2D model!  Make a 2D 30x2 matrix and pick slopes for each column and an intercept. Have statsmodels fit it. Was it a good fit?"
   ]
  },
  {
   "cell_type": "code",
   "execution_count": null,
   "id": "7f21a355-773e-4133-bb25-9df5f1135c25",
   "metadata": {},
   "outputs": [],
   "source": []
  },
  {
   "cell_type": "markdown",
   "id": "c4463e9c-77c5-4682-b4d9-49a87f2df419",
   "metadata": {},
   "source": [
    "Use it to fit a polynomial model!  Modify X by making only one column, then append another column that is the first column squared.  \n",
    "Plot the line (it should look curvy).  How did Pingouin do?"
   ]
  },
  {
   "cell_type": "code",
   "execution_count": null,
   "id": "49a78a07-3584-4017-a6fa-62ea30c50329",
   "metadata": {},
   "outputs": [],
   "source": []
  },
  {
   "cell_type": "markdown",
   "id": "bb31c198-32ce-48c6-8e80-c69bf17514e8",
   "metadata": {},
   "source": [
    "** Linear Regression on Real data **\n",
    "Let's fit some outside data!  Here's a dataset containing records of tips and customers from one waiter in a restaurant"
   ]
  },
  {
   "cell_type": "code",
   "execution_count": 68,
   "id": "acec47f7-9207-4fd4-ba5c-aa066ab57792",
   "metadata": {},
   "outputs": [
    {
     "data": {
      "text/html": [
       "<div>\n",
       "<style scoped>\n",
       "    .dataframe tbody tr th:only-of-type {\n",
       "        vertical-align: middle;\n",
       "    }\n",
       "\n",
       "    .dataframe tbody tr th {\n",
       "        vertical-align: top;\n",
       "    }\n",
       "\n",
       "    .dataframe thead th {\n",
       "        text-align: right;\n",
       "    }\n",
       "</style>\n",
       "<table border=\"1\" class=\"dataframe\">\n",
       "  <thead>\n",
       "    <tr style=\"text-align: right;\">\n",
       "      <th></th>\n",
       "      <th>total_bill</th>\n",
       "      <th>tip</th>\n",
       "      <th>sex</th>\n",
       "      <th>smoker</th>\n",
       "      <th>day</th>\n",
       "      <th>time</th>\n",
       "      <th>size</th>\n",
       "    </tr>\n",
       "  </thead>\n",
       "  <tbody>\n",
       "    <tr>\n",
       "      <th>0</th>\n",
       "      <td>16.99</td>\n",
       "      <td>1.01</td>\n",
       "      <td>Female</td>\n",
       "      <td>No</td>\n",
       "      <td>Sun</td>\n",
       "      <td>Dinner</td>\n",
       "      <td>2</td>\n",
       "    </tr>\n",
       "    <tr>\n",
       "      <th>1</th>\n",
       "      <td>10.34</td>\n",
       "      <td>1.66</td>\n",
       "      <td>Male</td>\n",
       "      <td>No</td>\n",
       "      <td>Sun</td>\n",
       "      <td>Dinner</td>\n",
       "      <td>3</td>\n",
       "    </tr>\n",
       "    <tr>\n",
       "      <th>2</th>\n",
       "      <td>21.01</td>\n",
       "      <td>3.50</td>\n",
       "      <td>Male</td>\n",
       "      <td>No</td>\n",
       "      <td>Sun</td>\n",
       "      <td>Dinner</td>\n",
       "      <td>3</td>\n",
       "    </tr>\n",
       "    <tr>\n",
       "      <th>3</th>\n",
       "      <td>23.68</td>\n",
       "      <td>3.31</td>\n",
       "      <td>Male</td>\n",
       "      <td>No</td>\n",
       "      <td>Sun</td>\n",
       "      <td>Dinner</td>\n",
       "      <td>2</td>\n",
       "    </tr>\n",
       "    <tr>\n",
       "      <th>4</th>\n",
       "      <td>24.59</td>\n",
       "      <td>3.61</td>\n",
       "      <td>Female</td>\n",
       "      <td>No</td>\n",
       "      <td>Sun</td>\n",
       "      <td>Dinner</td>\n",
       "      <td>4</td>\n",
       "    </tr>\n",
       "  </tbody>\n",
       "</table>\n",
       "</div>"
      ],
      "text/plain": [
       "   total_bill   tip     sex smoker  day    time  size\n",
       "0       16.99  1.01  Female     No  Sun  Dinner     2\n",
       "1       10.34  1.66    Male     No  Sun  Dinner     3\n",
       "2       21.01  3.50    Male     No  Sun  Dinner     3\n",
       "3       23.68  3.31    Male     No  Sun  Dinner     2\n",
       "4       24.59  3.61  Female     No  Sun  Dinner     4"
      ]
     },
     "execution_count": 68,
     "metadata": {},
     "output_type": "execute_result"
    }
   ],
   "source": [
    "from pingouin.datasets import read_dataset\n",
    "tips = read_dataset('tips')\n",
    "tips.head()"
   ]
  },
  {
   "cell_type": "markdown",
   "id": "d759cb31-ce31-4775-831e-602d5a277540",
   "metadata": {},
   "source": [
    "How did the total_bill correlate with the tip?"
   ]
  },
  {
   "cell_type": "code",
   "execution_count": 88,
   "id": "19616b3a-82e3-480c-a9ae-0b4519a4d6cf",
   "metadata": {},
   "outputs": [],
   "source": [
    "import statsmodels.api as sm\n",
    "import statsmodels.formula.api as smf"
   ]
  },
  {
   "cell_type": "code",
   "execution_count": 91,
   "id": "d53df6d9-d1e8-4d99-9c7e-02de2828d145",
   "metadata": {},
   "outputs": [
    {
     "data": {
      "text/html": [
       "<div>\n",
       "<style scoped>\n",
       "    .dataframe tbody tr th:only-of-type {\n",
       "        vertical-align: middle;\n",
       "    }\n",
       "\n",
       "    .dataframe tbody tr th {\n",
       "        vertical-align: top;\n",
       "    }\n",
       "\n",
       "    .dataframe thead th {\n",
       "        text-align: right;\n",
       "    }\n",
       "</style>\n",
       "<table border=\"1\" class=\"dataframe\">\n",
       "  <thead>\n",
       "    <tr style=\"text-align: right;\">\n",
       "      <th></th>\n",
       "      <th>total_bill</th>\n",
       "      <th>tip</th>\n",
       "      <th>sex</th>\n",
       "      <th>smoker</th>\n",
       "      <th>day</th>\n",
       "      <th>time</th>\n",
       "      <th>size</th>\n",
       "    </tr>\n",
       "  </thead>\n",
       "  <tbody>\n",
       "    <tr>\n",
       "      <th>0</th>\n",
       "      <td>16.99</td>\n",
       "      <td>1.01</td>\n",
       "      <td>Female</td>\n",
       "      <td>No</td>\n",
       "      <td>Sun</td>\n",
       "      <td>Dinner</td>\n",
       "      <td>2</td>\n",
       "    </tr>\n",
       "    <tr>\n",
       "      <th>1</th>\n",
       "      <td>10.34</td>\n",
       "      <td>1.66</td>\n",
       "      <td>Male</td>\n",
       "      <td>No</td>\n",
       "      <td>Sun</td>\n",
       "      <td>Dinner</td>\n",
       "      <td>3</td>\n",
       "    </tr>\n",
       "    <tr>\n",
       "      <th>2</th>\n",
       "      <td>21.01</td>\n",
       "      <td>3.50</td>\n",
       "      <td>Male</td>\n",
       "      <td>No</td>\n",
       "      <td>Sun</td>\n",
       "      <td>Dinner</td>\n",
       "      <td>3</td>\n",
       "    </tr>\n",
       "    <tr>\n",
       "      <th>3</th>\n",
       "      <td>23.68</td>\n",
       "      <td>3.31</td>\n",
       "      <td>Male</td>\n",
       "      <td>No</td>\n",
       "      <td>Sun</td>\n",
       "      <td>Dinner</td>\n",
       "      <td>2</td>\n",
       "    </tr>\n",
       "    <tr>\n",
       "      <th>4</th>\n",
       "      <td>24.59</td>\n",
       "      <td>3.61</td>\n",
       "      <td>Female</td>\n",
       "      <td>No</td>\n",
       "      <td>Sun</td>\n",
       "      <td>Dinner</td>\n",
       "      <td>4</td>\n",
       "    </tr>\n",
       "  </tbody>\n",
       "</table>\n",
       "</div>"
      ],
      "text/plain": [
       "   total_bill   tip     sex smoker  day    time  size\n",
       "0       16.99  1.01  Female     No  Sun  Dinner     2\n",
       "1       10.34  1.66    Male     No  Sun  Dinner     3\n",
       "2       21.01  3.50    Male     No  Sun  Dinner     3\n",
       "3       23.68  3.31    Male     No  Sun  Dinner     2\n",
       "4       24.59  3.61  Female     No  Sun  Dinner     4"
      ]
     },
     "execution_count": 91,
     "metadata": {},
     "output_type": "execute_result"
    }
   ],
   "source": [
    "tips.head()"
   ]
  },
  {
   "cell_type": "markdown",
   "id": "8275213a-5320-4cc8-97b5-3437022a4492",
   "metadata": {},
   "source": [
    "How did the size of the table correlate with the total bill?"
   ]
  },
  {
   "cell_type": "code",
   "execution_count": null,
   "id": "98ba0a21-d117-4300-a407-4d4652036dbd",
   "metadata": {},
   "outputs": [],
   "source": []
  },
  {
   "cell_type": "markdown",
   "id": "e7ab74b2-16a5-45f4-8098-45e070c6eeae",
   "metadata": {},
   "source": [
    "Is there a polynomial relationship between total_bill and tip?  \n",
    "Add in a total_bill_squared column and regress both the total_bill and the squared with the tip."
   ]
  },
  {
   "cell_type": "code",
   "execution_count": null,
   "id": "41a49cd7-9f9d-46b5-916a-c0b5495bd5ef",
   "metadata": {},
   "outputs": [],
   "source": []
  },
  {
   "cell_type": "markdown",
   "id": "8c0bee70-f037-4754-b23f-e5b69b83f09b",
   "metadata": {},
   "source": [
    "Now let's add in the size of the table and compare all three variables!  "
   ]
  },
  {
   "cell_type": "code",
   "execution_count": null,
   "id": "4d52ded1-7d37-4bc8-bb54-1d103af997ae",
   "metadata": {},
   "outputs": [],
   "source": []
  },
  {
   "cell_type": "markdown",
   "id": "91861003-8e03-416e-995d-f5d55bebd1a4",
   "metadata": {},
   "source": [
    "How about adding in qualitative data?  Let's try doing it with total_bill and smoker.\n",
    "How is it getting results, what's happening here?"
   ]
  },
  {
   "cell_type": "code",
   "execution_count": null,
   "id": "0dcf0dab-52c6-4669-8c10-e33fb251ad89",
   "metadata": {},
   "outputs": [],
   "source": []
  }
 ],
 "metadata": {
  "kernelspec": {
   "display_name": "Python 3",
   "language": "python",
   "name": "python3"
  },
  "language_info": {
   "codemirror_mode": {
    "name": "ipython",
    "version": 3
   },
   "file_extension": ".py",
   "mimetype": "text/x-python",
   "name": "python",
   "nbconvert_exporter": "python",
   "pygments_lexer": "ipython3",
   "version": "3.9.12"
  },
  "vscode": {
   "interpreter": {
    "hash": "4053583a5b94002d654b899144bd46215da5e37064ba71140a4b7387da73a050"
   }
  }
 },
 "nbformat": 4,
 "nbformat_minor": 5
}
