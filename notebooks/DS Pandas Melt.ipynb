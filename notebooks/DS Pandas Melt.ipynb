{
 "cells": [
  {
   "cell_type": "code",
   "execution_count": null,
   "id": "e5f6e3e9-ae4c-40ad-be22-1b2b17b27391",
   "metadata": {},
   "outputs": [],
   "source": []
  },
  {
   "cell_type": "markdown",
   "id": "a79396f1-dec9-456e-8735-4ff2232f3366",
   "metadata": {
    "cell_id": "00055-434487ea-e4b0-469d-ade2-85a853d99bce",
    "deepnote_cell_type": "markdown"
   },
   "source": [
    "## Melts\n",
    "\n",
    "The `pd.melt()` function and `DataFrame.melt()` method take a single dataframe and make it **taller** by taking data stored in column names and putting it into the rows along with the rest of the data, adding extra metadata in the process.\n",
    "\n",
    "For example, it can turn this `df` DataFrame:\n",
    "\n",
    "| Month | Year | Monday | Tuesday | Wednesday |\n",
    "| :--:  | :--: | :--:   | :--:    | :--:      |\n",
    "| January | 2021 | 0 | -2 | -1 |\n",
    "| February | 2021 | 2 | 4 | -2 |\n",
    "\n",
    "into this:\n",
    "\n",
    "| Month | Year | Weekday | Temperature |\n",
    "| :--:  | :--: | :--:    |  :--:       |\n",
    "| January | 2021 | Monday | 0 |\n",
    "| January | 2021 | Tuesday | -2 |\n",
    "| January | 2021 | Wednesday | -1 |\n",
    "| February | 2021 | Monday | 2 |\n",
    "| February | 2021 | Tuesday | 4 | \n",
    "| February | 2021 | Wednesday | -2 |\n",
    "\n",
    "with one line of code:\n",
    "\n",
    "```python\n",
    "pd.melt(\n",
    "    df, \n",
    "    id_vars=['Month', 'Year'],  # The columns that should stay the same\n",
    "    value_vars=['Monday', 'Tuesday', 'Wednesday'],   # The columns that should melt\n",
    "    var_name='Weekday',  # The new Column that will represent the melted column name's variable\n",
    "    value_name='Temperature'  # The new Column that the data represents\n",
    ")\n",
    "```\n",
    "\n",
    "**Note**: Melting a dataframe also called *\"tidying\"* data, making a *\"long\"* dataframe from a *\"wide\"* dataframe, or building a *design matrix*"
   ]
  },
  {
   "cell_type": "markdown",
   "id": "0e3ae774-e979-424f-a70a-4de5e3070c5f",
   "metadata": {
    "cell_id": "00056-a9d6d0a9-ce56-40e2-b3f3-e0d5272d7d2b",
    "deepnote_cell_type": "markdown"
   },
   "source": [
    "#### Exercises\n",
    "\n",
    "Let's practice tidying dataframes with the `pd.melt()` function. "
   ]
  },
  {
   "cell_type": "code",
   "execution_count": 16,
   "id": "ebd27db5-5297-4b42-bcbb-cf6bf03a01ec",
   "metadata": {},
   "outputs": [
    {
     "data": {
      "text/html": [
       "<div>\n",
       "<style scoped>\n",
       "    .dataframe tbody tr th:only-of-type {\n",
       "        vertical-align: middle;\n",
       "    }\n",
       "\n",
       "    .dataframe tbody tr th {\n",
       "        vertical-align: top;\n",
       "    }\n",
       "\n",
       "    .dataframe thead th {\n",
       "        text-align: right;\n",
       "    }\n",
       "</style>\n",
       "<table border=\"1\" class=\"dataframe\">\n",
       "  <thead>\n",
       "    <tr style=\"text-align: right;\">\n",
       "      <th></th>\n",
       "      <th>Country Name</th>\n",
       "      <th>Country Code</th>\n",
       "      <th>1960</th>\n",
       "      <th>1970</th>\n",
       "      <th>1980</th>\n",
       "      <th>1990</th>\n",
       "      <th>2000</th>\n",
       "    </tr>\n",
       "  </thead>\n",
       "  <tbody>\n",
       "    <tr>\n",
       "      <th>0</th>\n",
       "      <td>Congo, Rep.</td>\n",
       "      <td>COG</td>\n",
       "      <td>5.880</td>\n",
       "      <td>6.259</td>\n",
       "      <td>6.178</td>\n",
       "      <td>5.347</td>\n",
       "      <td>5.134</td>\n",
       "    </tr>\n",
       "    <tr>\n",
       "      <th>1</th>\n",
       "      <td>Sint Maarten (Dutch part)</td>\n",
       "      <td>SXM</td>\n",
       "      <td>NaN</td>\n",
       "      <td>NaN</td>\n",
       "      <td>NaN</td>\n",
       "      <td>NaN</td>\n",
       "      <td>NaN</td>\n",
       "    </tr>\n",
       "    <tr>\n",
       "      <th>2</th>\n",
       "      <td>Switzerland</td>\n",
       "      <td>CHE</td>\n",
       "      <td>2.336</td>\n",
       "      <td>2.087</td>\n",
       "      <td>1.550</td>\n",
       "      <td>1.590</td>\n",
       "      <td>1.500</td>\n",
       "    </tr>\n",
       "    <tr>\n",
       "      <th>3</th>\n",
       "      <td>Belarus</td>\n",
       "      <td>BLR</td>\n",
       "      <td>2.670</td>\n",
       "      <td>2.310</td>\n",
       "      <td>2.030</td>\n",
       "      <td>1.910</td>\n",
       "      <td>1.310</td>\n",
       "    </tr>\n",
       "    <tr>\n",
       "      <th>4</th>\n",
       "      <td>Equatorial Guinea</td>\n",
       "      <td>GNQ</td>\n",
       "      <td>5.505</td>\n",
       "      <td>5.678</td>\n",
       "      <td>5.728</td>\n",
       "      <td>5.900</td>\n",
       "      <td>5.773</td>\n",
       "    </tr>\n",
       "  </tbody>\n",
       "</table>\n",
       "</div>"
      ],
      "text/plain": [
       "                Country Name Country Code   1960   1970   1980   1990   2000\n",
       "0                Congo, Rep.          COG  5.880  6.259  6.178  5.347  5.134\n",
       "1  Sint Maarten (Dutch part)          SXM    NaN    NaN    NaN    NaN    NaN\n",
       "2                Switzerland          CHE  2.336  2.087  1.550  1.590  1.500\n",
       "3                    Belarus          BLR  2.670  2.310  2.030  1.910  1.310\n",
       "4          Equatorial Guinea          GNQ  5.505  5.678  5.728  5.900  5.773"
      ]
     },
     "execution_count": 16,
     "metadata": {},
     "output_type": "execute_result"
    }
   ],
   "source": [
    "df = (\n",
    "    pd.read_csv('https://raw.githubusercontent.com/nickdelgrosso/CodeTeachingMaterials/main/datasets/worldbankdata.csv')\n",
    "    .get(['Country Name', 'Country Code', '1960', '1970', '1980', '1990', '2000'])\n",
    "    .sample(10)\n",
    "    .reset_index(drop=True)\n",
    ")\n",
    "df.head()"
   ]
  },
  {
   "cell_type": "markdown",
   "id": "beec233f-7c69-4b02-b8e4-e6125fdf6974",
   "metadata": {},
   "source": [
    "Melt this dataset so it has four columns: \"Country Name\", \"Country Code\", \"Year\", and \"Fertility Rate\""
   ]
  },
  {
   "cell_type": "code",
   "execution_count": null,
   "id": "e42dc359-4b4c-412a-a7f3-d9b9da9524ef",
   "metadata": {},
   "outputs": [],
   "source": []
  },
  {
   "cell_type": "markdown",
   "id": "5261d2ce-adf6-4216-8bdd-4e21e0169974",
   "metadata": {
    "cell_id": "00040-432a9aa8-8828-443e-8c3d-8816137d82e7",
    "deepnote_cell_type": "markdown"
   },
   "source": [
    "## Regularizing, Splitting Text Data\n",
    "\n",
    "Oftentimes, string data contains multiple pieces of data inside it, split with a seperator character.  With it, you can turn a DataFrame from this:\n",
    "\n",
    "| line |\n",
    "| :--: |\n",
    "| hi_1 |\n",
    "| bye_2|\n",
    "\n",
    "into this:\n",
    "\n",
    "| line | msg | num |\n",
    "| :--: | :--: | :--: |\n",
    "| hi_1 | hi | 1 |\n",
    "| bye_2| bye | 2 |\n",
    "\n",
    "using a single line:\n",
    "\n",
    "```python\n",
    "df[['msg', 'num']] = df['line'].str.split('_', expand=True)\n",
    "```\n",
    "\n",
    "\n",
    "Let's try it out!"
   ]
  },
  {
   "cell_type": "code",
   "execution_count": 2,
   "id": "e5f9081c-fd49-4ced-aa15-a4ec32005e79",
   "metadata": {
    "cell_id": "00041-bf694086-2c7b-4897-8448-1a92da09bfdf",
    "deepnote_cell_type": "code"
   },
   "outputs": [
    {
     "data": {
      "text/html": [
       "<div>\n",
       "<style scoped>\n",
       "    .dataframe tbody tr th:only-of-type {\n",
       "        vertical-align: middle;\n",
       "    }\n",
       "\n",
       "    .dataframe tbody tr th {\n",
       "        vertical-align: top;\n",
       "    }\n",
       "\n",
       "    .dataframe thead th {\n",
       "        text-align: right;\n",
       "    }\n",
       "</style>\n",
       "<table border=\"1\" class=\"dataframe\">\n",
       "  <thead>\n",
       "    <tr style=\"text-align: right;\">\n",
       "      <th></th>\n",
       "      <th>counts_XADD</th>\n",
       "      <th>intensities_JJAKX</th>\n",
       "    </tr>\n",
       "  </thead>\n",
       "  <tbody>\n",
       "    <tr>\n",
       "      <th>0</th>\n",
       "      <td>1;3;5</td>\n",
       "      <td>5_32_654</td>\n",
       "    </tr>\n",
       "    <tr>\n",
       "      <th>1</th>\n",
       "      <td>10;2;6</td>\n",
       "      <td>10_1_99</td>\n",
       "    </tr>\n",
       "  </tbody>\n",
       "</table>\n",
       "</div>"
      ],
      "text/plain": [
       "  counts_XADD intensities_JJAKX\n",
       "0       1;3;5          5_32_654\n",
       "1      10;2;6           10_1_99"
      ]
     },
     "execution_count": 2,
     "metadata": {},
     "output_type": "execute_result"
    }
   ],
   "source": [
    "df = pd.DataFrame({\n",
    "    'counts_XADD': [\"1;3;5\", \"10;2;6\"],\n",
    "    'intensities_JJAKX': ['5_32_654', \"10_1_99\"],\n",
    "})\n",
    "df"
   ]
  },
  {
   "cell_type": "markdown",
   "id": "7efc113d-00e3-4e75-b62c-483424b43ef2",
   "metadata": {
    "cell_id": "00042-84a7c0a7-744f-4ccb-9cfe-778f5f721bf3",
    "deepnote_cell_type": "markdown"
   },
   "source": [
    "Rename the columns to just keep the the names before the underscore"
   ]
  },
  {
   "cell_type": "code",
   "execution_count": null,
   "id": "8fa9114f-a8dc-4234-925b-979d97ec47b6",
   "metadata": {
    "cell_id": "00043-aa23e939-6ea6-4b0c-8cb7-f8a08eaf81a1",
    "deepnote_cell_type": "code",
    "tags": [
     "exercise"
    ]
   },
   "outputs": [],
   "source": [
    " "
   ]
  },
  {
   "cell_type": "markdown",
   "id": "0df006fa-c540-4166-9c03-65a4c8e57d37",
   "metadata": {
    "cell_id": "00044-0df626f6-c52f-4360-9611-d3e27835774b",
    "deepnote_cell_type": "markdown"
   },
   "source": [
    "Split the Counts into Counts_1, Counts_2, and Counts_3"
   ]
  },
  {
   "cell_type": "code",
   "execution_count": null,
   "id": "ed9e2137-2c84-45ac-88e1-a8c2ecfadd32",
   "metadata": {
    "cell_id": "00045-c54e2a66-0189-4d82-a597-cb33043a8869",
    "deepnote_cell_type": "code",
    "tags": [
     "exercise"
    ]
   },
   "outputs": [],
   "source": []
  },
  {
   "cell_type": "markdown",
   "id": "da73feec-8184-4d4c-950e-1163c1cba522",
   "metadata": {
    "cell_id": "00046-8dc23cd5-e362-4e03-bcec-82a98037c5d9",
    "deepnote_cell_type": "markdown"
   },
   "source": [
    "Split the Intensities into Intensities_1, Intensities_2, and Intensities_3"
   ]
  },
  {
   "cell_type": "code",
   "execution_count": null,
   "id": "864717c4-1f44-4747-87b6-0bf64bdb9252",
   "metadata": {
    "cell_id": "00047-5dbca929-23c4-429e-8d2d-abb7db28b3fa",
    "deepnote_cell_type": "code",
    "tags": [
     "exercise"
    ]
   },
   "outputs": [],
   "source": []
  }
 ],
 "metadata": {
  "kernelspec": {
   "display_name": "Python 3",
   "language": "python",
   "name": "python3"
  },
  "language_info": {
   "codemirror_mode": {
    "name": "ipython",
    "version": 3
   },
   "file_extension": ".py",
   "mimetype": "text/x-python",
   "name": "python",
   "nbconvert_exporter": "python",
   "pygments_lexer": "ipython3",
   "version": "3.9.12"
  }
 },
 "nbformat": 4,
 "nbformat_minor": 5
}
