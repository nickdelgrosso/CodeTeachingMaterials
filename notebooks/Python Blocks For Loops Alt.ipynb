{
 "cells": [
  {
   "cell_type": "markdown",
   "metadata": {
    "cell_id": "bec9f153ad8e47699213fd7c562f809b",
    "deepnote_cell_type": "markdown",
    "tags": []
   },
   "source": [
    "# Loops: Describing How to Repeat Steps in a Program"
   ]
  },
  {
   "cell_type": "markdown",
   "metadata": {
    "cell_id": "0852b61b0d7145dd8bc6743adeaf17e7",
    "deepnote_cell_type": "markdown",
    "tags": []
   },
   "source": [
    "## For Loops:\n",
    "\n",
    "Like R and Matlab, Python makes it straightford repeat commands \"For-Each\" element in a data collection.  For example, to print each element in a list:\n",
    "\n",
    "```python\n",
    "names = ['Ted', 'Roy', 'Keeley']\n",
    "for name in names:\n",
    "   print(name)\n",
    "# prints \"Ted\" then \"Roy\" then \"Keeley\"\n",
    "```\n",
    ".\n",
    "\n"
   ]
  },
  {
   "cell_type": "markdown",
   "metadata": {
    "cell_id": "6101c7075eab48b6b9acc84659f964d6",
    "deepnote_cell_type": "markdown",
    "tags": []
   },
   "source": [
    "**Exercises**"
   ]
  },
  {
   "cell_type": "markdown",
   "metadata": {
    "cell_id": "f36026b498df4e9bac7a03385cf02cdc",
    "deepnote_cell_type": "markdown",
    "tags": []
   },
   "source": [
    "Print 10 times each number in the list \n",
    "For example, `[2, 4]` should print `20` then `40`."
   ]
  },
  {
   "cell_type": "code",
   "execution_count": null,
   "metadata": {
    "cell_id": "aed350ed338e4220bfdba5d196f7f151",
    "deepnote_cell_type": "code",
    "deepnote_to_be_reexecuted": false,
    "execution_millis": 11,
    "execution_start": 1634192534154,
    "source_hash": "5b10538f",
    "tags": []
   },
   "outputs": [],
   "source": [
    "nums = [4, 8, 10, 5]"
   ]
  },
  {
   "cell_type": "markdown",
   "metadata": {
    "cell_id": "7799d90a3139445e90f8ee16ba5cdd1e",
    "deepnote_cell_type": "markdown",
    "tags": []
   },
   "source": [
    "Print the first letter of each name in the list"
   ]
  },
  {
   "cell_type": "code",
   "execution_count": null,
   "metadata": {
    "cell_id": "d65886bb072642d6814e96be5b397824",
    "deepnote_cell_type": "code",
    "deepnote_to_be_reexecuted": false,
    "execution_millis": 3,
    "execution_start": 1634192558128,
    "source_hash": "3d0d6b91",
    "tags": []
   },
   "outputs": [],
   "source": [
    "names = [\"John\", \"Harry\", \"Moe\", \"Luke\"]"
   ]
  },
  {
   "cell_type": "markdown",
   "metadata": {
    "cell_id": "3b01332a180b4d21ad109f25baf7596d",
    "deepnote_cell_type": "markdown",
    "tags": []
   },
   "source": [
    "Print the file extension of each file in the list\n",
    "\n",
    "*Hint*: the pathlib.Path class is useful for this"
   ]
  },
  {
   "cell_type": "code",
   "execution_count": null,
   "metadata": {
    "cell_id": "0bfab32a9ed94c00b6a0846439b50951",
    "deepnote_cell_type": "code",
    "deepnote_to_be_reexecuted": false,
    "execution_millis": 4,
    "execution_start": 1634192751322,
    "source_hash": "8b821e2c",
    "tags": []
   },
   "outputs": [],
   "source": [
    "filenames = ['virus.fasta', 'birthday.jpg', 'hospital.csv', 'letter.pdf']\n"
   ]
  },
  {
   "cell_type": "markdown",
   "metadata": {
    "cell_id": "2dd2683cba664bbf927f9d8e76b83618",
    "deepnote_cell_type": "markdown",
    "tags": []
   },
   "source": [
    "## List-Append Loop Pattern"
   ]
  },
  {
   "cell_type": "markdown",
   "metadata": {
    "cell_id": "5402c46d7dbd45a59c8c4316f91dac73",
    "deepnote_cell_type": "markdown",
    "tags": []
   },
   "source": [
    "This can also be used to create new data collections.  For example:\n",
    "\n",
    "```python\n",
    "old_names = ['ted', 'roy', 'keeley']\n",
    "new_names = []\n",
    "for name in old_names:\n",
    "   new_names.append(name.title())\n",
    "```"
   ]
  },
  {
   "cell_type": "markdown",
   "metadata": {
    "cell_id": "e6e11ff8d24d4f28b522e8d7c2dd9e7b",
    "deepnote_cell_type": "markdown",
    "tags": []
   },
   "source": [
    "**Exercises**"
   ]
  },
  {
   "cell_type": "markdown",
   "metadata": {
    "cell_id": "641c47b86b2f4b7b86491ec493b9d539",
    "deepnote_cell_type": "markdown",
    "tags": []
   },
   "source": [
    "Make a list with the first codon of each sequence"
   ]
  },
  {
   "cell_type": "code",
   "execution_count": null,
   "metadata": {
    "cell_id": "98b01c35fdbe4c23ae5f6fe2e13005c4",
    "deepnote_cell_type": "code",
    "deepnote_to_be_reexecuted": false,
    "execution_millis": 4,
    "execution_start": 1634192926318,
    "source_hash": "11432b8e",
    "tags": []
   },
   "outputs": [],
   "source": [
    "seqs = [\"GTAATCG\", \"GTACCAAA\", \"GGTAGTACCAC\"]"
   ]
  },
  {
   "cell_type": "markdown",
   "metadata": {
    "cell_id": "abac6b03966e40189583a206b5f711bd",
    "deepnote_cell_type": "markdown",
    "tags": []
   },
   "source": [
    "Clean up the data.  Make a list with that formats each sequence the same way."
   ]
  },
  {
   "cell_type": "code",
   "execution_count": null,
   "metadata": {
    "cell_id": "d45c43b493b541ddb6aab186be6da903",
    "deepnote_cell_type": "code",
    "deepnote_to_be_reexecuted": false,
    "execution_millis": 0,
    "execution_start": 1634192983915,
    "source_hash": "2609f853",
    "tags": []
   },
   "outputs": [],
   "source": [
    "seqs = [\"GTAATCG\", \"gtaccaaa\", \"GGtAGtACCaC\"]"
   ]
  },
  {
   "cell_type": "markdown",
   "metadata": {
    "cell_id": "73e71903560546968cd5164d8e9e9faf",
    "deepnote_cell_type": "markdown",
    "tags": []
   },
   "source": [
    "Make a list of the number of A in each sequence"
   ]
  },
  {
   "cell_type": "code",
   "execution_count": null,
   "metadata": {
    "cell_id": "1cad111eb796418abba1bfa099634ca9",
    "deepnote_cell_type": "code",
    "deepnote_to_be_reexecuted": false,
    "execution_millis": 1,
    "execution_start": 1634193031511,
    "source_hash": "2609f853",
    "tags": []
   },
   "outputs": [],
   "source": [
    "seqs = [\"GTAATCG\", \"gtaccaaa\", \"GGtAGtACCaC\"]"
   ]
  },
  {
   "cell_type": "markdown",
   "metadata": {
    "cell_id": "4e8d1c6226b6440ba5d1d67a6626c326",
    "deepnote_cell_type": "markdown",
    "tags": []
   },
   "source": [
    "Make a list sequences from the list of sequences combinations.\n"
   ]
  },
  {
   "cell_type": "code",
   "execution_count": null,
   "metadata": {
    "cell_id": "0ccd0dc5a9214de3a950c6ee8bb8fe13",
    "deepnote_cell_type": "code",
    "deepnote_to_be_reexecuted": false,
    "execution_millis": 0,
    "execution_start": 1634193208699,
    "source_hash": "2db72f6f",
    "tags": []
   },
   "outputs": [],
   "source": [
    "seqs = ['GCAGA GATATC', 'GGTAAAA ACTAGA GGTATA', 'GGTAA']"
   ]
  },
  {
   "cell_type": "markdown",
   "metadata": {
    "cell_id": "04be21cdf5d848598a29a1382ee67582",
    "deepnote_cell_type": "markdown",
    "tags": []
   },
   "source": [
    "## Sequence-Unpacking Loop Pattern\n",
    "\n",
    "Loops are also useful when you have a collection of collections (e.g. a list of lists).\n",
    "When it's a collection of same-length sequences, you can break apart each sequence inside the loop and work with it:\n",
    "\n",
    "```python\n",
    "pairs = [[4, 5], [7, 8], [2, 9]]\n",
    "sums = []\n",
    "for pair in pairs:\n",
    "    first = pair[0]\n",
    "    second = pair[1]\n",
    "    sums.append(first + second)\n",
    "```\n",
    ".\n",
    "\n",
    "This is so common, that python provides some syntactic sugar (i.e. a shortcut) for breaking known-length sequences apart, called **\"Unpacking\"**\n",
    ".\n",
    "\n",
    "```python\n",
    "pairs = [[4, 5], [7, 8], [2, 9]]\n",
    "sums = []\n",
    "for pair in pairs:\n",
    "    first, second = pair\n",
    "    sums.append(first + second)\n",
    "```\n",
    ".\n",
    "\n",
    "This can even be done in the header of the for-loop!\n",
    "\n",
    "```python\n",
    "pairs = [[4, 5], [7, 8], [2, 9]]\n",
    "sums = []\n",
    "for first, second in pairs:\n",
    "    sums.append(first + second)\n",
    "```"
   ]
  },
  {
   "cell_type": "markdown",
   "metadata": {
    "cell_id": "a2a6eb13847b4256811dffd49e73f640",
    "deepnote_cell_type": "markdown",
    "tags": []
   },
   "source": [
    "**Exercises**"
   ]
  },
  {
   "cell_type": "markdown",
   "metadata": {
    "cell_id": "4fedfdac21044323b8db9636dd4d082d",
    "deepnote_cell_type": "markdown",
    "tags": []
   },
   "source": [
    "Make a list of the sum of each number pair"
   ]
  },
  {
   "cell_type": "code",
   "execution_count": null,
   "metadata": {
    "cell_id": "b36ee1610e81496ab53d79de975e5d5f",
    "deepnote_cell_type": "code",
    "deepnote_to_be_reexecuted": false,
    "execution_millis": 0,
    "execution_start": 1634193665675,
    "source_hash": "2c8eda3e",
    "tags": []
   },
   "outputs": [],
   "source": [
    "pairs = [[4, 7], [7, 2], [10, 2], [5, 9]]"
   ]
  },
  {
   "cell_type": "markdown",
   "metadata": {
    "cell_id": "6dba1cad809c45c68f1014febb98cda1",
    "deepnote_cell_type": "markdown",
    "tags": []
   },
   "source": [
    "Write each sequence to its corresponding a file"
   ]
  },
  {
   "cell_type": "code",
   "execution_count": null,
   "metadata": {
    "cell_id": "61396790689649959d34f488a587663d",
    "deepnote_cell_type": "code",
    "deepnote_to_be_reexecuted": false,
    "execution_millis": 9,
    "execution_start": 1634193800852,
    "source_hash": "1e246064",
    "tags": []
   },
   "outputs": [],
   "source": [
    "dataset = [\n",
    "    ('seq1.txt', 'GACCAGTA'),\n",
    "    ('seqA.txt', 'GGAGAGTATAC'),\n",
    "    ('myseq.txt', 'GTTTAAC'),\n",
    "]"
   ]
  },
  {
   "cell_type": "markdown",
   "metadata": {
    "cell_id": "3dcc9f5bdb094cf8bd9477bc4bdc8293",
    "deepnote_cell_type": "markdown",
    "tags": []
   },
   "source": [
    "Make a list of Trues and Falses, saying whether the first sequence (the wild-type) in each triplet has more G's than both the second and third sequence in the triplet (the two experimental sequences)"
   ]
  },
  {
   "cell_type": "code",
   "execution_count": null,
   "metadata": {
    "cell_id": "188f4602c9714c35a59616786ac3be1b",
    "deepnote_cell_type": "code",
    "deepnote_to_be_reexecuted": false,
    "execution_millis": 3,
    "execution_start": 1634194257070,
    "source_hash": "f2e588d",
    "tags": []
   },
   "outputs": [],
   "source": [
    "seq_collections = [\n",
    "    ('GACAGGAGATTA', 'GACCAGATA', 'GCCAGAGGATAA'),\n",
    "    ('gacccatagag', 'CAGATAcaga', 'GAGGAACCaca'),\n",
    "    ('ACCAGATA', 'GAGAAAGACCA', 'CCAGAGATATTA'),\n",
    "    ('AGGGACCCCA', 'CGCCCACCACCG', 'CCCATTATC'),\n",
    "]\n"
   ]
  },
  {
   "cell_type": "markdown",
   "metadata": {
    "cell_id": "043f00f787814834be1a9042637a5339",
    "deepnote_cell_type": "markdown",
    "tags": []
   },
   "source": [
    "## The Zip Loop Pattern\n",
    "\n",
    "Most of the times, you don't have a collection of pairs--sometimes, you need to make that collection yourself before you can loop over them.  The `zip()` function makes this straightforward!\n",
    "\n",
    "```python\n",
    "names = ['Zanarah', 'Joe', 'Weiwei',]\n",
    "ages = [20, 21, 22]\n",
    "combined = list(zip(names, ages))  # [('Zanara', 20), ('Joe', 21), ...]\n",
    "\n",
    "for name, ages in combined:\n",
    "    print(name, age)\n",
    "```\n",
    ".\n",
    "\n",
    "To make it more concise, This can also be done inside the header of the for-loop:\n",
    "\n",
    "```python\n",
    "names = ['Zanarah', 'Joe', 'Weiwei',]\n",
    "ages = [20, 21, 22]\n",
    "for name, ages in zip(names, ages)):\n",
    "    print(name, age)\n",
    "```\n",
    ".\n",
    "\n",
    "\n"
   ]
  },
  {
   "cell_type": "markdown",
   "metadata": {
    "cell_id": "1c98a08697b84b2e940c03bfadb54053",
    "deepnote_cell_type": "markdown",
    "tags": []
   },
   "source": [
    "**Exercises**"
   ]
  },
  {
   "cell_type": "markdown",
   "metadata": {
    "cell_id": "75d18db000364cc4b03f8a9e280145e9",
    "deepnote_cell_type": "markdown",
    "tags": []
   },
   "source": [
    "Add each pair of numbers"
   ]
  },
  {
   "cell_type": "code",
   "execution_count": null,
   "metadata": {
    "cell_id": "534083a33886453bbf3833b0e07f545c",
    "deepnote_cell_type": "code",
    "deepnote_to_be_reexecuted": false,
    "execution_millis": 5,
    "execution_start": 1634194896827,
    "source_hash": "95cacf5e",
    "tags": []
   },
   "outputs": [],
   "source": [
    "firsts = [1, 2, 3, 4, 5]\n",
    "seconds = [10, 20, 30, 40, 50]"
   ]
  },
  {
   "cell_type": "markdown",
   "metadata": {
    "cell_id": "838c85516d6340229d22899150b268a8",
    "deepnote_cell_type": "markdown",
    "tags": []
   },
   "source": [
    "Print the patient number and treatment group of each patient\n",
    "(e.g. \"Patient 32341: control\")"
   ]
  },
  {
   "cell_type": "code",
   "execution_count": null,
   "metadata": {
    "cell_id": "100cd6972f18447c8e91d759a5a28bcb",
    "deepnote_cell_type": "code",
    "deepnote_to_be_reexecuted": false,
    "execution_millis": 4,
    "execution_start": 1634195339406,
    "source_hash": "9d1b5666",
    "tags": []
   },
   "outputs": [],
   "source": [
    "patients = [32451, 435679, 4211235, 123121]\n",
    "groups = ['control', 'treatment', 'treatment', 'control']\n"
   ]
  },
  {
   "cell_type": "markdown",
   "metadata": {
    "cell_id": "daddd4830b0a41e6baa5dc4c5e7991c9",
    "deepnote_cell_type": "markdown",
    "tags": []
   },
   "source": [
    "Compare the number of Cs in each sequence.  Does the first have more or less than the second? "
   ]
  },
  {
   "cell_type": "code",
   "execution_count": null,
   "metadata": {
    "cell_id": "1efe7db21cf3497886f9c717561ef807",
    "deepnote_cell_type": "code",
    "deepnote_to_be_reexecuted": false,
    "execution_millis": 4,
    "execution_start": 1634195332178,
    "source_hash": "387493c9",
    "tags": []
   },
   "outputs": [],
   "source": [
    "firsts = ['GAGATTACA', 'CAGATGATA', 'GGAGGACCAAG']\n",
    "seconds = ['GGAACCAA', 'CACAGGAGA', 'GATATAACA']"
   ]
  },
  {
   "cell_type": "markdown",
   "metadata": {
    "cell_id": "fa7d7fd73f674605b88ed2c20926bd3f",
    "deepnote_cell_type": "markdown",
    "tags": []
   },
   "source": [
    "Write these sequences to filenames named after their corresponding animal id (e.g. `324` becomes `'324.txt'`)"
   ]
  },
  {
   "cell_type": "code",
   "execution_count": null,
   "metadata": {
    "cell_id": "f67de7888b254b3d8292ccebe41a8666",
    "deepnote_cell_type": "code",
    "deepnote_to_be_reexecuted": false,
    "execution_millis": 3,
    "execution_start": 1634195107660,
    "source_hash": "eb5354cd",
    "tags": []
   },
   "outputs": [],
   "source": [
    "animals = [123, 342, 543, 654]\n",
    "seqs = ['GADCAG', 'CADFAAD', 'GGGGCVAGDA', 'GGDADCA']"
   ]
  },
  {
   "cell_type": "markdown",
   "metadata": {
    "cell_id": "87ce49893dec4575ad88321a5c646d3a",
    "deepnote_cell_type": "markdown",
    "tags": []
   },
   "source": [
    "Write all the sequences of each animal to filenames named after their corresponding animal id (e.g. 324 becomes '324.txt')"
   ]
  },
  {
   "cell_type": "code",
   "execution_count": null,
   "metadata": {
    "cell_id": "6950a333f15b4b8096031a6f4b0bc47d",
    "deepnote_cell_type": "code",
    "deepnote_to_be_reexecuted": false,
    "execution_millis": 6,
    "execution_start": 1634195207919,
    "source_hash": "eea73373",
    "tags": []
   },
   "outputs": [],
   "source": [
    "animals = [123, 342, 543, 654]\n",
    "seqs = [\n",
    "    ('GACAG', 'GCCAGT'), \n",
    "    ('CAAA', 'GGGGCAGA', 'GGACA'),\n",
    "    ('GGGATATCA', 'CCACAGATA', 'GGACAAATA'),\n",
    "    ('GCCATATA', 'CAACTTTATA'),\n",
    "]"
   ]
  },
  {
   "cell_type": "markdown",
   "metadata": {
    "cell_id": "7f3508b6c3824bba86c88037bd46a0f1",
    "deepnote_cell_type": "markdown",
    "tags": []
   },
   "source": [
    "## Enumerate Pattern\n",
    "\n",
    "Sometimes you want to store the **index** of items in a sequence.  You could calculate this in a loop:\n",
    "\n",
    "```python\n",
    "bundesländer = ['Baden-Württemberg', 'Bayern', 'Thuringen']\n",
    "idx = 0\n",
    "for bundesland in bundesländer:\n",
    "    print(idx, bundesland)  # prints 0 Baden-Württemberg\n",
    "    idx += 1\n",
    "```\n",
    ".\n",
    "\n",
    "Python's `enumerate()` function generates a list of (index, element) pairs:\n",
    "\n",
    "```python\n",
    "bundesländer = ['Baden-Württemberg', 'Bayern', 'Thuringen']\n",
    "indices_bundesländer = list(enumerate(bundesländer))  # [(0, 'Baden-Württemberg'), ...]\n",
    "for idx, bundesland in indices_bundesländer:\n",
    "    print(idx, bundesland)  # prints 0 Baden-Württemberg\n",
    "```\n",
    ".\n",
    "\n",
    "Like with `zip()`, this can be shortened by just putting it in the header of the for loop:\n",
    "\n",
    "```python\n",
    "bundesländer = ['Baden-Württemberg', 'Bayern', 'Thuringen']\n",
    "for idx, bundesland in enumerate(bundesländer):\n",
    "    print(idx, bundesland)  # prints 0 Baden-Württemberg\n",
    "```\n",
    ".\n",
    "\n"
   ]
  },
  {
   "cell_type": "markdown",
   "metadata": {
    "cell_id": "5d5d65dd61684300b33d233de8f0296a",
    "deepnote_cell_type": "markdown",
    "tags": []
   },
   "source": [
    "**Exercises**"
   ]
  },
  {
   "cell_type": "markdown",
   "metadata": {
    "cell_id": "f4c5092053ed4e2282f7dc45ead18af8",
    "deepnote_cell_type": "markdown",
    "tags": []
   },
   "source": [
    "## Dictionaries (a.k.a. `Dicts`)\n",
    "\n",
    "Python has a valuable data structure used for  associating pairs of values: the `dict`.\n",
    "Each `item` in a `dict` has two parts: the `key` and the `value`.  For example:\n",
    "\n",
    "```python\n",
    "phone_numbers = {'Ben': '+49123343282', 'Julie': '+45328472022'}\n",
    "```\n",
    ".\n",
    "\n",
    "In this example, the names are the keys:\n",
    "\n",
    "```python\n",
    ">>> phone_numbers.keys()\n",
    "dict_keys(['Ben', 'Julie'])\n",
    "```\n",
    ".\n",
    "\n",
    "The numbers are the values:\n",
    "\n",
    "```python\n",
    ">>> phone_numbers.values()\n",
    "dict_values(['+49123343282', '+45328472022'])\n",
    "```\n",
    ".\n",
    "\n",
    "Altogether, the pairs are `items`:\n",
    "```python\n",
    ">>> phone_numbers.items()\n",
    "dict_items([('Ben', '+49123343282'), ('Julie', '+45328472022')])\n",
    "```\n",
    "\n"
   ]
  },
  {
   "cell_type": "markdown",
   "metadata": {
    "cell_id": "acff1346ea1743389dfc87010f71b2dc",
    "deepnote_cell_type": "markdown",
    "tags": []
   },
   "source": []
  },
  {
   "cell_type": "code",
   "execution_count": null,
   "metadata": {
    "cell_id": "2ea1a73d3c1a483ea11504a22ab9db18",
    "deepnote_cell_type": "code",
    "deepnote_to_be_reexecuted": false,
    "execution_millis": 9,
    "execution_start": 1634211324210,
    "source_hash": "346949ff",
    "tags": []
   },
   "outputs": [
    {
     "data": {
      "text/plain": [
       "dict_items([('Ben', '+49123343282'), ('Julie', '+45328472022')])"
      ]
     },
     "execution_count": 4,
     "metadata": {},
     "output_type": "execute_result"
    }
   ],
   "source": [
    "phone_numbers = {'Ben': '+49123343282', 'Julie': '+45328472022'}\n",
    "phone_numbers.items()"
   ]
  },
  {
   "cell_type": "code",
   "execution_count": null,
   "metadata": {
    "cell_id": "33f0f85752a7492ead186e8976c09a09",
    "deepnote_cell_type": "code",
    "tags": []
   },
   "outputs": [],
   "source": []
  },
  {
   "cell_type": "markdown",
   "metadata": {
    "cell_id": "ffa2ea70d9624d6db1d77d1895fcc7f7",
    "deepnote_cell_type": "markdown",
    "tags": []
   },
   "source": [
    "## Looping through Dicts\n",
    "\n",
    "Keys and Values in `dicts` work the same as with lists.  To get both to work like a zipped list, use `items()`:\n",
    "\n",
    "```python\n",
    "phone_numbers = {'Ben': '+49123343282', 'Julie': '+45328472022'}\n",
    "for name in phone_numbers.keys():\n",
    "    print(name)\n",
    "\n",
    "for number in phone_numbers.values():\n",
    "    print(number)\n",
    "\n",
    "for name, number in phone_numbers.items():\n",
    "    print(name, number)\n",
    "```\n"
   ]
  },
  {
   "cell_type": "markdown",
   "metadata": {
    "cell_id": "0b13acf999a046c891ee10423daaa9fa",
    "deepnote_cell_type": "markdown",
    "tags": []
   },
   "source": [
    "**Exercises**"
   ]
  },
  {
   "cell_type": "markdown",
   "metadata": {
    "cell_id": "3b5ed3126d744db687df7aa2f14bf2da",
    "deepnote_cell_type": "markdown",
    "tags": []
   },
   "source": [
    "Write a loop that Prints each sequence in this dict:"
   ]
  },
  {
   "cell_type": "code",
   "execution_count": null,
   "metadata": {
    "cell_id": "110c206c6138436e81a54a805e778182",
    "deepnote_cell_type": "code",
    "deepnote_to_be_reexecuted": false,
    "execution_millis": 2,
    "execution_start": 1634217242022,
    "source_hash": "85bace18",
    "tags": []
   },
   "outputs": [],
   "source": [
    "seqs = {'Monday': \"CATAACA\", 'Tuesday': \"GCCGTG\", 'Wednesday': \"CCATAAA\"}\n"
   ]
  },
  {
   "cell_type": "markdown",
   "metadata": {
    "cell_id": "74d19860d5dc4ad9ab4830854261ee13",
    "deepnote_cell_type": "markdown",
    "tags": []
   },
   "source": [
    "Print both the day of the week and the sequence in a loop"
   ]
  },
  {
   "cell_type": "code",
   "execution_count": null,
   "metadata": {
    "cell_id": "07b4fbdd485341cda06da3a293fcdddc",
    "deepnote_cell_type": "code",
    "deepnote_to_be_reexecuted": false,
    "execution_millis": 1,
    "execution_start": 1634217552403,
    "source_hash": "d96eca3b",
    "tags": []
   },
   "outputs": [],
   "source": [
    "seqs = {'Monday': \"CATAACA\", 'Tuesday': \"GCCGTG\", 'Wednesday': \"CCATAAA\"}"
   ]
  },
  {
   "cell_type": "markdown",
   "metadata": {
    "cell_id": "88458ce9ac5446898666d2d92821cc59",
    "deepnote_cell_type": "markdown",
    "tags": []
   },
   "source": [
    "Let's look at some richer data structures, combining dicts and lists together:"
   ]
  },
  {
   "cell_type": "markdown",
   "metadata": {
    "cell_id": "95e4fb1949fc40d0860cd888a5c2df07",
    "deepnote_cell_type": "markdown",
    "tags": []
   },
   "source": [
    "For each sequence, print the bacteria id next to it.  For example:\n",
    "```\n",
    "BacteriaID Sequence\n",
    "3252 GCCAGGA\n",
    "3252 CCCAGGA\n",
    "1466 CAAGATGA\n",
    "...\n",
    "```"
   ]
  },
  {
   "cell_type": "code",
   "execution_count": null,
   "metadata": {
    "cell_id": "f80dea24b6ef40f498e9bd50a093319b",
    "deepnote_cell_type": "code",
    "deepnote_to_be_reexecuted": false,
    "execution_millis": 8,
    "execution_start": 1634217962455,
    "source_hash": "146204e5",
    "tags": []
   },
   "outputs": [
    {
     "name": "stdout",
     "output_type": "stream",
     "text": [
      "BacteriaID Sequence\n"
     ]
    }
   ],
   "source": [
    "seqs = {\n",
    "    3252: [\"GCCAGGA\", \"CCCAGGA\"],\n",
    "    1466: [\"CAAGATGA\", \"CCACATA\"],\n",
    "    6223: [\"CCAACTAG\", \"CACCAC\"],\n",
    "}\n",
    "print(\"BacteriaID\", \"Sequence\")"
   ]
  },
  {
   "cell_type": "markdown",
   "metadata": {
    "cell_id": "de78d070172440a88bbffe006d453064",
    "deepnote_cell_type": "markdown",
    "tags": []
   },
   "source": [
    "Using the same dict, print the total number of C's in all sequences for each bacteria\n",
    "For example:\n",
    "```\n",
    "BacteriaID TotalC \n",
    "3252 5\n",
    "...\n",
    "```"
   ]
  },
  {
   "cell_type": "code",
   "execution_count": null,
   "metadata": {
    "cell_id": "7dc0e8c562844327b023892e97a31de7",
    "deepnote_cell_type": "code",
    "tags": []
   },
   "outputs": [],
   "source": []
  },
  {
   "cell_type": "markdown",
   "metadata": {
    "cell_id": "686c01f895694726bed1555bc64d3c2a",
    "deepnote_cell_type": "markdown",
    "tags": []
   },
   "source": [
    "print the number of Ts in all of the sequences, totalled\n",
    "\n",
    "```Total T Count: 3```"
   ]
  },
  {
   "cell_type": "markdown",
   "metadata": {
    "cell_id": "b0025eb8f2104b7a91645ad1d42e2154",
    "deepnote_cell_type": "markdown",
    "tags": []
   },
   "source": [
    "For each sequence, print the bacteria id and Day of Week next to it.  For example:\n",
    "```\n",
    "BacteriaID Sequence DayOfWeek\n",
    "3252 GCCAGGA Monday\n",
    "3252 CCCAGGA Monday\n",
    "1466 CAAGATGA Monday\n",
    "...\n",
    "```"
   ]
  },
  {
   "cell_type": "code",
   "execution_count": null,
   "metadata": {
    "cell_id": "e6d99466884b47638166c45c3af4be7b",
    "deepnote_cell_type": "code",
    "deepnote_to_be_reexecuted": false,
    "execution_millis": 1,
    "execution_start": 1634218330305,
    "source_hash": "d07c196f",
    "tags": []
   },
   "outputs": [],
   "source": [
    "seqs = [\n",
    "    {'Monday': {3252: \"GCCAGGA\", 1466: \"CAAGATGA\", 6223: \"CCAACTAG\"}},\n",
    "    {'Tuesday': {3252: \"CCCAGGA\", 1466: \"CCACATA\", 6223: \"CACCAC\"}},\n",
    "]\n"
   ]
  },
  {
   "cell_type": "markdown",
   "metadata": {
    "cell_id": "56d3c572d1664ddd8f040529b9378822",
    "deepnote_cell_type": "markdown",
    "tags": []
   },
   "source": [
    "Write the above to a file called \"sequences.tsv\""
   ]
  },
  {
   "cell_type": "code",
   "execution_count": null,
   "metadata": {
    "cell_id": "efff8f6104814937bc2a0baa2b6d345a",
    "deepnote_cell_type": "code",
    "tags": []
   },
   "outputs": [],
   "source": []
  }
 ],
 "metadata": {
  "deepnote": {
   "is_reactive": false
  },
  "deepnote_execution_queue": [],
  "deepnote_notebook_id": "df04d9ff306a4441844f34085cadbc35",
  "kernelspec": {
   "display_name": "Python 3 (ipykernel)",
   "language": "python",
   "name": "python3"
  },
  "language_info": {
   "codemirror_mode": {
    "name": "ipython",
    "version": 3
   },
   "file_extension": ".py",
   "mimetype": "text/x-python",
   "name": "python",
   "nbconvert_exporter": "python",
   "pygments_lexer": "ipython3",
   "version": "3.10.4"
  },
  "vscode": {
   "interpreter": {
    "hash": "d6852d01271bf8033dbdb7ec364b6f6e89fd52a18c6bf5b4c73e48c86329a8dd"
   }
  }
 },
 "nbformat": 4,
 "nbformat_minor": 4
}
