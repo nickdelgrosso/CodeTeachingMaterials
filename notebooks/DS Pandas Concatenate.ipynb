{
 "cells": [
  {
   "cell_type": "code",
   "execution_count": 45,
   "id": "e706fedc-833b-473c-8f47-4b327bfac28a",
   "metadata": {},
   "outputs": [],
   "source": [
    "import numpy as np\n",
    "import pandas as pd\n",
    "from glob import glob\n",
    "import os\n",
    "from pathlib import Path"
   ]
  },
  {
   "cell_type": "markdown",
   "id": "e81841fe-d21f-479b-ba4b-3c52868f8a46",
   "metadata": {},
   "source": [
    "# Splitting Your Rows for Storage and Bringing Them Back Together For Analysis Using Pandas\n",
    "\n",
    "\n",
    "| Function | Description | Example |\n",
    "| :-- | :-- | :-- |\n",
    "| `os.makedirs(path, exist_ok=True)` | Make a new directory on the filesystem | `os.makedirs('data/raw', exist_ok=True)` |\n",
    "| `pathlib.Path(path).mkdir(parents=True, exist_ok=True` | Make a new directory on the filesystem | |\n",
    "| `for value in values:` | Begin a For-Loop block that repeats a task for each element in a collection | `for num in [10, 5, 20]: print(num)` |\n",
    "| `np.array_split(df, n)` | Split data into N equalish-size sub-datasets | `for rows in np.array_split(df, 5):` |\n",
    "| `df.groupby(col)` | Split data into sub-datasets, each with the same value in col | `for treatment, rows in df.groupby('treatment'):` |\n",
    "| `df.iterrows()` |  Split data by row, returning the index and the row | `for idx, row in df.iterrows():` |\n",
    "| `enumerate(data)` | Return an iterator with the index and value of each element in a collection | `for idx, el in enumerate(data):` |\n"
   ]
  },
  {
   "cell_type": "code",
   "execution_count": 46,
   "id": "badda3cd-679d-4e23-a444-695bd07cd80b",
   "metadata": {},
   "outputs": [
    {
     "data": {
      "text/html": [
       "<div>\n",
       "<style scoped>\n",
       "    .dataframe tbody tr th:only-of-type {\n",
       "        vertical-align: middle;\n",
       "    }\n",
       "\n",
       "    .dataframe tbody tr th {\n",
       "        vertical-align: top;\n",
       "    }\n",
       "\n",
       "    .dataframe thead th {\n",
       "        text-align: right;\n",
       "    }\n",
       "</style>\n",
       "<table border=\"1\" class=\"dataframe\">\n",
       "  <thead>\n",
       "    <tr style=\"text-align: right;\">\n",
       "      <th></th>\n",
       "      <th>title</th>\n",
       "      <th>author</th>\n",
       "      <th>rating</th>\n",
       "      <th>votes_count</th>\n",
       "      <th>students_count</th>\n",
       "      <th>level</th>\n",
       "      <th>duration</th>\n",
       "      <th>platform</th>\n",
       "      <th>free</th>\n",
       "    </tr>\n",
       "  </thead>\n",
       "  <tbody>\n",
       "    <tr>\n",
       "      <th>0</th>\n",
       "      <td>Машинное обучение и анализ данных</td>\n",
       "      <td>Moscow Institute of Physics and Technology</td>\n",
       "      <td>4.7</td>\n",
       "      <td>6382.0</td>\n",
       "      <td>100000.0</td>\n",
       "      <td>Intermediate</td>\n",
       "      <td>224.0</td>\n",
       "      <td>Coursera</td>\n",
       "      <td>False</td>\n",
       "    </tr>\n",
       "    <tr>\n",
       "      <th>1</th>\n",
       "      <td>Introducción a la Especialización en Ciencia d...</td>\n",
       "      <td>IBM</td>\n",
       "      <td>4.6</td>\n",
       "      <td>116.0</td>\n",
       "      <td>3400.0</td>\n",
       "      <td>Beginner</td>\n",
       "      <td>48.0</td>\n",
       "      <td>Coursera</td>\n",
       "      <td>False</td>\n",
       "    </tr>\n",
       "    <tr>\n",
       "      <th>2</th>\n",
       "      <td>Getting Started with SAS Programming</td>\n",
       "      <td>SAS</td>\n",
       "      <td>4.8</td>\n",
       "      <td>2083.0</td>\n",
       "      <td>67000.0</td>\n",
       "      <td>Beginner</td>\n",
       "      <td>22.0</td>\n",
       "      <td>Coursera</td>\n",
       "      <td>False</td>\n",
       "    </tr>\n",
       "    <tr>\n",
       "      <th>3</th>\n",
       "      <td>Introduction to Designing Data Lakes on AWS</td>\n",
       "      <td>Amazon Web Services</td>\n",
       "      <td>4.7</td>\n",
       "      <td>65.0</td>\n",
       "      <td>6100.0</td>\n",
       "      <td>Intermediate</td>\n",
       "      <td>14.0</td>\n",
       "      <td>Coursera</td>\n",
       "      <td>False</td>\n",
       "    </tr>\n",
       "    <tr>\n",
       "      <th>4</th>\n",
       "      <td>Estatística não-paramétrica para a tomada de d...</td>\n",
       "      <td>Universidade de São Paulo</td>\n",
       "      <td>4.4</td>\n",
       "      <td>109.0</td>\n",
       "      <td>9300.0</td>\n",
       "      <td>Intermediate</td>\n",
       "      <td>13.0</td>\n",
       "      <td>Coursera</td>\n",
       "      <td>False</td>\n",
       "    </tr>\n",
       "  </tbody>\n",
       "</table>\n",
       "</div>"
      ],
      "text/plain": [
       "                                               title  \\\n",
       "0                  Машинное обучение и анализ данных   \n",
       "1  Introducción a la Especialización en Ciencia d...   \n",
       "2               Getting Started with SAS Programming   \n",
       "3        Introduction to Designing Data Lakes on AWS   \n",
       "4  Estatística não-paramétrica para a tomada de d...   \n",
       "\n",
       "                                       author  rating  votes_count  \\\n",
       "0  Moscow Institute of Physics and Technology     4.7       6382.0   \n",
       "1                                         IBM     4.6        116.0   \n",
       "2                                         SAS     4.8       2083.0   \n",
       "3                         Amazon Web Services     4.7         65.0   \n",
       "4                   Universidade de São Paulo     4.4        109.0   \n",
       "\n",
       "   students_count         level  duration  platform   free  \n",
       "0        100000.0  Intermediate     224.0  Coursera  False  \n",
       "1          3400.0      Beginner      48.0  Coursera  False  \n",
       "2         67000.0      Beginner      22.0  Coursera  False  \n",
       "3          6100.0  Intermediate      14.0  Coursera  False  \n",
       "4          9300.0  Intermediate      13.0  Coursera  False  "
      ]
     },
     "execution_count": 46,
     "metadata": {},
     "output_type": "execute_result"
    }
   ],
   "source": [
    "url = \"https://raw.githubusercontent.com/nickdelgrosso/CodeTeachingMaterials/main/datasets/online_datascience_courses.csv\"\n",
    "df = pd.read_csv(url, index_col=0)\n",
    "df.head()"
   ]
  },
  {
   "cell_type": "markdown",
   "id": "d544a472-13cd-4b62-a1d9-855a0b78a40a",
   "metadata": {},
   "source": [
    "**Exercises**"
   ]
  },
  {
   "cell_type": "markdown",
   "id": "0e427808-ff4d-4cc3-a3e2-3ac2f51d3400",
   "metadata": {},
   "source": [
    "In `../data/processed/platforms`, make one csv file per platform with that platform's courses."
   ]
  },
  {
   "cell_type": "code",
   "execution_count": 48,
   "id": "8ed0f9dd-74cc-480e-bb88-0a413d58e75f",
   "metadata": {},
   "outputs": [],
   "source": [
    "fold = Path('../data/processed/platforms')\n",
    "fold.mkdir(parents=True, exist_ok=True)\n",
    "for name, group in df.groupby('platform'):\n",
    "    group.drop(labels=['platform'], axis=1).to_csv(fold.joinpath(f\"{name.lower()}.csv\"))"
   ]
  },
  {
   "cell_type": "markdown",
   "id": "d51dd079-efff-4895-b65d-8b04eeede6df",
   "metadata": {},
   "source": [
    "In `../data/processed/levels`, make one csv file per level with that levels's courses."
   ]
  },
  {
   "cell_type": "code",
   "execution_count": 44,
   "id": "245af553-dec9-4525-bbdb-9a5756d218eb",
   "metadata": {
    "tags": [
     "exercise"
    ]
   },
   "outputs": [
    {
     "ename": "NotImplementedError",
     "evalue": "Iteration of DataFrameGroupBy objects requires computing the groups which may be slow. You probably want to use 'apply' to execute a function for all the columns. To access individual groups, use 'get_group'. To list all the group names, use 'df[<group column>].unique().compute()'.",
     "output_type": "error",
     "traceback": [
      "\u001b[0;31m-------------------------------\u001b[0m",
      "\u001b[0;31mNotImplementedError\u001b[0mTraceback (most recent call last)",
      "Cell \u001b[0;32mIn [44], line 6\u001b[0m\n\u001b[1;32m      4\u001b[0m         f\u001b[38;5;241m.\u001b[39munlink()\n\u001b[1;32m      5\u001b[0m fold\u001b[38;5;241m.\u001b[39mmkdir(parents\u001b[38;5;241m=\u001b[39m\u001b[38;5;28;01mTrue\u001b[39;00m, exist_ok\u001b[38;5;241m=\u001b[39m\u001b[38;5;28;01mTrue\u001b[39;00m)\n\u001b[0;32m----> 6\u001b[0m \u001b[38;5;28;01mfor\u001b[39;00m name, group \u001b[38;5;129;01min\u001b[39;00m df\u001b[38;5;241m.\u001b[39mgroupby(\u001b[38;5;124m'\u001b[39m\u001b[38;5;124mlevel\u001b[39m\u001b[38;5;124m'\u001b[39m, dropna\u001b[38;5;241m=\u001b[39m\u001b[38;5;28;01mFalse\u001b[39;00m):\n\u001b[1;32m      7\u001b[0m     group\u001b[38;5;241m.\u001b[39mto_csv(fold\u001b[38;5;241m.\u001b[39mjoinpath(\u001b[38;5;124mf\u001b[39m\u001b[38;5;124m\"\u001b[39m\u001b[38;5;132;01m{\u001b[39;00mname\u001b[38;5;241m.\u001b[39mlower()\u001b[38;5;132;01m}\u001b[39;00m\u001b[38;5;124m.csv\u001b[39m\u001b[38;5;124m\"\u001b[39m))\n",
      "File \u001b[0;32m~/miniconda3/lib/python3.9/site-packages/dask/dataframe/groupby.py:1312\u001b[0m, in \u001b[0;36m_GroupBy.__iter__\u001b[0;34m(self)\u001b[0m\n\u001b[1;32m   1311\u001b[0m \u001b[38;5;28;01mdef\u001b[39;00m \u001b[38;5;21m__iter__\u001b[39m(\u001b[38;5;28mself\u001b[39m):\n\u001b[0;32m-> 1312\u001b[0m     \u001b[38;5;28;01mraise\u001b[39;00m \u001b[38;5;167;01mNotImplementedError\u001b[39;00m(\n\u001b[1;32m   1313\u001b[0m         \u001b[38;5;124m\"\u001b[39m\u001b[38;5;124mIteration of DataFrameGroupBy objects requires computing the groups which \u001b[39m\u001b[38;5;124m\"\u001b[39m\n\u001b[1;32m   1314\u001b[0m         \u001b[38;5;124m\"\u001b[39m\u001b[38;5;124mmay be slow. You probably want to use \u001b[39m\u001b[38;5;124m'\u001b[39m\u001b[38;5;124mapply\u001b[39m\u001b[38;5;124m'\u001b[39m\u001b[38;5;124m to execute a function for \u001b[39m\u001b[38;5;124m\"\u001b[39m\n\u001b[1;32m   1315\u001b[0m         \u001b[38;5;124m\"\u001b[39m\u001b[38;5;124mall the columns. To access individual groups, use \u001b[39m\u001b[38;5;124m'\u001b[39m\u001b[38;5;124mget_group\u001b[39m\u001b[38;5;124m'\u001b[39m\u001b[38;5;124m. To list \u001b[39m\u001b[38;5;124m\"\u001b[39m\n\u001b[1;32m   1316\u001b[0m         \u001b[38;5;124m\"\u001b[39m\u001b[38;5;124mall the group names, use \u001b[39m\u001b[38;5;124m'\u001b[39m\u001b[38;5;124mdf[<group column>].unique().compute()\u001b[39m\u001b[38;5;124m'\u001b[39m\u001b[38;5;124m.\u001b[39m\u001b[38;5;124m\"\u001b[39m\n\u001b[1;32m   1317\u001b[0m     )\n",
      "\u001b[0;31mNotImplementedError\u001b[0m: Iteration of DataFrameGroupBy objects requires computing the groups which may be slow. You probably want to use 'apply' to execute a function for all the columns. To access individual groups, use 'get_group'. To list all the group names, use 'df[<group column>].unique().compute()'."
     ]
    }
   ],
   "source": [
    "fold = Path('../data/processed/levels')\n",
    "if fold.exists():\n",
    "    for f in fold.glob('*.csv'):\n",
    "        f.unlink()\n",
    "fold.mkdir(parents=True, exist_ok=True)\n",
    "for name, group in df.groupby('level', dropna=False):\n",
    "    group.to_csv(fold.joinpath(f\"{name.lower()}.csv\"))"
   ]
  },
  {
   "cell_type": "markdown",
   "id": "859b162d-1674-4428-a538-f17bca672041",
   "metadata": {},
   "source": [
    "In `../data/processed/ratings`, make one csv file per rating with that rating's courses (note: not all courses have a rating; be sure to put the non-rated ocurses into their own file!)."
   ]
  },
  {
   "cell_type": "code",
   "execution_count": 5,
   "id": "c62480f7-d2bc-4813-b6e6-866a94777c91",
   "metadata": {
    "tags": [
     "exercise"
    ]
   },
   "outputs": [],
   "source": [
    "fold = Path('../data/processed/ratings')\n",
    "fold.mkdir(parents=True, exist_ok=True)\n",
    "for rating, group in df.groupby('rating', dropna=False):\n",
    "    # n = name.replace(' ', '').replace('|', '_').replace('/', '_')\n",
    "    group.to_csv(fold.joinpath(f\"{rating}.csv\"))"
   ]
  },
  {
   "cell_type": "markdown",
   "id": "57a120d7-fa23-440e-aaf0-9d261ddbf09f",
   "metadata": {},
   "source": [
    "In `../data/processed/authors`, make one csv file per author with that author's courses. (Note: not all the titles are valid filenames; be sure to replace invalid characters with `str.replace(old, new)`"
   ]
  },
  {
   "cell_type": "code",
   "execution_count": 6,
   "id": "75f8cbed-9895-4330-9835-40092eb67b7e",
   "metadata": {
    "tags": [
     "exercise"
    ]
   },
   "outputs": [],
   "source": [
    "fold = Path('../data/processed/authors')\n",
    "fold.mkdir(parents=True, exist_ok=True)\n",
    "for name, group in df.groupby('author'):\n",
    "    n = name.replace(' ', '').replace('|', '_').replace('/', '_')\n",
    "    group.to_csv(fold.joinpath(f\"{n.lower()}.csv\"))"
   ]
  },
  {
   "cell_type": "markdown",
   "id": "17bdb28f-5d7a-4f88-a6b5-6b6af7ede124",
   "metadata": {},
   "source": [
    "Split the data into equal thirds, saving each third of the rows into its own numbered file in the `../data/processed/thirds` folder:"
   ]
  },
  {
   "cell_type": "code",
   "execution_count": 7,
   "id": "0ee7743b-c25f-4e41-8b69-99cb8ab066fa",
   "metadata": {
    "tags": [
     "exercise"
    ]
   },
   "outputs": [],
   "source": [
    "fold = Path('../data/processed/thirds')\n",
    "fold.mkdir(parents=True, exist_ok=True)\n",
    "for idx, rows in enumerate(np.array_split(df, 3)):\n",
    "    group.to_csv(fold.joinpath(f\"{idx}.csv\"))"
   ]
  },
  {
   "cell_type": "markdown",
   "id": "644bc4ac-85f4-4f20-9ccd-7020b61ebca2",
   "metadata": {},
   "source": [
    "Split the data into equal fifths, saving each fifth of the rows into its own numbered file in the `../data/processed/fifths` folder:"
   ]
  },
  {
   "cell_type": "code",
   "execution_count": 8,
   "id": "cf8c2405-fb3d-4a85-9d8b-37e526731ae1",
   "metadata": {
    "tags": [
     "exercise"
    ]
   },
   "outputs": [],
   "source": [
    "fold = Path('../data/processed/fifths')\n",
    "fold.mkdir(parents=True, exist_ok=True)\n",
    "for idx, rows in enumerate(np.array_split(df, 5)):\n",
    "    group.to_csv(fold.joinpath(f\"{idx}.csv\"))"
   ]
  },
  {
   "cell_type": "markdown",
   "id": "30047f61-8085-448d-bc63-d83f68650cdb",
   "metadata": {},
   "source": [
    "## Using For-Loops to Generate Result Figures for Subgroups\n",
    "\n",
    "| Function | Description | Example | \n",
    "| :-- | :-- | :-- |\n",
    "| `import matplotlib.pyplot as plt` | Import matplotlib |  |\n",
    "| `fig = plt.figure()` | Make a new matplotlib figure |  |\n",
    "| `fig.savefig(filename)`  | Save the figure to a file |  |\n",
    "| `fig = plt.gcf()` | Get the current figure |  |\n",
    "| `plt.savefig(filename)` | Save the current figure to a file |  |\n",
    "| `plt.close();`  | Don't show the plot |  |"
   ]
  },
  {
   "cell_type": "code",
   "execution_count": 9,
   "id": "8dbc4965-ee28-4ff7-968d-a51bda0d762a",
   "metadata": {},
   "outputs": [],
   "source": [
    "import matplotlib.pyplot as plt"
   ]
  },
  {
   "cell_type": "markdown",
   "id": "a3f19762-ab13-4d0f-8804-8be33831e57a",
   "metadata": {},
   "source": [
    "Save a histogram of all the reviews to `'../results/rating_hists/all_reviews.png'`:"
   ]
  },
  {
   "cell_type": "code",
   "execution_count": 10,
   "id": "aafe471b-b88a-4ba7-b43a-617ff41a46ca",
   "metadata": {},
   "outputs": [
    {
     "data": {
      "image/png": "[encoded data removed]",
      "text/plain": [
       "<Figure size 432x288 with 1 Axes>"
      ]
     },
     "metadata": {
      "needs_background": "light"
     },
     "output_type": "display_data"
    }
   ],
   "source": [
    "fold = Path('../results/rating_hists')\n",
    "fold.mkdir(exist_ok=True, parents=True)\n",
    "plt.hist(df.rating);\n",
    "plt.savefig(fold / 'all.png');"
   ]
  },
  {
   "cell_type": "markdown",
   "id": "19bae803-dbe0-4b45-a0d0-04a09cdc7c92",
   "metadata": {},
   "source": [
    "For each platform, save  a histogram of the reviews to `'../results/rating_hists/{platform}.png'` (note: some platforms don't have a rating system; don't include those platforms):"
   ]
  },
  {
   "cell_type": "code",
   "execution_count": 11,
   "id": "a61723d6-0f53-4835-904e-28139cea056f",
   "metadata": {
    "tags": [
     "exercise"
    ]
   },
   "outputs": [],
   "source": [
    "fold = Path('../results/rating_hists')\n",
    "fold.mkdir(exist_ok=True, parents=True)\n",
    "for platform, rows in df.groupby('platform'):\n",
    "    rows = rows[rows.rating.notna()]\n",
    "    plt.figure()\n",
    "    plt.hist(rows.rating);\n",
    "    plt.savefig(fold / f'{platform}.png');\n",
    "    plt.close();"
   ]
  },
  {
   "cell_type": "markdown",
   "id": "3098a5fc-c529-49a5-aff8-5655b5ed41e5",
   "metadata": {},
   "source": [
    "Example: make a box plot showing the ratings for free vs nonfree courses:"
   ]
  },
  {
   "cell_type": "code",
   "execution_count": 12,
   "id": "ee1052a2-4dc8-45c1-859d-f3a2ac5cd30a",
   "metadata": {},
   "outputs": [
    {
     "data": {
      "image/png": "[encoded data removed]",
      "text/plain": [
       "<Figure size 432x288 with 1 Axes>"
      ]
     },
     "metadata": {
      "needs_background": "light"
     },
     "output_type": "display_data"
    }
   ],
   "source": [
    "df[['rating', 'free']].plot.box(by='free');"
   ]
  },
  {
   "cell_type": "markdown",
   "id": "70803538-eed6-48d4-9425-3e00da454a63",
   "metadata": {},
   "source": [
    "For each level, make a box plot showing the ratings for free vs nonfree courses, putting the plots in `../results/rating_levels_box/{level}.png`:"
   ]
  },
  {
   "cell_type": "code",
   "execution_count": 13,
   "id": "3263aa86-9a00-482b-82a5-4ab74335e0c3",
   "metadata": {
    "tags": [
     "exercise"
    ]
   },
   "outputs": [
    {
     "data": {
      "text/plain": [
       "<Figure size 432x288 with 0 Axes>"
      ]
     },
     "metadata": {},
     "output_type": "display_data"
    },
    {
     "data": {
      "text/plain": [
       "<Figure size 432x288 with 0 Axes>"
      ]
     },
     "metadata": {},
     "output_type": "display_data"
    },
    {
     "data": {
      "text/plain": [
       "<Figure size 432x288 with 0 Axes>"
      ]
     },
     "metadata": {},
     "output_type": "display_data"
    },
    {
     "data": {
      "text/plain": [
       "<Figure size 432x288 with 0 Axes>"
      ]
     },
     "metadata": {},
     "output_type": "display_data"
    }
   ],
   "source": [
    "fold = Path('../results/rating_levels_box')\n",
    "fold.mkdir(parents=True, exist_ok=True)\n",
    "for level, rows in df.groupby('level'):\n",
    "    plt.figure();\n",
    "    rows[['rating', 'free']].plot.box(by='free');\n",
    "    plt.savefig(fold / f'{level}.png');\n",
    "    plt.close();"
   ]
  },
  {
   "cell_type": "markdown",
   "id": "6f49297c-c518-4dd4-8342-e77acf60e459",
   "metadata": {},
   "source": [
    "## Concatenating Multiple Same-Structured Files into One DataFrame for Analysis"
   ]
  },
  {
   "cell_type": "markdown",
   "id": "ae777a59-d4b7-4db2-bf69-46bedf5f93a6",
   "metadata": {
    "cell_id": "00002-61e3c02f-1c31-46c4-b037-871e5b50816c",
    "deepnote_cell_type": "markdown"
   },
   "source": [
    "## Concatenation / Appends\n",
    "\n",
    "The `pd.concat()` fucntion and `DataFrame.append()` method takes DataFrames with identical columns and makes a DataFrame that is **taller** than either of them by stacking them on top of each other.\n",
    "\n",
    "For example, it can turn this `df1` DataFrame:\n",
    "\n",
    "| Day | Weather |\n",
    "| :-: | :---:   |\n",
    "| Monday | Sunny   |\n",
    "| Tuesday | Rainy |\n",
    "\n",
    "and this `df2` DataFrame:\n",
    "\n",
    "| Day | Weather |\n",
    "| :-: | :---:   |\n",
    "| Wednesday | Sunny   |\n",
    "| Thursday | Rainy |\n",
    "\n",
    "into this:\n",
    "\n",
    "| Day | Weather |\n",
    "| :-: | :---:   |\n",
    "| Monday | Sunny   |\n",
    "| Tuesday | Rainy |\n",
    "| Wednesday | Sunny   |\n",
    "| Thursday | Rainy |\n",
    "\n",
    "\n",
    "with one line of code:\n",
    "\n",
    "```python\n",
    "pd.concat([df1, df2])\n",
    "```\n",
    "\n",
    "**Note:** If you'd like pandas to ignore the index of the dataframes when appending them, the following option is helpful:\n",
    "\n",
    "```python\n",
    "pd.concat([df1, df2], ignore_index=True)\n",
    "```\n",
    "\n",
    "**Note:** With the `pd.concat()` function, you can concatenate as many dataframes in one step as you want!"
   ]
  },
  {
   "cell_type": "markdown",
   "id": "43199d14-64d4-4a47-9170-3f928242a9f7",
   "metadata": {
    "cell_id": "00003-e6a66cd9-651e-488a-afb1-a17274d9f424",
    "deepnote_cell_type": "markdown"
   },
   "source": [
    "#### Exercise\n",
    "\n",
    "Let's practice concatenating DataFrames with the `pd.concat` function:"
   ]
  },
  {
   "cell_type": "code",
   "execution_count": null,
   "id": "32a6b4b3-008c-4636-95bb-903945255353",
   "metadata": {
    "cell_id": "00004-c6c147aa-d805-4448-abcf-ac3679177d8f",
    "deepnote_cell_type": "code"
   },
   "outputs": [
    {
     "data": {
      "text/html": [
       "<div>\n",
       "<style scoped>\n",
       "    .dataframe tbody tr th:only-of-type {\n",
       "        vertical-align: middle;\n",
       "    }\n",
       "\n",
       "    .dataframe tbody tr th {\n",
       "        vertical-align: top;\n",
       "    }\n",
       "\n",
       "    .dataframe thead th {\n",
       "        text-align: right;\n",
       "    }\n",
       "</style>\n",
       "<table border=\"1\" class=\"dataframe\">\n",
       "  <thead>\n",
       "    <tr style=\"text-align: right;\">\n",
       "      <th></th>\n",
       "      <th>Name</th>\n",
       "      <th>Age</th>\n",
       "    </tr>\n",
       "  </thead>\n",
       "  <tbody>\n",
       "    <tr>\n",
       "      <th>0</th>\n",
       "      <td>Jackson</td>\n",
       "      <td>16</td>\n",
       "    </tr>\n",
       "    <tr>\n",
       "      <th>1</th>\n",
       "      <td>Josh</td>\n",
       "      <td>19</td>\n",
       "    </tr>\n",
       "    <tr>\n",
       "      <th>2</th>\n",
       "      <td>Jenny</td>\n",
       "      <td>17</td>\n",
       "    </tr>\n",
       "  </tbody>\n",
       "</table>\n",
       "</div>"
      ],
      "text/plain": [
       "      Name  Age\n",
       "0  Jackson   16\n",
       "1     Josh   19\n",
       "2    Jenny   17"
      ]
     },
     "execution_count": 23,
     "metadata": {},
     "output_type": "execute_result"
    }
   ],
   "source": [
    "df1 = pd.DataFrame({'Name': ['Jackson', 'Josh', 'Jenny'], 'Age': [16, 19, 17]})\n",
    "df1"
   ]
  },
  {
   "cell_type": "code",
   "execution_count": null,
   "id": "1bcf631b-d930-4a0f-890c-952939d5b9d2",
   "metadata": {
    "cell_id": "00005-5451c245-d99f-4bd3-aab4-6e168fe5060f",
    "deepnote_cell_type": "code",
    "tags": []
   },
   "outputs": [
    {
     "data": {
      "text/html": [
       "<div>\n",
       "<style scoped>\n",
       "    .dataframe tbody tr th:only-of-type {\n",
       "        vertical-align: middle;\n",
       "    }\n",
       "\n",
       "    .dataframe tbody tr th {\n",
       "        vertical-align: top;\n",
       "    }\n",
       "\n",
       "    .dataframe thead th {\n",
       "        text-align: right;\n",
       "    }\n",
       "</style>\n",
       "<table border=\"1\" class=\"dataframe\">\n",
       "  <thead>\n",
       "    <tr style=\"text-align: right;\">\n",
       "      <th></th>\n",
       "      <th>Name</th>\n",
       "      <th>Age</th>\n",
       "    </tr>\n",
       "  </thead>\n",
       "  <tbody>\n",
       "    <tr>\n",
       "      <th>3</th>\n",
       "      <td>Jess</td>\n",
       "      <td>21</td>\n",
       "    </tr>\n",
       "    <tr>\n",
       "      <th>4</th>\n",
       "      <td>Jon</td>\n",
       "      <td>16</td>\n",
       "    </tr>\n",
       "    <tr>\n",
       "      <th>5</th>\n",
       "      <td>Joe</td>\n",
       "      <td>23</td>\n",
       "    </tr>\n",
       "  </tbody>\n",
       "</table>\n",
       "</div>"
      ],
      "text/plain": [
       "   Name  Age\n",
       "3  Jess   21\n",
       "4   Jon   16\n",
       "5   Joe   23"
      ]
     },
     "execution_count": 28,
     "metadata": {},
     "output_type": "execute_result"
    }
   ],
   "source": [
    "df2 = pd.DataFrame({'Name': ['Jess', 'Jon', 'Joe'], 'Age': [21, 16, 23]}, index=[3, 4, 5])\n",
    "df2"
   ]
  },
  {
   "cell_type": "code",
   "execution_count": null,
   "id": "a587cde5-6f67-4c24-962e-b6bd7d7837fa",
   "metadata": {
    "cell_id": "00006-2f8fb88a-badc-48d7-a8df-74ea70c8d767",
    "deepnote_cell_type": "code"
   },
   "outputs": [
    {
     "data": {
      "text/html": [
       "<div>\n",
       "<style scoped>\n",
       "    .dataframe tbody tr th:only-of-type {\n",
       "        vertical-align: middle;\n",
       "    }\n",
       "\n",
       "    .dataframe tbody tr th {\n",
       "        vertical-align: top;\n",
       "    }\n",
       "\n",
       "    .dataframe thead th {\n",
       "        text-align: right;\n",
       "    }\n",
       "</style>\n",
       "<table border=\"1\" class=\"dataframe\">\n",
       "  <thead>\n",
       "    <tr style=\"text-align: right;\">\n",
       "      <th></th>\n",
       "      <th>Name</th>\n",
       "      <th>Age</th>\n",
       "    </tr>\n",
       "  </thead>\n",
       "  <tbody>\n",
       "    <tr>\n",
       "      <th>0</th>\n",
       "      <td>Jill</td>\n",
       "      <td>5</td>\n",
       "    </tr>\n",
       "    <tr>\n",
       "      <th>1</th>\n",
       "      <td>Josephine</td>\n",
       "      <td>10</td>\n",
       "    </tr>\n",
       "    <tr>\n",
       "      <th>2</th>\n",
       "      <td>Jack</td>\n",
       "      <td>61</td>\n",
       "    </tr>\n",
       "  </tbody>\n",
       "</table>\n",
       "</div>"
      ],
      "text/plain": [
       "        Name  Age\n",
       "0       Jill    5\n",
       "1  Josephine   10\n",
       "2       Jack   61"
      ]
     },
     "execution_count": 36,
     "metadata": {},
     "output_type": "execute_result"
    }
   ],
   "source": [
    "df3 = pd.DataFrame({'Name': ['Jill', 'Josephine', 'Jack'], 'Age': [5, 10, 61]})\n",
    "df3"
   ]
  },
  {
   "cell_type": "markdown",
   "id": "0d3ffffb-7d9a-4650-91e2-7ca41164a1cf",
   "metadata": {
    "cell_id": "00007-0a9f0d08-af5c-4d21-b794-6c0bbfdcde99",
    "deepnote_cell_type": "markdown"
   },
   "source": [
    "Concatenate df1 and df2 together!"
   ]
  },
  {
   "cell_type": "code",
   "execution_count": null,
   "id": "1262e9ce-3df6-487b-8e33-0664702e5f92",
   "metadata": {
    "cell_id": "00008-6422f269-c90a-4983-9320-055261859499",
    "deepnote_cell_type": "code"
   },
   "outputs": [],
   "source": []
  },
  {
   "cell_type": "markdown",
   "id": "e9368b08-2741-4635-885b-d09acd78050f",
   "metadata": {
    "cell_id": "00009-91952e38-be0f-4add-a35f-e28ed232bb0b",
    "deepnote_cell_type": "markdown"
   },
   "source": [
    "Concatenate df2 and df3 together!"
   ]
  },
  {
   "cell_type": "code",
   "execution_count": null,
   "id": "381b5b1e-76f8-448a-823d-bf85790d877d",
   "metadata": {
    "cell_id": "00010-7fec83f6-99f3-43bf-8cc5-6fb1322d6c23",
    "deepnote_cell_type": "code"
   },
   "outputs": [],
   "source": []
  },
  {
   "cell_type": "markdown",
   "id": "a8cd141a-968e-456a-87ff-1cbf8f21bf11",
   "metadata": {
    "cell_id": "00011-5c00e752-5b0c-4ed8-a643-61d537351bd5",
    "deepnote_cell_type": "markdown"
   },
   "source": [
    "Concatenate all three dataframes in a single line"
   ]
  },
  {
   "cell_type": "code",
   "execution_count": null,
   "id": "25d9bd2c-a7ec-4ad0-b25b-adb31e4353e8",
   "metadata": {
    "cell_id": "00012-f75faf2a-d253-4219-893a-1cf89319964e",
    "deepnote_cell_type": "code"
   },
   "outputs": [],
   "source": []
  },
  {
   "cell_type": "markdown",
   "id": "c3971033-b300-4a3e-a6a0-845f59d815eb",
   "metadata": {
    "cell_id": "00013-3bcc7203-5ed8-4d7b-9732-1980c4a99ec3",
    "deepnote_cell_type": "markdown"
   },
   "source": [
    "The index in these datasets is unlabelled, indicating that they potentially don't contain useful data.  Concatenate them all together so that the index of the final dataframe is simply 0-8."
   ]
  },
  {
   "cell_type": "code",
   "execution_count": null,
   "id": "5bd1be8d-d7a3-480c-a8a6-a958ecab560e",
   "metadata": {
    "cell_id": "00014-96c3b4fa-5c38-4934-b19d-3bb7f483d154",
    "deepnote_cell_type": "code"
   },
   "outputs": [],
   "source": []
  },
  {
   "cell_type": "markdown",
   "id": "5ded7d0e-1540-446d-b447-d857aba0c446",
   "metadata": {},
   "source": [
    "| Function | Description | Example |\n",
    "| :-- | :-- | :-- |\n",
    "| `glob.glob(pattern)` | Get a list of all files that match a given pattern | `glob('data/**/*.csv/')` |\n",
    "| `pd.read_csv(fname)` | Return a DataFrmae from a CSV file, given the filename | `pd.read_csv('data/raw/countries_2001.csv')` |\n",
    "| `pd.concat(dfs)` | Append together same-columned DataFrames along the rows | `pd.concat([df1, df2], ignore_index=True)` |\n",
    "| `dask.dataframe.read_csv(glob_pattern).compute()` | Read all files that match a pattern | `dd.read_csv('data/*.csv').compute()'` |"
   ]
  },
  {
   "cell_type": "markdown",
   "id": "42dfc374-f05b-4fb3-95fa-17c1ca89f641",
   "metadata": {},
   "source": [
    "**Exercises**"
   ]
  },
  {
   "cell_type": "markdown",
   "id": "128469fc-cd7e-4d31-ab47-cd1c4b49e653",
   "metadata": {},
   "source": [
    "Example: Get a list of all the csv files in `../data/processed/levels`:"
   ]
  },
  {
   "cell_type": "code",
   "execution_count": 29,
   "id": "1732ae70-4f77-4b95-b342-9e36e4960ce5",
   "metadata": {},
   "outputs": [
    {
     "data": {
      "text/plain": [
       "['../data/processed/levels/mixed.csv',\n",
       " '../data/processed/levels/intermediate.csv',\n",
       " '../data/processed/levels/beginner.csv',\n",
       " '../data/processed/levels/advanced.csv']"
      ]
     },
     "execution_count": 29,
     "metadata": {},
     "output_type": "execute_result"
    }
   ],
   "source": [
    "from glob import glob\n",
    "glob('../data/processed/levels/*.csv')"
   ]
  },
  {
   "cell_type": "markdown",
   "id": "c05d4189-407a-4221-b37f-b32c0ef3bf38",
   "metadata": {},
   "source": [
    "Get a list of all the csv files in `../data/processed/platforms`:"
   ]
  },
  {
   "cell_type": "code",
   "execution_count": 16,
   "id": "614630fc-1453-46af-9a7f-e517fb2917a7",
   "metadata": {
    "tags": [
     "exercise"
    ]
   },
   "outputs": [
    {
     "data": {
      "text/plain": [
       "['../data/processed/platforms/pluralsight.csv',\n",
       " '../data/processed/platforms/stepik.csv',\n",
       " '../data/processed/platforms/futurelearn.csv',\n",
       " '../data/processed/platforms/coursera.csv',\n",
       " '../data/processed/platforms/edx.csv',\n",
       " '../data/processed/platforms/udemy.csv',\n",
       " '../data/processed/platforms/alison.csv',\n",
       " '../data/processed/platforms/skillshare.csv']"
      ]
     },
     "execution_count": 16,
     "metadata": {},
     "output_type": "execute_result"
    }
   ],
   "source": [
    "glob('../data/processed/platforms/*.csv')"
   ]
  },
  {
   "cell_type": "markdown",
   "id": "182471c5-db22-4f44-84a0-e7416fe4a8c6",
   "metadata": {},
   "source": [
    "Get a list of all the csv files that have a rating between 4.0 and 4.9 in `../data/processed/ratings`:"
   ]
  },
  {
   "cell_type": "code",
   "execution_count": 17,
   "id": "e40dd757-a097-4735-b2f0-4fc1b1877d36",
   "metadata": {
    "tags": [
     "exercise"
    ]
   },
   "outputs": [
    {
     "data": {
      "text/plain": [
       "['../data/processed/ratings/4.3.csv',\n",
       " '../data/processed/ratings/4.8.csv',\n",
       " '../data/processed/ratings/4.0.csv',\n",
       " '../data/processed/ratings/4.4.csv',\n",
       " '../data/processed/ratings/4.7.csv',\n",
       " '../data/processed/ratings/4.5.csv',\n",
       " '../data/processed/ratings/4.9.csv',\n",
       " '../data/processed/ratings/4.2.csv',\n",
       " '../data/processed/ratings/4.6.csv',\n",
       " '../data/processed/ratings/4.1.csv']"
      ]
     },
     "execution_count": 17,
     "metadata": {},
     "output_type": "execute_result"
    }
   ],
   "source": [
    "glob('../data/processed/ratings/4*.csv')"
   ]
  },
  {
   "cell_type": "markdown",
   "id": "516d4fc2-85c4-4a06-9ec1-850e2e86981b",
   "metadata": {},
   "source": [
    "Read in all the files in `../data/processed/thirds`, concatenating them into a single dataframe:"
   ]
  },
  {
   "cell_type": "code",
   "execution_count": 18,
   "id": "81f573d6-4822-4a8c-b45c-a0fd85c8a25c",
   "metadata": {
    "tags": [
     "exercise"
    ]
   },
   "outputs": [
    {
     "data": {
      "text/html": [
       "<div>\n",
       "<style scoped>\n",
       "    .dataframe tbody tr th:only-of-type {\n",
       "        vertical-align: middle;\n",
       "    }\n",
       "\n",
       "    .dataframe tbody tr th {\n",
       "        vertical-align: top;\n",
       "    }\n",
       "\n",
       "    .dataframe thead th {\n",
       "        text-align: right;\n",
       "    }\n",
       "</style>\n",
       "<table border=\"1\" class=\"dataframe\">\n",
       "  <thead>\n",
       "    <tr style=\"text-align: right;\">\n",
       "      <th></th>\n",
       "      <th>title</th>\n",
       "      <th>author</th>\n",
       "      <th>rating</th>\n",
       "      <th>votes_count</th>\n",
       "      <th>students_count</th>\n",
       "      <th>level</th>\n",
       "      <th>duration</th>\n",
       "      <th>platform</th>\n",
       "      <th>free</th>\n",
       "    </tr>\n",
       "  </thead>\n",
       "  <tbody>\n",
       "    <tr>\n",
       "      <th>0</th>\n",
       "      <td>데이터 리터러시 - 데이터 읽고 쓰기의 기술</td>\n",
       "      <td>마소캠퍼스 머니매그넷</td>\n",
       "      <td>4.8</td>\n",
       "      <td>10.0</td>\n",
       "      <td>11.0</td>\n",
       "      <td>Mixed</td>\n",
       "      <td>6.0</td>\n",
       "      <td>Udemy</td>\n",
       "      <td>False</td>\n",
       "    </tr>\n",
       "    <tr>\n",
       "      <th>1</th>\n",
       "      <td>데이터 리터러시 - 데이터 읽고 쓰기의 기술</td>\n",
       "      <td>마소캠퍼스 머니매그넷</td>\n",
       "      <td>4.8</td>\n",
       "      <td>10.0</td>\n",
       "      <td>11.0</td>\n",
       "      <td>Mixed</td>\n",
       "      <td>6.0</td>\n",
       "      <td>Udemy</td>\n",
       "      <td>False</td>\n",
       "    </tr>\n",
       "    <tr>\n",
       "      <th>2</th>\n",
       "      <td>데이터 리터러시 - 데이터 읽고 쓰기의 기술</td>\n",
       "      <td>마소캠퍼스 머니매그넷</td>\n",
       "      <td>4.8</td>\n",
       "      <td>10.0</td>\n",
       "      <td>11.0</td>\n",
       "      <td>Mixed</td>\n",
       "      <td>6.0</td>\n",
       "      <td>Udemy</td>\n",
       "      <td>False</td>\n",
       "    </tr>\n",
       "  </tbody>\n",
       "</table>\n",
       "</div>"
      ],
      "text/plain": [
       "                      title       author  rating  votes_count  students_count  \\\n",
       "0  데이터 리터러시 - 데이터 읽고 쓰기의 기술  마소캠퍼스 머니매그넷     4.8         10.0            11.0   \n",
       "1  데이터 리터러시 - 데이터 읽고 쓰기의 기술  마소캠퍼스 머니매그넷     4.8         10.0            11.0   \n",
       "2  데이터 리터러시 - 데이터 읽고 쓰기의 기술  마소캠퍼스 머니매그넷     4.8         10.0            11.0   \n",
       "\n",
       "   level  duration platform   free  \n",
       "0  Mixed       6.0    Udemy  False  \n",
       "1  Mixed       6.0    Udemy  False  \n",
       "2  Mixed       6.0    Udemy  False  "
      ]
     },
     "execution_count": 18,
     "metadata": {},
     "output_type": "execute_result"
    }
   ],
   "source": [
    "dfs = []\n",
    "for fname in glob('../data/processed/thirds/*.csv'):\n",
    "    dfs.append(pd.read_csv(fname, index_col=0))\n",
    "df = pd.concat(dfs, ignore_index=True)\n",
    "df.head()"
   ]
  },
  {
   "cell_type": "markdown",
   "id": "c7e10271-15e0-4c75-a9c2-310b724bddd8",
   "metadata": {},
   "source": [
    "Read in all the files in `../data/processed/authors`, concatenating them into a single dataframe:"
   ]
  },
  {
   "cell_type": "code",
   "execution_count": 19,
   "id": "4c535d96-2355-4f19-b506-61a339eea3fa",
   "metadata": {
    "tags": [
     "exercise"
    ]
   },
   "outputs": [
    {
     "name": "stdout",
     "output_type": "stream",
     "text": [
      "CPU times: user 3.42 s, sys: 89.1 ms, total: 3.51 s\n",
      "Wall time: 3.46 s\n"
     ]
    },
    {
     "data": {
      "text/html": [
       "<div>\n",
       "<style scoped>\n",
       "    .dataframe tbody tr th:only-of-type {\n",
       "        vertical-align: middle;\n",
       "    }\n",
       "\n",
       "    .dataframe tbody tr th {\n",
       "        vertical-align: top;\n",
       "    }\n",
       "\n",
       "    .dataframe thead th {\n",
       "        text-align: right;\n",
       "    }\n",
       "</style>\n",
       "<table border=\"1\" class=\"dataframe\">\n",
       "  <thead>\n",
       "    <tr style=\"text-align: right;\">\n",
       "      <th></th>\n",
       "      <th>title</th>\n",
       "      <th>author</th>\n",
       "      <th>rating</th>\n",
       "      <th>votes_count</th>\n",
       "      <th>students_count</th>\n",
       "      <th>level</th>\n",
       "      <th>duration</th>\n",
       "      <th>platform</th>\n",
       "      <th>free</th>\n",
       "    </tr>\n",
       "  </thead>\n",
       "  <tbody>\n",
       "    <tr>\n",
       "      <th>0</th>\n",
       "      <td>왕초보 데이터 분석 with R</td>\n",
       "      <td>Evan Jung</td>\n",
       "      <td>5.0</td>\n",
       "      <td>7.0</td>\n",
       "      <td>10.0</td>\n",
       "      <td>Mixed</td>\n",
       "      <td>10.0</td>\n",
       "      <td>Udemy</td>\n",
       "      <td>False</td>\n",
       "    </tr>\n",
       "    <tr>\n",
       "      <th>1</th>\n",
       "      <td>AIoT物联网MQTT++Emqx整合</td>\n",
       "      <td>Array老师 高薪启蒙</td>\n",
       "      <td>4.0</td>\n",
       "      <td>1.0</td>\n",
       "      <td>8.0</td>\n",
       "      <td>Mixed</td>\n",
       "      <td>2.5</td>\n",
       "      <td>Udemy</td>\n",
       "      <td>False</td>\n",
       "    </tr>\n",
       "    <tr>\n",
       "      <th>2</th>\n",
       "      <td>ディープラーニング：SONYニューラルネットワークコンソール（NNC)による深層学習入門</td>\n",
       "      <td>亀田 健司</td>\n",
       "      <td>3.8</td>\n",
       "      <td>143.0</td>\n",
       "      <td>791.0</td>\n",
       "      <td>Beginner</td>\n",
       "      <td>10.0</td>\n",
       "      <td>Udemy</td>\n",
       "      <td>False</td>\n",
       "    </tr>\n",
       "    <tr>\n",
       "      <th>3</th>\n",
       "      <td>Python : Pandas &amp; Altair Data Science &amp; Visual...</td>\n",
       "      <td>Ashwin Pajankar • 75,000+ Students Worldwide</td>\n",
       "      <td>3.9</td>\n",
       "      <td>23.0</td>\n",
       "      <td>1238.0</td>\n",
       "      <td>Intermediate</td>\n",
       "      <td>14.5</td>\n",
       "      <td>Udemy</td>\n",
       "      <td>False</td>\n",
       "    </tr>\n",
       "    <tr>\n",
       "      <th>4</th>\n",
       "      <td>Python Data Processing with Pandas and Plotly</td>\n",
       "      <td>Ashwin Pajankar • 75,000+ Students Worldwide</td>\n",
       "      <td>4.0</td>\n",
       "      <td>8.0</td>\n",
       "      <td>152.0</td>\n",
       "      <td>Intermediate</td>\n",
       "      <td>13.0</td>\n",
       "      <td>Udemy</td>\n",
       "      <td>False</td>\n",
       "    </tr>\n",
       "  </tbody>\n",
       "</table>\n",
       "</div>"
      ],
      "text/plain": [
       "                                               title  \\\n",
       "0                                  왕초보 데이터 분석 with R   \n",
       "1                                AIoT物联网MQTT++Emqx整合   \n",
       "2       ディープラーニング：SONYニューラルネットワークコンソール（NNC)による深層学習入門   \n",
       "3  Python : Pandas & Altair Data Science & Visual...   \n",
       "4      Python Data Processing with Pandas and Plotly   \n",
       "\n",
       "                                         author  rating  votes_count  \\\n",
       "0                                     Evan Jung     5.0          7.0   \n",
       "1                                  Array老师 高薪启蒙     4.0          1.0   \n",
       "2                                         亀田 健司     3.8        143.0   \n",
       "3  Ashwin Pajankar • 75,000+ Students Worldwide     3.9         23.0   \n",
       "4  Ashwin Pajankar • 75,000+ Students Worldwide     4.0          8.0   \n",
       "\n",
       "   students_count         level  duration platform   free  \n",
       "0            10.0         Mixed      10.0    Udemy  False  \n",
       "1             8.0         Mixed       2.5    Udemy  False  \n",
       "2           791.0      Beginner      10.0    Udemy  False  \n",
       "3          1238.0  Intermediate      14.5    Udemy  False  \n",
       "4           152.0  Intermediate      13.0    Udemy  False  "
      ]
     },
     "execution_count": 19,
     "metadata": {},
     "output_type": "execute_result"
    }
   ],
   "source": [
    "dfs = []\n",
    "for fname in glob('../data/processed/authors/*.csv'):\n",
    "    dfs.append(pd.read_csv(fname, index_col=0))\n",
    "df = pd.concat(dfs, ignore_index=True)\n",
    "df.head()"
   ]
  },
  {
   "cell_type": "markdown",
   "id": "9896fb71-436f-4bc3-983e-3127aaf86d4b",
   "metadata": {},
   "source": [
    "Make a dataframe from the files in `../data/processed/authors`, keeping only the beginner-level, non-free courses."
   ]
  },
  {
   "cell_type": "code",
   "execution_count": 20,
   "id": "bf7f8f6c-6248-442b-a3c5-40d4d9557f26",
   "metadata": {
    "tags": [
     "exercise"
    ]
   },
   "outputs": [
    {
     "name": "stdout",
     "output_type": "stream",
     "text": [
      "CPU times: user 4.93 s, sys: 56.2 ms, total: 4.98 s\n",
      "Wall time: 4.98 s\n"
     ]
    },
    {
     "data": {
      "text/html": [
       "<div>\n",
       "<style scoped>\n",
       "    .dataframe tbody tr th:only-of-type {\n",
       "        vertical-align: middle;\n",
       "    }\n",
       "\n",
       "    .dataframe tbody tr th {\n",
       "        vertical-align: top;\n",
       "    }\n",
       "\n",
       "    .dataframe thead th {\n",
       "        text-align: right;\n",
       "    }\n",
       "</style>\n",
       "<table border=\"1\" class=\"dataframe\">\n",
       "  <thead>\n",
       "    <tr style=\"text-align: right;\">\n",
       "      <th></th>\n",
       "      <th>title</th>\n",
       "      <th>author</th>\n",
       "      <th>rating</th>\n",
       "      <th>votes_count</th>\n",
       "      <th>students_count</th>\n",
       "      <th>level</th>\n",
       "      <th>duration</th>\n",
       "      <th>platform</th>\n",
       "      <th>free</th>\n",
       "    </tr>\n",
       "  </thead>\n",
       "  <tbody>\n",
       "    <tr>\n",
       "      <th>0</th>\n",
       "      <td>ディープラーニング：SONYニューラルネットワークコンソール（NNC)による深層学習入門</td>\n",
       "      <td>亀田 健司</td>\n",
       "      <td>3.8</td>\n",
       "      <td>143.0</td>\n",
       "      <td>791.0</td>\n",
       "      <td>Beginner</td>\n",
       "      <td>10.0</td>\n",
       "      <td>Udemy</td>\n",
       "      <td>False</td>\n",
       "    </tr>\n",
       "    <tr>\n",
       "      <th>1</th>\n",
       "      <td>Python and Pandas Data Science and Visualization</td>\n",
       "      <td>Ashwin Pajankar • 75,000+ Students Worldwide</td>\n",
       "      <td>4.0</td>\n",
       "      <td>2.0</td>\n",
       "      <td>30.0</td>\n",
       "      <td>Beginner</td>\n",
       "      <td>18.0</td>\n",
       "      <td>Udemy</td>\n",
       "      <td>False</td>\n",
       "    </tr>\n",
       "    <tr>\n",
       "      <th>2</th>\n",
       "      <td>Alteryx Designer ハンズオントレーニング（基礎編）</td>\n",
       "      <td>Classmethod, Inc. Training</td>\n",
       "      <td>4.4</td>\n",
       "      <td>138.0</td>\n",
       "      <td>396.0</td>\n",
       "      <td>Beginner</td>\n",
       "      <td>1.0</td>\n",
       "      <td>Udemy</td>\n",
       "      <td>False</td>\n",
       "    </tr>\n",
       "    <tr>\n",
       "      <th>3</th>\n",
       "      <td>Big Data: el impacto de los datos masivos en l...</td>\n",
       "      <td>Universitat Autònoma de Barcelona</td>\n",
       "      <td>4.7</td>\n",
       "      <td>1939.0</td>\n",
       "      <td>31000.0</td>\n",
       "      <td>Beginner</td>\n",
       "      <td>NaN</td>\n",
       "      <td>Coursera</td>\n",
       "      <td>False</td>\n",
       "    </tr>\n",
       "    <tr>\n",
       "      <th>4</th>\n",
       "      <td>Big Data – Introducción al uso práctico de dat...</td>\n",
       "      <td>Universitat Autònoma de Barcelona</td>\n",
       "      <td>4.6</td>\n",
       "      <td>2469.0</td>\n",
       "      <td>42000.0</td>\n",
       "      <td>Beginner</td>\n",
       "      <td>72.0</td>\n",
       "      <td>Coursera</td>\n",
       "      <td>False</td>\n",
       "    </tr>\n",
       "  </tbody>\n",
       "</table>\n",
       "</div>"
      ],
      "text/plain": [
       "                                               title  \\\n",
       "0       ディープラーニング：SONYニューラルネットワークコンソール（NNC)による深層学習入門   \n",
       "1   Python and Pandas Data Science and Visualization   \n",
       "2                  Alteryx Designer ハンズオントレーニング（基礎編）   \n",
       "3  Big Data: el impacto de los datos masivos en l...   \n",
       "4  Big Data – Introducción al uso práctico de dat...   \n",
       "\n",
       "                                         author  rating  votes_count  \\\n",
       "0                                         亀田 健司     3.8        143.0   \n",
       "1  Ashwin Pajankar • 75,000+ Students Worldwide     4.0          2.0   \n",
       "2                    Classmethod, Inc. Training     4.4        138.0   \n",
       "3             Universitat Autònoma de Barcelona     4.7       1939.0   \n",
       "4             Universitat Autònoma de Barcelona     4.6       2469.0   \n",
       "\n",
       "   students_count     level  duration  platform   free  \n",
       "0           791.0  Beginner      10.0     Udemy  False  \n",
       "1            30.0  Beginner      18.0     Udemy  False  \n",
       "2           396.0  Beginner       1.0     Udemy  False  \n",
       "3         31000.0  Beginner       NaN  Coursera  False  \n",
       "4         42000.0  Beginner      72.0  Coursera  False  "
      ]
     },
     "execution_count": 20,
     "metadata": {},
     "output_type": "execute_result"
    }
   ],
   "source": [
    "dfs = []\n",
    "for fname in glob('../data/processed/authors/*.csv'):\n",
    "    df = pd.read_csv(fname, index_col=0)\n",
    "    df = df[(df.level == 'Beginner') & (df.free == False)]\n",
    "    dfs.append(df)\n",
    "df = pd.concat(dfs, ignore_index=True)\n",
    "df.head()"
   ]
  },
  {
   "cell_type": "markdown",
   "id": "5629a0ba-e39b-4b59-835b-382982a9210b",
   "metadata": {},
   "source": [
    "Using `%%time` at the top of the cell, compare the amount of time that is taken up by the code in the exercise where all the authors' courses were kept to the one where only the nonfree, beginner courses were kept.  Which do you expect to take more time?  Which actually takes more time?"
   ]
  },
  {
   "cell_type": "markdown",
   "id": "41a7dc6a-34f8-4b59-88b5-2e324ee93660",
   "metadata": {},
   "source": [
    "## Concatenating DataFrames across Files with Dask DataFrame\n",
    "\n",
    "The Dask DataFrame subpackage makes it possible to work on multiple files at once.  This is especially useful for performance on large datasets, but it also makes managing multiple files in general simple. Just use it like you would Pandas commands, and when you want Dask to make the DataFrame, run the `compute()` method:\n",
    "\n",
    "To Load and Concatenate many CSV files:\n",
    "\n",
    "```python\n",
    "import dask.dataframe as dd\n",
    "df = dd.read_csv(\"data/*.csv\").compute()\n",
    "```\n",
    "\n",
    "Oftentimes, the filename contains metadata data we'd like to include in the analysis.  Dask can add the filename as its own column in the dataframe, for followup text processing:\n",
    "\n",
    "```python\n",
    "df = dd.read_csv(\"data/*.csv\", include_path_column=True).compute()\n",
    "```\n",
    "\n",
    "| Function | Description | Example |\n",
    "| :-- | :-- | :-- |\n",
    "| `%pip install dask[dataframe]`  | Install dask and its extra dataframe dependencies |  | \n",
    "| `import dask.dataframe as dd` | Import dask dataframe | |\n",
    "| `dd.read_csv(glob_pattern).compute()` | Read all files that match a pattern | `dd.read_csv('data/*.csv').compute()'` |"
   ]
  },
  {
   "cell_type": "markdown",
   "id": "d68d2626-d6c7-4cdb-973d-0618473431a4",
   "metadata": {},
   "source": [
    "**Exercises**:"
   ]
  },
  {
   "cell_type": "markdown",
   "id": "f60ac969-71fa-4ee6-8689-f757133a2140",
   "metadata": {},
   "source": [
    "Using dask dataframe, read in all the authors csvs as a single dataframe:"
   ]
  },
  {
   "cell_type": "code",
   "execution_count": 22,
   "id": "f5001495-684d-40c5-8719-b62bdb266eb6",
   "metadata": {
    "tags": [
     "exercise"
    ]
   },
   "outputs": [
    {
     "data": {
      "text/html": [
       "<div>\n",
       "<style scoped>\n",
       "    .dataframe tbody tr th:only-of-type {\n",
       "        vertical-align: middle;\n",
       "    }\n",
       "\n",
       "    .dataframe tbody tr th {\n",
       "        vertical-align: top;\n",
       "    }\n",
       "\n",
       "    .dataframe thead th {\n",
       "        text-align: right;\n",
       "    }\n",
       "</style>\n",
       "<table border=\"1\" class=\"dataframe\">\n",
       "  <thead>\n",
       "    <tr style=\"text-align: right;\">\n",
       "      <th></th>\n",
       "      <th>Unnamed: 0</th>\n",
       "      <th>title</th>\n",
       "      <th>author</th>\n",
       "      <th>rating</th>\n",
       "      <th>votes_count</th>\n",
       "      <th>students_count</th>\n",
       "      <th>level</th>\n",
       "      <th>duration</th>\n",
       "      <th>platform</th>\n",
       "      <th>free</th>\n",
       "    </tr>\n",
       "  </thead>\n",
       "  <tbody>\n",
       "    <tr>\n",
       "      <th>0</th>\n",
       "      <td>890</td>\n",
       "      <td>Data Science - Data Mining Unsupervised Learni...</td>\n",
       "      <td>360DigiTMG Elearning</td>\n",
       "      <td>4.2</td>\n",
       "      <td>10.0</td>\n",
       "      <td>1308.0</td>\n",
       "      <td>Mixed</td>\n",
       "      <td>3.5</td>\n",
       "      <td>Udemy</td>\n",
       "      <td>False</td>\n",
       "    </tr>\n",
       "    <tr>\n",
       "      <th>0</th>\n",
       "      <td>890</td>\n",
       "      <td>Data Science - Data Mining Unsupervised Learni...</td>\n",
       "      <td>360DigiTMG Elearning</td>\n",
       "      <td>4.2</td>\n",
       "      <td>10.0</td>\n",
       "      <td>1308.0</td>\n",
       "      <td>Mixed</td>\n",
       "      <td>3.5</td>\n",
       "      <td>Udemy</td>\n",
       "      <td>False</td>\n",
       "    </tr>\n",
       "    <tr>\n",
       "      <th>0</th>\n",
       "      <td>478</td>\n",
       "      <td>Deep Learning with TensorFlow . []</td>\n",
       "      <td>365 Careers</td>\n",
       "      <td>4.7</td>\n",
       "      <td>2133.0</td>\n",
       "      <td>18928.0</td>\n",
       "      <td>Mixed</td>\n",
       "      <td>6.0</td>\n",
       "      <td>Udemy</td>\n",
       "      <td>False</td>\n",
       "    </tr>\n",
       "    <tr>\n",
       "      <th>1</th>\n",
       "      <td>570</td>\n",
       "      <td>The Data Science Course : Complete Data Scienc...</td>\n",
       "      <td>365 Careers</td>\n",
       "      <td>4.6</td>\n",
       "      <td>98689.0</td>\n",
       "      <td>437675.0</td>\n",
       "      <td>Mixed</td>\n",
       "      <td>30.0</td>\n",
       "      <td>Udemy</td>\n",
       "      <td>False</td>\n",
       "    </tr>\n",
       "    <tr>\n",
       "      <th>2</th>\n",
       "      <td>678</td>\n",
       "      <td>Statistics for Data Science and Business Analysis</td>\n",
       "      <td>365 Careers</td>\n",
       "      <td>4.6</td>\n",
       "      <td>26582.0</td>\n",
       "      <td>120106.0</td>\n",
       "      <td>Mixed</td>\n",
       "      <td>5.0</td>\n",
       "      <td>Udemy</td>\n",
       "      <td>False</td>\n",
       "    </tr>\n",
       "    <tr>\n",
       "      <th>...</th>\n",
       "      <td>...</td>\n",
       "      <td>...</td>\n",
       "      <td>...</td>\n",
       "      <td>...</td>\n",
       "      <td>...</td>\n",
       "      <td>...</td>\n",
       "      <td>...</td>\n",
       "      <td>...</td>\n",
       "      <td>...</td>\n",
       "      <td>...</td>\n",
       "    </tr>\n",
       "    <tr>\n",
       "      <th>3</th>\n",
       "      <td>2398</td>\n",
       "      <td>너무 쉬운 엑셀 피벗 테이블</td>\n",
       "      <td>김지형 M.D.</td>\n",
       "      <td>4.8</td>\n",
       "      <td>11.0</td>\n",
       "      <td>146.0</td>\n",
       "      <td>Beginner</td>\n",
       "      <td>1.5</td>\n",
       "      <td>Udemy</td>\n",
       "      <td>False</td>\n",
       "    </tr>\n",
       "    <tr>\n",
       "      <th>4</th>\n",
       "      <td>3409</td>\n",
       "      <td>완전 초보자, 매력적인 R 차트 쉽게 만들기</td>\n",
       "      <td>김지형 M.D.</td>\n",
       "      <td>5.0</td>\n",
       "      <td>1.0</td>\n",
       "      <td>16.0</td>\n",
       "      <td>Beginner</td>\n",
       "      <td>2.0</td>\n",
       "      <td>Udemy</td>\n",
       "      <td>False</td>\n",
       "    </tr>\n",
       "    <tr>\n",
       "      <th>5</th>\n",
       "      <td>3503</td>\n",
       "      <td>아빠가 들려주는 [데이터 수집과 정리의 기본]</td>\n",
       "      <td>김지형 M.D.</td>\n",
       "      <td>4.3</td>\n",
       "      <td>34.0</td>\n",
       "      <td>424.0</td>\n",
       "      <td>Beginner</td>\n",
       "      <td>0.6</td>\n",
       "      <td>Udemy</td>\n",
       "      <td>False</td>\n",
       "    </tr>\n",
       "    <tr>\n",
       "      <th>6</th>\n",
       "      <td>4504</td>\n",
       "      <td>아빠가 들려주는 [엑셀 데이터 시각화] 따라하기</td>\n",
       "      <td>김지형 M.D.</td>\n",
       "      <td>4.8</td>\n",
       "      <td>12.0</td>\n",
       "      <td>199.0</td>\n",
       "      <td>Beginner</td>\n",
       "      <td>3.5</td>\n",
       "      <td>Udemy</td>\n",
       "      <td>False</td>\n",
       "    </tr>\n",
       "    <tr>\n",
       "      <th>0</th>\n",
       "      <td>3564</td>\n",
       "      <td>데이터 리터러시 - 데이터 읽고 쓰기의 기술</td>\n",
       "      <td>마소캠퍼스 머니매그넷</td>\n",
       "      <td>4.8</td>\n",
       "      <td>10.0</td>\n",
       "      <td>11.0</td>\n",
       "      <td>Mixed</td>\n",
       "      <td>6.0</td>\n",
       "      <td>Udemy</td>\n",
       "      <td>False</td>\n",
       "    </tr>\n",
       "  </tbody>\n",
       "</table>\n",
       "<p>7114 rows × 10 columns</p>\n",
       "</div>"
      ],
      "text/plain": [
       "    Unnamed: 0                                              title  \\\n",
       "0          890  Data Science - Data Mining Unsupervised Learni...   \n",
       "0          890  Data Science - Data Mining Unsupervised Learni...   \n",
       "0          478                 Deep Learning with TensorFlow . []   \n",
       "1          570  The Data Science Course : Complete Data Scienc...   \n",
       "2          678  Statistics for Data Science and Business Analysis   \n",
       "..         ...                                                ...   \n",
       "3         2398                                    너무 쉬운 엑셀 피벗 테이블   \n",
       "4         3409                           완전 초보자, 매력적인 R 차트 쉽게 만들기   \n",
       "5         3503                          아빠가 들려주는 [데이터 수집과 정리의 기본]   \n",
       "6         4504                         아빠가 들려주는 [엑셀 데이터 시각화] 따라하기   \n",
       "0         3564                           데이터 리터러시 - 데이터 읽고 쓰기의 기술   \n",
       "\n",
       "                  author  rating  votes_count  students_count     level  \\\n",
       "0   360DigiTMG Elearning     4.2         10.0          1308.0     Mixed   \n",
       "0   360DigiTMG Elearning     4.2         10.0          1308.0     Mixed   \n",
       "0            365 Careers     4.7       2133.0         18928.0     Mixed   \n",
       "1            365 Careers     4.6      98689.0        437675.0     Mixed   \n",
       "2            365 Careers     4.6      26582.0        120106.0     Mixed   \n",
       "..                   ...     ...          ...             ...       ...   \n",
       "3               김지형 M.D.     4.8         11.0           146.0  Beginner   \n",
       "4               김지형 M.D.     5.0          1.0            16.0  Beginner   \n",
       "5               김지형 M.D.     4.3         34.0           424.0  Beginner   \n",
       "6               김지형 M.D.     4.8         12.0           199.0  Beginner   \n",
       "0            마소캠퍼스 머니매그넷     4.8         10.0            11.0     Mixed   \n",
       "\n",
       "    duration platform   free  \n",
       "0        3.5    Udemy  False  \n",
       "0        3.5    Udemy  False  \n",
       "0        6.0    Udemy  False  \n",
       "1       30.0    Udemy  False  \n",
       "2        5.0    Udemy  False  \n",
       "..       ...      ...    ...  \n",
       "3        1.5    Udemy  False  \n",
       "4        2.0    Udemy  False  \n",
       "5        0.6    Udemy  False  \n",
       "6        3.5    Udemy  False  \n",
       "0        6.0    Udemy  False  \n",
       "\n",
       "[7114 rows x 10 columns]"
      ]
     },
     "execution_count": 22,
     "metadata": {},
     "output_type": "execute_result"
    }
   ],
   "source": [
    "import dask.dataframe as dd\n",
    "dd.read_csv('../data/processed/authors/*.csv').compute()"
   ]
  },
  {
   "cell_type": "markdown",
   "id": "abd8d57f-5e44-4048-84dc-abfe9b5e9683",
   "metadata": {},
   "source": [
    "Using dask dataframe, read in all the authors csvs as a single dataframe, keeping only the beginner-level, non-free courses.  (Note: best if filtering is done before `.compute()` is called)"
   ]
  },
  {
   "cell_type": "code",
   "execution_count": 28,
   "id": "824fdeac-614c-491d-87c8-7e2cafa92c45",
   "metadata": {
    "tags": [
     "exercise"
    ]
   },
   "outputs": [
    {
     "data": {
      "text/html": [
       "<div>\n",
       "<style scoped>\n",
       "    .dataframe tbody tr th:only-of-type {\n",
       "        vertical-align: middle;\n",
       "    }\n",
       "\n",
       "    .dataframe tbody tr th {\n",
       "        vertical-align: top;\n",
       "    }\n",
       "\n",
       "    .dataframe thead th {\n",
       "        text-align: right;\n",
       "    }\n",
       "</style>\n",
       "<table border=\"1\" class=\"dataframe\">\n",
       "  <thead>\n",
       "    <tr style=\"text-align: right;\">\n",
       "      <th></th>\n",
       "      <th>Unnamed: 0</th>\n",
       "      <th>title</th>\n",
       "      <th>author</th>\n",
       "      <th>rating</th>\n",
       "      <th>votes_count</th>\n",
       "      <th>students_count</th>\n",
       "      <th>level</th>\n",
       "      <th>duration</th>\n",
       "      <th>platform</th>\n",
       "      <th>free</th>\n",
       "    </tr>\n",
       "  </thead>\n",
       "  <tbody>\n",
       "    <tr>\n",
       "      <th>0</th>\n",
       "      <td>3861</td>\n",
       "      <td>Artificial Intelligence - Getting started with...</td>\n",
       "      <td>Aalekh Rai</td>\n",
       "      <td>3.8</td>\n",
       "      <td>40.0</td>\n",
       "      <td>174.0</td>\n",
       "      <td>Beginner</td>\n",
       "      <td>1.0</td>\n",
       "      <td>Udemy</td>\n",
       "      <td>False</td>\n",
       "    </tr>\n",
       "    <tr>\n",
       "      <th>0</th>\n",
       "      <td>3861</td>\n",
       "      <td>Artificial Intelligence - Getting started with...</td>\n",
       "      <td>Aalekh Rai</td>\n",
       "      <td>3.8</td>\n",
       "      <td>40.0</td>\n",
       "      <td>174.0</td>\n",
       "      <td>Beginner</td>\n",
       "      <td>1.0</td>\n",
       "      <td>Udemy</td>\n",
       "      <td>False</td>\n",
       "    </tr>\n",
       "    <tr>\n",
       "      <th>0</th>\n",
       "      <td>4097</td>\n",
       "      <td>PowerBI Zero to Hero</td>\n",
       "      <td>Abdelkarim MOHAMED MAHMOUD</td>\n",
       "      <td>4.5</td>\n",
       "      <td>547.0</td>\n",
       "      <td>33331.0</td>\n",
       "      <td>Beginner</td>\n",
       "      <td>2.5</td>\n",
       "      <td>Udemy</td>\n",
       "      <td>False</td>\n",
       "    </tr>\n",
       "    <tr>\n",
       "      <th>0</th>\n",
       "      <td>4097</td>\n",
       "      <td>PowerBI Zero to Hero</td>\n",
       "      <td>Abdelkarim MOHAMED MAHMOUD</td>\n",
       "      <td>4.5</td>\n",
       "      <td>547.0</td>\n",
       "      <td>33331.0</td>\n",
       "      <td>Beginner</td>\n",
       "      <td>2.5</td>\n",
       "      <td>Udemy</td>\n",
       "      <td>False</td>\n",
       "    </tr>\n",
       "    <tr>\n",
       "      <th>0</th>\n",
       "      <td>4676</td>\n",
       "      <td>U&amp;P AI - Natural Language Processing (NLP) wit...</td>\n",
       "      <td>Abdulhadi Darwish</td>\n",
       "      <td>4.2</td>\n",
       "      <td>1150.0</td>\n",
       "      <td>13856.0</td>\n",
       "      <td>Beginner</td>\n",
       "      <td>6.0</td>\n",
       "      <td>Udemy</td>\n",
       "      <td>False</td>\n",
       "    </tr>\n",
       "    <tr>\n",
       "      <th>...</th>\n",
       "      <td>...</td>\n",
       "      <td>...</td>\n",
       "      <td>...</td>\n",
       "      <td>...</td>\n",
       "      <td>...</td>\n",
       "      <td>...</td>\n",
       "      <td>...</td>\n",
       "      <td>...</td>\n",
       "      <td>...</td>\n",
       "      <td>...</td>\n",
       "    </tr>\n",
       "    <tr>\n",
       "      <th>2</th>\n",
       "      <td>2342</td>\n",
       "      <td>역학조사관을 위한 통계</td>\n",
       "      <td>김지형 M.D.</td>\n",
       "      <td>4.7</td>\n",
       "      <td>16.0</td>\n",
       "      <td>189.0</td>\n",
       "      <td>Beginner</td>\n",
       "      <td>1.5</td>\n",
       "      <td>Udemy</td>\n",
       "      <td>False</td>\n",
       "    </tr>\n",
       "    <tr>\n",
       "      <th>3</th>\n",
       "      <td>2398</td>\n",
       "      <td>너무 쉬운 엑셀 피벗 테이블</td>\n",
       "      <td>김지형 M.D.</td>\n",
       "      <td>4.8</td>\n",
       "      <td>11.0</td>\n",
       "      <td>146.0</td>\n",
       "      <td>Beginner</td>\n",
       "      <td>1.5</td>\n",
       "      <td>Udemy</td>\n",
       "      <td>False</td>\n",
       "    </tr>\n",
       "    <tr>\n",
       "      <th>4</th>\n",
       "      <td>3409</td>\n",
       "      <td>완전 초보자, 매력적인 R 차트 쉽게 만들기</td>\n",
       "      <td>김지형 M.D.</td>\n",
       "      <td>5.0</td>\n",
       "      <td>1.0</td>\n",
       "      <td>16.0</td>\n",
       "      <td>Beginner</td>\n",
       "      <td>2.0</td>\n",
       "      <td>Udemy</td>\n",
       "      <td>False</td>\n",
       "    </tr>\n",
       "    <tr>\n",
       "      <th>5</th>\n",
       "      <td>3503</td>\n",
       "      <td>아빠가 들려주는 [데이터 수집과 정리의 기본]</td>\n",
       "      <td>김지형 M.D.</td>\n",
       "      <td>4.3</td>\n",
       "      <td>34.0</td>\n",
       "      <td>424.0</td>\n",
       "      <td>Beginner</td>\n",
       "      <td>0.6</td>\n",
       "      <td>Udemy</td>\n",
       "      <td>False</td>\n",
       "    </tr>\n",
       "    <tr>\n",
       "      <th>6</th>\n",
       "      <td>4504</td>\n",
       "      <td>아빠가 들려주는 [엑셀 데이터 시각화] 따라하기</td>\n",
       "      <td>김지형 M.D.</td>\n",
       "      <td>4.8</td>\n",
       "      <td>12.0</td>\n",
       "      <td>199.0</td>\n",
       "      <td>Beginner</td>\n",
       "      <td>3.5</td>\n",
       "      <td>Udemy</td>\n",
       "      <td>False</td>\n",
       "    </tr>\n",
       "  </tbody>\n",
       "</table>\n",
       "<p>1606 rows × 10 columns</p>\n",
       "</div>"
      ],
      "text/plain": [
       "    Unnamed: 0                                              title  \\\n",
       "0         3861  Artificial Intelligence - Getting started with...   \n",
       "0         3861  Artificial Intelligence - Getting started with...   \n",
       "0         4097                               PowerBI Zero to Hero   \n",
       "0         4097                               PowerBI Zero to Hero   \n",
       "0         4676  U&P AI - Natural Language Processing (NLP) wit...   \n",
       "..         ...                                                ...   \n",
       "2         2342                                       역학조사관을 위한 통계   \n",
       "3         2398                                    너무 쉬운 엑셀 피벗 테이블   \n",
       "4         3409                           완전 초보자, 매력적인 R 차트 쉽게 만들기   \n",
       "5         3503                          아빠가 들려주는 [데이터 수집과 정리의 기본]   \n",
       "6         4504                         아빠가 들려주는 [엑셀 데이터 시각화] 따라하기   \n",
       "\n",
       "                        author  rating  votes_count  students_count     level  \\\n",
       "0                   Aalekh Rai     3.8         40.0           174.0  Beginner   \n",
       "0                   Aalekh Rai     3.8         40.0           174.0  Beginner   \n",
       "0   Abdelkarim MOHAMED MAHMOUD     4.5        547.0         33331.0  Beginner   \n",
       "0   Abdelkarim MOHAMED MAHMOUD     4.5        547.0         33331.0  Beginner   \n",
       "0            Abdulhadi Darwish     4.2       1150.0         13856.0  Beginner   \n",
       "..                         ...     ...          ...             ...       ...   \n",
       "2                     김지형 M.D.     4.7         16.0           189.0  Beginner   \n",
       "3                     김지형 M.D.     4.8         11.0           146.0  Beginner   \n",
       "4                     김지형 M.D.     5.0          1.0            16.0  Beginner   \n",
       "5                     김지형 M.D.     4.3         34.0           424.0  Beginner   \n",
       "6                     김지형 M.D.     4.8         12.0           199.0  Beginner   \n",
       "\n",
       "    duration platform   free  \n",
       "0        1.0    Udemy  False  \n",
       "0        1.0    Udemy  False  \n",
       "0        2.5    Udemy  False  \n",
       "0        2.5    Udemy  False  \n",
       "0        6.0    Udemy  False  \n",
       "..       ...      ...    ...  \n",
       "2        1.5    Udemy  False  \n",
       "3        1.5    Udemy  False  \n",
       "4        2.0    Udemy  False  \n",
       "5        0.6    Udemy  False  \n",
       "6        3.5    Udemy  False  \n",
       "\n",
       "[1606 rows x 10 columns]"
      ]
     },
     "execution_count": 28,
     "metadata": {},
     "output_type": "execute_result"
    }
   ],
   "source": [
    "df = dd.read_csv('../data/processed/authors/*.csv')\n",
    "df[(df.level == 'Beginner') & (df.free == False)].compute()"
   ]
  }
 ],
 "metadata": {
  "kernelspec": {
   "display_name": "Python 3",
   "language": "python",
   "name": "python3"
  },
  "language_info": {
   "codemirror_mode": {
    "name": "ipython",
    "version": 3
   },
   "file_extension": ".py",
   "mimetype": "text/x-python",
   "name": "python",
   "nbconvert_exporter": "python",
   "pygments_lexer": "ipython3",
   "version": "3.9.12"
  }
 },
 "nbformat": 4,
 "nbformat_minor": 5
}
