{
 "cells": [
  {
   "cell_type": "markdown",
   "id": "d015617c-099b-424a-8663-1e5ea36dfe3d",
   "metadata": {},
   "source": [
    "## Reference Testing Packages, Scripts, and Notebooks using PyTest"
   ]
  },
  {
   "cell_type": "markdown",
   "id": "35c75ee1-7c11-4965-adcc-8ebdd2bb80da",
   "metadata": {},
   "source": [
    "1. **Make your tests discoverable by your test runner**\n",
    "\n",
    "For Pytest, this usually means putting all test functions into files with filenames starting with `test_` (e.g. `test_utils.py`)"
   ]
  },
  {
   "cell_type": "markdown",
   "id": "b61f0c6f-b1ff-4453-92b1-c704f7424b5c",
   "metadata": {},
   "source": [
    "2. **Write test functions (e.g. `def test_fun1()`) in the test files**"
   ]
  },
  {
   "cell_type": "markdown",
   "id": "eefafb55-0400-453e-8863-c850a6837bd9",
   "metadata": {},
   "source": [
    "For Modules:"
   ]
  },
  {
   "cell_type": "markdown",
   "id": "b8a50260-2a2f-4199-8480-e20165215486",
   "metadata": {},
   "source": [
    "```python\n",
    "def test_detects_adult():\n",
    "    from titanic_utils import is_adult\n",
    "    assert is_adult(18) == True\n",
    "```"
   ]
  },
  {
   "cell_type": "markdown",
   "id": "d064efd3-6ac1-49e8-8974-17639ee235c3",
   "metadata": {},
   "source": [
    "For Scripts:"
   ]
  },
  {
   "cell_type": "markdown",
   "id": "735641f7-c279-4b9e-a412-dbc1208948c0",
   "metadata": {},
   "source": [
    "```python\n",
    "def test_script_runs_without_errors():\n",
    "    import runpy\n",
    "    runpy.run_path('scripts/my_script.py')\n",
    "```\n"
   ]
  },
  {
   "cell_type": "markdown",
   "id": "ce3da201-7af9-4a71-b823-d5abe0212f29",
   "metadata": {},
   "source": [
    "For Jupyter Notebooks:"
   ]
  },
  {
   "cell_type": "markdown",
   "id": "3438b834-d1c2-4522-aef5-b33bc802a4fe",
   "metadata": {},
   "source": [
    "```python\n",
    "def test_notebook_runs_without_errors():\n",
    "    import subprocess\n",
    "    subprocess.check_output(\"jupyter nbconvert --to notebook --execute my_notebook.ipynb\".split())\n",
    "```"
   ]
  },
  {
   "cell_type": "markdown",
   "id": "42bb8cd7-4acf-4420-aff9-4bb680824b41",
   "metadata": {},
   "source": [
    "### Create a GitHub Action that executes on Push"
   ]
  },
  {
   "cell_type": "markdown",
   "id": "233d4e3a-1baa-4e39-96c6-f12b2154dc25",
   "metadata": {},
   "source": [
    "Example:"
   ]
  },
  {
   "cell_type": "markdown",
   "id": "b148433a-dcc9-4135-8eca-2fbc7a397783",
   "metadata": {},
   "source": [
    "```\n",
    "name: Run Tests\n",
    "\n",
    "on: \n",
    "  push:\n",
    "    branches:\n",
    "      - main\n",
    "      - dev\n",
    "  pull_request:\n",
    "    branches:\n",
    "      - main\n",
    "      - dev\n",
    "  workflow_dispatch:\n",
    "\n",
    "jobs:\n",
    "  build-linux:\n",
    "    runs-on: ubuntu-latest\n",
    "    strategy:\n",
    "      max-parallel: 5\n",
    "\n",
    "  steps:\n",
    "    - uses: actions/checkout@v3\n",
    "    - name: Set up Python 3.8\n",
    "      uses: actions/setup-python@v3\n",
    "      with:\n",
    "        python-version: 3.8\n",
    "    - name: Install dependencies\n",
    "      run: |\n",
    "        python -m pip install --upgrade pip\n",
    "        pip install pytest\n",
    "        pip install -e .\n",
    "    - name: Test with pytest\n",
    "      run: pytest\n",
    "```"
   ]
  },
  {
   "cell_type": "markdown",
   "id": "0a69f08e-ab12-467e-b98b-0a85dc87431b",
   "metadata": {},
   "source": [
    "## Reference: Publishing Python Packages on PyPI using Twine and GitHub Actions\n",
    "\n",
    "Quick Command Reference:\n",
    "\n",
    "| File or Command | Description |\n",
    "| :-- | :-- | \n",
    "| `pyproject.toml`| Put in at least `[build-system]` and `[project]` sections |\n",
    "| `pip install build; python -m build` | Builds files in `dist/` | \n",
    "| `twine upload dist/*` | Upload `dist/`|\n"
   ]
  },
  {
   "cell_type": "markdown",
   "id": "ae568bff-1cf0-4b05-b73a-5601378a4e12",
   "metadata": {},
   "source": [
    " ### Make a `pyproject.toml` file in the Project Root directory"
   ]
  },
  {
   "cell_type": "markdown",
   "id": "d7a89a95-64b4-460f-b324-f3cf77298f79",
   "metadata": {},
   "source": [
    "\n",
    "1. **Select a build system (here, uses setuptools):**"
   ]
  },
  {
   "cell_type": "markdown",
   "id": "bf2b029a-3b25-42cc-af8e-e037ee9d3945",
   "metadata": {},
   "source": [
    "```\n",
    "[build-system]\n",
    "requires = [\"setuptools>=61.0\"]\n",
    "build-backend = \"setuptools.build_meta\"\n",
    "```"
   ]
  },
  {
   "cell_type": "markdown",
   "id": "d3f83112-d2af-46ba-b59d-a6812ef258e0",
   "metadata": {},
   "source": [
    "2. **Configure the [Project's Metadata](https://packaging.python.org/en/latest/specifications/declaring-project-metadata/#declaring-project-metadata)** (most entries are optional, all are helpful):"
   ]
  },
  {
   "cell_type": "markdown",
   "id": "aa924fcc-2436-4fe8-bc63-9edc75dbfe50",
   "metadata": {},
   "source": [
    "```\n",
    "[project]\n",
    "name = \"spam\"                            \n",
    "version = \"0.1.0\"\n",
    "description = \"Lovely Spam! Wonderful Spam!\"\n",
    "readme = \"README.rst\"\n",
    "requires-python = \">=3.8\"\n",
    "license = {file = \"LICENSE.txt\"}\n",
    "keywords = [\"egg\", \"bacon\", \"sausage\", \"tomatoes\", \"Lobster Thermidor\"]\n",
    "authors = [\n",
    "  {email = \"pradyun@example.com\"},\n",
    "  {name = \"Tzu-Ping Chung\"}\n",
    "]\n",
    "maintainers = [\n",
    "  {name = \"Brett Cannon\", email = \"brett@python.org\"}\n",
    "]\n",
    "\n",
    "# https://martin-thoma.com/software-development-stages/ \n",
    "classifiers = [\n",
    "  \"Programming Language :: Python\",\n",
    "  \"Development Status :: 4 - Beta\" \n",
    "]\n",
    "\n",
    "dependencies = [\n",
    "  \"httpx\",\n",
    "  \"gidgethub[httpx]>4.0.0\",\n",
    "  \"django>2.1; os_name != 'nt'\",\n",
    "  \"django>2.0; os_name == 'nt'\"\n",
    "]\n",
    "# dynamic = [\"version\", \"description\"]\n",
    "\n",
    "# If using requirements.txt file:\n",
    "# dynamic = [\"dependencies\"]\n",
    "# [tool.setuptools.dynamic]\n",
    "# dependencies = {file = [\"requirements.txt\"]}\n",
    "\n",
    "# If using setuptools_scm for versioning using git tags:\n",
    "# dynamic = [\"version\"]\n",
    "# [tool.setuptools_scm]\n",
    "# write_to = \"pkg/_version.py\"\n",
    "# no-local-version = true\n",
    "\n",
    "[project.optional-dependencies]\n",
    "test = [\n",
    "  \"pytest > 5.0.0\",\n",
    "  \"pytest-cov[all]\"\n",
    "]\n",
    "doc = [\n",
    "  \"sphinx\",\n",
    "  \"furo\"\n",
    "]\n",
    "\n",
    "[project.urls]\n",
    "homepage = \"https://example.com\"\n",
    "documentation = \"https://readthedocs.org\"\n",
    "repository = \"https://github.com/me/spam.git\"\n",
    "changelog = \"https://github.com/me/spam/blob/master/CHANGELOG.md\"\n",
    "\n",
    "[project.scripts]\n",
    "spam-cli = \"spam:main_cli\"\n",
    "\n",
    "[project.gui-scripts]\n",
    "spam-gui = \"spam:main_gui\"\n",
    "\n",
    "[project.entry-points.\"spam.magical\"]\n",
    "tomatoes = \"spam:main_tomatoes\"\n",
    "```"
   ]
  },
  {
   "cell_type": "markdown",
   "id": "18de5240-8ad2-4d26-9a90-3c4f8f84c4e3",
   "metadata": {},
   "source": [
    "### Build the Distribution Files"
   ]
  },
  {
   "cell_type": "markdown",
   "id": "59529165-23ab-40ea-858d-4d815a77cabb",
   "metadata": {},
   "source": [
    "3. **Update the Version Number**\n",
    "\n",
    "Every version number for a release must be unique.  If using setuptools-scm, this will be taken care of automatically, but you may still want to make a new version number using a git tag."
   ]
  },
  {
   "cell_type": "markdown",
   "id": "3581bfd7-790e-45d0-8e1a-d98b2d4c78c9",
   "metadata": {},
   "source": [
    "```\n",
    "git tag -a v1.4 -m \"my version 1.4\"  # Should match the version number elsewhere\n",
    "```"
   ]
  },
  {
   "cell_type": "markdown",
   "id": "bac4f83c-0386-44d0-87f7-9f7f81c572cf",
   "metadata": {},
   "source": [
    "4. **Build the Distribution files in `dist/`**"
   ]
  },
  {
   "cell_type": "markdown",
   "id": "f79352aa-2079-4a5f-9b2a-73e759ff6f83",
   "metadata": {},
   "source": [
    "```\n",
    "pip install build\n",
    "python -m build\n",
    "```"
   ]
  },
  {
   "cell_type": "markdown",
   "id": "1d57ebb5-dadf-4abe-9f99-1698be09ae49",
   "metadata": {},
   "source": [
    "5. **Verify that the distribution is correct and complete**\n",
    "\n",
    "Unzip the `.whl` file and check that the files you want are there."
   ]
  },
  {
   "cell_type": "markdown",
   "id": "0a4a7895-8b74-4d42-98f7-8dd0272163ce",
   "metadata": {},
   "source": [
    "### Upload the Files"
   ]
  },
  {
   "cell_type": "markdown",
   "id": "c4623cfc-4c59-411b-adaa-560554732dd3",
   "metadata": {},
   "source": [
    "#### First time only: check that the uploads are working properly"
   ]
  },
  {
   "cell_type": "markdown",
   "id": "70be1441-2ad5-4227-a258-9b35195bd0dd",
   "metadata": {},
   "source": [
    "6. **Upload to Test PyPI: Check that everything's ready for Upload**"
   ]
  },
  {
   "cell_type": "markdown",
   "id": "a75a2b41-d162-45de-b0e4-b945416b93fb",
   "metadata": {},
   "source": [
    "```\n",
    "pip install twine\n",
    "twine check dist/*\n",
    "```"
   ]
  },
  {
   "cell_type": "markdown",
   "id": "51e3dc80-65e2-4b12-a8c8-138b8d8eea25",
   "metadata": {},
   "source": [
    "7. **Upload to Test PyPI: Register a Username to the [Test PyPI Repository](https://test.pypi.org/)**\n",
    "\n",
    "Go to the test.pypi.org website in your web browser, check your login works"
   ]
  },
  {
   "cell_type": "markdown",
   "id": "4e13d7b7-d21c-4f66-8449-608416858716",
   "metadata": {},
   "source": [
    "8. **Upload to Test PyPI ([Reference](https://packaging.python.org/en/latest/tutorials/packaging-projects/#uploading-the-distribution-archives))**\n",
    "\n",
    "Note that the username and password can be put in interactively, via the command line (`-u` and `-p` flags), or using environment variables (`TWINE_USERNAME` and `TWINE_PASSWORD`).  Also, tokens can be used instead of user passwords, gotten via the PyPI website."
   ]
  },
  {
   "cell_type": "markdown",
   "id": "5f21bdd0-c821-4100-b61a-164d24e4518e",
   "metadata": {},
   "source": [
    "```\n",
    "twine upload --repository-url=https://test.pypi.org/legacy/ dist/*\n",
    "```"
   ]
  },
  {
   "cell_type": "markdown",
   "id": "9710682d-c262-48a7-b645-4d109d38a059",
   "metadata": {},
   "source": [
    "9. **Verify the upload is correct.**\n",
    "\n",
    "Visit the PyPI page for the release, Download the files, and unzip them.  Also check that your readme and metadata were rendered properly in the page."
   ]
  },
  {
   "cell_type": "markdown",
   "id": "97dd4342-c1af-4b0a-b478-719fb3d360d2",
   "metadata": {},
   "source": [
    "### Every time: Upload the New Release"
   ]
  },
  {
   "cell_type": "markdown",
   "id": "59a817d2-8c29-4306-b60e-d09bc129ff6c",
   "metadata": {},
   "source": [
    "10. **Upload to Real PyPI: Register a Username to https://pypi.org/**\n",
    "\n",
    "Go to the https://pypi.org/ website in your web browser, check your login works"
   ]
  },
  {
   "cell_type": "markdown",
   "id": "5c0d93da-f063-4573-a758-e5ec65340d1b",
   "metadata": {},
   "source": [
    "11. **Upload to Real PyPI ([Reference](https://packaging.python.org/en/latest/tutorials/packaging-projects/#uploading-the-distribution-archives))**\n",
    "\n",
    "Note that the username and password can be put in interactively, via the command line (`-u` and `-p` flags), or using environment variables (`TWINE_USERNAME` and `TWINE_PASSWORD`).  Also, tokens can be used instead of user passwords, gotten via the PyPI website."
   ]
  },
  {
   "cell_type": "markdown",
   "id": "137926fc-fedb-4a13-96a3-befa0e177b22",
   "metadata": {},
   "source": [
    "```\n",
    "twine upload dist/*\n",
    "```"
   ]
  },
  {
   "cell_type": "markdown",
   "id": "df82136c-568b-43ab-a88e-65a3c3afa4a9",
   "metadata": {},
   "source": [
    "12. **Verify the upload is correct.**\n",
    "\n",
    "Visit the PyPI page for the release, Download the files, and unzip them.  Also check that your readme and metadata were rendered properly in the page."
   ]
  },
  {
   "cell_type": "markdown",
   "id": "4e180c49-7b6d-4283-9760-d1c21c26e495",
   "metadata": {},
   "source": [
    "## Github Actions: Deploy on Tagged Push or Release\n"
   ]
  },
  {
   "cell_type": "markdown",
   "id": "1ae7e6ce-bc43-4ec7-be29-fded817a45cd",
   "metadata": {},
   "source": [
    "### Create a GitHub Actions Workflow"
   ]
  },
  {
   "cell_type": "markdown",
   "id": "2c1daace-bd17-48da-83e8-83ec0e5d926d",
   "metadata": {},
   "source": [
    "1. **Add Secrets to the GitHUB Repository Secrets**\n",
    "\n",
    "Tip: Best to use a specific PyPI API Token for this, instead of your username and password"
   ]
  },
  {
   "cell_type": "markdown",
   "id": "db9358f7-f575-441f-8d9c-c8073aa1c879",
   "metadata": {},
   "source": [
    "2. **Add the Release Step to a GitHub Actions Workflow**"
   ]
  },
  {
   "cell_type": "markdown",
   "id": "91025560-3cd1-481e-954b-7bc9964e73a5",
   "metadata": {},
   "source": [
    "Useful Triggers:"
   ]
  },
  {
   "cell_type": "markdown",
   "id": "c25eb424-68fa-4954-ac7b-51e7efb6f73c",
   "metadata": {},
   "source": [
    "```\n",
    "on: \n",
    "  push:\n",
    "    branches:\n",
    "      - main\n",
    "    tags:\n",
    "      - \"v*\" # Push events to matching v*, i.e. v1.0, v20.15.10\n",
    "  release:\n",
    "      types:\n",
    "        - published\n",
    "  workflow_dispatch:\n",
    "```"
   ]
  },
  {
   "cell_type": "markdown",
   "id": "37a45539-5869-4203-89d0-fa2d3bab50a8",
   "metadata": {},
   "source": [
    "Add a new job (either in an existing workflow, or in a new workflow)"
   ]
  },
  {
   "cell_type": "markdown",
   "id": "05b20b31-d8e9-49bd-9c3c-4da2a676c9d0",
   "metadata": {},
   "source": [
    "```\n",
    "jobs: \n",
    "   deploy:  # id of the job\n",
    "      needs: [test]  # if the \"test\" job succeeded (in same workflow), then this job can run.\n",
    "      runs-on: ubuntu-latest\n",
    "      if: contains(github.ref, 'tags')   \n",
    "```"
   ]
  },
  {
   "cell_type": "markdown",
   "id": "e280ff39-504c-4eb6-a417-ad0b560c3cb5",
   "metadata": {
    "tags": []
   },
   "source": [
    "Option A: Create a New Workflow (Example below)"
   ]
  },
  {
   "cell_type": "markdown",
   "id": "2628be6c-5dca-4aef-b20a-212819b13a8e",
   "metadata": {},
   "source": [
    "Specify the release steps in the job (Example below):"
   ]
  },
  {
   "cell_type": "markdown",
   "id": "d92251a6-5c06-4352-862c-1a0996f7b0ff",
   "metadata": {},
   "source": [
    "```\n",
    "steps:\n",
    "  - uses: actions/checkout@v2\n",
    "  - name: Set up Python\n",
    "    uses: actions/setup-python@v2\n",
    "    with:\n",
    "      python-version: \"3.x\"\n",
    "  - name: Install dependencies\n",
    "    run: |\n",
    "      python -m pip install --upgrade pip\n",
    "      pip install -U setuptools setuptools_scm wheel twine build\n",
    "  - name: Build and publish\n",
    "    env:\n",
    "      TWINE_USERNAME: __token__\n",
    "      TWINE_PASSWORD: ${{ secrets.TWINE_API_KEY }}\n",
    "    run: |\n",
    "      git tag\n",
    "      python -m build .\n",
    "      twine upload dist/*\n",
    "```"
   ]
  },
  {
   "cell_type": "markdown",
   "id": "76edecc1-883b-432a-a219-a1a62113cda1",
   "metadata": {},
   "source": [
    "8. **Make a New Release**\n",
    "\n",
    "Click the \"Create a new release\" button in the right side of your Github repo homepage, make a new tag, and hit the publish button.  Once published, you should see the GitHub Action start and if successful, a new version should be on PyPI!"
   ]
  }
 ],
 "metadata": {
  "kernelspec": {
   "display_name": "Python 3 (ipykernel)",
   "language": "python",
   "name": "python3"
  },
  "language_info": {
   "codemirror_mode": {
    "name": "ipython",
    "version": 3
   },
   "file_extension": ".py",
   "mimetype": "text/x-python",
   "name": "python",
   "nbconvert_exporter": "python",
   "pygments_lexer": "ipython3",
   "version": "3.10.4"
  }
 },
 "nbformat": 4,
 "nbformat_minor": 5
}
