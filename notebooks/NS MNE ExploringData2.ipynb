{
 "cells": [
  {
   "cell_type": "code",
   "execution_count": 1,
   "id": "7b381cac-6429-426e-94ff-ab01d4e19ec0",
   "metadata": {},
   "outputs": [],
   "source": [
    "import mne"
   ]
  },
  {
   "cell_type": "markdown",
   "id": "5f8b4b70-8fc4-4e83-abfc-bc92f35f63f1",
   "metadata": {},
   "source": [
    "## (M)EEG Data Analysis with MNE: Removing Artifacts using ICA\n"
   ]
  },
  {
   "cell_type": "markdown",
   "id": "19992602-b59c-4a43-bcb7-e446af65736b",
   "metadata": {},
   "source": [
    "## Workflow\n",
    "\n",
    "Load the 'sample_audvis_filt-0-40_raw.fif' folder in from the MNE Samples dataset"
   ]
  },
  {
   "cell_type": "code",
   "execution_count": null,
   "id": "b21d74c0-920c-4eb8-94e1-7a0970cd2727",
   "metadata": {},
   "outputs": [],
   "source": []
  },
  {
   "cell_type": "markdown",
   "id": "34d0f794-8692-40eb-8a61-7d771cf499f8",
   "metadata": {},
   "source": [
    "To prepare the data for ICA, we need to be sure that there aren't any slow drifts in the data.  To do this, let's create a frequency-filtered version of the raw data, highpassed above 1 Hz.  \n",
    "\n",
    "*Note*: Keep the original raw data.  Once we have good ICA components, we can fit them to the original!"
   ]
  },
  {
   "cell_type": "code",
   "execution_count": null,
   "id": "2016fff3-006b-487d-8e5a-efcd11fc4138",
   "metadata": {},
   "outputs": [],
   "source": []
  },
  {
   "cell_type": "markdown",
   "id": "e8e315ce-f6bd-4b87-9a6d-7b18097c8d2a",
   "metadata": {},
   "source": [
    "Plot the data, and visually compare the EOG trace with the EEG and MEG traces.  Do you see any correlations between them?"
   ]
  },
  {
   "cell_type": "code",
   "execution_count": null,
   "id": "589d507b-6e12-4234-935e-1aed61d35471",
   "metadata": {},
   "outputs": [],
   "source": []
  },
  {
   "cell_type": "markdown",
   "id": "21b4564a-9536-48fc-9900-459b8b28a6d4",
   "metadata": {},
   "source": [
    "Look for \"spiky\" waves that appear roughly once per second.  Do they exist in any of the channels?  This is EKG: heart activity!"
   ]
  },
  {
   "cell_type": "code",
   "execution_count": null,
   "id": "13a2bbe6-7607-4470-867f-33f94d242cbb",
   "metadata": {},
   "outputs": [],
   "source": []
  },
  {
   "cell_type": "markdown",
   "id": "4fb6f09f-5114-4f14-8493-a128c2663e4f",
   "metadata": {},
   "source": [
    "Compute an ICA model on this data, fit the ICA model on the data, plot the ICA sources.  Look for a clean identification of the EKG and EOG components; ideally each will be in only one component, but the ICA may have split some into multiple components.  "
   ]
  },
  {
   "cell_type": "code",
   "execution_count": null,
   "id": "fe7ff32e-84a6-4b3b-ab59-e41305f94feb",
   "metadata": {},
   "outputs": [],
   "source": []
  },
  {
   "cell_type": "markdown",
   "id": "917ade39-4a87-46c3-899f-93fa2ff2cb12",
   "metadata": {},
   "source": [
    "**`ICA.plot_components()`**: Check the spatial distribution of the ICA components.  Are the EOG components' weighted more heavily on sensors close to the eyes?"
   ]
  },
  {
   "cell_type": "code",
   "execution_count": null,
   "id": "1690ae4a-9f72-40a8-9f73-0bd26b12010d",
   "metadata": {},
   "outputs": [],
   "source": []
  },
  {
   "cell_type": "markdown",
   "id": "b792e399-582e-42f9-bb34-600acbfcd7e3",
   "metadata": {},
   "source": [
    "**`ICA.plot_properties(raw, picks=[2, 5])`** pick out some ICA components and plot them to see more information about them."
   ]
  },
  {
   "cell_type": "code",
   "execution_count": null,
   "id": "29af1eec-76ab-4955-a4e1-3e393667dc60",
   "metadata": {},
   "outputs": [],
   "source": []
  },
  {
   "cell_type": "markdown",
   "id": "768cd6b9-5c35-4775-b76b-a8f56356e72a",
   "metadata": {},
   "source": [
    "Specify the the ICA components to exclude (the EOG and EKG signals).  Then use **`ICA.plot_overlay()`** to see how the data will change when the components are removed."
   ]
  },
  {
   "cell_type": "code",
   "execution_count": null,
   "id": "4825ee62-6366-4fc2-a786-78af52b9b476",
   "metadata": {},
   "outputs": [],
   "source": []
  },
  {
   "cell_type": "markdown",
   "id": "c5a1b3ef-8d8f-4af3-b75c-cbb0eaf460eb",
   "metadata": {},
   "source": [
    "Does MNE agree with you that the EOG signals are the same?  Use **`ICA.find_bads_eog()[0]`** to get MNE's guess"
   ]
  },
  {
   "cell_type": "code",
   "execution_count": null,
   "id": "fcf21ddf-ba08-497c-89b7-7d67f3e394ff",
   "metadata": {},
   "outputs": [],
   "source": []
  },
  {
   "cell_type": "markdown",
   "id": "bf4366c5-65f3-4f51-b4fe-2137d1b38edd",
   "metadata": {},
   "source": [
    "Does MNE agree with you that the EKG signals are the same?  Use **`ICA.find_bads_ecg()[0]`** to get MNE's guess"
   ]
  },
  {
   "cell_type": "code",
   "execution_count": null,
   "id": "2bc397b2-83c7-48ae-a5f7-9febbfdf242c",
   "metadata": {},
   "outputs": [],
   "source": []
  },
  {
   "cell_type": "markdown",
   "id": "ac2d6e7c-d37d-44ad-9f4d-7df8974d62f0",
   "metadata": {},
   "source": [
    "Once you're happy that you've found good components to remove, apply them to the Raw data!  "
   ]
  },
  {
   "cell_type": "code",
   "execution_count": null,
   "id": "6d1eec62-c960-4c5a-8f64-5ede08ff2a1c",
   "metadata": {},
   "outputs": [],
   "source": []
  },
  {
   "cell_type": "markdown",
   "id": "5ebd3ec6-71cd-4d79-9155-dba654592788",
   "metadata": {},
   "source": [
    "### Extra: Making Static Reports\n",
    "\n",
    "Turn this analysis into an HTML Report using [**`mne.Report`**:](https://mne.tools/stable/generated/mne.Report.html#mne.Report)\n",
    "\n",
    "```python\n",
    "report = mne.Report(title='My Analysis')\n",
    "report.add_raw(raw, 'Title')\n",
    "report.add_ica(ica, 'Title')\n",
    "report.save('my_analysis.html')\n",
    "```\n",
    "\n",
    "Examples can be found at [MNE's Report Tutorial](https://mne.tools/stable/auto_tutorials/intro/70_report.html)"
   ]
  },
  {
   "cell_type": "code",
   "execution_count": null,
   "id": "853e271f-a558-4975-b53a-3529bdf2ce3a",
   "metadata": {},
   "outputs": [],
   "source": []
  },
  {
   "cell_type": "markdown",
   "id": "06a6695e-abd6-4ba4-a7be-6fda5f18d3ed",
   "metadata": {},
   "source": [
    "## Further Reading\n",
    "\n",
    "This notebook is essentially a hands-on version of the main tutorial on the MNE website.  For a filled-in version, with more theory and explorations, check it out at this link: https://mne.tools/stable/auto_tutorials/intro/10_overview.html"
   ]
  },
  {
   "cell_type": "code",
   "execution_count": null,
   "id": "7077d70a-b5bf-49e3-be1e-9d644c95513e",
   "metadata": {},
   "outputs": [],
   "source": []
  }
 ],
 "metadata": {
  "kernelspec": {
   "display_name": "Python 3",
   "language": "python",
   "name": "python3"
  },
  "language_info": {
   "codemirror_mode": {
    "name": "ipython",
    "version": 3
   },
   "file_extension": ".py",
   "mimetype": "text/x-python",
   "name": "python",
   "nbconvert_exporter": "python",
   "pygments_lexer": "ipython3",
   "version": "3.8.8"
  }
 },
 "nbformat": 4,
 "nbformat_minor": 5
}
