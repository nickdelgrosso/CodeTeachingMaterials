{
 "cells": [
  {
   "cell_type": "code",
   "execution_count": 1,
   "id": "bc983bc7",
   "metadata": {},
   "outputs": [
    {
     "name": "stdout",
     "output_type": "stream",
     "text": [
      "Requirement already satisfied: numpy in /home/nickdg/miniconda3/envs/py10/lib/python3.10/site-packages (1.23.3)\n",
      "Requirement already satisfied: pandas in /home/nickdg/miniconda3/envs/py10/lib/python3.10/site-packages (1.5.0)\n",
      "Requirement already satisfied: sqlalchemy in /home/nickdg/miniconda3/envs/py10/lib/python3.10/site-packages (1.4.41)\n",
      "Requirement already satisfied: python-dateutil>=2.8.1 in /home/nickdg/miniconda3/envs/py10/lib/python3.10/site-packages (from pandas) (2.8.2)\n",
      "Requirement already satisfied: pytz>=2020.1 in /home/nickdg/miniconda3/envs/py10/lib/python3.10/site-packages (from pandas) (2022.4)\n",
      "Requirement already satisfied: greenlet!=0.4.17 in /home/nickdg/miniconda3/envs/py10/lib/python3.10/site-packages (from sqlalchemy) (1.1.3)\n",
      "Requirement already satisfied: six>=1.5 in /home/nickdg/miniconda3/envs/py10/lib/python3.10/site-packages (from python-dateutil>=2.8.1->pandas) (1.16.0)\n"
     ]
    }
   ],
   "source": [
    "%pip install numpy pandas sqlalchemy"
   ]
  },
  {
   "cell_type": "code",
   "execution_count": 2,
   "id": "6787528b",
   "metadata": {
    "cell_id": "00000-db897cd6-3f70-429c-a98c-008563ade8ed",
    "deepnote_cell_type": "code"
   },
   "outputs": [],
   "source": [
    "import numpy as np\n",
    "import pandas as pd"
   ]
  },
  {
   "cell_type": "markdown",
   "id": "985890a5",
   "metadata": {
    "cell_id": "00001-9330c10e-8ab9-44a4-bd1c-3e3f730a85e5",
    "deepnote_cell_type": "markdown"
   },
   "source": [
    "# Reorganizing Data in DataFrames: Merging (a.k.a. \"Joining\") Columns"
   ]
  },
  {
   "cell_type": "markdown",
   "id": "60eabf2c",
   "metadata": {
    "cell_id": "00015-216c6be6-41bf-4737-a2a4-84c857b81b36",
    "deepnote_cell_type": "markdown"
   },
   "source": [
    "## Merge / Joins\n",
    "The `pd.merge()` function and `DataFrame.join()` method take two DataFrames and make them **wider** by matching rows with the same-values on a specified column.  \n",
    "\n",
    "For example, it can turn this `df1` DataFrame:\n",
    "\n",
    "| Day | Weather |\n",
    "| :-: | :---:   |\n",
    "| Monday | Sunny   |\n",
    "| Tuesday | Rainy |\n",
    "\n",
    "and this `df2` DataFrame:\n",
    "\n",
    "| Day | Temperature |\n",
    "| :-: | :---:   |\n",
    "| Tuesday | 12   |\n",
    "| Monday | 18 |\n",
    "\n",
    "into this:\n",
    "\n",
    "| Day | Weather | Temperature |\n",
    "| :-: | :---:   | :---: |\n",
    "| Monday | Sunny   | 18 |\n",
    "| Tuesday | Rainy | 12 |\n",
    "\n",
    "with one line of code:\n",
    "\n",
    "```python\n",
    "df_merged = pd.merge(left=df1, right=df2, left_on=\"Day\", right_on=\"Day\")\n",
    "```\n",
    "\n",
    "Just specify which columns should be matched up with each other, and it will search for the matching values automatically!  If you want it to use the index, you can alternatively supply the option `left_index=True` and/or `right_index=True`. "
   ]
  },
  {
   "cell_type": "markdown",
   "id": "9cfa26d6",
   "metadata": {
    "cell_id": "00016-4322c72a-1000-4fec-91b1-f51b8417100d",
    "deepnote_cell_type": "markdown"
   },
   "source": [
    "### Exercises\n",
    "\n",
    "Let's practice merging dataframes with the `pd.merge()` function."
   ]
  },
  {
   "cell_type": "markdown",
   "id": "a7f28fb8",
   "metadata": {
    "cell_id": "00017-5068a8cc-bef7-4d1e-8d9c-f5ac63896f1d",
    "deepnote_cell_type": "markdown"
   },
   "source": [
    "Dataframe 1:"
   ]
  },
  {
   "cell_type": "code",
   "execution_count": null,
   "id": "b53a736a",
   "metadata": {
    "cell_id": "00018-ac3a05b2-02dd-4d24-ba95-7a6419796777",
    "deepnote_cell_type": "code"
   },
   "outputs": [
    {
     "data": {
      "text/html": [
       "<div>\n",
       "<style scoped>\n",
       "    .dataframe tbody tr th:only-of-type {\n",
       "        vertical-align: middle;\n",
       "    }\n",
       "\n",
       "    .dataframe tbody tr th {\n",
       "        vertical-align: top;\n",
       "    }\n",
       "\n",
       "    .dataframe thead th {\n",
       "        text-align: right;\n",
       "    }\n",
       "</style>\n",
       "<table border=\"1\" class=\"dataframe\">\n",
       "  <thead>\n",
       "    <tr style=\"text-align: right;\">\n",
       "      <th></th>\n",
       "      <th>Name</th>\n",
       "      <th>Age</th>\n",
       "    </tr>\n",
       "  </thead>\n",
       "  <tbody>\n",
       "    <tr>\n",
       "      <th>0</th>\n",
       "      <td>Paul</td>\n",
       "      <td>16</td>\n",
       "    </tr>\n",
       "    <tr>\n",
       "      <th>1</th>\n",
       "      <td>Arash</td>\n",
       "      <td>19</td>\n",
       "    </tr>\n",
       "    <tr>\n",
       "      <th>2</th>\n",
       "      <td>Jenny</td>\n",
       "      <td>17</td>\n",
       "    </tr>\n",
       "  </tbody>\n",
       "</table>\n",
       "</div>"
      ],
      "text/plain": [
       "    Name  Age\n",
       "0   Paul   16\n",
       "1  Arash   19\n",
       "2  Jenny   17"
      ]
     },
     "execution_count": 12,
     "metadata": {},
     "output_type": "execute_result"
    }
   ],
   "source": [
    "df1 = pd.DataFrame({'Name': ['Paul', 'Arash', 'Jenny'], 'Age': [16, 19, 17]})\n",
    "df1"
   ]
  },
  {
   "cell_type": "markdown",
   "id": "94c0b046",
   "metadata": {
    "cell_id": "00019-e51cfe73-a5ac-4050-b8ad-66e1a0950e5e",
    "deepnote_cell_type": "markdown"
   },
   "source": [
    "Dataframe 2:"
   ]
  },
  {
   "cell_type": "code",
   "execution_count": null,
   "id": "60be25e8",
   "metadata": {
    "cell_id": "00020-f8cb1f9b-1430-401f-b5c2-1042e3bf3268",
    "deepnote_cell_type": "code"
   },
   "outputs": [
    {
     "data": {
      "text/html": [
       "<div>\n",
       "<style scoped>\n",
       "    .dataframe tbody tr th:only-of-type {\n",
       "        vertical-align: middle;\n",
       "    }\n",
       "\n",
       "    .dataframe tbody tr th {\n",
       "        vertical-align: top;\n",
       "    }\n",
       "\n",
       "    .dataframe thead th {\n",
       "        text-align: right;\n",
       "    }\n",
       "</style>\n",
       "<table border=\"1\" class=\"dataframe\">\n",
       "  <thead>\n",
       "    <tr style=\"text-align: right;\">\n",
       "      <th></th>\n",
       "      <th>Name</th>\n",
       "      <th>Weight</th>\n",
       "    </tr>\n",
       "  </thead>\n",
       "  <tbody>\n",
       "    <tr>\n",
       "      <th>0</th>\n",
       "      <td>Arash</td>\n",
       "      <td>32</td>\n",
       "    </tr>\n",
       "    <tr>\n",
       "      <th>1</th>\n",
       "      <td>Paul</td>\n",
       "      <td>15</td>\n",
       "    </tr>\n",
       "    <tr>\n",
       "      <th>2</th>\n",
       "      <td>Sara</td>\n",
       "      <td>37</td>\n",
       "    </tr>\n",
       "  </tbody>\n",
       "</table>\n",
       "</div>"
      ],
      "text/plain": [
       "    Name  Weight\n",
       "0  Arash      32\n",
       "1   Paul      15\n",
       "2   Sara      37"
      ]
     },
     "execution_count": 13,
     "metadata": {},
     "output_type": "execute_result"
    }
   ],
   "source": [
    "df2 = pd.DataFrame({'Name': ['Arash', 'Paul', 'Sara'], 'Weight': [32, 15, 37]})\n",
    "df2"
   ]
  },
  {
   "cell_type": "markdown",
   "id": "8c1c9ee7",
   "metadata": {
    "cell_id": "00021-5cfa4036-4de9-480b-a2e5-331e37236ec4",
    "deepnote_cell_type": "markdown"
   },
   "source": [
    "Dataframe 3:"
   ]
  },
  {
   "cell_type": "code",
   "execution_count": null,
   "id": "6da7bf9e",
   "metadata": {
    "cell_id": "00022-9648cef1-a02d-4afa-9f0f-851e2db748c0",
    "deepnote_cell_type": "code"
   },
   "outputs": [
    {
     "data": {
      "text/html": [
       "<div>\n",
       "<style scoped>\n",
       "    .dataframe tbody tr th:only-of-type {\n",
       "        vertical-align: middle;\n",
       "    }\n",
       "\n",
       "    .dataframe tbody tr th {\n",
       "        vertical-align: top;\n",
       "    }\n",
       "\n",
       "    .dataframe thead th {\n",
       "        text-align: right;\n",
       "    }\n",
       "</style>\n",
       "<table border=\"1\" class=\"dataframe\">\n",
       "  <thead>\n",
       "    <tr style=\"text-align: right;\">\n",
       "      <th></th>\n",
       "      <th>Name</th>\n",
       "      <th>Height</th>\n",
       "    </tr>\n",
       "  </thead>\n",
       "  <tbody>\n",
       "    <tr>\n",
       "      <th>0</th>\n",
       "      <td>Amy</td>\n",
       "      <td>170</td>\n",
       "    </tr>\n",
       "    <tr>\n",
       "      <th>1</th>\n",
       "      <td>Paul</td>\n",
       "      <td>190</td>\n",
       "    </tr>\n",
       "    <tr>\n",
       "      <th>2</th>\n",
       "      <td>Sara</td>\n",
       "      <td>143</td>\n",
       "    </tr>\n",
       "  </tbody>\n",
       "</table>\n",
       "</div>"
      ],
      "text/plain": [
       "   Name  Height\n",
       "0   Amy     170\n",
       "1  Paul     190\n",
       "2  Sara     143"
      ]
     },
     "execution_count": 19,
     "metadata": {},
     "output_type": "execute_result"
    }
   ],
   "source": [
    "df3 = pd.DataFrame({'Name': ['Amy', 'Paul', 'Sara'], 'Height': [170, 190, 143]})\n",
    "df3"
   ]
  },
  {
   "cell_type": "markdown",
   "id": "0cc2a124",
   "metadata": {
    "cell_id": "00023-b5e0ee3c-fe64-4e3f-b037-fbe2b693625a",
    "deepnote_cell_type": "markdown"
   },
   "source": [
    "Merge the first two dataframes together.  Who do we know both the age and weight of?"
   ]
  },
  {
   "cell_type": "code",
   "execution_count": null,
   "id": "e28f3399",
   "metadata": {
    "cell_id": "00024-4cc1dd6f-21ab-44d5-afd6-c6c49bd58961",
    "deepnote_cell_type": "code",
    "tags": [
     "exercise"
    ]
   },
   "outputs": [],
   "source": []
  },
  {
   "cell_type": "markdown",
   "id": "1a26ed86",
   "metadata": {
    "cell_id": "00025-bd5bcd02-3be6-4e90-87a7-81db2e6bbf4b",
    "deepnote_cell_type": "markdown"
   },
   "source": [
    "Who do we know both the weight and height of?"
   ]
  },
  {
   "cell_type": "code",
   "execution_count": null,
   "id": "6da5d5f4",
   "metadata": {
    "cell_id": "00026-6ef8ec08-7b1e-4bdc-9e18-8224a498c12c",
    "deepnote_cell_type": "code",
    "tags": [
     "exercise"
    ]
   },
   "outputs": [],
   "source": []
  },
  {
   "cell_type": "markdown",
   "id": "f058959a",
   "metadata": {
    "cell_id": "00027-b2d7e9a8-b653-4375-8474-a8defc0ba070",
    "deepnote_cell_type": "markdown"
   },
   "source": [
    "Try merging all 3 by merging twice.  Who do we know everything about?"
   ]
  },
  {
   "cell_type": "code",
   "execution_count": null,
   "id": "35f546a6",
   "metadata": {
    "cell_id": "00028-807c0ca5-d5d6-40e2-bb66-974cc204b7c0",
    "deepnote_cell_type": "code",
    "tags": [
     "exercise"
    ]
   },
   "outputs": [],
   "source": []
  },
  {
   "cell_type": "markdown",
   "id": "a121e835",
   "metadata": {
    "cell_id": "00029-7bb5c765-a430-4afc-b13a-df887c11106c",
    "deepnote_cell_type": "markdown"
   },
   "source": [
    "Note that the Names that weren't present in both dataframes dropped out of the final result.  If you'd like to keep them and have NaNs appear, you can change the `how` parameter in the `pd.merge()` function.  Let's try out a few options by merging dataframes 1 and 2:"
   ]
  },
  {
   "cell_type": "markdown",
   "id": "8e6ca04d",
   "metadata": {
    "cell_id": "00030-b1fd2539-da0c-4b6c-b792-938d761cee92",
    "deepnote_cell_type": "markdown"
   },
   "source": [
    "`how=\"outer\"`"
   ]
  },
  {
   "cell_type": "code",
   "execution_count": null,
   "id": "d5cdcec0",
   "metadata": {
    "cell_id": "00031-3e86b70f-b62f-45b8-8072-3169a0b04552",
    "deepnote_cell_type": "code",
    "tags": [
     "exercise"
    ]
   },
   "outputs": [],
   "source": []
  },
  {
   "cell_type": "markdown",
   "id": "9cc488b9",
   "metadata": {
    "cell_id": "00032-a6ea6fc5-9366-4b23-954c-c57ecc68877e",
    "deepnote_cell_type": "markdown"
   },
   "source": [
    "`how=\"left\"`"
   ]
  },
  {
   "cell_type": "code",
   "execution_count": null,
   "id": "2ae7218c",
   "metadata": {
    "cell_id": "00033-7c02c4e2-fb79-4465-81f8-779653856697",
    "deepnote_cell_type": "code",
    "tags": [
     "exercise"
    ]
   },
   "outputs": [],
   "source": []
  },
  {
   "cell_type": "markdown",
   "id": "ade7de53",
   "metadata": {
    "cell_id": "00034-10cc1ca8-20eb-47f7-abcc-bc283466262b",
    "deepnote_cell_type": "markdown"
   },
   "source": [
    "`how=\"right\"`"
   ]
  },
  {
   "cell_type": "code",
   "execution_count": null,
   "id": "492b991f",
   "metadata": {
    "cell_id": "00035-49c12ead-db86-41a5-a984-d4aeef9b460b",
    "deepnote_cell_type": "code",
    "tags": [
     "exercise"
    ]
   },
   "outputs": [],
   "source": []
  },
  {
   "cell_type": "markdown",
   "id": "b310eff0",
   "metadata": {
    "cell_id": "00036-3a2c376c-72d0-4a3a-8161-50840812d32d",
    "deepnote_cell_type": "markdown"
   },
   "source": [
    "`how=\"inner\"`"
   ]
  },
  {
   "cell_type": "code",
   "execution_count": null,
   "id": "01babf26",
   "metadata": {
    "cell_id": "00037-ee1e7b3c-08e6-4295-8aad-8ca71313d427",
    "deepnote_cell_type": "code",
    "tags": [
     "exercise"
    ]
   },
   "outputs": [],
   "source": []
  },
  {
   "cell_type": "markdown",
   "id": "58b902b0",
   "metadata": {
    "cell_id": "00038-c9828ecb-0d64-4d14-9b49-bb5e29b840eb",
    "deepnote_cell_type": "markdown"
   },
   "source": [
    "Recognizing that multiple inner joins can result in high data attrition, what policies would you put in your future data analyses to both prevent data loss and keep data easy to analyze?"
   ]
  }
 ],
 "metadata": {
  "deepnote": {},
  "deepnote_execution_queue": [],
  "deepnote_notebook_id": "61f525a9-da51-4af9-a52a-b4bb0d84fdd9",
  "kernelspec": {
   "display_name": "Python 3 (ipykernel)",
   "language": "python",
   "name": "python3"
  },
  "language_info": {
   "codemirror_mode": {
    "name": "ipython",
    "version": 3
   },
   "file_extension": ".py",
   "mimetype": "text/x-python",
   "name": "python",
   "nbconvert_exporter": "python",
   "pygments_lexer": "ipython3",
   "version": "3.10.4"
  },
  "metadata": {
   "interpreter": {
    "hash": "96aaef06ee4620efb4426efa9d33cf4f7340991f4df94558c663a28125b37508"
   }
  },
  "vscode": {
   "interpreter": {
    "hash": "d6852d01271bf8033dbdb7ec364b6f6e89fd52a18c6bf5b4c73e48c86329a8dd"
   }
  }
 },
 "nbformat": 4,
 "nbformat_minor": 5
}
