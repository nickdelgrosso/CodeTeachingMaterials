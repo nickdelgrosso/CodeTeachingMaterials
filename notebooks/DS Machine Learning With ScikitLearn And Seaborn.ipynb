{
 "cells": [
  {
   "cell_type": "code",
   "execution_count": 11,
   "id": "2d2008c6-889d-4e1d-8204-393de81a5e14",
   "metadata": {},
   "outputs": [],
   "source": [
    "from bokeh import sampledata\n",
    "# sampledata.download()"
   ]
  },
  {
   "cell_type": "code",
   "execution_count": 12,
   "id": "3996c77d-b97a-47c2-af88-46859051773e",
   "metadata": {},
   "outputs": [],
   "source": [
    "import numpy as np\n",
    "import pandas as pd\n",
    "import pingouin as pg\n"
   ]
  },
  {
   "cell_type": "code",
   "execution_count": 13,
   "id": "0350e8bc-ccef-4089-9c08-25526799195d",
   "metadata": {},
   "outputs": [
    {
     "data": {
      "text/html": [
       "<div>\n",
       "<style scoped>\n",
       "    .dataframe tbody tr th:only-of-type {\n",
       "        vertical-align: middle;\n",
       "    }\n",
       "\n",
       "    .dataframe tbody tr th {\n",
       "        vertical-align: top;\n",
       "    }\n",
       "\n",
       "    .dataframe thead th {\n",
       "        text-align: right;\n",
       "    }\n",
       "</style>\n",
       "<table border=\"1\" class=\"dataframe\">\n",
       "  <thead>\n",
       "    <tr style=\"text-align: right;\">\n",
       "      <th></th>\n",
       "      <th>sepal_length</th>\n",
       "      <th>sepal_width</th>\n",
       "      <th>petal_length</th>\n",
       "      <th>petal_width</th>\n",
       "      <th>species</th>\n",
       "    </tr>\n",
       "  </thead>\n",
       "  <tbody>\n",
       "    <tr>\n",
       "      <th>0</th>\n",
       "      <td>5.1</td>\n",
       "      <td>3.5</td>\n",
       "      <td>1.4</td>\n",
       "      <td>0.2</td>\n",
       "      <td>setosa</td>\n",
       "    </tr>\n",
       "    <tr>\n",
       "      <th>1</th>\n",
       "      <td>4.9</td>\n",
       "      <td>3.0</td>\n",
       "      <td>1.4</td>\n",
       "      <td>0.2</td>\n",
       "      <td>setosa</td>\n",
       "    </tr>\n",
       "    <tr>\n",
       "      <th>2</th>\n",
       "      <td>4.7</td>\n",
       "      <td>3.2</td>\n",
       "      <td>1.3</td>\n",
       "      <td>0.2</td>\n",
       "      <td>setosa</td>\n",
       "    </tr>\n",
       "    <tr>\n",
       "      <th>3</th>\n",
       "      <td>4.6</td>\n",
       "      <td>3.1</td>\n",
       "      <td>1.5</td>\n",
       "      <td>0.2</td>\n",
       "      <td>setosa</td>\n",
       "    </tr>\n",
       "    <tr>\n",
       "      <th>4</th>\n",
       "      <td>5.0</td>\n",
       "      <td>3.6</td>\n",
       "      <td>1.4</td>\n",
       "      <td>0.2</td>\n",
       "      <td>setosa</td>\n",
       "    </tr>\n",
       "  </tbody>\n",
       "</table>\n",
       "</div>"
      ],
      "text/plain": [
       "   sepal_length  sepal_width  petal_length  petal_width species\n",
       "0           5.1          3.5           1.4          0.2  setosa\n",
       "1           4.9          3.0           1.4          0.2  setosa\n",
       "2           4.7          3.2           1.3          0.2  setosa\n",
       "3           4.6          3.1           1.5          0.2  setosa\n",
       "4           5.0          3.6           1.4          0.2  setosa"
      ]
     },
     "execution_count": 13,
     "metadata": {},
     "output_type": "execute_result"
    }
   ],
   "source": [
    "from bokeh.sampledata import iris\n",
    "flowers = iris.flowers\n",
    "flowers.head()"
   ]
  },
  {
   "cell_type": "markdown",
   "id": "ba74e251-1079-408f-88dc-94dc2c6c89db",
   "metadata": {},
   "source": [
    "### Simpson's Paradox: Getting Careful about Correlation Statistics"
   ]
  },
  {
   "cell_type": "markdown",
   "id": "4d9ec7b8-5c14-4a33-9135-7d57b2e92d53",
   "metadata": {},
   "source": [
    "What is the correlation between the sepal width and the petal length in this dataset? Is it positive, negative, or neither? (Tip: `scipy.stats.pearsonr()`, `scpiy.stats.spearmanr()`,  `pingouin.corr()`)"
   ]
  },
  {
   "cell_type": "code",
   "execution_count": 15,
   "id": "5ff06bb9-2d5a-45b5-93c2-9878182c96cf",
   "metadata": {},
   "outputs": [],
   "source": [
    "from scipy import stats\n",
    "import pingouin as pg"
   ]
  },
  {
   "cell_type": "code",
   "execution_count": 16,
   "id": "cb86db3f-7463-4850-83c9-a1fdd8aac143",
   "metadata": {},
   "outputs": [
    {
     "data": {
      "text/html": [
       "<div>\n",
       "<style scoped>\n",
       "    .dataframe tbody tr th:only-of-type {\n",
       "        vertical-align: middle;\n",
       "    }\n",
       "\n",
       "    .dataframe tbody tr th {\n",
       "        vertical-align: top;\n",
       "    }\n",
       "\n",
       "    .dataframe thead th {\n",
       "        text-align: right;\n",
       "    }\n",
       "</style>\n",
       "<table border=\"1\" class=\"dataframe\">\n",
       "  <thead>\n",
       "    <tr style=\"text-align: right;\">\n",
       "      <th></th>\n",
       "      <th>n</th>\n",
       "      <th>r</th>\n",
       "      <th>CI95%</th>\n",
       "      <th>p-val</th>\n",
       "      <th>BF10</th>\n",
       "      <th>power</th>\n",
       "    </tr>\n",
       "  </thead>\n",
       "  <tbody>\n",
       "    <tr>\n",
       "      <th>pearson</th>\n",
       "      <td>150</td>\n",
       "      <td>-0.42844</td>\n",
       "      <td>[-0.55, -0.29]</td>\n",
       "      <td>4.513314e-08</td>\n",
       "      <td>2.762e+05</td>\n",
       "      <td>0.999847</td>\n",
       "    </tr>\n",
       "  </tbody>\n",
       "</table>\n",
       "</div>"
      ],
      "text/plain": [
       "           n        r           CI95%         p-val       BF10     power\n",
       "pearson  150 -0.42844  [-0.55, -0.29]  4.513314e-08  2.762e+05  0.999847"
      ]
     },
     "execution_count": 16,
     "metadata": {},
     "output_type": "execute_result"
    }
   ],
   "source": [
    "pg.corr(flowers['sepal_width'], flowers['petal_length'])"
   ]
  },
  {
   "cell_type": "code",
   "execution_count": 18,
   "id": "ea033958-ca87-4ab9-9830-65a61218c26d",
   "metadata": {},
   "outputs": [
    {
     "data": {
      "text/html": [
       "<div>\n",
       "<style scoped>\n",
       "    .dataframe tbody tr th:only-of-type {\n",
       "        vertical-align: middle;\n",
       "    }\n",
       "\n",
       "    .dataframe tbody tr th {\n",
       "        vertical-align: top;\n",
       "    }\n",
       "\n",
       "    .dataframe thead th {\n",
       "        text-align: right;\n",
       "    }\n",
       "</style>\n",
       "<table border=\"1\" class=\"dataframe\">\n",
       "  <thead>\n",
       "    <tr style=\"text-align: right;\">\n",
       "      <th></th>\n",
       "      <th>X</th>\n",
       "      <th>Y</th>\n",
       "      <th>method</th>\n",
       "      <th>alternative</th>\n",
       "      <th>n</th>\n",
       "      <th>r</th>\n",
       "      <th>CI95%</th>\n",
       "      <th>p-unc</th>\n",
       "      <th>power</th>\n",
       "    </tr>\n",
       "  </thead>\n",
       "  <tbody>\n",
       "    <tr>\n",
       "      <th>0</th>\n",
       "      <td>sepal_length</td>\n",
       "      <td>sepal_width</td>\n",
       "      <td>spearman</td>\n",
       "      <td>two-sided</td>\n",
       "      <td>150</td>\n",
       "      <td>-0.166778</td>\n",
       "      <td>[-0.32, -0.01]</td>\n",
       "      <td>4.136799e-02</td>\n",
       "      <td>0.534714</td>\n",
       "    </tr>\n",
       "    <tr>\n",
       "      <th>1</th>\n",
       "      <td>sepal_length</td>\n",
       "      <td>petal_length</td>\n",
       "      <td>spearman</td>\n",
       "      <td>two-sided</td>\n",
       "      <td>150</td>\n",
       "      <td>0.881898</td>\n",
       "      <td>[0.84, 0.91]</td>\n",
       "      <td>3.443087e-50</td>\n",
       "      <td>1.000000</td>\n",
       "    </tr>\n",
       "    <tr>\n",
       "      <th>2</th>\n",
       "      <td>sepal_length</td>\n",
       "      <td>petal_width</td>\n",
       "      <td>spearman</td>\n",
       "      <td>two-sided</td>\n",
       "      <td>150</td>\n",
       "      <td>0.834289</td>\n",
       "      <td>[0.78, 0.88]</td>\n",
       "      <td>4.189447e-40</td>\n",
       "      <td>1.000000</td>\n",
       "    </tr>\n",
       "    <tr>\n",
       "      <th>3</th>\n",
       "      <td>sepal_width</td>\n",
       "      <td>petal_length</td>\n",
       "      <td>spearman</td>\n",
       "      <td>two-sided</td>\n",
       "      <td>150</td>\n",
       "      <td>-0.309635</td>\n",
       "      <td>[-0.45, -0.16]</td>\n",
       "      <td>1.153938e-04</td>\n",
       "      <td>0.973396</td>\n",
       "    </tr>\n",
       "    <tr>\n",
       "      <th>4</th>\n",
       "      <td>sepal_width</td>\n",
       "      <td>petal_width</td>\n",
       "      <td>spearman</td>\n",
       "      <td>two-sided</td>\n",
       "      <td>150</td>\n",
       "      <td>-0.289032</td>\n",
       "      <td>[-0.43, -0.14]</td>\n",
       "      <td>3.342981e-04</td>\n",
       "      <td>0.951341</td>\n",
       "    </tr>\n",
       "    <tr>\n",
       "      <th>5</th>\n",
       "      <td>petal_length</td>\n",
       "      <td>petal_width</td>\n",
       "      <td>spearman</td>\n",
       "      <td>two-sided</td>\n",
       "      <td>150</td>\n",
       "      <td>0.937667</td>\n",
       "      <td>[0.91, 0.95]</td>\n",
       "      <td>8.156597e-70</td>\n",
       "      <td>1.000000</td>\n",
       "    </tr>\n",
       "  </tbody>\n",
       "</table>\n",
       "</div>"
      ],
      "text/plain": [
       "              X             Y    method alternative    n         r  \\\n",
       "0  sepal_length   sepal_width  spearman   two-sided  150 -0.166778   \n",
       "1  sepal_length  petal_length  spearman   two-sided  150  0.881898   \n",
       "2  sepal_length   petal_width  spearman   two-sided  150  0.834289   \n",
       "3   sepal_width  petal_length  spearman   two-sided  150 -0.309635   \n",
       "4   sepal_width   petal_width  spearman   two-sided  150 -0.289032   \n",
       "5  petal_length   petal_width  spearman   two-sided  150  0.937667   \n",
       "\n",
       "            CI95%         p-unc     power  \n",
       "0  [-0.32, -0.01]  4.136799e-02  0.534714  \n",
       "1    [0.84, 0.91]  3.443087e-50  1.000000  \n",
       "2    [0.78, 0.88]  4.189447e-40  1.000000  \n",
       "3  [-0.45, -0.16]  1.153938e-04  0.973396  \n",
       "4  [-0.43, -0.14]  3.342981e-04  0.951341  \n",
       "5    [0.91, 0.95]  8.156597e-70  1.000000  "
      ]
     },
     "execution_count": 18,
     "metadata": {},
     "output_type": "execute_result"
    }
   ],
   "source": [
    "pg.pairwise_corr(flowers, method='spearman')"
   ]
  },
  {
   "cell_type": "markdown",
   "id": "c2b01ac1-f90e-4d27-8a8a-aaf8787df7e2",
   "metadata": {},
   "source": [
    "Plot the sepal width and the petal length against each other.  What do you think now?  Try out a few different plotting functions:  `plt.scatter()`, `seaborn.scatterplot()`, `df.plot.scatter()`, `seaborn.regplot()`"
   ]
  },
  {
   "cell_type": "code",
   "execution_count": 19,
   "id": "36dd1acd-1d62-4618-a662-de4222d5924d",
   "metadata": {},
   "outputs": [],
   "source": [
    "import matplotlib.pyplot as plt\n",
    "import seaborn as sns"
   ]
  },
  {
   "cell_type": "code",
   "execution_count": 20,
   "id": "1e84eebe-9faa-4b24-8b23-981c9f6cfc5d",
   "metadata": {},
   "outputs": [
    {
     "data": {
      "image/png": "[encoded data removed]",
      "text/plain": [
       "<Figure size 432x288 with 1 Axes>"
      ]
     },
     "metadata": {
      "needs_background": "light"
     },
     "output_type": "display_data"
    }
   ],
   "source": [
    "plt.scatter(x=flowers['sepal_width'], y=flowers['petal_length']);"
   ]
  },
  {
   "cell_type": "code",
   "execution_count": 21,
   "id": "56d83ffe-79be-409f-8441-2a24e540e52d",
   "metadata": {},
   "outputs": [
    {
     "data": {
      "image/png": "[encoded data removed]",
      "text/plain": [
       "<Figure size 432x288 with 1 Axes>"
      ]
     },
     "metadata": {
      "needs_background": "light"
     },
     "output_type": "display_data"
    }
   ],
   "source": [
    "sns.scatterplot(x=flowers['sepal_width'], y=flowers['petal_length']);"
   ]
  },
  {
   "cell_type": "code",
   "execution_count": 22,
   "id": "fa59c00e-3641-4086-baea-214736a1d6f8",
   "metadata": {},
   "outputs": [
    {
     "data": {
      "image/png": "[encoded data removed]",
      "text/plain": [
       "<Figure size 432x288 with 1 Axes>"
      ]
     },
     "metadata": {
      "needs_background": "light"
     },
     "output_type": "display_data"
    }
   ],
   "source": [
    "sns.regplot(x=flowers['sepal_width'], y=flowers['petal_length']);"
   ]
  },
  {
   "cell_type": "code",
   "execution_count": 28,
   "id": "16b72f97-aebe-492e-add3-fe157af426cc",
   "metadata": {},
   "outputs": [
    {
     "data": {
      "image/png": "[encoded data removed]",
      "text/plain": [
       "<Figure size 1080x360 with 3 Axes>"
      ]
     },
     "metadata": {
      "needs_background": "light"
     },
     "output_type": "display_data"
    }
   ],
   "source": [
    "sns.lmplot(data=flowers, x='sepal_width', y='petal_length', col='species');"
   ]
  },
  {
   "cell_type": "markdown",
   "id": "da808f23-f1d2-4d8f-8445-22ed6efae8d5",
   "metadata": {},
   "source": [
    "What's happening here is that a third variable, `\"species\"`, is influencing both the petal and the sepal shape; this effect is called \"Simpson's Paradox\".  Seaborn's powerful `lmplot()` function makes it easier to see this:\n",
    "\n",
    "  - As before:  `seaborn.lmplot(data=df, x='col1', y='col2')`\n",
    "  - With a third variable: `seaborn.lmplot(data=df, x='col1', y='col2', hue='col3')`\n",
    "  \n",
    "To see this effect, let's run the linear model using `lmplot()`, both with and without the species variable."
   ]
  },
  {
   "cell_type": "markdown",
   "id": "78079c08-57ad-4611-b743-f056e672e221",
   "metadata": {},
   "source": [
    "Without accounting for species:"
   ]
  },
  {
   "cell_type": "code",
   "execution_count": null,
   "id": "51c3914f-7ed3-4557-8d70-fe6c726d5009",
   "metadata": {},
   "outputs": [],
   "source": []
  },
  {
   "cell_type": "markdown",
   "id": "7fad5c0d-4840-4480-875b-f55d8a1d61f9",
   "metadata": {},
   "source": [
    "With accounting for species:"
   ]
  },
  {
   "cell_type": "code",
   "execution_count": null,
   "id": "84bdaece-c80c-477f-8a65-496a6f541375",
   "metadata": {},
   "outputs": [],
   "source": []
  },
  {
   "cell_type": "markdown",
   "id": "436233bc-2a70-4fce-8971-fba4a68a9144",
   "metadata": {},
   "source": [
    "Accounting for the right variables is a big part of science; we should always be aware that the patterns we see in our data can be turned completely upside down when new aspects of a problem are understood and factored in!  "
   ]
  },
  {
   "cell_type": "markdown",
   "id": "a9693932-67f3-413d-969e-a81d9733691b",
   "metadata": {},
   "source": [
    "### Intro to [Scikit-Learn](https://scikit-learn.org/stable/): Linear Regression\n",
    "\n",
    "Scikit-Learn is a massive library of machine learning models, data preprocessing helpers, and model measurement tools; most of its functions follow the same pattern we've used in other libraries:\n",
    "\n",
    "```python\n",
    "model = MyModel(params)\n",
    "model.fit(X, y)\n",
    "```\n",
    "\n",
    "The main addition: Prediction!\n",
    "\n",
    "```python\n",
    "y_prediction = model.predict(X)\n",
    "```\n",
    "\n",
    "Scikit-learn is organized into various subpackages that contain different types of models or functions.  Models are always title-cased.  Here, let's do some linear regression using the `linear_model` subpackage.  "
   ]
  },
  {
   "cell_type": "code",
   "execution_count": 29,
   "id": "f8fb6bfd-3147-4652-b9e1-2f8e3dd1f092",
   "metadata": {},
   "outputs": [],
   "source": [
    "from sklearn import linear_model, metrics"
   ]
  },
  {
   "cell_type": "markdown",
   "id": "5220c71d-277b-41cd-87d0-f3b669d6ae46",
   "metadata": {},
   "source": [
    "**Exercise**"
   ]
  },
  {
   "cell_type": "code",
   "execution_count": null,
   "id": "4cfe7a05-8fa8-4a78-92a5-348cedac862c",
   "metadata": {},
   "outputs": [],
   "source": []
  },
  {
   "cell_type": "markdown",
   "id": "0a1d1d43-6281-441e-9225-b415df25a49f",
   "metadata": {},
   "source": [
    "**Toy Data**: Let's start by using the pre-created data below:"
   ]
  },
  {
   "cell_type": "code",
   "execution_count": 37,
   "id": "d33f7eac-e8e9-4435-9d80-8d0d90630aed",
   "metadata": {},
   "outputs": [
    {
     "data": {
      "text/html": [
       "<div>\n",
       "<style scoped>\n",
       "    .dataframe tbody tr th:only-of-type {\n",
       "        vertical-align: middle;\n",
       "    }\n",
       "\n",
       "    .dataframe tbody tr th {\n",
       "        vertical-align: top;\n",
       "    }\n",
       "\n",
       "    .dataframe thead th {\n",
       "        text-align: right;\n",
       "    }\n",
       "</style>\n",
       "<table border=\"1\" class=\"dataframe\">\n",
       "  <thead>\n",
       "    <tr style=\"text-align: right;\">\n",
       "      <th></th>\n",
       "      <th>a</th>\n",
       "      <th>b</th>\n",
       "    </tr>\n",
       "  </thead>\n",
       "  <tbody>\n",
       "    <tr>\n",
       "      <th>0</th>\n",
       "      <td>1.116916</td>\n",
       "      <td>5.591011</td>\n",
       "    </tr>\n",
       "    <tr>\n",
       "      <th>1</th>\n",
       "      <td>3.283996</td>\n",
       "      <td>12.517545</td>\n",
       "    </tr>\n",
       "    <tr>\n",
       "      <th>2</th>\n",
       "      <td>3.240715</td>\n",
       "      <td>9.235468</td>\n",
       "    </tr>\n",
       "    <tr>\n",
       "      <th>3</th>\n",
       "      <td>2.710862</td>\n",
       "      <td>7.872526</td>\n",
       "    </tr>\n",
       "    <tr>\n",
       "      <th>4</th>\n",
       "      <td>-2.748773</td>\n",
       "      <td>-8.464353</td>\n",
       "    </tr>\n",
       "  </tbody>\n",
       "</table>\n",
       "</div>"
      ],
      "text/plain": [
       "          a          b\n",
       "0  1.116916   5.591011\n",
       "1  3.283996  12.517545\n",
       "2  3.240715   9.235468\n",
       "3  2.710862   7.872526\n",
       "4 -2.748773  -8.464353"
      ]
     },
     "execution_count": 37,
     "metadata": {},
     "output_type": "execute_result"
    },
    {
     "data": {
      "image/png": "[encoded data removed]",
      "text/plain": [
       "<Figure size 432x288 with 1 Axes>"
      ]
     },
     "metadata": {
      "needs_background": "light"
     },
     "output_type": "display_data"
    }
   ],
   "source": [
    "np.random.seed(20)\n",
    "data = pd.DataFrame()\n",
    "data['a'] = np.random.uniform(-3, 4, 30)\n",
    "data['b'] = data['a'] * 3 + np.random.normal(0, 2, 30)\n",
    "data.plot.scatter(x='a', y='b');\n",
    "data.head()"
   ]
  },
  {
   "cell_type": "markdown",
   "id": "a81cab2a-f7ee-4452-ad47-3f52e00f9de7",
   "metadata": {},
   "source": [
    "Pick a model from the `linear_model` submodule and fit it to the data with the `fit()` method. (A simple starter: `linear_model.LinearRegression`)"
   ]
  },
  {
   "cell_type": "code",
   "execution_count": 50,
   "id": "7eab89e2-891c-4c35-8b64-2ce9de4110bc",
   "metadata": {},
   "outputs": [
    {
     "data": {
      "text/plain": [
       "array([[-3.        ],\n",
       "       [-2.33333333],\n",
       "       [-1.66666667],\n",
       "       [-1.        ],\n",
       "       [-0.33333333],\n",
       "       [ 0.33333333],\n",
       "       [ 1.        ],\n",
       "       [ 1.66666667],\n",
       "       [ 2.33333333],\n",
       "       [ 3.        ]])"
      ]
     },
     "execution_count": 50,
     "metadata": {},
     "output_type": "execute_result"
    }
   ],
   "source": [
    "x = np.linspace(-3, 3, 10);\n",
    "# x.reshape(-1, 1)\n",
    "x[:, None]"
   ]
  },
  {
   "cell_type": "code",
   "execution_count": 57,
   "id": "af6156ba-0e58-4fbc-9d49-71fae99bf381",
   "metadata": {},
   "outputs": [
    {
     "name": "stderr",
     "output_type": "stream",
     "text": [
      "C:\\Users\\nickdg\\anaconda3\\lib\\site-packages\\sklearn\\base.py:450: UserWarning: X does not have valid feature names, but BayesianRidge was fitted with feature names\n",
      "  warnings.warn(\n"
     ]
    },
    {
     "data": {
      "image/png": "[encoded data removed]",
      "text/plain": [
       "<Figure size 432x288 with 1 Axes>"
      ]
     },
     "metadata": {
      "needs_background": "light"
     },
     "output_type": "display_data"
    }
   ],
   "source": [
    "# model = linear_model.LinearRegression()\n",
    "model = linear_model.BayesianRidge()\n",
    "model.fit(data[['a']], data['b'])\n",
    "predicted_b = model.predict(data[['a']])\n",
    "plt.scatter(x=data.a, y=data.b);\n",
    "x = np.linspace(-3, 3, 10);\n",
    "regline = model.predict(x[:, None])\n",
    "plt.plot(x, regline, 'k:');"
   ]
  },
  {
   "cell_type": "markdown",
   "id": "57982c72-e94c-4efa-93e4-04c600a62285",
   "metadata": {},
   "source": [
    "Plot the regression line through the data.  Use your fitted model to predict values between -3 and 3, and plot that prediction as a line.  Done!"
   ]
  },
  {
   "cell_type": "code",
   "execution_count": null,
   "id": "4668f1ae-7e6e-49e2-8608-526e7030521e",
   "metadata": {},
   "outputs": [],
   "source": []
  },
  {
   "cell_type": "markdown",
   "id": "7a86c50e-20b2-4e27-bee7-5ebb054d9905",
   "metadata": {},
   "source": [
    "How accurate was this prediction?  The `sklearn.metrics` submodule has a lot of different functions for measuring the accuracy of various predictions. \n",
    "\n",
    "Three useful accuracy/error metrics here are:\n",
    "\n",
    "| Function | Explanation |\n",
    "| :------- | :---------  |\n",
    "| `mean_absolute_error()` | How off the prediction is on average (just subtracts distance between true and predicted values), lower is better | \n",
    "| `mean_squared_error()` | How off the prediction is on average, weighting large errors higher, lower is better |\n",
    "| `r2_score`  | How much of the variance is explained by the regression, higher is better |"
   ]
  },
  {
   "cell_type": "code",
   "execution_count": 58,
   "id": "4187c5f8-ed86-40ce-b1b4-e9a11616b604",
   "metadata": {},
   "outputs": [],
   "source": [
    "from sklearn import metrics"
   ]
  },
  {
   "cell_type": "markdown",
   "id": "d1179af0-8783-4d4d-b9c3-766f7183d505",
   "metadata": {},
   "source": [
    "What is the mean squared error of this model's predictions against the true 'b' value?"
   ]
  },
  {
   "cell_type": "code",
   "execution_count": 59,
   "id": "69a99ba5-71bc-40a1-826a-bf70b116f506",
   "metadata": {},
   "outputs": [
    {
     "data": {
      "text/plain": [
       "1.9482426907337538"
      ]
     },
     "execution_count": 59,
     "metadata": {},
     "output_type": "execute_result"
    }
   ],
   "source": [
    "metrics.mean_absolute_error(data.b, predicted_b)"
   ]
  },
  {
   "cell_type": "markdown",
   "id": "39b5e689-4cde-4b90-bf93-77c033aa58ec",
   "metadata": {},
   "source": [
    "What is the mean absolute error of this model's predictions against the true 'b' value?"
   ]
  },
  {
   "cell_type": "code",
   "execution_count": 60,
   "id": "1fb5e7c2-9fec-431f-a8fc-266d6853cd91",
   "metadata": {},
   "outputs": [
    {
     "data": {
      "text/plain": [
       "5.275307832573942"
      ]
     },
     "execution_count": 60,
     "metadata": {},
     "output_type": "execute_result"
    }
   ],
   "source": [
    "metrics.mean_squared_error(data.b, predicted_b)"
   ]
  },
  {
   "cell_type": "markdown",
   "id": "729e81ac-46b5-445f-8687-91ea450ba7af",
   "metadata": {},
   "source": [
    "What is the r-squared value of this model's predictions against the true 'b' value?"
   ]
  },
  {
   "cell_type": "code",
   "execution_count": 61,
   "id": "bc3c9113-7ead-4369-8f14-3460d59f2534",
   "metadata": {},
   "outputs": [
    {
     "data": {
      "text/plain": [
       "0.8798884045090329"
      ]
     },
     "execution_count": 61,
     "metadata": {},
     "output_type": "execute_result"
    }
   ],
   "source": [
    "metrics.r2_score(data.b, predicted_b)"
   ]
  },
  {
   "cell_type": "markdown",
   "id": "1a452d59-7989-40ad-a428-240bbdce91b2",
   "metadata": {},
   "source": [
    "**Toy Dataset 2**"
   ]
  },
  {
   "cell_type": "markdown",
   "id": "af94674d-2c76-4ccf-aefe-d2e389d7ab07",
   "metadata": {},
   "source": [
    "**Exercise**"
   ]
  },
  {
   "cell_type": "markdown",
   "id": "74a6e347-7e56-4fc1-ad69-b2aa33fe85d1",
   "metadata": {},
   "source": [
    "**Toy Data**: Let's start by using the pre-created data below:"
   ]
  },
  {
   "cell_type": "code",
   "execution_count": 70,
   "id": "63404c29-1ab1-4442-bab3-89ad348fb0c3",
   "metadata": {},
   "outputs": [
    {
     "data": {
      "image/png": "[encoded data removed]",
      "text/plain": [
       "<Figure size 432x288 with 1 Axes>"
      ]
     },
     "metadata": {
      "needs_background": "light"
     },
     "output_type": "display_data"
    }
   ],
   "source": [
    "np.random.seed(20)\n",
    "data = pd.DataFrame()\n",
    "data['a'] = np.random.uniform(-3, 4, 30)\n",
    "data['b'] = np.random.uniform(-3, 4, 30)\n",
    "data['c'] = data['a'] * 3 + data['b'] * -5 + np.random.normal(0, 1, 30)\n",
    "\n",
    "data.plot.scatter(x='a', y='c');"
   ]
  },
  {
   "cell_type": "markdown",
   "id": "d44c75eb-d9df-4297-9f79-1d8acc630a43",
   "metadata": {},
   "source": [
    "Fit three linear regression models: \n",
    "\n",
    "  1. One that predicts the `c` column using information from just the `a` column\n",
    "  2. One that predicts the `c` column using information from just the `b` column\n",
    "  3. One that predicts the `c` column using information from both the `a` and `b` columns\n",
    "  \n",
    "Which of the three models explains the most of the data's variance?"
   ]
  },
  {
   "cell_type": "code",
   "execution_count": null,
   "id": "b93a43f3-ca21-404f-b78c-d06810f90b5c",
   "metadata": {},
   "outputs": [],
   "source": [
    "# model = linear_model.LinearRegression()\n",
    "model = linear_model.BayesianRidge()\n",
    "model.fit(data[['a', 'b']], data['c'])\n",
    "predicted_b = model.predict(data[['a']])\n",
    "plt.scatter(x=data.a, y=data.b);\n",
    "x = np.linspace(-3, 3, 10);\n",
    "regline = model.predict(x[:, None])\n",
    "plt.plot(x, regline, 'k:');"
   ]
  },
  {
   "cell_type": "code",
   "execution_count": null,
   "id": "b44bc560-40c6-472f-a656-38ed00edb8fc",
   "metadata": {},
   "outputs": [],
   "source": [
    "aa = np.linspace(-400, 400, 100)\n",
    "bb = np.linspace(-400, 400, 100)\n",
    "cc = 91 #np.linspace(-100, 100, 50)\n",
    "dd = 11 #np.linspace(-100, 100, 50)\n",
    "ag, bg = np.meshgrid(aa, bb)"
   ]
  },
  {
   "cell_type": "markdown",
   "id": "16568951-9804-43ec-bddb-54be1b24e2ba",
   "metadata": {},
   "source": [
    "**Exercise**: Iris Dataset (`flowers`)\n",
    "\n",
    "Predict the `petal_width` using the `petal_length` for the setosa species, and plot the regression line."
   ]
  },
  {
   "cell_type": "code",
   "execution_count": null,
   "id": "39bb349c-ec9f-4ecd-96de-f7e2264be909",
   "metadata": {},
   "outputs": [],
   "source": []
  },
  {
   "cell_type": "markdown",
   "id": "d9adc24e-46d5-4d08-a448-11e9fee56f2c",
   "metadata": {},
   "source": [
    "### Classification using Supervised Learning\n",
    "\n",
    "Okay, let's try out scikit learn on another type of model: classification through clustering!"
   ]
  },
  {
   "cell_type": "markdown",
   "id": "c09a99f0-26f5-4778-9438-1b1974bc0977",
   "metadata": {},
   "source": [
    "#### Situation\n",
    "\n",
    "You've noticed that some of your data wasn't labelled with the species!  Maybe you should just throw the data away, but you think that you might be able to salvage the unlabelled data by using information about the sepal and petal to make educated guesses about the species.  If you can be confident that your guesses are more than 95% accurate, then you'll be confident combining the labelled and unlabelled data into a bigger dataset for your analysis."
   ]
  },
  {
   "cell_type": "markdown",
   "id": "c1780cd6-0726-41f1-a044-7df18383a774",
   "metadata": {},
   "source": [
    "#### Load Data\n",
    "\n",
    "To simulate this situation where some data is unlabelled, below I'm removing the labels (\"species\") from 15% of the rows.  Now we have two datasets to use: `known` and `unknown`."
   ]
  },
  {
   "cell_type": "code",
   "execution_count": 90,
   "id": "52afc419-a291-4a44-ba76-7f13e357bfd6",
   "metadata": {},
   "outputs": [
    {
     "data": {
      "text/html": [
       "<div>\n",
       "<style scoped>\n",
       "    .dataframe tbody tr th:only-of-type {\n",
       "        vertical-align: middle;\n",
       "    }\n",
       "\n",
       "    .dataframe tbody tr th {\n",
       "        vertical-align: top;\n",
       "    }\n",
       "\n",
       "    .dataframe thead th {\n",
       "        text-align: right;\n",
       "    }\n",
       "</style>\n",
       "<table border=\"1\" class=\"dataframe\">\n",
       "  <thead>\n",
       "    <tr style=\"text-align: right;\">\n",
       "      <th></th>\n",
       "      <th>sepal_length</th>\n",
       "      <th>sepal_width</th>\n",
       "      <th>petal_length</th>\n",
       "      <th>petal_width</th>\n",
       "    </tr>\n",
       "  </thead>\n",
       "  <tbody>\n",
       "    <tr>\n",
       "      <th>117</th>\n",
       "      <td>7.7</td>\n",
       "      <td>3.8</td>\n",
       "      <td>6.7</td>\n",
       "      <td>2.2</td>\n",
       "    </tr>\n",
       "    <tr>\n",
       "      <th>76</th>\n",
       "      <td>6.8</td>\n",
       "      <td>2.8</td>\n",
       "      <td>4.8</td>\n",
       "      <td>1.4</td>\n",
       "    </tr>\n",
       "    <tr>\n",
       "      <th>130</th>\n",
       "      <td>7.4</td>\n",
       "      <td>2.8</td>\n",
       "      <td>6.1</td>\n",
       "      <td>1.9</td>\n",
       "    </tr>\n",
       "    <tr>\n",
       "      <th>142</th>\n",
       "      <td>5.8</td>\n",
       "      <td>2.7</td>\n",
       "      <td>5.1</td>\n",
       "      <td>1.9</td>\n",
       "    </tr>\n",
       "    <tr>\n",
       "      <th>62</th>\n",
       "      <td>6.0</td>\n",
       "      <td>2.2</td>\n",
       "      <td>4.0</td>\n",
       "      <td>1.0</td>\n",
       "    </tr>\n",
       "  </tbody>\n",
       "</table>\n",
       "</div>"
      ],
      "text/plain": [
       "     sepal_length  sepal_width  petal_length  petal_width\n",
       "117           7.7          3.8           6.7          2.2\n",
       "76            6.8          2.8           4.8          1.4\n",
       "130           7.4          2.8           6.1          1.9\n",
       "142           5.8          2.7           5.1          1.9\n",
       "62            6.0          2.2           4.0          1.0"
      ]
     },
     "execution_count": 90,
     "metadata": {},
     "output_type": "execute_result"
    }
   ],
   "source": [
    "from bokeh.sampledata.iris import flowers\n",
    "\n",
    "np.random.seed(22)\n",
    "unknown = flowers.groupby('species').sample(frac=0.15).drop(columns='species')\n",
    "unknown.sample(5)"
   ]
  },
  {
   "cell_type": "code",
   "execution_count": 91,
   "id": "fb0a7649-e949-48ff-ac6a-cea1b7053a2e",
   "metadata": {},
   "outputs": [
    {
     "data": {
      "text/html": [
       "<div>\n",
       "<style scoped>\n",
       "    .dataframe tbody tr th:only-of-type {\n",
       "        vertical-align: middle;\n",
       "    }\n",
       "\n",
       "    .dataframe tbody tr th {\n",
       "        vertical-align: top;\n",
       "    }\n",
       "\n",
       "    .dataframe thead th {\n",
       "        text-align: right;\n",
       "    }\n",
       "</style>\n",
       "<table border=\"1\" class=\"dataframe\">\n",
       "  <thead>\n",
       "    <tr style=\"text-align: right;\">\n",
       "      <th></th>\n",
       "      <th>sepal_length</th>\n",
       "      <th>sepal_width</th>\n",
       "      <th>petal_length</th>\n",
       "      <th>petal_width</th>\n",
       "      <th>species</th>\n",
       "    </tr>\n",
       "  </thead>\n",
       "  <tbody>\n",
       "    <tr>\n",
       "      <th>1</th>\n",
       "      <td>4.9</td>\n",
       "      <td>3.0</td>\n",
       "      <td>1.4</td>\n",
       "      <td>0.2</td>\n",
       "      <td>setosa</td>\n",
       "    </tr>\n",
       "    <tr>\n",
       "      <th>5</th>\n",
       "      <td>5.4</td>\n",
       "      <td>3.9</td>\n",
       "      <td>1.7</td>\n",
       "      <td>0.4</td>\n",
       "      <td>setosa</td>\n",
       "    </tr>\n",
       "    <tr>\n",
       "      <th>121</th>\n",
       "      <td>5.6</td>\n",
       "      <td>2.8</td>\n",
       "      <td>4.9</td>\n",
       "      <td>2.0</td>\n",
       "      <td>virginica</td>\n",
       "    </tr>\n",
       "    <tr>\n",
       "      <th>82</th>\n",
       "      <td>5.8</td>\n",
       "      <td>2.7</td>\n",
       "      <td>3.9</td>\n",
       "      <td>1.2</td>\n",
       "      <td>versicolor</td>\n",
       "    </tr>\n",
       "    <tr>\n",
       "      <th>36</th>\n",
       "      <td>5.5</td>\n",
       "      <td>3.5</td>\n",
       "      <td>1.3</td>\n",
       "      <td>0.2</td>\n",
       "      <td>setosa</td>\n",
       "    </tr>\n",
       "  </tbody>\n",
       "</table>\n",
       "</div>"
      ],
      "text/plain": [
       "     sepal_length  sepal_width  petal_length  petal_width     species\n",
       "1             4.9          3.0           1.4          0.2      setosa\n",
       "5             5.4          3.9           1.7          0.4      setosa\n",
       "121           5.6          2.8           4.9          2.0   virginica\n",
       "82            5.8          2.7           3.9          1.2  versicolor\n",
       "36            5.5          3.5           1.3          0.2      setosa"
      ]
     },
     "execution_count": 91,
     "metadata": {},
     "output_type": "execute_result"
    }
   ],
   "source": [
    "known = flowers.drop(unknown.index)\n",
    "known.sample(5)"
   ]
  },
  {
   "cell_type": "code",
   "execution_count": 92,
   "id": "d579ffde-61cb-4469-95b6-5ddccc89cdeb",
   "metadata": {},
   "outputs": [
    {
     "data": {
      "text/plain": [
       "<matplotlib.legend.Legend at 0x15793885dc0>"
      ]
     },
     "execution_count": 92,
     "metadata": {},
     "output_type": "execute_result"
    },
    {
     "data": {
      "image/png": "[encoded data removed]",
      "text/plain": [
       "<Figure size 432x288 with 1 Axes>"
      ]
     },
     "metadata": {
      "needs_background": "light"
     },
     "output_type": "display_data"
    }
   ],
   "source": [
    "known['group'] = 'known'\n",
    "unknown['group'] = 'unknown'\n",
    "unknown['species'] = 'virginica'  # the prediction\n",
    "df = pd.concat([known, unknown])\n",
    "sns.scatterplot(data=df, x='sepal_length', y='sepal_width', hue='species', style='group'); \n",
    "plt.legend(bbox_to_anchor=(1.05, 1), loc=2, borderaxespad=0.)"
   ]
  },
  {
   "cell_type": "markdown",
   "id": "f6725d7e-a46a-49ac-a1d8-5d762dfc882c",
   "metadata": {},
   "source": [
    "#### Classification using the KNeighborsClassifier Model\n",
    "\n",
    "**Exercise**: Using the model imported below, fit a model that predicts species on the known dataset with at least 95% accuracy."
   ]
  },
  {
   "cell_type": "markdown",
   "id": "5efe0c0a-b48a-4f6e-a2a2-323c3b1c3f33",
   "metadata": {},
   "source": [
    "Fit the model on `known` and use `accuracy_score()` to check how accurate it was."
   ]
  },
  {
   "cell_type": "code",
   "execution_count": 10,
   "id": "850ff362-bb84-45f5-8a8d-f7044de7a314",
   "metadata": {},
   "outputs": [],
   "source": [
    "from sklearn.neighbors import KNeighborsClassifier\n",
    "from sklearn.metrics import accuracy_score"
   ]
  },
  {
   "cell_type": "code",
   "execution_count": 111,
   "id": "895d35e5-811c-44b3-836f-a6a0bb36542a",
   "metadata": {},
   "outputs": [
    {
     "data": {
      "text/plain": [
       "KNeighborsClassifier()"
      ]
     },
     "execution_count": 111,
     "metadata": {},
     "output_type": "execute_result"
    }
   ],
   "source": [
    "model = KNeighborsClassifier(n_neighbors=5)\n",
    "model.fit(known[known.columns[:4]], known['species'])"
   ]
  },
  {
   "cell_type": "markdown",
   "id": "aa9af5f5-2057-43f8-a0bf-f78c6e71a487",
   "metadata": {},
   "source": [
    "Use the fitted model to predict species on the `unknown` data:"
   ]
  },
  {
   "cell_type": "code",
   "execution_count": 103,
   "id": "78297b58-472e-492c-948a-5492ea60cb51",
   "metadata": {},
   "outputs": [
    {
     "data": {
      "text/plain": [
       "array(['setosa', 'versicolor', 'virginica'], dtype=object)"
      ]
     },
     "execution_count": 103,
     "metadata": {},
     "output_type": "execute_result"
    }
   ],
   "source": [
    "model.classes_"
   ]
  },
  {
   "cell_type": "code",
   "execution_count": 104,
   "id": "497acaa2-7faa-4ab9-9109-7583185c0656",
   "metadata": {},
   "outputs": [
    {
     "data": {
      "text/plain": [
       "array([[1. , 0. , 0. ],\n",
       "       [1. , 0. , 0. ],\n",
       "       [1. , 0. , 0. ],\n",
       "       [1. , 0. , 0. ],\n",
       "       [1. , 0. , 0. ],\n",
       "       [1. , 0. , 0. ],\n",
       "       [1. , 0. , 0. ],\n",
       "       [1. , 0. , 0. ],\n",
       "       [0. , 0.5, 0.5],\n",
       "       [0. , 0.8, 0.2],\n",
       "       [0. , 0.9, 0.1],\n",
       "       [0. , 1. , 0. ],\n",
       "       [0. , 1. , 0. ],\n",
       "       [0. , 1. , 0. ],\n",
       "       [0. , 1. , 0. ],\n",
       "       [0. , 0.9, 0.1],\n",
       "       [0. , 0.3, 0.7],\n",
       "       [0. , 0.3, 0.7],\n",
       "       [0. , 0.1, 0.9],\n",
       "       [0. , 0. , 1. ],\n",
       "       [0. , 0. , 1. ],\n",
       "       [0. , 0.2, 0.8],\n",
       "       [0. , 0. , 1. ],\n",
       "       [0. , 0. , 1. ]])"
      ]
     },
     "execution_count": 104,
     "metadata": {},
     "output_type": "execute_result"
    }
   ],
   "source": [
    "model.predict_proba(unknown[unknown.columns[:4]])"
   ]
  },
  {
   "cell_type": "code",
   "execution_count": 112,
   "id": "93806db6-cb71-4c6e-a7f7-f608c851e932",
   "metadata": {},
   "outputs": [],
   "source": [
    "prediction = model.predict(unknown[unknown.columns[:4]])"
   ]
  },
  {
   "cell_type": "markdown",
   "id": "fd62041c-577e-43ba-a2e0-a35beb3be1cd",
   "metadata": {},
   "source": [
    "Sanity check: plot the labels and see if it the labels make sense to you.  "
   ]
  },
  {
   "cell_type": "code",
   "execution_count": 113,
   "id": "bdde1fe6-6ad8-4009-8a34-39ca24ed4137",
   "metadata": {},
   "outputs": [
    {
     "data": {
      "text/plain": [
       "<matplotlib.legend.Legend at 0x15793a816d0>"
      ]
     },
     "execution_count": 113,
     "metadata": {},
     "output_type": "execute_result"
    },
    {
     "data": {
      "image/png": "[encoded data removed]",
      "text/plain": [
       "<Figure size 432x288 with 1 Axes>"
      ]
     },
     "metadata": {
      "needs_background": "light"
     },
     "output_type": "display_data"
    }
   ],
   "source": [
    "known['group'] = 'known'\n",
    "unknown['group'] = 'unknown'\n",
    "unknown['species'] = prediction\n",
    "df = pd.concat([known, unknown])\n",
    "sns.scatterplot(data=df, x='sepal_length', y='sepal_width', hue='species', style='group'); \n",
    "plt.legend(bbox_to_anchor=(1.05, 1), loc=2, borderaxespad=0.)"
   ]
  },
  {
   "cell_type": "code",
   "execution_count": null,
   "id": "16b784d0-5f4b-425a-8be4-237ae50ca829",
   "metadata": {},
   "outputs": [],
   "source": []
  },
  {
   "cell_type": "markdown",
   "id": "00dbc4b7-fd62-44b3-98bf-c77fc2782345",
   "metadata": {},
   "source": [
    "#### Discussion Question: How Accurately did the model predict species on the unknown data?"
   ]
  },
  {
   "cell_type": "markdown",
   "id": "4795dfc7-9e8c-4830-aabb-f2c51f10e211",
   "metadata": {},
   "source": [
    "#### Quality Control: Splitting Data into Training and Test Datasets\n",
    "\n",
    "Scikit learn has a function that makes it straightforward to split your data into a training and test dataset:\n",
    "\n",
    "```python\n",
    "from sklearn import model_selection\n",
    "train, test = model_selection.train_test_split(data)\n",
    "```\n",
    "\n",
    "Using this approach, you can see how well the data makes predictions on data isn't *wasn't trained on*, which helps pick models that are likely to work on other untrained data.  This is the main idea behind \"cross-validation\", and helps prevent selecting overtrained models."
   ]
  },
  {
   "cell_type": "markdown",
   "id": "708e2599-50e6-4ed3-8edf-9d11a62ab495",
   "metadata": {},
   "source": [
    "**Exercises**\n",
    "\n",
    "Re-train a model on only a subset of the known data and measure its accuracy on the rest.  Is the accuracy on the test data higher, lower, or the same as the accuracy on the train data?"
   ]
  },
  {
   "cell_type": "code",
   "execution_count": null,
   "id": "054296df-23b9-4dcd-af21-19545912af76",
   "metadata": {},
   "outputs": [],
   "source": []
  },
  {
   "cell_type": "markdown",
   "id": "8f4ebd56-09c8-46da-a47d-b3ac87c55774",
   "metadata": {},
   "source": [
    "Make a dataset that combines the known and unknown data (with the predicted species for the unkown data), adding a new column to help show which rows comes from which dataset.  Make a plot showing the two variables you picked in this new dataset using `seaborn.scatterplot()` and check whether the labels seem correct in the plot (tip: `style` maybe a useful attribute for the labels)."
   ]
  },
  {
   "cell_type": "code",
   "execution_count": null,
   "id": "77ed1bc0-4ca2-4dec-9e21-1088f36de36f",
   "metadata": {},
   "outputs": [],
   "source": []
  },
  {
   "cell_type": "markdown",
   "id": "05a5ab0e-6d64-4a1f-aff5-61f3c903fb8b",
   "metadata": {},
   "source": [
    "You think you can build a good classification model that uses only two of the features in the dataset, but you're not sure which two to pick.  Find the best pair of columns that classify the species."
   ]
  },
  {
   "cell_type": "code",
   "execution_count": null,
   "id": "47700d0d-6460-439c-9738-aa869a4dd7b7",
   "metadata": {},
   "outputs": [],
   "source": []
  },
  {
   "cell_type": "markdown",
   "id": "58a7d25c-8476-491a-936e-35507759ec03",
   "metadata": {},
   "source": [
    "#### Saving the Model\n",
    "\n",
    "Hey, we have a really useful machine learning model now; it would be great to be able to use it in the future or in other scripts!  The model can be saved to a file as a Python object using the `joblib` package.\n",
    "\n",
    "```python\n",
    "from joblib import dump, load\n",
    "dump(model, 'MyAwesomeModel.joblib')  # save the model to a file\n",
    "loaded_model = load('MyAwesomeModel.joblib')  # load the model from a file\n",
    "```"
   ]
  },
  {
   "cell_type": "markdown",
   "id": "d7e9b4a2-9983-4363-ac6b-e1516d0ea4a0",
   "metadata": {},
   "source": [
    "**Exercise**\n",
    "\n",
    "Save your classification model to a joblib file:"
   ]
  },
  {
   "cell_type": "markdown",
   "id": "d4f2e269-fac9-4e29-8a4e-9557033c1255",
   "metadata": {},
   "source": []
  },
  {
   "cell_type": "markdown",
   "id": "f999f17b-c67c-410e-a131-8b49aad31c69",
   "metadata": {},
   "source": [
    "Save the unlabelled data to a file:"
   ]
  },
  {
   "cell_type": "code",
   "execution_count": null,
   "id": "403c3505-8966-4e15-adfd-0dcec70ef4d5",
   "metadata": {},
   "outputs": [],
   "source": []
  },
  {
   "cell_type": "markdown",
   "id": "2403468f-0ed0-4472-a7e1-2e18951184b9",
   "metadata": {},
   "source": [
    "Open up a blank notebook, load the data and the model, fit the data to the model, and plot the results."
   ]
  },
  {
   "cell_type": "code",
   "execution_count": null,
   "id": "721241b6-25ee-4bfa-95a0-f9893396a15a",
   "metadata": {},
   "outputs": [],
   "source": []
  }
 ],
 "metadata": {
  "kernelspec": {
   "display_name": "base",
   "language": "python",
   "name": "base"
  },
  "language_info": {
   "codemirror_mode": {
    "name": "ipython",
    "version": 3
   },
   "file_extension": ".py",
   "mimetype": "text/x-python",
   "name": "python",
   "nbconvert_exporter": "python",
   "pygments_lexer": "ipython3",
   "version": "3.8.13"
  }
 },
 "nbformat": 4,
 "nbformat_minor": 5
}
