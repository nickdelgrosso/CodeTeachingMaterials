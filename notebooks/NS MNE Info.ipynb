{
 "cells": [
  {
   "cell_type": "code",
   "execution_count": 2,
   "id": "4e58befd-2952-4660-902f-75db638f6d84",
   "metadata": {},
   "outputs": [],
   "source": [
    "import mne\n",
    "import numpy as np"
   ]
  },
  {
   "cell_type": "markdown",
   "id": "0a501b68-6734-43e3-8afa-8afe2591d87d",
   "metadata": {},
   "source": [
    "# [Creating MNE Data Structures from Scratch: mne.Info](https://mne.tools/stable/auto_tutorials/simulation/10_array_objs.html#creating-info-objects)"
   ]
  },
  {
   "cell_type": "markdown",
   "id": "621b5e3a-1189-4b88-a553-b17977ad2eff",
   "metadata": {},
   "source": [
    "## [mne.Info](https://mne.tools/stable/generated/mne.Info.html#mne.Info): [`mne.create_info()`](https://mne.tools/stable/generated/mne.create_info.html#mne.create_info)\n",
    "\n",
    "Metadata for measurements are stored in MNE's `Info` object, created with the `mne.create_info()` function.  This data includes sampling info, device info, subject and experimenter info, channel names and montages, and more.  \n",
    "\n",
    "Tutorial on `create_info`: https://mne.tools/stable/auto_tutorials/simulation/10_array_objs.html#creating-info-objects"
   ]
  },
  {
   "cell_type": "markdown",
   "id": "c5bbb279-f7cb-462c-a95e-7949f91946a2",
   "metadata": {},
   "source": [
    "**Exercises**"
   ]
  },
  {
   "cell_type": "markdown",
   "id": "5b301162-d68d-4831-b828-f31a29cb80d9",
   "metadata": {},
   "source": [
    "**`ch_names` and `sfreq`:** Using `mne.create_info()`, create an Info object with 5 channels (don't worry about specifying the channel types, MNE will default them to `'misc'`."
   ]
  },
  {
   "cell_type": "code",
   "execution_count": 5,
   "id": "2fb2a3f1-1001-4d62-af85-c1279309e20b",
   "metadata": {},
   "outputs": [
    {
     "data": {
      "text/html": [
       "\n",
       "<table class=\"table table-hover table-striped table-sm table-responsive small\">\n",
       "    <tr>\n",
       "        <th>Measurement date</th>\n",
       "<td>Unknown</td>\n",
       "    </tr>\n",
       "    <tr>\n",
       "        <th>Experimenter</th>\n",
       "<td>Unknown</td>\n",
       "    </tr>\n",
       "        <th>Participant</th>\n",
       "<td>Unknown</td>\n",
       "    </tr>\n",
       "    <tr>\n",
       "        <th>Digitized points</th>\n",
       "        <td>Not available</td>\n",
       "    </tr>\n",
       "    <tr>\n",
       "        <th>Good channels</th>\n",
       "        <td>5 misc</td>\n",
       "    </tr>\n",
       "    <tr>\n",
       "        <th>Bad channels</th>\n",
       "        <td>None</td>\n",
       "    </tr>\n",
       "    <tr>\n",
       "        <th>EOG channels</th>\n",
       "        <td>Not available</td>\n",
       "    </tr>\n",
       "    <tr>\n",
       "        <th>ECG channels</th>\n",
       "        <td>Not available</td>\n",
       "    <tr>\n",
       "        <th>Sampling frequency</th>\n",
       "        <td>200.00 Hz</td>\n",
       "    </tr>\n",
       "    <tr>\n",
       "        <th>Highpass</th>\n",
       "        <td>0.00 Hz</td>\n",
       "    </tr>\n",
       "    <tr>\n",
       "        <th>Lowpass</th>\n",
       "        <td>100.00 Hz</td>\n",
       "    </tr>\n",
       "</table>\n"
      ],
      "text/plain": [
       "<Info | 7 non-empty values\n",
       " bads: []\n",
       " ch_names: 0, 1, 2, 3, 4\n",
       " chs: 5 misc\n",
       " custom_ref_applied: False\n",
       " highpass: 0.0 Hz\n",
       " lowpass: 100.0 Hz\n",
       " meas_date: unspecified\n",
       " nchan: 5\n",
       " projs: []\n",
       " sfreq: 200.0 Hz\n",
       ">"
      ]
     },
     "execution_count": 5,
     "metadata": {},
     "output_type": "execute_result"
    }
   ],
   "source": [
    "info = mne.create_info(ch_names=5, sfreq=200)\n",
    "info"
   ]
  },
  {
   "cell_type": "markdown",
   "id": "e153b576-281a-4efd-a733-c80c2b979a42",
   "metadata": {},
   "source": [
    "**`ch_names` and `ch_types` as list of strings:** Using `mne.create_info()`, create an Info object with 5 channel names \"EEG1\" through \"EEG3\", \"MEG1\" through \"MEG2\", and \"EOG\" , and set their types to \"eeg\", \"meg\", and \"eog\" accordingly"
   ]
  },
  {
   "cell_type": "code",
   "execution_count": 14,
   "id": "ed83b7a7-cc55-45b3-95a7-41b16f5c2785",
   "metadata": {},
   "outputs": [
    {
     "data": {
      "text/html": [
       "\n",
       "<table class=\"table table-hover table-striped table-sm table-responsive small\">\n",
       "    <tr>\n",
       "        <th>Measurement date</th>\n",
       "<td>Unknown</td>\n",
       "    </tr>\n",
       "    <tr>\n",
       "        <th>Experimenter</th>\n",
       "<td>Unknown</td>\n",
       "    </tr>\n",
       "        <th>Participant</th>\n",
       "<td>Unknown</td>\n",
       "    </tr>\n",
       "    <tr>\n",
       "        <th>Digitized points</th>\n",
       "        <td>Not available</td>\n",
       "    </tr>\n",
       "    <tr>\n",
       "        <th>Good channels</th>\n",
       "        <td>3 EEG, 1 Gradiometers, 1 Magnetometers, 1 EOG</td>\n",
       "    </tr>\n",
       "    <tr>\n",
       "        <th>Bad channels</th>\n",
       "        <td>EEG3</td>\n",
       "    </tr>\n",
       "    <tr>\n",
       "        <th>EOG channels</th>\n",
       "        <td>EOG</td>\n",
       "    </tr>\n",
       "    <tr>\n",
       "        <th>ECG channels</th>\n",
       "        <td>Not available</td>\n",
       "    <tr>\n",
       "        <th>Sampling frequency</th>\n",
       "        <td>250.00 Hz</td>\n",
       "    </tr>\n",
       "    <tr>\n",
       "        <th>Highpass</th>\n",
       "        <td>0.00 Hz</td>\n",
       "    </tr>\n",
       "    <tr>\n",
       "        <th>Lowpass</th>\n",
       "        <td>125.00 Hz</td>\n",
       "    </tr>\n",
       "</table>\n"
      ],
      "text/plain": [
       "<Info | 8 non-empty values\n",
       " bads: 1 items (EEG3)\n",
       " ch_names: EEG1, EEG2, EEG3, MEG1, MEG2, EOG\n",
       " chs: 3 EEG, 1 Gradiometers, 1 Magnetometers, 1 EOG\n",
       " custom_ref_applied: False\n",
       " highpass: 0.0 Hz\n",
       " lowpass: 125.0 Hz\n",
       " meas_date: unspecified\n",
       " nchan: 6\n",
       " projs: []\n",
       " sfreq: 250.0 Hz\n",
       ">"
      ]
     },
     "execution_count": 14,
     "metadata": {},
     "output_type": "execute_result"
    }
   ],
   "source": [
    "info = mne.create_info(\n",
    "    ch_names = ['EEG1', 'EEG2', 'EEG3', 'MEG1', 'MEG2', 'EOG'],\n",
    "    ch_types = ['eeg', 'eeg', 'eeg', 'grad', 'mag', 'eog'],\n",
    "    sfreq = 250,\n",
    ")\n",
    "info['bads'] = ['EEG3']\n",
    "info"
   ]
  },
  {
   "cell_type": "markdown",
   "id": "cacd97f6-6a9c-45c0-8067-b317acd2086a",
   "metadata": {},
   "source": [
    "**`info['description']` and `info['experimenter']`:** Modify the previously-created `Info` object so it has the experiment description `\"A first test\"` and your name as the experimenter.\n"
   ]
  },
  {
   "cell_type": "code",
   "execution_count": 15,
   "id": "31b28375-4f0c-4ab5-9005-8c0c21732430",
   "metadata": {},
   "outputs": [
    {
     "data": {
      "text/html": [
       "\n",
       "<table class=\"table table-hover table-striped table-sm table-responsive small\">\n",
       "    <tr>\n",
       "        <th>Measurement date</th>\n",
       "<td>Unknown</td>\n",
       "    </tr>\n",
       "    <tr>\n",
       "        <th>Experimenter</th>\n",
       "        <td>Nick</td>\n",
       "        \n",
       "    </tr>\n",
       "        <th>Participant</th>\n",
       "<td>Unknown</td>\n",
       "    </tr>\n",
       "    <tr>\n",
       "        <th>Digitized points</th>\n",
       "        <td>Not available</td>\n",
       "    </tr>\n",
       "    <tr>\n",
       "        <th>Good channels</th>\n",
       "        <td>3 EEG, 1 Gradiometers, 1 Magnetometers, 1 EOG</td>\n",
       "    </tr>\n",
       "    <tr>\n",
       "        <th>Bad channels</th>\n",
       "        <td>EEG3</td>\n",
       "    </tr>\n",
       "    <tr>\n",
       "        <th>EOG channels</th>\n",
       "        <td>EOG</td>\n",
       "    </tr>\n",
       "    <tr>\n",
       "        <th>ECG channels</th>\n",
       "        <td>Not available</td>\n",
       "    <tr>\n",
       "        <th>Sampling frequency</th>\n",
       "        <td>250.00 Hz</td>\n",
       "    </tr>\n",
       "    <tr>\n",
       "        <th>Highpass</th>\n",
       "        <td>0.00 Hz</td>\n",
       "    </tr>\n",
       "    <tr>\n",
       "        <th>Lowpass</th>\n",
       "        <td>125.00 Hz</td>\n",
       "    </tr>\n",
       "</table>\n"
      ],
      "text/plain": [
       "<Info | 10 non-empty values\n",
       " bads: 1 items (EEG3)\n",
       " ch_names: EEG1, EEG2, EEG3, MEG1, MEG2, EOG\n",
       " chs: 3 EEG, 1 Gradiometers, 1 Magnetometers, 1 EOG\n",
       " custom_ref_applied: False\n",
       " description: A first test\n",
       " experimenter: Nick\n",
       " highpass: 0.0 Hz\n",
       " lowpass: 125.0 Hz\n",
       " meas_date: unspecified\n",
       " nchan: 6\n",
       " projs: []\n",
       " sfreq: 250.0 Hz\n",
       ">"
      ]
     },
     "execution_count": 15,
     "metadata": {},
     "output_type": "execute_result"
    }
   ],
   "source": [
    "info['description'] = 'A first test'\n",
    "info['experimenter'] = 'Nick'\n",
    "info"
   ]
  },
  {
   "cell_type": "markdown",
   "id": "70d3b0a0-3d78-4e4c-8772-4af53583afc8",
   "metadata": {},
   "source": [
    "**info['subject_info']**: Modify the previously-created Info object so it has a friend or family member's description.  \n",
    "```python\n",
    "info['subject_info'] = {\n",
    "    'id': 3,  # Integer subject identifier.\n",
    "    'his_id': 'sub121',  # String subject identifier.\n",
    "    'last_name': 'Addams',\n",
    "    'first_name': 'Morticia',\n",
    "    'birthday': (2021, 4, 28),  # Birthday in (year, month, day) format.\n",
    "    'sex': 1, # (0=unknown, 1=male, 2=female).\n",
    "    'hand': 1, # Handedness (1=right, 2=left, 3=ambidextrous).\n",
    "}\n",
    "```"
   ]
  },
  {
   "cell_type": "code",
   "execution_count": 3,
   "id": "affbcd51-3646-4dde-8629-3f97380f5994",
   "metadata": {},
   "outputs": [],
   "source": []
  },
  {
   "cell_type": "markdown",
   "id": "5a513038-bdc7-48e8-a536-4147a13a6df7",
   "metadata": {},
   "source": [
    "**info['meas_date']** as a datetime: Set the Measurement date to today's date, at 9:11am, and the timezone to utc.\n",
    "\n",
    "*Important*: MNE requires the timezone to be utc.  Example for creating a datatime object: \n",
    "\n",
    "```python\n",
    "from datetime import datetime, timezone\n",
    "datetime(year=2021, month=11, day=20, hour=4, minute=20, tzinfo=timezone.utc)\n",
    "```\n",
    "\n",
    "**Note**: You'll see a warning that says it can't be set directly.  Just ignore this for now."
   ]
  },
  {
   "cell_type": "code",
   "execution_count": 19,
   "id": "0e9a8e54-b896-4396-88ee-f446653ce799",
   "metadata": {},
   "outputs": [
    {
     "data": {
      "text/plain": [
       "11"
      ]
     },
     "execution_count": 19,
     "metadata": {},
     "output_type": "execute_result"
    }
   ],
   "source": [
    "from datetime import datetime, timezone\n",
    "today = datetime(year=2021, month=11, day=20, hour=4, minute=20, tzinfo=timezone.utc)\n",
    "today.year\n",
    "today.month"
   ]
  },
  {
   "cell_type": "code",
   "execution_count": null,
   "id": "5e4cbd7a-4bae-4b7e-be58-dc87e15db859",
   "metadata": {},
   "outputs": [],
   "source": []
  },
  {
   "cell_type": "markdown",
   "id": "410f139d-3547-4039-abe3-9cd19b52db51",
   "metadata": {},
   "source": [
    "#### Adding Montage info\n",
    "\n",
    "\"Montages\" refer to the 3D positions of all digital channels and head fiducials; they are exact measurements.  In MEG systems these measurments are always available, because the channels are fixed in place by the system.  For EEG, if these measurements are not made, they can be approximated from standard montages used in different standard montages, by matching the channel names and the name of the standard montage being used."
   ]
  },
  {
   "cell_type": "markdown",
   "id": "526449bd-6c84-459b-9fbc-9398d5eaa971",
   "metadata": {},
   "source": [
    "Create a new `Info` object with 7 EEG channels, all of them with channel names selected from the [International 10-20 system for EEG](https://en.wikipedia.org/wiki/10%E2%80%9320_system_(EEG)) and the sampling frequency at 250 Hz."
   ]
  },
  {
   "cell_type": "code",
   "execution_count": 22,
   "id": "2cfc779b-1406-4335-8854-d46f351f2b8a",
   "metadata": {},
   "outputs": [
    {
     "data": {
      "text/html": [
       "\n",
       "<table class=\"table table-hover table-striped table-sm table-responsive small\">\n",
       "    <tr>\n",
       "        <th>Measurement date</th>\n",
       "<td>Unknown</td>\n",
       "    </tr>\n",
       "    <tr>\n",
       "        <th>Experimenter</th>\n",
       "<td>Unknown</td>\n",
       "    </tr>\n",
       "        <th>Participant</th>\n",
       "<td>Unknown</td>\n",
       "    </tr>\n",
       "    <tr>\n",
       "        <th>Digitized points</th>\n",
       "        <td>Not available</td>\n",
       "    </tr>\n",
       "    <tr>\n",
       "        <th>Good channels</th>\n",
       "        <td>7 EEG</td>\n",
       "    </tr>\n",
       "    <tr>\n",
       "        <th>Bad channels</th>\n",
       "        <td>None</td>\n",
       "    </tr>\n",
       "    <tr>\n",
       "        <th>EOG channels</th>\n",
       "        <td>Not available</td>\n",
       "    </tr>\n",
       "    <tr>\n",
       "        <th>ECG channels</th>\n",
       "        <td>Not available</td>\n",
       "    <tr>\n",
       "        <th>Sampling frequency</th>\n",
       "        <td>250.00 Hz</td>\n",
       "    </tr>\n",
       "    <tr>\n",
       "        <th>Highpass</th>\n",
       "        <td>0.00 Hz</td>\n",
       "    </tr>\n",
       "    <tr>\n",
       "        <th>Lowpass</th>\n",
       "        <td>125.00 Hz</td>\n",
       "    </tr>\n",
       "</table>\n"
      ],
      "text/plain": [
       "<Info | 7 non-empty values\n",
       " bads: []\n",
       " ch_names: Cz, Fz, O1, O2, C3, C4, Fp1\n",
       " chs: 7 EEG\n",
       " custom_ref_applied: False\n",
       " highpass: 0.0 Hz\n",
       " lowpass: 125.0 Hz\n",
       " meas_date: unspecified\n",
       " nchan: 7\n",
       " projs: []\n",
       " sfreq: 250.0 Hz\n",
       ">"
      ]
     },
     "execution_count": 22,
     "metadata": {},
     "output_type": "execute_result"
    }
   ],
   "source": [
    "info = mne.create_info(\n",
    "    ch_names = [\"Cz\", 'Fz', 'O1', 'O2', 'C3', 'C4', 'Fp1'],\n",
    "    ch_types = ['eeg'] * 7,\n",
    "    sfreq = 250\n",
    ")\n",
    "info"
   ]
  },
  {
   "cell_type": "markdown",
   "id": "6d9a0570-09aa-4fc9-9291-e8c3bd045f9b",
   "metadata": {},
   "source": [
    "**`Info.set_montage()`**: Modify the previously-created `Info` object by telling MNE that the montage is from the `\"standard_1020\"` system. \n",
    "\n",
    "What information is added to the info?"
   ]
  },
  {
   "cell_type": "code",
   "execution_count": 23,
   "id": "75814119-a630-491c-a852-930fd1622e30",
   "metadata": {},
   "outputs": [
    {
     "data": {
      "text/html": [
       "\n",
       "<table class=\"table table-hover table-striped table-sm table-responsive small\">\n",
       "    <tr>\n",
       "        <th>Measurement date</th>\n",
       "<td>Unknown</td>\n",
       "    </tr>\n",
       "    <tr>\n",
       "        <th>Experimenter</th>\n",
       "<td>Unknown</td>\n",
       "    </tr>\n",
       "        <th>Participant</th>\n",
       "<td>Unknown</td>\n",
       "    </tr>\n",
       "    <tr>\n",
       "        <th>Digitized points</th>\n",
       "        <td>10 points</td>\n",
       "    </tr>\n",
       "    <tr>\n",
       "        <th>Good channels</th>\n",
       "        <td>7 EEG</td>\n",
       "    </tr>\n",
       "    <tr>\n",
       "        <th>Bad channels</th>\n",
       "        <td>None</td>\n",
       "    </tr>\n",
       "    <tr>\n",
       "        <th>EOG channels</th>\n",
       "        <td>Not available</td>\n",
       "    </tr>\n",
       "    <tr>\n",
       "        <th>ECG channels</th>\n",
       "        <td>Not available</td>\n",
       "    <tr>\n",
       "        <th>Sampling frequency</th>\n",
       "        <td>250.00 Hz</td>\n",
       "    </tr>\n",
       "    <tr>\n",
       "        <th>Highpass</th>\n",
       "        <td>0.00 Hz</td>\n",
       "    </tr>\n",
       "    <tr>\n",
       "        <th>Lowpass</th>\n",
       "        <td>125.00 Hz</td>\n",
       "    </tr>\n",
       "</table>\n"
      ],
      "text/plain": [
       "<Info | 8 non-empty values\n",
       " bads: []\n",
       " ch_names: Cz, Fz, O1, O2, C3, C4, Fp1\n",
       " chs: 7 EEG\n",
       " custom_ref_applied: False\n",
       " dig: 10 items (3 Cardinal, 7 EEG)\n",
       " highpass: 0.0 Hz\n",
       " lowpass: 125.0 Hz\n",
       " meas_date: unspecified\n",
       " nchan: 7\n",
       " projs: []\n",
       " sfreq: 250.0 Hz\n",
       ">"
      ]
     },
     "execution_count": 23,
     "metadata": {},
     "output_type": "execute_result"
    }
   ],
   "source": [
    "info.set_montage('standard_1020')\n",
    "info"
   ]
  },
  {
   "cell_type": "markdown",
   "id": "e917a791-e360-4283-96b0-e1dbf6352ed7",
   "metadata": {},
   "source": [
    "### Montage: [info.set_montage()](https://mne.tools/stable/generated/mne.Info.html#mne.Info.set_montage)\n",
    "\n",
    "Options: https://mne.tools/stable/generated/mne.channels.make_standard_montage.html#mne.channels.make_standard_montage\n",
    "\n",
    "Adds digitized points, which also include [fiducial points](https://mne.tools/stable/glossary.html#term-fiducial-point)"
   ]
  },
  {
   "cell_type": "markdown",
   "id": "e3d690f7-9e76-4de0-8de3-05d2f0b064ab",
   "metadata": {},
   "source": [
    "**info['dig']** Get the digitized fiducial points, which also include [fiducial points](https://mne.tools/stable/glossary.html#term-fiducial-point)"
   ]
  },
  {
   "cell_type": "code",
   "execution_count": 31,
   "id": "b0468913-eddb-4e6b-976e-c9fd52b8e838",
   "metadata": {},
   "outputs": [
    {
     "data": {
      "text/plain": [
       "[<DigPoint |        LPA : (-82.5, -0.0, 0.0) mm     : head frame>,\n",
       " <DigPoint |     Nasion : (0.0, 102.7, 0.0) mm      : head frame>,\n",
       " <DigPoint |        RPA : (82.2, 0.0, 0.0) mm       : head frame>,\n",
       " <DigPoint |     EEG #1 : (-28.2, 102.3, 31.7) mm   : head frame>,\n",
       " <DigPoint |    EEG #20 : (0.3, 83.3, 103.8) mm     : head frame>,\n",
       " <DigPoint |    EEG #40 : (-62.7, 16.1, 106.8) mm   : head frame>,\n",
       " <DigPoint |    EEG #42 : (0.4, 21.0, 140.9) mm     : head frame>,\n",
       " <DigPoint |    EEG #44 : (64.3, 16.7, 106.0) mm    : head frame>,\n",
       " <DigPoint |    EEG #81 : (-28.2, -84.3, 61.0) mm   : head frame>,\n",
       " <DigPoint |    EEG #83 : (28.6, -84.0, 60.9) mm    : head frame>]"
      ]
     },
     "execution_count": 31,
     "metadata": {},
     "output_type": "execute_result"
    }
   ],
   "source": [
    "info['dig']"
   ]
  },
  {
   "cell_type": "markdown",
   "id": "e596625c-5a47-4c7e-a334-82febea64eec",
   "metadata": {},
   "source": [
    "**`mne.channels.DigMontage()`**: Create a `DigMontage` object from the fiducials and channel names in your `Info` object."
   ]
  },
  {
   "cell_type": "code",
   "execution_count": 34,
   "id": "6e0dbcaf-968c-427c-a20a-98a82e3d3004",
   "metadata": {},
   "outputs": [
    {
     "data": {
      "text/plain": [
       "<DigMontage | 0 extras (headshape), 0 HPIs, 3 fiducials, 7 channels>"
      ]
     },
     "execution_count": 34,
     "metadata": {},
     "output_type": "execute_result"
    }
   ],
   "source": [
    "montage = mne.channels.DigMontage(dig=info['dig'], ch_names=info['ch_names'], )\n",
    "montage"
   ]
  },
  {
   "cell_type": "markdown",
   "id": "1fc907fa-4633-4361-aee7-61ce87ca5663",
   "metadata": {},
   "source": [
    "**`DigMontage.plot(kind='topomap')`**: Plot the channel positions on the scalp."
   ]
  },
  {
   "cell_type": "code",
   "execution_count": 41,
   "id": "778bc66e-7abd-47e9-8ee1-bcc610c5eb00",
   "metadata": {},
   "outputs": [
    {
     "name": "stdout",
     "output_type": "stream",
     "text": [
      "Creating RawArray with float64 data, n_channels=7, n_times=1\n",
      "    Range : 0 ... 0 =      0.000 ...     0.000 secs\n",
      "Ready.\n"
     ]
    }
   ],
   "source": [
    "montage.plot();"
   ]
  },
  {
   "cell_type": "markdown",
   "id": "683dfbe6-e23c-49df-b2e6-57684e6cf2dc",
   "metadata": {},
   "source": [
    "**`DigMontage.plot(kind='3d')`**: Plot the channel positions in 3D\n",
    "    \n",
    "**Note**: 3D graphs are best if made interactive.  To mak this work, set the matplotlib backend to qt with `%matplotlib qt` and pip install the `mayavi` package."
   ]
  },
  {
   "cell_type": "code",
   "execution_count": 39,
   "id": "ff3aa95d-197e-4a83-aa7c-87898b599a6f",
   "metadata": {},
   "outputs": [],
   "source": [
    "%matplotlib qt"
   ]
  },
  {
   "cell_type": "code",
   "execution_count": 40,
   "id": "8c29c3c0-977b-4eb5-af45-c2553757f83b",
   "metadata": {},
   "outputs": [
    {
     "name": "stdout",
     "output_type": "stream",
     "text": [
      "Creating RawArray with float64 data, n_channels=7, n_times=1\n",
      "    Range : 0 ... 0 =      0.000 ...     0.000 secs\n",
      "Ready.\n"
     ]
    }
   ],
   "source": [
    "montage.plot(kind='3d');"
   ]
  },
  {
   "cell_type": "code",
   "execution_count": 43,
   "id": "18546c81-7f75-48e9-8236-d1ffcebd64d2",
   "metadata": {},
   "outputs": [
    {
     "data": {
      "text/plain": [
       "\u001b[1;31mSignature:\u001b[0m\n",
       "\u001b[0mmne\u001b[0m\u001b[1;33m.\u001b[0m\u001b[0mio\u001b[0m\u001b[1;33m.\u001b[0m\u001b[0mRaw\u001b[0m\u001b[1;33m.\u001b[0m\u001b[0mplot_sensors\u001b[0m\u001b[1;33m(\u001b[0m\u001b[1;33m\n",
       "\u001b[0m    \u001b[0mself\u001b[0m\u001b[1;33m,\u001b[0m\u001b[1;33m\n",
       "\u001b[0m    \u001b[0mkind\u001b[0m\u001b[1;33m=\u001b[0m\u001b[1;34m'topomap'\u001b[0m\u001b[1;33m,\u001b[0m\u001b[1;33m\n",
       "\u001b[0m    \u001b[0mch_type\u001b[0m\u001b[1;33m=\u001b[0m\u001b[1;32mNone\u001b[0m\u001b[1;33m,\u001b[0m\u001b[1;33m\n",
       "\u001b[0m    \u001b[0mtitle\u001b[0m\u001b[1;33m=\u001b[0m\u001b[1;32mNone\u001b[0m\u001b[1;33m,\u001b[0m\u001b[1;33m\n",
       "\u001b[0m    \u001b[0mshow_names\u001b[0m\u001b[1;33m=\u001b[0m\u001b[1;32mFalse\u001b[0m\u001b[1;33m,\u001b[0m\u001b[1;33m\n",
       "\u001b[0m    \u001b[0mch_groups\u001b[0m\u001b[1;33m=\u001b[0m\u001b[1;32mNone\u001b[0m\u001b[1;33m,\u001b[0m\u001b[1;33m\n",
       "\u001b[0m    \u001b[0mto_sphere\u001b[0m\u001b[1;33m=\u001b[0m\u001b[1;32mTrue\u001b[0m\u001b[1;33m,\u001b[0m\u001b[1;33m\n",
       "\u001b[0m    \u001b[0maxes\u001b[0m\u001b[1;33m=\u001b[0m\u001b[1;32mNone\u001b[0m\u001b[1;33m,\u001b[0m\u001b[1;33m\n",
       "\u001b[0m    \u001b[0mblock\u001b[0m\u001b[1;33m=\u001b[0m\u001b[1;32mFalse\u001b[0m\u001b[1;33m,\u001b[0m\u001b[1;33m\n",
       "\u001b[0m    \u001b[0mshow\u001b[0m\u001b[1;33m=\u001b[0m\u001b[1;32mTrue\u001b[0m\u001b[1;33m,\u001b[0m\u001b[1;33m\n",
       "\u001b[0m    \u001b[0msphere\u001b[0m\u001b[1;33m=\u001b[0m\u001b[1;32mNone\u001b[0m\u001b[1;33m,\u001b[0m\u001b[1;33m\n",
       "\u001b[0m    \u001b[0mverbose\u001b[0m\u001b[1;33m=\u001b[0m\u001b[1;32mNone\u001b[0m\u001b[1;33m,\u001b[0m\u001b[1;33m\n",
       "\u001b[0m\u001b[1;33m)\u001b[0m\u001b[1;33m\u001b[0m\u001b[1;33m\u001b[0m\u001b[0m\n",
       "\u001b[1;31mDocstring:\u001b[0m\n",
       "Plot sensor positions.\n",
       "\n",
       "Parameters\n",
       "----------\n",
       "kind : str\n",
       "    Whether to plot the sensors as 3d, topomap or as an interactive\n",
       "    sensor selection dialog. Available options 'topomap', '3d',\n",
       "    'select'. If 'select', a set of channels can be selected\n",
       "    interactively by using lasso selector or clicking while holding\n",
       "    control key. The selected channels are returned along with the\n",
       "    figure instance. Defaults to 'topomap'.\n",
       "ch_type : None | str\n",
       "    The channel type to plot. Available options 'mag', 'grad', 'eeg',\n",
       "    'seeg', 'dbs', 'ecog', 'all'. If ``'all'``, all the available mag,\n",
       "    grad, eeg, seeg, dbs, and ecog channels are plotted. If\n",
       "    None (default), then channels are chosen in the order given above.\n",
       "title : str | None\n",
       "    Title for the figure. If None (default), equals to ``'Sensor\n",
       "    positions (%s)' % ch_type``.\n",
       "show_names : bool | array of str\n",
       "    Whether to display all channel names. If an array, only the channel\n",
       "    names in the array are shown. Defaults to False.\n",
       "ch_groups : 'position' | array of shape (n_ch_groups, n_picks) | None\n",
       "    Channel groups for coloring the sensors. If None (default), default\n",
       "    coloring scheme is used. If 'position', the sensors are divided\n",
       "    into 8 regions. See ``order`` kwarg of :func:`mne.viz.plot_raw`. If\n",
       "    array, the channels are divided by picks given in the array.\n",
       "\n",
       "    .. versionadded:: 0.13.0\n",
       "to_sphere : bool\n",
       "    Whether to project the 3d locations to a sphere. When False, the\n",
       "    sensor array appears similar as to looking downwards straight above\n",
       "    the subject's head. Has no effect when kind='3d'. Defaults to True.\n",
       "\n",
       "    .. versionadded:: 0.14.0\n",
       "axes : instance of Axes | instance of Axes3D | None\n",
       "    Axes to draw the sensors to. If ``kind='3d'``, axes must be an\n",
       "    instance of Axes3D. If None (default), a new axes will be created.\n",
       "\n",
       "    .. versionadded:: 0.13.0\n",
       "block : bool\n",
       "    Whether to halt program execution until the figure is closed.\n",
       "    Defaults to False.\n",
       "\n",
       "    .. versionadded:: 0.13.0\n",
       "show : bool\n",
       "    Show figure if True. Defaults to True.\n",
       "\n",
       "sphere : float | array-like | str | None\n",
       "    The sphere parameters to use for the cartoon head.\n",
       "    Can be array-like of shape (4,) to give the X/Y/Z origin and radius in\n",
       "    meters, or a single float to give the radius (origin assumed 0, 0, 0).\n",
       "    Can also be a spherical ConductorModel, which will use the origin and\n",
       "    radius. Can be \"auto\" to use a digitization-based fit.\n",
       "    Can also be None (default) to use 'auto' when enough extra digitization\n",
       "    points are available, and 0.095 otherwise.\n",
       "    Currently the head radius does not affect plotting.\n",
       "\n",
       "    .. versionadded:: 0.20\n",
       "\n",
       "verbose : bool | str | int | None\n",
       "    Control verbosity of the logging output. If ``None``, use the default\n",
       "    verbosity level. See the :ref:`logging documentation <tut-logging>` and\n",
       "    :func:`mne.verbose` for details. Should only be passed as a keyword\n",
       "    argument. Defaults to self.verbose.\n",
       "\n",
       "Returns\n",
       "-------\n",
       "fig : instance of Figure\n",
       "    Figure containing the sensor topography.\n",
       "selection : list\n",
       "    A list of selected channels. Only returned if ``kind=='select'``.\n",
       "\n",
       "See Also\n",
       "--------\n",
       "mne.viz.plot_layout\n",
       "\n",
       "Notes\n",
       "-----\n",
       "This function plots the sensor locations from the info structure using\n",
       "matplotlib. For drawing the sensors using mayavi see\n",
       ":func:`mne.viz.plot_alignment`.\n",
       "\n",
       ".. versionadded:: 0.12.0\n",
       "\u001b[1;31mFile:\u001b[0m      d:\\anaconda\\lib\\site-packages\\mne\\channels\\channels.py\n",
       "\u001b[1;31mType:\u001b[0m      function\n"
      ]
     },
     "metadata": {},
     "output_type": "display_data"
    }
   ],
   "source": [
    "mne.io.Raw.se"
   ]
  },
  {
   "cell_type": "code",
   "execution_count": null,
   "id": "1dc55a65-5b4e-4c2a-904a-0ef2de29383c",
   "metadata": {},
   "outputs": [],
   "source": []
  }
 ],
 "metadata": {
  "kernelspec": {
   "display_name": "Python 3",
   "language": "python",
   "name": "python3"
  },
  "language_info": {
   "codemirror_mode": {
    "name": "ipython",
    "version": 3
   },
   "file_extension": ".py",
   "mimetype": "text/x-python",
   "name": "python",
   "nbconvert_exporter": "python",
   "pygments_lexer": "ipython3",
   "version": "3.8.8"
  }
 },
 "nbformat": 4,
 "nbformat_minor": 5
}
