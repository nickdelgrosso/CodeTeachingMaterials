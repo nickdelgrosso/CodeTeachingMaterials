{
 "cells": [
  {
   "cell_type": "code",
   "execution_count": 8,
   "id": "eligible-console",
   "metadata": {},
   "outputs": [],
   "source": [
    "%matplotlib inline"
   ]
  },
  {
   "cell_type": "code",
   "execution_count": 9,
   "id": "palestinian-davis",
   "metadata": {},
   "outputs": [],
   "source": [
    "import numpy as np\n",
    "import matplotlib.pyplot as plt"
   ]
  },
  {
   "cell_type": "code",
   "execution_count": null,
   "id": "paperback-rebate",
   "metadata": {},
   "outputs": [],
   "source": [
    "plt.style.use('ggplot')  # See more options at https://matplotlib.org/stable/gallery/style_sheets/style_sheets_reference.html\n"
   ]
  },
  {
   "cell_type": "markdown",
   "id": "requested-sharp",
   "metadata": {},
   "source": [
    "# Plotting with Matplotlib\n",
    "\n",
    "Matplotlib is a popular data visualization package for Python; it's used to create figures for print publication.  Every figure is different, but we'll get a feeling for Matplotlib by making a few of its default graphs.\n",
    "\n",
    "Matplotlib doesn't have the prettiest defaults, but here you can see examples of matplotlib code that can be really beautiful:  https://www.python-graph-gallery.com/matplotlib/\n"
   ]
  },
  {
   "cell_type": "markdown",
   "id": "reflected-script",
   "metadata": {},
   "source": [
    "## Histograms: Visualizing 1-Dimensional Numerical Data\n",
    "\n",
    "Let's Visually explore Numpy's random data generation functions!  To plot a histogram of the data, we'll use the library **matplotlib**.  \n",
    "\n",
    "Here's how to import it:\n",
    "\n",
    "```python\n",
    "import matplotlib.pyplot as plt\n",
    "plt.hist([1, 2, 3, 4, 5])\n",
    "```"
   ]
  },
  {
   "cell_type": "markdown",
   "id": "alive-fraud",
   "metadata": {},
   "source": [
    "Make a histogram for the random.random() function.  How is the data distributed?"
   ]
  },
  {
   "cell_type": "code",
   "execution_count": null,
   "id": "medium-nursing",
   "metadata": {},
   "outputs": [],
   "source": []
  },
  {
   "cell_type": "markdown",
   "id": "forced-quilt",
   "metadata": {},
   "source": [
    "Make a histogram for the random.randn() function.  How is the data distributed?"
   ]
  },
  {
   "cell_type": "code",
   "execution_count": null,
   "id": "editorial-translator",
   "metadata": {},
   "outputs": [],
   "source": []
  },
  {
   "cell_type": "markdown",
   "id": "modified-mozambique",
   "metadata": {},
   "source": [
    "Make a histogram for the random.randint() function.  How is the data distributed?"
   ]
  },
  {
   "cell_type": "code",
   "execution_count": null,
   "id": "lovely-bandwidth",
   "metadata": {},
   "outputs": [],
   "source": []
  },
  {
   "cell_type": "markdown",
   "id": "standard-mountain",
   "metadata": {},
   "source": [
    "## Line Plots: Visualizing Changes in a Contiuous Variable over Time\n",
    "\n",
    "Line plots show how a value changes; because it connects each point with a line, the order of the values matters.\n",
    "\n",
    "Using the **plt.plot()** function, plot:"
   ]
  },
  {
   "cell_type": "markdown",
   "id": "protective-birthday",
   "metadata": {},
   "source": [
    "A sine wave"
   ]
  },
  {
   "cell_type": "code",
   "execution_count": null,
   "id": "marked-prisoner",
   "metadata": {},
   "outputs": [],
   "source": []
  },
  {
   "cell_type": "markdown",
   "id": "extreme-lindsay",
   "metadata": {},
   "source": [
    "A cosine wave"
   ]
  },
  {
   "cell_type": "code",
   "execution_count": null,
   "id": "biological-diary",
   "metadata": {},
   "outputs": [],
   "source": []
  },
  {
   "cell_type": "markdown",
   "id": "french-cycling",
   "metadata": {},
   "source": [
    "Normally-distributed data (should look like noise)"
   ]
  },
  {
   "cell_type": "code",
   "execution_count": null,
   "id": "concrete-webmaster",
   "metadata": {},
   "outputs": [],
   "source": []
  },
  {
   "cell_type": "markdown",
   "id": "negative-commercial",
   "metadata": {},
   "source": [
    "A Sine wave, Cosine wave, and Noise (random data between -0.5 and 0.5) on the same figure.\n",
    "\n",
    "**Tip1**: If you call the plt.plot() function 3 times, they will all plot to the same figure!\n",
    "**Tip2**:  You can label your lines in a legend with the following:\n",
    "        \n",
    "```python\n",
    "plt.plot(data, label=\"Control Group\")\n",
    "plt.legend()\n",
    "```"
   ]
  },
  {
   "cell_type": "code",
   "execution_count": null,
   "id": "conditional-wallet",
   "metadata": {},
   "outputs": [],
   "source": []
  },
  {
   "cell_type": "markdown",
   "id": "least-lesbian",
   "metadata": {},
   "source": [
    "An x position can also be specified for each value.  This is useful if your data isn't evenly spaced:\n",
    "\n",
    "```python\n",
    "x = [1, 2, 5, 6]\n",
    "y = [2, 6, 3, 10]\n",
    "plt.plot(x, y)\n",
    "```\n",
    "\n",
    "Try this out!  Try to recreate the following plot using the plt.plot() function.  Label the axes with the following functions:\n",
    "\n",
    "| Function | Description | Example |\n",
    "| :----:   | :------:    | :-----: |\n",
    "| plt.title() | Sets the title | plt.title(\"My Great Plot\") |\n",
    "| plt.xlabel() | Sets the x-axis label | plt.xlabel(\"Temperature\") |\n",
    "| plt.ylabel() | Sets the y-axis label | plt.ylabel(\"Happiness\") |\n",
    "\n",
    "![Line Plot](https://datatofish.com/wp-content/uploads/2020/04/001_line_chart_python.png)\n"
   ]
  },
  {
   "cell_type": "markdown",
   "id": "primary-introduction",
   "metadata": {},
   "source": [
    "Code here:"
   ]
  },
  {
   "cell_type": "code",
   "execution_count": null,
   "id": "swedish-password",
   "metadata": {},
   "outputs": [],
   "source": []
  },
  {
   "cell_type": "markdown",
   "id": "electoral-credit",
   "metadata": {},
   "source": [
    "### Labelling the Plots"
   ]
  },
  {
   "cell_type": "markdown",
   "id": "spoken-essay",
   "metadata": {},
   "source": [
    "## Scatter Plots: Visualizing Relationships Between Two Continuous Variables\n",
    "\n",
    "Often, the order that the data appears doesn't matter; what you really care about is the relationship between matching points.  This is where the scatter plot shines!\n",
    "\n",
    "```python\n",
    "x = np.random.random(100)\n",
    "```\n"
   ]
  },
  {
   "cell_type": "markdown",
   "id": "wrong-living",
   "metadata": {},
   "source": [
    "Run this code:"
   ]
  },
  {
   "cell_type": "code",
   "execution_count": 2,
   "id": "seasonal-gregory",
   "metadata": {},
   "outputs": [],
   "source": [
    "import numpy as np\n",
    "import matplotlib.pyplot as plt"
   ]
  },
  {
   "cell_type": "code",
   "execution_count": 6,
   "id": "productive-continuity",
   "metadata": {},
   "outputs": [],
   "source": [
    "x = 2 * np.random.random(100)\n",
    "y = 2 * x + np.random.random(100)\n",
    "plt.scatter(x, y)"
   ]
  },
  {
   "cell_type": "markdown",
   "id": "substantial-surge",
   "metadata": {},
   "source": [
    "What is the relationship between x and y?"
   ]
  },
  {
   "cell_type": "markdown",
   "id": "selective-explorer",
   "metadata": {},
   "source": [
    "## Heatmaps\n",
    "\n",
    "Heatmaps used for visualizing 2D matrices.  They are created in matplotlib with the **plt.imshow()** function.\n",
    "\n",
    "To change the color scheme, try changing the **cmap** option and add a colorbar to better represent the data.  For example:\n",
    "\n",
    "```python\n",
    "plt.imshow(my_matrix, cmap='gray')\n",
    "plt.colorbar();\n",
    "```\n",
    "\n",
    "The reference of colormaps can be found here: **https://matplotlib.org/stable/gallery/color/colormap_reference.html**"
   ]
  },
  {
   "cell_type": "markdown",
   "id": "elect-incentive",
   "metadata": {},
   "source": [
    "**Exercise**: Take this heatmap and add a colorbar!"
   ]
  },
  {
   "cell_type": "code",
   "execution_count": 18,
   "id": "processed-season",
   "metadata": {},
   "outputs": [
    {
     "data": {
      "image/png": "[encoded data removed]",
      "text/plain": [
       "<Figure size 432x288 with 1 Axes>"
      ]
     },
     "metadata": {
      "needs_background": "light"
     },
     "output_type": "display_data"
    }
   ],
   "source": [
    "sin_wave = np.sin(np.linspace(-np.pi * 4, np.pi * 4, 200))\n",
    "sin_matrix = np.tile(sin_wave, (200, 1))\n",
    "plt.imshow(sin_matrix);"
   ]
  },
  {
   "cell_type": "markdown",
   "id": "joint-enterprise",
   "metadata": {},
   "source": [
    "**Exercise:** Show this heatmap in the **jet** colormap!"
   ]
  },
  {
   "cell_type": "code",
   "execution_count": 20,
   "id": "stone-chile",
   "metadata": {},
   "outputs": [
    {
     "data": {
      "image/png": "[encoded data removed]",
      "text/plain": [
       "<Figure size 432x288 with 1 Axes>"
      ]
     },
     "metadata": {
      "needs_background": "light"
     },
     "output_type": "display_data"
    }
   ],
   "source": [
    "sin_wave = np.sin(np.linspace(-np.pi * 4, np.pi * 4, 200))\n",
    "sin_matrix = np.tile(sin_wave, (200, 1))\n",
    "plt.imshow(sin_matrix);"
   ]
  },
  {
   "cell_type": "markdown",
   "id": "recorded-hello",
   "metadata": {},
   "source": [
    "Pick a new colormap your group thinks is really crazy!"
   ]
  },
  {
   "cell_type": "code",
   "execution_count": 21,
   "id": "rotary-parking",
   "metadata": {},
   "outputs": [
    {
     "data": {
      "image/png": "[encoded data removed]",
      "text/plain": [
       "<Figure size 432x288 with 1 Axes>"
      ]
     },
     "metadata": {
      "needs_background": "light"
     },
     "output_type": "display_data"
    }
   ],
   "source": [
    "sin_wave = np.sin(np.linspace(-np.pi * 4, np.pi * 4, 200))\n",
    "sin_matrix = np.tile(sin_wave, (200, 1))\n",
    "plt.imshow(sin_matrix);"
   ]
  },
  {
   "cell_type": "markdown",
   "id": "respected-baghdad",
   "metadata": {},
   "source": [
    "## Challenge Exercise: Get P=.01\n",
    "\n",
    "Make two histograms of normally-distributed data.  Try to generate data that a t-test comparing the two groups would estimate at p=.01  \n",
    "\n",
    "Closest group to .01 without going over wins!"
   ]
  },
  {
   "cell_type": "code",
   "execution_count": null,
   "id": "greatest-abuse",
   "metadata": {},
   "outputs": [],
   "source": []
  }
 ],
 "metadata": {
  "kernelspec": {
   "display_name": "Python 3",
   "language": "python",
   "name": "python3"
  },
  "language_info": {
   "codemirror_mode": {
    "name": "ipython",
    "version": 3
   },
   "file_extension": ".py",
   "mimetype": "text/x-python",
   "name": "python",
   "nbconvert_exporter": "python",
   "pygments_lexer": "ipython3",
   "version": "3.8.3"
  }
 },
 "nbformat": 4,
 "nbformat_minor": 5
}
