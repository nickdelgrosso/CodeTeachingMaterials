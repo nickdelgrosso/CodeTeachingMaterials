{
 "cells": [
  {
   "cell_type": "code",
   "execution_count": 1,
   "metadata": {},
   "outputs": [],
   "source": [
    "import pandas as pd"
   ]
  },
  {
   "cell_type": "markdown",
   "metadata": {},
   "source": [
    "## Long (aka \"Tidy\") DataFrames"
   ]
  },
  {
   "cell_type": "code",
   "execution_count": 2,
   "metadata": {},
   "outputs": [
    {
     "data": {
      "text/html": [
       "<div>\n",
       "<style scoped>\n",
       "    .dataframe tbody tr th:only-of-type {\n",
       "        vertical-align: middle;\n",
       "    }\n",
       "\n",
       "    .dataframe tbody tr th {\n",
       "        vertical-align: top;\n",
       "    }\n",
       "\n",
       "    .dataframe thead th {\n",
       "        text-align: right;\n",
       "    }\n",
       "</style>\n",
       "<table border=\"1\" class=\"dataframe\">\n",
       "  <thead>\n",
       "    <tr style=\"text-align: right;\">\n",
       "      <th></th>\n",
       "      <th>Country Name</th>\n",
       "      <th>Country Code</th>\n",
       "      <th>Indicator Name</th>\n",
       "      <th>Indicator Code</th>\n",
       "      <th>1960</th>\n",
       "      <th>1961</th>\n",
       "      <th>1962</th>\n",
       "      <th>1963</th>\n",
       "      <th>1964</th>\n",
       "      <th>1965</th>\n",
       "      <th>...</th>\n",
       "      <th>2004</th>\n",
       "      <th>2005</th>\n",
       "      <th>2006</th>\n",
       "      <th>2007</th>\n",
       "      <th>2008</th>\n",
       "      <th>2009</th>\n",
       "      <th>2010</th>\n",
       "      <th>2011</th>\n",
       "      <th>2012</th>\n",
       "      <th>2013</th>\n",
       "    </tr>\n",
       "  </thead>\n",
       "  <tbody>\n",
       "    <tr>\n",
       "      <th>0</th>\n",
       "      <td>Aruba</td>\n",
       "      <td>ABW</td>\n",
       "      <td>Fertility rate, total (births per woman)</td>\n",
       "      <td>SP.DYN.TFRT.IN</td>\n",
       "      <td>4.820</td>\n",
       "      <td>4.655</td>\n",
       "      <td>4.471</td>\n",
       "      <td>4.271</td>\n",
       "      <td>4.059</td>\n",
       "      <td>3.842</td>\n",
       "      <td>...</td>\n",
       "      <td>1.786</td>\n",
       "      <td>1.769</td>\n",
       "      <td>1.754</td>\n",
       "      <td>1.739</td>\n",
       "      <td>1.726</td>\n",
       "      <td>1.713</td>\n",
       "      <td>1.701</td>\n",
       "      <td>1.690</td>\n",
       "      <td>NaN</td>\n",
       "      <td>NaN</td>\n",
       "    </tr>\n",
       "    <tr>\n",
       "      <th>1</th>\n",
       "      <td>Andorra</td>\n",
       "      <td>AND</td>\n",
       "      <td>Fertility rate, total (births per woman)</td>\n",
       "      <td>SP.DYN.TFRT.IN</td>\n",
       "      <td>NaN</td>\n",
       "      <td>NaN</td>\n",
       "      <td>NaN</td>\n",
       "      <td>NaN</td>\n",
       "      <td>NaN</td>\n",
       "      <td>NaN</td>\n",
       "      <td>...</td>\n",
       "      <td>NaN</td>\n",
       "      <td>NaN</td>\n",
       "      <td>1.240</td>\n",
       "      <td>1.180</td>\n",
       "      <td>1.250</td>\n",
       "      <td>1.190</td>\n",
       "      <td>1.220</td>\n",
       "      <td>NaN</td>\n",
       "      <td>NaN</td>\n",
       "      <td>NaN</td>\n",
       "    </tr>\n",
       "    <tr>\n",
       "      <th>2</th>\n",
       "      <td>Afghanistan</td>\n",
       "      <td>AFG</td>\n",
       "      <td>Fertility rate, total (births per woman)</td>\n",
       "      <td>SP.DYN.TFRT.IN</td>\n",
       "      <td>7.671</td>\n",
       "      <td>7.671</td>\n",
       "      <td>7.671</td>\n",
       "      <td>7.671</td>\n",
       "      <td>7.671</td>\n",
       "      <td>7.671</td>\n",
       "      <td>...</td>\n",
       "      <td>7.136</td>\n",
       "      <td>6.930</td>\n",
       "      <td>6.702</td>\n",
       "      <td>6.456</td>\n",
       "      <td>6.196</td>\n",
       "      <td>5.928</td>\n",
       "      <td>5.659</td>\n",
       "      <td>5.395</td>\n",
       "      <td>NaN</td>\n",
       "      <td>NaN</td>\n",
       "    </tr>\n",
       "    <tr>\n",
       "      <th>3</th>\n",
       "      <td>Angola</td>\n",
       "      <td>AGO</td>\n",
       "      <td>Fertility rate, total (births per woman)</td>\n",
       "      <td>SP.DYN.TFRT.IN</td>\n",
       "      <td>7.316</td>\n",
       "      <td>7.354</td>\n",
       "      <td>7.385</td>\n",
       "      <td>7.410</td>\n",
       "      <td>7.425</td>\n",
       "      <td>7.430</td>\n",
       "      <td>...</td>\n",
       "      <td>6.704</td>\n",
       "      <td>6.657</td>\n",
       "      <td>6.598</td>\n",
       "      <td>6.523</td>\n",
       "      <td>6.434</td>\n",
       "      <td>6.331</td>\n",
       "      <td>6.218</td>\n",
       "      <td>6.099</td>\n",
       "      <td>NaN</td>\n",
       "      <td>NaN</td>\n",
       "    </tr>\n",
       "    <tr>\n",
       "      <th>4</th>\n",
       "      <td>Albania</td>\n",
       "      <td>ALB</td>\n",
       "      <td>Fertility rate, total (births per woman)</td>\n",
       "      <td>SP.DYN.TFRT.IN</td>\n",
       "      <td>6.186</td>\n",
       "      <td>6.076</td>\n",
       "      <td>5.956</td>\n",
       "      <td>5.833</td>\n",
       "      <td>5.711</td>\n",
       "      <td>5.594</td>\n",
       "      <td>...</td>\n",
       "      <td>2.004</td>\n",
       "      <td>1.919</td>\n",
       "      <td>1.849</td>\n",
       "      <td>1.796</td>\n",
       "      <td>1.761</td>\n",
       "      <td>1.744</td>\n",
       "      <td>1.741</td>\n",
       "      <td>1.748</td>\n",
       "      <td>NaN</td>\n",
       "      <td>NaN</td>\n",
       "    </tr>\n",
       "  </tbody>\n",
       "</table>\n",
       "<p>5 rows × 58 columns</p>\n",
       "</div>"
      ],
      "text/plain": [
       "  Country Name Country Code                            Indicator Name  \\\n",
       "0        Aruba          ABW  Fertility rate, total (births per woman)   \n",
       "1      Andorra          AND  Fertility rate, total (births per woman)   \n",
       "2  Afghanistan          AFG  Fertility rate, total (births per woman)   \n",
       "3       Angola          AGO  Fertility rate, total (births per woman)   \n",
       "4      Albania          ALB  Fertility rate, total (births per woman)   \n",
       "\n",
       "   Indicator Code   1960   1961   1962   1963   1964   1965  ...   2004  \\\n",
       "0  SP.DYN.TFRT.IN  4.820  4.655  4.471  4.271  4.059  3.842  ...  1.786   \n",
       "1  SP.DYN.TFRT.IN    NaN    NaN    NaN    NaN    NaN    NaN  ...    NaN   \n",
       "2  SP.DYN.TFRT.IN  7.671  7.671  7.671  7.671  7.671  7.671  ...  7.136   \n",
       "3  SP.DYN.TFRT.IN  7.316  7.354  7.385  7.410  7.425  7.430  ...  6.704   \n",
       "4  SP.DYN.TFRT.IN  6.186  6.076  5.956  5.833  5.711  5.594  ...  2.004   \n",
       "\n",
       "    2005   2006   2007   2008   2009   2010   2011  2012  2013  \n",
       "0  1.769  1.754  1.739  1.726  1.713  1.701  1.690   NaN   NaN  \n",
       "1    NaN  1.240  1.180  1.250  1.190  1.220    NaN   NaN   NaN  \n",
       "2  6.930  6.702  6.456  6.196  5.928  5.659  5.395   NaN   NaN  \n",
       "3  6.657  6.598  6.523  6.434  6.331  6.218  6.099   NaN   NaN  \n",
       "4  1.919  1.849  1.796  1.761  1.744  1.741  1.748   NaN   NaN  \n",
       "\n",
       "[5 rows x 58 columns]"
      ]
     },
     "execution_count": 2,
     "metadata": {},
     "output_type": "execute_result"
    }
   ],
   "source": [
    "df = pd.read_csv('worldbankdata.csv')\n",
    "df.head()"
   ]
  },
  {
   "cell_type": "markdown",
   "metadata": {},
   "source": [
    "This dataset is concise, but challenging to analyze, because it contains a mixed structure that mixes data labels and values in a variety of ways."
   ]
  },
  {
   "cell_type": "markdown",
   "metadata": {},
   "source": [
    "This mixed structure means that, depending on the columns used, we need to write different code to answer our questions.  We can simplify our code by reorganizing the data into a simpler table-like structure using the pandas **melt()** method. \n",
    "\n",
    "**melt()** pivots the data to change column names into values in a new \"variable\" column.  It also let's one specify columns that should be kept as-is, called \"id\" columns.  Finally, it asks you to add new labels.  Long tables are particularly nice, because they contain a lot more information about the dataset than we had previously, while being arranged in a very simple structure:"
   ]
  },
  {
   "cell_type": "code",
   "execution_count": 3,
   "metadata": {},
   "outputs": [
    {
     "data": {
      "text/html": [
       "<div>\n",
       "<style scoped>\n",
       "    .dataframe tbody tr th:only-of-type {\n",
       "        vertical-align: middle;\n",
       "    }\n",
       "\n",
       "    .dataframe tbody tr th {\n",
       "        vertical-align: top;\n",
       "    }\n",
       "\n",
       "    .dataframe thead th {\n",
       "        text-align: right;\n",
       "    }\n",
       "</style>\n",
       "<table border=\"1\" class=\"dataframe\">\n",
       "  <thead>\n",
       "    <tr style=\"text-align: right;\">\n",
       "      <th></th>\n",
       "      <th>Country Name</th>\n",
       "      <th>Country Code</th>\n",
       "      <th>Indicator Name</th>\n",
       "      <th>Indicator Code</th>\n",
       "      <th>Year</th>\n",
       "      <th>Fertility</th>\n",
       "    </tr>\n",
       "  </thead>\n",
       "  <tbody>\n",
       "    <tr>\n",
       "      <th>0</th>\n",
       "      <td>Aruba</td>\n",
       "      <td>ABW</td>\n",
       "      <td>Fertility rate, total (births per woman)</td>\n",
       "      <td>SP.DYN.TFRT.IN</td>\n",
       "      <td>1960</td>\n",
       "      <td>4.820</td>\n",
       "    </tr>\n",
       "    <tr>\n",
       "      <th>1</th>\n",
       "      <td>Andorra</td>\n",
       "      <td>AND</td>\n",
       "      <td>Fertility rate, total (births per woman)</td>\n",
       "      <td>SP.DYN.TFRT.IN</td>\n",
       "      <td>1960</td>\n",
       "      <td>NaN</td>\n",
       "    </tr>\n",
       "    <tr>\n",
       "      <th>2</th>\n",
       "      <td>Afghanistan</td>\n",
       "      <td>AFG</td>\n",
       "      <td>Fertility rate, total (births per woman)</td>\n",
       "      <td>SP.DYN.TFRT.IN</td>\n",
       "      <td>1960</td>\n",
       "      <td>7.671</td>\n",
       "    </tr>\n",
       "    <tr>\n",
       "      <th>3</th>\n",
       "      <td>Angola</td>\n",
       "      <td>AGO</td>\n",
       "      <td>Fertility rate, total (births per woman)</td>\n",
       "      <td>SP.DYN.TFRT.IN</td>\n",
       "      <td>1960</td>\n",
       "      <td>7.316</td>\n",
       "    </tr>\n",
       "    <tr>\n",
       "      <th>4</th>\n",
       "      <td>Albania</td>\n",
       "      <td>ALB</td>\n",
       "      <td>Fertility rate, total (births per woman)</td>\n",
       "      <td>SP.DYN.TFRT.IN</td>\n",
       "      <td>1960</td>\n",
       "      <td>6.186</td>\n",
       "    </tr>\n",
       "  </tbody>\n",
       "</table>\n",
       "</div>"
      ],
      "text/plain": [
       "  Country Name Country Code                            Indicator Name  \\\n",
       "0        Aruba          ABW  Fertility rate, total (births per woman)   \n",
       "1      Andorra          AND  Fertility rate, total (births per woman)   \n",
       "2  Afghanistan          AFG  Fertility rate, total (births per woman)   \n",
       "3       Angola          AGO  Fertility rate, total (births per woman)   \n",
       "4      Albania          ALB  Fertility rate, total (births per woman)   \n",
       "\n",
       "   Indicator Code  Year  Fertility  \n",
       "0  SP.DYN.TFRT.IN  1960      4.820  \n",
       "1  SP.DYN.TFRT.IN  1960        NaN  \n",
       "2  SP.DYN.TFRT.IN  1960      7.671  \n",
       "3  SP.DYN.TFRT.IN  1960      7.316  \n",
       "4  SP.DYN.TFRT.IN  1960      6.186  "
      ]
     },
     "execution_count": 3,
     "metadata": {},
     "output_type": "execute_result"
    }
   ],
   "source": [
    "dfl = df.melt(\n",
    "    id_vars=['Country Name', 'Country Code', 'Indicator Name', 'Indicator Code'], \n",
    "    var_name='Year', value_vars=df.columns[df.columns.str.isdigit()], \n",
    "    value_name='Fertility', \n",
    ")\n",
    "dfl.head()"
   ]
  },
  {
   "cell_type": "markdown",
   "metadata": {},
   "source": [
    "We can undo the operation, making a new \"wide\" table with the **pivot()** or the more-general **pivot_table()** method:"
   ]
  },
  {
   "cell_type": "code",
   "execution_count": 4,
   "metadata": {},
   "outputs": [
    {
     "data": {
      "text/html": [
       "<div>\n",
       "<style scoped>\n",
       "    .dataframe tbody tr th:only-of-type {\n",
       "        vertical-align: middle;\n",
       "    }\n",
       "\n",
       "    .dataframe tbody tr th {\n",
       "        vertical-align: top;\n",
       "    }\n",
       "\n",
       "    .dataframe thead th {\n",
       "        text-align: right;\n",
       "    }\n",
       "</style>\n",
       "<table border=\"1\" class=\"dataframe\">\n",
       "  <thead>\n",
       "    <tr style=\"text-align: right;\">\n",
       "      <th>Year</th>\n",
       "      <th>Country Name</th>\n",
       "      <th>Country Code</th>\n",
       "      <th>Indicator Name</th>\n",
       "      <th>Indicator Code</th>\n",
       "      <th>1960</th>\n",
       "      <th>1961</th>\n",
       "      <th>1962</th>\n",
       "      <th>1963</th>\n",
       "      <th>1964</th>\n",
       "      <th>1965</th>\n",
       "      <th>...</th>\n",
       "      <th>2002</th>\n",
       "      <th>2003</th>\n",
       "      <th>2004</th>\n",
       "      <th>2005</th>\n",
       "      <th>2006</th>\n",
       "      <th>2007</th>\n",
       "      <th>2008</th>\n",
       "      <th>2009</th>\n",
       "      <th>2010</th>\n",
       "      <th>2011</th>\n",
       "    </tr>\n",
       "  </thead>\n",
       "  <tbody>\n",
       "    <tr>\n",
       "      <th>0</th>\n",
       "      <td>Afghanistan</td>\n",
       "      <td>AFG</td>\n",
       "      <td>Fertility rate, total (births per woman)</td>\n",
       "      <td>SP.DYN.TFRT.IN</td>\n",
       "      <td>7.671</td>\n",
       "      <td>7.671</td>\n",
       "      <td>7.671</td>\n",
       "      <td>7.671</td>\n",
       "      <td>7.671</td>\n",
       "      <td>7.671</td>\n",
       "      <td>...</td>\n",
       "      <td>7.484</td>\n",
       "      <td>7.321</td>\n",
       "      <td>7.136</td>\n",
       "      <td>6.930</td>\n",
       "      <td>6.702</td>\n",
       "      <td>6.456</td>\n",
       "      <td>6.196</td>\n",
       "      <td>5.928</td>\n",
       "      <td>5.659</td>\n",
       "      <td>5.395</td>\n",
       "    </tr>\n",
       "    <tr>\n",
       "      <th>1</th>\n",
       "      <td>Albania</td>\n",
       "      <td>ALB</td>\n",
       "      <td>Fertility rate, total (births per woman)</td>\n",
       "      <td>SP.DYN.TFRT.IN</td>\n",
       "      <td>6.186</td>\n",
       "      <td>6.076</td>\n",
       "      <td>5.956</td>\n",
       "      <td>5.833</td>\n",
       "      <td>5.711</td>\n",
       "      <td>5.594</td>\n",
       "      <td>...</td>\n",
       "      <td>2.195</td>\n",
       "      <td>2.097</td>\n",
       "      <td>2.004</td>\n",
       "      <td>1.919</td>\n",
       "      <td>1.849</td>\n",
       "      <td>1.796</td>\n",
       "      <td>1.761</td>\n",
       "      <td>1.744</td>\n",
       "      <td>1.741</td>\n",
       "      <td>1.748</td>\n",
       "    </tr>\n",
       "    <tr>\n",
       "      <th>2</th>\n",
       "      <td>Algeria</td>\n",
       "      <td>DZA</td>\n",
       "      <td>Fertility rate, total (births per woman)</td>\n",
       "      <td>SP.DYN.TFRT.IN</td>\n",
       "      <td>7.648</td>\n",
       "      <td>7.649</td>\n",
       "      <td>7.650</td>\n",
       "      <td>7.652</td>\n",
       "      <td>7.653</td>\n",
       "      <td>7.655</td>\n",
       "      <td>...</td>\n",
       "      <td>2.407</td>\n",
       "      <td>2.412</td>\n",
       "      <td>2.448</td>\n",
       "      <td>2.507</td>\n",
       "      <td>2.580</td>\n",
       "      <td>2.656</td>\n",
       "      <td>2.725</td>\n",
       "      <td>2.781</td>\n",
       "      <td>2.817</td>\n",
       "      <td>2.829</td>\n",
       "    </tr>\n",
       "  </tbody>\n",
       "</table>\n",
       "<p>3 rows × 56 columns</p>\n",
       "</div>"
      ],
      "text/plain": [
       "Year Country Name Country Code                            Indicator Name  \\\n",
       "0     Afghanistan          AFG  Fertility rate, total (births per woman)   \n",
       "1         Albania          ALB  Fertility rate, total (births per woman)   \n",
       "2         Algeria          DZA  Fertility rate, total (births per woman)   \n",
       "\n",
       "Year  Indicator Code   1960   1961   1962   1963   1964   1965  ...   2002  \\\n",
       "0     SP.DYN.TFRT.IN  7.671  7.671  7.671  7.671  7.671  7.671  ...  7.484   \n",
       "1     SP.DYN.TFRT.IN  6.186  6.076  5.956  5.833  5.711  5.594  ...  2.195   \n",
       "2     SP.DYN.TFRT.IN  7.648  7.649  7.650  7.652  7.653  7.655  ...  2.407   \n",
       "\n",
       "Year   2003   2004   2005   2006   2007   2008   2009   2010   2011  \n",
       "0     7.321  7.136  6.930  6.702  6.456  6.196  5.928  5.659  5.395  \n",
       "1     2.097  2.004  1.919  1.849  1.796  1.761  1.744  1.741  1.748  \n",
       "2     2.412  2.448  2.507  2.580  2.656  2.725  2.781  2.817  2.829  \n",
       "\n",
       "[3 rows x 56 columns]"
      ]
     },
     "execution_count": 4,
     "metadata": {},
     "output_type": "execute_result"
    }
   ],
   "source": [
    "dfl.pivot_table(index=['Country Name', 'Country Code', 'Indicator Name', 'Indicator Code'], \n",
    "                columns='Year', values='Fertility').reset_index().head(3)"
   ]
  },
  {
   "cell_type": "markdown",
   "metadata": {},
   "source": [
    "From here on, though, we'll use the long (melted) version:"
   ]
  },
  {
   "cell_type": "code",
   "execution_count": 5,
   "metadata": {},
   "outputs": [
    {
     "data": {
      "text/html": [
       "<div>\n",
       "<style scoped>\n",
       "    .dataframe tbody tr th:only-of-type {\n",
       "        vertical-align: middle;\n",
       "    }\n",
       "\n",
       "    .dataframe tbody tr th {\n",
       "        vertical-align: top;\n",
       "    }\n",
       "\n",
       "    .dataframe thead th {\n",
       "        text-align: right;\n",
       "    }\n",
       "</style>\n",
       "<table border=\"1\" class=\"dataframe\">\n",
       "  <thead>\n",
       "    <tr style=\"text-align: right;\">\n",
       "      <th></th>\n",
       "      <th>Country Name</th>\n",
       "      <th>Country Code</th>\n",
       "      <th>Indicator Name</th>\n",
       "      <th>Indicator Code</th>\n",
       "      <th>Year</th>\n",
       "      <th>Fertility</th>\n",
       "    </tr>\n",
       "  </thead>\n",
       "  <tbody>\n",
       "    <tr>\n",
       "      <th>0</th>\n",
       "      <td>Aruba</td>\n",
       "      <td>ABW</td>\n",
       "      <td>Fertility rate, total (births per woman)</td>\n",
       "      <td>SP.DYN.TFRT.IN</td>\n",
       "      <td>1960</td>\n",
       "      <td>4.820</td>\n",
       "    </tr>\n",
       "    <tr>\n",
       "      <th>1</th>\n",
       "      <td>Andorra</td>\n",
       "      <td>AND</td>\n",
       "      <td>Fertility rate, total (births per woman)</td>\n",
       "      <td>SP.DYN.TFRT.IN</td>\n",
       "      <td>1960</td>\n",
       "      <td>NaN</td>\n",
       "    </tr>\n",
       "    <tr>\n",
       "      <th>2</th>\n",
       "      <td>Afghanistan</td>\n",
       "      <td>AFG</td>\n",
       "      <td>Fertility rate, total (births per woman)</td>\n",
       "      <td>SP.DYN.TFRT.IN</td>\n",
       "      <td>1960</td>\n",
       "      <td>7.671</td>\n",
       "    </tr>\n",
       "  </tbody>\n",
       "</table>\n",
       "</div>"
      ],
      "text/plain": [
       "  Country Name Country Code                            Indicator Name  \\\n",
       "0        Aruba          ABW  Fertility rate, total (births per woman)   \n",
       "1      Andorra          AND  Fertility rate, total (births per woman)   \n",
       "2  Afghanistan          AFG  Fertility rate, total (births per woman)   \n",
       "\n",
       "   Indicator Code  Year  Fertility  \n",
       "0  SP.DYN.TFRT.IN  1960      4.820  \n",
       "1  SP.DYN.TFRT.IN  1960        NaN  \n",
       "2  SP.DYN.TFRT.IN  1960      7.671  "
      ]
     },
     "execution_count": 5,
     "metadata": {},
     "output_type": "execute_result"
    }
   ],
   "source": [
    "dfl.head(3)"
   ]
  },
  {
   "cell_type": "markdown",
   "metadata": {},
   "source": [
    "## Finishing the Data Preparation with a Mini-Pipeline\n",
    "\n",
    "Although the dataset's structure is now simplified, the individual columns are not quite ready.  To prepare the dataset for analysis, we'll want to make sure that the **dtype** of each column best represents the data itself.  This will be easier if we are only working with the variables we will be interested in.\n",
    "\n",
    "Here, we'll use a special *fluent programming* style to build a simplified data processing pipeline, which uses Dataframe methods to select data, drop missing data, and rename and convert the columns to specific types. "
   ]
  },
  {
   "cell_type": "code",
   "execution_count": 6,
   "metadata": {},
   "outputs": [
    {
     "data": {
      "text/html": [
       "<div>\n",
       "<style scoped>\n",
       "    .dataframe tbody tr th:only-of-type {\n",
       "        vertical-align: middle;\n",
       "    }\n",
       "\n",
       "    .dataframe tbody tr th {\n",
       "        vertical-align: top;\n",
       "    }\n",
       "\n",
       "    .dataframe thead th {\n",
       "        text-align: right;\n",
       "    }\n",
       "</style>\n",
       "<table border=\"1\" class=\"dataframe\">\n",
       "  <thead>\n",
       "    <tr style=\"text-align: right;\">\n",
       "      <th></th>\n",
       "      <th>Country</th>\n",
       "      <th>Year</th>\n",
       "      <th>Fertility</th>\n",
       "    </tr>\n",
       "  </thead>\n",
       "  <tbody>\n",
       "    <tr>\n",
       "      <th>0</th>\n",
       "      <td>Aruba</td>\n",
       "      <td>1960</td>\n",
       "      <td>4.820</td>\n",
       "    </tr>\n",
       "    <tr>\n",
       "      <th>2</th>\n",
       "      <td>Afghanistan</td>\n",
       "      <td>1960</td>\n",
       "      <td>7.671</td>\n",
       "    </tr>\n",
       "    <tr>\n",
       "      <th>3</th>\n",
       "      <td>Angola</td>\n",
       "      <td>1960</td>\n",
       "      <td>7.316</td>\n",
       "    </tr>\n",
       "    <tr>\n",
       "      <th>4</th>\n",
       "      <td>Albania</td>\n",
       "      <td>1960</td>\n",
       "      <td>6.186</td>\n",
       "    </tr>\n",
       "    <tr>\n",
       "      <th>5</th>\n",
       "      <td>United Arab Emirates</td>\n",
       "      <td>1960</td>\n",
       "      <td>6.928</td>\n",
       "    </tr>\n",
       "  </tbody>\n",
       "</table>\n",
       "</div>"
      ],
      "text/plain": [
       "                Country  Year  Fertility\n",
       "0                 Aruba  1960      4.820\n",
       "2           Afghanistan  1960      7.671\n",
       "3                Angola  1960      7.316\n",
       "4               Albania  1960      6.186\n",
       "5  United Arab Emirates  1960      6.928"
      ]
     },
     "execution_count": 6,
     "metadata": {},
     "output_type": "execute_result"
    }
   ],
   "source": [
    "data = (\n",
    "    dfl\n",
    "    .get(['Country Name', 'Year', 'Fertility'])\n",
    "    .rename(columns={'Country Name': \"Country\"})\n",
    "    .dropna()\n",
    "    .astype({\"Country\": 'category', \"Year\": int, \"Fertility\": float})\n",
    "    .convert_dtypes()  # a new Pandas method that makes it compatible with the latest features.\n",
    ")\n",
    "data.head()"
   ]
  },
  {
   "cell_type": "code",
   "execution_count": 7,
   "metadata": {},
   "outputs": [
    {
     "data": {
      "text/plain": [
       "Country      category\n",
       "Year            Int32\n",
       "Fertility     float64\n",
       "dtype: object"
      ]
     },
     "execution_count": 7,
     "metadata": {},
     "output_type": "execute_result"
    }
   ],
   "source": [
    "data.dtypes"
   ]
  },
  {
   "cell_type": "markdown",
   "metadata": {},
   "source": [
    "## Aggregating Data by Groups:"
   ]
  },
  {
   "cell_type": "markdown",
   "metadata": {},
   "source": [
    "Once your data is in a simple structure, there are many different ways that you can summarize your data, particularly when there are categorical factors in your dataset.  For example, you can pivot your data and aggregate along multiple axes:"
   ]
  },
  {
   "cell_type": "code",
   "execution_count": 8,
   "metadata": {},
   "outputs": [
    {
     "data": {
      "text/html": [
       "<div>\n",
       "<style scoped>\n",
       "    .dataframe tbody tr th:only-of-type {\n",
       "        vertical-align: middle;\n",
       "    }\n",
       "\n",
       "    .dataframe tbody tr th {\n",
       "        vertical-align: top;\n",
       "    }\n",
       "\n",
       "    .dataframe thead th {\n",
       "        text-align: right;\n",
       "    }\n",
       "</style>\n",
       "<table border=\"1\" class=\"dataframe\">\n",
       "  <thead>\n",
       "    <tr style=\"text-align: right;\">\n",
       "      <th></th>\n",
       "      <th>Fertility</th>\n",
       "    </tr>\n",
       "    <tr>\n",
       "      <th>Year</th>\n",
       "      <th></th>\n",
       "    </tr>\n",
       "  </thead>\n",
       "  <tbody>\n",
       "    <tr>\n",
       "      <th>1960</th>\n",
       "      <td>5.511814</td>\n",
       "    </tr>\n",
       "    <tr>\n",
       "      <th>1961</th>\n",
       "      <td>5.492338</td>\n",
       "    </tr>\n",
       "    <tr>\n",
       "      <th>1962</th>\n",
       "      <td>5.491603</td>\n",
       "    </tr>\n",
       "    <tr>\n",
       "      <th>1963</th>\n",
       "      <td>5.487974</td>\n",
       "    </tr>\n",
       "    <tr>\n",
       "      <th>1964</th>\n",
       "      <td>5.441701</td>\n",
       "    </tr>\n",
       "  </tbody>\n",
       "</table>\n",
       "</div>"
      ],
      "text/plain": [
       "      Fertility\n",
       "Year           \n",
       "1960   5.511814\n",
       "1961   5.492338\n",
       "1962   5.491603\n",
       "1963   5.487974\n",
       "1964   5.441701"
      ]
     },
     "execution_count": 8,
     "metadata": {},
     "output_type": "execute_result"
    }
   ],
   "source": [
    "dfl.pivot_table(values='Fertility', index='Year', aggfunc='mean').head()"
   ]
  },
  {
   "cell_type": "code",
   "execution_count": 9,
   "metadata": {},
   "outputs": [
    {
     "data": {
      "text/html": [
       "<div>\n",
       "<style scoped>\n",
       "    .dataframe tbody tr th:only-of-type {\n",
       "        vertical-align: middle;\n",
       "    }\n",
       "\n",
       "    .dataframe tbody tr th {\n",
       "        vertical-align: top;\n",
       "    }\n",
       "\n",
       "    .dataframe thead th {\n",
       "        text-align: right;\n",
       "    }\n",
       "</style>\n",
       "<table border=\"1\" class=\"dataframe\">\n",
       "  <thead>\n",
       "    <tr style=\"text-align: right;\">\n",
       "      <th>Country Name</th>\n",
       "      <th>Afghanistan</th>\n",
       "      <th>Albania</th>\n",
       "      <th>Algeria</th>\n",
       "      <th>Andorra</th>\n",
       "      <th>Angola</th>\n",
       "      <th>Antigua and Barbuda</th>\n",
       "      <th>Argentina</th>\n",
       "      <th>Armenia</th>\n",
       "      <th>Aruba</th>\n",
       "      <th>Australia</th>\n",
       "      <th>...</th>\n",
       "      <th>Uruguay</th>\n",
       "      <th>Uzbekistan</th>\n",
       "      <th>Vanuatu</th>\n",
       "      <th>Venezuela, RB</th>\n",
       "      <th>Vietnam</th>\n",
       "      <th>Virgin Islands (U.S.)</th>\n",
       "      <th>West Bank and Gaza</th>\n",
       "      <th>Yemen, Rep.</th>\n",
       "      <th>Zambia</th>\n",
       "      <th>Zimbabwe</th>\n",
       "    </tr>\n",
       "    <tr>\n",
       "      <th>Year</th>\n",
       "      <th></th>\n",
       "      <th></th>\n",
       "      <th></th>\n",
       "      <th></th>\n",
       "      <th></th>\n",
       "      <th></th>\n",
       "      <th></th>\n",
       "      <th></th>\n",
       "      <th></th>\n",
       "      <th></th>\n",
       "      <th></th>\n",
       "      <th></th>\n",
       "      <th></th>\n",
       "      <th></th>\n",
       "      <th></th>\n",
       "      <th></th>\n",
       "      <th></th>\n",
       "      <th></th>\n",
       "      <th></th>\n",
       "      <th></th>\n",
       "      <th></th>\n",
       "    </tr>\n",
       "  </thead>\n",
       "  <tbody>\n",
       "    <tr>\n",
       "      <th>1960</th>\n",
       "      <td>7.671</td>\n",
       "      <td>6.186</td>\n",
       "      <td>7.648</td>\n",
       "      <td>NaN</td>\n",
       "      <td>7.316</td>\n",
       "      <td>4.425</td>\n",
       "      <td>3.109</td>\n",
       "      <td>4.550</td>\n",
       "      <td>4.820</td>\n",
       "      <td>3.453</td>\n",
       "      <td>...</td>\n",
       "      <td>2.881</td>\n",
       "      <td>6.707</td>\n",
       "      <td>7.197</td>\n",
       "      <td>6.616</td>\n",
       "      <td>6.348</td>\n",
       "      <td>5.615</td>\n",
       "      <td>NaN</td>\n",
       "      <td>7.292</td>\n",
       "      <td>7.018</td>\n",
       "      <td>7.158</td>\n",
       "    </tr>\n",
       "    <tr>\n",
       "      <th>1961</th>\n",
       "      <td>7.671</td>\n",
       "      <td>6.076</td>\n",
       "      <td>7.649</td>\n",
       "      <td>NaN</td>\n",
       "      <td>7.354</td>\n",
       "      <td>4.386</td>\n",
       "      <td>3.100</td>\n",
       "      <td>4.512</td>\n",
       "      <td>4.655</td>\n",
       "      <td>3.540</td>\n",
       "      <td>...</td>\n",
       "      <td>2.887</td>\n",
       "      <td>6.755</td>\n",
       "      <td>7.120</td>\n",
       "      <td>6.637</td>\n",
       "      <td>6.392</td>\n",
       "      <td>5.651</td>\n",
       "      <td>NaN</td>\n",
       "      <td>7.308</td>\n",
       "      <td>7.071</td>\n",
       "      <td>7.215</td>\n",
       "    </tr>\n",
       "    <tr>\n",
       "      <th>1962</th>\n",
       "      <td>7.671</td>\n",
       "      <td>5.956</td>\n",
       "      <td>7.650</td>\n",
       "      <td>NaN</td>\n",
       "      <td>7.385</td>\n",
       "      <td>4.344</td>\n",
       "      <td>3.089</td>\n",
       "      <td>4.435</td>\n",
       "      <td>4.471</td>\n",
       "      <td>3.442</td>\n",
       "      <td>...</td>\n",
       "      <td>2.885</td>\n",
       "      <td>6.783</td>\n",
       "      <td>7.033</td>\n",
       "      <td>6.628</td>\n",
       "      <td>6.425</td>\n",
       "      <td>5.679</td>\n",
       "      <td>NaN</td>\n",
       "      <td>7.328</td>\n",
       "      <td>7.127</td>\n",
       "      <td>7.267</td>\n",
       "    </tr>\n",
       "  </tbody>\n",
       "</table>\n",
       "<p>3 rows × 210 columns</p>\n",
       "</div>"
      ],
      "text/plain": [
       "Country Name  Afghanistan  Albania  Algeria  Andorra  Angola  \\\n",
       "Year                                                           \n",
       "1960                7.671    6.186    7.648      NaN   7.316   \n",
       "1961                7.671    6.076    7.649      NaN   7.354   \n",
       "1962                7.671    5.956    7.650      NaN   7.385   \n",
       "\n",
       "Country Name  Antigua and Barbuda  Argentina  Armenia  Aruba  Australia  ...  \\\n",
       "Year                                                                     ...   \n",
       "1960                        4.425      3.109    4.550  4.820      3.453  ...   \n",
       "1961                        4.386      3.100    4.512  4.655      3.540  ...   \n",
       "1962                        4.344      3.089    4.435  4.471      3.442  ...   \n",
       "\n",
       "Country Name  Uruguay  Uzbekistan  Vanuatu  Venezuela, RB  Vietnam  \\\n",
       "Year                                                                 \n",
       "1960            2.881       6.707    7.197          6.616    6.348   \n",
       "1961            2.887       6.755    7.120          6.637    6.392   \n",
       "1962            2.885       6.783    7.033          6.628    6.425   \n",
       "\n",
       "Country Name  Virgin Islands (U.S.)  West Bank and Gaza  Yemen, Rep.  Zambia  \\\n",
       "Year                                                                           \n",
       "1960                          5.615                 NaN        7.292   7.018   \n",
       "1961                          5.651                 NaN        7.308   7.071   \n",
       "1962                          5.679                 NaN        7.328   7.127   \n",
       "\n",
       "Country Name  Zimbabwe  \n",
       "Year                    \n",
       "1960             7.158  \n",
       "1961             7.215  \n",
       "1962             7.267  \n",
       "\n",
       "[3 rows x 210 columns]"
      ]
     },
     "execution_count": 9,
     "metadata": {},
     "output_type": "execute_result"
    }
   ],
   "source": [
    "dfl.pivot_table(values='Fertility', index='Year', columns='Country Name', aggfunc='mean').head(3)"
   ]
  },
  {
   "cell_type": "markdown",
   "metadata": {},
   "source": [
    "You can create counts of your different combinations by building a contingincy table.  This is particularly useful for frequency statistics like the chi-square test and Fisher's exact."
   ]
  },
  {
   "cell_type": "code",
   "execution_count": 10,
   "metadata": {},
   "outputs": [
    {
     "data": {
      "text/html": [
       "<div>\n",
       "<style scoped>\n",
       "    .dataframe tbody tr th:only-of-type {\n",
       "        vertical-align: middle;\n",
       "    }\n",
       "\n",
       "    .dataframe tbody tr th {\n",
       "        vertical-align: top;\n",
       "    }\n",
       "\n",
       "    .dataframe thead th {\n",
       "        text-align: right;\n",
       "    }\n",
       "</style>\n",
       "<table border=\"1\" class=\"dataframe\">\n",
       "  <thead>\n",
       "    <tr style=\"text-align: right;\">\n",
       "      <th>Year</th>\n",
       "      <th>1960</th>\n",
       "      <th>1961</th>\n",
       "      <th>1962</th>\n",
       "      <th>1963</th>\n",
       "      <th>1964</th>\n",
       "      <th>1965</th>\n",
       "      <th>1966</th>\n",
       "      <th>1967</th>\n",
       "      <th>1968</th>\n",
       "      <th>1969</th>\n",
       "      <th>...</th>\n",
       "      <th>2004</th>\n",
       "      <th>2005</th>\n",
       "      <th>2006</th>\n",
       "      <th>2007</th>\n",
       "      <th>2008</th>\n",
       "      <th>2009</th>\n",
       "      <th>2010</th>\n",
       "      <th>2011</th>\n",
       "      <th>2012</th>\n",
       "      <th>2013</th>\n",
       "    </tr>\n",
       "    <tr>\n",
       "      <th>Country Name</th>\n",
       "      <th></th>\n",
       "      <th></th>\n",
       "      <th></th>\n",
       "      <th></th>\n",
       "      <th></th>\n",
       "      <th></th>\n",
       "      <th></th>\n",
       "      <th></th>\n",
       "      <th></th>\n",
       "      <th></th>\n",
       "      <th></th>\n",
       "      <th></th>\n",
       "      <th></th>\n",
       "      <th></th>\n",
       "      <th></th>\n",
       "      <th></th>\n",
       "      <th></th>\n",
       "      <th></th>\n",
       "      <th></th>\n",
       "      <th></th>\n",
       "      <th></th>\n",
       "    </tr>\n",
       "  </thead>\n",
       "  <tbody>\n",
       "    <tr>\n",
       "      <th>Afghanistan</th>\n",
       "      <td>1</td>\n",
       "      <td>1</td>\n",
       "      <td>1</td>\n",
       "      <td>1</td>\n",
       "      <td>1</td>\n",
       "      <td>1</td>\n",
       "      <td>1</td>\n",
       "      <td>1</td>\n",
       "      <td>1</td>\n",
       "      <td>1</td>\n",
       "      <td>...</td>\n",
       "      <td>1</td>\n",
       "      <td>1</td>\n",
       "      <td>1</td>\n",
       "      <td>1</td>\n",
       "      <td>1</td>\n",
       "      <td>1</td>\n",
       "      <td>1</td>\n",
       "      <td>1</td>\n",
       "      <td>1</td>\n",
       "      <td>1</td>\n",
       "    </tr>\n",
       "    <tr>\n",
       "      <th>Albania</th>\n",
       "      <td>1</td>\n",
       "      <td>1</td>\n",
       "      <td>1</td>\n",
       "      <td>1</td>\n",
       "      <td>1</td>\n",
       "      <td>1</td>\n",
       "      <td>1</td>\n",
       "      <td>1</td>\n",
       "      <td>1</td>\n",
       "      <td>1</td>\n",
       "      <td>...</td>\n",
       "      <td>1</td>\n",
       "      <td>1</td>\n",
       "      <td>1</td>\n",
       "      <td>1</td>\n",
       "      <td>1</td>\n",
       "      <td>1</td>\n",
       "      <td>1</td>\n",
       "      <td>1</td>\n",
       "      <td>1</td>\n",
       "      <td>1</td>\n",
       "    </tr>\n",
       "    <tr>\n",
       "      <th>Algeria</th>\n",
       "      <td>1</td>\n",
       "      <td>1</td>\n",
       "      <td>1</td>\n",
       "      <td>1</td>\n",
       "      <td>1</td>\n",
       "      <td>1</td>\n",
       "      <td>1</td>\n",
       "      <td>1</td>\n",
       "      <td>1</td>\n",
       "      <td>1</td>\n",
       "      <td>...</td>\n",
       "      <td>1</td>\n",
       "      <td>1</td>\n",
       "      <td>1</td>\n",
       "      <td>1</td>\n",
       "      <td>1</td>\n",
       "      <td>1</td>\n",
       "      <td>1</td>\n",
       "      <td>1</td>\n",
       "      <td>1</td>\n",
       "      <td>1</td>\n",
       "    </tr>\n",
       "    <tr>\n",
       "      <th>American Samoa</th>\n",
       "      <td>1</td>\n",
       "      <td>1</td>\n",
       "      <td>1</td>\n",
       "      <td>1</td>\n",
       "      <td>1</td>\n",
       "      <td>1</td>\n",
       "      <td>1</td>\n",
       "      <td>1</td>\n",
       "      <td>1</td>\n",
       "      <td>1</td>\n",
       "      <td>...</td>\n",
       "      <td>1</td>\n",
       "      <td>1</td>\n",
       "      <td>1</td>\n",
       "      <td>1</td>\n",
       "      <td>1</td>\n",
       "      <td>1</td>\n",
       "      <td>1</td>\n",
       "      <td>1</td>\n",
       "      <td>1</td>\n",
       "      <td>1</td>\n",
       "    </tr>\n",
       "    <tr>\n",
       "      <th>Andorra</th>\n",
       "      <td>1</td>\n",
       "      <td>1</td>\n",
       "      <td>1</td>\n",
       "      <td>1</td>\n",
       "      <td>1</td>\n",
       "      <td>1</td>\n",
       "      <td>1</td>\n",
       "      <td>1</td>\n",
       "      <td>1</td>\n",
       "      <td>1</td>\n",
       "      <td>...</td>\n",
       "      <td>1</td>\n",
       "      <td>1</td>\n",
       "      <td>1</td>\n",
       "      <td>1</td>\n",
       "      <td>1</td>\n",
       "      <td>1</td>\n",
       "      <td>1</td>\n",
       "      <td>1</td>\n",
       "      <td>1</td>\n",
       "      <td>1</td>\n",
       "    </tr>\n",
       "  </tbody>\n",
       "</table>\n",
       "<p>5 rows × 54 columns</p>\n",
       "</div>"
      ],
      "text/plain": [
       "Year            1960  1961  1962  1963  1964  1965  1966  1967  1968  1969  \\\n",
       "Country Name                                                                 \n",
       "Afghanistan        1     1     1     1     1     1     1     1     1     1   \n",
       "Albania            1     1     1     1     1     1     1     1     1     1   \n",
       "Algeria            1     1     1     1     1     1     1     1     1     1   \n",
       "American Samoa     1     1     1     1     1     1     1     1     1     1   \n",
       "Andorra            1     1     1     1     1     1     1     1     1     1   \n",
       "\n",
       "Year            ...  2004  2005  2006  2007  2008  2009  2010  2011  2012  \\\n",
       "Country Name    ...                                                         \n",
       "Afghanistan     ...     1     1     1     1     1     1     1     1     1   \n",
       "Albania         ...     1     1     1     1     1     1     1     1     1   \n",
       "Algeria         ...     1     1     1     1     1     1     1     1     1   \n",
       "American Samoa  ...     1     1     1     1     1     1     1     1     1   \n",
       "Andorra         ...     1     1     1     1     1     1     1     1     1   \n",
       "\n",
       "Year            2013  \n",
       "Country Name          \n",
       "Afghanistan        1  \n",
       "Albania            1  \n",
       "Algeria            1  \n",
       "American Samoa     1  \n",
       "Andorra            1  \n",
       "\n",
       "[5 rows x 54 columns]"
      ]
     },
     "execution_count": 10,
     "metadata": {},
     "output_type": "execute_result"
    }
   ],
   "source": [
    "pd.crosstab(dfl['Country Name'], dfl['Year']).head()"
   ]
  },
  {
   "cell_type": "markdown",
   "metadata": {},
   "source": [
    "## GroupBy\n",
    "\n",
    "The most common approach for aggregations, however, is to keep the data structure the same and just use the **groupby()** method:"
   ]
  },
  {
   "cell_type": "code",
   "execution_count": 11,
   "metadata": {},
   "outputs": [
    {
     "data": {
      "image/png": "[encoded data removed]",
      "text/plain": [
       "<Figure size 432x288 with 1 Axes>"
      ]
     },
     "metadata": {
      "needs_background": "light"
     },
     "output_type": "display_data"
    }
   ],
   "source": [
    "data.groupby('Year').median().plot();"
   ]
  },
  {
   "cell_type": "markdown",
   "metadata": {},
   "source": [
    "## Rolling\n",
    "\n",
    "We can also do rolling statistics in a similar way as the **groupby()** method:"
   ]
  },
  {
   "cell_type": "code",
   "execution_count": 12,
   "metadata": {},
   "outputs": [
    {
     "data": {
      "image/png": "[encoded data removed]",
      "text/plain": [
       "<Figure size 432x288 with 1 Axes>"
      ]
     },
     "metadata": {
      "needs_background": "light"
     },
     "output_type": "display_data"
    }
   ],
   "source": [
    "data.groupby('Year').median().rolling(7, center=True, win_type='hamming').mean().plot();"
   ]
  },
  {
   "cell_type": "markdown",
   "metadata": {},
   "source": [
    "These pipelines can get quite long, as you can see.  To make it more readable, we can split it on different lines:"
   ]
  },
  {
   "cell_type": "code",
   "execution_count": 13,
   "metadata": {},
   "outputs": [
    {
     "data": {
      "image/png": "[encoded data removed]",
      "text/plain": [
       "<Figure size 432x288 with 1 Axes>"
      ]
     },
     "metadata": {
      "needs_background": "light"
     },
     "output_type": "display_data"
    }
   ],
   "source": [
    "(data\n",
    " .groupby('Year').median()\n",
    " .rolling(7, center=True, win_type='hamming').mean()\n",
    " .plot()\n",
    ");"
   ]
  },
  {
   "cell_type": "markdown",
   "metadata": {},
   "source": [
    "## Joining DataFrames"
   ]
  },
  {
   "cell_type": "markdown",
   "metadata": {},
   "source": [
    "Finally, if we have multiple datasets, we can join them together by matching up their rows via a **join()** function or **merge()** method call.  To explore this, let's get some more data: the Continent Name of each Country.  After all, we could certainly use more information about these countries to help explore the data!"
   ]
  },
  {
   "cell_type": "code",
   "execution_count": 14,
   "metadata": {
    "collapsed": false,
    "jupyter": {
     "outputs_hidden": false
    }
   },
   "outputs": [
    {
     "data": {
      "text/html": [
       "<div>\n",
       "<style scoped>\n",
       "    .dataframe tbody tr th:only-of-type {\n",
       "        vertical-align: middle;\n",
       "    }\n",
       "\n",
       "    .dataframe tbody tr th {\n",
       "        vertical-align: top;\n",
       "    }\n",
       "\n",
       "    .dataframe thead th {\n",
       "        text-align: right;\n",
       "    }\n",
       "</style>\n",
       "<table border=\"1\" class=\"dataframe\">\n",
       "  <thead>\n",
       "    <tr style=\"text-align: right;\">\n",
       "      <th></th>\n",
       "      <th>Country Name</th>\n",
       "      <th>Capital Name</th>\n",
       "      <th>Capital Latitude</th>\n",
       "      <th>Capital Longitude</th>\n",
       "      <th>Country Code</th>\n",
       "      <th>Continent Name</th>\n",
       "    </tr>\n",
       "  </thead>\n",
       "  <tbody>\n",
       "    <tr>\n",
       "      <th>0</th>\n",
       "      <td>Afghanistan</td>\n",
       "      <td>Kabul</td>\n",
       "      <td>34.516667</td>\n",
       "      <td>69.183333</td>\n",
       "      <td>AF</td>\n",
       "      <td>Asia</td>\n",
       "    </tr>\n",
       "    <tr>\n",
       "      <th>1</th>\n",
       "      <td>Aland Islands</td>\n",
       "      <td>Mariehamn</td>\n",
       "      <td>60.116667</td>\n",
       "      <td>19.900000</td>\n",
       "      <td>AX</td>\n",
       "      <td>Europe</td>\n",
       "    </tr>\n",
       "    <tr>\n",
       "      <th>2</th>\n",
       "      <td>Albania</td>\n",
       "      <td>Tirana</td>\n",
       "      <td>41.316667</td>\n",
       "      <td>19.816667</td>\n",
       "      <td>AL</td>\n",
       "      <td>Europe</td>\n",
       "    </tr>\n",
       "    <tr>\n",
       "      <th>3</th>\n",
       "      <td>Algeria</td>\n",
       "      <td>Algiers</td>\n",
       "      <td>36.750000</td>\n",
       "      <td>3.050000</td>\n",
       "      <td>DZ</td>\n",
       "      <td>Africa</td>\n",
       "    </tr>\n",
       "    <tr>\n",
       "      <th>4</th>\n",
       "      <td>American Samoa</td>\n",
       "      <td>Pago Pago</td>\n",
       "      <td>-14.266667</td>\n",
       "      <td>-170.700000</td>\n",
       "      <td>AS</td>\n",
       "      <td>Australia</td>\n",
       "    </tr>\n",
       "  </tbody>\n",
       "</table>\n",
       "</div>"
      ],
      "text/plain": [
       "     Country Name Capital Name  Capital Latitude  Capital Longitude  \\\n",
       "0     Afghanistan        Kabul         34.516667          69.183333   \n",
       "1   Aland Islands    Mariehamn         60.116667          19.900000   \n",
       "2         Albania       Tirana         41.316667          19.816667   \n",
       "3         Algeria      Algiers         36.750000           3.050000   \n",
       "4  American Samoa    Pago Pago        -14.266667        -170.700000   \n",
       "\n",
       "  Country Code Continent Name  \n",
       "0           AF           Asia  \n",
       "1           AX         Europe  \n",
       "2           AL         Europe  \n",
       "3           DZ         Africa  \n",
       "4           AS      Australia  "
      ]
     },
     "execution_count": 14,
     "metadata": {},
     "output_type": "execute_result"
    }
   ],
   "source": [
    "url = 'http://techslides.com/list-of-countries-and-capitals'\n",
    "dfc = pd.read_html(url, header=0)[0]\n",
    "dfc.head()"
   ]
  },
  {
   "cell_type": "markdown",
   "metadata": {},
   "source": [
    "Convenient! Let's just keep the continent name data and the Country name label, for matching against the fertility dataset."
   ]
  },
  {
   "cell_type": "code",
   "execution_count": 15,
   "metadata": {},
   "outputs": [
    {
     "data": {
      "text/html": [
       "<div>\n",
       "<style scoped>\n",
       "    .dataframe tbody tr th:only-of-type {\n",
       "        vertical-align: middle;\n",
       "    }\n",
       "\n",
       "    .dataframe tbody tr th {\n",
       "        vertical-align: top;\n",
       "    }\n",
       "\n",
       "    .dataframe thead th {\n",
       "        text-align: right;\n",
       "    }\n",
       "</style>\n",
       "<table border=\"1\" class=\"dataframe\">\n",
       "  <thead>\n",
       "    <tr style=\"text-align: right;\">\n",
       "      <th></th>\n",
       "      <th>Country</th>\n",
       "      <th>Continent</th>\n",
       "    </tr>\n",
       "  </thead>\n",
       "  <tbody>\n",
       "    <tr>\n",
       "      <th>0</th>\n",
       "      <td>Afghanistan</td>\n",
       "      <td>Asia</td>\n",
       "    </tr>\n",
       "    <tr>\n",
       "      <th>1</th>\n",
       "      <td>Aland Islands</td>\n",
       "      <td>Europe</td>\n",
       "    </tr>\n",
       "    <tr>\n",
       "      <th>2</th>\n",
       "      <td>Albania</td>\n",
       "      <td>Europe</td>\n",
       "    </tr>\n",
       "    <tr>\n",
       "      <th>3</th>\n",
       "      <td>Algeria</td>\n",
       "      <td>Africa</td>\n",
       "    </tr>\n",
       "    <tr>\n",
       "      <th>4</th>\n",
       "      <td>American Samoa</td>\n",
       "      <td>Australia</td>\n",
       "    </tr>\n",
       "  </tbody>\n",
       "</table>\n",
       "</div>"
      ],
      "text/plain": [
       "          Country  Continent\n",
       "0     Afghanistan       Asia\n",
       "1   Aland Islands     Europe\n",
       "2         Albania     Europe\n",
       "3         Algeria     Africa\n",
       "4  American Samoa  Australia"
      ]
     },
     "execution_count": 15,
     "metadata": {},
     "output_type": "execute_result"
    }
   ],
   "source": [
    "continents = (\n",
    "    dfc\n",
    "    .get(['Country Name', 'Continent Name'])\n",
    "    .rename(columns={'Country Name': 'Country', 'Continent Name': 'Continent'})\n",
    "    .astype({'Country': 'category', 'Continent': 'category'})\n",
    ")\n",
    "continents.head()"
   ]
  },
  {
   "cell_type": "markdown",
   "metadata": {},
   "source": [
    "We'll use the the **merge()** function to match the two datasets on the \"Country Name\" columns"
   ]
  },
  {
   "cell_type": "code",
   "execution_count": 16,
   "metadata": {
    "collapsed": false,
    "jupyter": {
     "outputs_hidden": false
    }
   },
   "outputs": [
    {
     "data": {
      "text/html": [
       "<div>\n",
       "<style scoped>\n",
       "    .dataframe tbody tr th:only-of-type {\n",
       "        vertical-align: middle;\n",
       "    }\n",
       "\n",
       "    .dataframe tbody tr th {\n",
       "        vertical-align: top;\n",
       "    }\n",
       "\n",
       "    .dataframe thead th {\n",
       "        text-align: right;\n",
       "    }\n",
       "</style>\n",
       "<table border=\"1\" class=\"dataframe\">\n",
       "  <thead>\n",
       "    <tr style=\"text-align: right;\">\n",
       "      <th></th>\n",
       "      <th>Country</th>\n",
       "      <th>Year</th>\n",
       "      <th>Fertility</th>\n",
       "      <th>Continent</th>\n",
       "    </tr>\n",
       "  </thead>\n",
       "  <tbody>\n",
       "    <tr>\n",
       "      <th>0</th>\n",
       "      <td>Aruba</td>\n",
       "      <td>1960</td>\n",
       "      <td>4.820</td>\n",
       "      <td>North America</td>\n",
       "    </tr>\n",
       "    <tr>\n",
       "      <th>1</th>\n",
       "      <td>Aruba</td>\n",
       "      <td>1961</td>\n",
       "      <td>4.655</td>\n",
       "      <td>North America</td>\n",
       "    </tr>\n",
       "    <tr>\n",
       "      <th>2</th>\n",
       "      <td>Aruba</td>\n",
       "      <td>1962</td>\n",
       "      <td>4.471</td>\n",
       "      <td>North America</td>\n",
       "    </tr>\n",
       "    <tr>\n",
       "      <th>3</th>\n",
       "      <td>Aruba</td>\n",
       "      <td>1963</td>\n",
       "      <td>4.271</td>\n",
       "      <td>North America</td>\n",
       "    </tr>\n",
       "    <tr>\n",
       "      <th>4</th>\n",
       "      <td>Aruba</td>\n",
       "      <td>1964</td>\n",
       "      <td>4.059</td>\n",
       "      <td>North America</td>\n",
       "    </tr>\n",
       "  </tbody>\n",
       "</table>\n",
       "</div>"
      ],
      "text/plain": [
       "  Country  Year  Fertility      Continent\n",
       "0   Aruba  1960      4.820  North America\n",
       "1   Aruba  1961      4.655  North America\n",
       "2   Aruba  1962      4.471  North America\n",
       "3   Aruba  1963      4.271  North America\n",
       "4   Aruba  1964      4.059  North America"
      ]
     },
     "execution_count": 16,
     "metadata": {},
     "output_type": "execute_result"
    }
   ],
   "source": [
    "data2 = pd.merge(data, continents, on='Country')\n",
    "data2.head()"
   ]
  },
  {
   "cell_type": "markdown",
   "metadata": {},
   "source": [
    "Unfortunately, \"country\" loses its dtype during the join process.  This kind of thing can happen, and sometimes necessitates some re-munging."
   ]
  },
  {
   "cell_type": "code",
   "execution_count": 17,
   "metadata": {},
   "outputs": [
    {
     "data": {
      "text/plain": [
       "Country        object\n",
       "Year            Int32\n",
       "Fertility     float64\n",
       "Continent    category\n",
       "dtype: object"
      ]
     },
     "execution_count": 17,
     "metadata": {},
     "output_type": "execute_result"
    }
   ],
   "source": [
    "data2.dtypes"
   ]
  },
  {
   "cell_type": "code",
   "execution_count": 18,
   "metadata": {},
   "outputs": [
    {
     "data": {
      "text/plain": [
       "Country      category\n",
       "Year            Int32\n",
       "Fertility     float64\n",
       "Continent    category\n",
       "dtype: object"
      ]
     },
     "execution_count": 18,
     "metadata": {},
     "output_type": "execute_result"
    }
   ],
   "source": [
    "data2 = data2.astype({'Country': 'category'})\n",
    "data2.dtypes"
   ]
  },
  {
   "cell_type": "markdown",
   "metadata": {},
   "source": [
    "Now, we can group by continents!"
   ]
  },
  {
   "cell_type": "code",
   "execution_count": 19,
   "metadata": {},
   "outputs": [
    {
     "data": {
      "text/plain": [
       "Continent\n",
       "Africa             6.032046\n",
       "Antarctica              NaN\n",
       "Asia               4.566206\n",
       "Australia          4.286941\n",
       "Central America    4.106609\n",
       "Europe             2.097702\n",
       "North America      3.245468\n",
       "South America      3.859909\n",
       "Name: Fertility, dtype: float64"
      ]
     },
     "execution_count": 19,
     "metadata": {},
     "output_type": "execute_result"
    }
   ],
   "source": [
    "data2.groupby(\"Continent\")['Fertility'].mean()"
   ]
  },
  {
   "cell_type": "markdown",
   "metadata": {},
   "source": [
    "## Looking Deeper: Building Data Pipelines to Answer Research Questions\n",
    "Let's practice answering some more-complex questions with our new structure!"
   ]
  },
  {
   "cell_type": "markdown",
   "metadata": {},
   "source": [
    "How can we track the the variance of the continent's fertility rate between its countries, over time?"
   ]
  },
  {
   "cell_type": "code",
   "execution_count": null,
   "metadata": {},
   "outputs": [],
   "source": []
  },
  {
   "cell_type": "markdown",
   "metadata": {},
   "source": [
    "How many countries are in each continent, that are included in this dataset?"
   ]
  },
  {
   "cell_type": "code",
   "execution_count": null,
   "metadata": {},
   "outputs": [],
   "source": []
  },
  {
   "cell_type": "markdown",
   "metadata": {},
   "source": [
    "How well is each continent's data tracked? (e.g. what percent of completed data is in each continent?)"
   ]
  },
  {
   "cell_type": "code",
   "execution_count": null,
   "metadata": {},
   "outputs": [],
   "source": []
  },
  {
   "cell_type": "markdown",
   "metadata": {},
   "source": [
    "What was the average fertility rate of the three \"Americas\" during the 1990s?"
   ]
  },
  {
   "cell_type": "code",
   "execution_count": null,
   "metadata": {},
   "outputs": [],
   "source": []
  },
  {
   "cell_type": "markdown",
   "metadata": {},
   "source": [
    "### Zooming Out: Using Data Visualization Libraries to Wrap End-to-End Data Processing Pipelines\n",
    "\n",
    "So far, we've seen how we can restructure our dataset to *add* information while making it easier to use, but what hasn't been addressed is how the data analysis pipelines *remove* information before the final visualization.  While this approach (Split--Apply--Aggregate--Combine--Aggregate--Report) makes sense from an order of operations point of view, it makes it much more difficult to change our pipelines when our visualization and statistical needs change.  Let's see how we can use a visualization library to *pull* a specific analysis pipeline in a more declarative style:"
   ]
  },
  {
   "cell_type": "code",
   "execution_count": 30,
   "metadata": {},
   "outputs": [
    {
     "data": {
      "image/png": "[encoded data removed]",
      "text/plain": [
       "<Figure size 432x288 with 1 Axes>"
      ]
     },
     "metadata": {
      "needs_background": "light"
     },
     "output_type": "display_data"
    }
   ],
   "source": [
    "import seaborn as sns\n",
    "sns.lineplot(x='Year', y='Fertility', hue='Continent', \n",
    "             data=data2.astype({'Year': float})\n",
    ");"
   ]
  },
  {
   "cell_type": "markdown",
   "metadata": {},
   "source": [
    "Why not a statistics library, too?  "
   ]
  },
  {
   "cell_type": "code",
   "execution_count": 116,
   "metadata": {},
   "outputs": [
    {
     "data": {
      "text/html": [
       "<table class=\"simpletable\">\n",
       "<tr>\n",
       "        <td>Model:</td>               <td>GLM</td>            <td>AIC:</td>       <td>27043.7737</td> \n",
       "</tr>\n",
       "<tr>\n",
       "    <td>Link Function:</td>        <td>identity</td>          <td>BIC:</td>       <td>-67591.4013</td>\n",
       "</tr>\n",
       "<tr>\n",
       "  <td>Dependent Variable:</td>     <td>Fertility</td>    <td>Log-Likelihood:</td>   <td>-13514.</td>  \n",
       "</tr>\n",
       "<tr>\n",
       "         <td>Date:</td>        <td>2020-02-17 01:22</td>    <td>LL-Null:</td>       <td>-23026.</td>  \n",
       "</tr>\n",
       "<tr>\n",
       "   <td>No. Observations:</td>        <td>8710</td>          <td>Deviance:</td>      <td>11355.</td>   \n",
       "</tr>\n",
       "<tr>\n",
       "       <td>Df Model:</td>              <td>7</td>         <td>Pearson chi2:</td>   <td>1.14e+04</td>  \n",
       "</tr>\n",
       "<tr>\n",
       "     <td>Df Residuals:</td>          <td>8702</td>           <td>Scale:</td>        <td>1.3049</td>   \n",
       "</tr>\n",
       "<tr>\n",
       "        <td>Method:</td>             <td>IRLS</td>              <td></td>              <td></td>      \n",
       "</tr>\n",
       "</table>\n",
       "<table class=\"simpletable\">\n",
       "<tr>\n",
       "                <td></td>                 <th>Coef.</th>  <th>Std.Err.</th>     <th>z</th>      <th>P>|z|</th>  <th>[0.025</th>   <th>0.975]</th> \n",
       "</tr>\n",
       "<tr>\n",
       "  <th>Intercept</th>                    <td>118.0351</td>  <td>1.6167</td>   <td>73.0111</td>  <td>0.0000</td> <td>114.8665</td> <td>121.2037</td>\n",
       "</tr>\n",
       "<tr>\n",
       "  <th>Continent[T.Asia]</th>             <td>-1.4725</td>  <td>0.0353</td>  <td>-41.6967</td>  <td>0.0000</td>  <td>-1.5417</td>  <td>-1.4033</td>\n",
       "</tr>\n",
       "<tr>\n",
       "  <th>Continent[T.Australia]</th>        <td>-1.7420</td>  <td>0.0509</td>  <td>-34.1992</td>  <td>0.0000</td>  <td>-1.8418</td>  <td>-1.6421</td>\n",
       "</tr>\n",
       "<tr>\n",
       "  <th>Continent[T.Central America]</th>  <td>-1.8973</td>  <td>0.0542</td>  <td>-35.0070</td>  <td>0.0000</td>  <td>-2.0036</td>  <td>-1.7911</td>\n",
       "</tr>\n",
       "<tr>\n",
       "  <th>Continent[T.Europe]</th>           <td>-3.9154</td>  <td>0.0337</td>  <td>-116.0699</td> <td>0.0000</td>  <td>-3.9815</td>  <td>-3.8493</td>\n",
       "</tr>\n",
       "<tr>\n",
       "  <th>Continent[T.North America]</th>    <td>-2.7699</td>  <td>0.0544</td>  <td>-50.8740</td>  <td>0.0000</td>  <td>-2.8766</td>  <td>-2.6632</td>\n",
       "</tr>\n",
       "<tr>\n",
       "  <th>Continent[T.South America]</th>    <td>-2.1784</td>  <td>0.0530</td>  <td>-41.0863</td>  <td>0.0000</td>  <td>-2.2823</td>  <td>-2.0745</td>\n",
       "</tr>\n",
       "<tr>\n",
       "  <th>Year</th>                          <td>-0.0564</td>  <td>0.0008</td>  <td>-69.2870</td>  <td>0.0000</td>  <td>-0.0580</td>  <td>-0.0548</td>\n",
       "</tr>\n",
       "</table>"
      ],
      "text/plain": [
       "<class 'statsmodels.iolib.summary2.Summary'>\n",
       "\"\"\"\n",
       "                        Results: Generalized linear model\n",
       "=================================================================================\n",
       "Model:                     GLM                   AIC:                 27043.7737 \n",
       "Link Function:             identity              BIC:                 -67591.4013\n",
       "Dependent Variable:        Fertility             Log-Likelihood:      -13514.    \n",
       "Date:                      2020-02-17 01:22      LL-Null:             -23026.    \n",
       "No. Observations:          8710                  Deviance:            11355.     \n",
       "Df Model:                  7                     Pearson chi2:        1.14e+04   \n",
       "Df Residuals:              8702                  Scale:               1.3049     \n",
       "Method:                    IRLS                                                  \n",
       "---------------------------------------------------------------------------------\n",
       "                              Coef.   Std.Err.     z     P>|z|   [0.025   0.975] \n",
       "---------------------------------------------------------------------------------\n",
       "Intercept                    118.0351   1.6167   73.0111 0.0000 114.8665 121.2037\n",
       "Continent[T.Asia]             -1.4725   0.0353  -41.6967 0.0000  -1.5417  -1.4033\n",
       "Continent[T.Australia]        -1.7420   0.0509  -34.1992 0.0000  -1.8418  -1.6421\n",
       "Continent[T.Central America]  -1.8973   0.0542  -35.0070 0.0000  -2.0036  -1.7911\n",
       "Continent[T.Europe]           -3.9154   0.0337 -116.0699 0.0000  -3.9815  -3.8493\n",
       "Continent[T.North America]    -2.7699   0.0544  -50.8740 0.0000  -2.8766  -2.6632\n",
       "Continent[T.South America]    -2.1784   0.0530  -41.0863 0.0000  -2.2823  -2.0745\n",
       "Year                          -0.0564   0.0008  -69.2870 0.0000  -0.0580  -0.0548\n",
       "=================================================================================\n",
       "\n",
       "\"\"\""
      ]
     },
     "execution_count": 116,
     "metadata": {},
     "output_type": "execute_result"
    }
   ],
   "source": [
    "from statsmodels.formula.api import glm\n",
    "model = glm(\"Fertility ~ Year + Continent\", \n",
    "            data=data3.astype({'Fertility': float, 'Country': str, 'Continent': str, 'Year': int}))\n",
    "model.fit().summary2()"
   ]
  },
  {
   "cell_type": "code",
   "execution_count": null,
   "metadata": {},
   "outputs": [],
   "source": []
  }
 ],
 "metadata": {
  "kernelspec": {
   "display_name": "Python 3",
   "language": "python",
   "name": "python3"
  },
  "language_info": {
   "codemirror_mode": {
    "name": "ipython",
    "version": 3
   },
   "file_extension": ".py",
   "mimetype": "text/x-python",
   "name": "python",
   "nbconvert_exporter": "python",
   "pygments_lexer": "ipython3",
   "version": "3.7.4"
  }
 },
 "nbformat": 4,
 "nbformat_minor": 4
}
