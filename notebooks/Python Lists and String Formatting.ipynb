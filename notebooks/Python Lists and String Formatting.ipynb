{
 "cells": [
  {
   "cell_type": "markdown",
   "metadata": {},
   "source": [
    "# Python Method Syntax Review: Lists and String.Format"
   ]
  },
  {
   "cell_type": "markdown",
   "metadata": {
    "cell_id": "b69b0cd634514bf296b365fa790b4c1a",
    "deepnote_cell_type": "markdown",
    "tags": []
   },
   "source": [
    "## Lists\n",
    "\n",
    "Practice analyzing data found in Python lists using the exercises below.  Some operations, functions, and methods for working on lists are here as reference:\n",
    "\n",
    "##### Operations\n",
    "\n",
    "  - `['a', 'b', 'c'][1]`\n",
    "  - `['a', 'b', 'c'][-1]`\n",
    "  - `['a', 'b', 'c'][:2]`\n",
    "  - `['a', 'b', 'c'][::-1]`\n",
    "  - `['a', 'b'] * 2`\n",
    "  - `[1, 2] + [4]`\n",
    "  - `my_list[2] = 99`\n",
    "\n",
    "\n",
    "##### Functions\n",
    "\n",
    "  - `len(['a', 'b', 'c'])  # 3`\n",
    "  - `max([10, 11, 12])  # 12`\n",
    "  - `min([10, 11, 12])  # 10`\n",
    "  - `sum([10, 11, 12])  # 33`\n",
    "\n",
    "##### Methods\n",
    "\n",
    "  - `my_list.append('d')`\n",
    "  - `my_list.clear()`\n",
    "  - `my_list.extend(['d', 'e'])`\n",
    "  - `my_list.index('c')`\n",
    "  - `my_list.insert('f', 2)`\n",
    "  - `my_list.find('b')`\n",
    "  - `my_list.reverse()`\n",
    "  - `\"Hello World\".split(' ')  # Makes lists from strings.`\n",
    "  - `\" \".join(my_list)   # Makes strings from lists`\n",
    "  \n",
    "\n"
   ]
  },
  {
   "cell_type": "markdown",
   "metadata": {
    "cell_id": "8b97364455ca4ff2a3e0b4fe196de6a4",
    "deepnote_cell_type": "markdown",
    "tags": []
   },
   "source": [
    "**Exercises**"
   ]
  },
  {
   "cell_type": "markdown",
   "metadata": {},
   "source": [
    "Get the minimum height of these people:"
   ]
  },
  {
   "cell_type": "code",
   "execution_count": null,
   "metadata": {},
   "outputs": [],
   "source": [
    "heights = [97, 110, 95, 105]"
   ]
  },
  {
   "cell_type": "code",
   "execution_count": null,
   "metadata": {
    "tags": [
     "exercise"
    ]
   },
   "outputs": [
    {
     "data": {
      "text/plain": [
       "95"
      ]
     },
     "execution_count": 183,
     "metadata": {},
     "output_type": "execute_result"
    }
   ],
   "source": [
    "min(heights)"
   ]
  },
  {
   "cell_type": "markdown",
   "metadata": {
    "cell_id": "107d52e68808405fbb31f7c282066e1a",
    "deepnote_cell_type": "markdown",
    "tags": []
   },
   "source": [
    "Get the first 3 letters from the list"
   ]
  },
  {
   "cell_type": "code",
   "execution_count": null,
   "metadata": {
    "cell_id": "f07de03f21b94188be6a337bfcf4f79f",
    "deepnote_cell_type": "code",
    "deepnote_to_be_reexecuted": false,
    "execution_millis": 2,
    "execution_start": 1637222132101,
    "source_hash": "80eb0bbe",
    "tags": []
   },
   "outputs": [],
   "source": [
    "letters = ['a', 'b', 'c', 'd', 'e']"
   ]
  },
  {
   "cell_type": "code",
   "execution_count": null,
   "metadata": {
    "tags": [
     "exercise"
    ]
   },
   "outputs": [
    {
     "data": {
      "text/plain": [
       "['A', 'G', 'C']"
      ]
     },
     "execution_count": 152,
     "metadata": {},
     "output_type": "execute_result"
    }
   ],
   "source": [
    "letters[:3]"
   ]
  },
  {
   "cell_type": "markdown",
   "metadata": {
    "cell_id": "b427a51776584d16847e11864a35938e",
    "deepnote_cell_type": "markdown",
    "tags": []
   },
   "source": [
    "How many items are in this list?"
   ]
  },
  {
   "cell_type": "code",
   "execution_count": null,
   "metadata": {
    "cell_id": "0d078ae290a74710a368181c3d609a0f",
    "deepnote_cell_type": "code",
    "tags": []
   },
   "outputs": [],
   "source": [
    "people = ['Rachel', 'Monica', 'Joey', 'Phoebe', 'Chandler']"
   ]
  },
  {
   "cell_type": "code",
   "execution_count": null,
   "metadata": {
    "tags": [
     "exercise"
    ]
   },
   "outputs": [
    {
     "data": {
      "text/plain": [
       "5"
      ]
     },
     "execution_count": 155,
     "metadata": {},
     "output_type": "execute_result"
    }
   ],
   "source": [
    "len(people)"
   ]
  },
  {
   "cell_type": "markdown",
   "metadata": {
    "cell_id": "55362948871d4067b4174803039383fa",
    "deepnote_cell_type": "markdown",
    "tags": []
   },
   "source": [
    "*Bonus, non-Python question*: What name is missing from this list?"
   ]
  },
  {
   "cell_type": "markdown",
   "metadata": {
    "cell_id": "c8dc4ace176d46c88493db521767dfd1",
    "deepnote_cell_type": "markdown",
    "tags": []
   },
   "source": [
    "Reverse the list"
   ]
  },
  {
   "cell_type": "code",
   "execution_count": null,
   "metadata": {
    "cell_id": "1971590441db4481b127266c27b0d92f",
    "deepnote_cell_type": "code",
    "deepnote_to_be_reexecuted": false,
    "execution_millis": 4,
    "execution_start": 1637222147008,
    "source_hash": "80eb0bbe",
    "tags": []
   },
   "outputs": [],
   "source": [
    "letters = ['a', 'b', 'c', 'd', 'e']"
   ]
  },
  {
   "cell_type": "code",
   "execution_count": null,
   "metadata": {
    "tags": [
     "exercise"
    ]
   },
   "outputs": [
    {
     "data": {
      "text/plain": [
       "['e', 'd', 'c', 'b', 'a']"
      ]
     },
     "execution_count": 157,
     "metadata": {},
     "output_type": "execute_result"
    }
   ],
   "source": [
    "letters[::-1]"
   ]
  },
  {
   "cell_type": "markdown",
   "metadata": {
    "cell_id": "76ae00c8240748f3a7c121b368e91724",
    "deepnote_cell_type": "markdown",
    "tags": []
   },
   "source": [
    "Replace the second letter with the letter 'B'"
   ]
  },
  {
   "cell_type": "code",
   "execution_count": null,
   "metadata": {
    "cell_id": "c39c7af2b6a04fc4a915cd0a1685e24e",
    "deepnote_cell_type": "code",
    "deepnote_to_be_reexecuted": false,
    "execution_millis": 1,
    "execution_start": 1637222081457,
    "source_hash": "6ffa5cc8",
    "tags": []
   },
   "outputs": [],
   "source": [
    "letters = ['A', 'G', 'C', 'D']"
   ]
  },
  {
   "cell_type": "code",
   "execution_count": null,
   "metadata": {
    "tags": [
     "exercise"
    ]
   },
   "outputs": [
    {
     "data": {
      "text/plain": [
       "['A', 'B', 'C', 'D']"
      ]
     },
     "execution_count": 160,
     "metadata": {},
     "output_type": "execute_result"
    }
   ],
   "source": [
    "letters[1] = 'B'\n",
    "letters"
   ]
  },
  {
   "cell_type": "markdown",
   "metadata": {
    "cell_id": "db6338be76d84bff854afd0d7fff63cf",
    "deepnote_cell_type": "markdown",
    "tags": []
   },
   "source": [
    "Find two different ways to make `newdata = [3, 4, 5, 6]` from `data` and `new_value`"
   ]
  },
  {
   "cell_type": "code",
   "execution_count": null,
   "metadata": {
    "cell_id": "549d152abc864719ba38dd2f398be6f4",
    "deepnote_cell_type": "code",
    "tags": []
   },
   "outputs": [],
   "source": [
    "data = [3, 4, 5]\n",
    "new_value = 6"
   ]
  },
  {
   "cell_type": "code",
   "execution_count": null,
   "metadata": {
    "cell_id": "040ec023062d4093a998fab25ac4fa7f",
    "deepnote_cell_type": "code",
    "tags": [
     "exercise"
    ]
   },
   "outputs": [
    {
     "data": {
      "text/plain": [
       "[3, 4, 5, 6]"
      ]
     },
     "execution_count": 164,
     "metadata": {},
     "output_type": "execute_result"
    }
   ],
   "source": [
    "newdata = data + [new_value]\n",
    "newdata"
   ]
  },
  {
   "cell_type": "code",
   "execution_count": null,
   "metadata": {
    "tags": [
     "exercise"
    ]
   },
   "outputs": [
    {
     "data": {
      "text/plain": [
       "[3, 4, 5, 6]"
      ]
     },
     "execution_count": 166,
     "metadata": {},
     "output_type": "execute_result"
    }
   ],
   "source": [
    "newdata = data.copy()\n",
    "newdata.append(new_value)\n",
    "newdata"
   ]
  },
  {
   "cell_type": "markdown",
   "metadata": {
    "cell_id": "50f0c5c68ebe406c81e4bef2a3283503",
    "deepnote_cell_type": "markdown",
    "deepnote_to_be_reexecuted": false,
    "execution_millis": 180,
    "execution_start": 1637222168209,
    "source_hash": "d5669190",
    "tags": []
   },
   "source": [
    "Find two different ways to make `cc = [1, 2, 3, 4, 5, 6]` from `aa` and `bb`:"
   ]
  },
  {
   "cell_type": "code",
   "execution_count": null,
   "metadata": {
    "cell_id": "9f69d73c74da42568c887c38861584e1",
    "deepnote_cell_type": "code",
    "deepnote_to_be_reexecuted": false,
    "execution_millis": 7,
    "execution_start": 1637222191973,
    "source_hash": "49735af7",
    "tags": []
   },
   "outputs": [],
   "source": [
    "aa = [1, 2, 3]\n",
    "bb = [4, 5, 6]"
   ]
  },
  {
   "cell_type": "code",
   "execution_count": null,
   "metadata": {
    "cell_id": "1e096fc0a962460cb07db7c2cb2f76cf",
    "deepnote_cell_type": "code",
    "tags": [
     "exercise"
    ]
   },
   "outputs": [
    {
     "data": {
      "text/plain": [
       "[1, 2, 3, 4, 5, 6]"
      ]
     },
     "execution_count": 168,
     "metadata": {},
     "output_type": "execute_result"
    }
   ],
   "source": [
    "cc = aa + bb\n",
    "cc"
   ]
  },
  {
   "cell_type": "code",
   "execution_count": null,
   "metadata": {
    "tags": [
     "exercise"
    ]
   },
   "outputs": [
    {
     "data": {
      "text/plain": [
       "[1, 2, 3, 4, 5, 6]"
      ]
     },
     "execution_count": 169,
     "metadata": {},
     "output_type": "execute_result"
    }
   ],
   "source": [
    "cc = aa.copy()\n",
    "cc.extend(bb)\n",
    "cc"
   ]
  },
  {
   "cell_type": "markdown",
   "metadata": {
    "cell_id": "1ffc87c6035d495199a2e6bad503936c",
    "deepnote_cell_type": "markdown",
    "tags": []
   },
   "source": [
    "Mofify this list so that the second sequence is upper-cased"
   ]
  },
  {
   "cell_type": "code",
   "execution_count": null,
   "metadata": {
    "cell_id": "1405809490da40449cbfdbc11554be6a",
    "deepnote_cell_type": "code",
    "deepnote_to_be_reexecuted": false,
    "execution_millis": 1,
    "execution_start": 1637222599757,
    "source_hash": "a115b5be",
    "tags": []
   },
   "outputs": [],
   "source": [
    "seqs = ['GCTTA', 'GttTTGgt']"
   ]
  },
  {
   "cell_type": "code",
   "execution_count": null,
   "metadata": {
    "tags": [
     "exercise"
    ]
   },
   "outputs": [
    {
     "data": {
      "text/plain": [
       "['gcTTA', 'GTTTTGGT']"
      ]
     },
     "execution_count": 171,
     "metadata": {},
     "output_type": "execute_result"
    }
   ],
   "source": [
    "seqs[1] = seqs[1].upper()\n",
    "seqs"
   ]
  },
  {
   "cell_type": "markdown",
   "metadata": {
    "cell_id": "eeca9fa690c3447a95156fb806b2307c",
    "deepnote_cell_type": "markdown",
    "tags": []
   },
   "source": [
    "Modify this list so that the first sequence is lower-cased."
   ]
  },
  {
   "cell_type": "code",
   "execution_count": null,
   "metadata": {
    "cell_id": "258f6c6e4db14f4dbba83bc69c54bd9d",
    "deepnote_cell_type": "code",
    "deepnote_to_be_reexecuted": false,
    "execution_millis": 10,
    "execution_start": 1637222590392,
    "source_hash": "95ae0b6e",
    "tags": []
   },
   "outputs": [],
   "source": [
    "seqs = ['gcTTA', 'gccatta', 'gattaca']"
   ]
  },
  {
   "cell_type": "code",
   "execution_count": null,
   "metadata": {
    "tags": [
     "exercise"
    ]
   },
   "outputs": [
    {
     "data": {
      "text/plain": [
       "['gctta', 'gccatta', 'gattaca']"
      ]
     },
     "execution_count": 176,
     "metadata": {},
     "output_type": "execute_result"
    }
   ],
   "source": [
    "seqs[0] = seqs[0].lower()\n",
    "seqs"
   ]
  },
  {
   "cell_type": "markdown",
   "metadata": {
    "cell_id": "cdc290a1e11e4cde8d0b9fcc5210299d",
    "deepnote_cell_type": "markdown",
    "tags": []
   },
   "source": [
    "Get the only the first codon (the first 3 nucleotides) in the second sequence."
   ]
  },
  {
   "cell_type": "code",
   "execution_count": null,
   "metadata": {
    "cell_id": "bbb284ae3a49452c811c780c007c1702",
    "deepnote_cell_type": "code",
    "deepnote_to_be_reexecuted": false,
    "execution_millis": 13,
    "execution_start": 1637222580244,
    "source_hash": "8efe34bd",
    "tags": []
   },
   "outputs": [],
   "source": [
    "seqs = ['GGTATTA', 'GGCCAG', 'CCAGGATTAG']"
   ]
  },
  {
   "cell_type": "code",
   "execution_count": null,
   "metadata": {
    "tags": [
     "exercise"
    ]
   },
   "outputs": [
    {
     "data": {
      "text/plain": [
       "'GGT'"
      ]
     },
     "execution_count": 178,
     "metadata": {},
     "output_type": "execute_result"
    }
   ],
   "source": [
    "seqs[0][:3]"
   ]
  },
  {
   "cell_type": "markdown",
   "metadata": {
    "cell_id": "070b21e7a0554b77857f16fd4f13d301",
    "deepnote_cell_type": "markdown",
    "tags": []
   },
   "source": [
    "Get the third sequence in this list.  Note: will need to split this string first)"
   ]
  },
  {
   "cell_type": "code",
   "execution_count": null,
   "metadata": {
    "cell_id": "b0fb0647c97643b18f7015bada325651",
    "deepnote_cell_type": "code",
    "deepnote_to_be_reexecuted": false,
    "execution_millis": 2,
    "execution_start": 1637222468496,
    "source_hash": "ed4227fa",
    "tags": []
   },
   "outputs": [],
   "source": [
    "seqs = 'aggg ctgt ggtta ggcaac cca'"
   ]
  },
  {
   "cell_type": "code",
   "execution_count": null,
   "metadata": {
    "tags": [
     "exercise"
    ]
   },
   "outputs": [
    {
     "data": {
      "text/plain": [
       "'ggtta'"
      ]
     },
     "execution_count": 181,
     "metadata": {},
     "output_type": "execute_result"
    }
   ],
   "source": [
    "seqs.split(' ')[2]"
   ]
  },
  {
   "cell_type": "markdown",
   "metadata": {},
   "source": [
    "## Formatting Strings\n",
    "\n",
    "Formatting a string means arranging data so that it is properly laid out in text by creating a template that describes how the string should look.  String formatting is done, for example, in order to:\n",
    "\n",
    "  - print out a value nicely (e.g. **\"3.21 kg\"** instead of **\"3.2123141414141414411111\"**, using the template `\"{} kg\"`)\n",
    "  - make a filename from data (e.g. putting **\"Control\"** into a filename **\"Control.csv\"** using the template `\"{}.csv\"`)\n",
    "  - put data into a text file so it matches an expected file format (e.g. putting **3** and **5** into the csv line **\"3,5\\n\"** using the template `\"{},{}\\n\"`)\n",
    "  \n",
    "| Format Code | Description | Example |\n",
    "| :-- | :-- | :-- |\n",
    "| `'{}'` | No change | `'{}'.format(0.532)  # '0.532'` |\n",
    "| `'Hello {}'` | Put the text after Hello | `'Hello {}'.format('World')  # 'Hello World'` |\n",
    "| `{} - {}` | Put two pieces of data into the string | `'{} - {}'.format(5, 3)  # '5 - 3'` |\n",
    "| `'{:.2f}'` | Round the value to the nearest two decimal places | `'{:.1f}'.format(0.532)  # '0.5'` |\n",
    "| `{:.1%}'` | Format as a percentage, rounded to the nearest two decimal places | `'{:.1%}.format(0.532)  # '53.0%'` |\n",
    "| `'{:4}'` | Pad the text so it takes up N spaces (useful for aligning columns of data) | `'{:4}'.format('Hi')  # 'Hi  '` | \n",
    "  \n",
    "More format codes can be found on the website https://pyformat.info/"
   ]
  },
  {
   "cell_type": "markdown",
   "metadata": {},
   "source": [
    "**Exercises** For each of the following datasets, create a formatted string that prints so that it matches the requested text."
   ]
  },
  {
   "cell_type": "markdown",
   "metadata": {},
   "source": [
    "Example:\n",
    "\n",
    "**`'Ocean's 11'`**\n",
    "\n",
    "**`'Ocean's 12'`**"
   ]
  },
  {
   "cell_type": "code",
   "execution_count": null,
   "metadata": {},
   "outputs": [],
   "source": [
    "film1 = 11\n",
    "film2 = 12"
   ]
  },
  {
   "cell_type": "code",
   "execution_count": null,
   "metadata": {
    "tags": []
   },
   "outputs": [
    {
     "name": "stdout",
     "output_type": "stream",
     "text": [
      "Ocean's 11\n",
      "Ocean's 12\n"
     ]
    }
   ],
   "source": [
    "template = \"Ocean's {}\"\n",
    "print(template.format(film1))\n",
    "print(template.format(film2))"
   ]
  },
  {
   "cell_type": "markdown",
   "metadata": {},
   "source": [
    "The Two Sequels:\n",
    "\n",
    "**`'101 Dalmations'`**\n",
    "\n",
    "**`'102 Dalmations'`**"
   ]
  },
  {
   "cell_type": "code",
   "execution_count": null,
   "metadata": {},
   "outputs": [],
   "source": [
    "film1 = 101\n",
    "film2 = 102"
   ]
  },
  {
   "cell_type": "code",
   "execution_count": null,
   "metadata": {
    "tags": [
     "exercise"
    ]
   },
   "outputs": [
    {
     "name": "stdout",
     "output_type": "stream",
     "text": [
      "101 Dalmations\n",
      "102 Dalmations\n"
     ]
    }
   ],
   "source": [
    "template = \"{} Dalmations\"\n",
    "print(template.format(film1))\n",
    "print(template.format(film2))\n"
   ]
  },
  {
   "cell_type": "markdown",
   "metadata": {},
   "source": [
    "Unit Conversion:\n",
    "\n",
    "**`'110.2 km/hr'`**"
   ]
  },
  {
   "cell_type": "code",
   "execution_count": null,
   "metadata": {},
   "outputs": [],
   "source": [
    "kilometers = 430\n",
    "hours = 3.9"
   ]
  },
  {
   "cell_type": "code",
   "execution_count": null,
   "metadata": {
    "tags": [
     "exercise"
    ]
   },
   "outputs": [
    {
     "data": {
      "text/plain": [
       "'110.3 km/hr'"
      ]
     },
     "execution_count": 140,
     "metadata": {},
     "output_type": "execute_result"
    }
   ],
   "source": [
    "template = \"{:.1f} km/hr\"\n",
    "template.format(kilometers/hours)"
   ]
  },
  {
   "cell_type": "markdown",
   "metadata": {},
   "source": [
    "Percentages:\n",
    "\n",
    "**`'32.9%'`** (note, do this using string formatting, not by multiplying by 100 and rounding the value)"
   ]
  },
  {
   "cell_type": "code",
   "execution_count": null,
   "metadata": {},
   "outputs": [],
   "source": [
    "data = .329232"
   ]
  },
  {
   "cell_type": "code",
   "execution_count": null,
   "metadata": {
    "tags": [
     "exercise"
    ]
   },
   "outputs": [
    {
     "data": {
      "text/plain": [
       "'32.9%'"
      ]
     },
     "execution_count": 141,
     "metadata": {},
     "output_type": "execute_result"
    }
   ],
   "source": [
    "template = \"{:.1%}\"\n",
    "template.format(data)"
   ]
  },
  {
   "cell_type": "markdown",
   "metadata": {},
   "source": [
    "Multiple Units:\n",
    "\n",
    "**`'15 lbs, 4.8 oz'`**"
   ]
  },
  {
   "cell_type": "code",
   "execution_count": null,
   "metadata": {},
   "outputs": [],
   "source": [
    "pounds = 15\n",
    "ounces = 4.8453423424"
   ]
  },
  {
   "cell_type": "code",
   "execution_count": null,
   "metadata": {
    "tags": [
     "exercise"
    ]
   },
   "outputs": [
    {
     "data": {
      "text/plain": [
       "'15 lbs, 4.8 oz'"
      ]
     },
     "execution_count": 142,
     "metadata": {},
     "output_type": "execute_result"
    }
   ],
   "source": [
    "template = \"{} lbs, {:.2} oz\"\n",
    "template.format(pounds, ounces)"
   ]
  },
  {
   "cell_type": "markdown",
   "metadata": {},
   "source": [
    "Symbols and Rounding: \n",
    "\n",
    "**`'π ≈ 3.1416'`**"
   ]
  },
  {
   "cell_type": "code",
   "execution_count": null,
   "metadata": {},
   "outputs": [],
   "source": [
    "pi = 3.141592653589793"
   ]
  },
  {
   "cell_type": "code",
   "execution_count": null,
   "metadata": {
    "tags": [
     "exercise"
    ]
   },
   "outputs": [
    {
     "data": {
      "text/plain": [
       "'π ≈ 3.1416'"
      ]
     },
     "execution_count": 145,
     "metadata": {},
     "output_type": "execute_result"
    }
   ],
   "source": [
    "template = \"π ≈ {:.5}\"\n",
    "template.format(math.pi)"
   ]
  },
  {
   "cell_type": "markdown",
   "metadata": {},
   "source": [
    "File names:\n",
    "\n",
    "**`'myfigure.png'`**\n",
    "\n",
    "**`'theirfigure.png'`**"
   ]
  },
  {
   "cell_type": "code",
   "execution_count": null,
   "metadata": {},
   "outputs": [],
   "source": [
    "names = ['my', 'their']"
   ]
  },
  {
   "cell_type": "code",
   "execution_count": null,
   "metadata": {
    "tags": [
     "exercise"
    ]
   },
   "outputs": [
    {
     "name": "stdout",
     "output_type": "stream",
     "text": [
      "myfigure.png\n",
      "theirfigure.png\n"
     ]
    }
   ],
   "source": [
    "template = \"{}figure.png\"\n",
    "\n",
    "print(template.format(names[0]))\n",
    "print(template.format(names[1]))"
   ]
  },
  {
   "cell_type": "markdown",
   "metadata": {},
   "source": [
    "Text File Formatting (Fasta Format):\n",
    "\n",
    "```\n",
    ">LCBO - Prolactin precursor\n",
    "MDSKGSSQKGSRLLLLLVVSNLLLCQGVVSTPVCP\n",
    "```\n"
   ]
  },
  {
   "cell_type": "code",
   "execution_count": null,
   "metadata": {},
   "outputs": [],
   "source": [
    "lcbo_name = 'LCBO'\n",
    "lcbo_desc = 'Prolactin precursor'\n",
    "lcbo_seq = 'MDSKGSSQKGSRLLLLLVVSNLLLCQGVVSTPVCP'"
   ]
  },
  {
   "cell_type": "code",
   "execution_count": null,
   "metadata": {
    "tags": [
     "exercise"
    ]
   },
   "outputs": [
    {
     "name": "stdout",
     "output_type": "stream",
     "text": [
      "\n",
      ">LCBO - Prolactin precursor\n",
      "MDSKGSSQKGSRLLLLLVVSNLLLCQGVVSTPVCP\n",
      "\n"
     ]
    }
   ],
   "source": [
    "fasta_template = \"\"\"\n",
    ">{name} - {desc}\n",
    "{seq}\n",
    "\"\"\"\n",
    "\n",
    "print(fasta_template.format(name=lcbo_name, desc=lcbo_desc, seq=lcbo_seq))"
   ]
  },
  {
   "cell_type": "markdown",
   "metadata": {},
   "source": [
    "Modify the code below so it makes a different filepath for each file extension: (e.g. **`'results/myfigure.jpg'`**)"
   ]
  },
  {
   "cell_type": "code",
   "execution_count": null,
   "metadata": {},
   "outputs": [
    {
     "name": "stdout",
     "output_type": "stream",
     "text": [
      "folder/basename.extension\n",
      "folder/basename.extension\n",
      "folder/basename.extension\n",
      "folder/basename.extension\n"
     ]
    }
   ],
   "source": [
    "folder = 'results'\n",
    "basename = 'myfigure'\n",
    "for extension in ['.jpg', '.png', '.tif', '.pdf']:\n",
    "    msg = 'folder/basename.extension'\n",
    "    print(msg)"
   ]
  },
  {
   "cell_type": "code",
   "execution_count": null,
   "metadata": {
    "tags": [
     "exercise"
    ]
   },
   "outputs": [
    {
     "name": "stdout",
     "output_type": "stream",
     "text": [
      "results/myfigure.jpg\n",
      "results/myfigure.png\n",
      "results/myfigure.tif\n",
      "results/myfigure.pdf\n"
     ]
    }
   ],
   "source": [
    "folder = 'results'\n",
    "basename = 'myfigure'\n",
    "template = '{}/{}{}'\n",
    "for extension in ['.jpg', '.png', '.tif', '.pdf']:\n",
    "    msg = template.format(folder, basename, extension)\n",
    "    print(msg)"
   ]
  },
  {
   "cell_type": "markdown",
   "metadata": {},
   "source": [
    "Modify the code below so it prints three columns of data formatted so that each column is *padded* to only take up a set amount of space in order to be aligned when printed: \n",
    "\n",
    "`Control        95  3.2`\n",
    "\n",
    "`Treatment A   101  3.4`\n",
    "\n",
    "`Treatment B     9  3.5`"
   ]
  },
  {
   "cell_type": "code",
   "execution_count": null,
   "metadata": {},
   "outputs": [
    {
     "name": "stdout",
     "output_type": "stream",
     "text": [
      "group weight speed\n",
      "group weight speed\n",
      "group weight speed\n"
     ]
    }
   ],
   "source": [
    "results = [('Control', 95, 3.2), ('Treatment A', 101, 3.4), ('Treatment B', 9, 3.5)]\n",
    "for group, weight, speed in results:\n",
    "    msg = \"group weight speed\"\n",
    "    print(msg)"
   ]
  },
  {
   "cell_type": "code",
   "execution_count": null,
   "metadata": {
    "tags": [
     "exercise"
    ]
   },
   "outputs": [],
   "source": [
    "results = [('Control', 95, 3.2), ('Treatment A', 101, 3.4), ('Treatment B', 9, 3.5)]\n",
    "for group, weight, speed in results:\n",
    "    # msg = \"group weight speed\"\n",
    "    msg = \"{:12}  {:3}  {}\".format(group, weight, speed)\n",
    "    print(msg)"
   ]
  }
 ],
 "metadata": {
  "deepnote": {
   "is_reactive": false
  },
  "deepnote_execution_queue": [],
  "deepnote_notebook_id": "0b3f71b5fad1487590d5a055329b23d1",
  "kernelspec": {
   "display_name": "Python 3 (ipykernel)",
   "language": "python",
   "name": "python3"
  },
  "language_info": {
   "codemirror_mode": {
    "name": "ipython",
    "version": 3
   },
   "file_extension": ".py",
   "mimetype": "text/x-python",
   "name": "python",
   "nbconvert_exporter": "python",
   "pygments_lexer": "ipython3",
   "version": "3.10.4"
  }
 },
 "nbformat": 4,
 "nbformat_minor": 4
}
