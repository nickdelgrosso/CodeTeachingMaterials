{
 "cells": [
  {
   "cell_type": "markdown",
   "metadata": {
    "cell_id": "aa39f6b27e4d400385d481e140dcfd18",
    "deepnote_cell_height": 375.859375,
    "deepnote_cell_type": "markdown",
    "tags": []
   },
   "source": [
    "# Installing Python on your Local Machine using the Anaconda Distributions and the Conda Package Manager\n",
    "\n",
    "### Python Distributions\n",
    "\n",
    "Python can be downloaded straight from the [python.org](https://www.python.org) website, but it's also possible to get Python distributed from other places: https://wiki.python.org/moin/PythonDistributions.  These distributions often contain extra software, some of which can be helpful.\n",
    "\n",
    "The most popular Python distribution for data analysists is the [Anaconda Distribution](https://www.anaconda.com/products/distribution), which includes the [conda environment manager and package manager](https://docs.conda.io/en/latest/), a great tool for both downloading scientific software and managing projects seperately on your machine."
   ]
  },
  {
   "cell_type": "markdown",
   "metadata": {
    "cell_id": "35f2ff2175644adb8d7b1a29b38ccf3f",
    "deepnote_cell_height": 1317.546875,
    "deepnote_cell_type": "markdown",
    "tags": []
   },
   "source": [
    "## Download and Installing Anaconda or Miniconda!\n",
    "\n",
    "  - **\"Which one should I install?\"**  Only need one: [Anaconda is Simplest, Miniconda is Quickest](https://conda.io/projects/conda/en/latest/user-guide/install/download.html#anaconda-or-miniconda)\n",
    "\n",
    "  - **\"I think it might already be installed.\"**: Check on windows by typing \"anaconda\" into the start menu and see if anything appears.  Mac and Linux can check by typing \"conda\" into the terminal and check that anything except a \"Program not recognized\" message appears.  \n",
    "\n",
    "  - **\"Where can I download them?\"**\n",
    "    - Anaconda has a download link here: https://www.anaconda.com/products/distribution \n",
    "    - Miniconda has a download link here: https://docs.conda.io/en/latest/miniconda.html\n",
    "    \n",
    "  - **\"I'm installing now.  What do I need to watch out for?\"**:\n",
    "    - Important: If your username has a space in it, install Anaconda \"For All Users\" instead of \"Just Me\" to avoid some anaconda bugs.\n",
    "    "
   ]
  },
  {
   "cell_type": "markdown",
   "metadata": {
    "cell_id": "d266a8e5bee040fba9c4085ea31a9b18",
    "deepnote_cell_height": 805.125,
    "deepnote_cell_type": "markdown",
    "deepnote_to_be_reexecuted": false,
    "execution_millis": 7,
    "execution_start": 1653549385240,
    "source_hash": "ab860c8d",
    "tags": []
   },
   "source": [
    "## The Conda Package Manager and Environment Manager\n",
    "\n",
    "The most valuable program that comes with Anaconda is the `conda` package manager; it's used to:\n",
    "\n",
    "  - Download Python, Python Packages, and even Non-Python Software and Packages\n",
    "  - If multiple versions of software are installed, it can help you control which installation to use.\n",
    "\n"
   ]
  },
  {
   "cell_type": "markdown",
   "metadata": {
    "cell_id": "acffe932d098473ab5f51609a0eb0898",
    "deepnote_cell_height": 376.859375,
    "deepnote_cell_type": "markdown",
    "owner_user_id": "c7a9f7f2-eddd-41d5-be7d-5159ad6417bb",
    "tags": []
   },
   "source": [
    "#### Essential Conda commands\n",
    "\n",
    "**Conda as an Environment Manager**\n",
    "| Command | What it does | Example |\n",
    "| :------ | :----------- | :------ |\n",
    "| `conda env list` | List all the conda environments you currently have. | `conda env list` |\n",
    "| `conda create --name <envname>` | Create a fresh new environment to install programs into | `conda create --name wshop` |\n",
    "| `conda env create -f <environment.yml>` | Create a fresh new environment to install programs into | `conda env create -f environment.yml` |\n",
    "| `conda activate <envname>` | Set an environment to be \"active\", meaning its programs are the default ones | `conda activate wshop` |\n",
    "| `conda env export > environment.yml` | Make an environment.yml file describing the environment | `conda env export > environment.yml` |\n",
    "| `conda deactivate` | Deactivate the current environment, returning to the \"base\" env | `conda deactivate` |\n",
    "| `conda env remove --name <envname>` | Delete an environment and everything installed in it | `conda env remove --name wshop` |\n",
    "\n",
    ".\n",
    "\n",
    "**Conda and Pip as Package Managers**\n",
    "| Command | What it does | Example |\n",
    "| :------ | :----------- | :------ |\n",
    "| `conda list`  | Show a list all the installed packages |  `conda list ` |\n",
    "| `pip freeze`  | Show a list all the installed packages |  `pip freeze ` |\n",
    "| `conda install <package>` | Install something into the currently-active environment | `conda install python=3.9` |\n",
    "| `pip install <package>` | Install a Python package into the currently-active environment | `pip install numpy` |\n",
    "| `conda update <package>` | Update a package to the latest version | `conda update conda` |\n",
    "| `conda upgrade` | Upgrade `conda` to the latest version | `conda upgrade` |\n",
    "| `conda remove <package>` | Remove a package  | `conda remove numpy` |\n",
    "| `pip uninstall <package>` | Remove a package | `pip uninstall numpy` |\n",
    "\n",
    ".\n",
    "\n"
   ]
  },
  {
   "cell_type": "markdown",
   "metadata": {
    "cell_id": "fdfed2c84b3a4de2a658e5d91fa9cd99",
    "deepnote_cell_height": 464.046875,
    "deepnote_cell_type": "markdown",
    "tags": []
   },
   "source": [
    "\n",
    "##### Where do Python Packages Come From?  How do I select it?\n",
    "\n",
    "Python comes with a package manager called `pip` that also downloads packages, leading to some confusion on which package manager to use; `pip` or `conda`.  In general, it doesn't matter so much; both will make sure the software goes in the currently-active environment.  \n",
    "\n",
    "Sometimes packages will only be available on one or the other because of where they connect to download the packages (for example, `pip` only has access to Python packages, while `conda` can also access other software; additionally, conda is very focused on the most popular data science packages, while pip has almost everything in the Python ecosystem).  Below are some examples of how to get software from different places:\n",
    "\n",
    "| Command | Where From | Example |\n",
    "|:------- | :--------  | :------ |\n",
    "| `conda install <package>` | [Anaconda's Package Channel](https://docs.anaconda.com/anaconda/packages/py3.9_win-64/) | `conda install numpy` |\n",
    "| `conda install -c anaconda <package>` | [Anaconda's Package Channel](https://docs.anaconda.com/anaconda/packages/py3.9_win-64/) | `conda install -c anaconda numpy` |\n",
    "| `conda install -c conda-forge <package>` | [The Conda-Forge Channel](https://conda-forge.org/) | `conda install -c conda-forge ffmpeg` |\n",
    "| `pip install <package>` | [The Python Package Index (PyPI)](https://pypi.org/) | `pip install numpy` |\n",
    "| `pip install git+<url>` | A GitHub Repo | `pip install git+https://github.com/numpy/numpy` |"
   ]
  },
  {
   "cell_type": "markdown",
   "metadata": {
    "cell_id": "d294d5a946e0496294db4f9916fe754c",
    "deepnote_cell_height": 52.34375,
    "deepnote_cell_type": "markdown",
    "deepnote_to_be_reexecuted": false,
    "execution_millis": 21,
    "execution_start": 1653549406397,
    "source_hash": "dfb63157",
    "tags": []
   },
   "source": [
    "**Exercises**: Use conda commands to follow the process of setting up a conda environment and install some software into it. Because some of these commands default to an interactive prompt, this is best done in the terminal (for Windows, the Anaconda Prompt), not in the notebook."
   ]
  },
  {
   "cell_type": "markdown",
   "metadata": {
    "cell_id": "f9a0c5316ae842b6b83be338ede474fb",
    "deepnote_cell_height": 52.34375,
    "deepnote_cell_type": "markdown",
    "tags": []
   },
   "source": [
    "Example: List all the conda environments on your machine. Look for the asterisk (\\*); which environment is currently active?"
   ]
  },
  {
   "cell_type": "code",
   "execution_count": 2,
   "metadata": {
    "tags": [
     "exercise"
    ]
   },
   "outputs": [
    {
     "name": "stdout",
     "output_type": "stream",
     "text": [
      "# conda environments:\n",
      "#\n",
      "base                     /home/nickdg/miniconda3\n",
      "ApprovalTests.Python     /home/nickdg/miniconda3/envs/ApprovalTests.Python\n",
      "autogui                  /home/nickdg/miniconda3/envs/autogui\n",
      "nbdev                    /home/nickdg/miniconda3/envs/nbdev\n",
      "py10                  *  /home/nickdg/miniconda3/envs/py10\n",
      "pythonProject            /home/nickdg/miniconda3/envs/pythonProject\n",
      "\n"
     ]
    }
   ],
   "source": [
    "!conda env list"
   ]
  },
  {
   "cell_type": "markdown",
   "metadata": {
    "cell_id": "58a549230d9e43ef85baa315ad4bb07a",
    "deepnote_cell_height": 52.34375,
    "deepnote_cell_type": "markdown",
    "tags": []
   },
   "source": [
    "Create a new conda environment that has Python 3.9 installed, giving it a name like \"wshop1\""
   ]
  },
  {
   "cell_type": "code",
   "execution_count": 4,
   "metadata": {
    "tags": [
     "exercise"
    ]
   },
   "outputs": [
    {
     "name": "stdout",
     "output_type": "stream",
     "text": [
      "\n",
      "SpecNotFound: Invalid name, try the format: user/package\n",
      "\n"
     ]
    }
   ],
   "source": [
    "!conda create --name wshop1"
   ]
  },
  {
   "cell_type": "markdown",
   "metadata": {},
   "source": [
    "Check the list of environments.  Is your new environmnet in the list?"
   ]
  },
  {
   "cell_type": "code",
   "execution_count": null,
   "metadata": {
    "tags": [
     "exercise"
    ]
   },
   "outputs": [],
   "source": [
    "!conda env list"
   ]
  },
  {
   "cell_type": "markdown",
   "metadata": {
    "cell_id": "8d3d089e7e3d4b2d81a259e4a220c250",
    "deepnote_cell_height": 52.34375,
    "deepnote_cell_type": "markdown",
    "tags": []
   },
   "source": [
    "Activate the new environment you created."
   ]
  },
  {
   "cell_type": "code",
   "execution_count": null,
   "metadata": {
    "tags": [
     "exercise"
    ]
   },
   "outputs": [],
   "source": [
    "!conda activate wshop1"
   ]
  },
  {
   "cell_type": "markdown",
   "metadata": {},
   "source": [
    "Check the list of environments.  Is your new environment the currently active one?"
   ]
  },
  {
   "cell_type": "code",
   "execution_count": null,
   "metadata": {
    "tags": [
     "exercise"
    ]
   },
   "outputs": [],
   "source": [
    "!conda env list"
   ]
  },
  {
   "cell_type": "markdown",
   "metadata": {},
   "source": [
    "Once the environment is activated, install Python into it"
   ]
  },
  {
   "cell_type": "code",
   "execution_count": null,
   "metadata": {
    "tags": [
     "exercise"
    ]
   },
   "outputs": [],
   "source": [
    "!conda install -y python=3.10"
   ]
  },
  {
   "cell_type": "markdown",
   "metadata": {
    "cell_id": "5d0ae1599d03413fb5e468d64e126dba",
    "deepnote_cell_height": 74.734375,
    "deepnote_cell_type": "markdown",
    "tags": []
   },
   "source": [
    "Install numpy uinto the environment."
   ]
  },
  {
   "cell_type": "code",
   "execution_count": null,
   "metadata": {
    "tags": [
     "exercise"
    ]
   },
   "outputs": [],
   "source": [
    "!conda install -y numpy"
   ]
  },
  {
   "cell_type": "markdown",
   "metadata": {},
   "source": [
    "Remove the package you just installed."
   ]
  },
  {
   "cell_type": "code",
   "execution_count": null,
   "metadata": {
    "tags": [
     "exercise"
    ]
   },
   "outputs": [],
   "source": [
    "!conda remove -y numpy"
   ]
  },
  {
   "cell_type": "markdown",
   "metadata": {},
   "source": [
    "Deactivate the environment. "
   ]
  },
  {
   "cell_type": "code",
   "execution_count": null,
   "metadata": {
    "tags": [
     "exercise"
    ]
   },
   "outputs": [],
   "source": [
    "!conda deactivate"
   ]
  },
  {
   "cell_type": "markdown",
   "metadata": {},
   "source": [
    "Check the list of environments.  Is the base environment back to being the active one?"
   ]
  },
  {
   "cell_type": "code",
   "execution_count": null,
   "metadata": {
    "tags": [
     "exercise"
    ]
   },
   "outputs": [],
   "source": [
    "!conda env list"
   ]
  },
  {
   "cell_type": "markdown",
   "metadata": {
    "cell_id": "77813598d0b24c82ac21353dbb7657f9",
    "deepnote_cell_height": 52.34375,
    "deepnote_cell_type": "markdown",
    "tags": []
   },
   "source": [
    "Delete your new environment."
   ]
  },
  {
   "cell_type": "code",
   "execution_count": null,
   "metadata": {
    "tags": [
     "exercise"
    ]
   },
   "outputs": [],
   "source": [
    "!conda env remove -n wshop1"
   ]
  },
  {
   "cell_type": "markdown",
   "metadata": {},
   "source": [
    "Check the list of environments.  Was deletion successful?"
   ]
  },
  {
   "cell_type": "code",
   "execution_count": null,
   "metadata": {
    "tags": [
     "exercise"
    ]
   },
   "outputs": [],
   "source": [
    "!conda env list"
   ]
  },
  {
   "cell_type": "markdown",
   "metadata": {
    "cell_id": "b2967478ba80498eada7e4025d704672",
    "deepnote_cell_height": 326.6875,
    "deepnote_cell_type": "markdown",
    "tags": []
   },
   "source": [
    "### Special Topic: \"Why Don't I see my Conda Environments in my Jupyter Notebook Kernels List?\"\n",
    "\n",
    "\n",
    "Jupyter doesn't always find the python installations automatically, but if it doesn't find it we can register an environment with Jupytr as a \"kernel\" so it knows to look for our environment:\n",
    "\n",
    "[**IPyKernel**](https://ipython.readthedocs.io/en/stable/install/kernel_install.html#kernels-for-different-environments)\n",
    "\n",
    "```\n",
    "conda activate myenv\n",
    "pip install ipykernel\n",
    "python -m ipykernel install --name myenv \n",
    "```\n",
    "\n"
   ]
  }
 ],
 "metadata": {
  "deepnote": {},
  "deepnote_execution_queue": [],
  "deepnote_notebook_id": "4aa88c755104481f9d42fd5fb6fd7513",
  "kernelspec": {
   "display_name": "Python 3 (ipykernel)",
   "language": "python",
   "name": "python3"
  },
  "language_info": {
   "codemirror_mode": {
    "name": "ipython",
    "version": 3
   },
   "file_extension": ".py",
   "mimetype": "text/x-python",
   "name": "python",
   "nbconvert_exporter": "python",
   "pygments_lexer": "ipython3",
   "version": "3.10.4"
  },
  "vscode": {
   "interpreter": {
    "hash": "d6852d01271bf8033dbdb7ec364b6f6e89fd52a18c6bf5b4c73e48c86329a8dd"
   }
  }
 },
 "nbformat": 4,
 "nbformat_minor": 4
}
