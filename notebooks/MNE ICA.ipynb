{
 "cells": [
  {
   "cell_type": "code",
   "execution_count": 112,
   "id": "ed569260-69a3-409f-9a0b-2f9ec60964de",
   "metadata": {},
   "outputs": [],
   "source": [
    "import numpy as np\n",
    "import matplotlib.pyplot as plt\n",
    "import mne\n",
    "from scipy import signal"
   ]
  },
  {
   "cell_type": "code",
   "execution_count": 109,
   "id": "7be47bec-ff42-49d6-978a-7bb48802f7b6",
   "metadata": {},
   "outputs": [],
   "source": [
    "%matplotlib inline"
   ]
  },
  {
   "cell_type": "markdown",
   "id": "33c0779a-0860-4b43-aa5e-6ad3f930f95b",
   "metadata": {},
   "source": [
    "### Create the Signals\n",
    "\n",
    "In this scenario, there are four electromagnetic sources that are in the room: \n",
    "  - Source 1: a 5 Hz Sine Wave  (`np.sin(t)`)\n",
    "  - Source 2: a 12 Hz Sine Wave (`np.sin(t)`)\n",
    "  - Source 3: a 5 Hz Triangle Wave (`signal.sawtooth(t, width=0.5)`)\n",
    "  - Source 4: Normal-distributed noise (`np.random.normal()`)\n",
    "  \n",
    "  \n",
    "Using numpy, scipy.signal, and matplotlib, Generate 1-second worth of data from each source, and plot it so you can see each time series individually"
   ]
  },
  {
   "cell_type": "code",
   "execution_count": null,
   "id": "ac40f21a-34e0-4490-a897-fe3e3a0a2dcf",
   "metadata": {},
   "outputs": [],
   "source": []
  },
  {
   "cell_type": "markdown",
   "id": "4fced7a9-ac55-4af1-b6b3-af7928fa8b4a",
   "metadata": {},
   "source": [
    "### Create the Sensors\n",
    "\n",
    "We have 6 sensors in different locations in the room.  Each sensor picks up all four signals, but to varying degrees.  For each of the four signals:\n",
    "\n",
    "  - Sensor1 picks them up at the following intensities: 60%, 20%, 80%, and 10%\n",
    "  - Sensor2 picks them up at the following intensities: 20%, 20%, 20%, and 80%\n",
    "  - Sensor3 picks them up at the following intensities: 50%, 50%, 50%, and 50%\n",
    "  - Sensor4 picks them up at the following intensities: 10%, 90%, 30%, and 30%\n",
    "  - Sensor5 picks them up at the following intensities: 40%, 20%, 80%, and 70%\n",
    "  - Sensor6 picks them up at the following intensities: 90%, 60%, 20%, and 40%\n",
    "\n",
    "Create each sensor's data as weighted averages of the four signals, and plot all 6 sensors in Matplotlib so each sensor is clearly visible.  A useful function here is `np.average`: \n",
    "\n",
    "`sensor1 = np.average([source1, source2, ...], axis=0, weights=[.2, .5, ...])`\n"
   ]
  },
  {
   "cell_type": "code",
   "execution_count": null,
   "id": "8c9bfcdb-f7ec-4d06-9061-b30aa9b2609e",
   "metadata": {},
   "outputs": [],
   "source": []
  },
  {
   "cell_type": "markdown",
   "id": "00e8d282-e4c0-4cb4-8f26-6f500a07cb6c",
   "metadata": {},
   "source": [
    "Put these sensors into a `mne.Raw()` object and plot them."
   ]
  },
  {
   "cell_type": "code",
   "execution_count": null,
   "id": "911785a6-b719-43ee-986e-232aa11614c6",
   "metadata": {},
   "outputs": [],
   "source": []
  },
  {
   "cell_type": "markdown",
   "id": "e695115f-794a-464b-8d32-461701d9ddd0",
   "metadata": {},
   "source": [
    "### ICA Decomposition\n",
    "\n",
    "Now that we have our raw data, let's try to reconstruct again what the original signals were!\n",
    "\n",
    "ICA is a technique for finding independent (uncorrelated), non-gaussian signals.  It tries to compute a \"mixing matrix\" that maximizes the statistical independence between a given number of time series.\n",
    "\n",
    "MNE's `ICA()` object works very similarly to that of Scikit Learn's models:\n",
    " \n",
    "   1. First, set the parameters for the model: `ica = mne.preprocessing.ICA(n_components=2)`\n",
    "     - The `n_components` specifies the number of PCA components that will be used in the ICA analysis; in effect, this represents the number of signals (plus noise) you want to try and create.\n",
    "     \n",
    "   2. Then, fit the model to your data in-place: `ica.fit(raw)`\n",
    "   \n",
    "   3. Finally, examine the fitted model's parameters and determine what signals were found.\n",
    "   \n",
    " "
   ]
  },
  {
   "cell_type": "markdown",
   "id": "24fc66bd-1e57-4635-bb57-c060beb96a50",
   "metadata": {},
   "source": [
    "**Exercises**"
   ]
  },
  {
   "cell_type": "markdown",
   "id": "d66855a8-5986-4c2d-b930-2b6017657a8d",
   "metadata": {},
   "source": [
    "**`mne.preprocessing.ICA()`**: Create an ICA model with 3 components."
   ]
  },
  {
   "cell_type": "code",
   "execution_count": null,
   "id": "3b8b18d9-2ca3-424a-99e8-8d55f29a0064",
   "metadata": {},
   "outputs": [],
   "source": []
  },
  {
   "cell_type": "markdown",
   "id": "046781b5-8973-4268-92ae-6bc94e733302",
   "metadata": {},
   "source": [
    "**`ICA.fit()`**: Fit the model to your data"
   ]
  },
  {
   "cell_type": "code",
   "execution_count": null,
   "id": "c778ecf6-21f2-480c-a8d5-82438e6986b7",
   "metadata": {},
   "outputs": [],
   "source": []
  },
  {
   "cell_type": "markdown",
   "id": "b6032170-273b-4c91-8a11-c45f10c1387b",
   "metadata": {},
   "source": [
    "**`ICA.plot_sources(raw)`** plot the components that were fit!  Did it identify the correct sources?  Try alternating the number of components and see how it affects the performance of the model.\n"
   ]
  },
  {
   "cell_type": "code",
   "execution_count": null,
   "id": "39c2c2f5-241c-4ed0-b113-fc4635ea49f9",
   "metadata": {},
   "outputs": [],
   "source": []
  },
  {
   "cell_type": "markdown",
   "id": "7c27d578-9014-4479-98df-1904fce07f1c",
   "metadata": {},
   "source": [
    "Discussion: Why didn't the triangle wave get seperate properly?  Once you have the answer, modify the signals so that the ICA model does a better job."
   ]
  },
  {
   "cell_type": "markdown",
   "id": "4fd070a4-c0b9-4f23-a2b1-3c987e118f5a",
   "metadata": {},
   "source": [
    "### Using ICA to Reject Components in the Data\n",
    "\n",
    "By specifying certain components to reject, you can have the ICA model apply its unmixing matrix to your data set, producing a new set of sensors that don't have the rejected components!  This is particularly useful for removing artifacts from data.\n",
    "\n",
    "  1. Set `ica.exclude` to a list of component indices (e.g. `ica.exclude = [1, 2]`\n",
    "  2. Apply the ica model to the raw data (it won't do this in-place): `ica.apply(raw)`"
   ]
  },
  {
   "cell_type": "markdown",
   "id": "18df697e-ca4b-4cb4-805f-21c08cdd9da4",
   "metadata": {},
   "source": [
    "**Exercises**"
   ]
  },
  {
   "cell_type": "markdown",
   "id": "9c27de9c-3ef0-4b53-bbb0-70622be5d52c",
   "metadata": {},
   "source": [
    "**1. Removing Noise**"
   ]
  },
  {
   "cell_type": "markdown",
   "id": "1e4857a2-3028-4c48-a90a-1a41860a461f",
   "metadata": {},
   "source": [
    "On the ICA model object you created and fit previously, specify to remove the noise components."
   ]
  },
  {
   "cell_type": "code",
   "execution_count": null,
   "id": "c60fa676-ce9f-4385-bf74-f356b41460b2",
   "metadata": {},
   "outputs": [],
   "source": []
  },
  {
   "cell_type": "markdown",
   "id": "07a6540a-a144-454a-88c5-a644235585db",
   "metadata": {},
   "source": [
    "Create a new Raw object by applying the ICA model to your data."
   ]
  },
  {
   "cell_type": "code",
   "execution_count": 150,
   "id": "405bd00b-6000-4c9d-aeb2-ec857a297d78",
   "metadata": {},
   "outputs": [],
   "source": []
  },
  {
   "cell_type": "markdown",
   "id": "0e9a7a80-37cc-4c03-a2cc-ae40b5f1b717",
   "metadata": {},
   "source": [
    "Plot the data!  What has changed?"
   ]
  },
  {
   "cell_type": "code",
   "execution_count": null,
   "id": "a7bcad0f-9a20-4a9a-9297-c21de276c03a",
   "metadata": {},
   "outputs": [],
   "source": []
  },
  {
   "cell_type": "markdown",
   "id": "2289dc7f-b940-41db-9db8-5f1b92604663",
   "metadata": {},
   "source": [
    "**2. Removing Artifacts**\n",
    "\n",
    "Try it again, this time removing both the noise and triangle wave from the data."
   ]
  },
  {
   "cell_type": "markdown",
   "id": "3b0d6a71-955a-4df1-80ec-5820f43b8a21",
   "metadata": {},
   "source": []
  },
  {
   "cell_type": "code",
   "execution_count": null,
   "id": "fdcf7cfd-4d00-4e3c-8ddb-ce381f844281",
   "metadata": {},
   "outputs": [],
   "source": []
  },
  {
   "cell_type": "markdown",
   "id": "5a8c6644-61d7-4049-a5d1-c465fda3dff9",
   "metadata": {},
   "source": [
    "## Further Reading\n",
    "\n",
    "  - MNE Tutorial on ICA Artifact Repairs: https://mne.tools/stable/auto_tutorials/preprocessing/40_artifact_correction_ica.html"
   ]
  },
  {
   "cell_type": "code",
   "execution_count": null,
   "id": "a948da1e-36b4-446f-8362-0b2a892e27d9",
   "metadata": {},
   "outputs": [],
   "source": []
  }
 ],
 "metadata": {
  "kernelspec": {
   "display_name": "Python 3.10.4 ('py10')",
   "language": "python",
   "name": "python3"
  },
  "language_info": {
   "codemirror_mode": {
    "name": "ipython",
    "version": 3
   },
   "file_extension": ".py",
   "mimetype": "text/x-python",
   "name": "python",
   "nbconvert_exporter": "python",
   "pygments_lexer": "ipython3",
   "version": "3.10.4"
  },
  "vscode": {
   "interpreter": {
    "hash": "d6852d01271bf8033dbdb7ec364b6f6e89fd52a18c6bf5b4c73e48c86329a8dd"
   }
  }
 },
 "nbformat": 4,
 "nbformat_minor": 5
}
