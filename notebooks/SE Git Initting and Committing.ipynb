{
 "cells": [
  {
   "cell_type": "markdown",
   "id": "798e5147-e05f-45d0-8452-6c6f93fc7ad7",
   "metadata": {},
   "source": [
    "# Git Basics: Creating Git Repos and Committing Changes to Version Control\n",
    "\n",
    "Git is a version control system; when added to a project folder *(\"initializing a repository\")*, it has commands that let you add files to be tracked *(\"staging a file\")*, and save a snapshot of your project in a moment in time *(\"committing a change\")*.  You can always ask Git what the current state of that process is *(\"check git's status\")*, and what the history of the project looks like *(\"check git's log\")*.  \n",
    "\n",
    "In this first section, we'll practice the cycle of changing a file, adding it to the list of changes to be committed, and committing it.  We'll get practice with doing it in the terminal and in a VSCode-like IDE. \n",
    "\n",
    "![image.png](imgs/git_cycle.png)\n",
    "\n",
    "\n",
    "## Terminal Commands\n",
    "\n",
    "  - **`git status`**: Checks what changes are detected by git, what changes are ready to be committed. Used all the time!\n",
    "  - **`git init`**: Creates a new git repository. Used only once, at the beginning of a project.\n",
    "  - **`git add afile.txt`**: Adds a file and its changes to be committed. Done before every commit\n",
    "    - **`git add *`**: Shortcut: Adds all files in the project to be committed.\n",
    "  - **`git commit -m \"my commit message\"`**: Makes a commit with all added files' changes.\n",
    "    - **`git commit -am \"my commit message\"`**: Shortcut: Adds all and Commits, in one step.\n",
    "  - **`git log`**: Checks the log of all past commits.  **To exit the log, press the `q` key.**\n",
    "    - **`git log -1`**: Shortcut, only shows the last one commit.\n",
    "  - **`git diff`**: Compares the files now to the previous commit, showing any differences.\n",
    "  - **`ls -la` or `ll` or `dir`**: Print all the files in the current folder.  Command depends on operating system.\n",
    "  - **`git config --global user.name \"My name\"`**: Tell git which name to sign your commits with (only need to do this the first time git is installed)\n",
    "  - **`git config --global user.email \"myemail@email.com@`**: Tell git which email to sign your commits with (only need to do this the first time git is installed)\n",
    "  \n"
   ]
  },
  {
   "cell_type": "markdown",
   "id": "be714a98-19a3-4893-bf6e-d4141259a5fd",
   "metadata": {},
   "source": [
    "## Exercise\n",
    "\n",
    "Let's create a git repository and make a few commits, observing how git's status changes along the way.  Follow the sequence below, using the commands in the reference above.\n",
    "\n",
    "**Sequence**"
   ]
  },
  {
   "cell_type": "markdown",
   "id": "0bb10c05-c0e6-46d0-b8e6-bc2f0fc07a2b",
   "metadata": {},
   "source": [
    "1: Create a new project, and create a file called README.md.  "
   ]
  },
  {
   "cell_type": "markdown",
   "id": "52abf9d8-e91c-4c5d-8f23-8b852d2148f7",
   "metadata": {},
   "source": [
    "*Check git's status for the repository.  Is the readme file being tracked by git yet?*"
   ]
  },
  {
   "cell_type": "markdown",
   "id": "87700f53-f938-482c-bc98-d2e4d898a074",
   "metadata": {},
   "source": [
    "2: Use the `ls -la` (mac, linux) or `ll` (ubuntu) command to list all files and folders, including hidden folders.  Make sure you see the readme file in this list.  Are there any files/folders besides the readme file in this project folder?"
   ]
  },
  {
   "cell_type": "markdown",
   "id": "b556fdee-b963-4f3c-889b-b6da11185caa",
   "metadata": {},
   "source": [
    "3: Initialize a new git repo in the project folder, then list the files again.  Are there anything new here?"
   ]
  },
  {
   "cell_type": "markdown",
   "id": "0de39f88-8cac-4b84-ade5-22fa75fbcd7b",
   "metadata": {},
   "source": [
    "*Check git's status for the repository.  Is the readme file being tracked by git yet?*"
   ]
  },
  {
   "cell_type": "markdown",
   "id": "e5676ecb-18cf-4387-92f8-6615153438d7",
   "metadata": {},
   "source": [
    "**Current State**: At this point, you have initialized a new git repository.  There aren't any commits in it yet, and no files are being tracked, but it's a start!"
   ]
  },
  {
   "cell_type": "markdown",
   "id": "08c0dbd0-037e-4ab8-b73d-d0759789d151",
   "metadata": {},
   "source": [
    "4: Add the readme file to git's tracking, including its data in the next commit."
   ]
  },
  {
   "cell_type": "markdown",
   "id": "6059500b-d1f9-4a11-97a1-a328f58aa558",
   "metadata": {},
   "source": [
    "*Check git's status for the repository.  Is the readme file being tracked by git yet?*"
   ]
  },
  {
   "cell_type": "markdown",
   "id": "c2bcf3bd-d738-4f22-8568-e6b86d5d8d13",
   "metadata": {},
   "source": [
    "5: Make a commit, using the message \"created readme file\""
   ]
  },
  {
   "cell_type": "markdown",
   "id": "4bec660c-4d78-4cb9-a520-64bfd2cfc8aa",
   "metadata": {},
   "source": [
    "*Check git's status for the repository.  Is the readme file being tracked by git yet?*"
   ]
  },
  {
   "cell_type": "markdown",
   "id": "984c2c3e-74f0-47d5-b9db-b2bcf714f8c5",
   "metadata": {},
   "source": [
    "**Current State**: At this point, you've made your first commit!  In addition, whenever you type `git status`, any differences git notices in that Readme file will automatically be displayed."
   ]
  },
  {
   "cell_type": "markdown",
   "id": "07773d16-dda6-40cf-ac76-ef0b9940b9d9",
   "metadata": {},
   "source": [
    "6: Make a change to the readme file, then ask git what the differences are between the current project and the project in the last commit.  Do you see your changes in this list?"
   ]
  },
  {
   "cell_type": "markdown",
   "id": "dd666324-27e4-41b3-ada8-9a7048bb6a33",
   "metadata": {},
   "source": [
    "*Check git's status for the repository.  Is the readme file's changes being tracked by git yet?*"
   ]
  },
  {
   "cell_type": "markdown",
   "id": "0e46afb7-94c4-42b3-a3fd-0990b7c0929d",
   "metadata": {},
   "source": [
    "7: Make a commit, using the message \"changed readme file\""
   ]
  },
  {
   "cell_type": "markdown",
   "id": "f4f40771-22ca-4ba6-8786-1bb5d3efa915",
   "metadata": {},
   "source": [
    "*Check git's status for the repository.  Is the readme file's changes being tracked by git yet?*"
   ]
  },
  {
   "cell_type": "markdown",
   "id": "fd5a6f0b-f9fa-42ad-8723-9a6b6d2ba905",
   "metadata": {},
   "source": [
    "8: Look at git's log, and check the messages.  Do you see all of your commits in this list?"
   ]
  },
  {
   "cell_type": "markdown",
   "id": "84c94c42-b993-419a-8d10-6c3b9925c7bd",
   "metadata": {},
   "source": [
    "**Current State**: Now you've started to build a history of changes in the file!  Every commit will be stored in the log.  In the next exercise, we'll use this log to go back to those previous versions."
   ]
  },
  {
   "cell_type": "markdown",
   "id": "95c7cb28-0643-4c1f-a4f1-cfb303262a7d",
   "metadata": {},
   "source": [
    "9: Create a new file called **main.py**, and write in the python code for printing hello world.  "
   ]
  },
  {
   "cell_type": "markdown",
   "id": "f1799839-6eef-4225-bb58-49faa84070b1",
   "metadata": {},
   "source": [
    "10: In your Readme file, add the line \"To run the code in this project, type `python main.py`"
   ]
  },
  {
   "cell_type": "markdown",
   "id": "6ee5363b-764f-4098-866a-4b4982c97280",
   "metadata": {},
   "source": [
    "*Check git's status for the repository.  Is the main.py file's changes being tracked by git yet?*"
   ]
  },
  {
   "cell_type": "markdown",
   "id": "67bbc49f-cb58-44b1-a41d-6393bde2652a",
   "metadata": {},
   "source": [
    "11: Add both the python file and the readme file to git for the next commit, and check if git's status message shows it is ready to be added.  "
   ]
  },
  {
   "cell_type": "markdown",
   "id": "158a3678-7304-4608-be58-ba118896e951",
   "metadata": {},
   "source": [
    "12: Make a commit, with the message \"added main.py\""
   ]
  },
  {
   "cell_type": "markdown",
   "id": "43604aad-e84e-4cb4-86b3-321bc192bec6",
   "metadata": {},
   "source": [
    "**Current State**: At this point, you have multiple files being tracked by git.  Changes to multiple files can be simultaneously committed, which is valuable when you make changes that rely on each other!"
   ]
  },
  {
   "cell_type": "markdown",
   "id": "73433f63-858b-4569-b5b8-4f6cc81f496d",
   "metadata": {},
   "source": [
    "Make some more commits, this time using the graphical interface.  For every command, there should be a button that relates to it--add, commit, etc."
   ]
  },
  {
   "cell_type": "code",
   "execution_count": null,
   "id": "980c4485-a30c-4258-b6f0-d05c85568587",
   "metadata": {},
   "outputs": [],
   "source": []
  }
 ],
 "metadata": {
  "kernelspec": {
   "display_name": "Python 3.10.4 ('py10')",
   "language": "python",
   "name": "python3"
  },
  "language_info": {
   "codemirror_mode": {
    "name": "ipython",
    "version": 3
   },
   "file_extension": ".py",
   "mimetype": "text/x-python",
   "name": "python",
   "nbconvert_exporter": "python",
   "pygments_lexer": "ipython3",
   "version": "3.10.4"
  },
  "vscode": {
   "interpreter": {
    "hash": "d6852d01271bf8033dbdb7ec364b6f6e89fd52a18c6bf5b4c73e48c86329a8dd"
   }
  }
 },
 "nbformat": 4,
 "nbformat_minor": 5
}
