{
 "cells": [
  {
   "cell_type": "markdown",
   "id": "c3df42d5-e8e0-42e1-a436-324dc68d0806",
   "metadata": {},
   "source": [
    "# Git Basics: Going Back in Time, Creating and Managing Git Branches\n",
    "\n",
    "What good is version control software, if you can't go back to different versions of your repository?  In this section, we'll talk about git's model of the timeline *(\"branches of commits\")* and how it labels the currently-active commit *(\"the HEAD\")*.  We'll move the head to different commits *(\"checking-out\" a commit)*, add multiple timelines to the project *(\"branching\")*, and merge the changes from those different timelines together back into a single timeline *(\"merging branches\")*.\n",
    "\n",
    "\n",
    "![git-branches](imgs/git-branches.png)\n",
    "\n",
    "## Terminal Commands\n",
    "\n",
    "  - **`git branch`**: Display the list of names of branches in this repository\n",
    "  - **`git branch newbranchname`**: Create a new branch with \"newbranchname\" at the current commit\n",
    "  - **`git branch -d branchname`**: Delete a branch\n",
    "  - **`git log`**: Checks the log of all past commits.  **To exit the log, press the `q` key.**\n",
    "    - **`git log -1`**: Shortcut, only shows the last one commit.\n",
    "  - **`git checkout branchname`**: Make your workspace match the commit at branchname.  \n",
    "  - **`git checkout HEAD~1`**: Make your workspace match the commit one step back in time.\n",
    "  - **`git merge branchname`**: Merges branchname into the current branch"
   ]
  },
  {
   "cell_type": "markdown",
   "id": "391f2a14-9bbc-4f9f-b508-ac51fbd7cd70",
   "metadata": {},
   "source": [
    "## Exercise\n",
    "\n",
    "Building off the Git repository we created in the last exercise, let's checkout different commits in the log, create new branches with new changes, and merge them together.  By the end, we'll even recover from deleting a whole file by going back in time to before the file was deleted!\n",
    "\n",
    "**Sequence**"
   ]
  },
  {
   "cell_type": "markdown",
   "id": "60bb993c-2605-4758-87fb-bfde5530ef5d",
   "metadata": {},
   "source": [
    "<span style=\"color:darkblue\">**Current State**: At this point, you should have a Readme file and a main.py Python file, with a few commits created.</span>"
   ]
  },
  {
   "cell_type": "markdown",
   "id": "5ec7bebb-ea1d-496f-b7fb-ddca8f27c6cd",
   "metadata": {},
   "source": [
    "1: What branch names are there in your repository?"
   ]
  },
  {
   "cell_type": "markdown",
   "id": "419dc697-25f7-405f-988c-6064d482b367",
   "metadata": {},
   "source": [
    "2: Create a new branch called \"temporary\", then check the list of branches.  Which branch are you currently working on?"
   ]
  },
  {
   "cell_type": "markdown",
   "id": "c9315f81-22d4-4209-bd76-0687e8236cbb",
   "metadata": {},
   "source": [
    "3: Check the log.  Which commit is the HEAD pointed at?  Are the ends of any branches there as well?"
   ]
  },
  {
   "cell_type": "markdown",
   "id": "e7db3856-2485-4eea-83a2-f797f15c998e",
   "metadata": {},
   "source": [
    "4: Checkout the \"temporary\" branch, then look at the list of branches.  Which branch are you currently working on?"
   ]
  },
  {
   "cell_type": "markdown",
   "id": "d26e5330-fc63-4a35-b5cc-5388b9f29386",
   "metadata": {},
   "source": [
    "<span style=\"color:darkblue\">**Current State**: We now have two branches, \"master/main\" and \"temporary\".  Their names don't mean anything, nor do the fact that they are branched, because they are all currently set at the same exact commit in our project.  Let's change that by making a commit!</span>"
   ]
  },
  {
   "cell_type": "markdown",
   "id": "509ca282-7368-4415-972e-f98c9af9f42c",
   "metadata": {},
   "source": [
    "5: Delete the **main.py** file, add the changes, then commit the change with the message \"deleted python file\".  Check the status and the log and verify the change was committed"
   ]
  },
  {
   "cell_type": "markdown",
   "id": "cd23957b-2176-4671-939f-8465121c6180",
   "metadata": {},
   "source": [
    "6: Take a look at your log.  What commit is the HEAD at?  What commit is the end of the \"temporary\" branch at?  What commit is the end of the \"master\" branch at?"
   ]
  },
  {
   "cell_type": "markdown",
   "id": "61330843-7c68-4324-816f-11d64977d8fa",
   "metadata": {},
   "source": [
    "<span style=\"color:darkblue\">**Current State**: Now our branches end at different commits, with the currently-active one moving along with the head and the unactive one staying in place.</span>"
   ]
  },
  {
   "cell_type": "markdown",
   "id": "81bfcb4a-1df9-4c1e-84d9-1800e2316fab",
   "metadata": {},
   "source": [
    "7: Checkout the master branch, then check the log.  Where is the HEAD now?  Do you see any differences in your files/folders?  "
   ]
  },
  {
   "cell_type": "markdown",
   "id": "ebfba3f1-c649-4f24-8682-f4df5a83e21c",
   "metadata": {},
   "source": [
    "8: Checkout the \"temporary\" branch, then check the log. Where is the HEAD now? Do you see any differences in your files/folders?"
   ]
  },
  {
   "cell_type": "markdown",
   "id": "bc6788b0-12c3-4139-8b53-60d35f0c39cc",
   "metadata": {},
   "source": [
    "9: *Discussion*: What is the \"checkout\" command doing?"
   ]
  },
  {
   "cell_type": "markdown",
   "id": "a6f241b9-0d1d-4649-af98-376afdb28ab8",
   "metadata": {},
   "source": [
    "<span style=\"color:darkblue\">**Current State**: Thanks to our named branches, we can now go back and forth between two versions of our project just be checking out the branch!</span>"
   ]
  },
  {
   "cell_type": "markdown",
   "id": "8ff01a2e-63a9-471f-8824-0605f3d9f346",
   "metadata": {},
   "source": [
    "10: Let's merge the two branches, bringing the changes from one branch into the other.  Merge the \"temporary\" branch into the \"master\" branch.  *(Note: you must be currently on the branch that you want to change)*.  Check the log, are the ends of the two branches at the same commit?  Check the files.  Are they as you expect them to be?"
   ]
  },
  {
   "cell_type": "markdown",
   "id": "b9305b5d-6000-4397-9e37-2b8e686c29de",
   "metadata": {},
   "source": [
    "11: Now that the two branches are basically the same, let's delete one of them.  Delete the temporary branch, then confirm that it's gone."
   ]
  },
  {
   "cell_type": "markdown",
   "id": "4d77ab0a-959a-46a9-a50b-12efcd7d4d0e",
   "metadata": {},
   "source": [
    "<span style=\"color:darkblue\">**Current State**: Now we should only have one branch left, the \"master/main\" branch, and the HEAD should be at the most recent commit.  Does this mean that we can no longer go back in time?  No, the HEAD can still be checked out to any commit."
   ]
  },
  {
   "cell_type": "markdown",
   "id": "39f2b7a5-25b7-4fd2-9b7d-e4442319b7c1",
   "metadata": {},
   "source": [
    "12 (extra). Oops, I forgot to mention that we actually wanted that main.py file, we just wanted it called \"run.py\" :-D .  Let's move the HEAD back a commit and copy-paste it (don't delete it) to a new file called run.py.  Check the status; no changes to existing files should be registered.  Then go back to the end of the master branch, add the run.py file, and commit it!"
   ]
  },
  {
   "cell_type": "markdown",
   "id": "a91bd154-1579-490a-91d5-3af358c0811d",
   "metadata": {},
   "source": [
    "13 (extra).  What if we want to go back to the very first commit?  The most useful thing here is to get the commit's unique \"hash\", that complex string of letters and numbers.  You don't need the whole thing; just copy the first six letters or so, then checkout to that hash.  Git will go straight to the commit!"
   ]
  },
  {
   "cell_type": "markdown",
   "id": "0f93ad0a-b8b6-4808-aa3e-c6a269a16a4e",
   "metadata": {},
   "source": [
    "14: Once you're done exploring the history, checkout the master branch so you're looking at the most recent commit"
   ]
  },
  {
   "cell_type": "markdown",
   "id": "c66b93aa-7ef9-4397-8a6e-dd7fbca29f0d",
   "metadata": {},
   "source": [
    "<span style=\"color:darkblue\">**Current State**: We have one branch, a new **run.py** file, and we're looking at the most recent commit.</span>"
   ]
  },
  {
   "cell_type": "code",
   "execution_count": null,
   "id": "ac050fac-b8d0-4a8e-a131-99acd5fc0943",
   "metadata": {},
   "outputs": [],
   "source": []
  }
 ],
 "metadata": {
  "kernelspec": {
   "display_name": "Python 3.10.4 ('py10')",
   "language": "python",
   "name": "python3"
  },
  "language_info": {
   "codemirror_mode": {
    "name": "ipython",
    "version": 3
   },
   "file_extension": ".py",
   "mimetype": "text/x-python",
   "name": "python",
   "nbconvert_exporter": "python",
   "pygments_lexer": "ipython3",
   "version": "3.10.4"
  },
  "vscode": {
   "interpreter": {
    "hash": "d6852d01271bf8033dbdb7ec364b6f6e89fd52a18c6bf5b4c73e48c86329a8dd"
   }
  }
 },
 "nbformat": 4,
 "nbformat_minor": 5
}
