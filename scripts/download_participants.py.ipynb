{
 "cells": [
  {
   "cell_type": "code",
   "execution_count": 10,
   "id": "4da38ded",
   "metadata": {},
   "outputs": [],
   "source": [
    "import zoom_api\n",
    "from pathlib import Path"
   ]
  },
  {
   "cell_type": "markdown",
   "id": "5332f19e",
   "metadata": {},
   "outputs": [],
   "source": [
    "## Download Participants"
   ]
  },
  {
   "cell_type": "markdown",
   "id": "cd535240",
   "metadata": {},
   "outputs": [],
   "source": [
    "### Get Zoom Authorization Token\n",
    "\n",
    "Note: Don't print"
   ]
  },
  {
   "cell_type": "code",
   "execution_count": 8,
   "id": "1317bdde",
   "metadata": {},
   "outputs": [],
   "source": [
    "creds = zoom_api.Credentials.from_environment_variables()\n",
    "oauth = zoom_api.get_server2server_oauth(\n",
    "    account_id=creds.zoom_account_id,\n",
    "    client_id=creds.zoom_client_id,\n",
    "    client_secret=creds.zoom_client_secret,\n",
    ")\n",
    "token = oauth['access_token']\n",
    "assert token"
   ]
  },
  {
   "cell_type": "markdown",
   "id": "f2853f58",
   "metadata": {},
   "outputs": [],
   "source": [
    "### Get Parts for Meetings with Registration"
   ]
  },
  {
   "cell_type": "code",
   "execution_count": 11,
   "id": "9baf25f8",
   "metadata": {},
   "outputs": [],
   "source": [
    "from snakemake.io import glob_wildcards"
   ]
  },
  {
   "cell_type": "code",
   "execution_count": 13,
   "id": "eff629e4",
   "metadata": {},
   "outputs": [],
   "source": [
    "meeting_ids, = glob_wildcards('data/registrations/registrations_for_meeting_{meeting_id}.json')\n",
    "meeting_ids"
   ]
  },
  {
   "cell_type": "markdown",
   "id": "30bd7cfe",
   "metadata": {},
   "outputs": [],
   "source": [
    "Need the uuid for the meeting, so let's go searching for it."
   ]
  },
  {
   "cell_type": "code",
   "execution_count": 14,
   "id": "ccfb53fb",
   "metadata": {},
   "outputs": [],
   "source": []
  },
  {
   "cell_type": "code",
   "execution_count": null,
   "id": "71d7b3db",
   "metadata": {},
   "outputs": [],
   "source": [
    "def list_participants(token, from_date, to_date) -> Iterator[pd.DataFrame]:\n",
    "    user_df = pd.DataFrame(zoom_api.list_users(token=token))\n",
    "    owner_id = user_df[user_df.role_id == '0'].iloc[-1].id\n",
    "    meetings = zoom_api.list_past_meeting_sessions(token=token, user_id=owner_id, from_=from_date, to=to_date)\n",
    "\n",
    "    for meeting in meetings:\n",
    "        events = pd.DataFrame(zoom_api.get_meeting_participant_events(token=token, meeting_id=meeting['uuid']))\n",
    "        for key, value in meeting.items():\n",
    "            events['meeting_' + key] = value\n",
    "        yield events"
   ]
  },
  {
   "cell_type": "code",
   "execution_count": 9,
   "id": "1b05eb24",
   "metadata": {},
   "outputs": [],
   "source": [
    "list_participants(\n",
    "    token=token, \n",
    "    from_date='2022-10-24', \n",
    "    to_date=datetime.today().strftime(\"%Y-%m-%d\"),\n",
    ")"
   ]
  },
  {
   "cell_type": "code",
   "execution_count": null,
   "id": "d38f2ba4",
   "metadata": {},
   "outputs": [],
   "source": [
    "['tok']"
   ]
  }
 ],
 "metadata": {
  "kernelspec": {
   "display_name": "Python 3 (ipykernel)",
   "language": "python",
   "name": "python3"
  },
  "language_info": {
   "codemirror_mode": {
    "name": "ipython",
    "version": 3
   },
   "file_extension": ".py",
   "mimetype": "text/x-python",
   "name": "python",
   "nbconvert_exporter": "python",
   "pygments_lexer": "ipython3",
   "version": "3.10.4"
  }
 },
 "nbformat": 4,
 "nbformat_minor": 5
}
