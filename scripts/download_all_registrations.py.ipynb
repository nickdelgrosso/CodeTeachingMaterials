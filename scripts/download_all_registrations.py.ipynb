{
 "cells": [
  {
   "cell_type": "code",
   "execution_count": 3,
   "id": "24487f21",
   "metadata": {},
   "outputs": [],
   "source": [
    "import zoom_api\n",
    "from pathlib import Path\n",
    "import json"
   ]
  },
  {
   "cell_type": "markdown",
   "id": "3b26c39f",
   "metadata": {},
   "source": [
    "## Get Authentication Token\n",
    "\n",
    "Note: Don't print this"
   ]
  },
  {
   "cell_type": "code",
   "execution_count": 4,
   "id": "5f10aa37",
   "metadata": {},
   "outputs": [],
   "source": [
    "credentials = zoom_api.Credentials.from_environment_variables()\n",
    "oauth = credentials.get_oauth()\n",
    "token = oauth[\"access_token\"]\n",
    "assert token"
   ]
  },
  {
   "cell_type": "markdown",
   "id": "6db26870",
   "metadata": {},
   "source": [
    "## Get Meetings"
   ]
  },
  {
   "cell_type": "code",
   "execution_count": 5,
   "id": "cbcec252",
   "metadata": {},
   "outputs": [],
   "source": [
    "meetings = [json.loads(path.read_text()) for path in Path('data/meetings').glob('*.json')]\n",
    "len(meetings)"
   ]
  },
  {
   "cell_type": "markdown",
   "id": "07d184e1",
   "metadata": {},
   "source": [
    "### Filter out unique meetings\n",
    "\n",
    "Some \"meetings\" have multiple sessions, but they share the same id number (for example, if someone registers for a 5-session python course).  No need to look up for the registrations for every single session, so let's just keep the set of ids already used."
   ]
  },
  {
   "cell_type": "code",
   "execution_count": 6,
   "id": "ed8e3e62",
   "metadata": {},
   "outputs": [],
   "source": [
    "print(f\"\"\"\n",
    "Unique IDs: {len(set(map(lambda d: d['id'], meetings)))}\n",
    "Total Meetings: {len(meetings)}\n",
    "\"\"\")"
   ]
  },
  {
   "cell_type": "code",
   "execution_count": 8,
   "id": "07ada12c",
   "metadata": {},
   "outputs": [],
   "source": [
    "from zoom_api import meeting_type_is, MeetingType\n",
    "class_types = {MeetingType.RecurringFixedTime, MeetingType.RecurringNoFixedTime, MeetingType.Scheduled}\n",
    "unique_meetings = list({m['id']: m for m in meetings if meeting_type_is(m, *class_types)}.values())\n",
    "len(unique_meetings)"
   ]
  },
  {
   "cell_type": "markdown",
   "id": "45fc62a9",
   "metadata": {},
   "source": [
    "## Get Registrants for Each Meeting"
   ]
  },
  {
   "cell_type": "code",
   "execution_count": null,
   "id": "3c9a9766",
   "metadata": {},
   "outputs": [],
   "source": [
    "meeting = unique_meetings[1]\n",
    "meeting.keys()"
   ]
  },
  {
   "cell_type": "code",
   "execution_count": 15,
   "id": "f95cd1ad",
   "metadata": {},
   "outputs": [],
   "source": [
    "all_meeting_regs = {}\n",
    "for meeting in unique_meetings:\n",
    "    try:\n",
    "        regs = zoom_api.list_registrants(token=token, meeting_id=meeting['id'])\n",
    "        all_meeting_regs[meeting['id']] = regs\n",
    "    except ValueError as exc:\n",
    "        if 'Registration has not been enabled' in str(exc):\n",
    "            pass\n",
    "        else:\n",
    "            raise exc\n",
    "len(all_meeting_regs)"
   ]
  },
  {
   "cell_type": "markdown",
   "id": "23d1a2dd",
   "metadata": {},
   "source": [
    "## Save Registration Data"
   ]
  },
  {
   "cell_type": "code",
   "execution_count": 26,
   "id": "f196535e",
   "metadata": {},
   "outputs": [],
   "source": [
    "\n",
    "folder = Path('data/registrations')\n",
    "folder.mkdir(exist_ok=True, parents=True)\n",
    "for meeting_id, registrations in all_meeting_regs.items():\n",
    "    (folder / (f'registrations_for_meeting_{meeting_id}.json')).write_text(json.dumps(registrations, indent=4))\n",
    "    \n",
    "    "
   ]
  },
  {
   "cell_type": "markdown",
   "id": "026b4242",
   "metadata": {},
   "source": [
    "## Confirm Done"
   ]
  },
  {
   "cell_type": "code",
   "execution_count": 29,
   "id": "e6499cff",
   "metadata": {},
   "outputs": [],
   "source": [
    "done_flag_filename = snakemake.output[0]\n",
    "done_flag_filename"
   ]
  },
  {
   "cell_type": "code",
   "execution_count": 30,
   "id": "d741af5a",
   "metadata": {},
   "outputs": [],
   "source": [
    "Path(done_flag_filename).touch(exist_ok=True)"
   ]
  }
 ],
 "metadata": {
  "kernelspec": {
   "display_name": "Python 3 (ipykernel)",
   "language": "python",
   "name": "python3"
  },
  "language_info": {
   "codemirror_mode": {
    "name": "ipython",
    "version": 3
   },
   "file_extension": ".py",
   "mimetype": "text/x-python",
   "name": "python",
   "nbconvert_exporter": "python",
   "pygments_lexer": "ipython3",
   "version": "3.10.4"
  },
  "vscode": {
   "interpreter": {
    "hash": "d6852d01271bf8033dbdb7ec364b6f6e89fd52a18c6bf5b4c73e48c86329a8dd"
   }
  }
 },
 "nbformat": 4,
 "nbformat_minor": 5
}
