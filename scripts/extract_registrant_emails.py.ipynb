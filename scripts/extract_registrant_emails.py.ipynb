{
 "cells": [
  {
   "cell_type": "code",
   "execution_count": 2,
   "id": "f8c16c92",
   "metadata": {},
   "outputs": [],
   "source": [
    "from pathlib import Path\n",
    "import json\n",
    "from utils.email import to_mailbox"
   ]
  },
  {
   "cell_type": "code",
   "execution_count": 7,
   "id": "ca84eef9",
   "metadata": {},
   "outputs": [],
   "source": [
    "for filename in Path('data/registrations').glob('*.json'):\n",
    "    registrations = json.loads(filename.read_text())\n",
    "    meeting_id = int(str(filename.stem).split('_')[-1])\n",
    "    mailboxes = [to_mailbox(r['email'], r.get('first_name'), r.get('last_name')) for r in registrations]\n",
    "    savename = Path(f'data/registrant_emails/registrant_emails_for_meeting_{meeting_id}.txt')\n",
    "    savename.write_text('\\n'.join(mailboxes) + '\\n')\n"
   ]
  },
  {
   "cell_type": "markdown",
   "id": "315db60e",
   "metadata": {},
   "outputs": [],
   "source": [
    "### Confirm Done"
   ]
  },
  {
   "cell_type": "code",
   "execution_count": 13,
   "id": "7a4dd5f1",
   "metadata": {},
   "outputs": [],
   "source": [
    "Path(snakemake.output[0]).touch()"
   ]
  }
 ],
 "metadata": {
  "kernelspec": {
   "display_name": "Python 3 (ipykernel)",
   "language": "python",
   "name": "python3"
  },
  "language_info": {
   "codemirror_mode": {
    "name": "ipython",
    "version": 3
   },
   "file_extension": ".py",
   "mimetype": "text/x-python",
   "name": "python",
   "nbconvert_exporter": "python",
   "pygments_lexer": "ipython3",
   "version": "3.10.4"
  }
 },
 "nbformat": 4,
 "nbformat_minor": 5
}
