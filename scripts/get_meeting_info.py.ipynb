{
 "cells": [
  {
   "cell_type": "code",
   "execution_count": 11,
   "id": "aae13ff1",
   "metadata": {},
   "outputs": [],
   "source": [
    "from scripts import zoom_api\n",
    "import pandas as pd"
   ]
  },
  {
   "cell_type": "markdown",
   "id": "01a7542d",
   "metadata": {},
   "source": [
    "### Get Zoom Access Credentials\n",
    "\n",
    "**Warning**: Don't print the token!"
   ]
  },
  {
   "cell_type": "code",
   "execution_count": 37,
   "id": "441cd25e",
   "metadata": {},
   "outputs": [],
   "source": [
    "creds = zoom_api.Credentials.from_environment_variables()\n",
    "oauth = zoom_api.get_server2server_oauth(\n",
    "    account_id=creds.zoom_account_id,\n",
    "    client_id=creds.zoom_client_id,\n",
    "    client_secret=creds.zoom_client_secret,\n",
    ")\n",
    "token = oauth['access_token']\n",
    "assert token"
   ]
  },
  {
   "cell_type": "markdown",
   "id": "05e90a93",
   "metadata": {},
   "source": [
    "### Get Owner ID"
   ]
  },
  {
   "cell_type": "markdown",
   "id": "9e3d7fa4",
   "metadata": {},
   "source": [
    "Don't print it!"
   ]
  },
  {
   "cell_type": "code",
   "execution_count": 38,
   "id": "03dcd903",
   "metadata": {},
   "outputs": [],
   "source": [
    "owner_id = pd.DataFrame(zoom_api.list_users(token=token)).query('role_id == \"0\"').iloc[0].id\n",
    "assert owner_id"
   ]
  },
  {
   "cell_type": "markdown",
   "id": "57f7e25e",
   "metadata": {},
   "source": [
    "### Get Past Meetings"
   ]
  },
  {
   "cell_type": "code",
   "execution_count": 39,
   "id": "4aeb49b8",
   "metadata": {},
   "outputs": [],
   "source": [
    "from datetime import datetime, timedelta"
   ]
  },
  {
   "cell_type": "code",
   "execution_count": 40,
   "id": "850de764",
   "metadata": {},
   "outputs": [],
   "source": [
    "today = datetime.today()\n",
    "two_months_ago = today - timedelta(days=30)\n",
    "today, two_months_ago"
   ]
  },
  {
   "cell_type": "code",
   "execution_count": 41,
   "id": "0788b924",
   "metadata": {},
   "outputs": [],
   "source": [
    "two_months_ago.strftime(\"%Y-%m-%d\")"
   ]
  },
  {
   "cell_type": "code",
   "execution_count": 42,
   "id": "48b6b0bd",
   "metadata": {},
   "outputs": [],
   "source": [
    "today.strftime(\"%Y-%m-%d\")"
   ]
  },
  {
   "cell_type": "code",
   "execution_count": 44,
   "id": "2d87ad1d",
   "metadata": {},
   "outputs": [],
   "source": [
    "meeting_resp = zoom_api.list_past_meeting_sessions(\n",
    "    token=token, \n",
    "    user_id=owner_id, \n",
    "    from_=two_months_ago.strftime(\"%Y-%m-%d\"), \n",
    "    to=today.strftime(\"%Y-%m-%d\"),\n",
    ")\n",
    "len(meeting_resp)"
   ]
  },
  {
   "cell_type": "markdown",
   "id": "d9d6f8c0",
   "metadata": {},
   "source": [
    "### Export Each Meeting's Info"
   ]
  },
  {
   "cell_type": "code",
   "execution_count": 65,
   "id": "e97b6dc7",
   "metadata": {},
   "outputs": [],
   "source": [
    "def meeting_basename(meeting: dict) -> str:\n",
    "    \"Returns a basename for a file describing a meeting\"\n",
    "    import dateutil\n",
    "    template = \"meeting_{date}_{topic}_{id}\"\n",
    "    name = template.format(\n",
    "        date=dateutil.parser.parse(meeting['start_time']).strftime(\"%Y-%m-%d\"),\n",
    "        topic=meeting['topic'].replace(' ', '-'),\n",
    "        id=meeting['id'],\n",
    "    )\n",
    "    return name\n",
    "\n",
    "\n",
    "meeting_basename(meeting_resp[0])"
   ]
  },
  {
   "cell_type": "code",
   "execution_count": 66,
   "id": "a8855da7",
   "metadata": {},
   "outputs": [],
   "source": [
    "from pathlib import Path\n",
    "import json\n",
    "\n",
    "for meeting in meeting_resp:\n",
    "    filename = Path(f\"data/meetings/{meeting_basename(meeting)}.json\")\n",
    "    filename.parent.mkdir(parents=True, exist_ok=True)\n",
    "    if not filename.exists():\n",
    "        filename.write_text(json.dumps(meeting))\n",
    "        \n"
   ]
  },
  {
   "cell_type": "markdown",
   "id": "6357cce5",
   "metadata": {},
   "source": [
    "## Complete the Step \n",
    "\n",
    "### Export the Confirmation Flag File"
   ]
  },
  {
   "cell_type": "code",
   "execution_count": null,
   "id": "85f3d596",
   "metadata": {},
   "outputs": [],
   "source": [
    "template = \"data/access_dates/zoom_meetings_downloaded_%Y-%m-%d.flag\"\n",
    "filename = Path(today.strftime(template))\n",
    "filename.touch(exist_ok=True)\n",
    "assert filename.exists()\n",
    "filename"
   ]
  }
 ],
 "metadata": {
  "kernelspec": {
   "display_name": "Python 3 (ipykernel)",
   "language": "python",
   "name": "python3"
  },
  "language_info": {
   "codemirror_mode": {
    "name": "ipython",
    "version": 3
   },
   "file_extension": ".py",
   "mimetype": "text/x-python",
   "name": "python",
   "nbconvert_exporter": "python",
   "pygments_lexer": "ipython3",
   "version": "3.10.4 (main, Mar 31 2022, 08:41:55) [GCC 7.5.0]"
  },
  "vscode": {
   "interpreter": {
    "hash": "d6852d01271bf8033dbdb7ec364b6f6e89fd52a18c6bf5b4c73e48c86329a8dd"
   }
  }
 },
 "nbformat": 4,
 "nbformat_minor": 5
}
