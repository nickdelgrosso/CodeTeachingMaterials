{
 "cells": [
  {
   "cell_type": "code",
   "execution_count": 1,
   "metadata": {
    "execution": {
     "iopub.execute_input": "2020-04-27T15:32:08.502732Z",
     "iopub.status.busy": "2020-04-27T15:32:08.502732Z",
     "iopub.status.idle": "2020-04-27T15:32:08.723651Z",
     "shell.execute_reply": "2020-04-27T15:32:08.724651Z"
    },
    "papermill": {
     "duration": 0.231913,
     "end_time": "2020-04-27T15:32:08.724651",
     "exception": false,
     "start_time": "2020-04-27T15:32:08.492738",
     "status": "completed"
    },
    "tags": []
   },
   "outputs": [],
   "source": [
    "import numpy as np"
   ]
  },
  {
   "cell_type": "markdown",
   "metadata": {
    "papermill": {
     "duration": 0.004997,
     "end_time": "2020-04-27T15:32:08.734645",
     "exception": false,
     "start_time": "2020-04-27T15:32:08.729648",
     "status": "completed"
    },
    "tags": []
   },
   "source": [
    "## Generate Some Random Data"
   ]
  },
  {
   "cell_type": "markdown",
   "metadata": {
    "papermill": {
     "duration": 0.004997,
     "end_time": "2020-04-27T15:32:08.744639",
     "exception": false,
     "start_time": "2020-04-27T15:32:08.739642",
     "status": "completed"
    },
    "tags": []
   },
   "source": [
    "### Parameters"
   ]
  },
  {
   "cell_type": "code",
   "execution_count": 2,
   "metadata": {
    "execution": {
     "iopub.execute_input": "2020-04-27T15:32:08.760630Z",
     "iopub.status.busy": "2020-04-27T15:32:08.760630Z",
     "iopub.status.idle": "2020-04-27T15:32:08.762629Z",
     "shell.execute_reply": "2020-04-27T15:32:08.763628Z"
    },
    "papermill": {
     "duration": 0.013991,
     "end_time": "2020-04-27T15:32:08.763628",
     "exception": false,
     "start_time": "2020-04-27T15:32:08.749637",
     "status": "completed"
    },
    "tags": [
     "parameters"
    ]
   },
   "outputs": [],
   "source": [
    "output_filename = 'test.txt'"
   ]
  },
  {
   "cell_type": "code",
   "execution_count": 3,
   "metadata": {
    "execution": {
     "iopub.execute_input": "2020-04-27T15:32:08.778633Z",
     "iopub.status.busy": "2020-04-27T15:32:08.777634Z",
     "iopub.status.idle": "2020-04-27T15:32:08.786630Z",
     "shell.execute_reply": "2020-04-27T15:32:08.785630Z"
    },
    "papermill": {
     "duration": 0.018004,
     "end_time": "2020-04-27T15:32:08.786630",
     "exception": false,
     "start_time": "2020-04-27T15:32:08.768626",
     "status": "completed"
    },
    "tags": [
     "injected-parameters"
    ]
   },
   "outputs": [],
   "source": [
    "# Parameters\n",
    "output_filename = \"data/1.txt\"\n"
   ]
  },
  {
   "cell_type": "markdown",
   "metadata": {
    "papermill": {
     "duration": 0.004936,
     "end_time": "2020-04-27T15:32:08.796624",
     "exception": false,
     "start_time": "2020-04-27T15:32:08.791688",
     "status": "completed"
    },
    "tags": []
   },
   "source": [
    "### Generate data"
   ]
  },
  {
   "cell_type": "code",
   "execution_count": 4,
   "metadata": {
    "execution": {
     "iopub.execute_input": "2020-04-27T15:32:08.821609Z",
     "iopub.status.busy": "2020-04-27T15:32:08.820610Z",
     "iopub.status.idle": "2020-04-27T15:32:08.823609Z",
     "shell.execute_reply": "2020-04-27T15:32:08.824608Z"
    },
    "papermill": {
     "duration": 0.021988,
     "end_time": "2020-04-27T15:32:08.824608",
     "exception": false,
     "start_time": "2020-04-27T15:32:08.802620",
     "status": "completed"
    },
    "tags": []
   },
   "outputs": [
    {
     "data": {
      "text/plain": [
       "array([0.79330982, 0.07740804, 0.04261612, 0.48533218, 0.18147856,\n",
       "       0.66709167, 0.60105282, 0.98723179, 0.04042113, 0.63831019])"
      ]
     },
     "execution_count": 4,
     "metadata": {},
     "output_type": "execute_result"
    }
   ],
   "source": [
    "data = np.random.random(10)\n",
    "data"
   ]
  },
  {
   "cell_type": "markdown",
   "metadata": {
    "papermill": {
     "duration": 0.005996,
     "end_time": "2020-04-27T15:32:08.835601",
     "exception": false,
     "start_time": "2020-04-27T15:32:08.829605",
     "status": "completed"
    },
    "tags": []
   },
   "source": [
    "### Save to a file for later processing"
   ]
  },
  {
   "cell_type": "code",
   "execution_count": 5,
   "metadata": {
    "execution": {
     "iopub.execute_input": "2020-04-27T15:32:08.861586Z",
     "iopub.status.busy": "2020-04-27T15:32:08.861586Z",
     "iopub.status.idle": "2020-04-27T15:32:08.871689Z",
     "shell.execute_reply": "2020-04-27T15:32:08.870582Z"
    },
    "papermill": {
     "duration": 0.029092,
     "end_time": "2020-04-27T15:32:08.871689",
     "exception": false,
     "start_time": "2020-04-27T15:32:08.842597",
     "status": "completed"
    },
    "tags": []
   },
   "outputs": [],
   "source": [
    "np.savetxt(output_filename, data)"
   ]
  },
  {
   "cell_type": "code",
   "execution_count": null,
   "metadata": {
    "papermill": {
     "duration": 0.004997,
     "end_time": "2020-04-27T15:32:08.882575",
     "exception": false,
     "start_time": "2020-04-27T15:32:08.877578",
     "status": "completed"
    },
    "tags": []
   },
   "outputs": [],
   "source": []
  }
 ],
 "metadata": {
  "kernelspec": {
   "display_name": "Python 3",
   "language": "python",
   "name": "python3"
  },
  "language_info": {
   "codemirror_mode": {
    "name": "ipython",
    "version": 3
   },
   "file_extension": ".py",
   "mimetype": "text/x-python",
   "name": "python",
   "nbconvert_exporter": "python",
   "pygments_lexer": "ipython3",
   "version": "3.7.7"
  },
  "papermill": {
   "duration": 2.453495,
   "end_time": "2020-04-27T15:32:09.015632",
   "environment_variables": {},
   "exception": null,
   "input_path": "notebooks/workflow/generate_data.ipynb",
   "output_path": "reports/generate_data1.ipynb",
   "parameters": {
    "output_filename": "data/1.txt"
   },
   "start_time": "2020-04-27T15:32:06.562137",
   "version": "2.1.1"
  }
 },
 "nbformat": 4,
 "nbformat_minor": 4
}