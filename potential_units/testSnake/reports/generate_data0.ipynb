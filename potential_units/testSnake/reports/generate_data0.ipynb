{
 "cells": [
  {
   "cell_type": "code",
   "execution_count": 1,
   "metadata": {
    "execution": {
     "iopub.execute_input": "2020-04-27T15:32:12.497361Z",
     "iopub.status.busy": "2020-04-27T15:32:12.496353Z",
     "iopub.status.idle": "2020-04-27T15:32:12.605493Z",
     "shell.execute_reply": "2020-04-27T15:32:12.604493Z"
    },
    "papermill": {
     "duration": 0.117121,
     "end_time": "2020-04-27T15:32:12.605493",
     "exception": false,
     "start_time": "2020-04-27T15:32:12.488372",
     "status": "completed"
    },
    "tags": []
   },
   "outputs": [],
   "source": [
    "import numpy as np"
   ]
  },
  {
   "cell_type": "markdown",
   "metadata": {
    "papermill": {
     "duration": 0.004996,
     "end_time": "2020-04-27T15:32:12.616487",
     "exception": false,
     "start_time": "2020-04-27T15:32:12.611491",
     "status": "completed"
    },
    "tags": []
   },
   "source": [
    "## Generate Some Random Data"
   ]
  },
  {
   "cell_type": "markdown",
   "metadata": {
    "papermill": {
     "duration": 0.004996,
     "end_time": "2020-04-27T15:32:12.626481",
     "exception": false,
     "start_time": "2020-04-27T15:32:12.621485",
     "status": "completed"
    },
    "tags": []
   },
   "source": [
    "### Parameters"
   ]
  },
  {
   "cell_type": "code",
   "execution_count": 2,
   "metadata": {
    "execution": {
     "iopub.execute_input": "2020-04-27T15:32:12.639474Z",
     "iopub.status.busy": "2020-04-27T15:32:12.638474Z",
     "iopub.status.idle": "2020-04-27T15:32:12.641647Z",
     "shell.execute_reply": "2020-04-27T15:32:12.642472Z"
    },
    "papermill": {
     "duration": 0.011994,
     "end_time": "2020-04-27T15:32:12.642472",
     "exception": false,
     "start_time": "2020-04-27T15:32:12.630478",
     "status": "completed"
    },
    "tags": [
     "parameters"
    ]
   },
   "outputs": [],
   "source": [
    "output_filename = 'test.txt'"
   ]
  },
  {
   "cell_type": "code",
   "execution_count": 3,
   "metadata": {
    "execution": {
     "iopub.execute_input": "2020-04-27T15:32:12.654464Z",
     "iopub.status.busy": "2020-04-27T15:32:12.654464Z",
     "iopub.status.idle": "2020-04-27T15:32:12.657463Z",
     "shell.execute_reply": "2020-04-27T15:32:12.657463Z"
    },
    "papermill": {
     "duration": 0.009993,
     "end_time": "2020-04-27T15:32:12.657463",
     "exception": false,
     "start_time": "2020-04-27T15:32:12.647470",
     "status": "completed"
    },
    "tags": [
     "injected-parameters"
    ]
   },
   "outputs": [],
   "source": [
    "# Parameters\n",
    "output_filename = \"data/0.txt\"\n"
   ]
  },
  {
   "cell_type": "markdown",
   "metadata": {
    "papermill": {
     "duration": 0.004997,
     "end_time": "2020-04-27T15:32:12.667457",
     "exception": false,
     "start_time": "2020-04-27T15:32:12.662460",
     "status": "completed"
    },
    "tags": []
   },
   "source": [
    "### Generate data"
   ]
  },
  {
   "cell_type": "code",
   "execution_count": 4,
   "metadata": {
    "execution": {
     "iopub.execute_input": "2020-04-27T15:32:12.685892Z",
     "iopub.status.busy": "2020-04-27T15:32:12.685892Z",
     "iopub.status.idle": "2020-04-27T15:32:12.688900Z",
     "shell.execute_reply": "2020-04-27T15:32:12.688900Z"
    },
    "papermill": {
     "duration": 0.016921,
     "end_time": "2020-04-27T15:32:12.689890",
     "exception": false,
     "start_time": "2020-04-27T15:32:12.672969",
     "status": "completed"
    },
    "tags": []
   },
   "outputs": [
    {
     "data": {
      "text/plain": [
       "array([0.18618689, 0.99543102, 0.47868281, 0.23284188, 0.84771809,\n",
       "       0.37491152, 0.04010464, 0.12078581, 0.63188272, 0.25137771])"
      ]
     },
     "execution_count": 4,
     "metadata": {},
     "output_type": "execute_result"
    }
   ],
   "source": [
    "data = np.random.random(10)\n",
    "data"
   ]
  },
  {
   "cell_type": "markdown",
   "metadata": {
    "papermill": {
     "duration": 0.005996,
     "end_time": "2020-04-27T15:32:12.703670",
     "exception": false,
     "start_time": "2020-04-27T15:32:12.697674",
     "status": "completed"
    },
    "tags": []
   },
   "source": [
    "### Save to a file for later processing"
   ]
  },
  {
   "cell_type": "code",
   "execution_count": 5,
   "metadata": {
    "execution": {
     "iopub.execute_input": "2020-04-27T15:32:12.717666Z",
     "iopub.status.busy": "2020-04-27T15:32:12.717666Z",
     "iopub.status.idle": "2020-04-27T15:32:12.722663Z",
     "shell.execute_reply": "2020-04-27T15:32:12.723662Z"
    },
    "papermill": {
     "duration": 0.014995,
     "end_time": "2020-04-27T15:32:12.723662",
     "exception": false,
     "start_time": "2020-04-27T15:32:12.708667",
     "status": "completed"
    },
    "tags": []
   },
   "outputs": [],
   "source": [
    "np.savetxt(output_filename, data)"
   ]
  },
  {
   "cell_type": "code",
   "execution_count": null,
   "metadata": {
    "papermill": {
     "duration": 0.004997,
     "end_time": "2020-04-27T15:32:12.734656",
     "exception": false,
     "start_time": "2020-04-27T15:32:12.729659",
     "status": "completed"
    },
    "tags": []
   },
   "outputs": [],
   "source": []
  }
 ],
 "metadata": {
  "kernelspec": {
   "display_name": "Python 3",
   "language": "python",
   "name": "python3"
  },
  "language_info": {
   "codemirror_mode": {
    "name": "ipython",
    "version": 3
   },
   "file_extension": ".py",
   "mimetype": "text/x-python",
   "name": "python",
   "nbconvert_exporter": "python",
   "pygments_lexer": "ipython3",
   "version": "3.7.7"
  },
  "papermill": {
   "duration": 1.707014,
   "end_time": "2020-04-27T15:32:12.847704",
   "environment_variables": {},
   "exception": null,
   "input_path": "notebooks/workflow/generate_data.ipynb",
   "output_path": "reports/generate_data0.ipynb",
   "parameters": {
    "output_filename": "data/0.txt"
   },
   "start_time": "2020-04-27T15:32:11.140690",
   "version": "2.1.1"
  }
 },
 "nbformat": 4,
 "nbformat_minor": 4
}