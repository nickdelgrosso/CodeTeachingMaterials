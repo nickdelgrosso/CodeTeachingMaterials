{
 "cells": [
  {
   "cell_type": "code",
   "execution_count": 1,
   "metadata": {
    "execution": {
     "iopub.execute_input": "2020-04-27T15:32:08.588683Z",
     "iopub.status.busy": "2020-04-27T15:32:08.588683Z",
     "iopub.status.idle": "2020-04-27T15:32:08.916577Z",
     "shell.execute_reply": "2020-04-27T15:32:08.916577Z"
    },
    "papermill": {
     "duration": 0.335889,
     "end_time": "2020-04-27T15:32:08.916577",
     "exception": false,
     "start_time": "2020-04-27T15:32:08.580688",
     "status": "completed"
    },
    "tags": []
   },
   "outputs": [],
   "source": [
    "import numpy as np"
   ]
  },
  {
   "cell_type": "markdown",
   "metadata": {
    "papermill": {
     "duration": 0.004997,
     "end_time": "2020-04-27T15:32:08.926570",
     "exception": false,
     "start_time": "2020-04-27T15:32:08.921573",
     "status": "completed"
    },
    "tags": []
   },
   "source": [
    "## Generate Some Random Data"
   ]
  },
  {
   "cell_type": "markdown",
   "metadata": {
    "papermill": {
     "duration": 0.005998,
     "end_time": "2020-04-27T15:32:08.937566",
     "exception": false,
     "start_time": "2020-04-27T15:32:08.931568",
     "status": "completed"
    },
    "tags": []
   },
   "source": [
    "### Parameters"
   ]
  },
  {
   "cell_type": "code",
   "execution_count": 2,
   "metadata": {
    "execution": {
     "iopub.execute_input": "2020-04-27T15:32:08.950557Z",
     "iopub.status.busy": "2020-04-27T15:32:08.949557Z",
     "iopub.status.idle": "2020-04-27T15:32:08.952556Z",
     "shell.execute_reply": "2020-04-27T15:32:08.953555Z"
    },
    "papermill": {
     "duration": 0.010993,
     "end_time": "2020-04-27T15:32:08.953555",
     "exception": false,
     "start_time": "2020-04-27T15:32:08.942562",
     "status": "completed"
    },
    "tags": [
     "parameters"
    ]
   },
   "outputs": [],
   "source": [
    "output_filename = 'test.txt'"
   ]
  },
  {
   "cell_type": "code",
   "execution_count": 3,
   "metadata": {
    "execution": {
     "iopub.execute_input": "2020-04-27T15:32:08.967656Z",
     "iopub.status.busy": "2020-04-27T15:32:08.967656Z",
     "iopub.status.idle": "2020-04-27T15:32:08.970654Z",
     "shell.execute_reply": "2020-04-27T15:32:08.971686Z"
    },
    "papermill": {
     "duration": 0.014133,
     "end_time": "2020-04-27T15:32:08.971686",
     "exception": false,
     "start_time": "2020-04-27T15:32:08.957553",
     "status": "completed"
    },
    "tags": [
     "injected-parameters"
    ]
   },
   "outputs": [],
   "source": [
    "# Parameters\n",
    "output_filename = \"data/3.txt\"\n"
   ]
  },
  {
   "cell_type": "markdown",
   "metadata": {
    "papermill": {
     "duration": 0.005001,
     "end_time": "2020-04-27T15:32:08.981651",
     "exception": false,
     "start_time": "2020-04-27T15:32:08.976650",
     "status": "completed"
    },
    "tags": []
   },
   "source": [
    "### Generate data"
   ]
  },
  {
   "cell_type": "code",
   "execution_count": 4,
   "metadata": {
    "execution": {
     "iopub.execute_input": "2020-04-27T15:32:09.002639Z",
     "iopub.status.busy": "2020-04-27T15:32:09.001691Z",
     "iopub.status.idle": "2020-04-27T15:32:09.005638Z",
     "shell.execute_reply": "2020-04-27T15:32:09.006122Z"
    },
    "papermill": {
     "duration": 0.019474,
     "end_time": "2020-04-27T15:32:09.006122",
     "exception": false,
     "start_time": "2020-04-27T15:32:08.986648",
     "status": "completed"
    },
    "tags": []
   },
   "outputs": [
    {
     "data": {
      "text/plain": [
       "array([0.88525473, 0.99265153, 0.90230944, 0.44888407, 0.15454168,\n",
       "       0.23266942, 0.2473404 , 0.96636711, 0.50053628, 0.92516257])"
      ]
     },
     "execution_count": 4,
     "metadata": {},
     "output_type": "execute_result"
    }
   ],
   "source": [
    "data = np.random.random(10)\n",
    "data"
   ]
  },
  {
   "cell_type": "markdown",
   "metadata": {
    "papermill": {
     "duration": 0.007996,
     "end_time": "2020-04-27T15:32:09.020629",
     "exception": false,
     "start_time": "2020-04-27T15:32:09.012633",
     "status": "completed"
    },
    "tags": []
   },
   "source": [
    "### Save to a file for later processing"
   ]
  },
  {
   "cell_type": "code",
   "execution_count": 5,
   "metadata": {
    "execution": {
     "iopub.execute_input": "2020-04-27T15:32:09.036620Z",
     "iopub.status.busy": "2020-04-27T15:32:09.036620Z",
     "iopub.status.idle": "2020-04-27T15:32:09.044615Z",
     "shell.execute_reply": "2020-04-27T15:32:09.044615Z"
    },
    "papermill": {
     "duration": 0.01799,
     "end_time": "2020-04-27T15:32:09.044615",
     "exception": false,
     "start_time": "2020-04-27T15:32:09.026625",
     "status": "completed"
    },
    "tags": []
   },
   "outputs": [],
   "source": [
    "np.savetxt(output_filename, data)"
   ]
  },
  {
   "cell_type": "code",
   "execution_count": null,
   "metadata": {
    "papermill": {
     "duration": 0.004998,
     "end_time": "2020-04-27T15:32:09.055609",
     "exception": false,
     "start_time": "2020-04-27T15:32:09.050611",
     "status": "completed"
    },
    "tags": []
   },
   "outputs": [],
   "source": []
  }
 ],
 "metadata": {
  "kernelspec": {
   "display_name": "Python 3",
   "language": "python",
   "name": "python3"
  },
  "language_info": {
   "codemirror_mode": {
    "name": "ipython",
    "version": 3
   },
   "file_extension": ".py",
   "mimetype": "text/x-python",
   "name": "python",
   "nbconvert_exporter": "python",
   "pygments_lexer": "ipython3",
   "version": "3.7.7"
  },
  "papermill": {
   "duration": 2.561441,
   "end_time": "2020-04-27T15:32:09.177539",
   "environment_variables": {},
   "exception": null,
   "input_path": "notebooks/workflow/generate_data.ipynb",
   "output_path": "reports/generate_data3.ipynb",
   "parameters": {
    "output_filename": "data/3.txt"
   },
   "start_time": "2020-04-27T15:32:06.616098",
   "version": "2.1.1"
  }
 },
 "nbformat": 4,
 "nbformat_minor": 4
}