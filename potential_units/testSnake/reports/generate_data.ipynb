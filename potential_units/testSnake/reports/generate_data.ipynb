{
 "cells": [
  {
   "cell_type": "code",
   "execution_count": 1,
   "metadata": {
    "execution": {
     "iopub.execute_input": "2020-04-27T15:28:31.871473Z",
     "iopub.status.busy": "2020-04-27T15:28:31.871473Z",
     "iopub.status.idle": "2020-04-27T15:28:31.982625Z",
     "shell.execute_reply": "2020-04-27T15:28:31.983623Z"
    },
    "papermill": {
     "duration": 0.120157,
     "end_time": "2020-04-27T15:28:31.983623",
     "exception": false,
     "start_time": "2020-04-27T15:28:31.863466",
     "status": "completed"
    },
    "tags": []
   },
   "outputs": [],
   "source": [
    "import numpy as np"
   ]
  },
  {
   "cell_type": "markdown",
   "metadata": {
    "papermill": {
     "duration": 0.005979,
     "end_time": "2020-04-27T15:28:31.994617",
     "exception": false,
     "start_time": "2020-04-27T15:28:31.988638",
     "status": "completed"
    },
    "tags": []
   },
   "source": [
    "## Generate Some Random Data"
   ]
  },
  {
   "cell_type": "markdown",
   "metadata": {
    "papermill": {
     "duration": 0.004996,
     "end_time": "2020-04-27T15:28:32.003623",
     "exception": false,
     "start_time": "2020-04-27T15:28:31.998627",
     "status": "completed"
    },
    "tags": []
   },
   "source": [
    "### Parameters"
   ]
  },
  {
   "cell_type": "code",
   "execution_count": 2,
   "metadata": {
    "execution": {
     "iopub.execute_input": "2020-04-27T15:28:32.016677Z",
     "iopub.status.busy": "2020-04-27T15:28:32.015677Z",
     "iopub.status.idle": "2020-04-27T15:28:32.019674Z",
     "shell.execute_reply": "2020-04-27T15:28:32.020674Z"
    },
    "papermill": {
     "duration": 0.012065,
     "end_time": "2020-04-27T15:28:32.020674",
     "exception": false,
     "start_time": "2020-04-27T15:28:32.008609",
     "status": "completed"
    },
    "tags": [
     "parameters"
    ]
   },
   "outputs": [],
   "source": [
    "output_filename = 'test.txt'"
   ]
  },
  {
   "cell_type": "code",
   "execution_count": 3,
   "metadata": {
    "execution": {
     "iopub.execute_input": "2020-04-27T15:28:32.034770Z",
     "iopub.status.busy": "2020-04-27T15:28:32.032772Z",
     "iopub.status.idle": "2020-04-27T15:28:32.037768Z",
     "shell.execute_reply": "2020-04-27T15:28:32.037768Z"
    },
    "papermill": {
     "duration": 0.011994,
     "end_time": "2020-04-27T15:28:32.037768",
     "exception": false,
     "start_time": "2020-04-27T15:28:32.025774",
     "status": "completed"
    },
    "tags": [
     "injected-parameters"
    ]
   },
   "outputs": [],
   "source": [
    "# Parameters\n",
    "output_filename = \"data/9.txt\"\n"
   ]
  },
  {
   "cell_type": "markdown",
   "metadata": {
    "papermill": {
     "duration": 0.004991,
     "end_time": "2020-04-27T15:28:32.048761",
     "exception": false,
     "start_time": "2020-04-27T15:28:32.043770",
     "status": "completed"
    },
    "tags": []
   },
   "source": [
    "### Generate data"
   ]
  },
  {
   "cell_type": "code",
   "execution_count": 4,
   "metadata": {
    "execution": {
     "iopub.execute_input": "2020-04-27T15:28:32.067793Z",
     "iopub.status.busy": "2020-04-27T15:28:32.066794Z",
     "iopub.status.idle": "2020-04-27T15:28:32.070557Z",
     "shell.execute_reply": "2020-04-27T15:28:32.071551Z"
    },
    "papermill": {
     "duration": 0.017791,
     "end_time": "2020-04-27T15:28:32.071551",
     "exception": false,
     "start_time": "2020-04-27T15:28:32.053760",
     "status": "completed"
    },
    "tags": []
   },
   "outputs": [
    {
     "data": {
      "text/plain": [
       "array([0.66771479, 0.65059495, 0.2445022 , 0.9071556 , 0.55084429,\n",
       "       0.20504751, 0.75445062, 0.86300592, 0.71772049, 0.84516938])"
      ]
     },
     "execution_count": 4,
     "metadata": {},
     "output_type": "execute_result"
    }
   ],
   "source": [
    "data = np.random.random(10)\n",
    "data"
   ]
  },
  {
   "cell_type": "markdown",
   "metadata": {
    "papermill": {
     "duration": 0.005071,
     "end_time": "2020-04-27T15:28:32.081619",
     "exception": false,
     "start_time": "2020-04-27T15:28:32.076548",
     "status": "completed"
    },
    "tags": []
   },
   "source": [
    "### Save to a file for later processing"
   ]
  },
  {
   "cell_type": "code",
   "execution_count": 5,
   "metadata": {
    "execution": {
     "iopub.execute_input": "2020-04-27T15:28:32.097670Z",
     "iopub.status.busy": "2020-04-27T15:28:32.097670Z",
     "iopub.status.idle": "2020-04-27T15:28:32.102373Z",
     "shell.execute_reply": "2020-04-27T15:28:32.103373Z"
    },
    "papermill": {
     "duration": 0.015831,
     "end_time": "2020-04-27T15:28:32.103373",
     "exception": false,
     "start_time": "2020-04-27T15:28:32.087542",
     "status": "completed"
    },
    "tags": []
   },
   "outputs": [],
   "source": [
    "np.savetxt(output_filename, data)"
   ]
  },
  {
   "cell_type": "code",
   "execution_count": null,
   "metadata": {
    "papermill": {
     "duration": 0.005996,
     "end_time": "2020-04-27T15:28:32.115365",
     "exception": false,
     "start_time": "2020-04-27T15:28:32.109369",
     "status": "completed"
    },
    "tags": []
   },
   "outputs": [],
   "source": []
  }
 ],
 "metadata": {
  "kernelspec": {
   "display_name": "Python 3",
   "language": "python",
   "name": "python3"
  },
  "language_info": {
   "codemirror_mode": {
    "name": "ipython",
    "version": 3
   },
   "file_extension": ".py",
   "mimetype": "text/x-python",
   "name": "python",
   "nbconvert_exporter": "python",
   "pygments_lexer": "ipython3",
   "version": "3.7.7"
  },
  "papermill": {
   "duration": 1.706593,
   "end_time": "2020-04-27T15:28:32.228065",
   "environment_variables": {},
   "exception": null,
   "input_path": "notebooks/workflow/generate_data.ipynb",
   "output_path": "reports/generate_data.ipynb",
   "parameters": {
    "output_filename": "data/9.txt"
   },
   "start_time": "2020-04-27T15:28:30.521472",
   "version": "2.1.1"
  }
 },
 "nbformat": 4,
 "nbformat_minor": 4
}