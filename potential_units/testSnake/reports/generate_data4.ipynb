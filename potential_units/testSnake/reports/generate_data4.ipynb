{
 "cells": [
  {
   "cell_type": "code",
   "execution_count": 1,
   "metadata": {
    "execution": {
     "iopub.execute_input": "2020-04-27T15:32:08.500733Z",
     "iopub.status.busy": "2020-04-27T15:32:08.500733Z",
     "iopub.status.idle": "2020-04-27T15:32:08.719638Z",
     "shell.execute_reply": "2020-04-27T15:32:08.720148Z"
    },
    "papermill": {
     "duration": 0.230408,
     "end_time": "2020-04-27T15:32:08.720148",
     "exception": false,
     "start_time": "2020-04-27T15:32:08.489740",
     "status": "completed"
    },
    "tags": []
   },
   "outputs": [],
   "source": [
    "import numpy as np"
   ]
  },
  {
   "cell_type": "markdown",
   "metadata": {
    "papermill": {
     "duration": 0.004997,
     "end_time": "2020-04-27T15:32:08.729648",
     "exception": false,
     "start_time": "2020-04-27T15:32:08.724651",
     "status": "completed"
    },
    "tags": []
   },
   "source": [
    "## Generate Some Random Data"
   ]
  },
  {
   "cell_type": "markdown",
   "metadata": {
    "papermill": {
     "duration": 0.004997,
     "end_time": "2020-04-27T15:32:08.739642",
     "exception": false,
     "start_time": "2020-04-27T15:32:08.734645",
     "status": "completed"
    },
    "tags": []
   },
   "source": [
    "### Parameters"
   ]
  },
  {
   "cell_type": "code",
   "execution_count": 2,
   "metadata": {
    "execution": {
     "iopub.execute_input": "2020-04-27T15:32:08.753634Z",
     "iopub.status.busy": "2020-04-27T15:32:08.753634Z",
     "iopub.status.idle": "2020-04-27T15:32:08.756632Z",
     "shell.execute_reply": "2020-04-27T15:32:08.755633Z"
    },
    "papermill": {
     "duration": 0.011993,
     "end_time": "2020-04-27T15:32:08.756632",
     "exception": false,
     "start_time": "2020-04-27T15:32:08.744639",
     "status": "completed"
    },
    "tags": [
     "parameters"
    ]
   },
   "outputs": [],
   "source": [
    "output_filename = 'test.txt'"
   ]
  },
  {
   "cell_type": "code",
   "execution_count": 3,
   "metadata": {
    "execution": {
     "iopub.execute_input": "2020-04-27T15:32:08.779633Z",
     "iopub.status.busy": "2020-04-27T15:32:08.779633Z",
     "iopub.status.idle": "2020-04-27T15:32:08.783631Z",
     "shell.execute_reply": "2020-04-27T15:32:08.782633Z"
    },
    "papermill": {
     "duration": 0.020003,
     "end_time": "2020-04-27T15:32:08.783631",
     "exception": false,
     "start_time": "2020-04-27T15:32:08.763628",
     "status": "completed"
    },
    "tags": [
     "injected-parameters"
    ]
   },
   "outputs": [],
   "source": [
    "# Parameters\n",
    "output_filename = \"data/4.txt\"\n"
   ]
  },
  {
   "cell_type": "markdown",
   "metadata": {
    "papermill": {
     "duration": 0.004998,
     "end_time": "2020-04-27T15:32:08.793626",
     "exception": false,
     "start_time": "2020-04-27T15:32:08.788628",
     "status": "completed"
    },
    "tags": []
   },
   "source": [
    "### Generate data"
   ]
  },
  {
   "cell_type": "code",
   "execution_count": 4,
   "metadata": {
    "execution": {
     "iopub.execute_input": "2020-04-27T15:32:08.817612Z",
     "iopub.status.busy": "2020-04-27T15:32:08.816612Z",
     "iopub.status.idle": "2020-04-27T15:32:08.821609Z",
     "shell.execute_reply": "2020-04-27T15:32:08.821609Z"
    },
    "papermill": {
     "duration": 0.022986,
     "end_time": "2020-04-27T15:32:08.821609",
     "exception": false,
     "start_time": "2020-04-27T15:32:08.798623",
     "status": "completed"
    },
    "tags": []
   },
   "outputs": [
    {
     "data": {
      "text/plain": [
       "array([0.3272042 , 0.80278394, 0.21064173, 0.01891957, 0.88089772,\n",
       "       0.14855433, 0.71537999, 0.37693753, 0.06127683, 0.54288371])"
      ]
     },
     "execution_count": 4,
     "metadata": {},
     "output_type": "execute_result"
    }
   ],
   "source": [
    "data = np.random.random(10)\n",
    "data"
   ]
  },
  {
   "cell_type": "markdown",
   "metadata": {
    "papermill": {
     "duration": 0.005997,
     "end_time": "2020-04-27T15:32:08.833603",
     "exception": false,
     "start_time": "2020-04-27T15:32:08.827606",
     "status": "completed"
    },
    "tags": []
   },
   "source": [
    "### Save to a file for later processing"
   ]
  },
  {
   "cell_type": "code",
   "execution_count": 5,
   "metadata": {
    "execution": {
     "iopub.execute_input": "2020-04-27T15:32:08.852592Z",
     "iopub.status.busy": "2020-04-27T15:32:08.851592Z",
     "iopub.status.idle": "2020-04-27T15:32:08.856590Z",
     "shell.execute_reply": "2020-04-27T15:32:08.856590Z"
    },
    "papermill": {
     "duration": 0.01799,
     "end_time": "2020-04-27T15:32:08.857589",
     "exception": false,
     "start_time": "2020-04-27T15:32:08.839599",
     "status": "completed"
    },
    "tags": []
   },
   "outputs": [],
   "source": [
    "np.savetxt(output_filename, data)"
   ]
  },
  {
   "cell_type": "code",
   "execution_count": null,
   "metadata": {
    "papermill": {
     "duration": 0.004997,
     "end_time": "2020-04-27T15:32:08.867583",
     "exception": false,
     "start_time": "2020-04-27T15:32:08.862586",
     "status": "completed"
    },
    "tags": []
   },
   "outputs": [],
   "source": []
  }
 ],
 "metadata": {
  "kernelspec": {
   "display_name": "Python 3",
   "language": "python",
   "name": "python3"
  },
  "language_info": {
   "codemirror_mode": {
    "name": "ipython",
    "version": 3
   },
   "file_extension": ".py",
   "mimetype": "text/x-python",
   "name": "python",
   "nbconvert_exporter": "python",
   "pygments_lexer": "ipython3",
   "version": "3.7.7"
  },
  "papermill": {
   "duration": 2.454519,
   "end_time": "2020-04-27T15:32:08.991645",
   "environment_variables": {},
   "exception": null,
   "input_path": "notebooks/workflow/generate_data.ipynb",
   "output_path": "reports/generate_data4.ipynb",
   "parameters": {
    "output_filename": "data/4.txt"
   },
   "start_time": "2020-04-27T15:32:06.537126",
   "version": "2.1.1"
  }
 },
 "nbformat": 4,
 "nbformat_minor": 4
}