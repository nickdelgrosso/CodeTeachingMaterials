{
 "cells": [
  {
   "cell_type": "code",
   "execution_count": 1,
   "metadata": {
    "execution": {
     "iopub.execute_input": "2020-04-27T15:32:08.507729Z",
     "iopub.status.busy": "2020-04-27T15:32:08.507729Z",
     "iopub.status.idle": "2020-04-27T15:32:08.695622Z",
     "shell.execute_reply": "2020-04-27T15:32:08.695622Z"
    },
    "papermill": {
     "duration": 0.196887,
     "end_time": "2020-04-27T15:32:08.695622",
     "exception": false,
     "start_time": "2020-04-27T15:32:08.498735",
     "status": "completed"
    },
    "tags": []
   },
   "outputs": [],
   "source": [
    "import numpy as np"
   ]
  },
  {
   "cell_type": "markdown",
   "metadata": {
    "papermill": {
     "duration": 0.004997,
     "end_time": "2020-04-27T15:32:08.706632",
     "exception": false,
     "start_time": "2020-04-27T15:32:08.701635",
     "status": "completed"
    },
    "tags": []
   },
   "source": [
    "## Generate Some Random Data"
   ]
  },
  {
   "cell_type": "markdown",
   "metadata": {
    "papermill": {
     "duration": 0.005999,
     "end_time": "2020-04-27T15:32:08.717641",
     "exception": false,
     "start_time": "2020-04-27T15:32:08.711642",
     "status": "completed"
    },
    "tags": []
   },
   "source": [
    "### Parameters"
   ]
  },
  {
   "cell_type": "code",
   "execution_count": 2,
   "metadata": {
    "execution": {
     "iopub.execute_input": "2020-04-27T15:32:08.732648Z",
     "iopub.status.busy": "2020-04-27T15:32:08.732648Z",
     "iopub.status.idle": "2020-04-27T15:32:08.734645Z",
     "shell.execute_reply": "2020-04-27T15:32:08.733645Z"
    },
    "papermill": {
     "duration": 0.011993,
     "end_time": "2020-04-27T15:32:08.734645",
     "exception": false,
     "start_time": "2020-04-27T15:32:08.722652",
     "status": "completed"
    },
    "tags": [
     "parameters"
    ]
   },
   "outputs": [],
   "source": [
    "output_filename = 'test.txt'"
   ]
  },
  {
   "cell_type": "code",
   "execution_count": 3,
   "metadata": {
    "execution": {
     "iopub.execute_input": "2020-04-27T15:32:08.750636Z",
     "iopub.status.busy": "2020-04-27T15:32:08.749637Z",
     "iopub.status.idle": "2020-04-27T15:32:08.752635Z",
     "shell.execute_reply": "2020-04-27T15:32:08.753634Z"
    },
    "papermill": {
     "duration": 0.012992,
     "end_time": "2020-04-27T15:32:08.753634",
     "exception": false,
     "start_time": "2020-04-27T15:32:08.740642",
     "status": "completed"
    },
    "tags": [
     "injected-parameters"
    ]
   },
   "outputs": [],
   "source": [
    "# Parameters\n",
    "output_filename = \"data/2.txt\"\n"
   ]
  },
  {
   "cell_type": "markdown",
   "metadata": {
    "papermill": {
     "duration": 0.004996,
     "end_time": "2020-04-27T15:32:08.763628",
     "exception": false,
     "start_time": "2020-04-27T15:32:08.758632",
     "status": "completed"
    },
    "tags": []
   },
   "source": [
    "### Generate data"
   ]
  },
  {
   "cell_type": "code",
   "execution_count": 4,
   "metadata": {
    "execution": {
     "iopub.execute_input": "2020-04-27T15:32:08.784631Z",
     "iopub.status.busy": "2020-04-27T15:32:08.783631Z",
     "iopub.status.idle": "2020-04-27T15:32:08.788628Z",
     "shell.execute_reply": "2020-04-27T15:32:08.789628Z"
    },
    "papermill": {
     "duration": 0.021002,
     "end_time": "2020-04-27T15:32:08.789628",
     "exception": false,
     "start_time": "2020-04-27T15:32:08.768626",
     "status": "completed"
    },
    "tags": []
   },
   "outputs": [
    {
     "data": {
      "text/plain": [
       "array([0.06094801, 0.00338374, 0.24309626, 0.60497553, 0.08031705,\n",
       "       0.3204385 , 0.68462719, 0.71025494, 0.79341163, 0.99045556])"
      ]
     },
     "execution_count": 4,
     "metadata": {},
     "output_type": "execute_result"
    }
   ],
   "source": [
    "data = np.random.random(10)\n",
    "data"
   ]
  },
  {
   "cell_type": "markdown",
   "metadata": {
    "papermill": {
     "duration": 0.005996,
     "end_time": "2020-04-27T15:32:08.800621",
     "exception": false,
     "start_time": "2020-04-27T15:32:08.794625",
     "status": "completed"
    },
    "tags": []
   },
   "source": [
    "### Save to a file for later processing"
   ]
  },
  {
   "cell_type": "code",
   "execution_count": 5,
   "metadata": {
    "execution": {
     "iopub.execute_input": "2020-04-27T15:32:08.817612Z",
     "iopub.status.busy": "2020-04-27T15:32:08.817612Z",
     "iopub.status.idle": "2020-04-27T15:32:08.835601Z",
     "shell.execute_reply": "2020-04-27T15:32:08.834602Z"
    },
    "papermill": {
     "duration": 0.028983,
     "end_time": "2020-04-27T15:32:08.835601",
     "exception": false,
     "start_time": "2020-04-27T15:32:08.806618",
     "status": "completed"
    },
    "tags": []
   },
   "outputs": [],
   "source": [
    "np.savetxt(output_filename, data)"
   ]
  },
  {
   "cell_type": "code",
   "execution_count": null,
   "metadata": {
    "papermill": {
     "duration": 0.01699,
     "end_time": "2020-04-27T15:32:08.867583",
     "exception": false,
     "start_time": "2020-04-27T15:32:08.850593",
     "status": "completed"
    },
    "tags": []
   },
   "outputs": [],
   "source": []
  }
 ],
 "metadata": {
  "kernelspec": {
   "display_name": "Python 3",
   "language": "python",
   "name": "python3"
  },
  "language_info": {
   "codemirror_mode": {
    "name": "ipython",
    "version": 3
   },
   "file_extension": ".py",
   "mimetype": "text/x-python",
   "name": "python",
   "nbconvert_exporter": "python",
   "pygments_lexer": "ipython3",
   "version": "3.7.7"
  },
  "papermill": {
   "duration": 2.426509,
   "end_time": "2020-04-27T15:32:08.988646",
   "environment_variables": {},
   "exception": null,
   "input_path": "notebooks/workflow/generate_data.ipynb",
   "output_path": "reports/generate_data2.ipynb",
   "parameters": {
    "output_filename": "data/2.txt"
   },
   "start_time": "2020-04-27T15:32:06.562137",
   "version": "2.1.1"
  }
 },
 "nbformat": 4,
 "nbformat_minor": 4
}