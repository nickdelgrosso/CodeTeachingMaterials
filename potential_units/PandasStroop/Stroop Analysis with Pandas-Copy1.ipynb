{
 "cells": [
  {
   "cell_type": "code",
   "execution_count": 167,
   "metadata": {
    "collapsed": true
   },
   "outputs": [],
   "source": [
    "from __future__ import print_function  # used for making Python 2 print function act like python3 function"
   ]
  },
  {
   "cell_type": "code",
   "execution_count": 1,
   "metadata": {
    "collapsed": true
   },
   "outputs": [],
   "source": [
    "import pandas as pd\n",
    "%matplotlib inline"
   ]
  },
  {
   "cell_type": "markdown",
   "metadata": {},
   "source": [
    "# Stroop Data Analysis in Pandas"
   ]
  },
  {
   "cell_type": "markdown",
   "metadata": {},
   "source": [
    "## 1. Load Data into a Pandas DataFrame"
   ]
  },
  {
   "cell_type": "code",
   "execution_count": 2,
   "metadata": {},
   "outputs": [
    {
     "data": {
      "text/html": [
       "<div>\n",
       "<style scoped>\n",
       "    .dataframe tbody tr th:only-of-type {\n",
       "        vertical-align: middle;\n",
       "    }\n",
       "\n",
       "    .dataframe tbody tr th {\n",
       "        vertical-align: top;\n",
       "    }\n",
       "\n",
       "    .dataframe thead th {\n",
       "        text-align: right;\n",
       "    }\n",
       "</style>\n",
       "<table border=\"1\" class=\"dataframe\">\n",
       "  <thead>\n",
       "    <tr style=\"text-align: right;\">\n",
       "      <th></th>\n",
       "      <th>respcolor</th>\n",
       "      <th>stimcolor</th>\n",
       "      <th>trialnum</th>\n",
       "      <th>subject</th>\n",
       "      <th>stimword</th>\n",
       "      <th>reaction_time</th>\n",
       "    </tr>\n",
       "  </thead>\n",
       "  <tbody>\n",
       "    <tr>\n",
       "      <th>0</th>\n",
       "      <td>Y</td>\n",
       "      <td>Y</td>\n",
       "      <td>1.0</td>\n",
       "      <td>156772.0</td>\n",
       "      <td>Y</td>\n",
       "      <td>1389.0</td>\n",
       "    </tr>\n",
       "    <tr>\n",
       "      <th>1</th>\n",
       "      <td>G</td>\n",
       "      <td>G</td>\n",
       "      <td>2.0</td>\n",
       "      <td>156772.0</td>\n",
       "      <td>G</td>\n",
       "      <td>2043.0</td>\n",
       "    </tr>\n",
       "    <tr>\n",
       "      <th>2</th>\n",
       "      <td>R</td>\n",
       "      <td>R</td>\n",
       "      <td>3.0</td>\n",
       "      <td>156772.0</td>\n",
       "      <td>R</td>\n",
       "      <td>1389.0</td>\n",
       "    </tr>\n",
       "    <tr>\n",
       "      <th>3</th>\n",
       "      <td>Y</td>\n",
       "      <td>Y</td>\n",
       "      <td>4.0</td>\n",
       "      <td>156772.0</td>\n",
       "      <td>Y</td>\n",
       "      <td>1092.0</td>\n",
       "    </tr>\n",
       "    <tr>\n",
       "      <th>4</th>\n",
       "      <td>G</td>\n",
       "      <td>G</td>\n",
       "      <td>5.0</td>\n",
       "      <td>156772.0</td>\n",
       "      <td>G</td>\n",
       "      <td>1310.0</td>\n",
       "    </tr>\n",
       "  </tbody>\n",
       "</table>\n",
       "</div>"
      ],
      "text/plain": [
       "  respcolor stimcolor  trialnum   subject stimword  reaction_time\n",
       "0         Y         Y       1.0  156772.0        Y         1389.0\n",
       "1         G         G       2.0  156772.0        G         2043.0\n",
       "2         R         R       3.0  156772.0        R         1389.0\n",
       "3         Y         Y       4.0  156772.0        Y         1092.0\n",
       "4         G         G       5.0  156772.0        G         1310.0"
      ]
     },
     "execution_count": 2,
     "metadata": {},
     "output_type": "execute_result"
    }
   ],
   "source": [
    "df = pd.read_csv('StroopData.csv')\n",
    "df.head()"
   ]
  },
  {
   "cell_type": "markdown",
   "metadata": {},
   "source": [
    "How Many Trials were there in total, across all subjects?"
   ]
  },
  {
   "cell_type": "code",
   "execution_count": 3,
   "metadata": {
    "collapsed": true
   },
   "outputs": [
    {
     "data": {
      "text/plain": [
       "2803"
      ]
     },
     "execution_count": 3,
     "metadata": {},
     "output_type": "execute_result"
    }
   ],
   "source": [
    "len(df)"
   ]
  },
  {
   "cell_type": "code",
   "execution_count": 4,
   "metadata": {},
   "outputs": [
    {
     "data": {
      "text/plain": [
       "(2803, 6)"
      ]
     },
     "execution_count": 4,
     "metadata": {},
     "output_type": "execute_result"
    }
   ],
   "source": [
    "df.shape"
   ]
  },
  {
   "cell_type": "code",
   "execution_count": 5,
   "metadata": {},
   "outputs": [
    {
     "name": "stdout",
     "output_type": "stream",
     "text": [
      "<class 'pandas.core.frame.DataFrame'>\n",
      "RangeIndex: 2803 entries, 0 to 2802\n",
      "Data columns (total 6 columns):\n",
      "respcolor        2803 non-null object\n",
      "stimcolor        2803 non-null object\n",
      "trialnum         2803 non-null float64\n",
      "subject          2803 non-null float64\n",
      "stimword         2803 non-null object\n",
      "reaction_time    2803 non-null float64\n",
      "dtypes: float64(3), object(3)\n",
      "memory usage: 131.5+ KB\n"
     ]
    }
   ],
   "source": [
    "df.info()"
   ]
  },
  {
   "cell_type": "code",
   "execution_count": 6,
   "metadata": {},
   "outputs": [
    {
     "data": {
      "text/plain": [
       "respcolor        2803\n",
       "stimcolor        2803\n",
       "trialnum         2803\n",
       "subject          2803\n",
       "stimword         2803\n",
       "reaction_time    2803\n",
       "dtype: int64"
      ]
     },
     "execution_count": 6,
     "metadata": {},
     "output_type": "execute_result"
    }
   ],
   "source": [
    "df.count()"
   ]
  },
  {
   "cell_type": "markdown",
   "metadata": {},
   "source": [
    "What was the Maximum number of trials any subject did? The minimum?"
   ]
  },
  {
   "cell_type": "code",
   "execution_count": 7,
   "metadata": {},
   "outputs": [
    {
     "data": {
      "text/plain": [
       "90.0"
      ]
     },
     "execution_count": 7,
     "metadata": {},
     "output_type": "execute_result"
    }
   ],
   "source": [
    "max(df['trialnum'])"
   ]
  },
  {
   "cell_type": "code",
   "execution_count": 8,
   "metadata": {},
   "outputs": [
    {
     "data": {
      "text/plain": [
       "90.0"
      ]
     },
     "execution_count": 8,
     "metadata": {},
     "output_type": "execute_result"
    }
   ],
   "source": [
    "df['trialnum'].max()"
   ]
  },
  {
   "cell_type": "markdown",
   "metadata": {},
   "source": [
    "How Many subjects were there in this study?"
   ]
  },
  {
   "cell_type": "code",
   "execution_count": 18,
   "metadata": {
    "collapsed": true
   },
   "outputs": [
    {
     "data": {
      "text/plain": [
       "32"
      ]
     },
     "execution_count": 18,
     "metadata": {},
     "output_type": "execute_result"
    }
   ],
   "source": [
    "len(set(df['subject']))"
   ]
  },
  {
   "cell_type": "code",
   "execution_count": 20,
   "metadata": {},
   "outputs": [
    {
     "data": {
      "text/plain": [
       "32"
      ]
     },
     "execution_count": 20,
     "metadata": {},
     "output_type": "execute_result"
    }
   ],
   "source": [
    "len(df['subject'].unique())"
   ]
  },
  {
   "cell_type": "code",
   "execution_count": 15,
   "metadata": {},
   "outputs": [
    {
     "data": {
      "text/plain": [
       "32"
      ]
     },
     "execution_count": 15,
     "metadata": {},
     "output_type": "execute_result"
    }
   ],
   "source": [
    "len(df.groupby('subject'))"
   ]
  },
  {
   "cell_type": "markdown",
   "metadata": {},
   "source": [
    "What is the mean response Time, across all subjects and conditions?"
   ]
  },
  {
   "cell_type": "code",
   "execution_count": 22,
   "metadata": {},
   "outputs": [
    {
     "data": {
      "text/plain": [
       "1703.5362112022833"
      ]
     },
     "execution_count": 22,
     "metadata": {},
     "output_type": "execute_result"
    }
   ],
   "source": [
    "import statistics\n",
    "statistics.mean(df['reaction_time'])"
   ]
  },
  {
   "cell_type": "code",
   "execution_count": 23,
   "metadata": {},
   "outputs": [
    {
     "data": {
      "text/plain": [
       "1703.5362112022833"
      ]
     },
     "execution_count": 23,
     "metadata": {},
     "output_type": "execute_result"
    }
   ],
   "source": [
    "df['reaction_time'].mean()"
   ]
  },
  {
   "cell_type": "code",
   "execution_count": 25,
   "metadata": {},
   "outputs": [
    {
     "data": {
      "text/plain": [
       "1703.5362112022833"
      ]
     },
     "execution_count": 25,
     "metadata": {},
     "output_type": "execute_result"
    }
   ],
   "source": [
    "import numpy as np\n",
    "np.mean(df['reaction_time'])"
   ]
  },
  {
   "cell_type": "markdown",
   "metadata": {},
   "source": [
    "Plot a histogram of the response times"
   ]
  },
  {
   "cell_type": "code",
   "execution_count": 26,
   "metadata": {
    "collapsed": true
   },
   "outputs": [
    {
     "data": {
      "text/plain": [
       "<matplotlib.axes._subplots.AxesSubplot at 0x7fae410580f0>"
      ]
     },
     "execution_count": 26,
     "metadata": {},
     "output_type": "execute_result"
    },
    {
     "data": {
      "image/png": "[encoded data removed]",
      "text/plain": [
       "<Figure size 432x288 with 1 Axes>"
      ]
     },
     "metadata": {},
     "output_type": "display_data"
    }
   ],
   "source": [
    "df['reaction_time'].hist()"
   ]
  },
  {
   "cell_type": "markdown",
   "metadata": {},
   "source": [
    "What was the mean response time for each subject?"
   ]
  },
  {
   "cell_type": "code",
   "execution_count": 30,
   "metadata": {},
   "outputs": [
    {
     "data": {
      "text/plain": [
       "array([[<matplotlib.axes._subplots.AxesSubplot object at 0x7fae3d4eada0>]],\n",
       "      dtype=object)"
      ]
     },
     "execution_count": 30,
     "metadata": {},
     "output_type": "execute_result"
    },
    {
     "data": {
      "image/png": "[encoded data removed]",
      "text/plain": [
       "<Figure size 432x288 with 1 Axes>"
      ]
     },
     "metadata": {},
     "output_type": "display_data"
    }
   ],
   "source": [
    "df.groupby('subject')[['reaction_time']].mean().hist()"
   ]
  },
  {
   "cell_type": "markdown",
   "metadata": {},
   "source": [
    "Log transform the reaction Times"
   ]
  },
  {
   "cell_type": "code",
   "execution_count": 31,
   "metadata": {},
   "outputs": [
    {
     "data": {
      "text/html": [
       "<div>\n",
       "<style scoped>\n",
       "    .dataframe tbody tr th:only-of-type {\n",
       "        vertical-align: middle;\n",
       "    }\n",
       "\n",
       "    .dataframe tbody tr th {\n",
       "        vertical-align: top;\n",
       "    }\n",
       "\n",
       "    .dataframe thead th {\n",
       "        text-align: right;\n",
       "    }\n",
       "</style>\n",
       "<table border=\"1\" class=\"dataframe\">\n",
       "  <thead>\n",
       "    <tr style=\"text-align: right;\">\n",
       "      <th></th>\n",
       "      <th>respcolor</th>\n",
       "      <th>stimcolor</th>\n",
       "      <th>trialnum</th>\n",
       "      <th>subject</th>\n",
       "      <th>stimword</th>\n",
       "      <th>reaction_time</th>\n",
       "      <th>reaction_time_log</th>\n",
       "    </tr>\n",
       "  </thead>\n",
       "  <tbody>\n",
       "    <tr>\n",
       "      <th>0</th>\n",
       "      <td>Y</td>\n",
       "      <td>Y</td>\n",
       "      <td>1.0</td>\n",
       "      <td>156772.0</td>\n",
       "      <td>Y</td>\n",
       "      <td>1389.0</td>\n",
       "      <td>7.236339</td>\n",
       "    </tr>\n",
       "    <tr>\n",
       "      <th>1</th>\n",
       "      <td>G</td>\n",
       "      <td>G</td>\n",
       "      <td>2.0</td>\n",
       "      <td>156772.0</td>\n",
       "      <td>G</td>\n",
       "      <td>2043.0</td>\n",
       "      <td>7.622175</td>\n",
       "    </tr>\n",
       "    <tr>\n",
       "      <th>2</th>\n",
       "      <td>R</td>\n",
       "      <td>R</td>\n",
       "      <td>3.0</td>\n",
       "      <td>156772.0</td>\n",
       "      <td>R</td>\n",
       "      <td>1389.0</td>\n",
       "      <td>7.236339</td>\n",
       "    </tr>\n",
       "    <tr>\n",
       "      <th>3</th>\n",
       "      <td>Y</td>\n",
       "      <td>Y</td>\n",
       "      <td>4.0</td>\n",
       "      <td>156772.0</td>\n",
       "      <td>Y</td>\n",
       "      <td>1092.0</td>\n",
       "      <td>6.995766</td>\n",
       "    </tr>\n",
       "    <tr>\n",
       "      <th>4</th>\n",
       "      <td>G</td>\n",
       "      <td>G</td>\n",
       "      <td>5.0</td>\n",
       "      <td>156772.0</td>\n",
       "      <td>G</td>\n",
       "      <td>1310.0</td>\n",
       "      <td>7.177782</td>\n",
       "    </tr>\n",
       "  </tbody>\n",
       "</table>\n",
       "</div>"
      ],
      "text/plain": [
       "  respcolor stimcolor  trialnum   subject stimword  reaction_time  \\\n",
       "0         Y         Y       1.0  156772.0        Y         1389.0   \n",
       "1         G         G       2.0  156772.0        G         2043.0   \n",
       "2         R         R       3.0  156772.0        R         1389.0   \n",
       "3         Y         Y       4.0  156772.0        Y         1092.0   \n",
       "4         G         G       5.0  156772.0        G         1310.0   \n",
       "\n",
       "   reaction_time_log  \n",
       "0           7.236339  \n",
       "1           7.622175  \n",
       "2           7.236339  \n",
       "3           6.995766  \n",
       "4           7.177782  "
      ]
     },
     "execution_count": 31,
     "metadata": {},
     "output_type": "execute_result"
    }
   ],
   "source": [
    "df['reaction_time_log'] = np.log(df['reaction_time'])\n",
    "df.head()"
   ]
  },
  {
   "cell_type": "code",
   "execution_count": 33,
   "metadata": {},
   "outputs": [
    {
     "data": {
      "text/html": [
       "<div>\n",
       "<style scoped>\n",
       "    .dataframe tbody tr th:only-of-type {\n",
       "        vertical-align: middle;\n",
       "    }\n",
       "\n",
       "    .dataframe tbody tr th {\n",
       "        vertical-align: top;\n",
       "    }\n",
       "\n",
       "    .dataframe thead th {\n",
       "        text-align: right;\n",
       "    }\n",
       "</style>\n",
       "<table border=\"1\" class=\"dataframe\">\n",
       "  <thead>\n",
       "    <tr style=\"text-align: right;\">\n",
       "      <th></th>\n",
       "      <th>respcolor</th>\n",
       "      <th>stimcolor</th>\n",
       "      <th>trialnum</th>\n",
       "      <th>subject</th>\n",
       "      <th>stimword</th>\n",
       "      <th>reaction_time</th>\n",
       "      <th>reaction_time_log</th>\n",
       "      <th>reaction_time_log2</th>\n",
       "    </tr>\n",
       "  </thead>\n",
       "  <tbody>\n",
       "    <tr>\n",
       "      <th>0</th>\n",
       "      <td>Y</td>\n",
       "      <td>Y</td>\n",
       "      <td>1.0</td>\n",
       "      <td>156772.0</td>\n",
       "      <td>Y</td>\n",
       "      <td>1389.0</td>\n",
       "      <td>7.236339</td>\n",
       "      <td>7.236339</td>\n",
       "    </tr>\n",
       "    <tr>\n",
       "      <th>1</th>\n",
       "      <td>G</td>\n",
       "      <td>G</td>\n",
       "      <td>2.0</td>\n",
       "      <td>156772.0</td>\n",
       "      <td>G</td>\n",
       "      <td>2043.0</td>\n",
       "      <td>7.622175</td>\n",
       "      <td>7.622175</td>\n",
       "    </tr>\n",
       "    <tr>\n",
       "      <th>2</th>\n",
       "      <td>R</td>\n",
       "      <td>R</td>\n",
       "      <td>3.0</td>\n",
       "      <td>156772.0</td>\n",
       "      <td>R</td>\n",
       "      <td>1389.0</td>\n",
       "      <td>7.236339</td>\n",
       "      <td>7.236339</td>\n",
       "    </tr>\n",
       "    <tr>\n",
       "      <th>3</th>\n",
       "      <td>Y</td>\n",
       "      <td>Y</td>\n",
       "      <td>4.0</td>\n",
       "      <td>156772.0</td>\n",
       "      <td>Y</td>\n",
       "      <td>1092.0</td>\n",
       "      <td>6.995766</td>\n",
       "      <td>6.995766</td>\n",
       "    </tr>\n",
       "    <tr>\n",
       "      <th>4</th>\n",
       "      <td>G</td>\n",
       "      <td>G</td>\n",
       "      <td>5.0</td>\n",
       "      <td>156772.0</td>\n",
       "      <td>G</td>\n",
       "      <td>1310.0</td>\n",
       "      <td>7.177782</td>\n",
       "      <td>7.177782</td>\n",
       "    </tr>\n",
       "  </tbody>\n",
       "</table>\n",
       "</div>"
      ],
      "text/plain": [
       "  respcolor stimcolor  trialnum   subject stimword  reaction_time  \\\n",
       "0         Y         Y       1.0  156772.0        Y         1389.0   \n",
       "1         G         G       2.0  156772.0        G         2043.0   \n",
       "2         R         R       3.0  156772.0        R         1389.0   \n",
       "3         Y         Y       4.0  156772.0        Y         1092.0   \n",
       "4         G         G       5.0  156772.0        G         1310.0   \n",
       "\n",
       "   reaction_time_log  reaction_time_log2  \n",
       "0           7.236339            7.236339  \n",
       "1           7.622175            7.622175  \n",
       "2           7.236339            7.236339  \n",
       "3           6.995766            6.995766  \n",
       "4           7.177782            7.177782  "
      ]
     },
     "execution_count": 33,
     "metadata": {},
     "output_type": "execute_result"
    }
   ],
   "source": [
    "df['reaction_time_log2'] = df['reaction_time'].transform(np.log)\n",
    "df.head()"
   ]
  },
  {
   "cell_type": "code",
   "execution_count": 41,
   "metadata": {},
   "outputs": [
    {
     "data": {
      "text/html": [
       "<div>\n",
       "<style scoped>\n",
       "    .dataframe tbody tr th:only-of-type {\n",
       "        vertical-align: middle;\n",
       "    }\n",
       "\n",
       "    .dataframe tbody tr th {\n",
       "        vertical-align: top;\n",
       "    }\n",
       "\n",
       "    .dataframe thead th {\n",
       "        text-align: right;\n",
       "    }\n",
       "</style>\n",
       "<table border=\"1\" class=\"dataframe\">\n",
       "  <thead>\n",
       "    <tr style=\"text-align: right;\">\n",
       "      <th></th>\n",
       "      <th>stimcolor</th>\n",
       "    </tr>\n",
       "  </thead>\n",
       "  <tbody>\n",
       "    <tr>\n",
       "      <th>2</th>\n",
       "      <td>R</td>\n",
       "    </tr>\n",
       "  </tbody>\n",
       "</table>\n",
       "</div>"
      ],
      "text/plain": [
       "  stimcolor\n",
       "2         R"
      ]
     },
     "execution_count": 41,
     "metadata": {},
     "output_type": "execute_result"
    }
   ],
   "source": [
    "df.loc[[2], ['stimcolor']]"
   ]
  },
  {
   "cell_type": "markdown",
   "metadata": {},
   "source": [
    "Reject Bad Data: Log Reaction Time < 5.7"
   ]
  },
  {
   "cell_type": "code",
   "execution_count": 44,
   "metadata": {
    "collapsed": true
   },
   "outputs": [
    {
     "data": {
      "text/html": [
       "<div>\n",
       "<style scoped>\n",
       "    .dataframe tbody tr th:only-of-type {\n",
       "        vertical-align: middle;\n",
       "    }\n",
       "\n",
       "    .dataframe tbody tr th {\n",
       "        vertical-align: top;\n",
       "    }\n",
       "\n",
       "    .dataframe thead th {\n",
       "        text-align: right;\n",
       "    }\n",
       "</style>\n",
       "<table border=\"1\" class=\"dataframe\">\n",
       "  <thead>\n",
       "    <tr style=\"text-align: right;\">\n",
       "      <th></th>\n",
       "      <th>respcolor</th>\n",
       "      <th>stimcolor</th>\n",
       "      <th>trialnum</th>\n",
       "      <th>subject</th>\n",
       "      <th>stimword</th>\n",
       "      <th>reaction_time</th>\n",
       "      <th>reaction_time_log</th>\n",
       "      <th>reaction_time_log2</th>\n",
       "    </tr>\n",
       "  </thead>\n",
       "  <tbody>\n",
       "    <tr>\n",
       "      <th>0</th>\n",
       "      <td>Y</td>\n",
       "      <td>Y</td>\n",
       "      <td>1.0</td>\n",
       "      <td>156772.0</td>\n",
       "      <td>Y</td>\n",
       "      <td>1389.0</td>\n",
       "      <td>7.236339</td>\n",
       "      <td>7.236339</td>\n",
       "    </tr>\n",
       "    <tr>\n",
       "      <th>1</th>\n",
       "      <td>G</td>\n",
       "      <td>G</td>\n",
       "      <td>2.0</td>\n",
       "      <td>156772.0</td>\n",
       "      <td>G</td>\n",
       "      <td>2043.0</td>\n",
       "      <td>7.622175</td>\n",
       "      <td>7.622175</td>\n",
       "    </tr>\n",
       "    <tr>\n",
       "      <th>2</th>\n",
       "      <td>R</td>\n",
       "      <td>R</td>\n",
       "      <td>3.0</td>\n",
       "      <td>156772.0</td>\n",
       "      <td>R</td>\n",
       "      <td>1389.0</td>\n",
       "      <td>7.236339</td>\n",
       "      <td>7.236339</td>\n",
       "    </tr>\n",
       "    <tr>\n",
       "      <th>3</th>\n",
       "      <td>Y</td>\n",
       "      <td>Y</td>\n",
       "      <td>4.0</td>\n",
       "      <td>156772.0</td>\n",
       "      <td>Y</td>\n",
       "      <td>1092.0</td>\n",
       "      <td>6.995766</td>\n",
       "      <td>6.995766</td>\n",
       "    </tr>\n",
       "    <tr>\n",
       "      <th>4</th>\n",
       "      <td>G</td>\n",
       "      <td>G</td>\n",
       "      <td>5.0</td>\n",
       "      <td>156772.0</td>\n",
       "      <td>G</td>\n",
       "      <td>1310.0</td>\n",
       "      <td>7.177782</td>\n",
       "      <td>7.177782</td>\n",
       "    </tr>\n",
       "  </tbody>\n",
       "</table>\n",
       "</div>"
      ],
      "text/plain": [
       "  respcolor stimcolor  trialnum   subject stimword  reaction_time  \\\n",
       "0         Y         Y       1.0  156772.0        Y         1389.0   \n",
       "1         G         G       2.0  156772.0        G         2043.0   \n",
       "2         R         R       3.0  156772.0        R         1389.0   \n",
       "3         Y         Y       4.0  156772.0        Y         1092.0   \n",
       "4         G         G       5.0  156772.0        G         1310.0   \n",
       "\n",
       "   reaction_time_log  reaction_time_log2  \n",
       "0           7.236339            7.236339  \n",
       "1           7.622175            7.622175  \n",
       "2           7.236339            7.236339  \n",
       "3           6.995766            6.995766  \n",
       "4           7.177782            7.177782  "
      ]
     },
     "execution_count": 44,
     "metadata": {},
     "output_type": "execute_result"
    }
   ],
   "source": [
    "df.loc[df['reaction_time_log'] >= 5.7].head()"
   ]
  },
  {
   "cell_type": "code",
   "execution_count": 57,
   "metadata": {},
   "outputs": [
    {
     "data": {
      "text/html": [
       "<div>\n",
       "<style scoped>\n",
       "    .dataframe tbody tr th:only-of-type {\n",
       "        vertical-align: middle;\n",
       "    }\n",
       "\n",
       "    .dataframe tbody tr th {\n",
       "        vertical-align: top;\n",
       "    }\n",
       "\n",
       "    .dataframe thead th {\n",
       "        text-align: right;\n",
       "    }\n",
       "</style>\n",
       "<table border=\"1\" class=\"dataframe\">\n",
       "  <thead>\n",
       "    <tr style=\"text-align: right;\">\n",
       "      <th></th>\n",
       "      <th>respcolor</th>\n",
       "      <th>stimcolor</th>\n",
       "      <th>trialnum</th>\n",
       "      <th>subject</th>\n",
       "      <th>stimword</th>\n",
       "      <th>reaction_time</th>\n",
       "      <th>reaction_time_log</th>\n",
       "      <th>reaction_time_log2</th>\n",
       "    </tr>\n",
       "  </thead>\n",
       "  <tbody>\n",
       "    <tr>\n",
       "      <th>0</th>\n",
       "      <td>Y</td>\n",
       "      <td>Y</td>\n",
       "      <td>1.0</td>\n",
       "      <td>156772.0</td>\n",
       "      <td>Y</td>\n",
       "      <td>1389.0</td>\n",
       "      <td>7.236339</td>\n",
       "      <td>7.236339</td>\n",
       "    </tr>\n",
       "    <tr>\n",
       "      <th>1</th>\n",
       "      <td>G</td>\n",
       "      <td>G</td>\n",
       "      <td>2.0</td>\n",
       "      <td>156772.0</td>\n",
       "      <td>G</td>\n",
       "      <td>2043.0</td>\n",
       "      <td>7.622175</td>\n",
       "      <td>7.622175</td>\n",
       "    </tr>\n",
       "    <tr>\n",
       "      <th>2</th>\n",
       "      <td>R</td>\n",
       "      <td>R</td>\n",
       "      <td>3.0</td>\n",
       "      <td>156772.0</td>\n",
       "      <td>R</td>\n",
       "      <td>1389.0</td>\n",
       "      <td>7.236339</td>\n",
       "      <td>7.236339</td>\n",
       "    </tr>\n",
       "    <tr>\n",
       "      <th>3</th>\n",
       "      <td>Y</td>\n",
       "      <td>Y</td>\n",
       "      <td>4.0</td>\n",
       "      <td>156772.0</td>\n",
       "      <td>Y</td>\n",
       "      <td>1092.0</td>\n",
       "      <td>6.995766</td>\n",
       "      <td>6.995766</td>\n",
       "    </tr>\n",
       "    <tr>\n",
       "      <th>4</th>\n",
       "      <td>G</td>\n",
       "      <td>G</td>\n",
       "      <td>5.0</td>\n",
       "      <td>156772.0</td>\n",
       "      <td>G</td>\n",
       "      <td>1310.0</td>\n",
       "      <td>7.177782</td>\n",
       "      <td>7.177782</td>\n",
       "    </tr>\n",
       "  </tbody>\n",
       "</table>\n",
       "</div>"
      ],
      "text/plain": [
       "  respcolor stimcolor  trialnum   subject stimword  reaction_time  \\\n",
       "0         Y         Y       1.0  156772.0        Y         1389.0   \n",
       "1         G         G       2.0  156772.0        G         2043.0   \n",
       "2         R         R       3.0  156772.0        R         1389.0   \n",
       "3         Y         Y       4.0  156772.0        Y         1092.0   \n",
       "4         G         G       5.0  156772.0        G         1310.0   \n",
       "\n",
       "   reaction_time_log  reaction_time_log2  \n",
       "0           7.236339            7.236339  \n",
       "1           7.622175            7.622175  \n",
       "2           7.236339            7.236339  \n",
       "3           6.995766            6.995766  \n",
       "4           7.177782            7.177782  "
      ]
     },
     "execution_count": 57,
     "metadata": {},
     "output_type": "execute_result"
    }
   ],
   "source": [
    "df_good = df.query('reaction_time_log >= 5.7')\n",
    "df_good.head()"
   ]
  },
  {
   "cell_type": "code",
   "execution_count": 56,
   "metadata": {},
   "outputs": [],
   "source": [
    "# df.drop(index=(df['reaction_time_log'] < 5.7).values, axis=0)"
   ]
  },
  {
   "cell_type": "markdown",
   "metadata": {},
   "source": [
    "From here on, use only the accepted data!"
   ]
  },
  {
   "cell_type": "code",
   "execution_count": null,
   "metadata": {},
   "outputs": [],
   "source": []
  },
  {
   "cell_type": "code",
   "execution_count": 62,
   "metadata": {},
   "outputs": [],
   "source": [
    "df_good = df_good.copy()"
   ]
  },
  {
   "cell_type": "markdown",
   "metadata": {},
   "source": [
    "## Overall, what was the accuracy of the responses?\n",
    "\n",
    "  - How many trials, in total, were correct (stimcolor matched respcolor)?\n",
    "  - How many trials were incorrect?\n",
    "  - What percent accuract was there, overall?"
   ]
  },
  {
   "cell_type": "code",
   "execution_count": 70,
   "metadata": {
    "collapsed": true
   },
   "outputs": [
    {
     "data": {
      "text/html": [
       "<div>\n",
       "<style scoped>\n",
       "    .dataframe tbody tr th:only-of-type {\n",
       "        vertical-align: middle;\n",
       "    }\n",
       "\n",
       "    .dataframe tbody tr th {\n",
       "        vertical-align: top;\n",
       "    }\n",
       "\n",
       "    .dataframe thead th {\n",
       "        text-align: right;\n",
       "    }\n",
       "</style>\n",
       "<table border=\"1\" class=\"dataframe\">\n",
       "  <thead>\n",
       "    <tr style=\"text-align: right;\">\n",
       "      <th></th>\n",
       "      <th>respcolor</th>\n",
       "      <th>stimcolor</th>\n",
       "      <th>trialnum</th>\n",
       "      <th>subject</th>\n",
       "      <th>stimword</th>\n",
       "      <th>reaction_time</th>\n",
       "      <th>reaction_time_log</th>\n",
       "      <th>reaction_time_log2</th>\n",
       "      <th>isCorrect</th>\n",
       "    </tr>\n",
       "  </thead>\n",
       "  <tbody>\n",
       "    <tr>\n",
       "      <th>0</th>\n",
       "      <td>Y</td>\n",
       "      <td>Y</td>\n",
       "      <td>1.0</td>\n",
       "      <td>156772.0</td>\n",
       "      <td>Y</td>\n",
       "      <td>1389.0</td>\n",
       "      <td>7.236339</td>\n",
       "      <td>7.236339</td>\n",
       "      <td>True</td>\n",
       "    </tr>\n",
       "    <tr>\n",
       "      <th>1</th>\n",
       "      <td>G</td>\n",
       "      <td>G</td>\n",
       "      <td>2.0</td>\n",
       "      <td>156772.0</td>\n",
       "      <td>G</td>\n",
       "      <td>2043.0</td>\n",
       "      <td>7.622175</td>\n",
       "      <td>7.622175</td>\n",
       "      <td>True</td>\n",
       "    </tr>\n",
       "    <tr>\n",
       "      <th>2</th>\n",
       "      <td>R</td>\n",
       "      <td>R</td>\n",
       "      <td>3.0</td>\n",
       "      <td>156772.0</td>\n",
       "      <td>R</td>\n",
       "      <td>1389.0</td>\n",
       "      <td>7.236339</td>\n",
       "      <td>7.236339</td>\n",
       "      <td>True</td>\n",
       "    </tr>\n",
       "    <tr>\n",
       "      <th>3</th>\n",
       "      <td>Y</td>\n",
       "      <td>Y</td>\n",
       "      <td>4.0</td>\n",
       "      <td>156772.0</td>\n",
       "      <td>Y</td>\n",
       "      <td>1092.0</td>\n",
       "      <td>6.995766</td>\n",
       "      <td>6.995766</td>\n",
       "      <td>True</td>\n",
       "    </tr>\n",
       "    <tr>\n",
       "      <th>4</th>\n",
       "      <td>G</td>\n",
       "      <td>G</td>\n",
       "      <td>5.0</td>\n",
       "      <td>156772.0</td>\n",
       "      <td>G</td>\n",
       "      <td>1310.0</td>\n",
       "      <td>7.177782</td>\n",
       "      <td>7.177782</td>\n",
       "      <td>True</td>\n",
       "    </tr>\n",
       "  </tbody>\n",
       "</table>\n",
       "</div>"
      ],
      "text/plain": [
       "  respcolor stimcolor  trialnum   subject stimword  reaction_time  \\\n",
       "0         Y         Y       1.0  156772.0        Y         1389.0   \n",
       "1         G         G       2.0  156772.0        G         2043.0   \n",
       "2         R         R       3.0  156772.0        R         1389.0   \n",
       "3         Y         Y       4.0  156772.0        Y         1092.0   \n",
       "4         G         G       5.0  156772.0        G         1310.0   \n",
       "\n",
       "   reaction_time_log  reaction_time_log2  isCorrect  \n",
       "0           7.236339            7.236339       True  \n",
       "1           7.622175            7.622175       True  \n",
       "2           7.236339            7.236339       True  \n",
       "3           6.995766            6.995766       True  \n",
       "4           7.177782            7.177782       True  "
      ]
     },
     "execution_count": 70,
     "metadata": {},
     "output_type": "execute_result"
    }
   ],
   "source": [
    "df_good['isCorrect'] = df_good['stimcolor'] == df_good['respcolor']\n",
    "df_good.head()"
   ]
  },
  {
   "cell_type": "code",
   "execution_count": 88,
   "metadata": {},
   "outputs": [
    {
     "data": {
      "text/html": [
       "<div>\n",
       "<style scoped>\n",
       "    .dataframe tbody tr th:only-of-type {\n",
       "        vertical-align: middle;\n",
       "    }\n",
       "\n",
       "    .dataframe tbody tr th {\n",
       "        vertical-align: top;\n",
       "    }\n",
       "\n",
       "    .dataframe thead th {\n",
       "        text-align: right;\n",
       "    }\n",
       "</style>\n",
       "<table border=\"1\" class=\"dataframe\">\n",
       "  <thead>\n",
       "    <tr style=\"text-align: right;\">\n",
       "      <th></th>\n",
       "      <th>respcolor</th>\n",
       "      <th>stimcolor</th>\n",
       "      <th>trialnum</th>\n",
       "      <th>subject</th>\n",
       "      <th>stimword</th>\n",
       "      <th>reaction_time</th>\n",
       "      <th>reaction_time_log</th>\n",
       "      <th>reaction_time_log2</th>\n",
       "      <th>isCorrect</th>\n",
       "    </tr>\n",
       "  </thead>\n",
       "  <tbody>\n",
       "    <tr>\n",
       "      <th>0</th>\n",
       "      <td>Y</td>\n",
       "      <td>Y</td>\n",
       "      <td>1.0</td>\n",
       "      <td>156772.0</td>\n",
       "      <td>Y</td>\n",
       "      <td>1389.0</td>\n",
       "      <td>7.236339</td>\n",
       "      <td>7.236339</td>\n",
       "      <td>True</td>\n",
       "    </tr>\n",
       "    <tr>\n",
       "      <th>3</th>\n",
       "      <td>Y</td>\n",
       "      <td>Y</td>\n",
       "      <td>4.0</td>\n",
       "      <td>156772.0</td>\n",
       "      <td>Y</td>\n",
       "      <td>1092.0</td>\n",
       "      <td>6.995766</td>\n",
       "      <td>6.995766</td>\n",
       "      <td>True</td>\n",
       "    </tr>\n",
       "    <tr>\n",
       "      <th>7</th>\n",
       "      <td>Y</td>\n",
       "      <td>Y</td>\n",
       "      <td>8.0</td>\n",
       "      <td>156772.0</td>\n",
       "      <td>Y</td>\n",
       "      <td>936.0</td>\n",
       "      <td>6.841615</td>\n",
       "      <td>6.841615</td>\n",
       "      <td>True</td>\n",
       "    </tr>\n",
       "    <tr>\n",
       "      <th>12</th>\n",
       "      <td>Y</td>\n",
       "      <td>Y</td>\n",
       "      <td>13.0</td>\n",
       "      <td>156772.0</td>\n",
       "      <td>Y</td>\n",
       "      <td>1029.0</td>\n",
       "      <td>6.936343</td>\n",
       "      <td>6.936343</td>\n",
       "      <td>True</td>\n",
       "    </tr>\n",
       "    <tr>\n",
       "      <th>14</th>\n",
       "      <td>Y</td>\n",
       "      <td>Y</td>\n",
       "      <td>15.0</td>\n",
       "      <td>156772.0</td>\n",
       "      <td>Y</td>\n",
       "      <td>1560.0</td>\n",
       "      <td>7.352441</td>\n",
       "      <td>7.352441</td>\n",
       "      <td>True</td>\n",
       "    </tr>\n",
       "    <tr>\n",
       "      <th>21</th>\n",
       "      <td>Y</td>\n",
       "      <td>Y</td>\n",
       "      <td>22.0</td>\n",
       "      <td>156772.0</td>\n",
       "      <td>Y</td>\n",
       "      <td>1029.0</td>\n",
       "      <td>6.936343</td>\n",
       "      <td>6.936343</td>\n",
       "      <td>True</td>\n",
       "    </tr>\n",
       "    <tr>\n",
       "      <th>23</th>\n",
       "      <td>Y</td>\n",
       "      <td>Y</td>\n",
       "      <td>24.0</td>\n",
       "      <td>156772.0</td>\n",
       "      <td>Y</td>\n",
       "      <td>968.0</td>\n",
       "      <td>6.875232</td>\n",
       "      <td>6.875232</td>\n",
       "      <td>True</td>\n",
       "    </tr>\n",
       "    <tr>\n",
       "      <th>25</th>\n",
       "      <td>Y</td>\n",
       "      <td>Y</td>\n",
       "      <td>26.0</td>\n",
       "      <td>156772.0</td>\n",
       "      <td>Y</td>\n",
       "      <td>936.0</td>\n",
       "      <td>6.841615</td>\n",
       "      <td>6.841615</td>\n",
       "      <td>True</td>\n",
       "    </tr>\n",
       "    <tr>\n",
       "      <th>29</th>\n",
       "      <td>Y</td>\n",
       "      <td>Y</td>\n",
       "      <td>30.0</td>\n",
       "      <td>156772.0</td>\n",
       "      <td>Y</td>\n",
       "      <td>733.0</td>\n",
       "      <td>6.597146</td>\n",
       "      <td>6.597146</td>\n",
       "      <td>True</td>\n",
       "    </tr>\n",
       "    <tr>\n",
       "      <th>31</th>\n",
       "      <td>Y</td>\n",
       "      <td>Y</td>\n",
       "      <td>32.0</td>\n",
       "      <td>156772.0</td>\n",
       "      <td>Y</td>\n",
       "      <td>905.0</td>\n",
       "      <td>6.807935</td>\n",
       "      <td>6.807935</td>\n",
       "      <td>True</td>\n",
       "    </tr>\n",
       "    <tr>\n",
       "      <th>33</th>\n",
       "      <td>Y</td>\n",
       "      <td>Y</td>\n",
       "      <td>34.0</td>\n",
       "      <td>156772.0</td>\n",
       "      <td>Y</td>\n",
       "      <td>857.0</td>\n",
       "      <td>6.753438</td>\n",
       "      <td>6.753438</td>\n",
       "      <td>True</td>\n",
       "    </tr>\n",
       "    <tr>\n",
       "      <th>36</th>\n",
       "      <td>Y</td>\n",
       "      <td>Y</td>\n",
       "      <td>37.0</td>\n",
       "      <td>156772.0</td>\n",
       "      <td>Y</td>\n",
       "      <td>764.0</td>\n",
       "      <td>6.638568</td>\n",
       "      <td>6.638568</td>\n",
       "      <td>True</td>\n",
       "    </tr>\n",
       "    <tr>\n",
       "      <th>40</th>\n",
       "      <td>Y</td>\n",
       "      <td>Y</td>\n",
       "      <td>41.0</td>\n",
       "      <td>156772.0</td>\n",
       "      <td>Y</td>\n",
       "      <td>639.0</td>\n",
       "      <td>6.459904</td>\n",
       "      <td>6.459904</td>\n",
       "      <td>True</td>\n",
       "    </tr>\n",
       "    <tr>\n",
       "      <th>42</th>\n",
       "      <td>Y</td>\n",
       "      <td>Y</td>\n",
       "      <td>43.0</td>\n",
       "      <td>156772.0</td>\n",
       "      <td>Y</td>\n",
       "      <td>718.0</td>\n",
       "      <td>6.576470</td>\n",
       "      <td>6.576470</td>\n",
       "      <td>True</td>\n",
       "    </tr>\n",
       "    <tr>\n",
       "      <th>45</th>\n",
       "      <td>B</td>\n",
       "      <td>B</td>\n",
       "      <td>46.0</td>\n",
       "      <td>156772.0</td>\n",
       "      <td>Y</td>\n",
       "      <td>1264.0</td>\n",
       "      <td>7.142037</td>\n",
       "      <td>7.142037</td>\n",
       "      <td>True</td>\n",
       "    </tr>\n",
       "    <tr>\n",
       "      <th>50</th>\n",
       "      <td>G</td>\n",
       "      <td>G</td>\n",
       "      <td>51.0</td>\n",
       "      <td>156772.0</td>\n",
       "      <td>Y</td>\n",
       "      <td>1966.0</td>\n",
       "      <td>7.583756</td>\n",
       "      <td>7.583756</td>\n",
       "      <td>True</td>\n",
       "    </tr>\n",
       "    <tr>\n",
       "      <th>52</th>\n",
       "      <td>B</td>\n",
       "      <td>B</td>\n",
       "      <td>53.0</td>\n",
       "      <td>156772.0</td>\n",
       "      <td>Y</td>\n",
       "      <td>1669.0</td>\n",
       "      <td>7.419980</td>\n",
       "      <td>7.419980</td>\n",
       "      <td>True</td>\n",
       "    </tr>\n",
       "    <tr>\n",
       "      <th>58</th>\n",
       "      <td>G</td>\n",
       "      <td>G</td>\n",
       "      <td>59.0</td>\n",
       "      <td>156772.0</td>\n",
       "      <td>Y</td>\n",
       "      <td>1763.0</td>\n",
       "      <td>7.474772</td>\n",
       "      <td>7.474772</td>\n",
       "      <td>True</td>\n",
       "    </tr>\n",
       "    <tr>\n",
       "      <th>61</th>\n",
       "      <td>Y</td>\n",
       "      <td>G</td>\n",
       "      <td>62.0</td>\n",
       "      <td>156772.0</td>\n",
       "      <td>Y</td>\n",
       "      <td>1591.0</td>\n",
       "      <td>7.372118</td>\n",
       "      <td>7.372118</td>\n",
       "      <td>False</td>\n",
       "    </tr>\n",
       "    <tr>\n",
       "      <th>64</th>\n",
       "      <td>G</td>\n",
       "      <td>G</td>\n",
       "      <td>65.0</td>\n",
       "      <td>156772.0</td>\n",
       "      <td>Y</td>\n",
       "      <td>1669.0</td>\n",
       "      <td>7.419980</td>\n",
       "      <td>7.419980</td>\n",
       "      <td>True</td>\n",
       "    </tr>\n",
       "    <tr>\n",
       "      <th>66</th>\n",
       "      <td>G</td>\n",
       "      <td>G</td>\n",
       "      <td>67.0</td>\n",
       "      <td>156772.0</td>\n",
       "      <td>Y</td>\n",
       "      <td>1467.0</td>\n",
       "      <td>7.290975</td>\n",
       "      <td>7.290975</td>\n",
       "      <td>True</td>\n",
       "    </tr>\n",
       "    <tr>\n",
       "      <th>69</th>\n",
       "      <td>B</td>\n",
       "      <td>B</td>\n",
       "      <td>70.0</td>\n",
       "      <td>156772.0</td>\n",
       "      <td>Y</td>\n",
       "      <td>1435.0</td>\n",
       "      <td>7.268920</td>\n",
       "      <td>7.268920</td>\n",
       "      <td>True</td>\n",
       "    </tr>\n",
       "    <tr>\n",
       "      <th>79</th>\n",
       "      <td>B</td>\n",
       "      <td>B</td>\n",
       "      <td>80.0</td>\n",
       "      <td>156772.0</td>\n",
       "      <td>Y</td>\n",
       "      <td>1450.0</td>\n",
       "      <td>7.279319</td>\n",
       "      <td>7.279319</td>\n",
       "      <td>True</td>\n",
       "    </tr>\n",
       "    <tr>\n",
       "      <th>81</th>\n",
       "      <td>G</td>\n",
       "      <td>G</td>\n",
       "      <td>82.0</td>\n",
       "      <td>156772.0</td>\n",
       "      <td>Y</td>\n",
       "      <td>1857.0</td>\n",
       "      <td>7.526718</td>\n",
       "      <td>7.526718</td>\n",
       "      <td>True</td>\n",
       "    </tr>\n",
       "    <tr>\n",
       "      <th>84</th>\n",
       "      <td>G</td>\n",
       "      <td>G</td>\n",
       "      <td>85.0</td>\n",
       "      <td>156772.0</td>\n",
       "      <td>Y</td>\n",
       "      <td>1217.0</td>\n",
       "      <td>7.104144</td>\n",
       "      <td>7.104144</td>\n",
       "      <td>True</td>\n",
       "    </tr>\n",
       "    <tr>\n",
       "      <th>97</th>\n",
       "      <td>B</td>\n",
       "      <td>B</td>\n",
       "      <td>8.0</td>\n",
       "      <td>156839.0</td>\n",
       "      <td>Y</td>\n",
       "      <td>672.0</td>\n",
       "      <td>6.510258</td>\n",
       "      <td>6.510258</td>\n",
       "      <td>True</td>\n",
       "    </tr>\n",
       "    <tr>\n",
       "      <th>115</th>\n",
       "      <td>B</td>\n",
       "      <td>G</td>\n",
       "      <td>26.0</td>\n",
       "      <td>156839.0</td>\n",
       "      <td>Y</td>\n",
       "      <td>1240.0</td>\n",
       "      <td>7.122867</td>\n",
       "      <td>7.122867</td>\n",
       "      <td>False</td>\n",
       "    </tr>\n",
       "    <tr>\n",
       "      <th>135</th>\n",
       "      <td>Y</td>\n",
       "      <td>Y</td>\n",
       "      <td>46.0</td>\n",
       "      <td>156839.0</td>\n",
       "      <td>Y</td>\n",
       "      <td>2150.0</td>\n",
       "      <td>7.673223</td>\n",
       "      <td>7.673223</td>\n",
       "      <td>True</td>\n",
       "    </tr>\n",
       "    <tr>\n",
       "      <th>137</th>\n",
       "      <td>G</td>\n",
       "      <td>Y</td>\n",
       "      <td>48.0</td>\n",
       "      <td>156839.0</td>\n",
       "      <td>Y</td>\n",
       "      <td>1984.0</td>\n",
       "      <td>7.592870</td>\n",
       "      <td>7.592870</td>\n",
       "      <td>False</td>\n",
       "    </tr>\n",
       "    <tr>\n",
       "      <th>139</th>\n",
       "      <td>Y</td>\n",
       "      <td>Y</td>\n",
       "      <td>50.0</td>\n",
       "      <td>156839.0</td>\n",
       "      <td>Y</td>\n",
       "      <td>792.0</td>\n",
       "      <td>6.674561</td>\n",
       "      <td>6.674561</td>\n",
       "      <td>True</td>\n",
       "    </tr>\n",
       "    <tr>\n",
       "      <th>...</th>\n",
       "      <td>...</td>\n",
       "      <td>...</td>\n",
       "      <td>...</td>\n",
       "      <td>...</td>\n",
       "      <td>...</td>\n",
       "      <td>...</td>\n",
       "      <td>...</td>\n",
       "      <td>...</td>\n",
       "      <td>...</td>\n",
       "    </tr>\n",
       "    <tr>\n",
       "      <th>2681</th>\n",
       "      <td>Y</td>\n",
       "      <td>Y</td>\n",
       "      <td>54.0</td>\n",
       "      <td>156878.0</td>\n",
       "      <td>Y</td>\n",
       "      <td>1104.0</td>\n",
       "      <td>7.006695</td>\n",
       "      <td>7.006695</td>\n",
       "      <td>True</td>\n",
       "    </tr>\n",
       "    <tr>\n",
       "      <th>2691</th>\n",
       "      <td>Y</td>\n",
       "      <td>Y</td>\n",
       "      <td>64.0</td>\n",
       "      <td>156878.0</td>\n",
       "      <td>Y</td>\n",
       "      <td>1120.0</td>\n",
       "      <td>7.021084</td>\n",
       "      <td>7.021084</td>\n",
       "      <td>True</td>\n",
       "    </tr>\n",
       "    <tr>\n",
       "      <th>2693</th>\n",
       "      <td>Y</td>\n",
       "      <td>Y</td>\n",
       "      <td>66.0</td>\n",
       "      <td>156878.0</td>\n",
       "      <td>Y</td>\n",
       "      <td>1072.0</td>\n",
       "      <td>6.977281</td>\n",
       "      <td>6.977281</td>\n",
       "      <td>True</td>\n",
       "    </tr>\n",
       "    <tr>\n",
       "      <th>2696</th>\n",
       "      <td>Y</td>\n",
       "      <td>Y</td>\n",
       "      <td>69.0</td>\n",
       "      <td>156878.0</td>\n",
       "      <td>Y</td>\n",
       "      <td>976.0</td>\n",
       "      <td>6.883463</td>\n",
       "      <td>6.883463</td>\n",
       "      <td>True</td>\n",
       "    </tr>\n",
       "    <tr>\n",
       "      <th>2698</th>\n",
       "      <td>Y</td>\n",
       "      <td>Y</td>\n",
       "      <td>71.0</td>\n",
       "      <td>156878.0</td>\n",
       "      <td>Y</td>\n",
       "      <td>1048.0</td>\n",
       "      <td>6.954639</td>\n",
       "      <td>6.954639</td>\n",
       "      <td>True</td>\n",
       "    </tr>\n",
       "    <tr>\n",
       "      <th>2706</th>\n",
       "      <td>Y</td>\n",
       "      <td>Y</td>\n",
       "      <td>79.0</td>\n",
       "      <td>156878.0</td>\n",
       "      <td>Y</td>\n",
       "      <td>1000.0</td>\n",
       "      <td>6.907755</td>\n",
       "      <td>6.907755</td>\n",
       "      <td>True</td>\n",
       "    </tr>\n",
       "    <tr>\n",
       "      <th>2708</th>\n",
       "      <td>Y</td>\n",
       "      <td>Y</td>\n",
       "      <td>81.0</td>\n",
       "      <td>156878.0</td>\n",
       "      <td>Y</td>\n",
       "      <td>1000.0</td>\n",
       "      <td>6.907755</td>\n",
       "      <td>6.907755</td>\n",
       "      <td>True</td>\n",
       "    </tr>\n",
       "    <tr>\n",
       "      <th>2710</th>\n",
       "      <td>Y</td>\n",
       "      <td>Y</td>\n",
       "      <td>83.0</td>\n",
       "      <td>156878.0</td>\n",
       "      <td>Y</td>\n",
       "      <td>944.0</td>\n",
       "      <td>6.850126</td>\n",
       "      <td>6.850126</td>\n",
       "      <td>True</td>\n",
       "    </tr>\n",
       "    <tr>\n",
       "      <th>2712</th>\n",
       "      <td>Y</td>\n",
       "      <td>Y</td>\n",
       "      <td>85.0</td>\n",
       "      <td>156878.0</td>\n",
       "      <td>Y</td>\n",
       "      <td>896.0</td>\n",
       "      <td>6.797940</td>\n",
       "      <td>6.797940</td>\n",
       "      <td>True</td>\n",
       "    </tr>\n",
       "    <tr>\n",
       "      <th>2714</th>\n",
       "      <td>Y</td>\n",
       "      <td>Y</td>\n",
       "      <td>87.0</td>\n",
       "      <td>156878.0</td>\n",
       "      <td>Y</td>\n",
       "      <td>944.0</td>\n",
       "      <td>6.850126</td>\n",
       "      <td>6.850126</td>\n",
       "      <td>True</td>\n",
       "    </tr>\n",
       "    <tr>\n",
       "      <th>2718</th>\n",
       "      <td>G</td>\n",
       "      <td>G</td>\n",
       "      <td>3.0</td>\n",
       "      <td>156879.0</td>\n",
       "      <td>Y</td>\n",
       "      <td>4992.0</td>\n",
       "      <td>8.515592</td>\n",
       "      <td>8.515592</td>\n",
       "      <td>True</td>\n",
       "    </tr>\n",
       "    <tr>\n",
       "      <th>2729</th>\n",
       "      <td>B</td>\n",
       "      <td>B</td>\n",
       "      <td>15.0</td>\n",
       "      <td>156879.0</td>\n",
       "      <td>Y</td>\n",
       "      <td>2208.0</td>\n",
       "      <td>7.699842</td>\n",
       "      <td>7.699842</td>\n",
       "      <td>True</td>\n",
       "    </tr>\n",
       "    <tr>\n",
       "      <th>2732</th>\n",
       "      <td>R</td>\n",
       "      <td>R</td>\n",
       "      <td>18.0</td>\n",
       "      <td>156879.0</td>\n",
       "      <td>Y</td>\n",
       "      <td>5344.0</td>\n",
       "      <td>8.583730</td>\n",
       "      <td>8.583730</td>\n",
       "      <td>True</td>\n",
       "    </tr>\n",
       "    <tr>\n",
       "      <th>2740</th>\n",
       "      <td>G</td>\n",
       "      <td>G</td>\n",
       "      <td>26.0</td>\n",
       "      <td>156879.0</td>\n",
       "      <td>Y</td>\n",
       "      <td>1888.0</td>\n",
       "      <td>7.543273</td>\n",
       "      <td>7.543273</td>\n",
       "      <td>True</td>\n",
       "    </tr>\n",
       "    <tr>\n",
       "      <th>2744</th>\n",
       "      <td>B</td>\n",
       "      <td>B</td>\n",
       "      <td>30.0</td>\n",
       "      <td>156879.0</td>\n",
       "      <td>Y</td>\n",
       "      <td>1648.0</td>\n",
       "      <td>7.407318</td>\n",
       "      <td>7.407318</td>\n",
       "      <td>True</td>\n",
       "    </tr>\n",
       "    <tr>\n",
       "      <th>2749</th>\n",
       "      <td>G</td>\n",
       "      <td>G</td>\n",
       "      <td>35.0</td>\n",
       "      <td>156879.0</td>\n",
       "      <td>Y</td>\n",
       "      <td>3560.0</td>\n",
       "      <td>8.177516</td>\n",
       "      <td>8.177516</td>\n",
       "      <td>True</td>\n",
       "    </tr>\n",
       "    <tr>\n",
       "      <th>2753</th>\n",
       "      <td>B</td>\n",
       "      <td>B</td>\n",
       "      <td>39.0</td>\n",
       "      <td>156879.0</td>\n",
       "      <td>Y</td>\n",
       "      <td>2455.0</td>\n",
       "      <td>7.805882</td>\n",
       "      <td>7.805882</td>\n",
       "      <td>True</td>\n",
       "    </tr>\n",
       "    <tr>\n",
       "      <th>2756</th>\n",
       "      <td>G</td>\n",
       "      <td>G</td>\n",
       "      <td>42.0</td>\n",
       "      <td>156879.0</td>\n",
       "      <td>Y</td>\n",
       "      <td>2623.0</td>\n",
       "      <td>7.872074</td>\n",
       "      <td>7.872074</td>\n",
       "      <td>True</td>\n",
       "    </tr>\n",
       "    <tr>\n",
       "      <th>2759</th>\n",
       "      <td>R</td>\n",
       "      <td>R</td>\n",
       "      <td>45.0</td>\n",
       "      <td>156879.0</td>\n",
       "      <td>Y</td>\n",
       "      <td>2240.0</td>\n",
       "      <td>7.714231</td>\n",
       "      <td>7.714231</td>\n",
       "      <td>True</td>\n",
       "    </tr>\n",
       "    <tr>\n",
       "      <th>2764</th>\n",
       "      <td>Y</td>\n",
       "      <td>Y</td>\n",
       "      <td>52.0</td>\n",
       "      <td>156879.0</td>\n",
       "      <td>Y</td>\n",
       "      <td>3200.0</td>\n",
       "      <td>8.070906</td>\n",
       "      <td>8.070906</td>\n",
       "      <td>True</td>\n",
       "    </tr>\n",
       "    <tr>\n",
       "      <th>2766</th>\n",
       "      <td>Y</td>\n",
       "      <td>Y</td>\n",
       "      <td>54.0</td>\n",
       "      <td>156879.0</td>\n",
       "      <td>Y</td>\n",
       "      <td>1104.0</td>\n",
       "      <td>7.006695</td>\n",
       "      <td>7.006695</td>\n",
       "      <td>True</td>\n",
       "    </tr>\n",
       "    <tr>\n",
       "      <th>2776</th>\n",
       "      <td>Y</td>\n",
       "      <td>Y</td>\n",
       "      <td>64.0</td>\n",
       "      <td>156879.0</td>\n",
       "      <td>Y</td>\n",
       "      <td>1120.0</td>\n",
       "      <td>7.021084</td>\n",
       "      <td>7.021084</td>\n",
       "      <td>True</td>\n",
       "    </tr>\n",
       "    <tr>\n",
       "      <th>2778</th>\n",
       "      <td>Y</td>\n",
       "      <td>Y</td>\n",
       "      <td>66.0</td>\n",
       "      <td>156879.0</td>\n",
       "      <td>Y</td>\n",
       "      <td>1072.0</td>\n",
       "      <td>6.977281</td>\n",
       "      <td>6.977281</td>\n",
       "      <td>True</td>\n",
       "    </tr>\n",
       "    <tr>\n",
       "      <th>2781</th>\n",
       "      <td>Y</td>\n",
       "      <td>Y</td>\n",
       "      <td>69.0</td>\n",
       "      <td>156879.0</td>\n",
       "      <td>Y</td>\n",
       "      <td>976.0</td>\n",
       "      <td>6.883463</td>\n",
       "      <td>6.883463</td>\n",
       "      <td>True</td>\n",
       "    </tr>\n",
       "    <tr>\n",
       "      <th>2783</th>\n",
       "      <td>Y</td>\n",
       "      <td>Y</td>\n",
       "      <td>71.0</td>\n",
       "      <td>156879.0</td>\n",
       "      <td>Y</td>\n",
       "      <td>1048.0</td>\n",
       "      <td>6.954639</td>\n",
       "      <td>6.954639</td>\n",
       "      <td>True</td>\n",
       "    </tr>\n",
       "    <tr>\n",
       "      <th>2791</th>\n",
       "      <td>Y</td>\n",
       "      <td>Y</td>\n",
       "      <td>79.0</td>\n",
       "      <td>156879.0</td>\n",
       "      <td>Y</td>\n",
       "      <td>1000.0</td>\n",
       "      <td>6.907755</td>\n",
       "      <td>6.907755</td>\n",
       "      <td>True</td>\n",
       "    </tr>\n",
       "    <tr>\n",
       "      <th>2793</th>\n",
       "      <td>Y</td>\n",
       "      <td>Y</td>\n",
       "      <td>81.0</td>\n",
       "      <td>156879.0</td>\n",
       "      <td>Y</td>\n",
       "      <td>1000.0</td>\n",
       "      <td>6.907755</td>\n",
       "      <td>6.907755</td>\n",
       "      <td>True</td>\n",
       "    </tr>\n",
       "    <tr>\n",
       "      <th>2795</th>\n",
       "      <td>Y</td>\n",
       "      <td>Y</td>\n",
       "      <td>83.0</td>\n",
       "      <td>156879.0</td>\n",
       "      <td>Y</td>\n",
       "      <td>944.0</td>\n",
       "      <td>6.850126</td>\n",
       "      <td>6.850126</td>\n",
       "      <td>True</td>\n",
       "    </tr>\n",
       "    <tr>\n",
       "      <th>2797</th>\n",
       "      <td>Y</td>\n",
       "      <td>Y</td>\n",
       "      <td>85.0</td>\n",
       "      <td>156879.0</td>\n",
       "      <td>Y</td>\n",
       "      <td>896.0</td>\n",
       "      <td>6.797940</td>\n",
       "      <td>6.797940</td>\n",
       "      <td>True</td>\n",
       "    </tr>\n",
       "    <tr>\n",
       "      <th>2799</th>\n",
       "      <td>Y</td>\n",
       "      <td>Y</td>\n",
       "      <td>87.0</td>\n",
       "      <td>156879.0</td>\n",
       "      <td>Y</td>\n",
       "      <td>944.0</td>\n",
       "      <td>6.850126</td>\n",
       "      <td>6.850126</td>\n",
       "      <td>True</td>\n",
       "    </tr>\n",
       "  </tbody>\n",
       "</table>\n",
       "<p>710 rows × 9 columns</p>\n",
       "</div>"
      ],
      "text/plain": [
       "     respcolor stimcolor  trialnum   subject stimword  reaction_time  \\\n",
       "0            Y         Y       1.0  156772.0        Y         1389.0   \n",
       "3            Y         Y       4.0  156772.0        Y         1092.0   \n",
       "7            Y         Y       8.0  156772.0        Y          936.0   \n",
       "12           Y         Y      13.0  156772.0        Y         1029.0   \n",
       "14           Y         Y      15.0  156772.0        Y         1560.0   \n",
       "21           Y         Y      22.0  156772.0        Y         1029.0   \n",
       "23           Y         Y      24.0  156772.0        Y          968.0   \n",
       "25           Y         Y      26.0  156772.0        Y          936.0   \n",
       "29           Y         Y      30.0  156772.0        Y          733.0   \n",
       "31           Y         Y      32.0  156772.0        Y          905.0   \n",
       "33           Y         Y      34.0  156772.0        Y          857.0   \n",
       "36           Y         Y      37.0  156772.0        Y          764.0   \n",
       "40           Y         Y      41.0  156772.0        Y          639.0   \n",
       "42           Y         Y      43.0  156772.0        Y          718.0   \n",
       "45           B         B      46.0  156772.0        Y         1264.0   \n",
       "50           G         G      51.0  156772.0        Y         1966.0   \n",
       "52           B         B      53.0  156772.0        Y         1669.0   \n",
       "58           G         G      59.0  156772.0        Y         1763.0   \n",
       "61           Y         G      62.0  156772.0        Y         1591.0   \n",
       "64           G         G      65.0  156772.0        Y         1669.0   \n",
       "66           G         G      67.0  156772.0        Y         1467.0   \n",
       "69           B         B      70.0  156772.0        Y         1435.0   \n",
       "79           B         B      80.0  156772.0        Y         1450.0   \n",
       "81           G         G      82.0  156772.0        Y         1857.0   \n",
       "84           G         G      85.0  156772.0        Y         1217.0   \n",
       "97           B         B       8.0  156839.0        Y          672.0   \n",
       "115          B         G      26.0  156839.0        Y         1240.0   \n",
       "135          Y         Y      46.0  156839.0        Y         2150.0   \n",
       "137          G         Y      48.0  156839.0        Y         1984.0   \n",
       "139          Y         Y      50.0  156839.0        Y          792.0   \n",
       "...        ...       ...       ...       ...      ...            ...   \n",
       "2681         Y         Y      54.0  156878.0        Y         1104.0   \n",
       "2691         Y         Y      64.0  156878.0        Y         1120.0   \n",
       "2693         Y         Y      66.0  156878.0        Y         1072.0   \n",
       "2696         Y         Y      69.0  156878.0        Y          976.0   \n",
       "2698         Y         Y      71.0  156878.0        Y         1048.0   \n",
       "2706         Y         Y      79.0  156878.0        Y         1000.0   \n",
       "2708         Y         Y      81.0  156878.0        Y         1000.0   \n",
       "2710         Y         Y      83.0  156878.0        Y          944.0   \n",
       "2712         Y         Y      85.0  156878.0        Y          896.0   \n",
       "2714         Y         Y      87.0  156878.0        Y          944.0   \n",
       "2718         G         G       3.0  156879.0        Y         4992.0   \n",
       "2729         B         B      15.0  156879.0        Y         2208.0   \n",
       "2732         R         R      18.0  156879.0        Y         5344.0   \n",
       "2740         G         G      26.0  156879.0        Y         1888.0   \n",
       "2744         B         B      30.0  156879.0        Y         1648.0   \n",
       "2749         G         G      35.0  156879.0        Y         3560.0   \n",
       "2753         B         B      39.0  156879.0        Y         2455.0   \n",
       "2756         G         G      42.0  156879.0        Y         2623.0   \n",
       "2759         R         R      45.0  156879.0        Y         2240.0   \n",
       "2764         Y         Y      52.0  156879.0        Y         3200.0   \n",
       "2766         Y         Y      54.0  156879.0        Y         1104.0   \n",
       "2776         Y         Y      64.0  156879.0        Y         1120.0   \n",
       "2778         Y         Y      66.0  156879.0        Y         1072.0   \n",
       "2781         Y         Y      69.0  156879.0        Y          976.0   \n",
       "2783         Y         Y      71.0  156879.0        Y         1048.0   \n",
       "2791         Y         Y      79.0  156879.0        Y         1000.0   \n",
       "2793         Y         Y      81.0  156879.0        Y         1000.0   \n",
       "2795         Y         Y      83.0  156879.0        Y          944.0   \n",
       "2797         Y         Y      85.0  156879.0        Y          896.0   \n",
       "2799         Y         Y      87.0  156879.0        Y          944.0   \n",
       "\n",
       "      reaction_time_log  reaction_time_log2  isCorrect  \n",
       "0              7.236339            7.236339       True  \n",
       "3              6.995766            6.995766       True  \n",
       "7              6.841615            6.841615       True  \n",
       "12             6.936343            6.936343       True  \n",
       "14             7.352441            7.352441       True  \n",
       "21             6.936343            6.936343       True  \n",
       "23             6.875232            6.875232       True  \n",
       "25             6.841615            6.841615       True  \n",
       "29             6.597146            6.597146       True  \n",
       "31             6.807935            6.807935       True  \n",
       "33             6.753438            6.753438       True  \n",
       "36             6.638568            6.638568       True  \n",
       "40             6.459904            6.459904       True  \n",
       "42             6.576470            6.576470       True  \n",
       "45             7.142037            7.142037       True  \n",
       "50             7.583756            7.583756       True  \n",
       "52             7.419980            7.419980       True  \n",
       "58             7.474772            7.474772       True  \n",
       "61             7.372118            7.372118      False  \n",
       "64             7.419980            7.419980       True  \n",
       "66             7.290975            7.290975       True  \n",
       "69             7.268920            7.268920       True  \n",
       "79             7.279319            7.279319       True  \n",
       "81             7.526718            7.526718       True  \n",
       "84             7.104144            7.104144       True  \n",
       "97             6.510258            6.510258       True  \n",
       "115            7.122867            7.122867      False  \n",
       "135            7.673223            7.673223       True  \n",
       "137            7.592870            7.592870      False  \n",
       "139            6.674561            6.674561       True  \n",
       "...                 ...                 ...        ...  \n",
       "2681           7.006695            7.006695       True  \n",
       "2691           7.021084            7.021084       True  \n",
       "2693           6.977281            6.977281       True  \n",
       "2696           6.883463            6.883463       True  \n",
       "2698           6.954639            6.954639       True  \n",
       "2706           6.907755            6.907755       True  \n",
       "2708           6.907755            6.907755       True  \n",
       "2710           6.850126            6.850126       True  \n",
       "2712           6.797940            6.797940       True  \n",
       "2714           6.850126            6.850126       True  \n",
       "2718           8.515592            8.515592       True  \n",
       "2729           7.699842            7.699842       True  \n",
       "2732           8.583730            8.583730       True  \n",
       "2740           7.543273            7.543273       True  \n",
       "2744           7.407318            7.407318       True  \n",
       "2749           8.177516            8.177516       True  \n",
       "2753           7.805882            7.805882       True  \n",
       "2756           7.872074            7.872074       True  \n",
       "2759           7.714231            7.714231       True  \n",
       "2764           8.070906            8.070906       True  \n",
       "2766           7.006695            7.006695       True  \n",
       "2776           7.021084            7.021084       True  \n",
       "2778           6.977281            6.977281       True  \n",
       "2781           6.883463            6.883463       True  \n",
       "2783           6.954639            6.954639       True  \n",
       "2791           6.907755            6.907755       True  \n",
       "2793           6.907755            6.907755       True  \n",
       "2795           6.850126            6.850126       True  \n",
       "2797           6.797940            6.797940       True  \n",
       "2799           6.850126            6.850126       True  \n",
       "\n",
       "[710 rows x 9 columns]"
      ]
     },
     "execution_count": 88,
     "metadata": {},
     "output_type": "execute_result"
    }
   ],
   "source": [
    "df_good.query(\"stimword == 'Y' & repcolor == 'B' \\\"  aaa \\\" \")"
   ]
  },
  {
   "cell_type": "code",
   "execution_count": 71,
   "metadata": {},
   "outputs": [
    {
     "data": {
      "text/plain": [
       "0.970354302241504"
      ]
     },
     "execution_count": 71,
     "metadata": {},
     "output_type": "execute_result"
    }
   ],
   "source": [
    "df_good['isCorrect'].mean()"
   ]
  },
  {
   "cell_type": "code",
   "execution_count": 72,
   "metadata": {},
   "outputs": [
    {
     "data": {
      "text/plain": [
       "2684"
      ]
     },
     "execution_count": 72,
     "metadata": {},
     "output_type": "execute_result"
    }
   ],
   "source": [
    "df_good['isCorrect'].sum()"
   ]
  },
  {
   "cell_type": "code",
   "execution_count": 73,
   "metadata": {},
   "outputs": [
    {
     "data": {
      "text/plain": [
       "82"
      ]
     },
     "execution_count": 73,
     "metadata": {},
     "output_type": "execute_result"
    }
   ],
   "source": [
    "len(df_good['isCorrect']) - df_good['isCorrect'].sum()"
   ]
  },
  {
   "cell_type": "code",
   "execution_count": 74,
   "metadata": {},
   "outputs": [
    {
     "data": {
      "text/plain": [
       "82"
      ]
     },
     "execution_count": 74,
     "metadata": {},
     "output_type": "execute_result"
    }
   ],
   "source": [
    "(df_good['isCorrect'] == False).sum()"
   ]
  },
  {
   "cell_type": "code",
   "execution_count": 75,
   "metadata": {},
   "outputs": [
    {
     "data": {
      "text/plain": [
       "2766"
      ]
     },
     "execution_count": 75,
     "metadata": {},
     "output_type": "execute_result"
    }
   ],
   "source": [
    "len(df_good['isCorrect'])"
   ]
  },
  {
   "cell_type": "markdown",
   "metadata": {},
   "source": [
    "## Matched vs Unmatched Colors\n",
    "\n",
    " - What weas the mean log response time for Congruent trials (the stimulus word and color matched each other)?\n",
    " - What was the mean log response time for Incongruent trials (when the stimulus word and color did not match each other)?"
   ]
  },
  {
   "cell_type": "code",
   "execution_count": null,
   "metadata": {
    "collapsed": true
   },
   "outputs": [],
   "source": []
  },
  {
   "cell_type": "markdown",
   "metadata": {},
   "source": [
    "## Make a Bar Graph of Mean Log Response Time"
   ]
  },
  {
   "cell_type": "code",
   "execution_count": null,
   "metadata": {
    "collapsed": true
   },
   "outputs": [],
   "source": []
  },
  {
   "cell_type": "markdown",
   "metadata": {},
   "source": [
    "## Make a Scatter Plot: Change in Performance over Time"
   ]
  },
  {
   "cell_type": "code",
   "execution_count": 82,
   "metadata": {
    "collapsed": true
   },
   "outputs": [
    {
     "data": {
      "text/plain": [
       "<matplotlib.axes._subplots.AxesSubplot at 0x7fae215aea58>"
      ]
     },
     "execution_count": 82,
     "metadata": {},
     "output_type": "execute_result"
    },
    {
     "data": {
      "image/png": "[encoded data removed]",
      "text/plain": [
       "<Figure size 432x288 with 1 Axes>"
      ]
     },
     "metadata": {},
     "output_type": "display_data"
    }
   ],
   "source": [
    "sns.regplot(x='trialnum', y='isCorrect', data=df_good, logistic=True)"
   ]
  },
  {
   "cell_type": "code",
   "execution_count": 85,
   "metadata": {},
   "outputs": [
    {
     "ename": "AttributeError",
     "evalue": "Cannot access callable attribute 'astype' of 'SeriesGroupBy' objects, try using the 'apply' method",
     "output_type": "error",
     "traceback": [
      "\u001b[0;31m---------------------------------------------------------------------------\u001b[0m",
      "\u001b[0;31mAttributeError\u001b[0m                            Traceback (most recent call last)",
      "\u001b[0;32m<ipython-input-85-40910415eb86>\u001b[0m in \u001b[0;36m<module>\u001b[0;34m()\u001b[0m\n\u001b[0;32m----> 1\u001b[0;31m \u001b[0mdf_good\u001b[0m\u001b[0;34m.\u001b[0m\u001b[0mgroupby\u001b[0m\u001b[0;34m(\u001b[0m\u001b[0;34m[\u001b[0m\u001b[0;34m'subject'\u001b[0m\u001b[0;34m,\u001b[0m \u001b[0;34m'trialnum'\u001b[0m\u001b[0;34m]\u001b[0m\u001b[0;34m)\u001b[0m\u001b[0;34m[\u001b[0m\u001b[0;34m'isCorrect'\u001b[0m\u001b[0;34m]\u001b[0m\u001b[0;34m.\u001b[0m\u001b[0mastype\u001b[0m\u001b[0;34m(\u001b[0m\u001b[0mint\u001b[0m\u001b[0;34m)\u001b[0m\u001b[0;34m.\u001b[0m\u001b[0mmean\u001b[0m\u001b[0;34m(\u001b[0m\u001b[0;34m)\u001b[0m\u001b[0;34m\u001b[0m\u001b[0m\n\u001b[0m",
      "\u001b[0;32m~/anaconda3/lib/python3.6/site-packages/pandas/core/groupby/groupby.py\u001b[0m in \u001b[0;36m__getattr__\u001b[0;34m(self, attr)\u001b[0m\n\u001b[1;32m    760\u001b[0m             \u001b[0;32mreturn\u001b[0m \u001b[0mself\u001b[0m\u001b[0;34m[\u001b[0m\u001b[0mattr\u001b[0m\u001b[0;34m]\u001b[0m\u001b[0;34m\u001b[0m\u001b[0m\n\u001b[1;32m    761\u001b[0m         \u001b[0;32mif\u001b[0m \u001b[0mhasattr\u001b[0m\u001b[0;34m(\u001b[0m\u001b[0mself\u001b[0m\u001b[0;34m.\u001b[0m\u001b[0mobj\u001b[0m\u001b[0;34m,\u001b[0m \u001b[0mattr\u001b[0m\u001b[0;34m)\u001b[0m\u001b[0;34m:\u001b[0m\u001b[0;34m\u001b[0m\u001b[0m\n\u001b[0;32m--> 762\u001b[0;31m             \u001b[0;32mreturn\u001b[0m \u001b[0mself\u001b[0m\u001b[0;34m.\u001b[0m\u001b[0m_make_wrapper\u001b[0m\u001b[0;34m(\u001b[0m\u001b[0mattr\u001b[0m\u001b[0;34m)\u001b[0m\u001b[0;34m\u001b[0m\u001b[0m\n\u001b[0m\u001b[1;32m    763\u001b[0m \u001b[0;34m\u001b[0m\u001b[0m\n\u001b[1;32m    764\u001b[0m         raise AttributeError(\"%r object has no attribute %r\" %\n",
      "\u001b[0;32m~/anaconda3/lib/python3.6/site-packages/pandas/core/groupby/groupby.py\u001b[0m in \u001b[0;36m_make_wrapper\u001b[0;34m(self, name)\u001b[0m\n\u001b[1;32m    797\u001b[0m                    \"using the 'apply' method\".format(kind, name,\n\u001b[1;32m    798\u001b[0m                                                      type(self).__name__))\n\u001b[0;32m--> 799\u001b[0;31m             \u001b[0;32mraise\u001b[0m \u001b[0mAttributeError\u001b[0m\u001b[0;34m(\u001b[0m\u001b[0mmsg\u001b[0m\u001b[0;34m)\u001b[0m\u001b[0;34m\u001b[0m\u001b[0m\n\u001b[0m\u001b[1;32m    800\u001b[0m \u001b[0;34m\u001b[0m\u001b[0m\n\u001b[1;32m    801\u001b[0m         \u001b[0mself\u001b[0m\u001b[0;34m.\u001b[0m\u001b[0m_set_group_selection\u001b[0m\u001b[0;34m(\u001b[0m\u001b[0;34m)\u001b[0m\u001b[0;34m\u001b[0m\u001b[0m\n",
      "\u001b[0;31mAttributeError\u001b[0m: Cannot access callable attribute 'astype' of 'SeriesGroupBy' objects, try using the 'apply' method"
     ]
    }
   ],
   "source": [
    "df_good.groupby(['subject', 'trialnum'])['isCorrect'].astype(int).mean()"
   ]
  },
  {
   "cell_type": "markdown",
   "metadata": {},
   "source": [
    "## Do all subjects show a difference in response time between the Congruent and Incogruent conditions, or is this just coming from a few subjects?\n",
    "\n",
    "Plot a histogram of the difference in mean log reaction times between conditions for each subject.  What do you think, should anyone be rejected?"
   ]
  },
  {
   "cell_type": "code",
   "execution_count": null,
   "metadata": {
    "collapsed": true
   },
   "outputs": [],
   "source": []
  },
  {
   "cell_type": "markdown",
   "metadata": {},
   "source": [
    "## Plot the mean reaction times for each condition, for each subject."
   ]
  },
  {
   "cell_type": "code",
   "execution_count": null,
   "metadata": {
    "collapsed": true
   },
   "outputs": [],
   "source": []
  },
  {
   "cell_type": "markdown",
   "metadata": {},
   "source": [
    "## Participant Response Speed vs Size of Stroop Effect\n",
    "Make a scatter plot showing the relationship between how quickly subjects responded for congruent and incongruent stimuli (mean response to each stimulus category)!"
   ]
  },
  {
   "cell_type": "code",
   "execution_count": null,
   "metadata": {
    "collapsed": true
   },
   "outputs": [],
   "source": []
  }
 ],
 "metadata": {
  "kernelspec": {
   "display_name": "Python 3",
   "language": "python",
   "name": "python3"
  },
  "language_info": {
   "codemirror_mode": {
    "name": "ipython",
    "version": 3
   },
   "file_extension": ".py",
   "mimetype": "text/x-python",
   "name": "python",
   "nbconvert_exporter": "python",
   "pygments_lexer": "ipython3",
   "version": "3.6.5"
  }
 },
 "nbformat": 4,
 "nbformat_minor": 2
}
