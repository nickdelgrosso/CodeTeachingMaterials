{
 "cells": [
  {
   "cell_type": "markdown",
   "metadata": {},
   "source": [
    "# Download Open Datasets from Statsmodels API\n",
    "\n",
    "instructions found at http://statsmodels.sourceforge.net/stable/datasets/index.html"
   ]
  },
  {
   "cell_type": "code",
   "execution_count": 4,
   "metadata": {
    "collapsed": false
   },
   "outputs": [],
   "source": [
    "import statsmodels.api as sm\n",
    "import pandas as pd"
   ]
  },
  {
   "cell_type": "code",
   "execution_count": 17,
   "metadata": {
    "collapsed": false
   },
   "outputs": [
    {
     "name": "stdout",
     "output_type": "stream",
     "text": [
      "['anes96', 'cancer', 'ccard', 'clear_data_home', 'co2', 'committee', 'copper', 'cpunish', 'elnino', 'engel', 'fair', 'get_data_home', 'get_rdataset', 'grunfeld', 'heart', 'longley', 'macrodata', 'modechoice', 'nile', 'randhie', 'scotland', 'spector', 'stackloss', 'star98', 'statecrime', 'strikes', 'sunspots', 'utils', 'webuse']\n"
     ]
    }
   ],
   "source": [
    "print([el for el in dir(sm.datasets) if '_' not in el[0]])"
   ]
  },
  {
   "cell_type": "code",
   "execution_count": 14,
   "metadata": {
    "collapsed": false
   },
   "outputs": [
    {
     "data": {
      "text/html": [
       "<div>\n",
       "<table border=\"1\" class=\"dataframe\">\n",
       "  <thead>\n",
       "    <tr style=\"text-align: right;\">\n",
       "      <th></th>\n",
       "      <th>TOTEMP</th>\n",
       "      <th>GNPDEFL</th>\n",
       "      <th>GNP</th>\n",
       "      <th>UNEMP</th>\n",
       "      <th>ARMED</th>\n",
       "      <th>POP</th>\n",
       "      <th>YEAR</th>\n",
       "    </tr>\n",
       "  </thead>\n",
       "  <tbody>\n",
       "    <tr>\n",
       "      <th>0</th>\n",
       "      <td>60323.0</td>\n",
       "      <td>83.0</td>\n",
       "      <td>234289.0</td>\n",
       "      <td>2356.0</td>\n",
       "      <td>1590.0</td>\n",
       "      <td>107608.0</td>\n",
       "      <td>1947.0</td>\n",
       "    </tr>\n",
       "    <tr>\n",
       "      <th>1</th>\n",
       "      <td>61122.0</td>\n",
       "      <td>88.5</td>\n",
       "      <td>259426.0</td>\n",
       "      <td>2325.0</td>\n",
       "      <td>1456.0</td>\n",
       "      <td>108632.0</td>\n",
       "      <td>1948.0</td>\n",
       "    </tr>\n",
       "    <tr>\n",
       "      <th>2</th>\n",
       "      <td>60171.0</td>\n",
       "      <td>88.2</td>\n",
       "      <td>258054.0</td>\n",
       "      <td>3682.0</td>\n",
       "      <td>1616.0</td>\n",
       "      <td>109773.0</td>\n",
       "      <td>1949.0</td>\n",
       "    </tr>\n",
       "    <tr>\n",
       "      <th>3</th>\n",
       "      <td>61187.0</td>\n",
       "      <td>89.5</td>\n",
       "      <td>284599.0</td>\n",
       "      <td>3351.0</td>\n",
       "      <td>1650.0</td>\n",
       "      <td>110929.0</td>\n",
       "      <td>1950.0</td>\n",
       "    </tr>\n",
       "    <tr>\n",
       "      <th>4</th>\n",
       "      <td>63221.0</td>\n",
       "      <td>96.2</td>\n",
       "      <td>328975.0</td>\n",
       "      <td>2099.0</td>\n",
       "      <td>3099.0</td>\n",
       "      <td>112075.0</td>\n",
       "      <td>1951.0</td>\n",
       "    </tr>\n",
       "  </tbody>\n",
       "</table>\n",
       "</div>"
      ],
      "text/plain": [
       "    TOTEMP  GNPDEFL       GNP   UNEMP   ARMED       POP    YEAR\n",
       "0  60323.0     83.0  234289.0  2356.0  1590.0  107608.0  1947.0\n",
       "1  61122.0     88.5  259426.0  2325.0  1456.0  108632.0  1948.0\n",
       "2  60171.0     88.2  258054.0  3682.0  1616.0  109773.0  1949.0\n",
       "3  61187.0     89.5  284599.0  3351.0  1650.0  110929.0  1950.0\n",
       "4  63221.0     96.2  328975.0  2099.0  3099.0  112075.0  1951.0"
      ]
     },
     "execution_count": 14,
     "metadata": {},
     "output_type": "execute_result"
    }
   ],
   "source": [
    "econ = sm.datasets.longley.load_pandas().data\n",
    "econ.head()"
   ]
  },
  {
   "cell_type": "code",
   "execution_count": 10,
   "metadata": {
    "collapsed": false
   },
   "outputs": [
    {
     "data": {
      "text/plain": [
       "statsmodels.datasets.utils.Dataset"
      ]
     },
     "execution_count": 10,
     "metadata": {},
     "output_type": "execute_result"
    }
   ],
   "source": [
    "type(econ)"
   ]
  },
  {
   "cell_type": "markdown",
   "metadata": {},
   "source": [
    "# Travel Mode Choices in 1987 between Sydney, Canberra and Melbourn\n",
    "\n",
    "### Description\n",
    "\n",
    "The data, collected as part of a 1987 intercity mode choice study, are a sub-sample of 210 non-business trips between Sydney, Canberra and Melbourne in which the traveler chooses a mode from four alternatives (plane, car, bus and train). The sample, 840 observations, is choice based with over-sampling of the less popular modes (plane, train and bus) and under-sampling of the more popular mode, car. The level of service data was derived from highway and transport networks in Sydney, Melbourne, non-metropolitan N.S.W. and Victoria, including the Australian Capital Territory.\n",
    "\n",
    "### Notes\n",
    "\n",
    "Number of observations: 840 Observations On 4 Modes for 210 Individuals.\n",
    "Number of variables: 8\n",
    "Variable name definitions:\n",
    "\n",
    "  - individual = 1 to 210\n",
    "  - mode =\n",
    "    - 1 - air\n",
    "    - 2 - train\n",
    "    - 3 - bus\n",
    "    - 4 - car\n",
    "  - choice =\n",
    "    - 0 - no\n",
    "    - 1 - yes\n",
    "  - ttme = terminal waiting time for plane, train and bus (minutes); 0 for car.\n",
    "  - invc = in vehicle cost for all stages (dollars).\n",
    "  - invt = travel time (in-vehicle time) for all stages (minutes).\n",
    "  - gc = generalized cost measure:invc+(invt*value of travel time savings) (dollars).\n",
    "  - hinc = household income (1000s of dollars).\n",
    "  - psize = traveling group size in mode chosen (number).\n",
    "    \n",
    "## Source\n",
    "\n",
    "Greene, W.H. and D. Hensher (1997) Multinomial logit and discrete choice models in Greene, W. H. (1997) LIMDEP version 7.0 user’s manual revised, Plainview, New York econometric software, Inc. Download from on-line complements to Greene, W.H. (2011) Econometric Analysis, Prentice Hall, 7th Edition (data table F18-2) http://people.stern.nyu.edu/wgreene/Text/Edition7/TableF18-2.csv    "
   ]
  },
  {
   "cell_type": "code",
   "execution_count": 23,
   "metadata": {
    "collapsed": false
   },
   "outputs": [
    {
     "name": "stdout",
     "output_type": "stream",
     "text": [
      "840\n"
     ]
    },
    {
     "data": {
      "text/html": [
       "<div>\n",
       "<table border=\"1\" class=\"dataframe\">\n",
       "  <thead>\n",
       "    <tr style=\"text-align: right;\">\n",
       "      <th></th>\n",
       "      <th>individual</th>\n",
       "      <th>mode</th>\n",
       "      <th>choice</th>\n",
       "      <th>ttme</th>\n",
       "      <th>invc</th>\n",
       "      <th>invt</th>\n",
       "      <th>gc</th>\n",
       "      <th>hinc</th>\n",
       "      <th>psize</th>\n",
       "    </tr>\n",
       "  </thead>\n",
       "  <tbody>\n",
       "    <tr>\n",
       "      <th>0</th>\n",
       "      <td>1.0</td>\n",
       "      <td>1.0</td>\n",
       "      <td>0.0</td>\n",
       "      <td>69.0</td>\n",
       "      <td>59.0</td>\n",
       "      <td>100.0</td>\n",
       "      <td>70.0</td>\n",
       "      <td>35.0</td>\n",
       "      <td>1.0</td>\n",
       "    </tr>\n",
       "    <tr>\n",
       "      <th>1</th>\n",
       "      <td>1.0</td>\n",
       "      <td>2.0</td>\n",
       "      <td>0.0</td>\n",
       "      <td>34.0</td>\n",
       "      <td>31.0</td>\n",
       "      <td>372.0</td>\n",
       "      <td>71.0</td>\n",
       "      <td>35.0</td>\n",
       "      <td>1.0</td>\n",
       "    </tr>\n",
       "    <tr>\n",
       "      <th>2</th>\n",
       "      <td>1.0</td>\n",
       "      <td>3.0</td>\n",
       "      <td>0.0</td>\n",
       "      <td>35.0</td>\n",
       "      <td>25.0</td>\n",
       "      <td>417.0</td>\n",
       "      <td>70.0</td>\n",
       "      <td>35.0</td>\n",
       "      <td>1.0</td>\n",
       "    </tr>\n",
       "    <tr>\n",
       "      <th>3</th>\n",
       "      <td>1.0</td>\n",
       "      <td>4.0</td>\n",
       "      <td>1.0</td>\n",
       "      <td>0.0</td>\n",
       "      <td>10.0</td>\n",
       "      <td>180.0</td>\n",
       "      <td>30.0</td>\n",
       "      <td>35.0</td>\n",
       "      <td>1.0</td>\n",
       "    </tr>\n",
       "    <tr>\n",
       "      <th>4</th>\n",
       "      <td>2.0</td>\n",
       "      <td>1.0</td>\n",
       "      <td>0.0</td>\n",
       "      <td>64.0</td>\n",
       "      <td>58.0</td>\n",
       "      <td>68.0</td>\n",
       "      <td>68.0</td>\n",
       "      <td>30.0</td>\n",
       "      <td>2.0</td>\n",
       "    </tr>\n",
       "    <tr>\n",
       "      <th>5</th>\n",
       "      <td>2.0</td>\n",
       "      <td>2.0</td>\n",
       "      <td>0.0</td>\n",
       "      <td>44.0</td>\n",
       "      <td>31.0</td>\n",
       "      <td>354.0</td>\n",
       "      <td>84.0</td>\n",
       "      <td>30.0</td>\n",
       "      <td>2.0</td>\n",
       "    </tr>\n",
       "    <tr>\n",
       "      <th>6</th>\n",
       "      <td>2.0</td>\n",
       "      <td>3.0</td>\n",
       "      <td>0.0</td>\n",
       "      <td>53.0</td>\n",
       "      <td>25.0</td>\n",
       "      <td>399.0</td>\n",
       "      <td>85.0</td>\n",
       "      <td>30.0</td>\n",
       "      <td>2.0</td>\n",
       "    </tr>\n",
       "    <tr>\n",
       "      <th>7</th>\n",
       "      <td>2.0</td>\n",
       "      <td>4.0</td>\n",
       "      <td>1.0</td>\n",
       "      <td>0.0</td>\n",
       "      <td>11.0</td>\n",
       "      <td>255.0</td>\n",
       "      <td>50.0</td>\n",
       "      <td>30.0</td>\n",
       "      <td>2.0</td>\n",
       "    </tr>\n",
       "    <tr>\n",
       "      <th>8</th>\n",
       "      <td>3.0</td>\n",
       "      <td>1.0</td>\n",
       "      <td>0.0</td>\n",
       "      <td>69.0</td>\n",
       "      <td>115.0</td>\n",
       "      <td>125.0</td>\n",
       "      <td>129.0</td>\n",
       "      <td>40.0</td>\n",
       "      <td>1.0</td>\n",
       "    </tr>\n",
       "    <tr>\n",
       "      <th>9</th>\n",
       "      <td>3.0</td>\n",
       "      <td>2.0</td>\n",
       "      <td>0.0</td>\n",
       "      <td>34.0</td>\n",
       "      <td>98.0</td>\n",
       "      <td>892.0</td>\n",
       "      <td>195.0</td>\n",
       "      <td>40.0</td>\n",
       "      <td>1.0</td>\n",
       "    </tr>\n",
       "  </tbody>\n",
       "</table>\n",
       "</div>"
      ],
      "text/plain": [
       "   individual  mode  choice  ttme   invc   invt     gc  hinc  psize\n",
       "0         1.0   1.0     0.0  69.0   59.0  100.0   70.0  35.0    1.0\n",
       "1         1.0   2.0     0.0  34.0   31.0  372.0   71.0  35.0    1.0\n",
       "2         1.0   3.0     0.0  35.0   25.0  417.0   70.0  35.0    1.0\n",
       "3         1.0   4.0     1.0   0.0   10.0  180.0   30.0  35.0    1.0\n",
       "4         2.0   1.0     0.0  64.0   58.0   68.0   68.0  30.0    2.0\n",
       "5         2.0   2.0     0.0  44.0   31.0  354.0   84.0  30.0    2.0\n",
       "6         2.0   3.0     0.0  53.0   25.0  399.0   85.0  30.0    2.0\n",
       "7         2.0   4.0     1.0   0.0   11.0  255.0   50.0  30.0    2.0\n",
       "8         3.0   1.0     0.0  69.0  115.0  125.0  129.0  40.0    1.0\n",
       "9         3.0   2.0     0.0  34.0   98.0  892.0  195.0  40.0    1.0"
      ]
     },
     "execution_count": 23,
     "metadata": {},
     "output_type": "execute_result"
    }
   ],
   "source": [
    "travel = sm.datasets.modechoice.load_pandas().data\n",
    "print(len(travel))\n",
    "travel.head(10)"
   ]
  },
  {
   "cell_type": "markdown",
   "metadata": {},
   "source": [
    "# Extramarital Affairs Dataset"
   ]
  },
  {
   "cell_type": "code",
   "execution_count": 25,
   "metadata": {
    "collapsed": false
   },
   "outputs": [
    {
     "data": {
      "text/html": [
       "<iFrame src=\"http://statsmodels.sourceforge.net/stable/datasets/generated/fair.html\" width=900 height=400>\n",
       "</iFrame>"
      ],
      "text/plain": [
       "<IPython.core.display.HTML object>"
      ]
     },
     "metadata": {},
     "output_type": "display_data"
    }
   ],
   "source": [
    "%%HTML\n",
    "<iFrame src=\"http://statsmodels.sourceforge.net/stable/datasets/generated/fair.html\" width=900 height=400>\n",
    "</iFrame>"
   ]
  },
  {
   "cell_type": "code",
   "execution_count": 29,
   "metadata": {
    "collapsed": false
   },
   "outputs": [
    {
     "name": "stdout",
     "output_type": "stream",
     "text": [
      "6366\n"
     ]
    },
    {
     "data": {
      "text/html": [
       "<div>\n",
       "<table border=\"1\" class=\"dataframe\">\n",
       "  <thead>\n",
       "    <tr style=\"text-align: right;\">\n",
       "      <th></th>\n",
       "      <th>rate_marriage</th>\n",
       "      <th>age</th>\n",
       "      <th>yrs_married</th>\n",
       "      <th>children</th>\n",
       "      <th>religious</th>\n",
       "      <th>educ</th>\n",
       "      <th>occupation</th>\n",
       "      <th>occupation_husb</th>\n",
       "      <th>affairs</th>\n",
       "    </tr>\n",
       "  </thead>\n",
       "  <tbody>\n",
       "    <tr>\n",
       "      <th>0</th>\n",
       "      <td>3.0</td>\n",
       "      <td>32.0</td>\n",
       "      <td>9.0</td>\n",
       "      <td>3.0</td>\n",
       "      <td>3.0</td>\n",
       "      <td>17.0</td>\n",
       "      <td>2.0</td>\n",
       "      <td>5.0</td>\n",
       "      <td>0.111111</td>\n",
       "    </tr>\n",
       "    <tr>\n",
       "      <th>1</th>\n",
       "      <td>3.0</td>\n",
       "      <td>27.0</td>\n",
       "      <td>13.0</td>\n",
       "      <td>3.0</td>\n",
       "      <td>1.0</td>\n",
       "      <td>14.0</td>\n",
       "      <td>3.0</td>\n",
       "      <td>4.0</td>\n",
       "      <td>3.230769</td>\n",
       "    </tr>\n",
       "    <tr>\n",
       "      <th>2</th>\n",
       "      <td>4.0</td>\n",
       "      <td>22.0</td>\n",
       "      <td>2.5</td>\n",
       "      <td>0.0</td>\n",
       "      <td>1.0</td>\n",
       "      <td>16.0</td>\n",
       "      <td>3.0</td>\n",
       "      <td>5.0</td>\n",
       "      <td>1.400000</td>\n",
       "    </tr>\n",
       "    <tr>\n",
       "      <th>3</th>\n",
       "      <td>4.0</td>\n",
       "      <td>37.0</td>\n",
       "      <td>16.5</td>\n",
       "      <td>4.0</td>\n",
       "      <td>3.0</td>\n",
       "      <td>16.0</td>\n",
       "      <td>5.0</td>\n",
       "      <td>5.0</td>\n",
       "      <td>0.727273</td>\n",
       "    </tr>\n",
       "    <tr>\n",
       "      <th>4</th>\n",
       "      <td>5.0</td>\n",
       "      <td>27.0</td>\n",
       "      <td>9.0</td>\n",
       "      <td>1.0</td>\n",
       "      <td>1.0</td>\n",
       "      <td>14.0</td>\n",
       "      <td>3.0</td>\n",
       "      <td>4.0</td>\n",
       "      <td>4.666666</td>\n",
       "    </tr>\n",
       "  </tbody>\n",
       "</table>\n",
       "</div>"
      ],
      "text/plain": [
       "   rate_marriage   age  yrs_married  children  religious  educ  occupation  \\\n",
       "0            3.0  32.0          9.0       3.0        3.0  17.0         2.0   \n",
       "1            3.0  27.0         13.0       3.0        1.0  14.0         3.0   \n",
       "2            4.0  22.0          2.5       0.0        1.0  16.0         3.0   \n",
       "3            4.0  37.0         16.5       4.0        3.0  16.0         5.0   \n",
       "4            5.0  27.0          9.0       1.0        1.0  14.0         3.0   \n",
       "\n",
       "   occupation_husb   affairs  \n",
       "0              5.0  0.111111  \n",
       "1              4.0  3.230769  \n",
       "2              5.0  1.400000  \n",
       "3              5.0  0.727273  \n",
       "4              4.0  4.666666  "
      ]
     },
     "execution_count": 29,
     "metadata": {},
     "output_type": "execute_result"
    }
   ],
   "source": [
    "affairs = sm.datasets.fair.load_pandas().data\n",
    "print(len(affairs))\n",
    "affairs.head()"
   ]
  },
  {
   "cell_type": "code",
   "execution_count": 15,
   "metadata": {
    "collapsed": false
   },
   "outputs": [
    {
     "data": {
      "text/plain": [
       "\"Extramarital affair data used to explain the allocation\\nof an individual's time among work, time spent with a spouse, and time\\nspent with a paramour. The data is used as an example of regression\\nwith censored data.\""
      ]
     },
     "execution_count": 15,
     "metadata": {},
     "output_type": "execute_result"
    }
   ],
   "source": []
  },
  {
   "cell_type": "markdown",
   "metadata": {},
   "source": [
    "# Intelligence Testing Comparison in Estonia\n",
    "\n",
    "Paper: From http://openpsychologydata.metajnl.com/articles/10.5334/jopd.ab/\n",
    "\n",
    "DataSet: https://dataverse.harvard.edu/dataset.xhtml?persistentId=doi:10.7910/DVN/23791\n"
   ]
  },
  {
   "cell_type": "code",
   "execution_count": 31,
   "metadata": {
    "collapsed": false,
    "scrolled": false
   },
   "outputs": [
    {
     "data": {
      "text/html": [
       "<iFrame src=\"https://openpsychologydata.metajnl.com/articles/10.5334/jopd.ab/\" width=900 height=400></iFrame>"
      ],
      "text/plain": [
       "<IPython.core.display.HTML object>"
      ]
     },
     "metadata": {},
     "output_type": "display_data"
    }
   ],
   "source": []
  },
  {
   "cell_type": "markdown",
   "metadata": {},
   "source": [
    "# Scientist Questionnaire\n",
    "\n",
    "http://arc.irss.unc.edu/dvn/faces/study/StudyPage.xhtml?globalId=hdl:1902.29/H-861018"
   ]
  },
  {
   "cell_type": "code",
   "execution_count": null,
   "metadata": {
    "collapsed": true
   },
   "outputs": [],
   "source": [
    "big_df = pd.DataFrame()\n",
    "for file in files:\n",
    "    df = read_data()\n",
    "    big_df = big_df.append(df)"
   ]
  },
  {
   "cell_type": "code",
   "execution_count": 16,
   "metadata": {
    "collapsed": true
   },
   "outputs": [],
   "source": [
    "pd.read_csv?"
   ]
  },
  {
   "cell_type": "markdown",
   "metadata": {},
   "source": [
    "# Mortality Rates In Germany (or any country, really)\n",
    "\n",
    "Data available at www.lifetable.de at http://www.lifetable.de/cgi-bin/Country.plx?Country=Germany\n",
    "\n",
    "(Data is broken down into year spans, but into nice CSV files.)  "
   ]
  },
  {
   "cell_type": "code",
   "execution_count": 5,
   "metadata": {
    "collapsed": false
   },
   "outputs": [
    {
     "data": {
      "text/html": [
       "<div>\n",
       "<table border=\"1\" class=\"dataframe\">\n",
       "  <thead>\n",
       "    <tr style=\"text-align: right;\">\n",
       "      <th></th>\n",
       "      <th>Country</th>\n",
       "      <th>Year1</th>\n",
       "      <th>Year2</th>\n",
       "      <th>TypeLT</th>\n",
       "      <th>Sex</th>\n",
       "      <th>Age</th>\n",
       "      <th>AgeInt</th>\n",
       "      <th>m(x)</th>\n",
       "      <th>q(x)</th>\n",
       "      <th>l(x)*</th>\n",
       "      <th>d(x)</th>\n",
       "      <th>L(x)*</th>\n",
       "      <th>T(x)</th>\n",
       "      <th>e(x)</th>\n",
       "    </tr>\n",
       "  </thead>\n",
       "  <tbody>\n",
       "    <tr>\n",
       "      <th>0</th>\n",
       "      <td>DEU0000</td>\n",
       "      <td>1999</td>\n",
       "      <td>2001</td>\n",
       "      <td>1</td>\n",
       "      <td>1</td>\n",
       "      <td>0</td>\n",
       "      <td>1</td>\n",
       "      <td>0.00489</td>\n",
       "      <td>0.00487</td>\n",
       "      <td>100000</td>\n",
       "      <td>487</td>\n",
       "      <td>99593</td>\n",
       "      <td>7510995</td>\n",
       "      <td>75.11</td>\n",
       "    </tr>\n",
       "    <tr>\n",
       "      <th>1</th>\n",
       "      <td>DEU0000</td>\n",
       "      <td>1999</td>\n",
       "      <td>2001</td>\n",
       "      <td>1</td>\n",
       "      <td>1</td>\n",
       "      <td>1</td>\n",
       "      <td>1</td>\n",
       "      <td>0.00044</td>\n",
       "      <td>0.00044</td>\n",
       "      <td>99513</td>\n",
       "      <td>44</td>\n",
       "      <td>99491</td>\n",
       "      <td>7411402</td>\n",
       "      <td>74.48</td>\n",
       "    </tr>\n",
       "    <tr>\n",
       "      <th>2</th>\n",
       "      <td>DEU0000</td>\n",
       "      <td>1999</td>\n",
       "      <td>2001</td>\n",
       "      <td>1</td>\n",
       "      <td>1</td>\n",
       "      <td>2</td>\n",
       "      <td>1</td>\n",
       "      <td>0.00028</td>\n",
       "      <td>0.00028</td>\n",
       "      <td>99469</td>\n",
       "      <td>28</td>\n",
       "      <td>99455</td>\n",
       "      <td>7311911</td>\n",
       "      <td>73.51</td>\n",
       "    </tr>\n",
       "    <tr>\n",
       "      <th>3</th>\n",
       "      <td>DEU0000</td>\n",
       "      <td>1999</td>\n",
       "      <td>2001</td>\n",
       "      <td>1</td>\n",
       "      <td>1</td>\n",
       "      <td>3</td>\n",
       "      <td>1</td>\n",
       "      <td>0.00023</td>\n",
       "      <td>0.00023</td>\n",
       "      <td>99441</td>\n",
       "      <td>23</td>\n",
       "      <td>99430</td>\n",
       "      <td>7212456</td>\n",
       "      <td>72.53</td>\n",
       "    </tr>\n",
       "    <tr>\n",
       "      <th>4</th>\n",
       "      <td>DEU0000</td>\n",
       "      <td>1999</td>\n",
       "      <td>2001</td>\n",
       "      <td>1</td>\n",
       "      <td>1</td>\n",
       "      <td>4</td>\n",
       "      <td>1</td>\n",
       "      <td>0.00017</td>\n",
       "      <td>0.00017</td>\n",
       "      <td>99418</td>\n",
       "      <td>16</td>\n",
       "      <td>99410</td>\n",
       "      <td>7113026</td>\n",
       "      <td>71.55</td>\n",
       "    </tr>\n",
       "  </tbody>\n",
       "</table>\n",
       "</div>"
      ],
      "text/plain": [
       "    Country     Year1     Year2   TypeLT     Sex     Age   AgeInt  \\\n",
       "0   DEU0000      1999      2001        1       1       0        1   \n",
       "1   DEU0000      1999      2001        1       1       1        1   \n",
       "2   DEU0000      1999      2001        1       1       2        1   \n",
       "3   DEU0000      1999      2001        1       1       3        1   \n",
       "4   DEU0000      1999      2001        1       1       4        1   \n",
       "\n",
       "                 m(x)           q(x)         l(x)*          d(x)  \\\n",
       "0             0.00489        0.00487        100000           487   \n",
       "1             0.00044        0.00044         99513            44   \n",
       "2             0.00028        0.00028         99469            28   \n",
       "3             0.00023        0.00023         99441            23   \n",
       "4             0.00017        0.00017         99418            16   \n",
       "\n",
       "           L(x)*           T(x)          e(x)  \n",
       "0          99593        7510995         75.11  \n",
       "1          99491        7411402         74.48  \n",
       "2          99455        7311911         73.51  \n",
       "3          99430        7212456         72.53  \n",
       "4          99410        7113026         71.55  "
      ]
     },
     "execution_count": 5,
     "metadata": {},
     "output_type": "execute_result"
    }
   ],
   "source": [
    "mortality1999 = pd.read_csv('http://www.lifetable.de/data/MPIDR/DEU000019992001CU1.txt')\n",
    "mortality1999.head()"
   ]
  },
  {
   "cell_type": "markdown",
   "metadata": {},
   "source": [
    "### Explanation of columns"
   ]
  },
  {
   "cell_type": "code",
   "execution_count": 6,
   "metadata": {
    "collapsed": false
   },
   "outputs": [
    {
     "data": {
      "text/html": [
       "<iFrame src=\"http://www.lifetable.de/expl.htm\" width=900 height=400></iFrame>"
      ],
      "text/plain": [
       "<IPython.core.display.HTML object>"
      ]
     },
     "metadata": {},
     "output_type": "display_data"
    }
   ],
   "source": [
    "%%HTML\n",
    "<iFrame src=\"http://www.lifetable.de/expl.htm\" width=900 height=400></iFrame>"
   ]
  },
  {
   "cell_type": "markdown",
   "metadata": {},
   "source": [
    "# Other Resources\n",
    "\n",
    "http://guides.library.ucla.edu/c.php?g=180221&p=1188487\n",
    "\n",
    "  - **Neuroscience Information Framework**: https://neuinfo.org/"
   ]
  },
  {
   "cell_type": "code",
   "execution_count": null,
   "metadata": {
    "collapsed": true
   },
   "outputs": [],
   "source": []
  }
 ],
 "metadata": {
  "kernelspec": {
   "display_name": "Python 3",
   "language": "python",
   "name": "python3"
  },
  "language_info": {
   "codemirror_mode": {
    "name": "ipython",
    "version": 3
   },
   "file_extension": ".py",
   "mimetype": "text/x-python",
   "name": "python",
   "nbconvert_exporter": "python",
   "pygments_lexer": "ipython3",
   "version": "3.4.3"
  }
 },
 "nbformat": 4,
 "nbformat_minor": 0
}
