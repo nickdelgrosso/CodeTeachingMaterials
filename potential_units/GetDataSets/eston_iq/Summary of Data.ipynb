{
 "cells": [
  {
   "cell_type": "code",
   "execution_count": 1,
   "metadata": {
    "collapsed": true
   },
   "outputs": [],
   "source": [
    "import pandas as pd"
   ]
  },
  {
   "cell_type": "markdown",
   "metadata": {},
   "source": [
    "# Changes in Performance on  a Standardized Test in Estonia by school children between 1934 and 2006\n",
    "\n",
    "Data from https://dataverse.harvard.edu/dataset.xhtml?persistentId=doi:10.7910/DVN/23791\n",
    "\n",
    "Paper can be found at http://openpsychologydata.metajnl.com/articles/10.5334/jopd.ab/"
   ]
  },
  {
   "cell_type": "code",
   "execution_count": 3,
   "metadata": {
    "collapsed": false
   },
   "outputs": [
    {
     "data": {
      "text/html": [
       "<iFrame src=\"6-44-2-PB.pdf\" height=500 width=900></iFrame>"
      ],
      "text/plain": [
       "<IPython.core.display.HTML object>"
      ]
     },
     "metadata": {},
     "output_type": "display_data"
    }
   ],
   "source": [
    "%%HTML\n",
    "<iFrame src=\"6-44-2-PB.pdf\" height=500 width=900></iFrame>"
   ]
  },
  {
   "cell_type": "markdown",
   "metadata": {},
   "source": [
    "## Data"
   ]
  },
  {
   "cell_type": "code",
   "execution_count": 2,
   "metadata": {
    "collapsed": false
   },
   "outputs": [
    {
     "data": {
      "text/html": [
       "<div>\n",
       "<table border=\"1\" class=\"dataframe\">\n",
       "  <thead>\n",
       "    <tr style=\"text-align: right;\">\n",
       "      <th></th>\n",
       "      <th>group</th>\n",
       "      <th>IDNR</th>\n",
       "      <th>sex</th>\n",
       "      <th>grade</th>\n",
       "      <th>age</th>\n",
       "      <th>a1.1</th>\n",
       "      <th>a1.2</th>\n",
       "      <th>a1.3</th>\n",
       "      <th>a1.4</th>\n",
       "      <th>a1.5</th>\n",
       "      <th>...</th>\n",
       "      <th>b5.40</th>\n",
       "      <th>b5.41</th>\n",
       "      <th>b5.42</th>\n",
       "      <th>b5.43</th>\n",
       "      <th>b5.44</th>\n",
       "      <th>b5.45</th>\n",
       "      <th>b5.46</th>\n",
       "      <th>b5.47</th>\n",
       "      <th>b5.48</th>\n",
       "      <th>b5.49</th>\n",
       "    </tr>\n",
       "  </thead>\n",
       "  <tbody>\n",
       "    <tr>\n",
       "      <th>0</th>\n",
       "      <td>1</td>\n",
       "      <td>40</td>\n",
       "      <td>2</td>\n",
       "      <td>6</td>\n",
       "      <td>13</td>\n",
       "      <td>1</td>\n",
       "      <td>0</td>\n",
       "      <td>1</td>\n",
       "      <td>1</td>\n",
       "      <td>1</td>\n",
       "      <td>...</td>\n",
       "      <td>-9</td>\n",
       "      <td>-9</td>\n",
       "      <td>-9</td>\n",
       "      <td>-9</td>\n",
       "      <td>-9</td>\n",
       "      <td>-9</td>\n",
       "      <td>-9</td>\n",
       "      <td>-9</td>\n",
       "      <td>-9</td>\n",
       "      <td>-9</td>\n",
       "    </tr>\n",
       "    <tr>\n",
       "      <th>1</th>\n",
       "      <td>1</td>\n",
       "      <td>123</td>\n",
       "      <td>2</td>\n",
       "      <td>6</td>\n",
       "      <td>13</td>\n",
       "      <td>1</td>\n",
       "      <td>1</td>\n",
       "      <td>1</td>\n",
       "      <td>1</td>\n",
       "      <td>-9</td>\n",
       "      <td>...</td>\n",
       "      <td>-9</td>\n",
       "      <td>-9</td>\n",
       "      <td>-9</td>\n",
       "      <td>-9</td>\n",
       "      <td>-9</td>\n",
       "      <td>-9</td>\n",
       "      <td>-9</td>\n",
       "      <td>-9</td>\n",
       "      <td>-9</td>\n",
       "      <td>-9</td>\n",
       "    </tr>\n",
       "    <tr>\n",
       "      <th>2</th>\n",
       "      <td>1</td>\n",
       "      <td>628</td>\n",
       "      <td>1</td>\n",
       "      <td>5</td>\n",
       "      <td>16</td>\n",
       "      <td>1</td>\n",
       "      <td>1</td>\n",
       "      <td>1</td>\n",
       "      <td>1</td>\n",
       "      <td>1</td>\n",
       "      <td>...</td>\n",
       "      <td>-9</td>\n",
       "      <td>-9</td>\n",
       "      <td>-9</td>\n",
       "      <td>-9</td>\n",
       "      <td>-9</td>\n",
       "      <td>-9</td>\n",
       "      <td>-9</td>\n",
       "      <td>-9</td>\n",
       "      <td>-9</td>\n",
       "      <td>-9</td>\n",
       "    </tr>\n",
       "    <tr>\n",
       "      <th>3</th>\n",
       "      <td>1</td>\n",
       "      <td>810</td>\n",
       "      <td>2</td>\n",
       "      <td>4</td>\n",
       "      <td>16</td>\n",
       "      <td>-9</td>\n",
       "      <td>-9</td>\n",
       "      <td>1</td>\n",
       "      <td>1</td>\n",
       "      <td>-9</td>\n",
       "      <td>...</td>\n",
       "      <td>-9</td>\n",
       "      <td>-9</td>\n",
       "      <td>-9</td>\n",
       "      <td>-9</td>\n",
       "      <td>-9</td>\n",
       "      <td>-9</td>\n",
       "      <td>-9</td>\n",
       "      <td>-9</td>\n",
       "      <td>-9</td>\n",
       "      <td>-9</td>\n",
       "    </tr>\n",
       "    <tr>\n",
       "      <th>4</th>\n",
       "      <td>1</td>\n",
       "      <td>699</td>\n",
       "      <td>1</td>\n",
       "      <td>4</td>\n",
       "      <td>11</td>\n",
       "      <td>1</td>\n",
       "      <td>1</td>\n",
       "      <td>1</td>\n",
       "      <td>1</td>\n",
       "      <td>1</td>\n",
       "      <td>...</td>\n",
       "      <td>-9</td>\n",
       "      <td>-9</td>\n",
       "      <td>-9</td>\n",
       "      <td>-9</td>\n",
       "      <td>-9</td>\n",
       "      <td>-9</td>\n",
       "      <td>-9</td>\n",
       "      <td>-9</td>\n",
       "      <td>-9</td>\n",
       "      <td>-9</td>\n",
       "    </tr>\n",
       "  </tbody>\n",
       "</table>\n",
       "<p>5 rows × 291 columns</p>\n",
       "</div>"
      ],
      "text/plain": [
       "   group  IDNR  sex  grade  age  a1.1  a1.2  a1.3  a1.4  a1.5  ...    b5.40  \\\n",
       "0      1    40    2      6   13     1     0     1     1     1  ...       -9   \n",
       "1      1   123    2      6   13     1     1     1     1    -9  ...       -9   \n",
       "2      1   628    1      5   16     1     1     1     1     1  ...       -9   \n",
       "3      1   810    2      4   16    -9    -9     1     1    -9  ...       -9   \n",
       "4      1   699    1      4   11     1     1     1     1     1  ...       -9   \n",
       "\n",
       "   b5.41  b5.42  b5.43  b5.44  b5.45  b5.46  b5.47  b5.48  b5.49  \n",
       "0     -9     -9     -9     -9     -9     -9     -9     -9     -9  \n",
       "1     -9     -9     -9     -9     -9     -9     -9     -9     -9  \n",
       "2     -9     -9     -9     -9     -9     -9     -9     -9     -9  \n",
       "3     -9     -9     -9     -9     -9     -9     -9     -9     -9  \n",
       "4     -9     -9     -9     -9     -9     -9     -9     -9     -9  \n",
       "\n",
       "[5 rows x 291 columns]"
      ]
     },
     "execution_count": 2,
     "metadata": {},
     "output_type": "execute_result"
    }
   ],
   "source": [
    "df = pd.read_csv('FE_1933_2006_data2.csv')\n",
    "df.head()"
   ]
  },
  {
   "cell_type": "markdown",
   "metadata": {},
   "source": [
    "## Variable Coding (from FE_1934_2006_variables_coding.txt)\n",
    "  - group\t\"1934/36 = 1; 2006 = 2\"\t\n",
    "  - IDNR\tIdentificator, independent for groups\t\n",
    "  - sex\t\"1 = male ; 2 = female\"\t\n",
    "  - grade\tgrade\t\n",
    "  - age\t\"age in years; miss = -9\"\t\n",
    "  - a1.1\t\"Missing = -9; wrong = 0; right =1 .\"\tBeginning of the subtest A1 (Arithmetical Reasoning)\n",
    "  - a1.2\t\"Missing = -9; wrong = 0; right =1 .\"\t\n",
    "  - ... and so on."
   ]
  },
  {
   "cell_type": "code",
   "execution_count": null,
   "metadata": {
    "collapsed": true
   },
   "outputs": [],
   "source": []
  }
 ],
 "metadata": {
  "kernelspec": {
   "display_name": "Python 3",
   "language": "python",
   "name": "python3"
  },
  "language_info": {
   "codemirror_mode": {
    "name": "ipython",
    "version": 3
   },
   "file_extension": ".py",
   "mimetype": "text/x-python",
   "name": "python",
   "nbconvert_exporter": "python",
   "pygments_lexer": "ipython3",
   "version": "3.4.3"
  }
 },
 "nbformat": 4,
 "nbformat_minor": 0
}
