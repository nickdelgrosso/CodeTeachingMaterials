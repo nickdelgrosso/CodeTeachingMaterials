{
 "cells": [
  {
   "cell_type": "markdown",
   "id": "f1b8639c-5907-4577-980a-65b3cdbeb9f3",
   "metadata": {},
   "source": [
    "## Hebamme List"
   ]
  },
  {
   "cell_type": "code",
   "execution_count": null,
   "id": "f61fab76-4de6-4440-9a7b-c63f5d631f29",
   "metadata": {},
   "outputs": [],
   "source": [
    "# %pip install tabulate selenium pandas"
   ]
  },
  {
   "cell_type": "code",
   "execution_count": 114,
   "id": "fd5c48d1-7135-4caa-b507-525efd04be23",
   "metadata": {},
   "outputs": [],
   "source": [
    "from selenium import webdriver\n",
    "from selenium.webdriver.common.keys import Keys\n",
    "from selenium.webdriver.common.by import By\n",
    "from selenium.common.exceptions import NoSuchElementException, ElementNotInteractableException\n",
    "import pandas as pd"
   ]
  },
  {
   "cell_type": "code",
   "execution_count": 123,
   "id": "b94edeae-7b9c-4dac-968b-69e82864b643",
   "metadata": {},
   "outputs": [],
   "source": [
    "driver = webdriver.Chrome()"
   ]
  },
  {
   "cell_type": "code",
   "execution_count": 124,
   "id": "9069cf12-81b2-4b25-a222-28897a8f4f9b",
   "metadata": {},
   "outputs": [],
   "source": [
    "# Click the \"Accept All\" button\n",
    "driver.get(\"https://www.gkv-spitzenverband.de/service/hebammenliste/hebammenliste.jsp\")"
   ]
  },
  {
   "cell_type": "markdown",
   "id": "d70f3713-1933-4c8b-b12b-5cc4ac0b4f34",
   "metadata": {},
   "source": [
    "#### Accept cookies"
   ]
  },
  {
   "cell_type": "code",
   "execution_count": 125,
   "id": "b473c63d-81a4-420a-95d4-fd34206de346",
   "metadata": {},
   "outputs": [],
   "source": [
    "try:\n",
    "    driver.find_element(by='id', value=\"cb-acceptall\").click()\n",
    "except (NoSuchElementException,ElementNotInteractableException):\n",
    "    pass"
   ]
  },
  {
   "cell_type": "markdown",
   "id": "5b2b610a-b5b9-4d91-b9ef-6914a21e14fb",
   "metadata": {},
   "source": [
    "#### Fill out Form"
   ]
  },
  {
   "cell_type": "code",
   "execution_count": 126,
   "id": "35fca309-1582-44c8-80bf-e8942cdd5d30",
   "metadata": {},
   "outputs": [],
   "source": [
    "driver.find_element('id', 'city').send_keys(\"Mohringen\")\n",
    "driver.find_element('id', 'zipCode').send_keys(\"70567\")\n",
    "driver.find_element('id', 'street').send_keys(\"Onstmettinger Weg 11\")\n",
    "driver.find_element('id', 'radius').send_keys(\"5\")\n",
    "driver.execute_script(\"arguments[0].checked = true\", driver.find_element('id', 'B_WOCHENBETT'))\n",
    "driver.find_element('id', 'btn_hav_submit').click()"
   ]
  },
  {
   "cell_type": "markdown",
   "id": "f0d05e0e-30a1-41ac-bae1-14d9e6f32e7e",
   "metadata": {},
   "source": [
    "#### Get all Search Results"
   ]
  },
  {
   "cell_type": "markdown",
   "id": "7879477b-4502-45b8-a1f2-ca552cf51b69",
   "metadata": {},
   "source": [
    "Make it load all (not just the first 5) results"
   ]
  },
  {
   "cell_type": "code",
   "execution_count": 127,
   "id": "a466c54e-083f-49cb-abf2-0ad9604e9a7b",
   "metadata": {},
   "outputs": [],
   "source": [
    "# btn-view btn-load-more\n",
    "driver.find_element(By.CLASS_NAME, 'btn-load-more').click()"
   ]
  },
  {
   "cell_type": "markdown",
   "id": "6652474d-3941-44d7-a73b-cb0b9b852a5a",
   "metadata": {},
   "source": [
    "Get all items"
   ]
  },
  {
   "cell_type": "code",
   "execution_count": 128,
   "id": "8eecf87b-c7a7-45be-94bf-84b2b16de250",
   "metadata": {},
   "outputs": [
    {
     "data": {
      "text/plain": [
       "44"
      ]
     },
     "execution_count": 128,
     "metadata": {},
     "output_type": "execute_result"
    }
   ],
   "source": [
    "items = driver.find_elements(By.CLASS_NAME, 'item')\n",
    "len(items)"
   ]
  },
  {
   "cell_type": "markdown",
   "id": "af76fb4f-708f-4dd9-acae-7e9ba51d2167",
   "metadata": {},
   "source": [
    "Scrape info"
   ]
  },
  {
   "cell_type": "code",
   "execution_count": 129,
   "id": "9c234680-0207-441b-ab83-0ce06ddffb29",
   "metadata": {},
   "outputs": [
    {
     "data": {
      "text/html": [
       "<div>\n",
       "<style scoped>\n",
       "    .dataframe tbody tr th:only-of-type {\n",
       "        vertical-align: middle;\n",
       "    }\n",
       "\n",
       "    .dataframe tbody tr th {\n",
       "        vertical-align: top;\n",
       "    }\n",
       "\n",
       "    .dataframe thead th {\n",
       "        text-align: right;\n",
       "    }\n",
       "</style>\n",
       "<table border=\"1\" class=\"dataframe\">\n",
       "  <thead>\n",
       "    <tr style=\"text-align: right;\">\n",
       "      <th></th>\n",
       "      <th>name</th>\n",
       "      <th>tel</th>\n",
       "      <th>email</th>\n",
       "    </tr>\n",
       "  </thead>\n",
       "  <tbody>\n",
       "    <tr>\n",
       "      <th>0</th>\n",
       "      <td>Phoebe Rall</td>\n",
       "      <td>+497117199334</td>\n",
       "      <td>ph.rall@t-online.de</td>\n",
       "    </tr>\n",
       "    <tr>\n",
       "      <th>1</th>\n",
       "      <td>Almut Dorothea Theisen</td>\n",
       "      <td>+4971178284781</td>\n",
       "      <td>almut.theisen@gmx.de</td>\n",
       "    </tr>\n",
       "    <tr>\n",
       "      <th>2</th>\n",
       "      <td>Lena Schott</td>\n",
       "      <td>+4915777824292</td>\n",
       "      <td>hebamma.lenaschott@web.de</td>\n",
       "    </tr>\n",
       "    <tr>\n",
       "      <th>3</th>\n",
       "      <td>Sarah Durchdewald</td>\n",
       "      <td>+4971146921300</td>\n",
       "      <td>kontakt@hebamme-durchdewald.com</td>\n",
       "    </tr>\n",
       "    <tr>\n",
       "      <th>4</th>\n",
       "      <td>Verena Sollorz</td>\n",
       "      <td>+4917621244128</td>\n",
       "      <td>verena.sollorz@gmx.de</td>\n",
       "    </tr>\n",
       "  </tbody>\n",
       "</table>\n",
       "</div>"
      ],
      "text/plain": [
       "                     name             tel                            email\n",
       "0             Phoebe Rall   +497117199334              ph.rall@t-online.de\n",
       "1  Almut Dorothea Theisen  +4971178284781             almut.theisen@gmx.de\n",
       "2             Lena Schott  +4915777824292        hebamma.lenaschott@web.de\n",
       "3       Sarah Durchdewald  +4971146921300  kontakt@hebamme-durchdewald.com\n",
       "4          Verena Sollorz  +4917621244128            verena.sollorz@gmx.de"
      ]
     },
     "execution_count": 129,
     "metadata": {},
     "output_type": "execute_result"
    }
   ],
   "source": [
    "\n",
    "contacts = []\n",
    "for item in items:\n",
    "    \n",
    "    try:\n",
    "        name = item.find_element(By.XPATH, 'h3').text\n",
    "    except NoSuchElementException:\n",
    "        continue\n",
    "    \n",
    "    try:\n",
    "        tel = item.find_element(By.CLASS_NAME, 'tel').text\n",
    "    except selenium.common.exceptions.NoSuchElementException:\n",
    "        tel = ''\n",
    "    try:\n",
    "        email = item.find_element(By.CLASS_NAME, 'email').text\n",
    "    except selenium.common.exceptions.NoSuchElementException:\n",
    "        email = ''\n",
    "    contacts.append({\n",
    "        'name': name,\n",
    "        'tel': tel,\n",
    "        'email': email,\n",
    "    })\n",
    "    contacts                 \n",
    "    \n",
    "df = pd.DataFrame(contacts)\n",
    "df.head()"
   ]
  },
  {
   "cell_type": "markdown",
   "id": "4dacd4d8-aa39-4d9f-8731-88585818fef2",
   "metadata": {},
   "source": [
    "#### Export info"
   ]
  },
  {
   "cell_type": "code",
   "execution_count": 132,
   "id": "52804597-af59-43ec-a357-123551c00434",
   "metadata": {},
   "outputs": [
    {
     "name": "stdout",
     "output_type": "stream",
     "text": [
      "|    | name                   |            tel | email                               |\n",
      "|---:|:-----------------------|---------------:|:------------------------------------|\n",
      "|  0 | Phoebe Rall            |  +497117199334 | ph.rall@t-online.de                 |\n",
      "|  1 | Almut Dorothea Theisen | +4971178284781 | almut.theisen@gmx.de                |\n",
      "|  2 | Lena Schott            | +4915777824292 | hebamma.lenaschott@web.de           |\n",
      "|  3 | Sarah Durchdewald      | +4971146921300 | kontakt@hebamme-durchdewald.com     |\n",
      "|  4 | Verena Sollorz         | +4917621244128 | verena.sollorz@gmx.de               |\n",
      "|  5 | Yvonne Weißleder       |    07117824969 |                                     |\n",
      "|  6 | Astrid Scheidel        |  +497116787254 |                                     |\n",
      "|  7 | Kim Nathalie Zwikla    |  +491758984837 | kim.zwikla@aol.com                  |\n",
      "|  8 | Susanne Paul           |    07117676950 |                                     |\n",
      "|  9 | Kathrin Ebel           | +4915738961061 | hebamme.kathrin.ebel@gmail.com      |\n",
      "| 10 | Isabell Bartl          |  +497112268755 | ammebartl@aol.com                   |\n",
      "| 11 | Claudia Wellmann       |  +497117657680 |                                     |\n",
      "| 12 | Franziska Schulte      |  +497114570710 | hebammeschulte@googlemail.com       |\n",
      "| 13 | Sonja Diesner          |  +491785617799 | sonja.diesner@gmx.de                |\n",
      "| 14 | Lara Rina Tomizzi      | +4970711357962 | laratomizzi@gmail.com               |\n",
      "| 15 | Lisa-Marie Wandel      | +4915202727096 | Hebamme-lisawandel@gmx.de           |\n",
      "| 16 | Susanne Lilienthal     |   +49711762254 | info@hebamme-stuttgart-degerloch.de |\n",
      "| 17 | Mailin Krause          |  +491631909373 | maitaikrause@hotmail.com            |\n",
      "| 18 | Ute Kohpahl            | +4971121478753 | utekoh@gmx.de                       |\n",
      "| 19 | Stefanie Hlavsa        | +4971193388330 | s.hlavsa@icloud.com                 |\n",
      "| 20 | Johanna Heggemann      |    01736025945 | j.persch@web.de                     |\n",
      "| 21 | Sabrina Cimen          |  +491727028895 | hebamme.sabrina@gmx.net             |\n",
      "| 22 | Katrin Niang           |    07119950748 |                                     |\n",
      "| 23 | Yvonne Korosidis       |  +497115059844 | y.weber@gmx.de                      |\n",
      "| 24 | Claudia Brodersen      |   017631395153 | claudia-brodersen.hebamme@gmx.net   |\n",
      "| 25 | Anke Prascevic         |  +497112237636 | hebamme-ankeprascevic@arcor.de      |\n",
      "| 26 | Isolde Schuberth       |  +497116406678 |                                     |\n",
      "| 27 | Nadia Lang             |  +497112634502 | langnadia@hotmail.com               |\n",
      "| 28 | Kathrin Kapelle        |  +497116456056 | katkap@t-online.de                  |\n",
      "| 29 | Katja Heß              | +4971112286772 | begleitung@katjahess.de             |\n",
      "| 30 | Franziska Maile        |  +491779172739 | franzi_schumacher@yahoo.com         |\n",
      "| 31 | Christina Schümann     | +4971188857788 | c.schuemann@gmx.net                 |\n",
      "| 32 | Susanne Klatt          |  +497116722592 | info@hebamme-klatt.de               |\n",
      "| 33 | Verena Heidepeik       | +4917650086379 |                                     |\n",
      "| 34 | Jeannine Irmscher      | +4917651004627 |                                     |\n",
      "| 35 | Gabriele Müller        |   071171924619 |                                     |\n",
      "| 36 | Claudia Prothmann      |  +497119957541 |                                     |\n",
      "| 37 | Lena Müller            | +4971150469218 |                                     |\n",
      "| 38 | Claudia Weinheimer     | +4917660802133 | claudia.weinheimer@gmx.net          |\n",
      "| 39 | Ulrike Preußer         |  +491622132404 | ulrike-preusser@hotmail.de          |\n",
      "| 40 | Yevheniya Harder       |  +491623714259 | YevheniyaHarder@web.de              |\n"
     ]
    }
   ],
   "source": [
    "df.to_csv('hebamme_contacts_5km.csv')\n",
    "df.to_html('hebamme_conatcts_5km.html')\n",
    "print(df.to_markdown())"
   ]
  }
 ],
 "metadata": {
  "kernelspec": {
   "display_name": "Python 3 (ipykernel)",
   "language": "python",
   "name": "python3"
  },
  "language_info": {
   "codemirror_mode": {
    "name": "ipython",
    "version": 3
   },
   "file_extension": ".py",
   "mimetype": "text/x-python",
   "name": "python",
   "nbconvert_exporter": "python",
   "pygments_lexer": "ipython3",
   "version": "3.8.13"
  }
 },
 "nbformat": 4,
 "nbformat_minor": 5
}
