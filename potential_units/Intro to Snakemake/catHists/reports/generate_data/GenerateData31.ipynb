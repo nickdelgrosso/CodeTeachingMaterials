{
 "cells": [
  {
   "cell_type": "code",
   "execution_count": 1,
   "metadata": {
    "execution": {
     "iopub.execute_input": "2020-04-26T23:43:24.160644Z",
     "iopub.status.busy": "2020-04-26T23:43:24.159645Z",
     "iopub.status.idle": "2020-04-26T23:43:24.293569Z",
     "shell.execute_reply": "2020-04-26T23:43:24.294568Z"
    },
    "papermill": {
     "duration": 0.14092,
     "end_time": "2020-04-26T23:43:24.294568",
     "exception": false,
     "start_time": "2020-04-26T23:43:24.153648",
     "status": "completed"
    },
    "tags": []
   },
   "outputs": [],
   "source": [
    "import numpy as np"
   ]
  },
  {
   "cell_type": "code",
   "execution_count": 2,
   "metadata": {
    "execution": {
     "iopub.execute_input": "2020-04-26T23:43:24.305561Z",
     "iopub.status.busy": "2020-04-26T23:43:24.305561Z",
     "iopub.status.idle": "2020-04-26T23:43:24.307560Z",
     "shell.execute_reply": "2020-04-26T23:43:24.308560Z"
    },
    "papermill": {
     "duration": 0.009994,
     "end_time": "2020-04-26T23:43:24.308560",
     "exception": false,
     "start_time": "2020-04-26T23:43:24.298566",
     "status": "completed"
    },
    "tags": [
     "parameters"
    ]
   },
   "outputs": [],
   "source": [
    "filename = \"0.txt\""
   ]
  },
  {
   "cell_type": "code",
   "execution_count": 3,
   "metadata": {
    "execution": {
     "iopub.execute_input": "2020-04-26T23:43:24.319554Z",
     "iopub.status.busy": "2020-04-26T23:43:24.319554Z",
     "iopub.status.idle": "2020-04-26T23:43:24.321553Z",
     "shell.execute_reply": "2020-04-26T23:43:24.322552Z"
    },
    "papermill": {
     "duration": 0.010993,
     "end_time": "2020-04-26T23:43:24.322552",
     "exception": false,
     "start_time": "2020-04-26T23:43:24.311559",
     "status": "completed"
    },
    "tags": [
     "injected-parameters"
    ]
   },
   "outputs": [],
   "source": [
    "# Parameters\n",
    "filename = \"rdata/31.txt\"\n"
   ]
  },
  {
   "cell_type": "code",
   "execution_count": 4,
   "metadata": {
    "execution": {
     "iopub.execute_input": "2020-04-26T23:43:24.338543Z",
     "iopub.status.busy": "2020-04-26T23:43:24.338543Z",
     "iopub.status.idle": "2020-04-26T23:43:24.341542Z",
     "shell.execute_reply": "2020-04-26T23:43:24.342540Z"
    },
    "papermill": {
     "duration": 0.01599,
     "end_time": "2020-04-26T23:43:24.342540",
     "exception": false,
     "start_time": "2020-04-26T23:43:24.326550",
     "status": "completed"
    },
    "tags": []
   },
   "outputs": [
    {
     "data": {
      "text/plain": [
       "array([0.61580425, 0.39261349, 0.73194586, 0.62485621, 0.43472708,\n",
       "       0.58108701, 0.58897877, 0.34249861, 0.26195337, 0.95323435])"
      ]
     },
     "execution_count": 4,
     "metadata": {},
     "output_type": "execute_result"
    }
   ],
   "source": [
    "data = np.random.random(10)\n",
    "data"
   ]
  },
  {
   "cell_type": "code",
   "execution_count": 5,
   "metadata": {
    "execution": {
     "iopub.execute_input": "2020-04-26T23:43:24.354535Z",
     "iopub.status.busy": "2020-04-26T23:43:24.354535Z",
     "iopub.status.idle": "2020-04-26T23:43:24.359531Z",
     "shell.execute_reply": "2020-04-26T23:43:24.360531Z"
    },
    "papermill": {
     "duration": 0.014992,
     "end_time": "2020-04-26T23:43:24.360531",
     "exception": false,
     "start_time": "2020-04-26T23:43:24.345539",
     "status": "completed"
    },
    "tags": []
   },
   "outputs": [],
   "source": [
    "np.savetxt(filename, data)"
   ]
  }
 ],
 "metadata": {
  "kernelspec": {
   "display_name": "Python 3",
   "language": "python",
   "name": "python3"
  },
  "language_info": {
   "codemirror_mode": {
    "name": "ipython",
    "version": 3
   },
   "file_extension": ".py",
   "mimetype": "text/x-python",
   "name": "python",
   "nbconvert_exporter": "python",
   "pygments_lexer": "ipython3",
   "version": "3.7.4"
  },
  "papermill": {
   "duration": 1.724154,
   "end_time": "2020-04-26T23:43:24.469468",
   "environment_variables": {},
   "exception": null,
   "input_path": "notebooks/Untitled.ipynb",
   "output_path": "reports/generate_data/GenerateData31.ipynb",
   "parameters": {
    "filename": "rdata/31.txt"
   },
   "start_time": "2020-04-26T23:43:22.745314",
   "version": "2.1.1"
  }
 },
 "nbformat": 4,
 "nbformat_minor": 4
}