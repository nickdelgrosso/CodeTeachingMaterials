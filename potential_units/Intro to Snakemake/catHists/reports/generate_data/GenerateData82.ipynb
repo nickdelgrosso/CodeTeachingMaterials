{
 "cells": [
  {
   "cell_type": "code",
   "execution_count": 1,
   "metadata": {
    "execution": {
     "iopub.execute_input": "2020-04-26T23:43:44.603237Z",
     "iopub.status.busy": "2020-04-26T23:43:44.603237Z",
     "iopub.status.idle": "2020-04-26T23:43:44.713189Z",
     "shell.execute_reply": "2020-04-26T23:43:44.713189Z"
    },
    "papermill": {
     "duration": 0.116949,
     "end_time": "2020-04-26T23:43:44.713189",
     "exception": false,
     "start_time": "2020-04-26T23:43:44.596240",
     "status": "completed"
    },
    "tags": []
   },
   "outputs": [],
   "source": [
    "import numpy as np"
   ]
  },
  {
   "cell_type": "code",
   "execution_count": 2,
   "metadata": {
    "execution": {
     "iopub.execute_input": "2020-04-26T23:43:44.723167Z",
     "iopub.status.busy": "2020-04-26T23:43:44.723167Z",
     "iopub.status.idle": "2020-04-26T23:43:44.727165Z",
     "shell.execute_reply": "2020-04-26T23:43:44.726173Z"
    },
    "papermill": {
     "duration": 0.009993,
     "end_time": "2020-04-26T23:43:44.727165",
     "exception": false,
     "start_time": "2020-04-26T23:43:44.717172",
     "status": "completed"
    },
    "tags": [
     "parameters"
    ]
   },
   "outputs": [],
   "source": [
    "filename = \"0.txt\""
   ]
  },
  {
   "cell_type": "code",
   "execution_count": 3,
   "metadata": {
    "execution": {
     "iopub.execute_input": "2020-04-26T23:43:44.737160Z",
     "iopub.status.busy": "2020-04-26T23:43:44.737160Z",
     "iopub.status.idle": "2020-04-26T23:43:44.739158Z",
     "shell.execute_reply": "2020-04-26T23:43:44.740158Z"
    },
    "papermill": {
     "duration": 0.009995,
     "end_time": "2020-04-26T23:43:44.740158",
     "exception": false,
     "start_time": "2020-04-26T23:43:44.730163",
     "status": "completed"
    },
    "tags": [
     "injected-parameters"
    ]
   },
   "outputs": [],
   "source": [
    "# Parameters\n",
    "filename = \"rdata/82.txt\"\n"
   ]
  },
  {
   "cell_type": "code",
   "execution_count": 4,
   "metadata": {
    "execution": {
     "iopub.execute_input": "2020-04-26T23:43:44.755149Z",
     "iopub.status.busy": "2020-04-26T23:43:44.754150Z",
     "iopub.status.idle": "2020-04-26T23:43:44.759147Z",
     "shell.execute_reply": "2020-04-26T23:43:44.758147Z"
    },
    "papermill": {
     "duration": 0.015991,
     "end_time": "2020-04-26T23:43:44.759147",
     "exception": false,
     "start_time": "2020-04-26T23:43:44.743156",
     "status": "completed"
    },
    "tags": []
   },
   "outputs": [
    {
     "data": {
      "text/plain": [
       "array([0.5077844 , 0.06025934, 0.79460802, 0.66295511, 0.75654328,\n",
       "       0.57863482, 0.93796687, 0.11775694, 0.82615967, 0.27602251])"
      ]
     },
     "execution_count": 4,
     "metadata": {},
     "output_type": "execute_result"
    }
   ],
   "source": [
    "data = np.random.random(10)\n",
    "data"
   ]
  },
  {
   "cell_type": "code",
   "execution_count": 5,
   "metadata": {
    "execution": {
     "iopub.execute_input": "2020-04-26T23:43:44.770141Z",
     "iopub.status.busy": "2020-04-26T23:43:44.769141Z",
     "iopub.status.idle": "2020-04-26T23:43:44.775138Z",
     "shell.execute_reply": "2020-04-26T23:43:44.775138Z"
    },
    "papermill": {
     "duration": 0.012993,
     "end_time": "2020-04-26T23:43:44.775138",
     "exception": false,
     "start_time": "2020-04-26T23:43:44.762145",
     "status": "completed"
    },
    "tags": []
   },
   "outputs": [],
   "source": [
    "np.savetxt(filename, data)"
   ]
  }
 ],
 "metadata": {
  "kernelspec": {
   "display_name": "Python 3",
   "language": "python",
   "name": "python3"
  },
  "language_info": {
   "codemirror_mode": {
    "name": "ipython",
    "version": 3
   },
   "file_extension": ".py",
   "mimetype": "text/x-python",
   "name": "python",
   "nbconvert_exporter": "python",
   "pygments_lexer": "ipython3",
   "version": "3.7.4"
  },
  "papermill": {
   "duration": 1.729146,
   "end_time": "2020-04-26T23:43:44.886209",
   "environment_variables": {},
   "exception": null,
   "input_path": "notebooks/Untitled.ipynb",
   "output_path": "reports/generate_data/GenerateData82.ipynb",
   "parameters": {
    "filename": "rdata/82.txt"
   },
   "start_time": "2020-04-26T23:43:43.157063",
   "version": "2.1.1"
  }
 },
 "nbformat": 4,
 "nbformat_minor": 4
}