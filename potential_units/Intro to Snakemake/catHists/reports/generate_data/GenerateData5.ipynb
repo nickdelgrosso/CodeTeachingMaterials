{
 "cells": [
  {
   "cell_type": "code",
   "execution_count": 1,
   "metadata": {
    "execution": {
     "iopub.execute_input": "2020-04-26T23:39:55.242312Z",
     "iopub.status.busy": "2020-04-26T23:39:55.242312Z",
     "iopub.status.idle": "2020-04-26T23:39:55.351171Z",
     "shell.execute_reply": "2020-04-26T23:39:55.350155Z"
    },
    "papermill": {
     "duration": 0.114857,
     "end_time": "2020-04-26T23:39:55.351171",
     "exception": false,
     "start_time": "2020-04-26T23:39:55.236314",
     "status": "completed"
    },
    "tags": []
   },
   "outputs": [],
   "source": [
    "import numpy as np"
   ]
  },
  {
   "cell_type": "code",
   "execution_count": 2,
   "metadata": {
    "execution": {
     "iopub.execute_input": "2020-04-26T23:39:55.361148Z",
     "iopub.status.busy": "2020-04-26T23:39:55.360149Z",
     "iopub.status.idle": "2020-04-26T23:39:55.363147Z",
     "shell.execute_reply": "2020-04-26T23:39:55.364147Z"
    },
    "papermill": {
     "duration": 0.009977,
     "end_time": "2020-04-26T23:39:55.364147",
     "exception": false,
     "start_time": "2020-04-26T23:39:55.354170",
     "status": "completed"
    },
    "tags": [
     "parameters"
    ]
   },
   "outputs": [],
   "source": [
    "filename = \"0.txt\""
   ]
  },
  {
   "cell_type": "code",
   "execution_count": 3,
   "metadata": {
    "execution": {
     "iopub.execute_input": "2020-04-26T23:39:55.374141Z",
     "iopub.status.busy": "2020-04-26T23:39:55.373158Z",
     "iopub.status.idle": "2020-04-26T23:39:55.376140Z",
     "shell.execute_reply": "2020-04-26T23:39:55.376140Z"
    },
    "papermill": {
     "duration": 0.008978,
     "end_time": "2020-04-26T23:39:55.376140",
     "exception": false,
     "start_time": "2020-04-26T23:39:55.367162",
     "status": "completed"
    },
    "tags": [
     "injected-parameters"
    ]
   },
   "outputs": [],
   "source": [
    "# Parameters\n",
    "filename = \"rdata/5.txt\"\n"
   ]
  },
  {
   "cell_type": "code",
   "execution_count": 4,
   "metadata": {
    "execution": {
     "iopub.execute_input": "2020-04-26T23:39:55.390149Z",
     "iopub.status.busy": "2020-04-26T23:39:55.390149Z",
     "iopub.status.idle": "2020-04-26T23:39:55.393148Z",
     "shell.execute_reply": "2020-04-26T23:39:55.393148Z"
    },
    "papermill": {
     "duration": 0.01401,
     "end_time": "2020-04-26T23:39:55.393148",
     "exception": false,
     "start_time": "2020-04-26T23:39:55.379138",
     "status": "completed"
    },
    "tags": []
   },
   "outputs": [
    {
     "data": {
      "text/plain": [
       "array([0.00570567, 0.39419216, 0.85940557, 0.23553778, 0.17814112,\n",
       "       0.84361605, 0.02203606, 0.88125977, 0.6989502 , 0.10998878])"
      ]
     },
     "execution_count": 4,
     "metadata": {},
     "output_type": "execute_result"
    }
   ],
   "source": [
    "data = np.random.random(10)\n",
    "data"
   ]
  },
  {
   "cell_type": "code",
   "execution_count": 5,
   "metadata": {
    "execution": {
     "iopub.execute_input": "2020-04-26T23:39:55.404141Z",
     "iopub.status.busy": "2020-04-26T23:39:55.403141Z",
     "iopub.status.idle": "2020-04-26T23:39:55.407139Z",
     "shell.execute_reply": "2020-04-26T23:39:55.407139Z"
    },
    "papermill": {
     "duration": 0.009994,
     "end_time": "2020-04-26T23:39:55.407139",
     "exception": false,
     "start_time": "2020-04-26T23:39:55.397145",
     "status": "completed"
    },
    "tags": []
   },
   "outputs": [],
   "source": [
    "np.savetxt(filename, data)"
   ]
  }
 ],
 "metadata": {
  "kernelspec": {
   "display_name": "Python 3",
   "language": "python",
   "name": "python3"
  },
  "language_info": {
   "codemirror_mode": {
    "name": "ipython",
    "version": 3
   },
   "file_extension": ".py",
   "mimetype": "text/x-python",
   "name": "python",
   "nbconvert_exporter": "python",
   "pygments_lexer": "ipython3",
   "version": "3.7.4"
  },
  "papermill": {
   "duration": 1.597685,
   "end_time": "2020-04-26T23:39:55.518229",
   "environment_variables": {},
   "exception": null,
   "input_path": "notebooks/Untitled.ipynb",
   "output_path": "reports/generate_data/GenerateData5.ipynb",
   "parameters": {
    "filename": "rdata/5.txt"
   },
   "start_time": "2020-04-26T23:39:53.920544",
   "version": "2.1.1"
  }
 },
 "nbformat": 4,
 "nbformat_minor": 4
}