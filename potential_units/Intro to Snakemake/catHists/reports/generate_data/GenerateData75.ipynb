{
 "cells": [
  {
   "cell_type": "code",
   "execution_count": 1,
   "metadata": {
    "execution": {
     "iopub.execute_input": "2020-04-26T23:43:40.405634Z",
     "iopub.status.busy": "2020-04-26T23:43:40.404634Z",
     "iopub.status.idle": "2020-04-26T23:43:40.536559Z",
     "shell.execute_reply": "2020-04-26T23:43:40.537559Z"
    },
    "papermill": {
     "duration": 0.139904,
     "end_time": "2020-04-26T23:43:40.537559",
     "exception": false,
     "start_time": "2020-04-26T23:43:40.397655",
     "status": "completed"
    },
    "tags": []
   },
   "outputs": [],
   "source": [
    "import numpy as np"
   ]
  },
  {
   "cell_type": "code",
   "execution_count": 2,
   "metadata": {
    "execution": {
     "iopub.execute_input": "2020-04-26T23:43:40.548553Z",
     "iopub.status.busy": "2020-04-26T23:43:40.547553Z",
     "iopub.status.idle": "2020-04-26T23:43:40.550551Z",
     "shell.execute_reply": "2020-04-26T23:43:40.551552Z"
    },
    "papermill": {
     "duration": 0.009996,
     "end_time": "2020-04-26T23:43:40.551552",
     "exception": false,
     "start_time": "2020-04-26T23:43:40.541556",
     "status": "completed"
    },
    "tags": [
     "parameters"
    ]
   },
   "outputs": [],
   "source": [
    "filename = \"0.txt\""
   ]
  },
  {
   "cell_type": "code",
   "execution_count": 3,
   "metadata": {
    "execution": {
     "iopub.execute_input": "2020-04-26T23:43:40.562545Z",
     "iopub.status.busy": "2020-04-26T23:43:40.562545Z",
     "iopub.status.idle": "2020-04-26T23:43:40.564544Z",
     "shell.execute_reply": "2020-04-26T23:43:40.565543Z"
    },
    "papermill": {
     "duration": 0.010994,
     "end_time": "2020-04-26T23:43:40.565543",
     "exception": false,
     "start_time": "2020-04-26T23:43:40.554549",
     "status": "completed"
    },
    "tags": [
     "injected-parameters"
    ]
   },
   "outputs": [],
   "source": [
    "# Parameters\n",
    "filename = \"rdata/75.txt\"\n"
   ]
  },
  {
   "cell_type": "code",
   "execution_count": 4,
   "metadata": {
    "execution": {
     "iopub.execute_input": "2020-04-26T23:43:40.580534Z",
     "iopub.status.busy": "2020-04-26T23:43:40.580534Z",
     "iopub.status.idle": "2020-04-26T23:43:40.583532Z",
     "shell.execute_reply": "2020-04-26T23:43:40.584531Z"
    },
    "papermill": {
     "duration": 0.01599,
     "end_time": "2020-04-26T23:43:40.584531",
     "exception": false,
     "start_time": "2020-04-26T23:43:40.568541",
     "status": "completed"
    },
    "tags": []
   },
   "outputs": [
    {
     "data": {
      "text/plain": [
       "array([0.78382999, 0.67716684, 0.55531633, 0.12752284, 0.07527435,\n",
       "       0.62423014, 0.22032314, 0.06773603, 0.55845998, 0.25734237])"
      ]
     },
     "execution_count": 4,
     "metadata": {},
     "output_type": "execute_result"
    }
   ],
   "source": [
    "data = np.random.random(10)\n",
    "data"
   ]
  },
  {
   "cell_type": "code",
   "execution_count": 5,
   "metadata": {
    "execution": {
     "iopub.execute_input": "2020-04-26T23:43:40.596525Z",
     "iopub.status.busy": "2020-04-26T23:43:40.596525Z",
     "iopub.status.idle": "2020-04-26T23:43:40.600523Z",
     "shell.execute_reply": "2020-04-26T23:43:40.601522Z"
    },
    "papermill": {
     "duration": 0.012993,
     "end_time": "2020-04-26T23:43:40.601522",
     "exception": false,
     "start_time": "2020-04-26T23:43:40.588529",
     "status": "completed"
    },
    "tags": []
   },
   "outputs": [],
   "source": [
    "np.savetxt(filename, data)"
   ]
  }
 ],
 "metadata": {
  "kernelspec": {
   "display_name": "Python 3",
   "language": "python",
   "name": "python3"
  },
  "language_info": {
   "codemirror_mode": {
    "name": "ipython",
    "version": 3
   },
   "file_extension": ".py",
   "mimetype": "text/x-python",
   "name": "python",
   "nbconvert_exporter": "python",
   "pygments_lexer": "ipython3",
   "version": "3.7.4"
  },
  "papermill": {
   "duration": 1.837973,
   "end_time": "2020-04-26T23:43:40.717456",
   "environment_variables": {},
   "exception": null,
   "input_path": "notebooks/Untitled.ipynb",
   "output_path": "reports/generate_data/GenerateData75.ipynb",
   "parameters": {
    "filename": "rdata/75.txt"
   },
   "start_time": "2020-04-26T23:43:38.879483",
   "version": "2.1.1"
  }
 },
 "nbformat": 4,
 "nbformat_minor": 4
}