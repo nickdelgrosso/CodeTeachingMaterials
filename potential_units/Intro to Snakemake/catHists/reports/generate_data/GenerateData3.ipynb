{
 "cells": [
  {
   "cell_type": "code",
   "execution_count": 1,
   "metadata": {
    "execution": {
     "iopub.execute_input": "2020-04-26T23:40:50.226626Z",
     "iopub.status.busy": "2020-04-26T23:40:50.226626Z",
     "iopub.status.idle": "2020-04-26T23:40:50.345558Z",
     "shell.execute_reply": "2020-04-26T23:40:50.346558Z"
    },
    "papermill": {
     "duration": 0.126929,
     "end_time": "2020-04-26T23:40:50.346558",
     "exception": false,
     "start_time": "2020-04-26T23:40:50.219629",
     "status": "completed"
    },
    "tags": []
   },
   "outputs": [],
   "source": [
    "import numpy as np"
   ]
  },
  {
   "cell_type": "code",
   "execution_count": 2,
   "metadata": {
    "execution": {
     "iopub.execute_input": "2020-04-26T23:40:50.356552Z",
     "iopub.status.busy": "2020-04-26T23:40:50.355553Z",
     "iopub.status.idle": "2020-04-26T23:40:50.358551Z",
     "shell.execute_reply": "2020-04-26T23:40:50.359550Z"
    },
    "papermill": {
     "duration": 0.009994,
     "end_time": "2020-04-26T23:40:50.359550",
     "exception": false,
     "start_time": "2020-04-26T23:40:50.349556",
     "status": "completed"
    },
    "tags": [
     "parameters"
    ]
   },
   "outputs": [],
   "source": [
    "filename = \"0.txt\""
   ]
  },
  {
   "cell_type": "code",
   "execution_count": 3,
   "metadata": {
    "execution": {
     "iopub.execute_input": "2020-04-26T23:40:50.369545Z",
     "iopub.status.busy": "2020-04-26T23:40:50.369545Z",
     "iopub.status.idle": "2020-04-26T23:40:50.371544Z",
     "shell.execute_reply": "2020-04-26T23:40:50.372543Z"
    },
    "papermill": {
     "duration": 0.009994,
     "end_time": "2020-04-26T23:40:50.372543",
     "exception": false,
     "start_time": "2020-04-26T23:40:50.362549",
     "status": "completed"
    },
    "tags": [
     "injected-parameters"
    ]
   },
   "outputs": [],
   "source": [
    "# Parameters\n",
    "filename = \"rdata/3.txt\"\n"
   ]
  },
  {
   "cell_type": "code",
   "execution_count": 4,
   "metadata": {
    "execution": {
     "iopub.execute_input": "2020-04-26T23:40:50.387535Z",
     "iopub.status.busy": "2020-04-26T23:40:50.381538Z",
     "iopub.status.idle": "2020-04-26T23:40:50.390533Z",
     "shell.execute_reply": "2020-04-26T23:40:50.391532Z"
    },
    "papermill": {
     "duration": 0.015991,
     "end_time": "2020-04-26T23:40:50.391532",
     "exception": false,
     "start_time": "2020-04-26T23:40:50.375541",
     "status": "completed"
    },
    "tags": []
   },
   "outputs": [
    {
     "data": {
      "text/plain": [
       "array([0.72722682, 0.99403854, 0.07524413, 0.1182169 , 0.05981241,\n",
       "       0.44073196, 0.01279995, 0.77485211, 0.89399118, 0.15782122])"
      ]
     },
     "execution_count": 4,
     "metadata": {},
     "output_type": "execute_result"
    }
   ],
   "source": [
    "data = np.random.random(10)\n",
    "data"
   ]
  },
  {
   "cell_type": "code",
   "execution_count": 5,
   "metadata": {
    "execution": {
     "iopub.execute_input": "2020-04-26T23:40:50.402526Z",
     "iopub.status.busy": "2020-04-26T23:40:50.401526Z",
     "iopub.status.idle": "2020-04-26T23:40:50.407523Z",
     "shell.execute_reply": "2020-04-26T23:40:50.407523Z"
    },
    "papermill": {
     "duration": 0.013992,
     "end_time": "2020-04-26T23:40:50.408522",
     "exception": false,
     "start_time": "2020-04-26T23:40:50.394530",
     "status": "completed"
    },
    "tags": []
   },
   "outputs": [],
   "source": [
    "np.savetxt(filename, data)"
   ]
  }
 ],
 "metadata": {
  "kernelspec": {
   "display_name": "Python 3",
   "language": "python",
   "name": "python3"
  },
  "language_info": {
   "codemirror_mode": {
    "name": "ipython",
    "version": 3
   },
   "file_extension": ".py",
   "mimetype": "text/x-python",
   "name": "python",
   "nbconvert_exporter": "python",
   "pygments_lexer": "ipython3",
   "version": "3.7.4"
  },
  "papermill": {
   "duration": 1.676042,
   "end_time": "2020-04-26T23:40:50.521457",
   "environment_variables": {},
   "exception": null,
   "input_path": "notebooks/Untitled.ipynb",
   "output_path": "reports/generate_data/GenerateData3.ipynb",
   "parameters": {
    "filename": "rdata/3.txt"
   },
   "start_time": "2020-04-26T23:40:48.845415",
   "version": "2.1.1"
  }
 },
 "nbformat": 4,
 "nbformat_minor": 4
}