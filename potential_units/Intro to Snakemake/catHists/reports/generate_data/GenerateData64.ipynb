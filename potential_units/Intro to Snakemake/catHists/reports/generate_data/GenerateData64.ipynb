{
 "cells": [
  {
   "cell_type": "code",
   "execution_count": 1,
   "metadata": {
    "execution": {
     "iopub.execute_input": "2020-04-26T23:43:45.108051Z",
     "iopub.status.busy": "2020-04-26T23:43:45.107052Z",
     "iopub.status.idle": "2020-04-26T23:43:45.244975Z",
     "shell.execute_reply": "2020-04-26T23:43:45.245974Z"
    },
    "papermill": {
     "duration": 0.145918,
     "end_time": "2020-04-26T23:43:45.245974",
     "exception": false,
     "start_time": "2020-04-26T23:43:45.100056",
     "status": "completed"
    },
    "tags": []
   },
   "outputs": [],
   "source": [
    "import numpy as np"
   ]
  },
  {
   "cell_type": "code",
   "execution_count": 2,
   "metadata": {
    "execution": {
     "iopub.execute_input": "2020-04-26T23:43:45.256967Z",
     "iopub.status.busy": "2020-04-26T23:43:45.255968Z",
     "iopub.status.idle": "2020-04-26T23:43:45.258966Z",
     "shell.execute_reply": "2020-04-26T23:43:45.259965Z"
    },
    "papermill": {
     "duration": 0.009994,
     "end_time": "2020-04-26T23:43:45.259965",
     "exception": false,
     "start_time": "2020-04-26T23:43:45.249971",
     "status": "completed"
    },
    "tags": [
     "parameters"
    ]
   },
   "outputs": [],
   "source": [
    "filename = \"0.txt\""
   ]
  },
  {
   "cell_type": "code",
   "execution_count": 3,
   "metadata": {
    "execution": {
     "iopub.execute_input": "2020-04-26T23:43:45.270960Z",
     "iopub.status.busy": "2020-04-26T23:43:45.269960Z",
     "iopub.status.idle": "2020-04-26T23:43:45.272958Z",
     "shell.execute_reply": "2020-04-26T23:43:45.273957Z"
    },
    "papermill": {
     "duration": 0.010994,
     "end_time": "2020-04-26T23:43:45.273957",
     "exception": false,
     "start_time": "2020-04-26T23:43:45.262963",
     "status": "completed"
    },
    "tags": [
     "injected-parameters"
    ]
   },
   "outputs": [],
   "source": [
    "# Parameters\n",
    "filename = \"rdata/64.txt\"\n"
   ]
  },
  {
   "cell_type": "code",
   "execution_count": 4,
   "metadata": {
    "execution": {
     "iopub.execute_input": "2020-04-26T23:43:45.288948Z",
     "iopub.status.busy": "2020-04-26T23:43:45.288948Z",
     "iopub.status.idle": "2020-04-26T23:43:45.291947Z",
     "shell.execute_reply": "2020-04-26T23:43:45.292946Z"
    },
    "papermill": {
     "duration": 0.01599,
     "end_time": "2020-04-26T23:43:45.292946",
     "exception": false,
     "start_time": "2020-04-26T23:43:45.276956",
     "status": "completed"
    },
    "tags": []
   },
   "outputs": [
    {
     "data": {
      "text/plain": [
       "array([0.95750909, 0.17675712, 0.09559732, 0.75150982, 0.0116612 ,\n",
       "       0.59387314, 0.00369887, 0.04776964, 0.11543908, 0.18890921])"
      ]
     },
     "execution_count": 4,
     "metadata": {},
     "output_type": "execute_result"
    }
   ],
   "source": [
    "data = np.random.random(10)\n",
    "data"
   ]
  },
  {
   "cell_type": "code",
   "execution_count": 5,
   "metadata": {
    "execution": {
     "iopub.execute_input": "2020-04-26T23:43:45.304940Z",
     "iopub.status.busy": "2020-04-26T23:43:45.303940Z",
     "iopub.status.idle": "2020-04-26T23:43:45.308938Z",
     "shell.execute_reply": "2020-04-26T23:43:45.309937Z"
    },
    "papermill": {
     "duration": 0.012993,
     "end_time": "2020-04-26T23:43:45.309937",
     "exception": false,
     "start_time": "2020-04-26T23:43:45.296944",
     "status": "completed"
    },
    "tags": []
   },
   "outputs": [],
   "source": [
    "np.savetxt(filename, data)"
   ]
  }
 ],
 "metadata": {
  "kernelspec": {
   "display_name": "Python 3",
   "language": "python",
   "name": "python3"
  },
  "language_info": {
   "codemirror_mode": {
    "name": "ipython",
    "version": 3
   },
   "file_extension": ".py",
   "mimetype": "text/x-python",
   "name": "python",
   "nbconvert_exporter": "python",
   "pygments_lexer": "ipython3",
   "version": "3.7.4"
  },
  "papermill": {
   "duration": 1.719121,
   "end_time": "2020-04-26T23:43:45.407880",
   "environment_variables": {},
   "exception": null,
   "input_path": "notebooks/Untitled.ipynb",
   "output_path": "reports/generate_data/GenerateData64.ipynb",
   "parameters": {
    "filename": "rdata/64.txt"
   },
   "start_time": "2020-04-26T23:43:43.688759",
   "version": "2.1.1"
  }
 },
 "nbformat": 4,
 "nbformat_minor": 4
}