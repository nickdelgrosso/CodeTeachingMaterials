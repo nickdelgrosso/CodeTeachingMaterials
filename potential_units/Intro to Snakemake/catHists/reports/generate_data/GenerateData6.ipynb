{
 "cells": [
  {
   "cell_type": "code",
   "execution_count": 1,
   "metadata": {
    "execution": {
     "iopub.execute_input": "2020-04-26T23:39:50.431593Z",
     "iopub.status.busy": "2020-04-26T23:39:50.431593Z",
     "iopub.status.idle": "2020-04-26T23:39:50.538187Z",
     "shell.execute_reply": "2020-04-26T23:39:50.537191Z"
    },
    "papermill": {
     "duration": 0.112592,
     "end_time": "2020-04-26T23:39:50.538187",
     "exception": false,
     "start_time": "2020-04-26T23:39:50.425595",
     "status": "completed"
    },
    "tags": []
   },
   "outputs": [],
   "source": [
    "import numpy as np"
   ]
  },
  {
   "cell_type": "code",
   "execution_count": 2,
   "metadata": {
    "execution": {
     "iopub.execute_input": "2020-04-26T23:39:50.546553Z",
     "iopub.status.busy": "2020-04-26T23:39:50.546553Z",
     "iopub.status.idle": "2020-04-26T23:39:50.549550Z",
     "shell.execute_reply": "2020-04-26T23:39:50.549550Z"
    },
    "papermill": {
     "duration": 0.008015,
     "end_time": "2020-04-26T23:39:50.549550",
     "exception": false,
     "start_time": "2020-04-26T23:39:50.541535",
     "status": "completed"
    },
    "tags": [
     "parameters"
    ]
   },
   "outputs": [],
   "source": [
    "filename = \"0.txt\""
   ]
  },
  {
   "cell_type": "code",
   "execution_count": 3,
   "metadata": {
    "execution": {
     "iopub.execute_input": "2020-04-26T23:39:50.559528Z",
     "iopub.status.busy": "2020-04-26T23:39:50.558545Z",
     "iopub.status.idle": "2020-04-26T23:39:50.561528Z",
     "shell.execute_reply": "2020-04-26T23:39:50.561528Z"
    },
    "papermill": {
     "duration": 0.008984,
     "end_time": "2020-04-26T23:39:50.561528",
     "exception": false,
     "start_time": "2020-04-26T23:39:50.552544",
     "status": "completed"
    },
    "tags": [
     "injected-parameters"
    ]
   },
   "outputs": [],
   "source": [
    "# Parameters\n",
    "filename = \"rdata/6.txt\"\n"
   ]
  },
  {
   "cell_type": "code",
   "execution_count": 4,
   "metadata": {
    "execution": {
     "iopub.execute_input": "2020-04-26T23:39:50.576535Z",
     "iopub.status.busy": "2020-04-26T23:39:50.575538Z",
     "iopub.status.idle": "2020-04-26T23:39:50.579518Z",
     "shell.execute_reply": "2020-04-26T23:39:50.579518Z"
    },
    "papermill": {
     "duration": 0.013994,
     "end_time": "2020-04-26T23:39:50.579518",
     "exception": false,
     "start_time": "2020-04-26T23:39:50.565524",
     "status": "completed"
    },
    "tags": []
   },
   "outputs": [
    {
     "data": {
      "text/plain": [
       "array([0.55570201, 0.86054862, 0.10067299, 0.76083195, 0.43342289,\n",
       "       0.75764367, 0.48187789, 0.58613629, 0.80338736, 0.47134799])"
      ]
     },
     "execution_count": 4,
     "metadata": {},
     "output_type": "execute_result"
    }
   ],
   "source": [
    "data = np.random.random(10)\n",
    "data"
   ]
  },
  {
   "cell_type": "code",
   "execution_count": 5,
   "metadata": {
    "execution": {
     "iopub.execute_input": "2020-04-26T23:39:50.590527Z",
     "iopub.status.busy": "2020-04-26T23:39:50.589512Z",
     "iopub.status.idle": "2020-04-26T23:39:50.593525Z",
     "shell.execute_reply": "2020-04-26T23:39:50.593525Z"
    },
    "papermill": {
     "duration": 0.009994,
     "end_time": "2020-04-26T23:39:50.593525",
     "exception": false,
     "start_time": "2020-04-26T23:39:50.583531",
     "status": "completed"
    },
    "tags": []
   },
   "outputs": [],
   "source": [
    "np.savetxt(filename, data)"
   ]
  }
 ],
 "metadata": {
  "kernelspec": {
   "display_name": "Python 3",
   "language": "python",
   "name": "python3"
  },
  "language_info": {
   "codemirror_mode": {
    "name": "ipython",
    "version": 3
   },
   "file_extension": ".py",
   "mimetype": "text/x-python",
   "name": "python",
   "nbconvert_exporter": "python",
   "pygments_lexer": "ipython3",
   "version": "3.7.4"
  },
  "papermill": {
   "duration": 1.577217,
   "end_time": "2020-04-26T23:39:50.689731",
   "environment_variables": {},
   "exception": null,
   "input_path": "notebooks/Untitled.ipynb",
   "output_path": "reports/generate_data/GenerateData6.ipynb",
   "parameters": {
    "filename": "rdata/6.txt"
   },
   "start_time": "2020-04-26T23:39:49.112514",
   "version": "2.1.1"
  }
 },
 "nbformat": 4,
 "nbformat_minor": 4
}