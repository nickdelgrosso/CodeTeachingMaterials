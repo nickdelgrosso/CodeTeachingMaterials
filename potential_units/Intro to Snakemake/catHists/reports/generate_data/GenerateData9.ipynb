{
 "cells": [
  {
   "cell_type": "code",
   "execution_count": 1,
   "metadata": {
    "execution": {
     "iopub.execute_input": "2020-04-26T23:40:50.314576Z",
     "iopub.status.busy": "2020-04-26T23:40:50.314576Z",
     "iopub.status.idle": "2020-04-26T23:40:50.437505Z",
     "shell.execute_reply": "2020-04-26T23:40:50.438505Z"
    },
    "papermill": {
     "duration": 0.130925,
     "end_time": "2020-04-26T23:40:50.438505",
     "exception": false,
     "start_time": "2020-04-26T23:40:50.307580",
     "status": "completed"
    },
    "tags": []
   },
   "outputs": [],
   "source": [
    "import numpy as np"
   ]
  },
  {
   "cell_type": "code",
   "execution_count": 2,
   "metadata": {
    "execution": {
     "iopub.execute_input": "2020-04-26T23:40:50.447500Z",
     "iopub.status.busy": "2020-04-26T23:40:50.447500Z",
     "iopub.status.idle": "2020-04-26T23:40:50.450498Z",
     "shell.execute_reply": "2020-04-26T23:40:50.451498Z"
    },
    "papermill": {
     "duration": 0.009995,
     "end_time": "2020-04-26T23:40:50.451498",
     "exception": false,
     "start_time": "2020-04-26T23:40:50.441503",
     "status": "completed"
    },
    "tags": [
     "parameters"
    ]
   },
   "outputs": [],
   "source": [
    "filename = \"0.txt\""
   ]
  },
  {
   "cell_type": "code",
   "execution_count": 3,
   "metadata": {
    "execution": {
     "iopub.execute_input": "2020-04-26T23:40:50.461492Z",
     "iopub.status.busy": "2020-04-26T23:40:50.461492Z",
     "iopub.status.idle": "2020-04-26T23:40:50.463491Z",
     "shell.execute_reply": "2020-04-26T23:40:50.463491Z"
    },
    "papermill": {
     "duration": 0.009994,
     "end_time": "2020-04-26T23:40:50.464490",
     "exception": false,
     "start_time": "2020-04-26T23:40:50.454496",
     "status": "completed"
    },
    "tags": [
     "injected-parameters"
    ]
   },
   "outputs": [],
   "source": [
    "# Parameters\n",
    "filename = \"rdata/9.txt\"\n"
   ]
  },
  {
   "cell_type": "code",
   "execution_count": 4,
   "metadata": {
    "execution": {
     "iopub.execute_input": "2020-04-26T23:40:50.478482Z",
     "iopub.status.busy": "2020-04-26T23:40:50.478482Z",
     "iopub.status.idle": "2020-04-26T23:40:50.481480Z",
     "shell.execute_reply": "2020-04-26T23:40:50.481480Z"
    },
    "papermill": {
     "duration": 0.013991,
     "end_time": "2020-04-26T23:40:50.481480",
     "exception": false,
     "start_time": "2020-04-26T23:40:50.467489",
     "status": "completed"
    },
    "tags": []
   },
   "outputs": [
    {
     "data": {
      "text/plain": [
       "array([0.83483254, 0.82442168, 0.68402704, 0.02582841, 0.2024084 ,\n",
       "       0.89079546, 0.57700847, 0.51443831, 0.96326771, 0.01589514])"
      ]
     },
     "execution_count": 4,
     "metadata": {},
     "output_type": "execute_result"
    }
   ],
   "source": [
    "data = np.random.random(10)\n",
    "data"
   ]
  },
  {
   "cell_type": "code",
   "execution_count": 5,
   "metadata": {
    "execution": {
     "iopub.execute_input": "2020-04-26T23:40:50.493474Z",
     "iopub.status.busy": "2020-04-26T23:40:50.492474Z",
     "iopub.status.idle": "2020-04-26T23:40:50.500470Z",
     "shell.execute_reply": "2020-04-26T23:40:50.501469Z"
    },
    "papermill": {
     "duration": 0.015991,
     "end_time": "2020-04-26T23:40:50.501469",
     "exception": false,
     "start_time": "2020-04-26T23:40:50.485478",
     "status": "completed"
    },
    "tags": []
   },
   "outputs": [],
   "source": [
    "np.savetxt(filename, data)"
   ]
  }
 ],
 "metadata": {
  "kernelspec": {
   "display_name": "Python 3",
   "language": "python",
   "name": "python3"
  },
  "language_info": {
   "codemirror_mode": {
    "name": "ipython",
    "version": 3
   },
   "file_extension": ".py",
   "mimetype": "text/x-python",
   "name": "python",
   "nbconvert_exporter": "python",
   "pygments_lexer": "ipython3",
   "version": "3.7.4"
  },
  "papermill": {
   "duration": 1.71602,
   "end_time": "2020-04-26T23:40:50.614405",
   "environment_variables": {},
   "exception": null,
   "input_path": "notebooks/Untitled.ipynb",
   "output_path": "reports/generate_data/GenerateData9.ipynb",
   "parameters": {
    "filename": "rdata/9.txt"
   },
   "start_time": "2020-04-26T23:40:48.898385",
   "version": "2.1.1"
  }
 },
 "nbformat": 4,
 "nbformat_minor": 4
}