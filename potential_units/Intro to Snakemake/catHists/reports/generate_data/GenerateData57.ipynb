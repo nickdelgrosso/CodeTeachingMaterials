{
 "cells": [
  {
   "cell_type": "code",
   "execution_count": 1,
   "metadata": {
    "execution": {
     "iopub.execute_input": "2020-04-26T23:43:29.304953Z",
     "iopub.status.busy": "2020-04-26T23:43:29.303953Z",
     "iopub.status.idle": "2020-04-26T23:43:29.454867Z",
     "shell.execute_reply": "2020-04-26T23:43:29.454867Z"
    },
    "papermill": {
     "duration": 0.156911,
     "end_time": "2020-04-26T23:43:29.454867",
     "exception": false,
     "start_time": "2020-04-26T23:43:29.297956",
     "status": "completed"
    },
    "tags": []
   },
   "outputs": [],
   "source": [
    "import numpy as np"
   ]
  },
  {
   "cell_type": "code",
   "execution_count": 2,
   "metadata": {
    "execution": {
     "iopub.execute_input": "2020-04-26T23:43:29.466860Z",
     "iopub.status.busy": "2020-04-26T23:43:29.465860Z",
     "iopub.status.idle": "2020-04-26T23:43:29.469859Z",
     "shell.execute_reply": "2020-04-26T23:43:29.469859Z"
    },
    "papermill": {
     "duration": 0.010994,
     "end_time": "2020-04-26T23:43:29.469859",
     "exception": false,
     "start_time": "2020-04-26T23:43:29.458865",
     "status": "completed"
    },
    "tags": [
     "parameters"
    ]
   },
   "outputs": [],
   "source": [
    "filename = \"0.txt\""
   ]
  },
  {
   "cell_type": "code",
   "execution_count": 3,
   "metadata": {
    "execution": {
     "iopub.execute_input": "2020-04-26T23:43:29.481852Z",
     "iopub.status.busy": "2020-04-26T23:43:29.481852Z",
     "iopub.status.idle": "2020-04-26T23:43:29.484850Z",
     "shell.execute_reply": "2020-04-26T23:43:29.483850Z"
    },
    "papermill": {
     "duration": 0.010994,
     "end_time": "2020-04-26T23:43:29.484850",
     "exception": false,
     "start_time": "2020-04-26T23:43:29.473856",
     "status": "completed"
    },
    "tags": [
     "injected-parameters"
    ]
   },
   "outputs": [],
   "source": [
    "# Parameters\n",
    "filename = \"rdata/57.txt\"\n"
   ]
  },
  {
   "cell_type": "code",
   "execution_count": 4,
   "metadata": {
    "execution": {
     "iopub.execute_input": "2020-04-26T23:43:29.500841Z",
     "iopub.status.busy": "2020-04-26T23:43:29.499842Z",
     "iopub.status.idle": "2020-04-26T23:43:29.503840Z",
     "shell.execute_reply": "2020-04-26T23:43:29.504839Z"
    },
    "papermill": {
     "duration": 0.016991,
     "end_time": "2020-04-26T23:43:29.504839",
     "exception": false,
     "start_time": "2020-04-26T23:43:29.487848",
     "status": "completed"
    },
    "tags": []
   },
   "outputs": [
    {
     "data": {
      "text/plain": [
       "array([0.82159304, 0.99474081, 0.10158215, 0.24772483, 0.41689981,\n",
       "       0.87889249, 0.02141897, 0.55664287, 0.77370763, 0.5491386 ])"
      ]
     },
     "execution_count": 4,
     "metadata": {},
     "output_type": "execute_result"
    }
   ],
   "source": [
    "data = np.random.random(10)\n",
    "data"
   ]
  },
  {
   "cell_type": "code",
   "execution_count": 5,
   "metadata": {
    "execution": {
     "iopub.execute_input": "2020-04-26T23:43:29.516833Z",
     "iopub.status.busy": "2020-04-26T23:43:29.516833Z",
     "iopub.status.idle": "2020-04-26T23:43:29.540819Z",
     "shell.execute_reply": "2020-04-26T23:43:29.541819Z"
    },
    "papermill": {
     "duration": 0.032983,
     "end_time": "2020-04-26T23:43:29.541819",
     "exception": false,
     "start_time": "2020-04-26T23:43:29.508836",
     "status": "completed"
    },
    "tags": []
   },
   "outputs": [],
   "source": [
    "np.savetxt(filename, data)"
   ]
  }
 ],
 "metadata": {
  "kernelspec": {
   "display_name": "Python 3",
   "language": "python",
   "name": "python3"
  },
  "language_info": {
   "codemirror_mode": {
    "name": "ipython",
    "version": 3
   },
   "file_extension": ".py",
   "mimetype": "text/x-python",
   "name": "python",
   "nbconvert_exporter": "python",
   "pygments_lexer": "ipython3",
   "version": "3.7.4"
  },
  "papermill": {
   "duration": 1.995107,
   "end_time": "2020-04-26T23:43:29.645758",
   "environment_variables": {},
   "exception": null,
   "input_path": "notebooks/Untitled.ipynb",
   "output_path": "reports/generate_data/GenerateData57.ipynb",
   "parameters": {
    "filename": "rdata/57.txt"
   },
   "start_time": "2020-04-26T23:43:27.650651",
   "version": "2.1.1"
  }
 },
 "nbformat": 4,
 "nbformat_minor": 4
}