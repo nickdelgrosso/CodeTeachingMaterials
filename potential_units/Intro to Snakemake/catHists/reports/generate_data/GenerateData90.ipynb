{
 "cells": [
  {
   "cell_type": "code",
   "execution_count": 1,
   "metadata": {
    "execution": {
     "iopub.execute_input": "2020-04-26T23:43:34.918746Z",
     "iopub.status.busy": "2020-04-26T23:43:34.917747Z",
     "iopub.status.idle": "2020-04-26T23:43:35.065661Z",
     "shell.execute_reply": "2020-04-26T23:43:35.066661Z"
    },
    "papermill": {
     "duration": 0.155911,
     "end_time": "2020-04-26T23:43:35.066661",
     "exception": false,
     "start_time": "2020-04-26T23:43:34.910750",
     "status": "completed"
    },
    "tags": []
   },
   "outputs": [],
   "source": [
    "import numpy as np"
   ]
  },
  {
   "cell_type": "code",
   "execution_count": 2,
   "metadata": {
    "execution": {
     "iopub.execute_input": "2020-04-26T23:43:35.076656Z",
     "iopub.status.busy": "2020-04-26T23:43:35.075656Z",
     "iopub.status.idle": "2020-04-26T23:43:35.078654Z",
     "shell.execute_reply": "2020-04-26T23:43:35.078654Z"
    },
    "papermill": {
     "duration": 0.009995,
     "end_time": "2020-04-26T23:43:35.079654",
     "exception": false,
     "start_time": "2020-04-26T23:43:35.069659",
     "status": "completed"
    },
    "tags": [
     "parameters"
    ]
   },
   "outputs": [],
   "source": [
    "filename = \"0.txt\""
   ]
  },
  {
   "cell_type": "code",
   "execution_count": 3,
   "metadata": {
    "execution": {
     "iopub.execute_input": "2020-04-26T23:43:35.113635Z",
     "iopub.status.busy": "2020-04-26T23:43:35.112635Z",
     "iopub.status.idle": "2020-04-26T23:43:35.115634Z",
     "shell.execute_reply": "2020-04-26T23:43:35.114634Z"
    },
    "papermill": {
     "duration": 0.031982,
     "end_time": "2020-04-26T23:43:35.115634",
     "exception": false,
     "start_time": "2020-04-26T23:43:35.083652",
     "status": "completed"
    },
    "tags": [
     "injected-parameters"
    ]
   },
   "outputs": [],
   "source": [
    "# Parameters\n",
    "filename = \"rdata/90.txt\"\n"
   ]
  },
  {
   "cell_type": "code",
   "execution_count": 4,
   "metadata": {
    "execution": {
     "iopub.execute_input": "2020-04-26T23:43:35.125628Z",
     "iopub.status.busy": "2020-04-26T23:43:35.125628Z",
     "iopub.status.idle": "2020-04-26T23:43:35.134623Z",
     "shell.execute_reply": "2020-04-26T23:43:35.134623Z"
    },
    "papermill": {
     "duration": 0.016991,
     "end_time": "2020-04-26T23:43:35.135623",
     "exception": false,
     "start_time": "2020-04-26T23:43:35.118632",
     "status": "completed"
    },
    "tags": []
   },
   "outputs": [
    {
     "data": {
      "text/plain": [
       "array([0.88484047, 0.11117561, 0.89673269, 0.14779891, 0.22679602,\n",
       "       0.60016885, 0.40553706, 0.80816666, 0.63492444, 0.37934944])"
      ]
     },
     "execution_count": 4,
     "metadata": {},
     "output_type": "execute_result"
    }
   ],
   "source": [
    "data = np.random.random(10)\n",
    "data"
   ]
  },
  {
   "cell_type": "code",
   "execution_count": 5,
   "metadata": {
    "execution": {
     "iopub.execute_input": "2020-04-26T23:43:35.148616Z",
     "iopub.status.busy": "2020-04-26T23:43:35.148616Z",
     "iopub.status.idle": "2020-04-26T23:43:35.154612Z",
     "shell.execute_reply": "2020-04-26T23:43:35.155611Z"
    },
    "papermill": {
     "duration": 0.01599,
     "end_time": "2020-04-26T23:43:35.155611",
     "exception": false,
     "start_time": "2020-04-26T23:43:35.139621",
     "status": "completed"
    },
    "tags": []
   },
   "outputs": [],
   "source": [
    "np.savetxt(filename, data)"
   ]
  }
 ],
 "metadata": {
  "kernelspec": {
   "display_name": "Python 3",
   "language": "python",
   "name": "python3"
  },
  "language_info": {
   "codemirror_mode": {
    "name": "ipython",
    "version": 3
   },
   "file_extension": ".py",
   "mimetype": "text/x-python",
   "name": "python",
   "nbconvert_exporter": "python",
   "pygments_lexer": "ipython3",
   "version": "3.7.4"
  },
  "papermill": {
   "duration": 2.223731,
   "end_time": "2020-04-26T23:43:35.259552",
   "environment_variables": {},
   "exception": null,
   "input_path": "notebooks/Untitled.ipynb",
   "output_path": "reports/generate_data/GenerateData90.ipynb",
   "parameters": {
    "filename": "rdata/90.txt"
   },
   "start_time": "2020-04-26T23:43:33.035821",
   "version": "2.1.1"
  }
 },
 "nbformat": 4,
 "nbformat_minor": 4
}