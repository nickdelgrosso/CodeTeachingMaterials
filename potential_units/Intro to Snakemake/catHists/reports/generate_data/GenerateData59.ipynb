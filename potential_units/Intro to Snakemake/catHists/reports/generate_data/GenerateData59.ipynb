{
 "cells": [
  {
   "cell_type": "code",
   "execution_count": 1,
   "metadata": {
    "execution": {
     "iopub.execute_input": "2020-04-26T23:43:40.060809Z",
     "iopub.status.busy": "2020-04-26T23:43:40.059809Z",
     "iopub.status.idle": "2020-04-26T23:43:40.174743Z",
     "shell.execute_reply": "2020-04-26T23:43:40.175743Z"
    },
    "papermill": {
     "duration": 0.121913,
     "end_time": "2020-04-26T23:43:40.175743",
     "exception": false,
     "start_time": "2020-04-26T23:43:40.053830",
     "status": "completed"
    },
    "tags": []
   },
   "outputs": [],
   "source": [
    "import numpy as np"
   ]
  },
  {
   "cell_type": "code",
   "execution_count": 2,
   "metadata": {
    "execution": {
     "iopub.execute_input": "2020-04-26T23:43:40.185737Z",
     "iopub.status.busy": "2020-04-26T23:43:40.184738Z",
     "iopub.status.idle": "2020-04-26T23:43:40.188736Z",
     "shell.execute_reply": "2020-04-26T23:43:40.187737Z"
    },
    "papermill": {
     "duration": 0.009995,
     "end_time": "2020-04-26T23:43:40.188736",
     "exception": false,
     "start_time": "2020-04-26T23:43:40.178741",
     "status": "completed"
    },
    "tags": [
     "parameters"
    ]
   },
   "outputs": [],
   "source": [
    "filename = \"0.txt\""
   ]
  },
  {
   "cell_type": "code",
   "execution_count": 3,
   "metadata": {
    "execution": {
     "iopub.execute_input": "2020-04-26T23:43:40.200728Z",
     "iopub.status.busy": "2020-04-26T23:43:40.199730Z",
     "iopub.status.idle": "2020-04-26T23:43:40.203727Z",
     "shell.execute_reply": "2020-04-26T23:43:40.202727Z"
    },
    "papermill": {
     "duration": 0.011993,
     "end_time": "2020-04-26T23:43:40.203727",
     "exception": false,
     "start_time": "2020-04-26T23:43:40.191734",
     "status": "completed"
    },
    "tags": [
     "injected-parameters"
    ]
   },
   "outputs": [],
   "source": [
    "# Parameters\n",
    "filename = \"rdata/59.txt\"\n"
   ]
  },
  {
   "cell_type": "code",
   "execution_count": 4,
   "metadata": {
    "execution": {
     "iopub.execute_input": "2020-04-26T23:43:40.218718Z",
     "iopub.status.busy": "2020-04-26T23:43:40.218718Z",
     "iopub.status.idle": "2020-04-26T23:43:40.222716Z",
     "shell.execute_reply": "2020-04-26T23:43:40.221716Z"
    },
    "papermill": {
     "duration": 0.015992,
     "end_time": "2020-04-26T23:43:40.222716",
     "exception": false,
     "start_time": "2020-04-26T23:43:40.206724",
     "status": "completed"
    },
    "tags": []
   },
   "outputs": [
    {
     "data": {
      "text/plain": [
       "array([0.34001564, 0.27535529, 0.2766364 , 0.96247571, 0.77328433,\n",
       "       0.40576895, 0.33475564, 0.10848051, 0.77246531, 0.62012683])"
      ]
     },
     "execution_count": 4,
     "metadata": {},
     "output_type": "execute_result"
    }
   ],
   "source": [
    "data = np.random.random(10)\n",
    "data"
   ]
  },
  {
   "cell_type": "code",
   "execution_count": 5,
   "metadata": {
    "execution": {
     "iopub.execute_input": "2020-04-26T23:43:40.233710Z",
     "iopub.status.busy": "2020-04-26T23:43:40.233710Z",
     "iopub.status.idle": "2020-04-26T23:43:40.238707Z",
     "shell.execute_reply": "2020-04-26T23:43:40.239706Z"
    },
    "papermill": {
     "duration": 0.013992,
     "end_time": "2020-04-26T23:43:40.239706",
     "exception": false,
     "start_time": "2020-04-26T23:43:40.225714",
     "status": "completed"
    },
    "tags": []
   },
   "outputs": [],
   "source": [
    "np.savetxt(filename, data)"
   ]
  }
 ],
 "metadata": {
  "kernelspec": {
   "display_name": "Python 3",
   "language": "python",
   "name": "python3"
  },
  "language_info": {
   "codemirror_mode": {
    "name": "ipython",
    "version": 3
   },
   "file_extension": ".py",
   "mimetype": "text/x-python",
   "name": "python",
   "nbconvert_exporter": "python",
   "pygments_lexer": "ipython3",
   "version": "3.7.4"
  },
  "papermill": {
   "duration": 1.863957,
   "end_time": "2020-04-26T23:43:40.352664",
   "environment_variables": {},
   "exception": null,
   "input_path": "notebooks/Untitled.ipynb",
   "output_path": "reports/generate_data/GenerateData59.ipynb",
   "parameters": {
    "filename": "rdata/59.txt"
   },
   "start_time": "2020-04-26T23:43:38.488707",
   "version": "2.1.1"
  }
 },
 "nbformat": 4,
 "nbformat_minor": 4
}