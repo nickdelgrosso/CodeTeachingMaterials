{
 "cells": [
  {
   "cell_type": "code",
   "execution_count": 1,
   "metadata": {
    "execution": {
     "iopub.execute_input": "2020-04-26T23:43:34.460008Z",
     "iopub.status.busy": "2020-04-26T23:43:34.459008Z",
     "iopub.status.idle": "2020-04-26T23:43:34.908753Z",
     "shell.execute_reply": "2020-04-26T23:43:34.909752Z"
    },
    "papermill": {
     "duration": 0.458739,
     "end_time": "2020-04-26T23:43:34.909752",
     "exception": false,
     "start_time": "2020-04-26T23:43:34.451013",
     "status": "completed"
    },
    "tags": []
   },
   "outputs": [],
   "source": [
    "import numpy as np"
   ]
  },
  {
   "cell_type": "code",
   "execution_count": 2,
   "metadata": {
    "execution": {
     "iopub.execute_input": "2020-04-26T23:43:34.922743Z",
     "iopub.status.busy": "2020-04-26T23:43:34.921744Z",
     "iopub.status.idle": "2020-04-26T23:43:34.924742Z",
     "shell.execute_reply": "2020-04-26T23:43:34.925742Z"
    },
    "papermill": {
     "duration": 0.009994,
     "end_time": "2020-04-26T23:43:34.925742",
     "exception": false,
     "start_time": "2020-04-26T23:43:34.915748",
     "status": "completed"
    },
    "tags": [
     "parameters"
    ]
   },
   "outputs": [],
   "source": [
    "filename = \"0.txt\""
   ]
  },
  {
   "cell_type": "code",
   "execution_count": 3,
   "metadata": {
    "execution": {
     "iopub.execute_input": "2020-04-26T23:43:34.936736Z",
     "iopub.status.busy": "2020-04-26T23:43:34.935736Z",
     "iopub.status.idle": "2020-04-26T23:43:34.939734Z",
     "shell.execute_reply": "2020-04-26T23:43:34.938735Z"
    },
    "papermill": {
     "duration": 0.010994,
     "end_time": "2020-04-26T23:43:34.939734",
     "exception": false,
     "start_time": "2020-04-26T23:43:34.928740",
     "status": "completed"
    },
    "tags": [
     "injected-parameters"
    ]
   },
   "outputs": [],
   "source": [
    "# Parameters\n",
    "filename = \"rdata/85.txt\"\n"
   ]
  },
  {
   "cell_type": "code",
   "execution_count": 4,
   "metadata": {
    "execution": {
     "iopub.execute_input": "2020-04-26T23:43:34.954725Z",
     "iopub.status.busy": "2020-04-26T23:43:34.953726Z",
     "iopub.status.idle": "2020-04-26T23:43:34.958723Z",
     "shell.execute_reply": "2020-04-26T23:43:34.958723Z"
    },
    "papermill": {
     "duration": 0.01799,
     "end_time": "2020-04-26T23:43:34.960722",
     "exception": false,
     "start_time": "2020-04-26T23:43:34.942732",
     "status": "completed"
    },
    "tags": []
   },
   "outputs": [
    {
     "data": {
      "text/plain": [
       "array([0.63362002, 0.27820524, 0.61074753, 0.92925131, 0.84518327,\n",
       "       0.7302664 , 0.63136914, 0.04377103, 0.02784115, 0.4341269 ])"
      ]
     },
     "execution_count": 4,
     "metadata": {},
     "output_type": "execute_result"
    }
   ],
   "source": [
    "data = np.random.random(10)\n",
    "data"
   ]
  },
  {
   "cell_type": "code",
   "execution_count": 5,
   "metadata": {
    "execution": {
     "iopub.execute_input": "2020-04-26T23:43:34.974714Z",
     "iopub.status.busy": "2020-04-26T23:43:34.974714Z",
     "iopub.status.idle": "2020-04-26T23:43:34.979711Z",
     "shell.execute_reply": "2020-04-26T23:43:34.980710Z"
    },
    "papermill": {
     "duration": 0.014991,
     "end_time": "2020-04-26T23:43:34.980710",
     "exception": false,
     "start_time": "2020-04-26T23:43:34.965719",
     "status": "completed"
    },
    "tags": []
   },
   "outputs": [],
   "source": [
    "np.savetxt(filename, data)"
   ]
  }
 ],
 "metadata": {
  "kernelspec": {
   "display_name": "Python 3",
   "language": "python",
   "name": "python3"
  },
  "language_info": {
   "codemirror_mode": {
    "name": "ipython",
    "version": 3
   },
   "file_extension": ".py",
   "mimetype": "text/x-python",
   "name": "python",
   "nbconvert_exporter": "python",
   "pygments_lexer": "ipython3",
   "version": "3.7.4"
  },
  "papermill": {
   "duration": 2.175757,
   "end_time": "2020-04-26T23:43:35.114634",
   "environment_variables": {},
   "exception": null,
   "input_path": "notebooks/Untitled.ipynb",
   "output_path": "reports/generate_data/GenerateData85.ipynb",
   "parameters": {
    "filename": "rdata/85.txt"
   },
   "start_time": "2020-04-26T23:43:32.938877",
   "version": "2.1.1"
  }
 },
 "nbformat": 4,
 "nbformat_minor": 4
}