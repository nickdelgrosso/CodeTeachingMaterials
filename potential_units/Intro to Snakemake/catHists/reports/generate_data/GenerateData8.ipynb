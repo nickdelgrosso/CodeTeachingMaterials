{
 "cells": [
  {
   "cell_type": "code",
   "execution_count": 1,
   "metadata": {
    "execution": {
     "iopub.execute_input": "2020-04-26T23:40:55.889858Z",
     "iopub.status.busy": "2020-04-26T23:40:55.889858Z",
     "iopub.status.idle": "2020-04-26T23:40:56.004792Z",
     "shell.execute_reply": "2020-04-26T23:40:56.004792Z"
    },
    "papermill": {
     "duration": 0.122929,
     "end_time": "2020-04-26T23:40:56.005791",
     "exception": false,
     "start_time": "2020-04-26T23:40:55.882862",
     "status": "completed"
    },
    "tags": []
   },
   "outputs": [],
   "source": [
    "import numpy as np"
   ]
  },
  {
   "cell_type": "code",
   "execution_count": 2,
   "metadata": {
    "execution": {
     "iopub.execute_input": "2020-04-26T23:40:56.014787Z",
     "iopub.status.busy": "2020-04-26T23:40:56.014787Z",
     "iopub.status.idle": "2020-04-26T23:40:56.015786Z",
     "shell.execute_reply": "2020-04-26T23:40:56.015786Z"
    },
    "papermill": {
     "duration": 0.006996,
     "end_time": "2020-04-26T23:40:56.015786",
     "exception": false,
     "start_time": "2020-04-26T23:40:56.008790",
     "status": "completed"
    },
    "tags": [
     "parameters"
    ]
   },
   "outputs": [],
   "source": [
    "filename = \"0.txt\""
   ]
  },
  {
   "cell_type": "code",
   "execution_count": 3,
   "metadata": {
    "execution": {
     "iopub.execute_input": "2020-04-26T23:40:56.026780Z",
     "iopub.status.busy": "2020-04-26T23:40:56.026780Z",
     "iopub.status.idle": "2020-04-26T23:40:56.028779Z",
     "shell.execute_reply": "2020-04-26T23:40:56.028779Z"
    },
    "papermill": {
     "duration": 0.008995,
     "end_time": "2020-04-26T23:40:56.028779",
     "exception": false,
     "start_time": "2020-04-26T23:40:56.019784",
     "status": "completed"
    },
    "tags": [
     "injected-parameters"
    ]
   },
   "outputs": [],
   "source": [
    "# Parameters\n",
    "filename = \"rdata/8.txt\"\n"
   ]
  },
  {
   "cell_type": "code",
   "execution_count": 4,
   "metadata": {
    "execution": {
     "iopub.execute_input": "2020-04-26T23:40:56.044769Z",
     "iopub.status.busy": "2020-04-26T23:40:56.043770Z",
     "iopub.status.idle": "2020-04-26T23:40:56.047767Z",
     "shell.execute_reply": "2020-04-26T23:40:56.047767Z"
    },
    "papermill": {
     "duration": 0.015991,
     "end_time": "2020-04-26T23:40:56.048767",
     "exception": false,
     "start_time": "2020-04-26T23:40:56.032776",
     "status": "completed"
    },
    "tags": []
   },
   "outputs": [
    {
     "data": {
      "text/plain": [
       "array([0.01768692, 0.41397435, 0.31306007, 0.63700178, 0.33307825,\n",
       "       0.17308104, 0.2593595 , 0.35466251, 0.86026745, 0.1203427 ])"
      ]
     },
     "execution_count": 4,
     "metadata": {},
     "output_type": "execute_result"
    }
   ],
   "source": [
    "data = np.random.random(10)\n",
    "data"
   ]
  },
  {
   "cell_type": "code",
   "execution_count": 5,
   "metadata": {
    "execution": {
     "iopub.execute_input": "2020-04-26T23:40:56.058761Z",
     "iopub.status.busy": "2020-04-26T23:40:56.057762Z",
     "iopub.status.idle": "2020-04-26T23:40:56.062759Z",
     "shell.execute_reply": "2020-04-26T23:40:56.063759Z"
    },
    "papermill": {
     "duration": 0.011994,
     "end_time": "2020-04-26T23:40:56.063759",
     "exception": false,
     "start_time": "2020-04-26T23:40:56.051765",
     "status": "completed"
    },
    "tags": []
   },
   "outputs": [],
   "source": [
    "np.savetxt(filename, data)"
   ]
  }
 ],
 "metadata": {
  "kernelspec": {
   "display_name": "Python 3",
   "language": "python",
   "name": "python3"
  },
  "language_info": {
   "codemirror_mode": {
    "name": "ipython",
    "version": 3
   },
   "file_extension": ".py",
   "mimetype": "text/x-python",
   "name": "python",
   "nbconvert_exporter": "python",
   "pygments_lexer": "ipython3",
   "version": "3.7.4"
  },
  "papermill": {
   "duration": 3.176532,
   "end_time": "2020-04-26T23:40:57.152017",
   "environment_variables": {},
   "exception": null,
   "input_path": "notebooks/Untitled.ipynb",
   "output_path": "reports/generate_data/GenerateData8.ipynb",
   "parameters": {
    "filename": "rdata/8.txt"
   },
   "start_time": "2020-04-26T23:40:53.975485",
   "version": "2.1.1"
  }
 },
 "nbformat": 4,
 "nbformat_minor": 4
}