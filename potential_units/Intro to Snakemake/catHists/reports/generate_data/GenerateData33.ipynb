{
 "cells": [
  {
   "cell_type": "code",
   "execution_count": 1,
   "metadata": {
    "execution": {
     "iopub.execute_input": "2020-04-26T23:43:29.164034Z",
     "iopub.status.busy": "2020-04-26T23:43:29.164034Z",
     "iopub.status.idle": "2020-04-26T23:43:29.292959Z",
     "shell.execute_reply": "2020-04-26T23:43:29.293959Z"
    },
    "papermill": {
     "duration": 0.136921,
     "end_time": "2020-04-26T23:43:29.293959",
     "exception": false,
     "start_time": "2020-04-26T23:43:29.157038",
     "status": "completed"
    },
    "tags": []
   },
   "outputs": [],
   "source": [
    "import numpy as np"
   ]
  },
  {
   "cell_type": "code",
   "execution_count": 2,
   "metadata": {
    "execution": {
     "iopub.execute_input": "2020-04-26T23:43:29.303953Z",
     "iopub.status.busy": "2020-04-26T23:43:29.301954Z",
     "iopub.status.idle": "2020-04-26T23:43:29.305952Z",
     "shell.execute_reply": "2020-04-26T23:43:29.306952Z"
    },
    "papermill": {
     "duration": 0.009995,
     "end_time": "2020-04-26T23:43:29.306952",
     "exception": false,
     "start_time": "2020-04-26T23:43:29.296957",
     "status": "completed"
    },
    "tags": [
     "parameters"
    ]
   },
   "outputs": [],
   "source": [
    "filename = \"0.txt\""
   ]
  },
  {
   "cell_type": "code",
   "execution_count": 3,
   "metadata": {
    "execution": {
     "iopub.execute_input": "2020-04-26T23:43:29.317945Z",
     "iopub.status.busy": "2020-04-26T23:43:29.316946Z",
     "iopub.status.idle": "2020-04-26T23:43:29.319944Z",
     "shell.execute_reply": "2020-04-26T23:43:29.320943Z"
    },
    "papermill": {
     "duration": 0.010993,
     "end_time": "2020-04-26T23:43:29.320943",
     "exception": false,
     "start_time": "2020-04-26T23:43:29.309950",
     "status": "completed"
    },
    "tags": [
     "injected-parameters"
    ]
   },
   "outputs": [],
   "source": [
    "# Parameters\n",
    "filename = \"rdata/33.txt\"\n"
   ]
  },
  {
   "cell_type": "code",
   "execution_count": 4,
   "metadata": {
    "execution": {
     "iopub.execute_input": "2020-04-26T23:43:29.336934Z",
     "iopub.status.busy": "2020-04-26T23:43:29.335935Z",
     "iopub.status.idle": "2020-04-26T23:43:29.340932Z",
     "shell.execute_reply": "2020-04-26T23:43:29.341931Z"
    },
    "papermill": {
     "duration": 0.017989,
     "end_time": "2020-04-26T23:43:29.341931",
     "exception": false,
     "start_time": "2020-04-26T23:43:29.323942",
     "status": "completed"
    },
    "tags": []
   },
   "outputs": [
    {
     "data": {
      "text/plain": [
       "array([0.05254457, 0.84001595, 0.49813359, 0.42787243, 0.78305523,\n",
       "       0.58346616, 0.55197132, 0.46055378, 0.21825702, 0.93237314])"
      ]
     },
     "execution_count": 4,
     "metadata": {},
     "output_type": "execute_result"
    }
   ],
   "source": [
    "data = np.random.random(10)\n",
    "data"
   ]
  },
  {
   "cell_type": "code",
   "execution_count": 5,
   "metadata": {
    "execution": {
     "iopub.execute_input": "2020-04-26T23:43:29.359922Z",
     "iopub.status.busy": "2020-04-26T23:43:29.359922Z",
     "iopub.status.idle": "2020-04-26T23:43:29.365918Z",
     "shell.execute_reply": "2020-04-26T23:43:29.366917Z"
    },
    "papermill": {
     "duration": 0.019989,
     "end_time": "2020-04-26T23:43:29.366917",
     "exception": false,
     "start_time": "2020-04-26T23:43:29.346928",
     "status": "completed"
    },
    "tags": []
   },
   "outputs": [],
   "source": [
    "np.savetxt(filename, data)"
   ]
  }
 ],
 "metadata": {
  "kernelspec": {
   "display_name": "Python 3",
   "language": "python",
   "name": "python3"
  },
  "language_info": {
   "codemirror_mode": {
    "name": "ipython",
    "version": 3
   },
   "file_extension": ".py",
   "mimetype": "text/x-python",
   "name": "python",
   "nbconvert_exporter": "python",
   "pygments_lexer": "ipython3",
   "version": "3.7.4"
  },
  "papermill": {
   "duration": 1.746248,
   "end_time": "2020-04-26T23:43:29.483850",
   "environment_variables": {},
   "exception": null,
   "input_path": "notebooks/Untitled.ipynb",
   "output_path": "reports/generate_data/GenerateData33.ipynb",
   "parameters": {
    "filename": "rdata/33.txt"
   },
   "start_time": "2020-04-26T23:43:27.737602",
   "version": "2.1.1"
  }
 },
 "nbformat": 4,
 "nbformat_minor": 4
}