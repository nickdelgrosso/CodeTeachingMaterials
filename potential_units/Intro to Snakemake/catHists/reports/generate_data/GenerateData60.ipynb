{
 "cells": [
  {
   "cell_type": "code",
   "execution_count": 1,
   "metadata": {
    "execution": {
     "iopub.execute_input": "2020-04-26T23:43:29.203010Z",
     "iopub.status.busy": "2020-04-26T23:43:29.202012Z",
     "iopub.status.idle": "2020-04-26T23:43:29.321943Z",
     "shell.execute_reply": "2020-04-26T23:43:29.320943Z"
    },
    "papermill": {
     "duration": 0.125929,
     "end_time": "2020-04-26T23:43:29.321943",
     "exception": false,
     "start_time": "2020-04-26T23:43:29.196014",
     "status": "completed"
    },
    "tags": []
   },
   "outputs": [],
   "source": [
    "import numpy as np"
   ]
  },
  {
   "cell_type": "code",
   "execution_count": 2,
   "metadata": {
    "execution": {
     "iopub.execute_input": "2020-04-26T23:43:29.332937Z",
     "iopub.status.busy": "2020-04-26T23:43:29.331937Z",
     "iopub.status.idle": "2020-04-26T23:43:29.335935Z",
     "shell.execute_reply": "2020-04-26T23:43:29.335935Z"
    },
    "papermill": {
     "duration": 0.010994,
     "end_time": "2020-04-26T23:43:29.335935",
     "exception": false,
     "start_time": "2020-04-26T23:43:29.324941",
     "status": "completed"
    },
    "tags": [
     "parameters"
    ]
   },
   "outputs": [],
   "source": [
    "filename = \"0.txt\""
   ]
  },
  {
   "cell_type": "code",
   "execution_count": 3,
   "metadata": {
    "execution": {
     "iopub.execute_input": "2020-04-26T23:43:29.347928Z",
     "iopub.status.busy": "2020-04-26T23:43:29.346928Z",
     "iopub.status.idle": "2020-04-26T23:43:29.350926Z",
     "shell.execute_reply": "2020-04-26T23:43:29.350926Z"
    },
    "papermill": {
     "duration": 0.010994,
     "end_time": "2020-04-26T23:43:29.350926",
     "exception": false,
     "start_time": "2020-04-26T23:43:29.339932",
     "status": "completed"
    },
    "tags": [
     "injected-parameters"
    ]
   },
   "outputs": [],
   "source": [
    "# Parameters\n",
    "filename = \"rdata/60.txt\"\n"
   ]
  },
  {
   "cell_type": "code",
   "execution_count": 4,
   "metadata": {
    "execution": {
     "iopub.execute_input": "2020-04-26T23:43:29.367917Z",
     "iopub.status.busy": "2020-04-26T23:43:29.366917Z",
     "iopub.status.idle": "2020-04-26T23:43:29.371915Z",
     "shell.execute_reply": "2020-04-26T23:43:29.372915Z"
    },
    "papermill": {
     "duration": 0.017991,
     "end_time": "2020-04-26T23:43:29.372915",
     "exception": false,
     "start_time": "2020-04-26T23:43:29.354924",
     "status": "completed"
    },
    "tags": []
   },
   "outputs": [
    {
     "data": {
      "text/plain": [
       "array([0.03310339, 0.75983922, 0.29410006, 0.13910344, 0.56174664,\n",
       "       0.11804298, 0.62117673, 0.51442535, 0.38606889, 0.78592885])"
      ]
     },
     "execution_count": 4,
     "metadata": {},
     "output_type": "execute_result"
    }
   ],
   "source": [
    "data = np.random.random(10)\n",
    "data"
   ]
  },
  {
   "cell_type": "code",
   "execution_count": 5,
   "metadata": {
    "execution": {
     "iopub.execute_input": "2020-04-26T23:43:29.386907Z",
     "iopub.status.busy": "2020-04-26T23:43:29.386907Z",
     "iopub.status.idle": "2020-04-26T23:43:29.389905Z",
     "shell.execute_reply": "2020-04-26T23:43:29.390904Z"
    },
    "papermill": {
     "duration": 0.013992,
     "end_time": "2020-04-26T23:43:29.390904",
     "exception": false,
     "start_time": "2020-04-26T23:43:29.376912",
     "status": "completed"
    },
    "tags": []
   },
   "outputs": [],
   "source": [
    "np.savetxt(filename, data)"
   ]
  }
 ],
 "metadata": {
  "kernelspec": {
   "display_name": "Python 3",
   "language": "python",
   "name": "python3"
  },
  "language_info": {
   "codemirror_mode": {
    "name": "ipython",
    "version": 3
   },
   "file_extension": ".py",
   "mimetype": "text/x-python",
   "name": "python",
   "nbconvert_exporter": "python",
   "pygments_lexer": "ipython3",
   "version": "3.7.4"
  },
  "papermill": {
   "duration": 1.971122,
   "end_time": "2020-04-26T23:43:29.505839",
   "environment_variables": {},
   "exception": null,
   "input_path": "notebooks/Untitled.ipynb",
   "output_path": "reports/generate_data/GenerateData60.ipynb",
   "parameters": {
    "filename": "rdata/60.txt"
   },
   "start_time": "2020-04-26T23:43:27.534717",
   "version": "2.1.1"
  }
 },
 "nbformat": 4,
 "nbformat_minor": 4
}