{
 "cells": [
  {
   "cell_type": "code",
   "execution_count": 1,
   "metadata": {
    "execution": {
     "iopub.execute_input": "2020-04-26T23:40:50.332566Z",
     "iopub.status.busy": "2020-04-26T23:40:50.332566Z",
     "iopub.status.idle": "2020-04-26T23:40:50.474484Z",
     "shell.execute_reply": "2020-04-26T23:40:50.473485Z"
    },
    "papermill": {
     "duration": 0.148915,
     "end_time": "2020-04-26T23:40:50.474484",
     "exception": false,
     "start_time": "2020-04-26T23:40:50.325569",
     "status": "completed"
    },
    "tags": []
   },
   "outputs": [],
   "source": [
    "import numpy as np"
   ]
  },
  {
   "cell_type": "code",
   "execution_count": 2,
   "metadata": {
    "execution": {
     "iopub.execute_input": "2020-04-26T23:40:50.484479Z",
     "iopub.status.busy": "2020-04-26T23:40:50.483479Z",
     "iopub.status.idle": "2020-04-26T23:40:50.486477Z",
     "shell.execute_reply": "2020-04-26T23:40:50.486477Z"
    },
    "papermill": {
     "duration": 0.008995,
     "end_time": "2020-04-26T23:40:50.486477",
     "exception": false,
     "start_time": "2020-04-26T23:40:50.477482",
     "status": "completed"
    },
    "tags": [
     "parameters"
    ]
   },
   "outputs": [],
   "source": [
    "filename = \"0.txt\""
   ]
  },
  {
   "cell_type": "code",
   "execution_count": 3,
   "metadata": {
    "execution": {
     "iopub.execute_input": "2020-04-26T23:40:50.497472Z",
     "iopub.status.busy": "2020-04-26T23:40:50.497472Z",
     "iopub.status.idle": "2020-04-26T23:40:50.499470Z",
     "shell.execute_reply": "2020-04-26T23:40:50.500470Z"
    },
    "papermill": {
     "duration": 0.009995,
     "end_time": "2020-04-26T23:40:50.500470",
     "exception": false,
     "start_time": "2020-04-26T23:40:50.490475",
     "status": "completed"
    },
    "tags": [
     "injected-parameters"
    ]
   },
   "outputs": [],
   "source": [
    "# Parameters\n",
    "filename = \"rdata/1.txt\"\n"
   ]
  },
  {
   "cell_type": "code",
   "execution_count": 4,
   "metadata": {
    "execution": {
     "iopub.execute_input": "2020-04-26T23:40:50.515461Z",
     "iopub.status.busy": "2020-04-26T23:40:50.514462Z",
     "iopub.status.idle": "2020-04-26T23:40:50.518459Z",
     "shell.execute_reply": "2020-04-26T23:40:50.519458Z"
    },
    "papermill": {
     "duration": 0.01599,
     "end_time": "2020-04-26T23:40:50.519458",
     "exception": false,
     "start_time": "2020-04-26T23:40:50.503468",
     "status": "completed"
    },
    "tags": []
   },
   "outputs": [
    {
     "data": {
      "text/plain": [
       "array([0.46033431, 0.91246527, 0.39889345, 0.72261843, 0.24268234,\n",
       "       0.61827857, 0.57551087, 0.61418237, 0.18409751, 0.19305807])"
      ]
     },
     "execution_count": 4,
     "metadata": {},
     "output_type": "execute_result"
    }
   ],
   "source": [
    "data = np.random.random(10)\n",
    "data"
   ]
  },
  {
   "cell_type": "code",
   "execution_count": 5,
   "metadata": {
    "execution": {
     "iopub.execute_input": "2020-04-26T23:40:50.532451Z",
     "iopub.status.busy": "2020-04-26T23:40:50.531452Z",
     "iopub.status.idle": "2020-04-26T23:40:50.537449Z",
     "shell.execute_reply": "2020-04-26T23:40:50.537449Z"
    },
    "papermill": {
     "duration": 0.013993,
     "end_time": "2020-04-26T23:40:50.537449",
     "exception": false,
     "start_time": "2020-04-26T23:40:50.523456",
     "status": "completed"
    },
    "tags": []
   },
   "outputs": [],
   "source": [
    "np.savetxt(filename, data)"
   ]
  }
 ],
 "metadata": {
  "kernelspec": {
   "display_name": "Python 3",
   "language": "python",
   "name": "python3"
  },
  "language_info": {
   "codemirror_mode": {
    "name": "ipython",
    "version": 3
   },
   "file_extension": ".py",
   "mimetype": "text/x-python",
   "name": "python",
   "nbconvert_exporter": "python",
   "pygments_lexer": "ipython3",
   "version": "3.7.4"
  },
  "papermill": {
   "duration": 1.741005,
   "end_time": "2020-04-26T23:40:50.659379",
   "environment_variables": {},
   "exception": null,
   "input_path": "notebooks/Untitled.ipynb",
   "output_path": "reports/generate_data/GenerateData1.ipynb",
   "parameters": {
    "filename": "rdata/1.txt"
   },
   "start_time": "2020-04-26T23:40:48.918374",
   "version": "2.1.1"
  }
 },
 "nbformat": 4,
 "nbformat_minor": 4
}