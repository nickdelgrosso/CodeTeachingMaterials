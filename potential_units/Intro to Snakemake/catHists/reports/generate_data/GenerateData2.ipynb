{
 "cells": [
  {
   "cell_type": "code",
   "execution_count": 1,
   "metadata": {
    "execution": {
     "iopub.execute_input": "2020-04-26T23:40:50.501469Z",
     "iopub.status.busy": "2020-04-26T23:40:50.500470Z",
     "iopub.status.idle": "2020-04-26T23:40:50.630396Z",
     "shell.execute_reply": "2020-04-26T23:40:50.630396Z"
    },
    "papermill": {
     "duration": 0.135923,
     "end_time": "2020-04-26T23:40:50.630396",
     "exception": false,
     "start_time": "2020-04-26T23:40:50.494473",
     "status": "completed"
    },
    "tags": []
   },
   "outputs": [],
   "source": [
    "import numpy as np"
   ]
  },
  {
   "cell_type": "code",
   "execution_count": 2,
   "metadata": {
    "execution": {
     "iopub.execute_input": "2020-04-26T23:40:50.642389Z",
     "iopub.status.busy": "2020-04-26T23:40:50.642389Z",
     "iopub.status.idle": "2020-04-26T23:40:50.644387Z",
     "shell.execute_reply": "2020-04-26T23:40:50.645387Z"
    },
    "papermill": {
     "duration": 0.009994,
     "end_time": "2020-04-26T23:40:50.645387",
     "exception": false,
     "start_time": "2020-04-26T23:40:50.635393",
     "status": "completed"
    },
    "tags": [
     "parameters"
    ]
   },
   "outputs": [],
   "source": [
    "filename = \"0.txt\""
   ]
  },
  {
   "cell_type": "code",
   "execution_count": 3,
   "metadata": {
    "execution": {
     "iopub.execute_input": "2020-04-26T23:40:50.658380Z",
     "iopub.status.busy": "2020-04-26T23:40:50.657380Z",
     "iopub.status.idle": "2020-04-26T23:40:50.659379Z",
     "shell.execute_reply": "2020-04-26T23:40:50.660378Z"
    },
    "papermill": {
     "duration": 0.011993,
     "end_time": "2020-04-26T23:40:50.660378",
     "exception": false,
     "start_time": "2020-04-26T23:40:50.648385",
     "status": "completed"
    },
    "tags": [
     "injected-parameters"
    ]
   },
   "outputs": [],
   "source": [
    "# Parameters\n",
    "filename = \"rdata/2.txt\"\n"
   ]
  },
  {
   "cell_type": "code",
   "execution_count": 4,
   "metadata": {
    "execution": {
     "iopub.execute_input": "2020-04-26T23:40:50.677368Z",
     "iopub.status.busy": "2020-04-26T23:40:50.676369Z",
     "iopub.status.idle": "2020-04-26T23:40:50.680367Z",
     "shell.execute_reply": "2020-04-26T23:40:50.681366Z"
    },
    "papermill": {
     "duration": 0.01699,
     "end_time": "2020-04-26T23:40:50.681366",
     "exception": false,
     "start_time": "2020-04-26T23:40:50.664376",
     "status": "completed"
    },
    "tags": []
   },
   "outputs": [
    {
     "data": {
      "text/plain": [
       "array([0.67951305, 0.10648368, 0.83788614, 0.17494064, 0.74976241,\n",
       "       0.37054404, 0.28755146, 0.43888264, 0.31410807, 0.9488165 ])"
      ]
     },
     "execution_count": 4,
     "metadata": {},
     "output_type": "execute_result"
    }
   ],
   "source": [
    "data = np.random.random(10)\n",
    "data"
   ]
  },
  {
   "cell_type": "code",
   "execution_count": 5,
   "metadata": {
    "execution": {
     "iopub.execute_input": "2020-04-26T23:40:50.694359Z",
     "iopub.status.busy": "2020-04-26T23:40:50.693360Z",
     "iopub.status.idle": "2020-04-26T23:40:50.702355Z",
     "shell.execute_reply": "2020-04-26T23:40:50.702355Z"
    },
    "papermill": {
     "duration": 0.01799,
     "end_time": "2020-04-26T23:40:50.703354",
     "exception": false,
     "start_time": "2020-04-26T23:40:50.685364",
     "status": "completed"
    },
    "tags": []
   },
   "outputs": [],
   "source": [
    "np.savetxt(filename, data)"
   ]
  }
 ],
 "metadata": {
  "kernelspec": {
   "display_name": "Python 3",
   "language": "python",
   "name": "python3"
  },
  "language_info": {
   "codemirror_mode": {
    "name": "ipython",
    "version": 3
   },
   "file_extension": ".py",
   "mimetype": "text/x-python",
   "name": "python",
   "nbconvert_exporter": "python",
   "pygments_lexer": "ipython3",
   "version": "3.7.4"
  },
  "papermill": {
   "duration": 1.677042,
   "end_time": "2020-04-26T23:40:50.823285",
   "environment_variables": {},
   "exception": null,
   "input_path": "notebooks/Untitled.ipynb",
   "output_path": "reports/generate_data/GenerateData2.ipynb",
   "parameters": {
    "filename": "rdata/2.txt"
   },
   "start_time": "2020-04-26T23:40:49.146243",
   "version": "2.1.1"
  }
 },
 "nbformat": 4,
 "nbformat_minor": 4
}