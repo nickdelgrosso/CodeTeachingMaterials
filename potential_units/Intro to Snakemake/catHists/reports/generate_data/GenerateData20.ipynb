{
 "cells": [
  {
   "cell_type": "code",
   "execution_count": 1,
   "metadata": {
    "execution": {
     "iopub.execute_input": "2020-04-26T23:43:44.919177Z",
     "iopub.status.busy": "2020-04-26T23:43:44.919177Z",
     "iopub.status.idle": "2020-04-26T23:43:45.050084Z",
     "shell.execute_reply": "2020-04-26T23:43:45.050084Z"
    },
    "papermill": {
     "duration": 0.137904,
     "end_time": "2020-04-26T23:43:45.050084",
     "exception": false,
     "start_time": "2020-04-26T23:43:44.912180",
     "status": "completed"
    },
    "tags": []
   },
   "outputs": [],
   "source": [
    "import numpy as np"
   ]
  },
  {
   "cell_type": "code",
   "execution_count": 2,
   "metadata": {
    "execution": {
     "iopub.execute_input": "2020-04-26T23:43:45.061079Z",
     "iopub.status.busy": "2020-04-26T23:43:45.060079Z",
     "iopub.status.idle": "2020-04-26T23:43:45.063078Z",
     "shell.execute_reply": "2020-04-26T23:43:45.064077Z"
    },
    "papermill": {
     "duration": 0.009994,
     "end_time": "2020-04-26T23:43:45.064077",
     "exception": false,
     "start_time": "2020-04-26T23:43:45.054083",
     "status": "completed"
    },
    "tags": [
     "parameters"
    ]
   },
   "outputs": [],
   "source": [
    "filename = \"0.txt\""
   ]
  },
  {
   "cell_type": "code",
   "execution_count": 3,
   "metadata": {
    "execution": {
     "iopub.execute_input": "2020-04-26T23:43:45.075071Z",
     "iopub.status.busy": "2020-04-26T23:43:45.075071Z",
     "iopub.status.idle": "2020-04-26T23:43:45.077069Z",
     "shell.execute_reply": "2020-04-26T23:43:45.078069Z"
    },
    "papermill": {
     "duration": 0.010994,
     "end_time": "2020-04-26T23:43:45.078069",
     "exception": false,
     "start_time": "2020-04-26T23:43:45.067075",
     "status": "completed"
    },
    "tags": [
     "injected-parameters"
    ]
   },
   "outputs": [],
   "source": [
    "# Parameters\n",
    "filename = \"rdata/20.txt\"\n"
   ]
  },
  {
   "cell_type": "code",
   "execution_count": 4,
   "metadata": {
    "execution": {
     "iopub.execute_input": "2020-04-26T23:43:45.093060Z",
     "iopub.status.busy": "2020-04-26T23:43:45.086064Z",
     "iopub.status.idle": "2020-04-26T23:43:45.096058Z",
     "shell.execute_reply": "2020-04-26T23:43:45.097057Z"
    },
    "papermill": {
     "duration": 0.01599,
     "end_time": "2020-04-26T23:43:45.097057",
     "exception": false,
     "start_time": "2020-04-26T23:43:45.081067",
     "status": "completed"
    },
    "tags": []
   },
   "outputs": [
    {
     "data": {
      "text/plain": [
       "array([0.2668714 , 0.98173594, 0.37747515, 0.91974128, 0.00176877,\n",
       "       0.15448463, 0.88874578, 0.58381141, 0.30682927, 0.89944337])"
      ]
     },
     "execution_count": 4,
     "metadata": {},
     "output_type": "execute_result"
    }
   ],
   "source": [
    "data = np.random.random(10)\n",
    "data"
   ]
  },
  {
   "cell_type": "code",
   "execution_count": 5,
   "metadata": {
    "execution": {
     "iopub.execute_input": "2020-04-26T23:43:45.109051Z",
     "iopub.status.busy": "2020-04-26T23:43:45.108051Z",
     "iopub.status.idle": "2020-04-26T23:43:45.114048Z",
     "shell.execute_reply": "2020-04-26T23:43:45.113048Z"
    },
    "papermill": {
     "duration": 0.012992,
     "end_time": "2020-04-26T23:43:45.114048",
     "exception": false,
     "start_time": "2020-04-26T23:43:45.101056",
     "status": "completed"
    },
    "tags": []
   },
   "outputs": [],
   "source": [
    "np.savetxt(filename, data)"
   ]
  }
 ],
 "metadata": {
  "kernelspec": {
   "display_name": "Python 3",
   "language": "python",
   "name": "python3"
  },
  "language_info": {
   "codemirror_mode": {
    "name": "ipython",
    "version": 3
   },
   "file_extension": ".py",
   "mimetype": "text/x-python",
   "name": "python",
   "nbconvert_exporter": "python",
   "pygments_lexer": "ipython3",
   "version": "3.7.4"
  },
  "papermill": {
   "duration": 1.719121,
   "end_time": "2020-04-26T23:43:45.232980",
   "environment_variables": {},
   "exception": null,
   "input_path": "notebooks/Untitled.ipynb",
   "output_path": "reports/generate_data/GenerateData20.ipynb",
   "parameters": {
    "filename": "rdata/20.txt"
   },
   "start_time": "2020-04-26T23:43:43.513859",
   "version": "2.1.1"
  }
 },
 "nbformat": 4,
 "nbformat_minor": 4
}