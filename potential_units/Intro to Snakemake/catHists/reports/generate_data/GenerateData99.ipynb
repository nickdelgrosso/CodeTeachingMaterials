{
 "cells": [
  {
   "cell_type": "code",
   "execution_count": 1,
   "metadata": {
    "execution": {
     "iopub.execute_input": "2020-04-26T23:43:24.119668Z",
     "iopub.status.busy": "2020-04-26T23:43:24.118668Z",
     "iopub.status.idle": "2020-04-26T23:43:24.264584Z",
     "shell.execute_reply": "2020-04-26T23:43:24.265584Z"
    },
    "papermill": {
     "duration": 0.152913,
     "end_time": "2020-04-26T23:43:24.265584",
     "exception": false,
     "start_time": "2020-04-26T23:43:24.112671",
     "status": "completed"
    },
    "tags": []
   },
   "outputs": [],
   "source": [
    "import numpy as np"
   ]
  },
  {
   "cell_type": "code",
   "execution_count": 2,
   "metadata": {
    "execution": {
     "iopub.execute_input": "2020-04-26T23:43:24.276578Z",
     "iopub.status.busy": "2020-04-26T23:43:24.276578Z",
     "iopub.status.idle": "2020-04-26T23:43:24.279577Z",
     "shell.execute_reply": "2020-04-26T23:43:24.278578Z"
    },
    "papermill": {
     "duration": 0.009995,
     "end_time": "2020-04-26T23:43:24.279577",
     "exception": false,
     "start_time": "2020-04-26T23:43:24.269582",
     "status": "completed"
    },
    "tags": [
     "parameters"
    ]
   },
   "outputs": [],
   "source": [
    "filename = \"0.txt\""
   ]
  },
  {
   "cell_type": "code",
   "execution_count": 3,
   "metadata": {
    "execution": {
     "iopub.execute_input": "2020-04-26T23:43:24.291570Z",
     "iopub.status.busy": "2020-04-26T23:43:24.291570Z",
     "iopub.status.idle": "2020-04-26T23:43:24.293569Z",
     "shell.execute_reply": "2020-04-26T23:43:24.294568Z"
    },
    "papermill": {
     "duration": 0.010993,
     "end_time": "2020-04-26T23:43:24.294568",
     "exception": false,
     "start_time": "2020-04-26T23:43:24.283575",
     "status": "completed"
    },
    "tags": [
     "injected-parameters"
    ]
   },
   "outputs": [],
   "source": [
    "# Parameters\n",
    "filename = \"rdata/99.txt\"\n"
   ]
  },
  {
   "cell_type": "code",
   "execution_count": 4,
   "metadata": {
    "execution": {
     "iopub.execute_input": "2020-04-26T23:43:24.308560Z",
     "iopub.status.busy": "2020-04-26T23:43:24.308560Z",
     "iopub.status.idle": "2020-04-26T23:43:24.313558Z",
     "shell.execute_reply": "2020-04-26T23:43:24.313558Z"
    },
    "papermill": {
     "duration": 0.015992,
     "end_time": "2020-04-26T23:43:24.313558",
     "exception": false,
     "start_time": "2020-04-26T23:43:24.297566",
     "status": "completed"
    },
    "tags": []
   },
   "outputs": [
    {
     "data": {
      "text/plain": [
       "array([0.0973991 , 0.14844906, 0.58892297, 0.32692699, 0.05661703,\n",
       "       0.03725971, 0.01444058, 0.29158939, 0.16690117, 0.24962991])"
      ]
     },
     "execution_count": 4,
     "metadata": {},
     "output_type": "execute_result"
    }
   ],
   "source": [
    "data = np.random.random(10)\n",
    "data"
   ]
  },
  {
   "cell_type": "code",
   "execution_count": 5,
   "metadata": {
    "execution": {
     "iopub.execute_input": "2020-04-26T23:43:24.337543Z",
     "iopub.status.busy": "2020-04-26T23:43:24.336544Z",
     "iopub.status.idle": "2020-04-26T23:43:24.350536Z",
     "shell.execute_reply": "2020-04-26T23:43:24.351537Z"
    },
    "papermill": {
     "duration": 0.031983,
     "end_time": "2020-04-26T23:43:24.351537",
     "exception": false,
     "start_time": "2020-04-26T23:43:24.319554",
     "status": "completed"
    },
    "tags": []
   },
   "outputs": [],
   "source": [
    "np.savetxt(filename, data)"
   ]
  }
 ],
 "metadata": {
  "kernelspec": {
   "display_name": "Python 3",
   "language": "python",
   "name": "python3"
  },
  "language_info": {
   "codemirror_mode": {
    "name": "ipython",
    "version": 3
   },
   "file_extension": ".py",
   "mimetype": "text/x-python",
   "name": "python",
   "nbconvert_exporter": "python",
   "pygments_lexer": "ipython3",
   "version": "3.7.4"
  },
  "papermill": {
   "duration": 1.731149,
   "end_time": "2020-04-26T23:43:24.458474",
   "environment_variables": {},
   "exception": null,
   "input_path": "notebooks/Untitled.ipynb",
   "output_path": "reports/generate_data/GenerateData99.ipynb",
   "parameters": {
    "filename": "rdata/99.txt"
   },
   "start_time": "2020-04-26T23:43:22.727325",
   "version": "2.1.1"
  }
 },
 "nbformat": 4,
 "nbformat_minor": 4
}