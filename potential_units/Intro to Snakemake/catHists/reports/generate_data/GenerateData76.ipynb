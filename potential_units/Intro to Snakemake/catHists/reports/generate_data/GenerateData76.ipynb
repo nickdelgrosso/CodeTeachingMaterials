{
 "cells": [
  {
   "cell_type": "code",
   "execution_count": 1,
   "metadata": {
    "execution": {
     "iopub.execute_input": "2020-04-26T23:43:23.996755Z",
     "iopub.status.busy": "2020-04-26T23:43:23.995747Z",
     "iopub.status.idle": "2020-04-26T23:43:24.123666Z",
     "shell.execute_reply": "2020-04-26T23:43:24.124665Z"
    },
    "papermill": {
     "duration": 0.135923,
     "end_time": "2020-04-26T23:43:24.124665",
     "exception": false,
     "start_time": "2020-04-26T23:43:23.988742",
     "status": "completed"
    },
    "tags": []
   },
   "outputs": [],
   "source": [
    "import numpy as np"
   ]
  },
  {
   "cell_type": "code",
   "execution_count": 2,
   "metadata": {
    "execution": {
     "iopub.execute_input": "2020-04-26T23:43:24.134659Z",
     "iopub.status.busy": "2020-04-26T23:43:24.133660Z",
     "iopub.status.idle": "2020-04-26T23:43:24.136658Z",
     "shell.execute_reply": "2020-04-26T23:43:24.137657Z"
    },
    "papermill": {
     "duration": 0.009994,
     "end_time": "2020-04-26T23:43:24.137657",
     "exception": false,
     "start_time": "2020-04-26T23:43:24.127663",
     "status": "completed"
    },
    "tags": [
     "parameters"
    ]
   },
   "outputs": [],
   "source": [
    "filename = \"0.txt\""
   ]
  },
  {
   "cell_type": "code",
   "execution_count": 3,
   "metadata": {
    "execution": {
     "iopub.execute_input": "2020-04-26T23:43:24.148651Z",
     "iopub.status.busy": "2020-04-26T23:43:24.147652Z",
     "iopub.status.idle": "2020-04-26T23:43:24.150650Z",
     "shell.execute_reply": "2020-04-26T23:43:24.151649Z"
    },
    "papermill": {
     "duration": 0.010994,
     "end_time": "2020-04-26T23:43:24.151649",
     "exception": false,
     "start_time": "2020-04-26T23:43:24.140655",
     "status": "completed"
    },
    "tags": [
     "injected-parameters"
    ]
   },
   "outputs": [],
   "source": [
    "# Parameters\n",
    "filename = \"rdata/76.txt\"\n"
   ]
  },
  {
   "cell_type": "code",
   "execution_count": 4,
   "metadata": {
    "execution": {
     "iopub.execute_input": "2020-04-26T23:43:24.160644Z",
     "iopub.status.busy": "2020-04-26T23:43:24.160644Z",
     "iopub.status.idle": "2020-04-26T23:43:24.171638Z",
     "shell.execute_reply": "2020-04-26T23:43:24.171638Z"
    },
    "papermill": {
     "duration": 0.01699,
     "end_time": "2020-04-26T23:43:24.171638",
     "exception": false,
     "start_time": "2020-04-26T23:43:24.154648",
     "status": "completed"
    },
    "tags": []
   },
   "outputs": [
    {
     "data": {
      "text/plain": [
       "array([0.79074811, 0.44581185, 0.21307626, 0.75226688, 0.15113366,\n",
       "       0.44039022, 0.15306964, 0.77074818, 0.16858566, 0.14437893])"
      ]
     },
     "execution_count": 4,
     "metadata": {},
     "output_type": "execute_result"
    }
   ],
   "source": [
    "data = np.random.random(10)\n",
    "data"
   ]
  },
  {
   "cell_type": "code",
   "execution_count": 5,
   "metadata": {
    "execution": {
     "iopub.execute_input": "2020-04-26T23:43:24.184631Z",
     "iopub.status.busy": "2020-04-26T23:43:24.183632Z",
     "iopub.status.idle": "2020-04-26T23:43:24.188628Z",
     "shell.execute_reply": "2020-04-26T23:43:24.189628Z"
    },
    "papermill": {
     "duration": 0.013993,
     "end_time": "2020-04-26T23:43:24.189628",
     "exception": false,
     "start_time": "2020-04-26T23:43:24.175635",
     "status": "completed"
    },
    "tags": []
   },
   "outputs": [],
   "source": [
    "np.savetxt(filename, data)"
   ]
  }
 ],
 "metadata": {
  "kernelspec": {
   "display_name": "Python 3",
   "language": "python",
   "name": "python3"
  },
  "language_info": {
   "codemirror_mode": {
    "name": "ipython",
    "version": 3
   },
   "file_extension": ".py",
   "mimetype": "text/x-python",
   "name": "python",
   "nbconvert_exporter": "python",
   "pygments_lexer": "ipython3",
   "version": "3.7.4"
  },
  "papermill": {
   "duration": 1.686176,
   "end_time": "2020-04-26T23:43:24.302564",
   "environment_variables": {},
   "exception": null,
   "input_path": "notebooks/Untitled.ipynb",
   "output_path": "reports/generate_data/GenerateData76.ipynb",
   "parameters": {
    "filename": "rdata/76.txt"
   },
   "start_time": "2020-04-26T23:43:22.616388",
   "version": "2.1.1"
  }
 },
 "nbformat": 4,
 "nbformat_minor": 4
}