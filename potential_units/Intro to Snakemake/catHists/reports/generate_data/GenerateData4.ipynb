{
 "cells": [
  {
   "cell_type": "code",
   "execution_count": 1,
   "metadata": {
    "execution": {
     "iopub.execute_input": "2020-04-26T23:40:56.103737Z",
     "iopub.status.busy": "2020-04-26T23:40:56.102736Z",
     "iopub.status.idle": "2020-04-26T23:40:56.221669Z",
     "shell.execute_reply": "2020-04-26T23:40:56.220676Z"
    },
    "papermill": {
     "duration": 0.12493,
     "end_time": "2020-04-26T23:40:56.221669",
     "exception": false,
     "start_time": "2020-04-26T23:40:56.096739",
     "status": "completed"
    },
    "tags": []
   },
   "outputs": [],
   "source": [
    "import numpy as np"
   ]
  },
  {
   "cell_type": "code",
   "execution_count": 2,
   "metadata": {
    "execution": {
     "iopub.execute_input": "2020-04-26T23:40:56.232662Z",
     "iopub.status.busy": "2020-04-26T23:40:56.231664Z",
     "iopub.status.idle": "2020-04-26T23:40:56.234661Z",
     "shell.execute_reply": "2020-04-26T23:40:56.235660Z"
    },
    "papermill": {
     "duration": 0.009992,
     "end_time": "2020-04-26T23:40:56.235660",
     "exception": false,
     "start_time": "2020-04-26T23:40:56.225668",
     "status": "completed"
    },
    "tags": [
     "parameters"
    ]
   },
   "outputs": [],
   "source": [
    "filename = \"0.txt\""
   ]
  },
  {
   "cell_type": "code",
   "execution_count": 3,
   "metadata": {
    "execution": {
     "iopub.execute_input": "2020-04-26T23:40:56.247654Z",
     "iopub.status.busy": "2020-04-26T23:40:56.246654Z",
     "iopub.status.idle": "2020-04-26T23:40:56.248653Z",
     "shell.execute_reply": "2020-04-26T23:40:56.248653Z"
    },
    "papermill": {
     "duration": 0.008976,
     "end_time": "2020-04-26T23:40:56.249652",
     "exception": false,
     "start_time": "2020-04-26T23:40:56.240676",
     "status": "completed"
    },
    "tags": [
     "injected-parameters"
    ]
   },
   "outputs": [],
   "source": [
    "# Parameters\n",
    "filename = \"rdata/4.txt\"\n"
   ]
  },
  {
   "cell_type": "code",
   "execution_count": 4,
   "metadata": {
    "execution": {
     "iopub.execute_input": "2020-04-26T23:40:56.265643Z",
     "iopub.status.busy": "2020-04-26T23:40:56.265643Z",
     "iopub.status.idle": "2020-04-26T23:40:56.268641Z",
     "shell.execute_reply": "2020-04-26T23:40:56.269641Z"
    },
    "papermill": {
     "duration": 0.016989,
     "end_time": "2020-04-26T23:40:56.269641",
     "exception": false,
     "start_time": "2020-04-26T23:40:56.252652",
     "status": "completed"
    },
    "tags": []
   },
   "outputs": [
    {
     "data": {
      "text/plain": [
       "array([0.07170239, 0.04126362, 0.16141378, 0.98638514, 0.18758794,\n",
       "       0.99685769, 0.1360342 , 0.75366426, 0.94249087, 0.11654169])"
      ]
     },
     "execution_count": 4,
     "metadata": {},
     "output_type": "execute_result"
    }
   ],
   "source": [
    "data = np.random.random(10)\n",
    "data"
   ]
  },
  {
   "cell_type": "code",
   "execution_count": 5,
   "metadata": {
    "execution": {
     "iopub.execute_input": "2020-04-26T23:40:56.280635Z",
     "iopub.status.busy": "2020-04-26T23:40:56.279635Z",
     "iopub.status.idle": "2020-04-26T23:40:56.285632Z",
     "shell.execute_reply": "2020-04-26T23:40:56.285632Z"
    },
    "papermill": {
     "duration": 0.012993,
     "end_time": "2020-04-26T23:40:56.285632",
     "exception": false,
     "start_time": "2020-04-26T23:40:56.272639",
     "status": "completed"
    },
    "tags": []
   },
   "outputs": [],
   "source": [
    "np.savetxt(filename, data)"
   ]
  }
 ],
 "metadata": {
  "kernelspec": {
   "display_name": "Python 3",
   "language": "python",
   "name": "python3"
  },
  "language_info": {
   "codemirror_mode": {
    "name": "ipython",
    "version": 3
   },
   "file_extension": ".py",
   "mimetype": "text/x-python",
   "name": "python",
   "nbconvert_exporter": "python",
   "pygments_lexer": "ipython3",
   "version": "3.7.4"
  },
  "papermill": {
   "duration": 2.387248,
   "end_time": "2020-04-26T23:40:56.396713",
   "environment_variables": {},
   "exception": null,
   "input_path": "notebooks/Untitled.ipynb",
   "output_path": "reports/generate_data/GenerateData4.ipynb",
   "parameters": {
    "filename": "rdata/4.txt"
   },
   "start_time": "2020-04-26T23:40:54.009465",
   "version": "2.1.1"
  }
 },
 "nbformat": 4,
 "nbformat_minor": 4
}