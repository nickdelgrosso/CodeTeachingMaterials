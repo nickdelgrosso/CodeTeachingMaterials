{
 "cells": [
  {
   "cell_type": "code",
   "execution_count": 1,
   "metadata": {
    "execution": {
     "iopub.execute_input": "2020-04-26T23:43:34.708865Z",
     "iopub.status.busy": "2020-04-26T23:43:34.708865Z",
     "iopub.status.idle": "2020-04-26T23:43:34.891761Z",
     "shell.execute_reply": "2020-04-26T23:43:34.892761Z"
    },
    "papermill": {
     "duration": 0.31382,
     "end_time": "2020-04-26T23:43:34.892761",
     "exception": false,
     "start_time": "2020-04-26T23:43:34.578941",
     "status": "completed"
    },
    "tags": []
   },
   "outputs": [],
   "source": [
    "import numpy as np"
   ]
  },
  {
   "cell_type": "code",
   "execution_count": 2,
   "metadata": {
    "execution": {
     "iopub.execute_input": "2020-04-26T23:43:34.902756Z",
     "iopub.status.busy": "2020-04-26T23:43:34.901755Z",
     "iopub.status.idle": "2020-04-26T23:43:34.903755Z",
     "shell.execute_reply": "2020-04-26T23:43:34.903755Z"
    },
    "papermill": {
     "duration": 0.008995,
     "end_time": "2020-04-26T23:43:34.904754",
     "exception": false,
     "start_time": "2020-04-26T23:43:34.895759",
     "status": "completed"
    },
    "tags": [
     "parameters"
    ]
   },
   "outputs": [],
   "source": [
    "filename = \"0.txt\""
   ]
  },
  {
   "cell_type": "code",
   "execution_count": 3,
   "metadata": {
    "execution": {
     "iopub.execute_input": "2020-04-26T23:43:34.914748Z",
     "iopub.status.busy": "2020-04-26T23:43:34.914748Z",
     "iopub.status.idle": "2020-04-26T23:43:34.919745Z",
     "shell.execute_reply": "2020-04-26T23:43:34.918746Z"
    },
    "papermill": {
     "duration": 0.011992,
     "end_time": "2020-04-26T23:43:34.919745",
     "exception": false,
     "start_time": "2020-04-26T23:43:34.907753",
     "status": "completed"
    },
    "tags": [
     "injected-parameters"
    ]
   },
   "outputs": [],
   "source": [
    "# Parameters\n",
    "filename = \"rdata/96.txt\"\n"
   ]
  },
  {
   "cell_type": "code",
   "execution_count": 4,
   "metadata": {
    "execution": {
     "iopub.execute_input": "2020-04-26T23:43:34.934737Z",
     "iopub.status.busy": "2020-04-26T23:43:34.934737Z",
     "iopub.status.idle": "2020-04-26T23:43:34.937735Z",
     "shell.execute_reply": "2020-04-26T23:43:34.937735Z"
    },
    "papermill": {
     "duration": 0.015992,
     "end_time": "2020-04-26T23:43:34.938735",
     "exception": false,
     "start_time": "2020-04-26T23:43:34.922743",
     "status": "completed"
    },
    "tags": []
   },
   "outputs": [
    {
     "data": {
      "text/plain": [
       "array([0.33537322, 0.47686069, 0.68888473, 0.35427808, 0.39663865,\n",
       "       0.64989033, 0.39175211, 0.69880302, 0.98632357, 0.47116365])"
      ]
     },
     "execution_count": 4,
     "metadata": {},
     "output_type": "execute_result"
    }
   ],
   "source": [
    "data = np.random.random(10)\n",
    "data"
   ]
  },
  {
   "cell_type": "code",
   "execution_count": 5,
   "metadata": {
    "execution": {
     "iopub.execute_input": "2020-04-26T23:43:34.954725Z",
     "iopub.status.busy": "2020-04-26T23:43:34.951727Z",
     "iopub.status.idle": "2020-04-26T23:43:34.956724Z",
     "shell.execute_reply": "2020-04-26T23:43:34.957724Z"
    },
    "papermill": {
     "duration": 0.015992,
     "end_time": "2020-04-26T23:43:34.957724",
     "exception": false,
     "start_time": "2020-04-26T23:43:34.941732",
     "status": "completed"
    },
    "tags": []
   },
   "outputs": [],
   "source": [
    "np.savetxt(filename, data)"
   ]
  }
 ],
 "metadata": {
  "kernelspec": {
   "display_name": "Python 3",
   "language": "python",
   "name": "python3"
  },
  "language_info": {
   "codemirror_mode": {
    "name": "ipython",
    "version": 3
   },
   "file_extension": ".py",
   "mimetype": "text/x-python",
   "name": "python",
   "nbconvert_exporter": "python",
   "pygments_lexer": "ipython3",
   "version": "3.7.4"
  },
  "papermill": {
   "duration": 2.105798,
   "end_time": "2020-04-26T23:43:35.073658",
   "environment_variables": {},
   "exception": null,
   "input_path": "notebooks/Untitled.ipynb",
   "output_path": "reports/generate_data/GenerateData96.ipynb",
   "parameters": {
    "filename": "rdata/96.txt"
   },
   "start_time": "2020-04-26T23:43:32.967860",
   "version": "2.1.1"
  }
 },
 "nbformat": 4,
 "nbformat_minor": 4
}