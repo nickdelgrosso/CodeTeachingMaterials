{
 "cells": [
  {
   "cell_type": "code",
   "execution_count": 1,
   "metadata": {
    "execution": {
     "iopub.execute_input": "2020-04-26T23:43:23.954791Z",
     "iopub.status.busy": "2020-04-26T23:43:23.954791Z",
     "iopub.status.idle": "2020-04-26T23:43:24.071696Z",
     "shell.execute_reply": "2020-04-26T23:43:24.072694Z"
    },
    "papermill": {
     "duration": 0.124912,
     "end_time": "2020-04-26T23:43:24.072694",
     "exception": false,
     "start_time": "2020-04-26T23:43:23.947782",
     "status": "completed"
    },
    "tags": []
   },
   "outputs": [],
   "source": [
    "import numpy as np"
   ]
  },
  {
   "cell_type": "code",
   "execution_count": 2,
   "metadata": {
    "execution": {
     "iopub.execute_input": "2020-04-26T23:43:24.082688Z",
     "iopub.status.busy": "2020-04-26T23:43:24.081689Z",
     "iopub.status.idle": "2020-04-26T23:43:24.084687Z",
     "shell.execute_reply": "2020-04-26T23:43:24.084687Z"
    },
    "papermill": {
     "duration": 0.008995,
     "end_time": "2020-04-26T23:43:24.084687",
     "exception": false,
     "start_time": "2020-04-26T23:43:24.075692",
     "status": "completed"
    },
    "tags": [
     "parameters"
    ]
   },
   "outputs": [],
   "source": [
    "filename = \"0.txt\""
   ]
  },
  {
   "cell_type": "code",
   "execution_count": 3,
   "metadata": {
    "execution": {
     "iopub.execute_input": "2020-04-26T23:43:24.095681Z",
     "iopub.status.busy": "2020-04-26T23:43:24.095681Z",
     "iopub.status.idle": "2020-04-26T23:43:24.097680Z",
     "shell.execute_reply": "2020-04-26T23:43:24.097680Z"
    },
    "papermill": {
     "duration": 0.008995,
     "end_time": "2020-04-26T23:43:24.097680",
     "exception": false,
     "start_time": "2020-04-26T23:43:24.088685",
     "status": "completed"
    },
    "tags": [
     "injected-parameters"
    ]
   },
   "outputs": [],
   "source": [
    "# Parameters\n",
    "filename = \"rdata/47.txt\"\n"
   ]
  },
  {
   "cell_type": "code",
   "execution_count": 4,
   "metadata": {
    "execution": {
     "iopub.execute_input": "2020-04-26T23:43:24.112671Z",
     "iopub.status.busy": "2020-04-26T23:43:24.111672Z",
     "iopub.status.idle": "2020-04-26T23:43:24.115670Z",
     "shell.execute_reply": "2020-04-26T23:43:24.115670Z"
    },
    "papermill": {
     "duration": 0.014992,
     "end_time": "2020-04-26T23:43:24.116670",
     "exception": false,
     "start_time": "2020-04-26T23:43:24.101678",
     "status": "completed"
    },
    "tags": []
   },
   "outputs": [
    {
     "data": {
      "text/plain": [
       "array([0.68214148, 0.4580135 , 0.81393872, 0.4350328 , 0.69744452,\n",
       "       0.99091092, 0.52248647, 0.03886049, 0.63567229, 0.3694653 ])"
      ]
     },
     "execution_count": 4,
     "metadata": {},
     "output_type": "execute_result"
    }
   ],
   "source": [
    "data = np.random.random(10)\n",
    "data"
   ]
  },
  {
   "cell_type": "code",
   "execution_count": 5,
   "metadata": {
    "execution": {
     "iopub.execute_input": "2020-04-26T23:43:24.130662Z",
     "iopub.status.busy": "2020-04-26T23:43:24.130662Z",
     "iopub.status.idle": "2020-04-26T23:43:24.137657Z",
     "shell.execute_reply": "2020-04-26T23:43:24.138657Z"
    },
    "papermill": {
     "duration": 0.016991,
     "end_time": "2020-04-26T23:43:24.138657",
     "exception": false,
     "start_time": "2020-04-26T23:43:24.121666",
     "status": "completed"
    },
    "tags": []
   },
   "outputs": [],
   "source": [
    "np.savetxt(filename, data)"
   ]
  }
 ],
 "metadata": {
  "kernelspec": {
   "display_name": "Python 3",
   "language": "python",
   "name": "python3"
  },
  "language_info": {
   "codemirror_mode": {
    "name": "ipython",
    "version": 3
   },
   "file_extension": ".py",
   "mimetype": "text/x-python",
   "name": "python",
   "nbconvert_exporter": "python",
   "pygments_lexer": "ipython3",
   "version": "3.7.4"
  },
  "papermill": {
   "duration": 1.658191,
   "end_time": "2020-04-26T23:43:24.238600",
   "environment_variables": {},
   "exception": null,
   "input_path": "notebooks/Untitled.ipynb",
   "output_path": "reports/generate_data/GenerateData47.ipynb",
   "parameters": {
    "filename": "rdata/47.txt"
   },
   "start_time": "2020-04-26T23:43:22.580409",
   "version": "2.1.1"
  }
 },
 "nbformat": 4,
 "nbformat_minor": 4
}