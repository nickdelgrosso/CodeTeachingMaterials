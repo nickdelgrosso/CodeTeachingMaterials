{
 "cells": [
  {
   "cell_type": "code",
   "execution_count": 1,
   "metadata": {
    "execution": {
     "iopub.execute_input": "2020-04-26T23:43:40.562545Z",
     "iopub.status.busy": "2020-04-26T23:43:40.562545Z",
     "iopub.status.idle": "2020-04-26T23:43:40.688472Z",
     "shell.execute_reply": "2020-04-26T23:43:40.689472Z"
    },
    "papermill": {
     "duration": 0.133923,
     "end_time": "2020-04-26T23:43:40.689472",
     "exception": false,
     "start_time": "2020-04-26T23:43:40.555549",
     "status": "completed"
    },
    "tags": []
   },
   "outputs": [],
   "source": [
    "import numpy as np"
   ]
  },
  {
   "cell_type": "code",
   "execution_count": 2,
   "metadata": {
    "execution": {
     "iopub.execute_input": "2020-04-26T23:43:40.699466Z",
     "iopub.status.busy": "2020-04-26T23:43:40.699466Z",
     "iopub.status.idle": "2020-04-26T23:43:40.701465Z",
     "shell.execute_reply": "2020-04-26T23:43:40.702465Z"
    },
    "papermill": {
     "duration": 0.009995,
     "end_time": "2020-04-26T23:43:40.702465",
     "exception": false,
     "start_time": "2020-04-26T23:43:40.692470",
     "status": "completed"
    },
    "tags": [
     "parameters"
    ]
   },
   "outputs": [],
   "source": [
    "filename = \"0.txt\""
   ]
  },
  {
   "cell_type": "code",
   "execution_count": 3,
   "metadata": {
    "execution": {
     "iopub.execute_input": "2020-04-26T23:43:40.713458Z",
     "iopub.status.busy": "2020-04-26T23:43:40.712458Z",
     "iopub.status.idle": "2020-04-26T23:43:40.716456Z",
     "shell.execute_reply": "2020-04-26T23:43:40.715457Z"
    },
    "papermill": {
     "duration": 0.010993,
     "end_time": "2020-04-26T23:43:40.716456",
     "exception": false,
     "start_time": "2020-04-26T23:43:40.705463",
     "status": "completed"
    },
    "tags": [
     "injected-parameters"
    ]
   },
   "outputs": [],
   "source": [
    "# Parameters\n",
    "filename = \"rdata/83.txt\"\n"
   ]
  },
  {
   "cell_type": "code",
   "execution_count": 4,
   "metadata": {
    "execution": {
     "iopub.execute_input": "2020-04-26T23:43:40.732447Z",
     "iopub.status.busy": "2020-04-26T23:43:40.731448Z",
     "iopub.status.idle": "2020-04-26T23:43:40.736445Z",
     "shell.execute_reply": "2020-04-26T23:43:40.736445Z"
    },
    "papermill": {
     "duration": 0.01799,
     "end_time": "2020-04-26T23:43:40.737445",
     "exception": false,
     "start_time": "2020-04-26T23:43:40.719455",
     "status": "completed"
    },
    "tags": []
   },
   "outputs": [
    {
     "data": {
      "text/plain": [
       "array([0.88516322, 0.37626704, 0.82594747, 0.70674014, 0.66285501,\n",
       "       0.67443653, 0.0274587 , 0.32190564, 0.28343329, 0.70983522])"
      ]
     },
     "execution_count": 4,
     "metadata": {},
     "output_type": "execute_result"
    }
   ],
   "source": [
    "data = np.random.random(10)\n",
    "data"
   ]
  },
  {
   "cell_type": "code",
   "execution_count": 5,
   "metadata": {
    "execution": {
     "iopub.execute_input": "2020-04-26T23:43:40.753436Z",
     "iopub.status.busy": "2020-04-26T23:43:40.752436Z",
     "iopub.status.idle": "2020-04-26T23:43:40.759432Z",
     "shell.execute_reply": "2020-04-26T23:43:40.759432Z"
    },
    "papermill": {
     "duration": 0.016991,
     "end_time": "2020-04-26T23:43:40.759432",
     "exception": false,
     "start_time": "2020-04-26T23:43:40.742441",
     "status": "completed"
    },
    "tags": []
   },
   "outputs": [],
   "source": [
    "np.savetxt(filename, data)"
   ]
  }
 ],
 "metadata": {
  "kernelspec": {
   "display_name": "Python 3",
   "language": "python",
   "name": "python3"
  },
  "language_info": {
   "codemirror_mode": {
    "name": "ipython",
    "version": 3
   },
   "file_extension": ".py",
   "mimetype": "text/x-python",
   "name": "python",
   "nbconvert_exporter": "python",
   "pygments_lexer": "ipython3",
   "version": "3.7.4"
  },
  "papermill": {
   "duration": 1.84197,
   "end_time": "2020-04-26T23:43:40.877365",
   "environment_variables": {},
   "exception": null,
   "input_path": "notebooks/Untitled.ipynb",
   "output_path": "reports/generate_data/GenerateData83.ipynb",
   "parameters": {
    "filename": "rdata/83.txt"
   },
   "start_time": "2020-04-26T23:43:39.035395",
   "version": "2.1.1"
  }
 },
 "nbformat": 4,
 "nbformat_minor": 4
}