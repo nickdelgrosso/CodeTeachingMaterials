{
 "cells": [
  {
   "cell_type": "code",
   "execution_count": 1,
   "metadata": {
    "execution": {
     "iopub.execute_input": "2020-04-26T23:43:29.064090Z",
     "iopub.status.busy": "2020-04-26T23:43:29.063091Z",
     "iopub.status.idle": "2020-04-26T23:43:29.183023Z",
     "shell.execute_reply": "2020-04-26T23:43:29.183023Z"
    },
    "papermill": {
     "duration": 0.127927,
     "end_time": "2020-04-26T23:43:29.184021",
     "exception": false,
     "start_time": "2020-04-26T23:43:29.056094",
     "status": "completed"
    },
    "tags": []
   },
   "outputs": [],
   "source": [
    "import numpy as np"
   ]
  },
  {
   "cell_type": "code",
   "execution_count": 2,
   "metadata": {
    "execution": {
     "iopub.execute_input": "2020-04-26T23:43:29.193017Z",
     "iopub.status.busy": "2020-04-26T23:43:29.193017Z",
     "iopub.status.idle": "2020-04-26T23:43:29.196014Z",
     "shell.execute_reply": "2020-04-26T23:43:29.196014Z"
    },
    "papermill": {
     "duration": 0.008994,
     "end_time": "2020-04-26T23:43:29.196014",
     "exception": false,
     "start_time": "2020-04-26T23:43:29.187020",
     "status": "completed"
    },
    "tags": [
     "parameters"
    ]
   },
   "outputs": [],
   "source": [
    "filename = \"0.txt\""
   ]
  },
  {
   "cell_type": "code",
   "execution_count": 3,
   "metadata": {
    "execution": {
     "iopub.execute_input": "2020-04-26T23:43:29.207008Z",
     "iopub.status.busy": "2020-04-26T23:43:29.206010Z",
     "iopub.status.idle": "2020-04-26T23:43:29.209007Z",
     "shell.execute_reply": "2020-04-26T23:43:29.210007Z"
    },
    "papermill": {
     "duration": 0.009995,
     "end_time": "2020-04-26T23:43:29.210007",
     "exception": false,
     "start_time": "2020-04-26T23:43:29.200012",
     "status": "completed"
    },
    "tags": [
     "injected-parameters"
    ]
   },
   "outputs": [],
   "source": [
    "# Parameters\n",
    "filename = \"rdata/27.txt\"\n"
   ]
  },
  {
   "cell_type": "code",
   "execution_count": 4,
   "metadata": {
    "execution": {
     "iopub.execute_input": "2020-04-26T23:43:29.224998Z",
     "iopub.status.busy": "2020-04-26T23:43:29.224000Z",
     "iopub.status.idle": "2020-04-26T23:43:29.227996Z",
     "shell.execute_reply": "2020-04-26T23:43:29.227996Z"
    },
    "papermill": {
     "duration": 0.015991,
     "end_time": "2020-04-26T23:43:29.228996",
     "exception": false,
     "start_time": "2020-04-26T23:43:29.213005",
     "status": "completed"
    },
    "tags": []
   },
   "outputs": [
    {
     "data": {
      "text/plain": [
       "array([0.79888477, 0.61942015, 0.4982758 , 0.12382737, 0.99743351,\n",
       "       0.43366538, 0.07855266, 0.25092622, 0.38586591, 0.87214123])"
      ]
     },
     "execution_count": 4,
     "metadata": {},
     "output_type": "execute_result"
    }
   ],
   "source": [
    "data = np.random.random(10)\n",
    "data"
   ]
  },
  {
   "cell_type": "code",
   "execution_count": 5,
   "metadata": {
    "execution": {
     "iopub.execute_input": "2020-04-26T23:43:29.239990Z",
     "iopub.status.busy": "2020-04-26T23:43:29.238990Z",
     "iopub.status.idle": "2020-04-26T23:43:29.243987Z",
     "shell.execute_reply": "2020-04-26T23:43:29.244987Z"
    },
    "papermill": {
     "duration": 0.012992,
     "end_time": "2020-04-26T23:43:29.244987",
     "exception": false,
     "start_time": "2020-04-26T23:43:29.231995",
     "status": "completed"
    },
    "tags": []
   },
   "outputs": [],
   "source": [
    "np.savetxt(filename, data)"
   ]
  }
 ],
 "metadata": {
  "kernelspec": {
   "display_name": "Python 3",
   "language": "python",
   "name": "python3"
  },
  "language_info": {
   "codemirror_mode": {
    "name": "ipython",
    "version": 3
   },
   "file_extension": ".py",
   "mimetype": "text/x-python",
   "name": "python",
   "nbconvert_exporter": "python",
   "pygments_lexer": "ipython3",
   "version": "3.7.4"
  },
  "papermill": {
   "duration": 1.837198,
   "end_time": "2020-04-26T23:43:29.362920",
   "environment_variables": {},
   "exception": null,
   "input_path": "notebooks/Untitled.ipynb",
   "output_path": "reports/generate_data/GenerateData27.ipynb",
   "parameters": {
    "filename": "rdata/27.txt"
   },
   "start_time": "2020-04-26T23:43:27.525722",
   "version": "2.1.1"
  }
 },
 "nbformat": 4,
 "nbformat_minor": 4
}