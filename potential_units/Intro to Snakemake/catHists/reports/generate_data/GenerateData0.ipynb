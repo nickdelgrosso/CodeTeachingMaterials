{
 "cells": [
  {
   "cell_type": "code",
   "execution_count": 1,
   "metadata": {
    "execution": {
     "iopub.execute_input": "2020-04-26T23:40:55.789915Z",
     "iopub.status.busy": "2020-04-26T23:40:55.788928Z",
     "iopub.status.idle": "2020-04-26T23:40:55.906848Z",
     "shell.execute_reply": "2020-04-26T23:40:55.907848Z"
    },
    "papermill": {
     "duration": 0.124917,
     "end_time": "2020-04-26T23:40:55.907848",
     "exception": false,
     "start_time": "2020-04-26T23:40:55.782931",
     "status": "completed"
    },
    "tags": []
   },
   "outputs": [],
   "source": [
    "import numpy as np"
   ]
  },
  {
   "cell_type": "code",
   "execution_count": 2,
   "metadata": {
    "execution": {
     "iopub.execute_input": "2020-04-26T23:40:55.917842Z",
     "iopub.status.busy": "2020-04-26T23:40:55.917842Z",
     "iopub.status.idle": "2020-04-26T23:40:55.920840Z",
     "shell.execute_reply": "2020-04-26T23:40:55.920840Z"
    },
    "papermill": {
     "duration": 0.009994,
     "end_time": "2020-04-26T23:40:55.921840",
     "exception": false,
     "start_time": "2020-04-26T23:40:55.911846",
     "status": "completed"
    },
    "tags": [
     "parameters"
    ]
   },
   "outputs": [],
   "source": [
    "filename = \"0.txt\""
   ]
  },
  {
   "cell_type": "code",
   "execution_count": 3,
   "metadata": {
    "execution": {
     "iopub.execute_input": "2020-04-26T23:40:55.931834Z",
     "iopub.status.busy": "2020-04-26T23:40:55.931834Z",
     "iopub.status.idle": "2020-04-26T23:40:55.935832Z",
     "shell.execute_reply": "2020-04-26T23:40:55.935832Z"
    },
    "papermill": {
     "duration": 0.010994,
     "end_time": "2020-04-26T23:40:55.935832",
     "exception": false,
     "start_time": "2020-04-26T23:40:55.924838",
     "status": "completed"
    },
    "tags": [
     "injected-parameters"
    ]
   },
   "outputs": [],
   "source": [
    "# Parameters\n",
    "filename = \"rdata/0.txt\"\n"
   ]
  },
  {
   "cell_type": "code",
   "execution_count": 4,
   "metadata": {
    "execution": {
     "iopub.execute_input": "2020-04-26T23:40:55.950823Z",
     "iopub.status.busy": "2020-04-26T23:40:55.949851Z",
     "iopub.status.idle": "2020-04-26T23:40:55.953821Z",
     "shell.execute_reply": "2020-04-26T23:40:55.953821Z"
    },
    "papermill": {
     "duration": 0.015991,
     "end_time": "2020-04-26T23:40:55.954821",
     "exception": false,
     "start_time": "2020-04-26T23:40:55.938830",
     "status": "completed"
    },
    "tags": []
   },
   "outputs": [
    {
     "data": {
      "text/plain": [
       "array([0.68009065, 0.66207534, 0.19173623, 0.27823033, 0.82243155,\n",
       "       0.61551006, 0.54655904, 0.95167972, 0.08109014, 0.27645987])"
      ]
     },
     "execution_count": 4,
     "metadata": {},
     "output_type": "execute_result"
    }
   ],
   "source": [
    "data = np.random.random(10)\n",
    "data"
   ]
  },
  {
   "cell_type": "code",
   "execution_count": 5,
   "metadata": {
    "execution": {
     "iopub.execute_input": "2020-04-26T23:40:55.964816Z",
     "iopub.status.busy": "2020-04-26T23:40:55.964816Z",
     "iopub.status.idle": "2020-04-26T23:40:55.970812Z",
     "shell.execute_reply": "2020-04-26T23:40:55.971812Z"
    },
    "papermill": {
     "duration": 0.013993,
     "end_time": "2020-04-26T23:40:55.971812",
     "exception": false,
     "start_time": "2020-04-26T23:40:55.957819",
     "status": "completed"
    },
    "tags": []
   },
   "outputs": [],
   "source": [
    "np.savetxt(filename, data)"
   ]
  }
 ],
 "metadata": {
  "kernelspec": {
   "display_name": "Python 3",
   "language": "python",
   "name": "python3"
  },
  "language_info": {
   "codemirror_mode": {
    "name": "ipython",
    "version": 3
   },
   "file_extension": ".py",
   "mimetype": "text/x-python",
   "name": "python",
   "nbconvert_exporter": "python",
   "pygments_lexer": "ipython3",
   "version": "3.7.4"
  },
  "papermill": {
   "duration": 3.152552,
   "end_time": "2020-04-26T23:40:57.044085",
   "environment_variables": {},
   "exception": null,
   "input_path": "notebooks/Untitled.ipynb",
   "output_path": "reports/generate_data/GenerateData0.ipynb",
   "parameters": {
    "filename": "rdata/0.txt"
   },
   "start_time": "2020-04-26T23:40:53.891533",
   "version": "2.1.1"
  }
 },
 "nbformat": 4,
 "nbformat_minor": 4
}