{
 "cells": [
  {
   "cell_type": "code",
   "execution_count": 1,
   "metadata": {
    "execution": {
     "iopub.execute_input": "2020-04-26T23:43:29.035124Z",
     "iopub.status.busy": "2020-04-26T23:43:29.034107Z",
     "iopub.status.idle": "2020-04-26T23:43:29.156038Z",
     "shell.execute_reply": "2020-04-26T23:43:29.156038Z"
    },
    "papermill": {
     "duration": 0.127928,
     "end_time": "2020-04-26T23:43:29.156038",
     "exception": false,
     "start_time": "2020-04-26T23:43:29.028110",
     "status": "completed"
    },
    "tags": []
   },
   "outputs": [],
   "source": [
    "import numpy as np"
   ]
  },
  {
   "cell_type": "code",
   "execution_count": 2,
   "metadata": {
    "execution": {
     "iopub.execute_input": "2020-04-26T23:43:29.167031Z",
     "iopub.status.busy": "2020-04-26T23:43:29.166032Z",
     "iopub.status.idle": "2020-04-26T23:43:29.169030Z",
     "shell.execute_reply": "2020-04-26T23:43:29.170030Z"
    },
    "papermill": {
     "duration": 0.009995,
     "end_time": "2020-04-26T23:43:29.170030",
     "exception": false,
     "start_time": "2020-04-26T23:43:29.160035",
     "status": "completed"
    },
    "tags": [
     "parameters"
    ]
   },
   "outputs": [],
   "source": [
    "filename = \"0.txt\""
   ]
  },
  {
   "cell_type": "code",
   "execution_count": 3,
   "metadata": {
    "execution": {
     "iopub.execute_input": "2020-04-26T23:43:29.180024Z",
     "iopub.status.busy": "2020-04-26T23:43:29.180024Z",
     "iopub.status.idle": "2020-04-26T23:43:29.182022Z",
     "shell.execute_reply": "2020-04-26T23:43:29.182022Z"
    },
    "papermill": {
     "duration": 0.009996,
     "end_time": "2020-04-26T23:43:29.183023",
     "exception": false,
     "start_time": "2020-04-26T23:43:29.173027",
     "status": "completed"
    },
    "tags": [
     "injected-parameters"
    ]
   },
   "outputs": [],
   "source": [
    "# Parameters\n",
    "filename = \"rdata/72.txt\"\n"
   ]
  },
  {
   "cell_type": "code",
   "execution_count": 4,
   "metadata": {
    "execution": {
     "iopub.execute_input": "2020-04-26T23:43:29.197014Z",
     "iopub.status.busy": "2020-04-26T23:43:29.197014Z",
     "iopub.status.idle": "2020-04-26T23:43:29.200012Z",
     "shell.execute_reply": "2020-04-26T23:43:29.201013Z"
    },
    "papermill": {
     "duration": 0.014993,
     "end_time": "2020-04-26T23:43:29.201013",
     "exception": false,
     "start_time": "2020-04-26T23:43:29.186020",
     "status": "completed"
    },
    "tags": []
   },
   "outputs": [
    {
     "data": {
      "text/plain": [
       "array([0.4319965 , 0.37191907, 0.05568252, 0.05517654, 0.8150758 ,\n",
       "       0.97998449, 0.92865984, 0.44333696, 0.89096181, 0.77255564])"
      ]
     },
     "execution_count": 4,
     "metadata": {},
     "output_type": "execute_result"
    }
   ],
   "source": [
    "data = np.random.random(10)\n",
    "data"
   ]
  },
  {
   "cell_type": "code",
   "execution_count": 5,
   "metadata": {
    "execution": {
     "iopub.execute_input": "2020-04-26T23:43:29.214004Z",
     "iopub.status.busy": "2020-04-26T23:43:29.213005Z",
     "iopub.status.idle": "2020-04-26T23:43:29.219002Z",
     "shell.execute_reply": "2020-04-26T23:43:29.220001Z"
    },
    "papermill": {
     "duration": 0.014991,
     "end_time": "2020-04-26T23:43:29.220001",
     "exception": false,
     "start_time": "2020-04-26T23:43:29.205010",
     "status": "completed"
    },
    "tags": []
   },
   "outputs": [],
   "source": [
    "np.savetxt(filename, data)"
   ]
  }
 ],
 "metadata": {
  "kernelspec": {
   "display_name": "Python 3",
   "language": "python",
   "name": "python3"
  },
  "language_info": {
   "codemirror_mode": {
    "name": "ipython",
    "version": 3
   },
   "file_extension": ".py",
   "mimetype": "text/x-python",
   "name": "python",
   "nbconvert_exporter": "python",
   "pygments_lexer": "ipython3",
   "version": "3.7.4"
  },
  "papermill": {
   "duration": 1.842195,
   "end_time": "2020-04-26T23:43:29.333936",
   "environment_variables": {},
   "exception": null,
   "input_path": "notebooks/Untitled.ipynb",
   "output_path": "reports/generate_data/GenerateData72.ipynb",
   "parameters": {
    "filename": "rdata/72.txt"
   },
   "start_time": "2020-04-26T23:43:27.491741",
   "version": "2.1.1"
  }
 },
 "nbformat": 4,
 "nbformat_minor": 4
}