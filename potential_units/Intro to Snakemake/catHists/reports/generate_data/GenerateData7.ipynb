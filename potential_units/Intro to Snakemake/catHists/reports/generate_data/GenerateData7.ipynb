{
 "cells": [
  {
   "cell_type": "code",
   "execution_count": 1,
   "metadata": {
    "execution": {
     "iopub.execute_input": "2020-04-26T23:40:50.259607Z",
     "iopub.status.busy": "2020-04-26T23:40:50.258607Z",
     "iopub.status.idle": "2020-04-26T23:40:50.395530Z",
     "shell.execute_reply": "2020-04-26T23:40:50.396529Z"
    },
    "papermill": {
     "duration": 0.148915,
     "end_time": "2020-04-26T23:40:50.396529",
     "exception": false,
     "start_time": "2020-04-26T23:40:50.247614",
     "status": "completed"
    },
    "tags": []
   },
   "outputs": [],
   "source": [
    "import numpy as np"
   ]
  },
  {
   "cell_type": "code",
   "execution_count": 2,
   "metadata": {
    "execution": {
     "iopub.execute_input": "2020-04-26T23:40:50.406524Z",
     "iopub.status.busy": "2020-04-26T23:40:50.405524Z",
     "iopub.status.idle": "2020-04-26T23:40:50.407523Z",
     "shell.execute_reply": "2020-04-26T23:40:50.407523Z"
    },
    "papermill": {
     "duration": 0.006996,
     "end_time": "2020-04-26T23:40:50.407523",
     "exception": false,
     "start_time": "2020-04-26T23:40:50.400527",
     "status": "completed"
    },
    "tags": [
     "parameters"
    ]
   },
   "outputs": [],
   "source": [
    "filename = \"0.txt\""
   ]
  },
  {
   "cell_type": "code",
   "execution_count": 3,
   "metadata": {
    "execution": {
     "iopub.execute_input": "2020-04-26T23:40:50.418517Z",
     "iopub.status.busy": "2020-04-26T23:40:50.418517Z",
     "iopub.status.idle": "2020-04-26T23:40:50.420515Z",
     "shell.execute_reply": "2020-04-26T23:40:50.420515Z"
    },
    "papermill": {
     "duration": 0.009994,
     "end_time": "2020-04-26T23:40:50.421515",
     "exception": false,
     "start_time": "2020-04-26T23:40:50.411521",
     "status": "completed"
    },
    "tags": [
     "injected-parameters"
    ]
   },
   "outputs": [],
   "source": [
    "# Parameters\n",
    "filename = \"rdata/7.txt\"\n"
   ]
  },
  {
   "cell_type": "code",
   "execution_count": 4,
   "metadata": {
    "execution": {
     "iopub.execute_input": "2020-04-26T23:40:50.435507Z",
     "iopub.status.busy": "2020-04-26T23:40:50.435507Z",
     "iopub.status.idle": "2020-04-26T23:40:50.438505Z",
     "shell.execute_reply": "2020-04-26T23:40:50.439505Z"
    },
    "papermill": {
     "duration": 0.014992,
     "end_time": "2020-04-26T23:40:50.439505",
     "exception": false,
     "start_time": "2020-04-26T23:40:50.424513",
     "status": "completed"
    },
    "tags": []
   },
   "outputs": [
    {
     "data": {
      "text/plain": [
       "array([0.86099969, 0.96675896, 0.75610445, 0.74756651, 0.60377964,\n",
       "       0.15423861, 0.42726279, 0.08210525, 0.62989961, 0.08316208])"
      ]
     },
     "execution_count": 4,
     "metadata": {},
     "output_type": "execute_result"
    }
   ],
   "source": [
    "data = np.random.random(10)\n",
    "data"
   ]
  },
  {
   "cell_type": "code",
   "execution_count": 5,
   "metadata": {
    "execution": {
     "iopub.execute_input": "2020-04-26T23:40:50.450498Z",
     "iopub.status.busy": "2020-04-26T23:40:50.449499Z",
     "iopub.status.idle": "2020-04-26T23:40:50.454496Z",
     "shell.execute_reply": "2020-04-26T23:40:50.454496Z"
    },
    "papermill": {
     "duration": 0.012993,
     "end_time": "2020-04-26T23:40:50.455496",
     "exception": false,
     "start_time": "2020-04-26T23:40:50.442503",
     "status": "completed"
    },
    "tags": []
   },
   "outputs": [],
   "source": [
    "np.savetxt(filename, data)"
   ]
  }
 ],
 "metadata": {
  "kernelspec": {
   "display_name": "Python 3",
   "language": "python",
   "name": "python3"
  },
  "language_info": {
   "codemirror_mode": {
    "name": "ipython",
    "version": 3
   },
   "file_extension": ".py",
   "mimetype": "text/x-python",
   "name": "python",
   "nbconvert_exporter": "python",
   "pygments_lexer": "ipython3",
   "version": "3.7.4"
  },
  "papermill": {
   "duration": 1.731011,
   "end_time": "2020-04-26T23:40:50.567431",
   "environment_variables": {},
   "exception": null,
   "input_path": "notebooks/Untitled.ipynb",
   "output_path": "reports/generate_data/GenerateData7.ipynb",
   "parameters": {
    "filename": "rdata/7.txt"
   },
   "start_time": "2020-04-26T23:40:48.836420",
   "version": "2.1.1"
  }
 },
 "nbformat": 4,
 "nbformat_minor": 4
}