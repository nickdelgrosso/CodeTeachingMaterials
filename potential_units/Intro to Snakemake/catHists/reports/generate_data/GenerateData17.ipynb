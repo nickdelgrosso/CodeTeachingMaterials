{
 "cells": [
  {
   "cell_type": "code",
   "execution_count": 1,
   "metadata": {
    "execution": {
     "iopub.execute_input": "2020-04-26T23:43:44.669199Z",
     "iopub.status.busy": "2020-04-26T23:43:44.668199Z",
     "iopub.status.idle": "2020-04-26T23:43:44.786132Z",
     "shell.execute_reply": "2020-04-26T23:43:44.786132Z"
    },
    "papermill": {
     "duration": 0.12393,
     "end_time": "2020-04-26T23:43:44.786132",
     "exception": false,
     "start_time": "2020-04-26T23:43:44.662202",
     "status": "completed"
    },
    "tags": []
   },
   "outputs": [],
   "source": [
    "import numpy as np"
   ]
  },
  {
   "cell_type": "code",
   "execution_count": 2,
   "metadata": {
    "execution": {
     "iopub.execute_input": "2020-04-26T23:43:44.796126Z",
     "iopub.status.busy": "2020-04-26T23:43:44.796126Z",
     "iopub.status.idle": "2020-04-26T23:43:44.799124Z",
     "shell.execute_reply": "2020-04-26T23:43:44.799124Z"
    },
    "papermill": {
     "duration": 0.008995,
     "end_time": "2020-04-26T23:43:44.799124",
     "exception": false,
     "start_time": "2020-04-26T23:43:44.790129",
     "status": "completed"
    },
    "tags": [
     "parameters"
    ]
   },
   "outputs": [],
   "source": [
    "filename = \"0.txt\""
   ]
  },
  {
   "cell_type": "code",
   "execution_count": 3,
   "metadata": {
    "execution": {
     "iopub.execute_input": "2020-04-26T23:43:44.810118Z",
     "iopub.status.busy": "2020-04-26T23:43:44.809118Z",
     "iopub.status.idle": "2020-04-26T23:43:44.812116Z",
     "shell.execute_reply": "2020-04-26T23:43:44.812116Z"
    },
    "papermill": {
     "duration": 0.008994,
     "end_time": "2020-04-26T23:43:44.812116",
     "exception": false,
     "start_time": "2020-04-26T23:43:44.803122",
     "status": "completed"
    },
    "tags": [
     "injected-parameters"
    ]
   },
   "outputs": [],
   "source": [
    "# Parameters\n",
    "filename = \"rdata/17.txt\"\n"
   ]
  },
  {
   "cell_type": "code",
   "execution_count": 4,
   "metadata": {
    "execution": {
     "iopub.execute_input": "2020-04-26T23:43:44.827108Z",
     "iopub.status.busy": "2020-04-26T23:43:44.826108Z",
     "iopub.status.idle": "2020-04-26T23:43:44.830106Z",
     "shell.execute_reply": "2020-04-26T23:43:44.830106Z"
    },
    "papermill": {
     "duration": 0.013992,
     "end_time": "2020-04-26T23:43:44.830106",
     "exception": false,
     "start_time": "2020-04-26T23:43:44.816114",
     "status": "completed"
    },
    "tags": []
   },
   "outputs": [
    {
     "data": {
      "text/plain": [
       "array([0.15814735, 0.06343155, 0.77887047, 0.0646204 , 0.50426602,\n",
       "       0.24924271, 0.093233  , 0.98004827, 0.92048814, 0.84693355])"
      ]
     },
     "execution_count": 4,
     "metadata": {},
     "output_type": "execute_result"
    }
   ],
   "source": [
    "data = np.random.random(10)\n",
    "data"
   ]
  },
  {
   "cell_type": "code",
   "execution_count": 5,
   "metadata": {
    "execution": {
     "iopub.execute_input": "2020-04-26T23:43:44.841100Z",
     "iopub.status.busy": "2020-04-26T23:43:44.841100Z",
     "iopub.status.idle": "2020-04-26T23:43:44.845537Z",
     "shell.execute_reply": "2020-04-26T23:43:44.845537Z"
    },
    "papermill": {
     "duration": 0.011433,
     "end_time": "2020-04-26T23:43:44.845537",
     "exception": false,
     "start_time": "2020-04-26T23:43:44.834104",
     "status": "completed"
    },
    "tags": []
   },
   "outputs": [],
   "source": [
    "np.savetxt(filename, data)"
   ]
  }
 ],
 "metadata": {
  "kernelspec": {
   "display_name": "Python 3",
   "language": "python",
   "name": "python3"
  },
  "language_info": {
   "codemirror_mode": {
    "name": "ipython",
    "version": 3
   },
   "file_extension": ".py",
   "mimetype": "text/x-python",
   "name": "python",
   "nbconvert_exporter": "python",
   "pygments_lexer": "ipython3",
   "version": "3.7.4"
  },
  "papermill": {
   "duration": 1.790081,
   "end_time": "2020-04-26T23:43:44.957138",
   "environment_variables": {},
   "exception": null,
   "input_path": "notebooks/Untitled.ipynb",
   "output_path": "reports/generate_data/GenerateData17.ipynb",
   "parameters": {
    "filename": "rdata/17.txt"
   },
   "start_time": "2020-04-26T23:43:43.167057",
   "version": "2.1.1"
  }
 },
 "nbformat": 4,
 "nbformat_minor": 4
}