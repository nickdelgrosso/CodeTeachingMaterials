{
 "cells": [
  {
   "cell_type": "code",
   "execution_count": 1,
   "metadata": {
    "execution": {
     "iopub.execute_input": "2020-04-26T23:43:40.160752Z",
     "iopub.status.busy": "2020-04-26T23:43:40.159753Z",
     "iopub.status.idle": "2020-04-26T23:43:40.280682Z",
     "shell.execute_reply": "2020-04-26T23:43:40.280682Z"
    },
    "papermill": {
     "duration": 0.127926,
     "end_time": "2020-04-26T23:43:40.281682",
     "exception": false,
     "start_time": "2020-04-26T23:43:40.153756",
     "status": "completed"
    },
    "tags": []
   },
   "outputs": [],
   "source": [
    "import numpy as np"
   ]
  },
  {
   "cell_type": "code",
   "execution_count": 2,
   "metadata": {
    "execution": {
     "iopub.execute_input": "2020-04-26T23:43:40.290677Z",
     "iopub.status.busy": "2020-04-26T23:43:40.289678Z",
     "iopub.status.idle": "2020-04-26T23:43:40.292675Z",
     "shell.execute_reply": "2020-04-26T23:43:40.292675Z"
    },
    "papermill": {
     "duration": 0.007995,
     "end_time": "2020-04-26T23:43:40.292675",
     "exception": false,
     "start_time": "2020-04-26T23:43:40.284680",
     "status": "completed"
    },
    "tags": [
     "parameters"
    ]
   },
   "outputs": [],
   "source": [
    "filename = \"0.txt\""
   ]
  },
  {
   "cell_type": "code",
   "execution_count": 3,
   "metadata": {
    "execution": {
     "iopub.execute_input": "2020-04-26T23:43:40.303670Z",
     "iopub.status.busy": "2020-04-26T23:43:40.303670Z",
     "iopub.status.idle": "2020-04-26T23:43:40.305668Z",
     "shell.execute_reply": "2020-04-26T23:43:40.304669Z"
    },
    "papermill": {
     "duration": 0.009994,
     "end_time": "2020-04-26T23:43:40.305668",
     "exception": false,
     "start_time": "2020-04-26T23:43:40.295674",
     "status": "completed"
    },
    "tags": [
     "injected-parameters"
    ]
   },
   "outputs": [],
   "source": [
    "# Parameters\n",
    "filename = \"rdata/84.txt\"\n"
   ]
  },
  {
   "cell_type": "code",
   "execution_count": 4,
   "metadata": {
    "execution": {
     "iopub.execute_input": "2020-04-26T23:43:40.320660Z",
     "iopub.status.busy": "2020-04-26T23:43:40.319660Z",
     "iopub.status.idle": "2020-04-26T23:43:40.322682Z",
     "shell.execute_reply": "2020-04-26T23:43:40.322682Z"
    },
    "papermill": {
     "duration": 0.01503,
     "end_time": "2020-04-26T23:43:40.323698",
     "exception": false,
     "start_time": "2020-04-26T23:43:40.308668",
     "status": "completed"
    },
    "tags": []
   },
   "outputs": [
    {
     "data": {
      "text/plain": [
       "array([0.06073591, 0.77878594, 0.24395591, 0.65024664, 0.06425131,\n",
       "       0.02000334, 0.19655974, 0.01931789, 0.51064706, 0.74124602])"
      ]
     },
     "execution_count": 4,
     "metadata": {},
     "output_type": "execute_result"
    }
   ],
   "source": [
    "data = np.random.random(10)\n",
    "data"
   ]
  },
  {
   "cell_type": "code",
   "execution_count": 5,
   "metadata": {
    "execution": {
     "iopub.execute_input": "2020-04-26T23:43:40.334674Z",
     "iopub.status.busy": "2020-04-26T23:43:40.334674Z",
     "iopub.status.idle": "2020-04-26T23:43:40.338675Z",
     "shell.execute_reply": "2020-04-26T23:43:40.338675Z"
    },
    "papermill": {
     "duration": 0.012993,
     "end_time": "2020-04-26T23:43:40.339689",
     "exception": false,
     "start_time": "2020-04-26T23:43:40.326696",
     "status": "completed"
    },
    "tags": []
   },
   "outputs": [],
   "source": [
    "np.savetxt(filename, data)"
   ]
  }
 ],
 "metadata": {
  "kernelspec": {
   "display_name": "Python 3",
   "language": "python",
   "name": "python3"
  },
  "language_info": {
   "codemirror_mode": {
    "name": "ipython",
    "version": 3
   },
   "file_extension": ".py",
   "mimetype": "text/x-python",
   "name": "python",
   "nbconvert_exporter": "python",
   "pygments_lexer": "ipython3",
   "version": "3.7.4"
  },
  "papermill": {
   "duration": 1.851982,
   "end_time": "2020-04-26T23:43:40.450626",
   "environment_variables": {},
   "exception": null,
   "input_path": "notebooks/Untitled.ipynb",
   "output_path": "reports/generate_data/GenerateData84.ipynb",
   "parameters": {
    "filename": "rdata/84.txt"
   },
   "start_time": "2020-04-26T23:43:38.598644",
   "version": "2.1.1"
  }
 },
 "nbformat": 4,
 "nbformat_minor": 4
}