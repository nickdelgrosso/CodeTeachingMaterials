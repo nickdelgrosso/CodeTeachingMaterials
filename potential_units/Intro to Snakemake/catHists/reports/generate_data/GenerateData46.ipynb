{
 "cells": [
  {
   "cell_type": "code",
   "execution_count": 1,
   "metadata": {
    "execution": {
     "iopub.execute_input": "2020-04-26T23:43:24.023722Z",
     "iopub.status.busy": "2020-04-26T23:43:24.023722Z",
     "iopub.status.idle": "2020-04-26T23:43:24.145653Z",
     "shell.execute_reply": "2020-04-26T23:43:24.145653Z"
    },
    "papermill": {
     "duration": 0.133924,
     "end_time": "2020-04-26T23:43:24.145653",
     "exception": false,
     "start_time": "2020-04-26T23:43:24.011729",
     "status": "completed"
    },
    "tags": []
   },
   "outputs": [],
   "source": [
    "import numpy as np"
   ]
  },
  {
   "cell_type": "code",
   "execution_count": 2,
   "metadata": {
    "execution": {
     "iopub.execute_input": "2020-04-26T23:43:24.157646Z",
     "iopub.status.busy": "2020-04-26T23:43:24.157646Z",
     "iopub.status.idle": "2020-04-26T23:43:24.160644Z",
     "shell.execute_reply": "2020-04-26T23:43:24.161643Z"
    },
    "papermill": {
     "duration": 0.011992,
     "end_time": "2020-04-26T23:43:24.161643",
     "exception": false,
     "start_time": "2020-04-26T23:43:24.149651",
     "status": "completed"
    },
    "tags": [
     "parameters"
    ]
   },
   "outputs": [],
   "source": [
    "filename = \"0.txt\""
   ]
  },
  {
   "cell_type": "code",
   "execution_count": 3,
   "metadata": {
    "execution": {
     "iopub.execute_input": "2020-04-26T23:43:24.173637Z",
     "iopub.status.busy": "2020-04-26T23:43:24.172637Z",
     "iopub.status.idle": "2020-04-26T23:43:24.175635Z",
     "shell.execute_reply": "2020-04-26T23:43:24.176635Z"
    },
    "papermill": {
     "duration": 0.011993,
     "end_time": "2020-04-26T23:43:24.176635",
     "exception": false,
     "start_time": "2020-04-26T23:43:24.164642",
     "status": "completed"
    },
    "tags": [
     "injected-parameters"
    ]
   },
   "outputs": [],
   "source": [
    "# Parameters\n",
    "filename = \"rdata/46.txt\"\n"
   ]
  },
  {
   "cell_type": "code",
   "execution_count": 4,
   "metadata": {
    "execution": {
     "iopub.execute_input": "2020-04-26T23:43:24.191627Z",
     "iopub.status.busy": "2020-04-26T23:43:24.191627Z",
     "iopub.status.idle": "2020-04-26T23:43:24.194625Z",
     "shell.execute_reply": "2020-04-26T23:43:24.195624Z"
    },
    "papermill": {
     "duration": 0.015991,
     "end_time": "2020-04-26T23:43:24.195624",
     "exception": false,
     "start_time": "2020-04-26T23:43:24.179633",
     "status": "completed"
    },
    "tags": []
   },
   "outputs": [
    {
     "data": {
      "text/plain": [
       "array([0.38597611, 0.14626302, 0.36634532, 0.6045885 , 0.97161069,\n",
       "       0.55099071, 0.13618652, 0.87357559, 0.70066402, 0.97238486])"
      ]
     },
     "execution_count": 4,
     "metadata": {},
     "output_type": "execute_result"
    }
   ],
   "source": [
    "data = np.random.random(10)\n",
    "data"
   ]
  },
  {
   "cell_type": "code",
   "execution_count": 5,
   "metadata": {
    "execution": {
     "iopub.execute_input": "2020-04-26T23:43:24.207617Z",
     "iopub.status.busy": "2020-04-26T23:43:24.207617Z",
     "iopub.status.idle": "2020-04-26T23:43:24.211615Z",
     "shell.execute_reply": "2020-04-26T23:43:24.212615Z"
    },
    "papermill": {
     "duration": 0.012993,
     "end_time": "2020-04-26T23:43:24.212615",
     "exception": false,
     "start_time": "2020-04-26T23:43:24.199622",
     "status": "completed"
    },
    "tags": []
   },
   "outputs": [],
   "source": [
    "np.savetxt(filename, data)"
   ]
  }
 ],
 "metadata": {
  "kernelspec": {
   "display_name": "Python 3",
   "language": "python",
   "name": "python3"
  },
  "language_info": {
   "codemirror_mode": {
    "name": "ipython",
    "version": 3
   },
   "file_extension": ".py",
   "mimetype": "text/x-python",
   "name": "python",
   "nbconvert_exporter": "python",
   "pygments_lexer": "ipython3",
   "version": "3.7.4"
  },
  "papermill": {
   "duration": 1.682178,
   "end_time": "2020-04-26T23:43:24.328549",
   "environment_variables": {},
   "exception": null,
   "input_path": "notebooks/Untitled.ipynb",
   "output_path": "reports/generate_data/GenerateData46.ipynb",
   "parameters": {
    "filename": "rdata/46.txt"
   },
   "start_time": "2020-04-26T23:43:22.646371",
   "version": "2.1.1"
  }
 },
 "nbformat": 4,
 "nbformat_minor": 4
}