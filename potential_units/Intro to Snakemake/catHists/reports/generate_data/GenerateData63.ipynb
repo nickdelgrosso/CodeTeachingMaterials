{
 "cells": [
  {
   "cell_type": "code",
   "execution_count": 1,
   "metadata": {
    "execution": {
     "iopub.execute_input": "2020-04-26T23:43:34.960722Z",
     "iopub.status.busy": "2020-04-26T23:43:34.959722Z",
     "iopub.status.idle": "2020-04-26T23:43:35.086650Z",
     "shell.execute_reply": "2020-04-26T23:43:35.087650Z"
    },
    "papermill": {
     "duration": 0.133924,
     "end_time": "2020-04-26T23:43:35.087650",
     "exception": false,
     "start_time": "2020-04-26T23:43:34.953726",
     "status": "completed"
    },
    "tags": []
   },
   "outputs": [],
   "source": [
    "import numpy as np"
   ]
  },
  {
   "cell_type": "code",
   "execution_count": 2,
   "metadata": {
    "execution": {
     "iopub.execute_input": "2020-04-26T23:43:35.125628Z",
     "iopub.status.busy": "2020-04-26T23:43:35.125628Z",
     "iopub.status.idle": "2020-04-26T23:43:35.129626Z",
     "shell.execute_reply": "2020-04-26T23:43:35.128626Z"
    },
    "papermill": {
     "duration": 0.020988,
     "end_time": "2020-04-26T23:43:35.129626",
     "exception": false,
     "start_time": "2020-04-26T23:43:35.108638",
     "status": "completed"
    },
    "tags": [
     "parameters"
    ]
   },
   "outputs": [],
   "source": [
    "filename = \"0.txt\""
   ]
  },
  {
   "cell_type": "code",
   "execution_count": 3,
   "metadata": {
    "execution": {
     "iopub.execute_input": "2020-04-26T23:43:35.147615Z",
     "iopub.status.busy": "2020-04-26T23:43:35.146616Z",
     "iopub.status.idle": "2020-04-26T23:43:35.150614Z",
     "shell.execute_reply": "2020-04-26T23:43:35.150614Z"
    },
    "papermill": {
     "duration": 0.011992,
     "end_time": "2020-04-26T23:43:35.150614",
     "exception": false,
     "start_time": "2020-04-26T23:43:35.138622",
     "status": "completed"
    },
    "tags": [
     "injected-parameters"
    ]
   },
   "outputs": [],
   "source": [
    "# Parameters\n",
    "filename = \"rdata/63.txt\"\n"
   ]
  },
  {
   "cell_type": "code",
   "execution_count": 4,
   "metadata": {
    "execution": {
     "iopub.execute_input": "2020-04-26T23:43:35.167604Z",
     "iopub.status.busy": "2020-04-26T23:43:35.166605Z",
     "iopub.status.idle": "2020-04-26T23:43:35.169604Z",
     "shell.execute_reply": "2020-04-26T23:43:35.170604Z"
    },
    "papermill": {
     "duration": 0.015992,
     "end_time": "2020-04-26T23:43:35.170604",
     "exception": false,
     "start_time": "2020-04-26T23:43:35.154612",
     "status": "completed"
    },
    "tags": []
   },
   "outputs": [
    {
     "data": {
      "text/plain": [
       "array([0.10138819, 0.32121229, 0.60724654, 0.65019424, 0.30324854,\n",
       "       0.7725094 , 0.81758602, 0.9456981 , 0.69722083, 0.74905936])"
      ]
     },
     "execution_count": 4,
     "metadata": {},
     "output_type": "execute_result"
    }
   ],
   "source": [
    "data = np.random.random(10)\n",
    "data"
   ]
  },
  {
   "cell_type": "code",
   "execution_count": 5,
   "metadata": {
    "execution": {
     "iopub.execute_input": "2020-04-26T23:43:35.185594Z",
     "iopub.status.busy": "2020-04-26T23:43:35.185594Z",
     "iopub.status.idle": "2020-04-26T23:43:35.190591Z",
     "shell.execute_reply": "2020-04-26T23:43:35.191591Z"
    },
    "papermill": {
     "duration": 0.01699,
     "end_time": "2020-04-26T23:43:35.191591",
     "exception": false,
     "start_time": "2020-04-26T23:43:35.174601",
     "status": "completed"
    },
    "tags": []
   },
   "outputs": [],
   "source": [
    "np.savetxt(filename, data)"
   ]
  }
 ],
 "metadata": {
  "kernelspec": {
   "display_name": "Python 3",
   "language": "python",
   "name": "python3"
  },
  "language_info": {
   "codemirror_mode": {
    "name": "ipython",
    "version": 3
   },
   "file_extension": ".py",
   "mimetype": "text/x-python",
   "name": "python",
   "nbconvert_exporter": "python",
   "pygments_lexer": "ipython3",
   "version": "3.7.4"
  },
  "papermill": {
   "duration": 2.143776,
   "end_time": "2020-04-26T23:43:35.308524",
   "environment_variables": {},
   "exception": null,
   "input_path": "notebooks/Untitled.ipynb",
   "output_path": "reports/generate_data/GenerateData63.ipynb",
   "parameters": {
    "filename": "rdata/63.txt"
   },
   "start_time": "2020-04-26T23:43:33.164748",
   "version": "2.1.1"
  }
 },
 "nbformat": 4,
 "nbformat_minor": 4
}