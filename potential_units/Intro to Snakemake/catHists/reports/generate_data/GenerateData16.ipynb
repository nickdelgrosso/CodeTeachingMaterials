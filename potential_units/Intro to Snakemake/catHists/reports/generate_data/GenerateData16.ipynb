{
 "cells": [
  {
   "cell_type": "code",
   "execution_count": 1,
   "metadata": {
    "execution": {
     "iopub.execute_input": "2020-04-26T23:43:34.464006Z",
     "iopub.status.busy": "2020-04-26T23:43:34.464006Z",
     "iopub.status.idle": "2020-04-26T23:43:34.890763Z",
     "shell.execute_reply": "2020-04-26T23:43:34.891761Z"
    },
    "papermill": {
     "duration": 0.434752,
     "end_time": "2020-04-26T23:43:34.891761",
     "exception": false,
     "start_time": "2020-04-26T23:43:34.457009",
     "status": "completed"
    },
    "tags": []
   },
   "outputs": [],
   "source": [
    "import numpy as np"
   ]
  },
  {
   "cell_type": "code",
   "execution_count": 2,
   "metadata": {
    "execution": {
     "iopub.execute_input": "2020-04-26T23:43:34.901755Z",
     "iopub.status.busy": "2020-04-26T23:43:34.900757Z",
     "iopub.status.idle": "2020-04-26T23:43:34.903755Z",
     "shell.execute_reply": "2020-04-26T23:43:34.904754Z"
    },
    "papermill": {
     "duration": 0.009995,
     "end_time": "2020-04-26T23:43:34.904754",
     "exception": false,
     "start_time": "2020-04-26T23:43:34.894759",
     "status": "completed"
    },
    "tags": [
     "parameters"
    ]
   },
   "outputs": [],
   "source": [
    "filename = \"0.txt\""
   ]
  },
  {
   "cell_type": "code",
   "execution_count": 3,
   "metadata": {
    "execution": {
     "iopub.execute_input": "2020-04-26T23:43:34.915748Z",
     "iopub.status.busy": "2020-04-26T23:43:34.914748Z",
     "iopub.status.idle": "2020-04-26T23:43:34.918746Z",
     "shell.execute_reply": "2020-04-26T23:43:34.918746Z"
    },
    "papermill": {
     "duration": 0.011992,
     "end_time": "2020-04-26T23:43:34.919745",
     "exception": false,
     "start_time": "2020-04-26T23:43:34.907753",
     "status": "completed"
    },
    "tags": [
     "injected-parameters"
    ]
   },
   "outputs": [],
   "source": [
    "# Parameters\n",
    "filename = \"rdata/16.txt\"\n"
   ]
  },
  {
   "cell_type": "code",
   "execution_count": 4,
   "metadata": {
    "execution": {
     "iopub.execute_input": "2020-04-26T23:43:34.929740Z",
     "iopub.status.busy": "2020-04-26T23:43:34.928740Z",
     "iopub.status.idle": "2020-04-26T23:43:34.937735Z",
     "shell.execute_reply": "2020-04-26T23:43:34.938735Z"
    },
    "papermill": {
     "duration": 0.015992,
     "end_time": "2020-04-26T23:43:34.938735",
     "exception": false,
     "start_time": "2020-04-26T23:43:34.922743",
     "status": "completed"
    },
    "tags": []
   },
   "outputs": [
    {
     "data": {
      "text/plain": [
       "array([0.65689679, 0.95831112, 0.37593603, 0.64045049, 0.40392216,\n",
       "       0.20275583, 0.340056  , 0.27438265, 0.49522001, 0.2989188 ])"
      ]
     },
     "execution_count": 4,
     "metadata": {},
     "output_type": "execute_result"
    }
   ],
   "source": [
    "data = np.random.random(10)\n",
    "data"
   ]
  },
  {
   "cell_type": "code",
   "execution_count": 5,
   "metadata": {
    "execution": {
     "iopub.execute_input": "2020-04-26T23:43:34.951727Z",
     "iopub.status.busy": "2020-04-26T23:43:34.950728Z",
     "iopub.status.idle": "2020-04-26T23:43:34.956724Z",
     "shell.execute_reply": "2020-04-26T23:43:34.957724Z"
    },
    "papermill": {
     "duration": 0.014992,
     "end_time": "2020-04-26T23:43:34.957724",
     "exception": false,
     "start_time": "2020-04-26T23:43:34.942732",
     "status": "completed"
    },
    "tags": []
   },
   "outputs": [],
   "source": [
    "np.savetxt(filename, data)"
   ]
  }
 ],
 "metadata": {
  "kernelspec": {
   "display_name": "Python 3",
   "language": "python",
   "name": "python3"
  },
  "language_info": {
   "codemirror_mode": {
    "name": "ipython",
    "version": 3
   },
   "file_extension": ".py",
   "mimetype": "text/x-python",
   "name": "python",
   "nbconvert_exporter": "python",
   "pygments_lexer": "ipython3",
   "version": "3.7.4"
  },
  "papermill": {
   "duration": 2.148772,
   "end_time": "2020-04-26T23:43:35.076656",
   "environment_variables": {},
   "exception": null,
   "input_path": "notebooks/Untitled.ipynb",
   "output_path": "reports/generate_data/GenerateData16.ipynb",
   "parameters": {
    "filename": "rdata/16.txt"
   },
   "start_time": "2020-04-26T23:43:32.927884",
   "version": "2.1.1"
  }
 },
 "nbformat": 4,
 "nbformat_minor": 4
}