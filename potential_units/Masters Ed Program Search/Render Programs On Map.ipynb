{
 "cells": [
  {
   "cell_type": "code",
   "execution_count": 1,
   "metadata": {
    "collapsed": true
   },
   "outputs": [],
   "source": [
    "import pandas as pd\n",
    "import gmplot"
   ]
  },
  {
   "cell_type": "markdown",
   "metadata": {},
   "source": [
    "## Read "
   ]
  },
  {
   "cell_type": "code",
   "execution_count": 2,
   "metadata": {
    "collapsed": false,
    "scrolled": true
   },
   "outputs": [
    {
     "data": {
      "text/html": [
       "<div style=\"max-height:1000px;max-width:1500px;overflow:auto;\">\n",
       "<table border=\"1\" class=\"dataframe\">\n",
       "  <thead>\n",
       "    <tr style=\"text-align: right;\">\n",
       "      <th></th>\n",
       "      <th>city</th>\n",
       "      <th>degree</th>\n",
       "      <th>description</th>\n",
       "      <th>major</th>\n",
       "      <th>online</th>\n",
       "      <th>program</th>\n",
       "      <th>weblink</th>\n",
       "      <th>lattitude</th>\n",
       "      <th>longitude</th>\n",
       "      <th>city detailed</th>\n",
       "      <th>city importance</th>\n",
       "    </tr>\n",
       "  </thead>\n",
       "  <tbody>\n",
       "    <tr>\n",
       "      <th>0</th>\n",
       "      <td>NaN</td>\n",
       "      <td>Master</td>\n",
       "      <td>Address the needs of today's classrooms with a...</td>\n",
       "      <td>Master of Arts in Teaching - Secondary Social ...</td>\n",
       "      <td>Online</td>\n",
       "      <td>University of Southern California</td>\n",
       "      <td>/graduate-schools-in-united-states/online/univ...</td>\n",
       "      <td>NaN</td>\n",
       "      <td>NaN</td>\n",
       "      <td>NaN</td>\n",
       "      <td>NaN</td>\n",
       "    </tr>\n",
       "    <tr>\n",
       "      <th>1</th>\n",
       "      <td>NaN</td>\n",
       "      <td>Master</td>\n",
       "      <td>Increase your knowledge in teaching science at...</td>\n",
       "      <td>Master of Natural Sciences Education</td>\n",
       "      <td>Online</td>\n",
       "      <td>Colorado State University</td>\n",
       "      <td>/graduate-schools-in-united-states/online/colo...</td>\n",
       "      <td>NaN</td>\n",
       "      <td>NaN</td>\n",
       "      <td>NaN</td>\n",
       "      <td>NaN</td>\n",
       "    </tr>\n",
       "    <tr>\n",
       "      <th>2</th>\n",
       "      <td>Keene, NH</td>\n",
       "      <td>Master</td>\n",
       "      <td>This concentration is the only science teacher...</td>\n",
       "      <td>Environmental Studies (MS) with a concentratio...</td>\n",
       "      <td>Campus</td>\n",
       "      <td>Antioch University New England</td>\n",
       "      <td>/graduate-schools-in-united-states/new-hampshi...</td>\n",
       "      <td>42.933597</td>\n",
       "      <td>-72.278426</td>\n",
       "      <td>Keene, Cheshire County, New Hampshire, United ...</td>\n",
       "      <td>0.528618</td>\n",
       "    </tr>\n",
       "    <tr>\n",
       "      <th>3</th>\n",
       "      <td>Chicago, IL</td>\n",
       "      <td>Master</td>\n",
       "      <td>The M.Ed. in Science Education program has thr...</td>\n",
       "      <td>Science Education</td>\n",
       "      <td>Campus</td>\n",
       "      <td>Loyola University Chicago</td>\n",
       "      <td>/graduate-schools-in-united-states/illinois/lo...</td>\n",
       "      <td>41.875555</td>\n",
       "      <td>-87.624421</td>\n",
       "      <td>Chicago, Cook County, Illinois, United States ...</td>\n",
       "      <td>0.992648</td>\n",
       "    </tr>\n",
       "    <tr>\n",
       "      <th>4</th>\n",
       "      <td>Garden City, NY</td>\n",
       "      <td>Master</td>\n",
       "      <td>Our program leads to New York State certificat...</td>\n",
       "      <td>Science Education</td>\n",
       "      <td>Campus</td>\n",
       "      <td>Adelphi University</td>\n",
       "      <td>/graduate-schools-in-united-states/new-york/ad...</td>\n",
       "      <td>40.726648</td>\n",
       "      <td>-73.634305</td>\n",
       "      <td>Garden City, New York, United States of America</td>\n",
       "      <td>0.630725</td>\n",
       "    </tr>\n",
       "  </tbody>\n",
       "</table>\n",
       "</div>"
      ],
      "text/plain": [
       "              city  degree                                        description  \\\n",
       "0              NaN  Master  Address the needs of today's classrooms with a...   \n",
       "1              NaN  Master  Increase your knowledge in teaching science at...   \n",
       "2        Keene, NH  Master  This concentration is the only science teacher...   \n",
       "3      Chicago, IL  Master  The M.Ed. in Science Education program has thr...   \n",
       "4  Garden City, NY  Master  Our program leads to New York State certificat...   \n",
       "\n",
       "                                               major  online  \\\n",
       "0  Master of Arts in Teaching - Secondary Social ...  Online   \n",
       "1               Master of Natural Sciences Education  Online   \n",
       "2  Environmental Studies (MS) with a concentratio...  Campus   \n",
       "3                                  Science Education  Campus   \n",
       "4                                  Science Education  Campus   \n",
       "\n",
       "                             program  \\\n",
       "0  University of Southern California   \n",
       "1          Colorado State University   \n",
       "2     Antioch University New England   \n",
       "3          Loyola University Chicago   \n",
       "4                 Adelphi University   \n",
       "\n",
       "                                             weblink  lattitude  longitude  \\\n",
       "0  /graduate-schools-in-united-states/online/univ...        NaN        NaN   \n",
       "1  /graduate-schools-in-united-states/online/colo...        NaN        NaN   \n",
       "2  /graduate-schools-in-united-states/new-hampshi...  42.933597 -72.278426   \n",
       "3  /graduate-schools-in-united-states/illinois/lo...  41.875555 -87.624421   \n",
       "4  /graduate-schools-in-united-states/new-york/ad...  40.726648 -73.634305   \n",
       "\n",
       "                                       city detailed  city importance  \n",
       "0                                                NaN              NaN  \n",
       "1                                                NaN              NaN  \n",
       "2  Keene, Cheshire County, New Hampshire, United ...         0.528618  \n",
       "3  Chicago, Cook County, Illinois, United States ...         0.992648  \n",
       "4    Garden City, New York, United States of America         0.630725  "
      ]
     },
     "execution_count": 2,
     "metadata": {},
     "output_type": "execute_result"
    }
   ],
   "source": [
    "df = pd.read_excel('Masters Ed Program List (with mapdata).xlsx')\n",
    "df.head()\n"
   ]
  },
  {
   "cell_type": "code",
   "execution_count": 3,
   "metadata": {
    "collapsed": false
   },
   "outputs": [],
   "source": [
    "df = df[df['lattitude'].notnull()]\n",
    "\n",
    "gmap = gmplot.GoogleMapPlotter(37, -122, 3)\n",
    "gmap.scatter(df['lattitude'], df['longitude'], label='a')\n",
    "gmap.draw('program map.html')"
   ]
  },
  {
   "cell_type": "code",
   "execution_count": null,
   "metadata": {
    "collapsed": true
   },
   "outputs": [],
   "source": []
  }
 ],
 "metadata": {
  "kernelspec": {
   "display_name": "Python 2",
   "language": "python",
   "name": "python2"
  },
  "language_info": {
   "codemirror_mode": {
    "name": "ipython",
    "version": 2
   },
   "file_extension": ".py",
   "mimetype": "text/x-python",
   "name": "python",
   "nbconvert_exporter": "python",
   "pygments_lexer": "ipython2",
   "version": "2.7.6"
  }
 },
 "nbformat": 4,
 "nbformat_minor": 0
}
