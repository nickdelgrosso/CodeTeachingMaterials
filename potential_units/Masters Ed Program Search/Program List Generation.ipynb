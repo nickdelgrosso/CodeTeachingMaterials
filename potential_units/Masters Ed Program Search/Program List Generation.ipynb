{
 "cells": [
  {
   "cell_type": "code",
   "execution_count": 1,
   "metadata": {
    "collapsed": true
   },
   "outputs": [],
   "source": [
    "%matplotlib inline"
   ]
  },
  {
   "cell_type": "code",
   "execution_count": 2,
   "metadata": {
    "collapsed": false
   },
   "outputs": [],
   "source": [
    "from IPython.display import HTML\n",
    "import bs4\n",
    "from bs4 import BeautifulSoup\n",
    "import requests\n",
    "import pandas as pd"
   ]
  },
  {
   "cell_type": "markdown",
   "metadata": {},
   "source": [
    "## Get List of Masters in Science Education Programs from GradSchools.com to Excel"
   ]
  },
  {
   "cell_type": "code",
   "execution_count": 3,
   "metadata": {
    "collapsed": false
   },
   "outputs": [
    {
     "data": {
      "text/html": [
       "<iFrame src=\"http://www.gradschools.com/masters/teacher-education/teaching-science\" width=800 height=400></iFrame>"
      ],
      "text/plain": [
       "<IPython.core.display.HTML object>"
      ]
     },
     "execution_count": 3,
     "metadata": {},
     "output_type": "execute_result"
    }
   ],
   "source": [
    "HTML(r'<iFrame src=\"http://www.gradschools.com/masters/teacher-education/teaching-science\" width=800 height=400></iFrame>')"
   ]
  },
  {
   "cell_type": "markdown",
   "metadata": {},
   "source": [
    "## Get all Listings from each page from the site's prgram list"
   ]
  },
  {
   "cell_type": "code",
   "execution_count": 4,
   "metadata": {
    "collapsed": false
   },
   "outputs": [
    {
     "data": {
      "text/plain": [
       "['http://www.gradschools.com/masters/teacher-education/teaching-science?page=0',\n",
       " 'http://www.gradschools.com/masters/teacher-education/teaching-science?page=1',\n",
       " 'http://www.gradschools.com/masters/teacher-education/teaching-science?page=2',\n",
       " 'http://www.gradschools.com/masters/teacher-education/teaching-science?page=3',\n",
       " 'http://www.gradschools.com/masters/teacher-education/teaching-science?page=4',\n",
       " 'http://www.gradschools.com/masters/teacher-education/teaching-science?page=5',\n",
       " 'http://www.gradschools.com/masters/teacher-education/teaching-science?page=6',\n",
       " 'http://www.gradschools.com/masters/teacher-education/teaching-science?page=7']"
      ]
     },
     "execution_count": 4,
     "metadata": {},
     "output_type": "execute_result"
    }
   ],
   "source": [
    "sitelist = [r\"http://www.gradschools.com/masters/teacher-education/teaching-science?page={}\".format(el) for el in range(8)]\n",
    "sitelist"
   ]
  },
  {
   "cell_type": "code",
   "execution_count": 5,
   "metadata": {
    "collapsed": false
   },
   "outputs": [
    {
     "name": "stdout",
     "output_type": "stream",
     "text": [
      "25\n",
      "50\n",
      "75\n",
      "100\n",
      "125\n",
      "150\n",
      "175\n",
      "199\n"
     ]
    }
   ],
   "source": [
    "records = bs4.element.ResultSet([])\n",
    "for site in sitelist:\n",
    "    r = requests.get(site)\n",
    "    soup = BeautifulSoup(r.text, 'lxml')\n",
    "    names = soup.find_all(\"div\", class_=\"content-item\")\n",
    "    records.extend(names)\n",
    "    print(len(records))\n"
   ]
  },
  {
   "cell_type": "markdown",
   "metadata": {},
   "source": [
    "Example Listing:"
   ]
  },
  {
   "cell_type": "code",
   "execution_count": 6,
   "metadata": {
    "collapsed": false
   },
   "outputs": [
    {
     "name": "stdout",
     "output_type": "stream",
     "text": [
      "<div class=\"content-item\">\n",
      " <address class=\"online\">\n",
      "  Online\n",
      " </address>\n",
      " <h4>\n",
      "  University of Southern California\n",
      " </h4>\n",
      " <h3>\n",
      "  <a href=\"/graduate-schools-in-united-states/online/university-southern-california/master-of-arts-in-teaching-secondary-social-science-online-177714\">\n",
      "   Master of Arts in Teaching - Secondary Social Science (Online)\n",
      "  </a>\n",
      " </h3>\n",
      " <p>\n",
      " </p>\n",
      " <p>\n",
      "  Address the needs of today's classrooms with a Master of Arts in Teaching degree delivered online at the USC Rossier School of...\n",
      " </p>\n",
      " <div class=\"content-campus-program-level-info\">\n",
      "  <p class=\"item-type\">\n",
      "   <strong>\n",
      "    Program:\n",
      "   </strong>\n",
      "   Online\n",
      "  </p>\n",
      "  <p class=\"item-level\">\n",
      "   <strong>\n",
      "    Degree:\n",
      "   </strong>\n",
      "   Master\n",
      "  </p>\n",
      " </div>\n",
      "</div>\n",
      "\n"
     ]
    }
   ],
   "source": [
    "print(records[0].prettify())"
   ]
  },
  {
   "cell_type": "markdown",
   "metadata": {},
   "source": [
    "## Extract information from Each Listing"
   ]
  },
  {
   "cell_type": "code",
   "execution_count": 22,
   "metadata": {
    "collapsed": false
   },
   "outputs": [
    {
     "data": {
      "text/plain": [
       "{'city': 'Montevallo, AL',\n",
       " 'degree': 'Master',\n",
       " 'description': 'Class A Cert allows student to teach secondary education in the area of chemistry; offered as traditional and alternative.',\n",
       " 'major': '6-12 Secondary Education (Chemistry)',\n",
       " 'online': 'Campus',\n",
       " 'program': 'University of Montevallo',\n",
       " 'weblink': '/graduate-schools-in-united-states/alabama/university-montevallo-montevallo/6-12-secondary-education-chemistry-244726'}"
      ]
     },
     "execution_count": 22,
     "metadata": {},
     "output_type": "execute_result"
    }
   ],
   "source": [
    "def extract_record_info(record):\n",
    "    \"\"\"Returns dictionary of program data from an html record\"\"\"\n",
    "    data = {}\n",
    "    \n",
    "    data['city'] = record('address')[0].text\n",
    "    data['program'] = record('h4')[0].text\n",
    "    \n",
    "    aa = record('h3')[0]('a')[0]\n",
    "    data['major'] = aa.text\n",
    "    data['weblink'] = aa.attrs['href']\n",
    "    \n",
    "    pp = record('p')\n",
    "    data['description'] = pp[1].text\n",
    "    data['online'] = pp[2].text.lstrip().splitlines()[1]\n",
    "    data['degree'] = pp[3].text.lstrip().splitlines()[1]\n",
    "    \n",
    "    for key in data:\n",
    "        data[key] = data[key].lstrip().rstrip()\n",
    "        \n",
    "    return data\n",
    "\n",
    "programs = [extract_record_info(record) for record in records]\n",
    "programs[15]"
   ]
  },
  {
   "cell_type": "markdown",
   "metadata": {},
   "source": [
    "## Reformat data to a Pandas DataFrame"
   ]
  },
  {
   "cell_type": "code",
   "execution_count": 62,
   "metadata": {
    "collapsed": false
   },
   "outputs": [
    {
     "data": {
      "text/html": [
       "<div>\n",
       "<table border=\"1\" class=\"dataframe\">\n",
       "  <thead>\n",
       "    <tr style=\"text-align: right;\">\n",
       "      <th></th>\n",
       "      <th>city</th>\n",
       "      <th>degree</th>\n",
       "      <th>description</th>\n",
       "      <th>major</th>\n",
       "      <th>online</th>\n",
       "      <th>program</th>\n",
       "      <th>weblink</th>\n",
       "    </tr>\n",
       "  </thead>\n",
       "  <tbody>\n",
       "    <tr>\n",
       "      <th>0</th>\n",
       "      <td></td>\n",
       "      <td>Master</td>\n",
       "      <td>Address the needs of today's classrooms with a...</td>\n",
       "      <td>Master of Arts in Teaching - Secondary Social ...</td>\n",
       "      <td>Online</td>\n",
       "      <td>University of Southern California</td>\n",
       "      <td>/graduate-schools-in-united-states/online/univ...</td>\n",
       "    </tr>\n",
       "    <tr>\n",
       "      <th>1</th>\n",
       "      <td></td>\n",
       "      <td>Master</td>\n",
       "      <td>Increase your knowledge in teaching science at...</td>\n",
       "      <td>Master of Natural Sciences Education</td>\n",
       "      <td>Online</td>\n",
       "      <td>Colorado State University</td>\n",
       "      <td>/graduate-schools-in-united-states/online/colo...</td>\n",
       "    </tr>\n",
       "    <tr>\n",
       "      <th>2</th>\n",
       "      <td>Keene, NH</td>\n",
       "      <td>Master</td>\n",
       "      <td>This concentration is the only science teacher...</td>\n",
       "      <td>Environmental Studies (MS) with a concentratio...</td>\n",
       "      <td>Campus</td>\n",
       "      <td>Antioch University New England</td>\n",
       "      <td>/graduate-schools-in-united-states/new-hampshi...</td>\n",
       "    </tr>\n",
       "    <tr>\n",
       "      <th>3</th>\n",
       "      <td>Chicago, IL</td>\n",
       "      <td>Master</td>\n",
       "      <td>The M.Ed. in Science Education program has thr...</td>\n",
       "      <td>Science Education</td>\n",
       "      <td>Campus</td>\n",
       "      <td>Loyola University Chicago</td>\n",
       "      <td>/graduate-schools-in-united-states/illinois/lo...</td>\n",
       "    </tr>\n",
       "    <tr>\n",
       "      <th>4</th>\n",
       "      <td>Garden City, NY</td>\n",
       "      <td>Master</td>\n",
       "      <td>Our program leads to New York State certificat...</td>\n",
       "      <td>Science Education</td>\n",
       "      <td>Campus</td>\n",
       "      <td>Adelphi University</td>\n",
       "      <td>/graduate-schools-in-united-states/new-york/ad...</td>\n",
       "    </tr>\n",
       "    <tr>\n",
       "      <th>5</th>\n",
       "      <td>Galloway, OH</td>\n",
       "      <td>Master</td>\n",
       "      <td>The Master of Arts in Education Program helps ...</td>\n",
       "      <td>Education</td>\n",
       "      <td>Campus</td>\n",
       "      <td>Stockton University</td>\n",
       "      <td>/graduate-schools-in-united-states/new-jersey/...</td>\n",
       "    </tr>\n",
       "    <tr>\n",
       "      <th>6</th>\n",
       "      <td>New Britain, CT</td>\n",
       "      <td>Master</td>\n",
       "      <td></td>\n",
       "      <td>STEM Education for Certified Teachers M.S.</td>\n",
       "      <td>Campus</td>\n",
       "      <td>Central Connecticut State University</td>\n",
       "      <td>/graduate-schools-in-united-states/connecticut...</td>\n",
       "    </tr>\n",
       "    <tr>\n",
       "      <th>7</th>\n",
       "      <td>Teaneck, NJ</td>\n",
       "      <td>Master</td>\n",
       "      <td>Designed to prepare \"Highly-Qualified\" Element...</td>\n",
       "      <td>MA Science; Science Teaching Specialist Concen...</td>\n",
       "      <td>Campus</td>\n",
       "      <td>Fairleigh Dickinson University</td>\n",
       "      <td>/graduate-schools-in-united-states/new-jersey/...</td>\n",
       "    </tr>\n",
       "    <tr>\n",
       "      <th>8</th>\n",
       "      <td></td>\n",
       "      <td>Master</td>\n",
       "      <td>Master of Science in Physical Sciences (concen...</td>\n",
       "      <td>Physical Science</td>\n",
       "      <td>Online</td>\n",
       "      <td>Emporia State University</td>\n",
       "      <td>/graduate-schools-in-united-states/online/empo...</td>\n",
       "    </tr>\n",
       "    <tr>\n",
       "      <th>9</th>\n",
       "      <td>San Juan, PR</td>\n",
       "      <td>Master</td>\n",
       "      <td></td>\n",
       "      <td>Physics Education</td>\n",
       "      <td>Campus</td>\n",
       "      <td>University of Puerto Rico - Rio Piedras Campus</td>\n",
       "      <td>/graduate-schools-in-united-states/puerto-rico...</td>\n",
       "    </tr>\n",
       "  </tbody>\n",
       "</table>\n",
       "</div>"
      ],
      "text/plain": [
       "              city  degree                                        description  \\\n",
       "0                   Master  Address the needs of today's classrooms with a...   \n",
       "1                   Master  Increase your knowledge in teaching science at...   \n",
       "2        Keene, NH  Master  This concentration is the only science teacher...   \n",
       "3      Chicago, IL  Master  The M.Ed. in Science Education program has thr...   \n",
       "4  Garden City, NY  Master  Our program leads to New York State certificat...   \n",
       "5     Galloway, OH  Master  The Master of Arts in Education Program helps ...   \n",
       "6  New Britain, CT  Master                                                      \n",
       "7      Teaneck, NJ  Master  Designed to prepare \"Highly-Qualified\" Element...   \n",
       "8                   Master  Master of Science in Physical Sciences (concen...   \n",
       "9     San Juan, PR  Master                                                      \n",
       "\n",
       "                                               major  online  \\\n",
       "0  Master of Arts in Teaching - Secondary Social ...  Online   \n",
       "1               Master of Natural Sciences Education  Online   \n",
       "2  Environmental Studies (MS) with a concentratio...  Campus   \n",
       "3                                  Science Education  Campus   \n",
       "4                                  Science Education  Campus   \n",
       "5                                          Education  Campus   \n",
       "6         STEM Education for Certified Teachers M.S.  Campus   \n",
       "7  MA Science; Science Teaching Specialist Concen...  Campus   \n",
       "8                                   Physical Science  Online   \n",
       "9                                  Physics Education  Campus   \n",
       "\n",
       "                                          program  \\\n",
       "0               University of Southern California   \n",
       "1                       Colorado State University   \n",
       "2                  Antioch University New England   \n",
       "3                       Loyola University Chicago   \n",
       "4                              Adelphi University   \n",
       "5                             Stockton University   \n",
       "6            Central Connecticut State University   \n",
       "7                  Fairleigh Dickinson University   \n",
       "8                        Emporia State University   \n",
       "9  University of Puerto Rico - Rio Piedras Campus   \n",
       "\n",
       "                                             weblink  \n",
       "0  /graduate-schools-in-united-states/online/univ...  \n",
       "1  /graduate-schools-in-united-states/online/colo...  \n",
       "2  /graduate-schools-in-united-states/new-hampshi...  \n",
       "3  /graduate-schools-in-united-states/illinois/lo...  \n",
       "4  /graduate-schools-in-united-states/new-york/ad...  \n",
       "5  /graduate-schools-in-united-states/new-jersey/...  \n",
       "6  /graduate-schools-in-united-states/connecticut...  \n",
       "7  /graduate-schools-in-united-states/new-jersey/...  \n",
       "8  /graduate-schools-in-united-states/online/empo...  \n",
       "9  /graduate-schools-in-united-states/puerto-rico...  "
      ]
     },
     "execution_count": 62,
     "metadata": {},
     "output_type": "execute_result"
    }
   ],
   "source": [
    "df = pd.DataFrame(programs)\n",
    "\n",
    "# Clean up a bit...\n",
    "df.loc[(df['city'] == 'Online') | (df['city'] == ','), 'city'] = ''\n",
    "\n",
    "\n",
    "df.head(10)"
   ]
  },
  {
   "cell_type": "markdown",
   "metadata": {},
   "source": [
    "## Export Data to Excel"
   ]
  },
  {
   "cell_type": "code",
   "execution_count": 63,
   "metadata": {
    "collapsed": false
   },
   "outputs": [],
   "source": [
    "df.to_excel('Masters Ed Program List.xlsx')"
   ]
  },
  {
   "cell_type": "markdown",
   "metadata": {},
   "source": [
    "## Extra Credit: Get Lattitude and Longitude of Each Location, for Mapping"
   ]
  },
  {
   "cell_type": "code",
   "execution_count": 20,
   "metadata": {
    "collapsed": true
   },
   "outputs": [],
   "source": [
    "from geopy.geocoders import Nominatim\n",
    "geolocator = Nominatim()\n",
    "location = geolocator.geocode(\"175 5th Avenue NYC\")"
   ]
  },
  {
   "cell_type": "code",
   "execution_count": 21,
   "metadata": {
    "collapsed": false
   },
   "outputs": [],
   "source": [
    "# df['city'].apply(geolocator.geocode)"
   ]
  },
  {
   "cell_type": "code",
   "execution_count": 25,
   "metadata": {
    "collapsed": false
   },
   "outputs": [
    {
     "data": {
      "text/plain": [
       "Location(Chicago, Cook County, Illinois, United States of America, (41.8755546, -87.6244211, 0.0))"
      ]
     },
     "execution_count": 25,
     "metadata": {},
     "output_type": "execute_result"
    }
   ],
   "source": [
    "city = df['city'][3]\n",
    "geolocator.geocode(city)"
   ]
  },
  {
   "cell_type": "code",
   "execution_count": 67,
   "metadata": {
    "collapsed": false,
    "scrolled": false
   },
   "outputs": [
    {
     "name": "stdout",
     "output_type": "stream",
     "text": [
      "Complete: \n",
      "Complete: \n",
      "Complete: Keene, NH\n",
      "Complete: Chicago, IL\n",
      "Complete: Garden City, NY\n",
      "Complete: Galloway, OH\n",
      "Complete: New Britain, CT\n",
      "Complete: Teaneck, NJ\n",
      "Complete: \n",
      "Complete: San Juan, PR\n",
      "Complete: Allendale, MI\n",
      "Complete: Buffalo, NY\n",
      "Complete: Bellingham, WA\n",
      "Complete: East Stroudsburg, PA\n",
      "Complete: Malvern, Australia\n",
      "Complete: Montevallo, AL\n",
      "Complete: Newport News, VA\n",
      "Complete: Pretoria, South Africa\n",
      "Complete: Colorado Springs, CO\n",
      "Complete: Hamilton, NY\n",
      "Complete: Greenville, NC\n",
      "Complete: \n",
      "Complete: Madison, IL\n",
      "Complete: \n",
      "Complete: Bangkok, Thailand\n",
      "Complete: Grahamstown, South Africa\n",
      "Complete: Ishikawa, Japan\n",
      "Complete: Lyndonville, VT\n",
      "Complete: Ankara, Turkey\n",
      "Complete: Oxford, OH\n",
      "Complete: Akron, OH\n",
      "Complete: Corvallis, OR\n",
      "Complete: Nagoya, Japan\n",
      "Complete: Irvine, CA\n",
      "Complete: Detroit, MI\n",
      "Complete: Vancouver, BC\n",
      "Complete: \n",
      "Complete: Bronx, NY\n",
      "Complete: Bozeman, MT\n",
      "Complete: Houston, TX\n",
      "Complete: Victoria, BC\n",
      "Complete: Bowling Green, OH\n",
      "Complete: Fitchburg, MA\n",
      "Complete: Shippensburg, PA\n",
      "Complete: Orlando, FL\n",
      "Complete: Buffalo, NY\n",
      "Complete: Cedar Falls, IA\n",
      "Complete: Leeds, United Kingdom\n",
      "Complete: Boston, MA\n",
      "Complete: Suva, Fiji\n",
      "Complete: Hampton, VA\n",
      "Complete: Livingston, AL\n",
      "Complete: Buffalo, NY\n",
      "Complete: Tampa, FL\n",
      "Complete: Keene, NH\n",
      "Complete: Austin, TX\n",
      "Complete: \n",
      "Complete: Richardson, TX\n",
      "Complete: Suva, Fiji\n",
      "Complete: Boston, MA\n",
      "Complete: Ypsilanti, MI\n",
      "Complete: Yokohama, Japan\n",
      "Complete: Charleston, SC\n",
      "Complete: Athens, GA\n",
      "Complete: Hamilton, New Zealand\n",
      "Complete: Madison, IL\n",
      "Complete: Wilkes-Barre, PA\n",
      "Complete: Leeds, United Kingdom\n",
      "Complete: Amsterdam, Netherlands\n",
      "Complete: Kingston, Jamaica\n",
      "Complete: Plymouth, IL\n",
      "Complete: Utrecht, Netherlands\n",
      "Complete: Iowa City, IA\n",
      "Complete: Moscow, ID\n",
      "Complete: Diliman, Philippines\n",
      "Complete: \n",
      "Complete: Charleston, SC\n",
      "Complete: Dover, DE\n",
      "Complete: Wayne, NE\n",
      "Complete: Cincinnati, OH\n",
      "Complete: Fukushima, Japan\n",
      "Complete: Amsterdam, Netherlands\n",
      "Complete: Plymouth, IL\n",
      "Complete: Glenside, PA\n",
      "Complete: Victoria, BC\n",
      "Complete: Houston, TX\n",
      "Complete: Bozeman, MT\n",
      "Complete: Binghamton, NY\n",
      "Complete: Buffalo, NY\n",
      "Complete: Dunedin, New Zealand\n",
      "Complete: Macon, GA\n",
      "Complete: Tulsa, OK\n",
      "Complete: Greenville, NC\n",
      "Complete: Detroit, MI\n",
      "Complete: Mequon, WI\n",
      "Complete: Seattle, WA\n",
      "Complete: Vancouver, BC\n",
      "Complete: Tallahassee, FL\n",
      "Complete: \n",
      "Complete: Cullowhee, NC\n",
      "Complete: Houston, TX\n",
      "Complete: New Britain, CT\n",
      "Complete: Buies Creek, NC\n",
      "Complete: Victoria, BC\n",
      "Complete: Mount Pleasant, MI\n",
      "Complete: Amsterdam, Netherlands\n",
      "Complete: Fukushima, Japan\n",
      "Complete: Irvine, CA\n",
      "Complete: Glenside, PA\n",
      "Complete: \n",
      "Complete: Knoxville, TN\n",
      "Complete: New Orleans, LA\n",
      "Complete: Grahamstown, South Africa\n",
      "Complete: London, United Kingdom\n",
      "Complete: Baltimore, MD\n",
      "Complete: Kobe, Japan\n",
      "Complete: Haifa, Israel\n",
      "Complete: Pembroke, NC\n",
      "Complete: Manila, Philippines\n",
      "Complete: Grambling, LA\n",
      "Complete: Monmouth, OR\n",
      "Complete: Orangeburg, SC\n",
      "Complete: New Paltz, NY\n",
      "Complete: Higashihiroshima, Japan\n",
      "Complete: Haifa, Israel\n",
      "Complete: \n",
      "Complete: Cape Town, South Africa\n",
      "Complete: Athens, GA\n",
      "Complete: Tuskegee, AL\n",
      "Complete: Stony Brook, NY\n",
      "Complete: Salem, MA\n",
      "Complete: Chiang Mai, Thailand\n",
      "Complete: Montevallo, AL\n",
      "Complete: Greensboro, NC\n",
      "Complete: Shijiazhuang, China\n",
      "Complete: Minot, MA\n",
      "Complete: Flagstaff, AZ\n",
      "Complete: Raleigh, NC\n",
      "Complete: New Haven, CT\n",
      "Complete: Jackson, MS\n",
      "Complete: Bridgewater, MA\n",
      "Complete: Montgomery, AL\n",
      "Complete: Chicago, IL\n",
      "Complete: \n",
      "Complete: Ruston, LA\n",
      "Complete: New York City, NY\n",
      "Complete: \n",
      "Complete: Pine Bluff, AR\n",
      "Complete: Nagoya, Japan\n",
      "Complete: Seoul, Korea\n",
      "Complete: Kobe, Japan\n",
      "Complete: Annville, PA\n",
      "Complete: Flushing, NY\n",
      "Complete: Shijiazhuang, China\n",
      "Complete: Nagoya, Japan\n",
      "Complete: Boise, ID\n",
      "Complete: Colorado Springs, CO\n",
      "Complete: Amsterdam, Netherlands\n",
      "Complete: Bronx, NY\n",
      "Complete: Lawrence, IN\n",
      "Complete: Glenside, PA\n",
      "Complete: San German, PR\n",
      "Complete: Okayama, Japan\n",
      "Complete: Athens, GA\n",
      "Complete: Victoria, BC\n",
      "Complete: Cape Town, South Africa\n",
      "Complete: Matsue, Japan\n",
      "Complete: Cortland, NY\n",
      "Complete: Providence, RI\n",
      "Complete: Orangeburg, SC\n",
      "Complete: Buffalo, NY\n",
      "Complete: Kingston, RI\n",
      "Complete: Houston, TX\n",
      "Complete: \n",
      "Complete: Natchitoches, LA\n",
      "Complete: Bellingham, WA\n",
      "Complete: Salem, MA\n",
      "Complete: Utrecht, Netherlands\n",
      "Complete: Tochigi, Japan\n",
      "Complete: Hattiesburg, MS\n",
      "Complete: New Britain, CT\n",
      "Complete: Buies Creek, NC\n",
      "Complete: Orono, ME\n",
      "Complete: Mount Pleasant, MI\n",
      "Complete: Cedar Falls, IA\n",
      "Complete: Orlando, FL\n",
      "Complete: Tuskegee, AL\n",
      "Complete: Iowa City, IA\n",
      "Complete: Chiba, Japan\n",
      "Complete: Cincinnati, OH\n",
      "Complete: Wayne, NE\n",
      "Complete: Kalamazoo, MI\n",
      "Complete: Dover, DE\n",
      "Complete: Brooklyn, NY\n",
      "Complete: Charleston, SC\n",
      "Complete: Glasgow, United Kingdom\n",
      "Complete: Nashville, GA\n",
      "Complete: \n",
      "Complete: \n"
     ]
    },
    {
     "data": {
      "text/plain": [
       "[None,\n",
       " None,\n",
       " Location(Keene, Cheshire County, New Hampshire, United States of America, (42.933597, -72.2784263, 0.0)),\n",
       " Location(Chicago, Cook County, Illinois, United States of America, (41.8755546, -87.6244211, 0.0)),\n",
       " Location(Garden City, New York, United States of America, (40.7266477, -73.6343051, 0.0)),\n",
       " Location(Galloway, Franklin County, Ohio, United States of America, (39.9139207, -83.1633335, 0.0)),\n",
       " Location(Town of New Britain, Hartford County, Connecticut, United States of America, (41.68174355, -72.7881464300835, 0.0)),\n",
       " Location(Teaneck, Bergen County, New Jersey, United States of America, (40.8975992, -74.0159726, 0.0)),\n",
       " None,\n",
       " Location(San Juan Royal, 468, Avenida Cândido de Abreu, São Francisco, Curitiba, Microrregião de Curitiba, Mesorregião Metropolitana de Curitiba, PR, Região Sul, 80530-000, Brasil, (-25.4207039, -49.2688138757722, 0.0))]"
      ]
     },
     "execution_count": 67,
     "metadata": {},
     "output_type": "execute_result"
    }
   ],
   "source": [
    "cities = []\n",
    "for city in df['city']:\n",
    "    cities.append(geolocator.geocode(city, timeout=4))\n",
    "    print(\"Complete: {}\".format(city))\n",
    "    \n",
    "cities[:10]    "
   ]
  },
  {
   "cell_type": "code",
   "execution_count": 68,
   "metadata": {
    "collapsed": false
   },
   "outputs": [
    {
     "data": {
      "text/plain": [
       "''"
      ]
     },
     "execution_count": 68,
     "metadata": {},
     "output_type": "execute_result"
    }
   ],
   "source": [
    "city"
   ]
  },
  {
   "cell_type": "code",
   "execution_count": 82,
   "metadata": {
    "collapsed": false
   },
   "outputs": [
    {
     "data": {
      "text/plain": [
       "['',\n",
       " '',\n",
       " 'Keene, Cheshire County, New Hampshire, United States of America',\n",
       " 'Chicago, Cook County, Illinois, United States of America',\n",
       " 'Garden City, New York, United States of America',\n",
       " 'Galloway, Franklin County, Ohio, United States of America',\n",
       " 'Town of New Britain, Hartford County, Connecticut, United States of America',\n",
       " 'Teaneck, Bergen County, New Jersey, United States of America',\n",
       " '',\n",
       " 'San Juan Royal, 468, Avenida Cândido de Abreu, São Francisco, Curitiba, Microrregião de Curitiba, Mesorregião Metropolitana de Curitiba, PR, Região Sul, 80530-000, Brasil']"
      ]
     },
     "execution_count": 82,
     "metadata": {},
     "output_type": "execute_result"
    }
   ],
   "source": [
    "city_full, lattitudes, longitudes, importances = [], [], [], []\n",
    "for city in cities:\n",
    "    aa = city.address if city else ''\n",
    "    city_full.append(aa)\n",
    "    \n",
    "    aa = city.latitude if city else None\n",
    "    lattitudes.append(aa)\n",
    "    \n",
    "    aa = city.longitude if city else None\n",
    "    longitudes.append(aa)\n",
    "    \n",
    "    aa = city.raw['importance'] if city else None\n",
    "    importances.append(aa)\n",
    "        \n",
    "city_full[:10]"
   ]
  },
  {
   "cell_type": "code",
   "execution_count": 83,
   "metadata": {
    "collapsed": false
   },
   "outputs": [
    {
     "data": {
      "text/html": [
       "<div>\n",
       "<table border=\"1\" class=\"dataframe\">\n",
       "  <thead>\n",
       "    <tr style=\"text-align: right;\">\n",
       "      <th></th>\n",
       "      <th>city</th>\n",
       "      <th>degree</th>\n",
       "      <th>description</th>\n",
       "      <th>major</th>\n",
       "      <th>online</th>\n",
       "      <th>program</th>\n",
       "      <th>weblink</th>\n",
       "      <th>lattitude</th>\n",
       "      <th>longitude</th>\n",
       "      <th>city detailed</th>\n",
       "      <th>city importance</th>\n",
       "    </tr>\n",
       "  </thead>\n",
       "  <tbody>\n",
       "    <tr>\n",
       "      <th>0</th>\n",
       "      <td></td>\n",
       "      <td>Master</td>\n",
       "      <td>Address the needs of today's classrooms with a...</td>\n",
       "      <td>Master of Arts in Teaching - Secondary Social ...</td>\n",
       "      <td>Online</td>\n",
       "      <td>University of Southern California</td>\n",
       "      <td>/graduate-schools-in-united-states/online/univ...</td>\n",
       "      <td>NaN</td>\n",
       "      <td>NaN</td>\n",
       "      <td></td>\n",
       "      <td>NaN</td>\n",
       "    </tr>\n",
       "    <tr>\n",
       "      <th>1</th>\n",
       "      <td></td>\n",
       "      <td>Master</td>\n",
       "      <td>Increase your knowledge in teaching science at...</td>\n",
       "      <td>Master of Natural Sciences Education</td>\n",
       "      <td>Online</td>\n",
       "      <td>Colorado State University</td>\n",
       "      <td>/graduate-schools-in-united-states/online/colo...</td>\n",
       "      <td>NaN</td>\n",
       "      <td>NaN</td>\n",
       "      <td></td>\n",
       "      <td>NaN</td>\n",
       "    </tr>\n",
       "    <tr>\n",
       "      <th>2</th>\n",
       "      <td>Keene, NH</td>\n",
       "      <td>Master</td>\n",
       "      <td>This concentration is the only science teacher...</td>\n",
       "      <td>Environmental Studies (MS) with a concentratio...</td>\n",
       "      <td>Campus</td>\n",
       "      <td>Antioch University New England</td>\n",
       "      <td>/graduate-schools-in-united-states/new-hampshi...</td>\n",
       "      <td>42.933597</td>\n",
       "      <td>-72.278426</td>\n",
       "      <td>Keene, Cheshire County, New Hampshire, United ...</td>\n",
       "      <td>0.528618</td>\n",
       "    </tr>\n",
       "    <tr>\n",
       "      <th>3</th>\n",
       "      <td>Chicago, IL</td>\n",
       "      <td>Master</td>\n",
       "      <td>The M.Ed. in Science Education program has thr...</td>\n",
       "      <td>Science Education</td>\n",
       "      <td>Campus</td>\n",
       "      <td>Loyola University Chicago</td>\n",
       "      <td>/graduate-schools-in-united-states/illinois/lo...</td>\n",
       "      <td>41.875555</td>\n",
       "      <td>-87.624421</td>\n",
       "      <td>Chicago, Cook County, Illinois, United States ...</td>\n",
       "      <td>0.992648</td>\n",
       "    </tr>\n",
       "    <tr>\n",
       "      <th>4</th>\n",
       "      <td>Garden City, NY</td>\n",
       "      <td>Master</td>\n",
       "      <td>Our program leads to New York State certificat...</td>\n",
       "      <td>Science Education</td>\n",
       "      <td>Campus</td>\n",
       "      <td>Adelphi University</td>\n",
       "      <td>/graduate-schools-in-united-states/new-york/ad...</td>\n",
       "      <td>40.726648</td>\n",
       "      <td>-73.634305</td>\n",
       "      <td>Garden City, New York, United States of America</td>\n",
       "      <td>0.630725</td>\n",
       "    </tr>\n",
       "  </tbody>\n",
       "</table>\n",
       "</div>"
      ],
      "text/plain": [
       "              city  degree                                        description  \\\n",
       "0                   Master  Address the needs of today's classrooms with a...   \n",
       "1                   Master  Increase your knowledge in teaching science at...   \n",
       "2        Keene, NH  Master  This concentration is the only science teacher...   \n",
       "3      Chicago, IL  Master  The M.Ed. in Science Education program has thr...   \n",
       "4  Garden City, NY  Master  Our program leads to New York State certificat...   \n",
       "\n",
       "                                               major  online  \\\n",
       "0  Master of Arts in Teaching - Secondary Social ...  Online   \n",
       "1               Master of Natural Sciences Education  Online   \n",
       "2  Environmental Studies (MS) with a concentratio...  Campus   \n",
       "3                                  Science Education  Campus   \n",
       "4                                  Science Education  Campus   \n",
       "\n",
       "                             program  \\\n",
       "0  University of Southern California   \n",
       "1          Colorado State University   \n",
       "2     Antioch University New England   \n",
       "3          Loyola University Chicago   \n",
       "4                 Adelphi University   \n",
       "\n",
       "                                             weblink  lattitude  longitude  \\\n",
       "0  /graduate-schools-in-united-states/online/univ...        NaN        NaN   \n",
       "1  /graduate-schools-in-united-states/online/colo...        NaN        NaN   \n",
       "2  /graduate-schools-in-united-states/new-hampshi...  42.933597 -72.278426   \n",
       "3  /graduate-schools-in-united-states/illinois/lo...  41.875555 -87.624421   \n",
       "4  /graduate-schools-in-united-states/new-york/ad...  40.726648 -73.634305   \n",
       "\n",
       "                                       city detailed  city importance  \n",
       "0                                                                 NaN  \n",
       "1                                                                 NaN  \n",
       "2  Keene, Cheshire County, New Hampshire, United ...         0.528618  \n",
       "3  Chicago, Cook County, Illinois, United States ...         0.992648  \n",
       "4    Garden City, New York, United States of America         0.630725  "
      ]
     },
     "execution_count": 83,
     "metadata": {},
     "output_type": "execute_result"
    }
   ],
   "source": [
    "df['lattitude'] = lattitudes\n",
    "df['longitude'] = longitudes\n",
    "df['city detailed'] = city_full\n",
    "df['city importance'] = importances\n",
    "\n",
    "df.head()"
   ]
  },
  {
   "cell_type": "code",
   "execution_count": 84,
   "metadata": {
    "collapsed": false
   },
   "outputs": [],
   "source": [
    "city"
   ]
  },
  {
   "cell_type": "markdown",
   "metadata": {},
   "source": [
    "## Export New Data to Excel"
   ]
  },
  {
   "cell_type": "code",
   "execution_count": 89,
   "metadata": {
    "collapsed": false
   },
   "outputs": [
    {
     "ename": "ImportError",
     "evalue": "HDFStore requires PyTables, \"No module named 'tables'\" problem importing",
     "output_type": "error",
     "traceback": [
      "\u001b[1;31m---------------------------------------------------------------------------\u001b[0m",
      "\u001b[1;31mImportError\u001b[0m                               Traceback (most recent call last)",
      "\u001b[1;32m/usr/local/lib/python3.4/dist-packages/pandas/io/pytables.py\u001b[0m in \u001b[0;36m__init__\u001b[1;34m(self, path, mode, complevel, complib, fletcher32, **kwargs)\u001b[0m\n\u001b[0;32m    385\u001b[0m         \u001b[1;32mtry\u001b[0m\u001b[1;33m:\u001b[0m\u001b[1;33m\u001b[0m\u001b[0m\n\u001b[1;32m--> 386\u001b[1;33m             \u001b[1;32mimport\u001b[0m \u001b[0mtables\u001b[0m  \u001b[1;31m# noqa\u001b[0m\u001b[1;33m\u001b[0m\u001b[0m\n\u001b[0m\u001b[0;32m    387\u001b[0m         \u001b[1;32mexcept\u001b[0m \u001b[0mImportError\u001b[0m \u001b[1;32mas\u001b[0m \u001b[0mex\u001b[0m\u001b[1;33m:\u001b[0m  \u001b[1;31m# pragma: no cover\u001b[0m\u001b[1;33m\u001b[0m\u001b[0m\n",
      "\u001b[1;31mImportError\u001b[0m: No module named 'tables'",
      "\nDuring handling of the above exception, another exception occurred:\n",
      "\u001b[1;31mImportError\u001b[0m                               Traceback (most recent call last)",
      "\u001b[1;32m<ipython-input-89-01842c4cac41>\u001b[0m in \u001b[0;36m<module>\u001b[1;34m()\u001b[0m\n\u001b[0;32m      1\u001b[0m \u001b[0mdf\u001b[0m\u001b[1;33m.\u001b[0m\u001b[0mto_excel\u001b[0m\u001b[1;33m(\u001b[0m\u001b[1;34m'Masters Ed Program List (with mapdata).xlsx'\u001b[0m\u001b[1;33m)\u001b[0m\u001b[1;33m\u001b[0m\u001b[0m\n\u001b[1;32m----> 2\u001b[1;33m \u001b[0mdf\u001b[0m\u001b[1;33m.\u001b[0m\u001b[0mto_hdf\u001b[0m\u001b[1;33m(\u001b[0m\u001b[1;34m'Masters Ed Program List (with mapdata).h5'\u001b[0m\u001b[1;33m,\u001b[0m \u001b[1;34m'data'\u001b[0m\u001b[1;33m)\u001b[0m\u001b[1;33m\u001b[0m\u001b[0m\n\u001b[0m",
      "\u001b[1;32m/usr/local/lib/python3.4/dist-packages/pandas/core/generic.py\u001b[0m in \u001b[0;36mto_hdf\u001b[1;34m(self, path_or_buf, key, **kwargs)\u001b[0m\n\u001b[0;32m   1094\u001b[0m \u001b[1;33m\u001b[0m\u001b[0m\n\u001b[0;32m   1095\u001b[0m         \u001b[1;32mfrom\u001b[0m \u001b[0mpandas\u001b[0m\u001b[1;33m.\u001b[0m\u001b[0mio\u001b[0m \u001b[1;32mimport\u001b[0m \u001b[0mpytables\u001b[0m\u001b[1;33m\u001b[0m\u001b[0m\n\u001b[1;32m-> 1096\u001b[1;33m         \u001b[1;32mreturn\u001b[0m \u001b[0mpytables\u001b[0m\u001b[1;33m.\u001b[0m\u001b[0mto_hdf\u001b[0m\u001b[1;33m(\u001b[0m\u001b[0mpath_or_buf\u001b[0m\u001b[1;33m,\u001b[0m \u001b[0mkey\u001b[0m\u001b[1;33m,\u001b[0m \u001b[0mself\u001b[0m\u001b[1;33m,\u001b[0m \u001b[1;33m**\u001b[0m\u001b[0mkwargs\u001b[0m\u001b[1;33m)\u001b[0m\u001b[1;33m\u001b[0m\u001b[0m\n\u001b[0m\u001b[0;32m   1097\u001b[0m \u001b[1;33m\u001b[0m\u001b[0m\n\u001b[0;32m   1098\u001b[0m     \u001b[1;32mdef\u001b[0m \u001b[0mto_msgpack\u001b[0m\u001b[1;33m(\u001b[0m\u001b[0mself\u001b[0m\u001b[1;33m,\u001b[0m \u001b[0mpath_or_buf\u001b[0m\u001b[1;33m=\u001b[0m\u001b[1;32mNone\u001b[0m\u001b[1;33m,\u001b[0m \u001b[0mencoding\u001b[0m\u001b[1;33m=\u001b[0m\u001b[1;34m'utf-8'\u001b[0m\u001b[1;33m,\u001b[0m \u001b[1;33m**\u001b[0m\u001b[0mkwargs\u001b[0m\u001b[1;33m)\u001b[0m\u001b[1;33m:\u001b[0m\u001b[1;33m\u001b[0m\u001b[0m\n",
      "\u001b[1;32m/usr/local/lib/python3.4/dist-packages/pandas/io/pytables.py\u001b[0m in \u001b[0;36mto_hdf\u001b[1;34m(path_or_buf, key, value, mode, complevel, complib, append, **kwargs)\u001b[0m\n\u001b[0;32m    257\u001b[0m     \u001b[1;32mif\u001b[0m \u001b[0misinstance\u001b[0m\u001b[1;33m(\u001b[0m\u001b[0mpath_or_buf\u001b[0m\u001b[1;33m,\u001b[0m \u001b[0mstring_types\u001b[0m\u001b[1;33m)\u001b[0m\u001b[1;33m:\u001b[0m\u001b[1;33m\u001b[0m\u001b[0m\n\u001b[0;32m    258\u001b[0m         with HDFStore(path_or_buf, mode=mode, complevel=complevel,\n\u001b[1;32m--> 259\u001b[1;33m                       complib=complib) as store:\n\u001b[0m\u001b[0;32m    260\u001b[0m             \u001b[0mf\u001b[0m\u001b[1;33m(\u001b[0m\u001b[0mstore\u001b[0m\u001b[1;33m)\u001b[0m\u001b[1;33m\u001b[0m\u001b[0m\n\u001b[0;32m    261\u001b[0m     \u001b[1;32melse\u001b[0m\u001b[1;33m:\u001b[0m\u001b[1;33m\u001b[0m\u001b[0m\n",
      "\u001b[1;32m/usr/local/lib/python3.4/dist-packages/pandas/io/pytables.py\u001b[0m in \u001b[0;36m__init__\u001b[1;34m(self, path, mode, complevel, complib, fletcher32, **kwargs)\u001b[0m\n\u001b[0;32m    387\u001b[0m         \u001b[1;32mexcept\u001b[0m \u001b[0mImportError\u001b[0m \u001b[1;32mas\u001b[0m \u001b[0mex\u001b[0m\u001b[1;33m:\u001b[0m  \u001b[1;31m# pragma: no cover\u001b[0m\u001b[1;33m\u001b[0m\u001b[0m\n\u001b[0;32m    388\u001b[0m             raise ImportError('HDFStore requires PyTables, \"{ex}\" problem '\n\u001b[1;32m--> 389\u001b[1;33m                               'importing'.format(ex=str(ex)))\n\u001b[0m\u001b[0;32m    390\u001b[0m \u001b[1;33m\u001b[0m\u001b[0m\n\u001b[0;32m    391\u001b[0m         \u001b[1;32mif\u001b[0m \u001b[0mcomplib\u001b[0m \u001b[1;32mnot\u001b[0m \u001b[1;32min\u001b[0m \u001b[1;33m(\u001b[0m\u001b[1;32mNone\u001b[0m\u001b[1;33m,\u001b[0m \u001b[1;34m'blosc'\u001b[0m\u001b[1;33m,\u001b[0m \u001b[1;34m'bzip2'\u001b[0m\u001b[1;33m,\u001b[0m \u001b[1;34m'lzo'\u001b[0m\u001b[1;33m,\u001b[0m \u001b[1;34m'zlib'\u001b[0m\u001b[1;33m)\u001b[0m\u001b[1;33m:\u001b[0m\u001b[1;33m\u001b[0m\u001b[0m\n",
      "\u001b[1;31mImportError\u001b[0m: HDFStore requires PyTables, \"No module named 'tables'\" problem importing"
     ]
    }
   ],
   "source": [
    "df.to_excel('Masters Ed Program List (with mapdata).xlsx')\n",
    "df.to_hdf('Masters Ed Program List (with mapdata).h5', 'data')"
   ]
  }
 ],
 "metadata": {
  "kernelspec": {
   "display_name": "Python 3",
   "language": "python",
   "name": "python3"
  },
  "language_info": {
   "codemirror_mode": {
    "name": "ipython",
    "version": 3
   },
   "file_extension": ".py",
   "mimetype": "text/x-python",
   "name": "python",
   "nbconvert_exporter": "python",
   "pygments_lexer": "ipython3",
   "version": "3.5.1"
  }
 },
 "nbformat": 4,
 "nbformat_minor": 0
}
