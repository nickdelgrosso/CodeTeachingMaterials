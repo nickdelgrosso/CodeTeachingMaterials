{
 "cells": [
  {
   "cell_type": "code",
   "execution_count": 1,
   "metadata": {},
   "outputs": [],
   "source": [
    "from pathlib import Path\n",
    "from typing import *\n",
    "import json\n",
    "from dataclasses import dataclass, fields"
   ]
  },
  {
   "cell_type": "code",
   "execution_count": 11,
   "metadata": {},
   "outputs": [],
   "source": [
    "import requests"
   ]
  },
  {
   "cell_type": "code",
   "execution_count": 44,
   "metadata": {},
   "outputs": [],
   "source": [
    "text = Path('../examples/dja23n2.json').read_text()\n",
    "data = json.loads(text)\n"
   ]
  },
  {
   "cell_type": "code",
   "execution_count": 55,
   "metadata": {},
   "outputs": [
    {
     "data": {
      "text/plain": [
       "{'Reproducibility in Science': ['Computational vs Empirical Reproducibility',\n",
       "  'Reproducibility Crisis',\n",
       "  'FAIR Data Principles'],\n",
       " 'Data Sharing': ['Accessible Data Storage: URLs, PIDs, and DOIs',\n",
       "  'Dataset Metadata',\n",
       "  'Licensing',\n",
       "  'Data Sharing Platforms'],\n",
       " 'Data Structuring': ['Data Schemas',\n",
       "  'Self-Describing Data Formats',\n",
       "  'Code and Data Integration: Data Packages vs Structured Data Format vs Database System',\n",
       "  'Data Harmonization'],\n",
       " 'Data Versioning': ['Within-Analysis Data Provenance',\n",
       "  'Version Control Systems',\n",
       "  'What to Save: Data vs Code, Data vs Parameter, Data vs Code, Data vs Build Artifact',\n",
       "  'Non-Destructive Data Processing'],\n",
       " 'Research Artifacts': ['Artififact-as-Data vs Artifact-as-Code',\n",
       "  'Automation and The Command Line',\n",
       "  'Compuational Environment Reproduction: Package Managers, Virtual Environments, and Containerization Tools',\n",
       "  'Data Pipeline Workflow Managers',\n",
       "  'The Scientific Filesystem']}"
      ]
     },
     "execution_count": 55,
     "metadata": {},
     "output_type": "execute_result"
    }
   ],
   "source": [
    "names = {ll['name']: [c['name'] for c in data['cards'] if c['idList'] == ll['id']] for ll in data['lists']}\n",
    "names"
   ]
  },
  {
   "cell_type": "code",
   "execution_count": 46,
   "metadata": {},
   "outputs": [],
   "source": [
    "from jinja2 import Template"
   ]
  },
  {
   "cell_type": "code",
   "execution_count": 50,
   "metadata": {},
   "outputs": [],
   "source": [
    "from IPython.display import HTML"
   ]
  },
  {
   "cell_type": "code",
   "execution_count": 61,
   "metadata": {},
   "outputs": [
    {
     "data": {
      "text/html": [
       "\n",
       "<ul>\n",
       "\n",
       "    <li>Reproducibility in Science\n",
       "    <ul>\n",
       "    \n",
       "        <li>Computational vs Empirical Reproducibility</li>\n",
       "    \n",
       "        <li>Reproducibility Crisis</li>\n",
       "    \n",
       "        <li>FAIR Data Principles</li>\n",
       "    \n",
       "    </ul>\n",
       "    </li>\n",
       "\n",
       "    <li>Data Sharing\n",
       "    <ul>\n",
       "    \n",
       "        <li>Accessible Data Storage: URLs, PIDs, and DOIs</li>\n",
       "    \n",
       "        <li>Dataset Metadata</li>\n",
       "    \n",
       "        <li>Licensing</li>\n",
       "    \n",
       "        <li>Data Sharing Platforms</li>\n",
       "    \n",
       "    </ul>\n",
       "    </li>\n",
       "\n",
       "    <li>Data Structuring\n",
       "    <ul>\n",
       "    \n",
       "        <li>Data Schemas</li>\n",
       "    \n",
       "        <li>Self-Describing Data Formats</li>\n",
       "    \n",
       "        <li>Code and Data Integration: Data Packages vs Structured Data Format vs Database System</li>\n",
       "    \n",
       "        <li>Data Harmonization</li>\n",
       "    \n",
       "    </ul>\n",
       "    </li>\n",
       "\n",
       "    <li>Data Versioning\n",
       "    <ul>\n",
       "    \n",
       "        <li>Within-Analysis Data Provenance</li>\n",
       "    \n",
       "        <li>Version Control Systems</li>\n",
       "    \n",
       "        <li>What to Save: Data vs Code, Data vs Parameter, Data vs Code, Data vs Build Artifact</li>\n",
       "    \n",
       "        <li>Non-Destructive Data Processing</li>\n",
       "    \n",
       "    </ul>\n",
       "    </li>\n",
       "\n",
       "    <li>Research Artifacts\n",
       "    <ul>\n",
       "    \n",
       "        <li>Artififact-as-Data vs Artifact-as-Code</li>\n",
       "    \n",
       "        <li>Automation and The Command Line</li>\n",
       "    \n",
       "        <li>Compuational Environment Reproduction: Package Managers, Virtual Environments, and Containerization Tools</li>\n",
       "    \n",
       "        <li>Data Pipeline Workflow Managers</li>\n",
       "    \n",
       "        <li>The Scientific Filesystem</li>\n",
       "    \n",
       "    </ul>\n",
       "    </li>\n",
       "\n",
       "</ul>"
      ],
      "text/plain": [
       "<IPython.core.display.HTML object>"
      ]
     },
     "execution_count": 61,
     "metadata": {},
     "output_type": "execute_result"
    }
   ],
   "source": [
    "html = Template(\"\"\"\n",
    "<ul>\n",
    "{% for key, values in lists.items() %}\n",
    "    <li>{{ key }}\n",
    "    <ul>\n",
    "    {% for card in values %}\n",
    "        <li>{{ card }}</li>\n",
    "    {% endfor %}\n",
    "    </ul>\n",
    "    </li>\n",
    "{% endfor %}\n",
    "</ul>\n",
    "\"\"\").render(lists=names)\n",
    "\n",
    "HTML(html)\n",
    "# print(html)"
   ]
  },
  {
   "cell_type": "code",
   "execution_count": null,
   "metadata": {},
   "outputs": [],
   "source": []
  }
 ],
 "metadata": {
  "jupytext": {
   "cell_metadata_filter": "-all",
   "main_language": "python",
   "notebook_metadata_filter": "-all"
  },
  "kernelspec": {
   "display_name": "Python 3",
   "language": "python",
   "name": "python3"
  },
  "language_info": {
   "codemirror_mode": {
    "name": "ipython",
    "version": 3
   },
   "file_extension": ".py",
   "mimetype": "text/x-python",
   "name": "python",
   "nbconvert_exporter": "python",
   "pygments_lexer": "ipython3",
   "version": "3.7.4"
  }
 },
 "nbformat": 4,
 "nbformat_minor": 4
}
